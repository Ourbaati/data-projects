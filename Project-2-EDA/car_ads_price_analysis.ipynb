{
 "cells": [
  {
   "cell_type": "markdown",
   "metadata": {},
   "source": [
    "<h1 style='text-align: center; front-size: 50px;'>Car Advertisement Price Analysis</h1>"
   ]
  },
  {
   "cell_type": "markdown",
   "metadata": {},
   "source": [
    "## Itroduction:\n",
    "\n",
    "In this project, we will work with data from Car Advertisement. Our mission is to clean up the data and prepare a report that gives insight into the pricing based on many factors such as the mileage and the condition. The dataset is stored in a downloadable file. During our data preprocessing we will: Display the dataset following the standardized format, Verify and fix data types, Identify and fill in missing values, Identify and remove duplicate values, Create plots that communicate clear and concise understanding of the data."
   ]
  },
  {
   "cell_type": "code",
   "execution_count": null,
   "metadata": {},
   "outputs": [],
   "source": [
    "# Importing all necessary Libraries:\n",
    "import pandas as pd\n",
    "import numpy as np\n",
    "import math\n",
    "import seaborn as sns\n",
    "import matplotlib.pyplot as plt\n",
    "import scipy.stats as stats"
   ]
  },
  {
   "cell_type": "code",
   "execution_count": null,
   "metadata": {},
   "outputs": [],
   "source": [
    "# Loading the data file:\n",
    "vehicles_df = pd.read_csv('C:/Users/youss/OneDrive/Desktop/vehicles_us.csv')\n",
    "vehicles_df.sample(n=10)"
   ]
  },
  {
   "cell_type": "markdown",
   "metadata": {},
   "source": [
    "## Fixing Data:"
   ]
  },
  {
   "cell_type": "code",
   "execution_count": null,
   "metadata": {},
   "outputs": [],
   "source": [
    "vehicles_df.info()"
   ]
  },
  {
   "cell_type": "code",
   "execution_count": null,
   "metadata": {},
   "outputs": [],
   "source": [
    "# Checking for duplicate values:\n",
    "vehicles_df.duplicated().sum()"
   ]
  },
  {
   "cell_type": "code",
   "execution_count": null,
   "metadata": {},
   "outputs": [],
   "source": [
    "# Checking for missing values:\n",
    "vehicles_df.isnull().sum()"
   ]
  },
  {
   "cell_type": "code",
   "execution_count": null,
   "metadata": {},
   "outputs": [],
   "source": [
    "# Filling the missing values with 0.0:\n",
    "vehicles_df['is_4wd'] = vehicles_df['is_4wd'].fillna(0.0)"
   ]
  },
  {
   "cell_type": "code",
   "execution_count": null,
   "metadata": {},
   "outputs": [],
   "source": [
    "# Converting the column 'is_4wd' into str:\n",
    "vehicles_df['is_4wd'] = vehicles_df['is_4wd'].astype(str) "
   ]
  },
  {
   "cell_type": "code",
   "execution_count": null,
   "metadata": {},
   "outputs": [],
   "source": [
    "# Replacing values:\n",
    "vehicles_df['is_4wd'] = vehicles_df['is_4wd'].replace({'1.0': 'Yes', '0.0': 'No'})\n",
    "vehicles_df.sample(n=10)"
   ]
  },
  {
   "cell_type": "code",
   "execution_count": null,
   "metadata": {},
   "outputs": [],
   "source": [
    "# Finding the mode of 'paint_color':\n",
    "mode_color = vehicles_df['paint_color'].mode()\n",
    "mode_color\n"
   ]
  },
  {
   "cell_type": "code",
   "execution_count": null,
   "metadata": {},
   "outputs": [],
   "source": [
    "# Filling the missing Values with the mode:\n",
    "vehicles_df['paint_color'] = vehicles_df['paint_color'].fillna(vehicles_df['paint_color'].mode()[0])\n",
    "vehicles_df.sample(n=10)"
   ]
  },
  {
   "cell_type": "code",
   "execution_count": null,
   "metadata": {},
   "outputs": [],
   "source": [
    "# Finding the mode of 'model_year':\n",
    "mode_model_year = vehicles_df['model_year'].mode()\n",
    "mode_model_year"
   ]
  },
  {
   "cell_type": "code",
   "execution_count": null,
   "metadata": {},
   "outputs": [],
   "source": [
    "# Filling the missing Values with the mode:\n",
    "vehicles_df['model_year'] = vehicles_df['model_year'].fillna(vehicles_df['model_year'].mode()[0])"
   ]
  },
  {
   "cell_type": "code",
   "execution_count": null,
   "metadata": {},
   "outputs": [],
   "source": [
    "# Converting 'model_year' type into int:\n",
    "vehicles_df['model_year'] = vehicles_df['model_year'].astype(int)"
   ]
  },
  {
   "cell_type": "code",
   "execution_count": null,
   "metadata": {},
   "outputs": [],
   "source": [
    "# Finding the mode of 'cylinders':\n",
    "mode_cylinders = vehicles_df['cylinders'].mode()\n",
    "mode_cylinders"
   ]
  },
  {
   "cell_type": "code",
   "execution_count": null,
   "metadata": {},
   "outputs": [],
   "source": [
    "# Filling the missing Values with the mode:\n",
    "vehicles_df['cylinders'] = vehicles_df['cylinders'].fillna(vehicles_df['cylinders'].mode()[0])"
   ]
  },
  {
   "cell_type": "code",
   "execution_count": null,
   "metadata": {},
   "outputs": [],
   "source": [
    "# Calculating the mean 'odometer':\n",
    "odometer_mean = vehicles_df['odometer'].mean(skipna=True)\n",
    "odometer_mean"
   ]
  },
  {
   "cell_type": "code",
   "execution_count": null,
   "metadata": {},
   "outputs": [],
   "source": [
    "# Filling the missing Values with the mean:\n",
    "vehicles_df['odometer'] = vehicles_df['odometer'].fillna(odometer_mean)"
   ]
  },
  {
   "cell_type": "code",
   "execution_count": null,
   "metadata": {},
   "outputs": [],
   "source": [
    "# Converting 'odometer' type into int:\n",
    "vehicles_df['odometer'] = vehicles_df['odometer'].astype(int)\n",
    "vehicles_df.sample(n=10)"
   ]
  },
  {
   "cell_type": "code",
   "execution_count": null,
   "metadata": {},
   "outputs": [],
   "source": [
    "# Converting 'date_posted' type into datetime:\n",
    "vehicles_df['date_posted'] = pd.to_datetime(vehicles_df['date_posted'])\n",
    "vehicles_df.head()\n"
   ]
  },
  {
   "cell_type": "code",
   "execution_count": null,
   "metadata": {},
   "outputs": [],
   "source": [
    "# Checking again for missing values:\n",
    "vehicles_df.isnull().sum()"
   ]
  },
  {
   "cell_type": "code",
   "execution_count": null,
   "metadata": {},
   "outputs": [],
   "source": [
    "vehicles_df.info()"
   ]
  },
  {
   "cell_type": "markdown",
   "metadata": {},
   "source": [
    "## Price VS Odometer:\n",
    "\n",
    "Analyzing how the price of a car decreases with increased mileage."
   ]
  },
  {
   "cell_type": "code",
   "execution_count": null,
   "metadata": {},
   "outputs": [],
   "source": [
    "# how the price is effected:\n",
    "price_model_odo = vehicles_df[['price', 'model_year', 'odometer']]\n",
    "price_model_odo.head()"
   ]
  },
  {
   "cell_type": "code",
   "execution_count": null,
   "metadata": {},
   "outputs": [],
   "source": [
    "# Scatterplot showing how the price is affected by the mileage:\n",
    "plt.figure(figsize=(10, 6))\n",
    "sns.scatterplot(data=price_model_odo, x='odometer', y='price', hue='model_year', palette='viridis')\n",
    "plt.title('Price vs Odometer')\n",
    "plt.xlabel('Odometer in (Miles)')\n",
    "plt.ylabel('Price in ($)')\n",
    "plt.show()"
   ]
  },
  {
   "cell_type": "markdown",
   "metadata": {},
   "source": [
    "Looking at the Scatterplot above, Cars with lower odometer generally have higher prices, and cars with higher odometer tend to have lower prices."
   ]
  },
  {
   "cell_type": "markdown",
   "metadata": {},
   "source": [
    "## Price Distribution by Condition:\n",
    "\n",
    "See how conditions affects the price."
   ]
  },
  {
   "cell_type": "code",
   "execution_count": null,
   "metadata": {},
   "outputs": [],
   "source": [
    "price_condition = vehicles_df[['price', 'condition']]\n",
    "price_condition.head()"
   ]
  },
  {
   "cell_type": "code",
   "execution_count": null,
   "metadata": {},
   "outputs": [],
   "source": [
    "# Barplot showing how the price is affected by the condion:\n",
    "plt.figure(figsize=(10, 6))\n",
    "sns.barplot(data=price_condition, x='condition', y='price', errorbar=None)\n",
    "plt.title('Price Distribution by Car Condition')\n",
    "plt.xlabel('Car Condition')\n",
    "plt.ylabel('Price in USD')\n",
    "plt.show()"
   ]
  },
  {
   "cell_type": "markdown",
   "metadata": {},
   "source": [
    "Based on the plot above, Cars in 'New' condition have the highest price, followed by 'Like New' and 'Excellent' condition vehicles, indicating a great value for money deals. Cars in 'Salvage' and 'Fair' condition have a significantly lower prices, reflecting lower demand."
   ]
  },
  {
   "cell_type": "markdown",
   "metadata": {},
   "source": [
    "## Days listed Vs. Condition Vs. Mileage:\n",
    "\n",
    "Exploring how Mileage and Condition impact The Duration cars are listed."
   ]
  },
  {
   "cell_type": "code",
   "execution_count": null,
   "metadata": {},
   "outputs": [],
   "source": [
    "sampled_data = vehicles_df.sample(n=1000)"
   ]
  },
  {
   "cell_type": "code",
   "execution_count": null,
   "metadata": {},
   "outputs": [],
   "source": [
    "days_on_the_market = sampled_data[['condition', 'odometer', 'days_listed']]\n",
    "days_on_the_market.head()                               "
   ]
  },
  {
   "cell_type": "code",
   "execution_count": null,
   "metadata": {},
   "outputs": [],
   "source": [
    "# Create a figure with 2 subplots:\n",
    "fig, (ax1, ax2) = plt.subplots(1, 2, figsize=(16, 6))\n",
    "\n",
    "# First subplot for Days Lister Vs. Condition:\n",
    "sns.histplot(data=days_on_the_market, x='days_listed', hue='condition', bins=20, ax=ax1, palette='muted')\n",
    "ax1.set_title('Days Listed Distribution by Condition')\n",
    "ax1.set_xlabel('Days Listed')\n",
    "ax1.set_ylabel('Number of Cars')\n",
    "\n",
    "# Second subplot for Days Listed Vs. Odometer:\n",
    "sns.histplot(data=days_on_the_market, x='days_listed', hue='odometer', bins=20, ax=ax2, palette='pastel', legend=False)\n",
    "ax2.set_title('Days Listed Distribution by Mileage')\n",
    "ax2.set_xlabel('Days Listed')\n",
    "ax2.set_ylabel('Number of Cars')\n",
    "\n",
    "# Adjust layout to prevent overlap:\n",
    "plt.tight_layout()\n",
    "plt.show()"
   ]
  },
  {
   "cell_type": "markdown",
   "metadata": {},
   "source": [
    "From the Histograms ploted above, we can notice that:\n",
    "\n",
    "- Cars with low mileage (<100k) and in better condition ('Good', 'Excellent', or 'Like New'), sell faster, typically whithin 25-50 days.\n",
    "\n",
    "- Cars with high mileage (>150k) and in poor condition ('Fair' or 'Salvage') remain listed longer due to lower demand. "
   ]
  },
  {
   "cell_type": "markdown",
   "metadata": {},
   "source": [
    "## General Conclution:"
   ]
  },
  {
   "cell_type": "markdown",
   "metadata": {},
   "source": [
    "The used car market is strongly influenced by condition, mileage and age. Cars in better condition ('Good', 'Excellent', or 'Like New') and with lower mileage (<100K) tend to sell faster, typically whithin 25-50 days and command higher prices due to strong demand.\n",
    "\n",
    "In contrast, high mileage cars (>150K) and those in poor condition ('Fair' or 'Salvage') remain listed longer and are priced lower, reflecting reduced buyer interest."
   ]
  }
 ],
 "metadata": {
  "kernelspec": {
   "display_name": "Python 3",
   "language": "python",
   "name": "python3"
  },
  "language_info": {
   "codemirror_mode": {
    "name": "ipython",
    "version": 3
   },
   "file_extension": ".py",
   "mimetype": "text/x-python",
   "name": "python",
   "nbconvert_exporter": "python",
   "pygments_lexer": "ipython3",
   "version": "3.12.8"
  }
 },
 "nbformat": 4,
 "nbformat_minor": 2
}
