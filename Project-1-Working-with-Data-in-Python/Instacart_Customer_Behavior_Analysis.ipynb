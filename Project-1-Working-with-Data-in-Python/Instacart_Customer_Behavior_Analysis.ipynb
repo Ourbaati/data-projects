{
 "cells": [
  {
   "cell_type": "markdown",
   "id": "dfe08cb7",
   "metadata": {},
   "source": [
    "<h1 style='text-align: center; front-size: 50px;'>Instacart Customer Behavior Analysis</h1>"
   ]
  },
  {
   "cell_type": "markdown",
   "id": "650d5a8e",
   "metadata": {},
   "source": [
    "# Itroduction:\n",
    " In this project, we will work with data from \"instacart\". Instacart is a grocery delivery platform where customers\n",
    " can place a grocery order and have it delivered to them, similar to how Uber Eats and Door Dash work. It was montioned\n",
    " that the dataset provided has been modified from the original for a better and faster calculations.\n",
    " Our mission is to clean up the data and prepare a report that gives insight into the shopping habits\n",
    " of Instacart customers.\n",
    " There are five tables in the dataset, and we’ll need to use all of them to do our data preprocessing. They are stored in:\n",
    "    /datasets/instacart_orders.csv,\n",
    "    /datasets/products.csv,\n",
    "    /datasets/aisles.csv,\n",
    "    /datasets/departments.csv,\n",
    "    /datasets/order_products.csv\n",
    " During our data preprocessing we will:\n",
    "    Display the dataset following to the standardized format,\n",
    "    Verify and fix data types,\n",
    "    Identify and fill in missing values,\n",
    "    Identify and remove duplicate values,\n",
    "    Create plots that communicate clear and concise understanding of the data.\n"
   ]
  },
  {
   "cell_type": "code",
   "execution_count": null,
   "id": "ad36396d",
   "metadata": {
    "scrolled": true
   },
   "outputs": [],
   "source": [
    "import pandas as pd\n",
    "orders = pd.read_csv ('/datasets/instacart_orders.csv', sep = ';')\n",
    "orders.head()\n"
   ]
  },
  {
   "cell_type": "code",
   "execution_count": null,
   "id": "ad6a1efa",
   "metadata": {},
   "outputs": [],
   "source": [
    "import pandas as pd\n",
    "products = pd.read_csv('/datasets/products.csv', sep = ';')\n",
    "products.head()\n"
   ]
  },
  {
   "cell_type": "code",
   "execution_count": null,
   "id": "5130e05e",
   "metadata": {},
   "outputs": [],
   "source": [
    "import pandas as pd\n",
    "aisles = pd.read_csv('/datasets/aisles.csv', sep = ';')\n",
    "aisles.head()\n"
   ]
  },
  {
   "cell_type": "code",
   "execution_count": null,
   "id": "d8370c05",
   "metadata": {},
   "outputs": [],
   "source": [
    "import pandas as pd\n",
    "departments = pd.read_csv('/datasets/departments.csv', sep = ';')\n",
    "departments.head()\n"
   ]
  },
  {
   "cell_type": "code",
   "execution_count": null,
   "id": "59e2090f",
   "metadata": {},
   "outputs": [],
   "source": [
    "import pandas as pd\n",
    "order_products = pd.read_csv('/datasets/order_products.csv', sep = ';')\n",
    "order_products.head()"
   ]
  },
  {
   "cell_type": "markdown",
   "id": "07357848-dc64-4156-9cc3-01ff4365226d",
   "metadata": {},
   "source": [
    "## Find and remove duplicate values:"
   ]
  },
  {
   "cell_type": "markdown",
   "id": "f179f0a9",
   "metadata": {},
   "source": [
    "### `orders` data frame"
   ]
  },
  {
   "cell_type": "code",
   "execution_count": null,
   "id": "b99297a5-405a-463d-8535-9adc3da4ad74",
   "metadata": {},
   "outputs": [],
   "source": [
    "# Check for duplicated orders\n",
    "orders.duplicated().sum()\n"
   ]
  },
  {
   "cell_type": "code",
   "execution_count": null,
   "id": "0d44de5d",
   "metadata": {},
   "outputs": [],
   "source": [
    "# Check for all orders placed Wednesday at 2:00 AM\n",
    "wednesday_orders = orders[(orders['order_dow'] == 3) & (orders['order_hour_of_day'] == 2)]\n",
    "wednesday_orders"
   ]
  },
  {
   "cell_type": "code",
   "execution_count": null,
   "id": "480563c7",
   "metadata": {},
   "outputs": [],
   "source": [
    "# Remove duplicate orders\n",
    "orders.drop_duplicates(inplace=True)"
   ]
  },
  {
   "cell_type": "code",
   "execution_count": null,
   "id": "0b2396a2",
   "metadata": {},
   "outputs": [],
   "source": [
    "# Double check for duplicate rows\n",
    "orders.duplicated().sum()"
   ]
  },
  {
   "cell_type": "code",
   "execution_count": null,
   "id": "f6113ef1",
   "metadata": {},
   "outputs": [],
   "source": [
    "# Double check for duplicate order IDs only\n",
    "orders.duplicated(subset='order_id').sum()"
   ]
  },
  {
   "cell_type": "markdown",
   "id": "5e8905ae",
   "metadata": {},
   "source": [
    "We identified 15 missing values. The missing values are not critical, so we droped all rows with missing values."
   ]
  },
  {
   "cell_type": "markdown",
   "id": "45e6bc46",
   "metadata": {},
   "source": [
    "### `products` data frame"
   ]
  },
  {
   "cell_type": "code",
   "execution_count": null,
   "id": "5f526b5b-8175-46fa-a0fd-441767d50e64",
   "metadata": {},
   "outputs": [],
   "source": [
    "# Check for fully duplicate rows\n",
    "products.duplicated().sum()\n"
   ]
  },
  {
   "cell_type": "code",
   "execution_count": null,
   "id": "88daa4f4",
   "metadata": {},
   "outputs": [],
   "source": [
    "# Check for just duplicate product IDs\n",
    "products.duplicated(subset='product_id').sum()"
   ]
  },
  {
   "cell_type": "code",
   "execution_count": null,
   "id": "c773f0bf",
   "metadata": {},
   "outputs": [],
   "source": [
    "# Check for just duplicate product names (convert names to lowercase to compare better)\n",
    "products['product_name'].str.lower().duplicated().sum()\n"
   ]
  },
  {
   "cell_type": "code",
   "execution_count": null,
   "id": "01efd02e",
   "metadata": {},
   "outputs": [],
   "source": [
    "# Check for duplicate product names that aren't missing\n",
    "products['product_name'].dropna().str.lower().duplicated().sum()"
   ]
  },
  {
   "cell_type": "markdown",
   "id": "9da8d293",
   "metadata": {},
   "source": [
    "Converting product names to lowercase showed 1361 duplicates on the missing values and 104 on the non missing values. They should be adressed to ensure data accuracy"
   ]
  },
  {
   "cell_type": "markdown",
   "id": "60f30db1",
   "metadata": {},
   "source": [
    "### `departments` data frame"
   ]
  },
  {
   "cell_type": "code",
   "execution_count": null,
   "id": "fb410ad4-0fbf-4b80-bb09-23fdea79afe3",
   "metadata": {},
   "outputs": [],
   "source": [
    "departments.duplicated().sum()\n"
   ]
  },
  {
   "cell_type": "markdown",
   "id": "bd30d78e",
   "metadata": {},
   "source": [
    "For departments dataset we noticed that there is no duplicated values"
   ]
  },
  {
   "cell_type": "markdown",
   "id": "889349c1",
   "metadata": {},
   "source": [
    "### `aisles` data frame"
   ]
  },
  {
   "cell_type": "code",
   "execution_count": null,
   "id": "9da89fb9-4679-40f5-ad0d-c34df753a3f8",
   "metadata": {},
   "outputs": [],
   "source": [
    "aisles.duplicated().sum()"
   ]
  },
  {
   "cell_type": "markdown",
   "id": "ac63826f",
   "metadata": {},
   "source": [
    "For aisles dataset we noticed that there is no duplicated values"
   ]
  },
  {
   "cell_type": "markdown",
   "id": "274cd06a",
   "metadata": {},
   "source": [
    "### `order_products` data frame"
   ]
  },
  {
   "cell_type": "code",
   "execution_count": null,
   "id": "52326689-84a8-4b8f-a881-7c68780f62c9",
   "metadata": {},
   "outputs": [],
   "source": [
    "# Check for fullly duplicate rows\n",
    "order_products.duplicated().sum()"
   ]
  },
  {
   "cell_type": "code",
   "execution_count": null,
   "id": "7b861391",
   "metadata": {},
   "outputs": [],
   "source": [
    "# Double check for any other tricky duplicates\n",
    "order_products.duplicated(subset =['order_id', 'product_id']).sum()"
   ]
  },
  {
   "cell_type": "markdown",
   "id": "0b890492",
   "metadata": {},
   "source": [
    "For order_products dataset we noticed that there is no duplicated values"
   ]
  },
  {
   "cell_type": "markdown",
   "id": "1e46de76",
   "metadata": {},
   "source": [
    "## Find and remove missing values\n"
   ]
  },
  {
   "cell_type": "markdown",
   "id": "c0aebd78",
   "metadata": {},
   "source": [
    "### `products` data frame"
   ]
  },
  {
   "cell_type": "code",
   "execution_count": null,
   "id": "fe4a8b0f",
   "metadata": {},
   "outputs": [],
   "source": [
    "products.isna().sum()"
   ]
  },
  {
   "cell_type": "code",
   "execution_count": null,
   "id": "e96167bc",
   "metadata": {},
   "outputs": [],
   "source": [
    "# Are all of the missing product names associated with aisle ID 100?\n",
    "products[(products['product_name'].isna()) & (products['aisle_id'] == 100)]"
   ]
  },
  {
   "cell_type": "code",
   "execution_count": null,
   "id": "8fd0a541",
   "metadata": {},
   "outputs": [],
   "source": [
    "# Are all of the missing product names associated with department ID 21?\n",
    "products[(products['product_name'].isna()) & (products['department_id'] == 21)]"
   ]
  },
  {
   "cell_type": "code",
   "execution_count": null,
   "id": "325c3464",
   "metadata": {},
   "outputs": [],
   "source": [
    "# What is this ailse and department?\n",
    "filtered_department = departments[departments['department_id'] == 21]\n",
    "filtered_department"
   ]
  },
  {
   "cell_type": "code",
   "execution_count": null,
   "id": "9435b2e0",
   "metadata": {},
   "outputs": [],
   "source": [
    "# Added by reviewer\n",
    "filtered_aisles = aisles[aisles['aisle_id'] == 100]\n",
    "filtered_aisles"
   ]
  },
  {
   "cell_type": "code",
   "execution_count": null,
   "id": "6b295120",
   "metadata": {},
   "outputs": [],
   "source": [
    "# Fill missing product names with 'Unknown'\n",
    "products['product_name'].fillna('Unknown', inplace=True)"
   ]
  },
  {
   "cell_type": "markdown",
   "id": "7eb45c86",
   "metadata": {},
   "source": [
    "### `orders` data frame"
   ]
  },
  {
   "cell_type": "code",
   "execution_count": null,
   "id": "166e5a86",
   "metadata": {},
   "outputs": [],
   "source": [
    "# Are there any missing values where it's not a customer's first order?\n",
    "not_first_orders = orders[orders['order_number'] > 1]\n",
    "\n",
    "missing_values = not_first_orders['days_since_prior_order'].isnull().sum()\n",
    "\n",
    "missing_values"
   ]
  },
  {
   "cell_type": "markdown",
   "id": "4e23d089",
   "metadata": {},
   "source": [
    "No missing values were found in the days_since_prior_order column for orders beyond the customer's first order."
   ]
  },
  {
   "cell_type": "markdown",
   "id": "69dc9ca4",
   "metadata": {},
   "source": [
    "### `order_products` data frame"
   ]
  },
  {
   "cell_type": "code",
   "execution_count": null,
   "id": "9a78e5ee",
   "metadata": {},
   "outputs": [],
   "source": [
    "# What are the min and max values in this column?\n",
    "order_products['add_to_cart_order'].min(), order_products['add_to_cart_order'].max()\n"
   ]
  },
  {
   "cell_type": "code",
   "execution_count": null,
   "id": "ab9d0c2b",
   "metadata": {},
   "outputs": [],
   "source": [
    "# Save all order IDs with at least one missing value in 'add_to_cart_order'\n",
    "missing_order_ids = order_products[order_products['add_to_cart_order'].isna()]['order_id'].unique()\n",
    "missing_order_ids"
   ]
  },
  {
   "cell_type": "code",
   "execution_count": null,
   "id": "54c31695",
   "metadata": {},
   "outputs": [],
   "source": [
    "# Do all orders with missing values have more than 64 products?\n",
    "order_counts = order_products[order_products['order_id'].isin(missing_order_ids)].groupby('order_id').size()\n",
    "check = (order_counts > 64).all()\n",
    "check"
   ]
  },
  {
   "cell_type": "code",
   "execution_count": null,
   "id": "7a987d08",
   "metadata": {},
   "outputs": [],
   "source": [
    "# Replace missing values with 999 and convert column to integer type\n",
    "order_products['add_to_cart_order'].fillna(999).astype('int')\n"
   ]
  },
  {
   "cell_type": "markdown",
   "id": "fea4bcc7",
   "metadata": {},
   "source": [
    "After our analysis we can say that all orders with missing values have more than 64 products."
   ]
  },
  {
   "cell_type": "code",
   "execution_count": null,
   "id": "accessory-malaysia",
   "metadata": {},
   "outputs": [],
   "source": [
    "# Check for 'order_hour_of_day':\n",
    "if (orders['order_hour_of_day'].min() >= 0) and (orders['order_hour_of_day'].max() <= 23):\n",
    "    print(\"'order_hour_of_day' values are sensible.\")\n",
    "else:\n",
    "    print(\"'order_hour_of_day' values are not sensible.\")\n",
    "\n",
    "# Check for 'order_dow':\n",
    "if (orders['order_dow'].min() >= 0) and (orders['order_dow'].max() <= 6):\n",
    "    print(\"'order_hour_of_day' values are sensible.\")\n",
    "else:\n",
    "    print(\"'order_hour_of_day' values are not sensible.\")"
   ]
  },
  {
   "cell_type": "markdown",
   "id": "a6743a70",
   "metadata": {},
   "source": [
    "### What time of day do people shop for groceries?"
   ]
  },
  {
   "cell_type": "code",
   "execution_count": null,
   "id": "a36cca27",
   "metadata": {},
   "outputs": [],
   "source": [
    "import matplotlib.pyplot as plt\n",
    "plt.figure(figsize=(6,2))\n",
    "orders['order_hour_of_day'].value_counts().sort_index().plot(kind='bar')\n",
    "plt.title('Number of Orders by Hour of Day')\n",
    "plt.xlabel('Hour of Day')\n",
    "plt.ylabel('Number of Orders')\n",
    "\n",
    "plt.show()"
   ]
  },
  {
   "cell_type": "markdown",
   "id": "11270eed",
   "metadata": {},
   "source": [
    "After filtering the orders dataframe based on hour of the day, we noticed that the number of orders is at its peak between 9 a.m and 5 p.m."
   ]
  },
  {
   "cell_type": "markdown",
   "id": "documented-command",
   "metadata": {},
   "source": [
    "### What day of the week do people shop for groceries?"
   ]
  },
  {
   "cell_type": "code",
   "execution_count": null,
   "id": "chief-digit",
   "metadata": {},
   "outputs": [],
   "source": [
    "plt.figure(figsize=(6,2))\n",
    "orders['order_dow'].value_counts().sort_index().plot(kind='bar')\n",
    "plt.title('Number of Orders by Day of Week')\n",
    "plt.xlabel('Day of Week')\n",
    "plt.ylabel('Number of Orders')\n",
    "\n",
    "plt.show() "
   ]
  },
  {
   "cell_type": "markdown",
   "id": "dominant-lightning",
   "metadata": {},
   "source": [
    "According to the plot, the number of orders is steady during all days of the week, but we noticed that their groceries shopping are in there peak on the first 2 days of the week."
   ]
  },
  {
   "cell_type": "markdown",
   "id": "cutting-concert",
   "metadata": {},
   "source": [
    "### How long do people wait until placing another order?"
   ]
  },
  {
   "cell_type": "code",
   "execution_count": null,
   "id": "c231f523",
   "metadata": {},
   "outputs": [],
   "source": [
    "plt.figure(figsize=(6,2))\n",
    "orders['days_since_prior_order'].plot(kind='hist', bins=15)\n",
    "plt.title('Duration of Days Since Prior Order')\n",
    "plt.xlabel('Days Since Prior Order')\n",
    "plt.ylabel('Duration')\n",
    "\n",
    "plt.show()  "
   ]
  },
  {
   "cell_type": "markdown",
   "id": "discrete-vertex",
   "metadata": {},
   "source": [
    "The plot is showing that the majority of people wait from a day to 7 days before placing their second order. We also noticed that some people tend to wait 30 days till their second order."
   ]
  },
  {
   "cell_type": "markdown",
   "id": "packed-classic",
   "metadata": {},
   "source": [
    "### Is there a difference in `'order_hour_of_day'` distributions on Wednesdays and Saturdays?"
   ]
  },
  {
   "cell_type": "code",
   "execution_count": null,
   "id": "d89b8403",
   "metadata": {},
   "outputs": [],
   "source": [
    "wednesday_orders = orders[orders['order_dow'] == 3]\n",
    "saturday_orders = orders[orders['order_dow'] == 6]"
   ]
  },
  {
   "cell_type": "code",
   "execution_count": null,
   "id": "94e54e8a",
   "metadata": {},
   "outputs": [],
   "source": [
    "plt.figure(figsize=(8, 4))\n",
    "plt.hist(wednesday_orders['order_hour_of_day'], bins=24, alpha=0.5, label='Wednesday')\n",
    "plt.hist(saturday_orders['order_hour_of_day'], bins=24, alpha=0.5, label='Saturday')\n",
    "plt.xlabel('Hour of  The Day')\n",
    "plt.ylabel('Number of Orders')\n",
    "plt.title('Orders by Hour on Wednesday vs. Saturday')\n",
    "plt.xticks(range(0, 25))\n",
    "plt.legend()\n",
    "\n",
    "plt.show()"
   ]
  },
  {
   "cell_type": "markdown",
   "id": "charitable-congo",
   "metadata": {},
   "source": [
    "From the plot above, we can say that the number of orders on Wednesday and Saturday are similer, with a slight increase on Saturday between 10 a.m and 3 p.m."
   ]
  },
  {
   "cell_type": "markdown",
   "id": "e3891143",
   "metadata": {},
   "source": [
    "### What's the distribution for the number of orders per customer?"
   ]
  },
  {
   "cell_type": "code",
   "execution_count": null,
   "id": "d8c26c23",
   "metadata": {},
   "outputs": [],
   "source": [
    "customer_order_counts = orders['user_id'].value_counts()\n",
    "customer_order_counts"
   ]
  },
  {
   "cell_type": "code",
   "execution_count": null,
   "id": "00e69a66",
   "metadata": {},
   "outputs": [],
   "source": [
    "plt.figure(figsize=(8, 4))\n",
    "plt.hist(customer_order_counts, bins=30, alpha=0.7)\n",
    "plt.title('Number of Orders per Customer')\n",
    "plt.xlabel('Number of Orders')\n",
    "plt.ylabel('Number of Customers')\n",
    "\n",
    "plt.show()"
   ]
  },
  {
   "cell_type": "markdown",
   "id": "d2eff7d5",
   "metadata": {},
   "source": [
    "Based on the plot, the data indicates that most customers place at least 4 orders, but there is a noticeable drop in the number of customers once they reach the 5 order mark."
   ]
  },
  {
   "cell_type": "markdown",
   "id": "54a0319c",
   "metadata": {},
   "source": [
    "### What are the top 20 popular products?"
   ]
  },
  {
   "cell_type": "code",
   "execution_count": null,
   "id": "universal-facial",
   "metadata": {},
   "outputs": [],
   "source": [
    "merged_datasets = order_products.merge(products, on=\"product_id\")\n",
    "top_products = (merged_datasets.groupby([\"product_id\", \"product_name\"]).size().sort_values(ascending=False))"
   ]
  },
  {
   "cell_type": "code",
   "execution_count": null,
   "id": "bbcdd20b",
   "metadata": {},
   "outputs": [],
   "source": [
    "top_products.head(20)"
   ]
  },
  {
   "cell_type": "markdown",
   "id": "7df00f47",
   "metadata": {},
   "source": [
    "After filtering the ordered products data, we can say that perishables, such as fruits and vegetables, are the dominant products."
   ]
  },
  {
   "cell_type": "markdown",
   "id": "romantic-deposit",
   "metadata": {},
   "source": [
    "### How many items do people typically buy in one order?"
   ]
  },
  {
   "cell_type": "code",
   "execution_count": null,
   "id": "sensitive-breathing",
   "metadata": {},
   "outputs": [],
   "source": [
    "items_per_order = order_products.groupby('order_id').size().sort_values(ascending=False)\n",
    "items_per_order"
   ]
  },
  {
   "cell_type": "code",
   "execution_count": null,
   "id": "completed-frank",
   "metadata": {},
   "outputs": [],
   "source": [
    "import matplotlib.pyplot as plt\n",
    "\n",
    "plt.figure(figsize=(6, 4))\n",
    "plt.hist(items_per_order, bins=30, alpha=0.7)\n",
    "plt.title('Items per Order')\n",
    "plt.xlabel('Number of Items')\n",
    "plt.ylabel('Orders')\n",
    "\n",
    "plt.show()"
   ]
  },
  {
   "cell_type": "markdown",
   "id": "designed-mortality",
   "metadata": {},
   "source": [
    "From the plot, we can say that the higher the number of items bought the number of people drops. Typically, the number of items bought can range between 127 and 1 item per order."
   ]
  },
  {
   "cell_type": "markdown",
   "id": "5e6b5537",
   "metadata": {},
   "source": [
    "### What are the top 20 items that are reordered most frequently?"
   ]
  },
  {
   "cell_type": "code",
   "execution_count": null,
   "id": "9374e55a",
   "metadata": {},
   "outputs": [],
   "source": [
    "top_20_reorder = order_products[order_products['reordered'] == 1]['product_id'].value_counts().head(20).reset_index()\n",
    "top_20_reorder.columns = ['product_id', 'count'] \n",
    "top_20_reordered = top_20_reorder.merge(products[['product_id', 'product_name']], on='product_id')\n",
    "top_20_reordered"
   ]
  },
  {
   "cell_type": "markdown",
   "id": "80e70c74",
   "metadata": {},
   "source": [
    "After looking into the ordered products data, we noticed that the top 20 reorder products are mostly perishables such as vegetables and fruits."
   ]
  },
  {
   "cell_type": "markdown",
   "id": "subject-boxing",
   "metadata": {},
   "source": [
    "# General Conclusion:"
   ]
  },
  {
   "cell_type": "markdown",
   "id": "28ce9872",
   "metadata": {},
   "source": [
    "Based on the datasets provided: \n",
    "\n",
    "  - We noticed that the number of orders is at its peak between 9 a.m and 5 p.m.\n",
    "  \n",
    "  - The number of orders is steady during all days of the week, but we noticed that people tend to do more groceries on the first 2 days of the week.\n",
    "  \n",
    "  - The majority of people wait from a day to 7 days before placing their second order. We also noticed that some people tend to wait 30 days till their second order.\n",
    "  \n",
    "  - We can say that the number of orders on Wednesday and Saturday are similer, with a slight increase on Saturday between 10 a.m and 3 p.m.\n",
    "  \n",
    "  - Most customers place at least 4 orders, but there is a noticeable drop in the number of customers once they reach the 5 order mark.\n",
    "  \n",
    "  - We can say that the higher the number of items bought the number of people drops.\n",
    "  \n",
    "  - We noticed that the top 20 reorder products are mostly perishables such as vegetables and fruits.\n"
   ]
  }
 ],
 "metadata": {
  "ExecuteTimeLog": [
   {
    "duration": 532,
    "start_time": "2024-12-23T05:11:08.775Z"
   },
   {
    "duration": 127,
    "start_time": "2024-12-23T05:15:27.169Z"
   },
   {
    "duration": 53,
    "start_time": "2024-12-23T05:17:35.565Z"
   },
   {
    "duration": 38,
    "start_time": "2024-12-23T05:17:48.908Z"
   },
   {
    "duration": 7,
    "start_time": "2024-12-23T05:19:00.720Z"
   },
   {
    "duration": 10,
    "start_time": "2024-12-23T05:19:09.382Z"
   },
   {
    "duration": 6,
    "start_time": "2024-12-23T05:19:23.001Z"
   },
   {
    "duration": 11,
    "start_time": "2024-12-23T05:19:31.901Z"
   },
   {
    "duration": 7,
    "start_time": "2024-12-23T05:20:54.289Z"
   },
   {
    "duration": 8,
    "start_time": "2024-12-23T05:21:12.346Z"
   },
   {
    "duration": 9,
    "start_time": "2024-12-23T05:21:24.576Z"
   },
   {
    "duration": 4,
    "start_time": "2024-12-23T05:22:43.524Z"
   },
   {
    "duration": 1893,
    "start_time": "2024-12-23T05:23:14.563Z"
   },
   {
    "duration": 707,
    "start_time": "2024-12-23T05:23:40.402Z"
   },
   {
    "duration": 118,
    "start_time": "2024-12-23T05:24:42.154Z"
   },
   {
    "duration": 199,
    "start_time": "2024-12-23T05:29:46.750Z"
   },
   {
    "duration": 2,
    "start_time": "2024-12-23T05:29:57.030Z"
   },
   {
    "duration": 190,
    "start_time": "2024-12-23T05:30:59.511Z"
   },
   {
    "duration": 182,
    "start_time": "2024-12-23T05:31:32.994Z"
   },
   {
    "duration": 172,
    "start_time": "2024-12-23T05:32:11.216Z"
   },
   {
    "duration": 412,
    "start_time": "2024-12-23T05:34:43.045Z"
   },
   {
    "duration": 187,
    "start_time": "2024-12-23T05:34:57.779Z"
   },
   {
    "duration": 16,
    "start_time": "2024-12-23T05:49:50.828Z"
   },
   {
    "duration": 88,
    "start_time": "2024-12-23T05:53:31.429Z"
   },
   {
    "duration": 111,
    "start_time": "2024-12-23T05:54:30.916Z"
   },
   {
    "duration": 93,
    "start_time": "2024-12-23T05:55:17.093Z"
   },
   {
    "duration": 77,
    "start_time": "2024-12-23T05:55:53.272Z"
   },
   {
    "duration": 171,
    "start_time": "2024-12-23T05:56:16.964Z"
   },
   {
    "duration": 10,
    "start_time": "2024-12-23T05:56:24.282Z"
   },
   {
    "duration": 82,
    "start_time": "2024-12-23T05:56:32.648Z"
   },
   {
    "duration": 71,
    "start_time": "2024-12-23T05:56:39.352Z"
   },
   {
    "duration": 247,
    "start_time": "2024-12-23T06:00:47.713Z"
   },
   {
    "duration": 71,
    "start_time": "2024-12-23T06:02:58.356Z"
   },
   {
    "duration": 70,
    "start_time": "2024-12-23T06:03:04.584Z"
   },
   {
    "duration": 66,
    "start_time": "2024-12-23T06:03:07.276Z"
   },
   {
    "duration": 46,
    "start_time": "2024-12-23T06:07:20.787Z"
   },
   {
    "duration": 39,
    "start_time": "2024-12-23T06:09:25.200Z"
   },
   {
    "duration": 42,
    "start_time": "2024-12-23T06:13:10.441Z"
   },
   {
    "duration": 38,
    "start_time": "2024-12-23T06:22:55.435Z"
   },
   {
    "duration": 39,
    "start_time": "2024-12-23T06:23:21.666Z"
   },
   {
    "duration": 41,
    "start_time": "2024-12-23T06:26:20.032Z"
   },
   {
    "duration": 7,
    "start_time": "2024-12-23T06:29:06.149Z"
   },
   {
    "duration": 13,
    "start_time": "2024-12-23T06:33:24.536Z"
   },
   {
    "duration": 10,
    "start_time": "2024-12-23T06:34:38.270Z"
   },
   {
    "duration": 13,
    "start_time": "2024-12-23T06:39:00.880Z"
   },
   {
    "duration": 16,
    "start_time": "2024-12-23T06:39:14.299Z"
   },
   {
    "duration": 18,
    "start_time": "2024-12-23T06:39:38.644Z"
   },
   {
    "duration": 16,
    "start_time": "2024-12-23T06:39:47.914Z"
   },
   {
    "duration": 9,
    "start_time": "2024-12-23T06:53:59.929Z"
   },
   {
    "duration": 24,
    "start_time": "2024-12-23T06:55:17.604Z"
   },
   {
    "duration": 20,
    "start_time": "2024-12-23T06:56:06.844Z"
   },
   {
    "duration": 24,
    "start_time": "2024-12-23T06:56:28.048Z"
   },
   {
    "duration": 9,
    "start_time": "2024-12-23T06:57:17.481Z"
   },
   {
    "duration": 11,
    "start_time": "2024-12-23T06:57:52.273Z"
   },
   {
    "duration": 10,
    "start_time": "2024-12-23T06:58:24.928Z"
   },
   {
    "duration": 1968,
    "start_time": "2024-12-23T18:28:56.638Z"
   },
   {
    "duration": 85,
    "start_time": "2024-12-23T18:40:27.321Z"
   },
   {
    "duration": 11,
    "start_time": "2024-12-23T18:41:36.852Z"
   },
   {
    "duration": 221,
    "start_time": "2024-12-23T18:44:40.572Z"
   },
   {
    "duration": 62,
    "start_time": "2024-12-23T18:46:57.940Z"
   },
   {
    "duration": 19,
    "start_time": "2024-12-23T18:49:39.764Z"
   },
   {
    "duration": 11,
    "start_time": "2024-12-23T18:54:11.347Z"
   },
   {
    "duration": 12,
    "start_time": "2024-12-23T18:55:23.039Z"
   },
   {
    "duration": 11,
    "start_time": "2024-12-23T18:55:49.949Z"
   },
   {
    "duration": 12,
    "start_time": "2024-12-23T18:56:11.728Z"
   },
   {
    "duration": 5,
    "start_time": "2024-12-23T19:04:07.473Z"
   },
   {
    "duration": 11,
    "start_time": "2024-12-23T19:04:22.557Z"
   },
   {
    "duration": 10,
    "start_time": "2024-12-23T19:05:17.585Z"
   },
   {
    "duration": 10,
    "start_time": "2024-12-23T19:05:54.839Z"
   },
   {
    "duration": 10,
    "start_time": "2024-12-23T19:06:38.041Z"
   },
   {
    "duration": 4,
    "start_time": "2024-12-23T19:07:43.623Z"
   },
   {
    "duration": 9,
    "start_time": "2024-12-23T19:07:50.880Z"
   },
   {
    "duration": 145,
    "start_time": "2024-12-23T19:08:26.889Z"
   },
   {
    "duration": 102,
    "start_time": "2024-12-23T19:12:41.806Z"
   },
   {
    "duration": 15,
    "start_time": "2024-12-23T19:13:14.392Z"
   },
   {
    "duration": 16,
    "start_time": "2024-12-23T19:13:52.320Z"
   },
   {
    "duration": 732,
    "start_time": "2024-12-23T19:14:55.238Z"
   },
   {
    "duration": 391,
    "start_time": "2024-12-23T19:18:12.985Z"
   },
   {
    "duration": 18,
    "start_time": "2024-12-23T19:18:54.902Z"
   },
   {
    "duration": 34,
    "start_time": "2024-12-23T19:20:29.860Z"
   },
   {
    "duration": 33,
    "start_time": "2024-12-23T19:20:39.595Z"
   },
   {
    "duration": 18,
    "start_time": "2024-12-23T19:20:56.445Z"
   },
   {
    "duration": 32,
    "start_time": "2024-12-23T19:21:02.921Z"
   },
   {
    "duration": 40,
    "start_time": "2024-12-23T19:21:25.307Z"
   },
   {
    "duration": 33,
    "start_time": "2024-12-23T19:22:34.204Z"
   },
   {
    "duration": 32,
    "start_time": "2024-12-23T19:23:54.420Z"
   },
   {
    "duration": 31,
    "start_time": "2024-12-23T19:24:42.594Z"
   },
   {
    "duration": 32,
    "start_time": "2024-12-23T19:26:44.387Z"
   },
   {
    "duration": 34,
    "start_time": "2024-12-23T19:26:58.808Z"
   },
   {
    "duration": 12,
    "start_time": "2024-12-23T19:31:50.267Z"
   },
   {
    "duration": 8,
    "start_time": "2024-12-23T19:32:12.630Z"
   },
   {
    "duration": 6,
    "start_time": "2024-12-23T19:32:39.216Z"
   },
   {
    "duration": 12,
    "start_time": "2024-12-23T19:35:08.190Z"
   },
   {
    "duration": 63,
    "start_time": "2024-12-23T19:35:32.819Z"
   },
   {
    "duration": 62,
    "start_time": "2024-12-23T19:36:11.331Z"
   },
   {
    "duration": 62,
    "start_time": "2024-12-23T19:36:24.300Z"
   },
   {
    "duration": 42,
    "start_time": "2024-12-23T19:38:48.254Z"
   },
   {
    "duration": 23,
    "start_time": "2024-12-23T19:39:10.105Z"
   },
   {
    "duration": 25,
    "start_time": "2024-12-23T19:39:54.155Z"
   },
   {
    "duration": 23,
    "start_time": "2024-12-23T19:40:02.158Z"
   },
   {
    "duration": 17,
    "start_time": "2024-12-23T19:41:24.326Z"
   },
   {
    "duration": 23,
    "start_time": "2024-12-23T19:41:40.466Z"
   },
   {
    "duration": 132,
    "start_time": "2024-12-23T19:45:42.749Z"
   },
   {
    "duration": 4,
    "start_time": "2024-12-23T19:47:07.979Z"
   },
   {
    "duration": 4,
    "start_time": "2024-12-23T19:51:06.396Z"
   },
   {
    "duration": 4,
    "start_time": "2024-12-23T19:52:02.978Z"
   },
   {
    "duration": 5,
    "start_time": "2024-12-23T19:53:20.043Z"
   },
   {
    "duration": 2040,
    "start_time": "2024-12-23T19:56:19.053Z"
   },
   {
    "duration": 162,
    "start_time": "2024-12-23T19:57:04.728Z"
   },
   {
    "duration": 115,
    "start_time": "2024-12-23T19:58:51.913Z"
   },
   {
    "duration": 93,
    "start_time": "2024-12-23T20:00:21.679Z"
   },
   {
    "duration": 212,
    "start_time": "2024-12-23T20:00:29.719Z"
   },
   {
    "duration": 458,
    "start_time": "2024-12-23T20:06:23.321Z"
   },
   {
    "duration": 6,
    "start_time": "2024-12-23T20:06:28.149Z"
   },
   {
    "duration": 331,
    "start_time": "2024-12-23T20:06:34.406Z"
   },
   {
    "duration": 94,
    "start_time": "2024-12-23T20:06:41.305Z"
   },
   {
    "duration": 168,
    "start_time": "2024-12-23T20:14:28.057Z"
   },
   {
    "duration": 323,
    "start_time": "2024-12-23T20:16:18.905Z"
   },
   {
    "duration": 306,
    "start_time": "2024-12-23T20:16:36.353Z"
   },
   {
    "duration": 5,
    "start_time": "2024-12-23T20:16:41.767Z"
   },
   {
    "duration": 164,
    "start_time": "2024-12-23T20:16:46.096Z"
   },
   {
    "duration": 92,
    "start_time": "2024-12-23T20:16:52.032Z"
   },
   {
    "duration": 731,
    "start_time": "2024-12-23T20:16:57.782Z"
   },
   {
    "duration": 77,
    "start_time": "2024-12-23T20:17:11.772Z"
   },
   {
    "duration": 179,
    "start_time": "2024-12-23T20:17:51.056Z"
   },
   {
    "duration": 188,
    "start_time": "2024-12-23T20:18:18.861Z"
   },
   {
    "duration": 1522,
    "start_time": "2024-12-23T20:20:04.950Z"
   },
   {
    "duration": 125,
    "start_time": "2024-12-24T04:52:55.734Z"
   },
   {
    "duration": 57,
    "start_time": "2024-12-24T04:52:55.862Z"
   },
   {
    "duration": 10,
    "start_time": "2024-12-24T04:52:55.921Z"
   },
   {
    "duration": 9,
    "start_time": "2024-12-24T04:52:55.932Z"
   },
   {
    "duration": 781,
    "start_time": "2024-12-24T04:52:55.943Z"
   },
   {
    "duration": 202,
    "start_time": "2024-12-24T04:52:56.726Z"
   },
   {
    "duration": 16,
    "start_time": "2024-12-24T04:52:56.929Z"
   },
   {
    "duration": 98,
    "start_time": "2024-12-24T04:52:56.946Z"
   },
   {
    "duration": 84,
    "start_time": "2024-12-24T04:52:57.046Z"
   },
   {
    "duration": 41,
    "start_time": "2024-12-24T04:52:57.132Z"
   },
   {
    "duration": 51,
    "start_time": "2024-12-24T04:52:57.175Z"
   },
   {
    "duration": 5,
    "start_time": "2024-12-24T04:52:57.228Z"
   },
   {
    "duration": 20,
    "start_time": "2024-12-24T04:52:57.234Z"
   },
   {
    "duration": 7,
    "start_time": "2024-12-24T04:52:57.257Z"
   },
   {
    "duration": 9,
    "start_time": "2024-12-24T04:52:57.266Z"
   },
   {
    "duration": 30,
    "start_time": "2024-12-24T04:52:57.277Z"
   },
   {
    "duration": 1429,
    "start_time": "2024-12-24T04:52:57.309Z"
   },
   {
    "duration": 222,
    "start_time": "2024-12-24T04:52:58.740Z"
   },
   {
    "duration": 44,
    "start_time": "2024-12-24T04:52:58.963Z"
   },
   {
    "duration": 12,
    "start_time": "2024-12-24T04:52:59.008Z"
   },
   {
    "duration": 16,
    "start_time": "2024-12-24T04:52:59.021Z"
   },
   {
    "duration": 2,
    "start_time": "2024-12-24T04:52:59.039Z"
   },
   {
    "duration": 5,
    "start_time": "2024-12-24T04:52:59.043Z"
   },
   {
    "duration": 133,
    "start_time": "2024-12-24T04:52:59.049Z"
   },
   {
    "duration": 22,
    "start_time": "2024-12-24T04:52:59.184Z"
   },
   {
    "duration": 711,
    "start_time": "2024-12-24T04:52:59.207Z"
   },
   {
    "duration": 30,
    "start_time": "2024-12-24T04:52:59.920Z"
   },
   {
    "duration": 11,
    "start_time": "2024-12-24T04:52:59.952Z"
   },
   {
    "duration": 83,
    "start_time": "2024-12-24T04:52:59.965Z"
   },
   {
    "duration": 22,
    "start_time": "2024-12-24T04:53:00.050Z"
   },
   {
    "duration": 124,
    "start_time": "2024-12-24T04:53:00.074Z"
   },
   {
    "duration": 5,
    "start_time": "2024-12-24T04:53:00.200Z"
   },
   {
    "duration": 166,
    "start_time": "2024-12-24T04:53:00.207Z"
   },
   {
    "duration": 107,
    "start_time": "2024-12-24T04:53:00.374Z"
   },
   {
    "duration": 136,
    "start_time": "2024-12-24T04:53:00.485Z"
   },
   {
    "duration": 10,
    "start_time": "2024-12-24T04:58:52.828Z"
   },
   {
    "duration": 14,
    "start_time": "2024-12-24T04:59:24.819Z"
   },
   {
    "duration": 9,
    "start_time": "2024-12-24T04:59:54.633Z"
   },
   {
    "duration": 283,
    "start_time": "2024-12-24T05:00:27.378Z"
   },
   {
    "duration": 202,
    "start_time": "2024-12-24T05:00:48.753Z"
   },
   {
    "duration": 223,
    "start_time": "2024-12-24T05:01:03.975Z"
   },
   {
    "duration": 198,
    "start_time": "2024-12-24T05:01:21.779Z"
   },
   {
    "duration": 216,
    "start_time": "2024-12-24T05:01:35.529Z"
   },
   {
    "duration": 267,
    "start_time": "2024-12-24T05:01:49.018Z"
   },
   {
    "duration": 214,
    "start_time": "2024-12-24T05:03:47.160Z"
   },
   {
    "duration": 212,
    "start_time": "2024-12-24T05:07:23.934Z"
   },
   {
    "duration": 218,
    "start_time": "2024-12-24T05:07:43.142Z"
   },
   {
    "duration": 200,
    "start_time": "2024-12-24T05:08:13.305Z"
   },
   {
    "duration": 198,
    "start_time": "2024-12-24T05:08:31.742Z"
   },
   {
    "duration": 277,
    "start_time": "2024-12-24T05:16:52.604Z"
   },
   {
    "duration": 208,
    "start_time": "2024-12-24T05:17:03.919Z"
   },
   {
    "duration": 341,
    "start_time": "2024-12-24T05:17:20.103Z"
   },
   {
    "duration": 248,
    "start_time": "2024-12-24T05:17:39.973Z"
   },
   {
    "duration": 204,
    "start_time": "2024-12-24T05:17:53.539Z"
   },
   {
    "duration": 265,
    "start_time": "2024-12-24T05:18:05.185Z"
   },
   {
    "duration": 249,
    "start_time": "2024-12-24T05:18:23.563Z"
   },
   {
    "duration": 132,
    "start_time": "2024-12-24T05:18:52.270Z"
   },
   {
    "duration": 126,
    "start_time": "2024-12-24T05:20:29.861Z"
   },
   {
    "duration": 50,
    "start_time": "2024-12-24T05:20:29.989Z"
   },
   {
    "duration": 10,
    "start_time": "2024-12-24T05:20:30.041Z"
   },
   {
    "duration": 9,
    "start_time": "2024-12-24T05:20:30.053Z"
   },
   {
    "duration": 712,
    "start_time": "2024-12-24T05:20:30.063Z"
   },
   {
    "duration": 185,
    "start_time": "2024-12-24T05:20:30.777Z"
   },
   {
    "duration": 10,
    "start_time": "2024-12-24T05:20:30.964Z"
   },
   {
    "duration": 86,
    "start_time": "2024-12-24T05:20:30.976Z"
   },
   {
    "duration": 79,
    "start_time": "2024-12-24T05:20:31.064Z"
   },
   {
    "duration": 42,
    "start_time": "2024-12-24T05:20:31.146Z"
   },
   {
    "duration": 50,
    "start_time": "2024-12-24T05:20:31.189Z"
   },
   {
    "duration": 6,
    "start_time": "2024-12-24T05:20:31.241Z"
   },
   {
    "duration": 27,
    "start_time": "2024-12-24T05:20:31.249Z"
   },
   {
    "duration": 29,
    "start_time": "2024-12-24T05:20:31.279Z"
   },
   {
    "duration": 9,
    "start_time": "2024-12-24T05:20:31.310Z"
   },
   {
    "duration": 9,
    "start_time": "2024-12-24T05:20:31.323Z"
   },
   {
    "duration": 1505,
    "start_time": "2024-12-24T05:20:31.334Z"
   },
   {
    "duration": 222,
    "start_time": "2024-12-24T05:20:32.841Z"
   },
   {
    "duration": 42,
    "start_time": "2024-12-24T05:20:33.064Z"
   },
   {
    "duration": 13,
    "start_time": "2024-12-24T05:20:33.109Z"
   },
   {
    "duration": 11,
    "start_time": "2024-12-24T05:20:33.124Z"
   },
   {
    "duration": 2,
    "start_time": "2024-12-24T05:20:33.137Z"
   },
   {
    "duration": 4,
    "start_time": "2024-12-24T05:20:33.141Z"
   },
   {
    "duration": 128,
    "start_time": "2024-12-24T05:20:33.147Z"
   },
   {
    "duration": 12,
    "start_time": "2024-12-24T05:20:33.277Z"
   },
   {
    "duration": 698,
    "start_time": "2024-12-24T05:20:33.290Z"
   },
   {
    "duration": 37,
    "start_time": "2024-12-24T05:20:33.990Z"
   },
   {
    "duration": 13,
    "start_time": "2024-12-24T05:20:34.031Z"
   },
   {
    "duration": 80,
    "start_time": "2024-12-24T05:20:34.046Z"
   },
   {
    "duration": 23,
    "start_time": "2024-12-24T05:20:34.128Z"
   },
   {
    "duration": 118,
    "start_time": "2024-12-24T05:20:34.155Z"
   },
   {
    "duration": 5,
    "start_time": "2024-12-24T05:20:34.274Z"
   },
   {
    "duration": 167,
    "start_time": "2024-12-24T05:20:34.281Z"
   },
   {
    "duration": 104,
    "start_time": "2024-12-24T05:20:34.450Z"
   },
   {
    "duration": 146,
    "start_time": "2024-12-24T05:20:34.556Z"
   },
   {
    "duration": 9,
    "start_time": "2024-12-24T05:20:34.704Z"
   },
   {
    "duration": 213,
    "start_time": "2024-12-24T05:20:34.715Z"
   },
   {
    "duration": 209,
    "start_time": "2024-12-24T05:20:34.930Z"
   },
   {
    "duration": 143,
    "start_time": "2024-12-24T05:20:35.141Z"
   },
   {
    "duration": 15,
    "start_time": "2024-12-24T05:21:03.760Z"
   },
   {
    "duration": 132,
    "start_time": "2024-12-24T05:21:13.701Z"
   },
   {
    "duration": 36,
    "start_time": "2024-12-24T05:21:13.835Z"
   },
   {
    "duration": 9,
    "start_time": "2024-12-24T05:21:13.873Z"
   },
   {
    "duration": 22,
    "start_time": "2024-12-24T05:21:13.884Z"
   },
   {
    "duration": 707,
    "start_time": "2024-12-24T05:21:13.908Z"
   },
   {
    "duration": 192,
    "start_time": "2024-12-24T05:21:14.618Z"
   },
   {
    "duration": 11,
    "start_time": "2024-12-24T05:21:14.813Z"
   },
   {
    "duration": 94,
    "start_time": "2024-12-24T05:21:14.827Z"
   },
   {
    "duration": 94,
    "start_time": "2024-12-24T05:21:14.923Z"
   },
   {
    "duration": 49,
    "start_time": "2024-12-24T05:21:15.023Z"
   },
   {
    "duration": 59,
    "start_time": "2024-12-24T05:21:15.074Z"
   },
   {
    "duration": 6,
    "start_time": "2024-12-24T05:21:15.135Z"
   },
   {
    "duration": 20,
    "start_time": "2024-12-24T05:21:15.143Z"
   },
   {
    "duration": 8,
    "start_time": "2024-12-24T05:21:15.164Z"
   },
   {
    "duration": 30,
    "start_time": "2024-12-24T05:21:15.173Z"
   },
   {
    "duration": 13,
    "start_time": "2024-12-24T05:21:15.205Z"
   },
   {
    "duration": 1442,
    "start_time": "2024-12-24T05:21:15.221Z"
   },
   {
    "duration": 225,
    "start_time": "2024-12-24T05:21:16.664Z"
   },
   {
    "duration": 41,
    "start_time": "2024-12-24T05:21:16.891Z"
   },
   {
    "duration": 11,
    "start_time": "2024-12-24T05:21:16.934Z"
   },
   {
    "duration": 11,
    "start_time": "2024-12-24T05:21:16.947Z"
   },
   {
    "duration": 2,
    "start_time": "2024-12-24T05:21:16.960Z"
   },
   {
    "duration": 4,
    "start_time": "2024-12-24T05:21:16.963Z"
   },
   {
    "duration": 136,
    "start_time": "2024-12-24T05:21:16.969Z"
   },
   {
    "duration": 13,
    "start_time": "2024-12-24T05:21:17.107Z"
   },
   {
    "duration": 684,
    "start_time": "2024-12-24T05:21:17.122Z"
   },
   {
    "duration": 32,
    "start_time": "2024-12-24T05:21:17.807Z"
   },
   {
    "duration": 12,
    "start_time": "2024-12-24T05:21:17.843Z"
   },
   {
    "duration": 83,
    "start_time": "2024-12-24T05:21:17.857Z"
   },
   {
    "duration": 22,
    "start_time": "2024-12-24T05:21:17.942Z"
   },
   {
    "duration": 119,
    "start_time": "2024-12-24T05:21:17.966Z"
   },
   {
    "duration": 5,
    "start_time": "2024-12-24T05:21:18.087Z"
   },
   {
    "duration": 165,
    "start_time": "2024-12-24T05:21:18.094Z"
   },
   {
    "duration": 95,
    "start_time": "2024-12-24T05:21:18.261Z"
   },
   {
    "duration": 140,
    "start_time": "2024-12-24T05:21:18.358Z"
   },
   {
    "duration": 13,
    "start_time": "2024-12-24T05:21:18.500Z"
   },
   {
    "duration": 210,
    "start_time": "2024-12-24T05:21:18.515Z"
   },
   {
    "duration": 15,
    "start_time": "2024-12-24T05:21:18.726Z"
   },
   {
    "duration": 142,
    "start_time": "2024-12-24T05:21:18.742Z"
   },
   {
    "duration": 482,
    "start_time": "2024-12-24T05:29:21.898Z"
   },
   {
    "duration": 552,
    "start_time": "2024-12-24T05:31:18.669Z"
   },
   {
    "duration": 164,
    "start_time": "2024-12-24T05:33:46.168Z"
   },
   {
    "duration": 14,
    "start_time": "2024-12-24T05:39:01.732Z"
   },
   {
    "duration": 154,
    "start_time": "2024-12-24T05:39:15.118Z"
   },
   {
    "duration": 37,
    "start_time": "2024-12-24T05:41:36.419Z"
   },
   {
    "duration": 13,
    "start_time": "2024-12-24T05:47:27.496Z"
   },
   {
    "duration": 7,
    "start_time": "2024-12-24T05:47:31.316Z"
   },
   {
    "duration": 4,
    "start_time": "2024-12-24T05:47:32.949Z"
   },
   {
    "duration": 19,
    "start_time": "2024-12-24T05:49:30.618Z"
   },
   {
    "duration": 49,
    "start_time": "2024-12-24T05:52:43.212Z"
   },
   {
    "duration": 5,
    "start_time": "2024-12-24T05:52:45.436Z"
   },
   {
    "duration": 55,
    "start_time": "2024-12-24T05:53:48.505Z"
   },
   {
    "duration": 45,
    "start_time": "2024-12-24T05:54:17.423Z"
   },
   {
    "duration": 5,
    "start_time": "2024-12-24T05:54:19.628Z"
   },
   {
    "duration": 122,
    "start_time": "2024-12-24T05:54:56.701Z"
   },
   {
    "duration": 36,
    "start_time": "2024-12-24T05:54:56.825Z"
   },
   {
    "duration": 10,
    "start_time": "2024-12-24T05:54:56.863Z"
   },
   {
    "duration": 30,
    "start_time": "2024-12-24T05:54:56.876Z"
   },
   {
    "duration": 698,
    "start_time": "2024-12-24T05:54:56.908Z"
   },
   {
    "duration": 171,
    "start_time": "2024-12-24T05:54:57.608Z"
   },
   {
    "duration": 10,
    "start_time": "2024-12-24T05:54:57.781Z"
   },
   {
    "duration": 84,
    "start_time": "2024-12-24T05:54:57.793Z"
   },
   {
    "duration": 77,
    "start_time": "2024-12-24T05:54:57.879Z"
   },
   {
    "duration": 45,
    "start_time": "2024-12-24T05:54:57.959Z"
   },
   {
    "duration": 40,
    "start_time": "2024-12-24T05:54:58.006Z"
   },
   {
    "duration": 5,
    "start_time": "2024-12-24T05:54:58.048Z"
   },
   {
    "duration": 18,
    "start_time": "2024-12-24T05:54:58.054Z"
   },
   {
    "duration": 8,
    "start_time": "2024-12-24T05:54:58.073Z"
   },
   {
    "duration": 31,
    "start_time": "2024-12-24T05:54:58.082Z"
   },
   {
    "duration": 10,
    "start_time": "2024-12-24T05:54:58.114Z"
   },
   {
    "duration": 1453,
    "start_time": "2024-12-24T05:54:58.125Z"
   },
   {
    "duration": 234,
    "start_time": "2024-12-24T05:54:59.580Z"
   },
   {
    "duration": 36,
    "start_time": "2024-12-24T05:54:59.816Z"
   },
   {
    "duration": 12,
    "start_time": "2024-12-24T05:54:59.854Z"
   },
   {
    "duration": 12,
    "start_time": "2024-12-24T05:54:59.868Z"
   },
   {
    "duration": 3,
    "start_time": "2024-12-24T05:54:59.906Z"
   },
   {
    "duration": 6,
    "start_time": "2024-12-24T05:54:59.910Z"
   },
   {
    "duration": 116,
    "start_time": "2024-12-24T05:54:59.918Z"
   },
   {
    "duration": 14,
    "start_time": "2024-12-24T05:55:00.036Z"
   },
   {
    "duration": 690,
    "start_time": "2024-12-24T05:55:00.052Z"
   },
   {
    "duration": 31,
    "start_time": "2024-12-24T05:55:00.744Z"
   },
   {
    "duration": 25,
    "start_time": "2024-12-24T05:55:00.780Z"
   },
   {
    "duration": 63,
    "start_time": "2024-12-24T05:55:00.806Z"
   },
   {
    "duration": 35,
    "start_time": "2024-12-24T05:55:00.871Z"
   },
   {
    "duration": 109,
    "start_time": "2024-12-24T05:55:00.908Z"
   },
   {
    "duration": 5,
    "start_time": "2024-12-24T05:55:01.019Z"
   },
   {
    "duration": 181,
    "start_time": "2024-12-24T05:55:01.026Z"
   },
   {
    "duration": 116,
    "start_time": "2024-12-24T05:55:01.209Z"
   },
   {
    "duration": 137,
    "start_time": "2024-12-24T05:55:01.328Z"
   },
   {
    "duration": 10,
    "start_time": "2024-12-24T05:55:01.466Z"
   },
   {
    "duration": 228,
    "start_time": "2024-12-24T05:55:01.477Z"
   },
   {
    "duration": 15,
    "start_time": "2024-12-24T05:55:01.707Z"
   },
   {
    "duration": 137,
    "start_time": "2024-12-24T05:55:01.723Z"
   },
   {
    "duration": 35,
    "start_time": "2024-12-24T05:55:01.862Z"
   },
   {
    "duration": 46,
    "start_time": "2024-12-24T05:55:01.905Z"
   },
   {
    "duration": 6,
    "start_time": "2024-12-24T05:55:01.952Z"
   },
   {
    "duration": 227,
    "start_time": "2024-12-24T06:00:03.614Z"
   },
   {
    "duration": 255,
    "start_time": "2024-12-24T06:01:48.736Z"
   },
   {
    "duration": 367,
    "start_time": "2024-12-24T06:03:32.568Z"
   },
   {
    "duration": 208,
    "start_time": "2024-12-24T06:04:00.098Z"
   },
   {
    "duration": 161,
    "start_time": "2024-12-24T06:04:08.767Z"
   },
   {
    "duration": 149,
    "start_time": "2024-12-24T06:04:16.766Z"
   },
   {
    "duration": 132,
    "start_time": "2024-12-24T06:05:04.341Z"
   },
   {
    "duration": 114,
    "start_time": "2024-12-24T06:05:21.517Z"
   },
   {
    "duration": 39,
    "start_time": "2024-12-24T06:09:50.853Z"
   },
   {
    "duration": 42,
    "start_time": "2024-12-24T06:10:16.269Z"
   },
   {
    "duration": 101,
    "start_time": "2024-12-24T06:13:07.181Z"
   },
   {
    "duration": 105,
    "start_time": "2024-12-24T06:13:20.217Z"
   },
   {
    "duration": 139,
    "start_time": "2024-12-24T06:14:03.725Z"
   },
   {
    "duration": 108,
    "start_time": "2024-12-24T06:17:03.014Z"
   },
   {
    "duration": 107,
    "start_time": "2024-12-24T06:17:25.542Z"
   },
   {
    "duration": 453,
    "start_time": "2024-12-24T15:22:45.116Z"
   },
   {
    "duration": 61,
    "start_time": "2024-12-24T15:22:45.571Z"
   },
   {
    "duration": 12,
    "start_time": "2024-12-24T15:22:45.633Z"
   },
   {
    "duration": 9,
    "start_time": "2024-12-24T15:22:45.647Z"
   },
   {
    "duration": 771,
    "start_time": "2024-12-24T15:22:45.658Z"
   },
   {
    "duration": 242,
    "start_time": "2024-12-24T15:22:46.431Z"
   },
   {
    "duration": 13,
    "start_time": "2024-12-24T15:22:46.676Z"
   },
   {
    "duration": 118,
    "start_time": "2024-12-24T15:22:46.690Z"
   },
   {
    "duration": 95,
    "start_time": "2024-12-24T15:22:46.809Z"
   },
   {
    "duration": 44,
    "start_time": "2024-12-24T15:22:46.906Z"
   },
   {
    "duration": 55,
    "start_time": "2024-12-24T15:22:46.952Z"
   },
   {
    "duration": 6,
    "start_time": "2024-12-24T15:22:47.009Z"
   },
   {
    "duration": 19,
    "start_time": "2024-12-24T15:22:47.016Z"
   },
   {
    "duration": 8,
    "start_time": "2024-12-24T15:22:47.038Z"
   },
   {
    "duration": 31,
    "start_time": "2024-12-24T15:22:47.047Z"
   },
   {
    "duration": 8,
    "start_time": "2024-12-24T15:22:47.080Z"
   },
   {
    "duration": 1462,
    "start_time": "2024-12-24T15:22:47.090Z"
   },
   {
    "duration": 208,
    "start_time": "2024-12-24T15:22:48.554Z"
   },
   {
    "duration": 35,
    "start_time": "2024-12-24T15:22:48.770Z"
   },
   {
    "duration": 10,
    "start_time": "2024-12-24T15:22:48.807Z"
   },
   {
    "duration": 10,
    "start_time": "2024-12-24T15:22:48.819Z"
   },
   {
    "duration": 3,
    "start_time": "2024-12-24T15:22:48.831Z"
   },
   {
    "duration": 5,
    "start_time": "2024-12-24T15:22:48.835Z"
   },
   {
    "duration": 109,
    "start_time": "2024-12-24T15:22:48.869Z"
   },
   {
    "duration": 14,
    "start_time": "2024-12-24T15:22:48.979Z"
   },
   {
    "duration": 700,
    "start_time": "2024-12-24T15:22:48.995Z"
   },
   {
    "duration": 33,
    "start_time": "2024-12-24T15:22:49.697Z"
   },
   {
    "duration": 12,
    "start_time": "2024-12-24T15:22:49.732Z"
   },
   {
    "duration": 83,
    "start_time": "2024-12-24T15:22:49.746Z"
   },
   {
    "duration": 25,
    "start_time": "2024-12-24T15:22:49.831Z"
   },
   {
    "duration": 123,
    "start_time": "2024-12-24T15:22:49.858Z"
   },
   {
    "duration": 6,
    "start_time": "2024-12-24T15:22:49.983Z"
   },
   {
    "duration": 2002,
    "start_time": "2024-12-24T15:22:49.990Z"
   },
   {
    "duration": 130,
    "start_time": "2024-12-24T15:22:51.994Z"
   },
   {
    "duration": 145,
    "start_time": "2024-12-24T15:22:52.126Z"
   },
   {
    "duration": 10,
    "start_time": "2024-12-24T15:22:52.273Z"
   },
   {
    "duration": 212,
    "start_time": "2024-12-24T15:22:52.285Z"
   },
   {
    "duration": 15,
    "start_time": "2024-12-24T15:22:52.498Z"
   },
   {
    "duration": 140,
    "start_time": "2024-12-24T15:22:52.514Z"
   },
   {
    "duration": 48,
    "start_time": "2024-12-24T15:22:52.657Z"
   },
   {
    "duration": 47,
    "start_time": "2024-12-24T15:22:52.709Z"
   },
   {
    "duration": 13,
    "start_time": "2024-12-24T15:22:52.758Z"
   },
   {
    "duration": 123,
    "start_time": "2024-12-24T15:22:52.773Z"
   },
   {
    "duration": 115,
    "start_time": "2024-12-24T15:22:52.898Z"
   },
   {
    "duration": 536,
    "start_time": "2024-12-24T15:24:16.936Z"
   },
   {
    "duration": 38,
    "start_time": "2024-12-24T15:25:50.969Z"
   },
   {
    "duration": 137,
    "start_time": "2024-12-24T15:31:36.246Z"
   },
   {
    "duration": 192,
    "start_time": "2024-12-24T15:33:23.335Z"
   },
   {
    "duration": 128,
    "start_time": "2024-12-24T15:34:20.857Z"
   },
   {
    "duration": 16,
    "start_time": "2024-12-24T15:34:56.581Z"
   },
   {
    "duration": 203,
    "start_time": "2024-12-24T15:35:35.170Z"
   },
   {
    "duration": 121,
    "start_time": "2024-12-24T15:36:08.289Z"
   },
   {
    "duration": 37,
    "start_time": "2024-12-24T15:36:08.412Z"
   },
   {
    "duration": 19,
    "start_time": "2024-12-24T15:36:08.452Z"
   },
   {
    "duration": 8,
    "start_time": "2024-12-24T15:36:08.473Z"
   },
   {
    "duration": 710,
    "start_time": "2024-12-24T15:36:08.483Z"
   },
   {
    "duration": 187,
    "start_time": "2024-12-24T15:36:09.195Z"
   },
   {
    "duration": 10,
    "start_time": "2024-12-24T15:36:09.384Z"
   },
   {
    "duration": 88,
    "start_time": "2024-12-24T15:36:09.396Z"
   },
   {
    "duration": 70,
    "start_time": "2024-12-24T15:36:09.486Z"
   },
   {
    "duration": 45,
    "start_time": "2024-12-24T15:36:09.559Z"
   },
   {
    "duration": 40,
    "start_time": "2024-12-24T15:36:09.606Z"
   },
   {
    "duration": 6,
    "start_time": "2024-12-24T15:36:09.648Z"
   },
   {
    "duration": 32,
    "start_time": "2024-12-24T15:36:09.655Z"
   },
   {
    "duration": 8,
    "start_time": "2024-12-24T15:36:09.688Z"
   },
   {
    "duration": 9,
    "start_time": "2024-12-24T15:36:09.697Z"
   },
   {
    "duration": 10,
    "start_time": "2024-12-24T15:36:09.708Z"
   },
   {
    "duration": 1414,
    "start_time": "2024-12-24T15:36:09.719Z"
   },
   {
    "duration": 196,
    "start_time": "2024-12-24T15:36:11.135Z"
   },
   {
    "duration": 46,
    "start_time": "2024-12-24T15:36:11.334Z"
   },
   {
    "duration": 11,
    "start_time": "2024-12-24T15:36:11.381Z"
   },
   {
    "duration": 11,
    "start_time": "2024-12-24T15:36:11.394Z"
   },
   {
    "duration": 2,
    "start_time": "2024-12-24T15:36:11.407Z"
   },
   {
    "duration": 6,
    "start_time": "2024-12-24T15:36:11.411Z"
   },
   {
    "duration": 127,
    "start_time": "2024-12-24T15:36:11.419Z"
   },
   {
    "duration": 12,
    "start_time": "2024-12-24T15:36:11.548Z"
   },
   {
    "duration": 679,
    "start_time": "2024-12-24T15:36:11.570Z"
   },
   {
    "duration": 33,
    "start_time": "2024-12-24T15:36:12.251Z"
   },
   {
    "duration": 11,
    "start_time": "2024-12-24T15:36:12.288Z"
   },
   {
    "duration": 75,
    "start_time": "2024-12-24T15:36:12.300Z"
   },
   {
    "duration": 21,
    "start_time": "2024-12-24T15:36:12.377Z"
   },
   {
    "duration": 117,
    "start_time": "2024-12-24T15:36:12.400Z"
   },
   {
    "duration": 5,
    "start_time": "2024-12-24T15:36:12.519Z"
   },
   {
    "duration": 165,
    "start_time": "2024-12-24T15:36:12.526Z"
   },
   {
    "duration": 109,
    "start_time": "2024-12-24T15:36:12.692Z"
   },
   {
    "duration": 137,
    "start_time": "2024-12-24T15:36:12.803Z"
   },
   {
    "duration": 9,
    "start_time": "2024-12-24T15:36:12.942Z"
   },
   {
    "duration": 212,
    "start_time": "2024-12-24T15:36:12.953Z"
   },
   {
    "duration": 16,
    "start_time": "2024-12-24T15:36:13.170Z"
   },
   {
    "duration": 136,
    "start_time": "2024-12-24T15:36:13.187Z"
   },
   {
    "duration": 37,
    "start_time": "2024-12-24T15:36:13.325Z"
   },
   {
    "duration": 52,
    "start_time": "2024-12-24T15:36:13.363Z"
   },
   {
    "duration": 6,
    "start_time": "2024-12-24T15:36:13.417Z"
   },
   {
    "duration": 62,
    "start_time": "2024-12-24T15:36:13.425Z"
   },
   {
    "duration": 0,
    "start_time": "2024-12-24T15:36:13.489Z"
   },
   {
    "duration": 68,
    "start_time": "2024-12-24T15:37:40.744Z"
   },
   {
    "duration": 38,
    "start_time": "2024-12-24T15:39:01.101Z"
   },
   {
    "duration": 40,
    "start_time": "2024-12-24T15:39:24.121Z"
   },
   {
    "duration": 105,
    "start_time": "2024-12-24T15:39:41.895Z"
   },
   {
    "duration": 41,
    "start_time": "2024-12-24T15:40:57.536Z"
   },
   {
    "duration": 39,
    "start_time": "2024-12-24T15:41:08.369Z"
   },
   {
    "duration": 9,
    "start_time": "2024-12-24T15:41:53.113Z"
   },
   {
    "duration": 45,
    "start_time": "2024-12-24T15:42:01.656Z"
   },
   {
    "duration": 98,
    "start_time": "2024-12-24T15:42:15.557Z"
   },
   {
    "duration": 97,
    "start_time": "2024-12-24T15:45:01.976Z"
   },
   {
    "duration": 116,
    "start_time": "2024-12-24T15:47:24.619Z"
   },
   {
    "duration": 51,
    "start_time": "2024-12-24T15:47:24.737Z"
   },
   {
    "duration": 9,
    "start_time": "2024-12-24T15:47:24.790Z"
   },
   {
    "duration": 9,
    "start_time": "2024-12-24T15:47:24.801Z"
   },
   {
    "duration": 733,
    "start_time": "2024-12-24T15:47:24.811Z"
   },
   {
    "duration": 197,
    "start_time": "2024-12-24T15:47:25.546Z"
   },
   {
    "duration": 14,
    "start_time": "2024-12-24T15:47:25.747Z"
   },
   {
    "duration": 118,
    "start_time": "2024-12-24T15:47:25.771Z"
   },
   {
    "duration": 84,
    "start_time": "2024-12-24T15:47:25.890Z"
   },
   {
    "duration": 44,
    "start_time": "2024-12-24T15:47:25.978Z"
   },
   {
    "duration": 57,
    "start_time": "2024-12-24T15:47:26.024Z"
   },
   {
    "duration": 5,
    "start_time": "2024-12-24T15:47:26.083Z"
   },
   {
    "duration": 19,
    "start_time": "2024-12-24T15:47:26.090Z"
   },
   {
    "duration": 9,
    "start_time": "2024-12-24T15:47:26.110Z"
   },
   {
    "duration": 10,
    "start_time": "2024-12-24T15:47:26.121Z"
   },
   {
    "duration": 41,
    "start_time": "2024-12-24T15:47:26.133Z"
   },
   {
    "duration": 1592,
    "start_time": "2024-12-24T15:47:26.176Z"
   },
   {
    "duration": 223,
    "start_time": "2024-12-24T15:47:27.772Z"
   },
   {
    "duration": 49,
    "start_time": "2024-12-24T15:47:27.997Z"
   },
   {
    "duration": 27,
    "start_time": "2024-12-24T15:47:28.048Z"
   },
   {
    "duration": 14,
    "start_time": "2024-12-24T15:47:28.077Z"
   },
   {
    "duration": 2,
    "start_time": "2024-12-24T15:47:28.092Z"
   },
   {
    "duration": 5,
    "start_time": "2024-12-24T15:47:28.097Z"
   },
   {
    "duration": 167,
    "start_time": "2024-12-24T15:47:28.104Z"
   },
   {
    "duration": 16,
    "start_time": "2024-12-24T15:47:28.273Z"
   },
   {
    "duration": 792,
    "start_time": "2024-12-24T15:47:28.291Z"
   },
   {
    "duration": 45,
    "start_time": "2024-12-24T15:47:29.085Z"
   },
   {
    "duration": 13,
    "start_time": "2024-12-24T15:47:29.135Z"
   },
   {
    "duration": 83,
    "start_time": "2024-12-24T15:47:29.150Z"
   },
   {
    "duration": 23,
    "start_time": "2024-12-24T15:47:29.235Z"
   },
   {
    "duration": 109,
    "start_time": "2024-12-24T15:47:29.270Z"
   },
   {
    "duration": 6,
    "start_time": "2024-12-24T15:47:29.382Z"
   },
   {
    "duration": 163,
    "start_time": "2024-12-24T15:47:29.390Z"
   },
   {
    "duration": 182,
    "start_time": "2024-12-24T15:47:29.554Z"
   },
   {
    "duration": 155,
    "start_time": "2024-12-24T15:47:29.738Z"
   },
   {
    "duration": 9,
    "start_time": "2024-12-24T15:47:29.896Z"
   },
   {
    "duration": 216,
    "start_time": "2024-12-24T15:47:29.906Z"
   },
   {
    "duration": 24,
    "start_time": "2024-12-24T15:47:30.124Z"
   },
   {
    "duration": 139,
    "start_time": "2024-12-24T15:47:30.150Z"
   },
   {
    "duration": 37,
    "start_time": "2024-12-24T15:47:30.291Z"
   },
   {
    "duration": 62,
    "start_time": "2024-12-24T15:47:30.330Z"
   },
   {
    "duration": 4,
    "start_time": "2024-12-24T15:47:30.394Z"
   },
   {
    "duration": 36,
    "start_time": "2024-12-24T15:47:30.400Z"
   },
   {
    "duration": 62,
    "start_time": "2024-12-24T15:47:30.437Z"
   },
   {
    "duration": 118,
    "start_time": "2024-12-24T15:47:30.500Z"
   },
   {
    "duration": 686,
    "start_time": "2024-12-24T15:55:15.496Z"
   },
   {
    "duration": 282,
    "start_time": "2024-12-24T16:03:11.233Z"
   },
   {
    "duration": 154,
    "start_time": "2024-12-24T16:04:00.345Z"
   },
   {
    "duration": 148,
    "start_time": "2024-12-24T16:04:36.235Z"
   },
   {
    "duration": 144,
    "start_time": "2024-12-24T16:05:35.105Z"
   },
   {
    "duration": 127,
    "start_time": "2024-12-24T16:06:04.432Z"
   },
   {
    "duration": 116,
    "start_time": "2024-12-24T16:09:25.785Z"
   },
   {
    "duration": 120,
    "start_time": "2024-12-24T16:10:15.407Z"
   },
   {
    "duration": 366,
    "start_time": "2024-12-24T16:11:16.400Z"
   },
   {
    "duration": 114,
    "start_time": "2024-12-24T16:12:17.767Z"
   },
   {
    "duration": 114,
    "start_time": "2024-12-24T16:21:26.918Z"
   },
   {
    "duration": 51,
    "start_time": "2024-12-24T16:21:27.034Z"
   },
   {
    "duration": 10,
    "start_time": "2024-12-24T16:21:27.086Z"
   },
   {
    "duration": 8,
    "start_time": "2024-12-24T16:21:27.098Z"
   },
   {
    "duration": 711,
    "start_time": "2024-12-24T16:21:27.108Z"
   },
   {
    "duration": 181,
    "start_time": "2024-12-24T16:21:27.821Z"
   },
   {
    "duration": 12,
    "start_time": "2024-12-24T16:21:28.004Z"
   },
   {
    "duration": 88,
    "start_time": "2024-12-24T16:21:28.017Z"
   },
   {
    "duration": 72,
    "start_time": "2024-12-24T16:21:28.107Z"
   },
   {
    "duration": 36,
    "start_time": "2024-12-24T16:21:28.181Z"
   },
   {
    "duration": 52,
    "start_time": "2024-12-24T16:21:28.219Z"
   },
   {
    "duration": 6,
    "start_time": "2024-12-24T16:21:28.273Z"
   },
   {
    "duration": 18,
    "start_time": "2024-12-24T16:21:28.281Z"
   },
   {
    "duration": 7,
    "start_time": "2024-12-24T16:21:28.303Z"
   },
   {
    "duration": 8,
    "start_time": "2024-12-24T16:21:28.312Z"
   },
   {
    "duration": 9,
    "start_time": "2024-12-24T16:21:28.321Z"
   },
   {
    "duration": 1454,
    "start_time": "2024-12-24T16:21:28.332Z"
   },
   {
    "duration": 217,
    "start_time": "2024-12-24T16:21:29.788Z"
   },
   {
    "duration": 36,
    "start_time": "2024-12-24T16:21:30.007Z"
   },
   {
    "duration": 26,
    "start_time": "2024-12-24T16:21:30.044Z"
   },
   {
    "duration": 13,
    "start_time": "2024-12-24T16:21:30.071Z"
   },
   {
    "duration": 3,
    "start_time": "2024-12-24T16:21:30.085Z"
   },
   {
    "duration": 5,
    "start_time": "2024-12-24T16:21:30.089Z"
   },
   {
    "duration": 119,
    "start_time": "2024-12-24T16:21:30.096Z"
   },
   {
    "duration": 13,
    "start_time": "2024-12-24T16:21:30.217Z"
   },
   {
    "duration": 678,
    "start_time": "2024-12-24T16:21:30.231Z"
   },
   {
    "duration": 32,
    "start_time": "2024-12-24T16:21:30.910Z"
   },
   {
    "duration": 26,
    "start_time": "2024-12-24T16:21:30.944Z"
   },
   {
    "duration": 63,
    "start_time": "2024-12-24T16:21:30.972Z"
   },
   {
    "duration": 34,
    "start_time": "2024-12-24T16:21:31.037Z"
   },
   {
    "duration": 115,
    "start_time": "2024-12-24T16:21:31.072Z"
   },
   {
    "duration": 6,
    "start_time": "2024-12-24T16:21:31.188Z"
   },
   {
    "duration": 167,
    "start_time": "2024-12-24T16:21:31.196Z"
   },
   {
    "duration": 106,
    "start_time": "2024-12-24T16:21:31.365Z"
   },
   {
    "duration": 139,
    "start_time": "2024-12-24T16:21:31.473Z"
   },
   {
    "duration": 9,
    "start_time": "2024-12-24T16:21:31.614Z"
   },
   {
    "duration": 213,
    "start_time": "2024-12-24T16:21:31.624Z"
   },
   {
    "duration": 15,
    "start_time": "2024-12-24T16:21:31.839Z"
   },
   {
    "duration": 143,
    "start_time": "2024-12-24T16:21:31.856Z"
   },
   {
    "duration": 35,
    "start_time": "2024-12-24T16:21:32.001Z"
   },
   {
    "duration": 58,
    "start_time": "2024-12-24T16:21:32.040Z"
   },
   {
    "duration": 5,
    "start_time": "2024-12-24T16:21:32.099Z"
   },
   {
    "duration": 701,
    "start_time": "2024-12-24T16:21:32.106Z"
   },
   {
    "duration": 256,
    "start_time": "2024-12-24T16:21:32.809Z"
   },
   {
    "duration": 139,
    "start_time": "2024-12-24T16:21:33.066Z"
   },
   {
    "duration": 129,
    "start_time": "2024-12-24T16:21:33.207Z"
   },
   {
    "duration": 105,
    "start_time": "2024-12-24T16:34:11.149Z"
   },
   {
    "duration": 44,
    "start_time": "2024-12-24T16:34:11.256Z"
   },
   {
    "duration": 9,
    "start_time": "2024-12-24T16:34:11.301Z"
   },
   {
    "duration": 8,
    "start_time": "2024-12-24T16:34:11.312Z"
   },
   {
    "duration": 720,
    "start_time": "2024-12-24T16:34:11.322Z"
   },
   {
    "duration": 171,
    "start_time": "2024-12-24T16:34:12.044Z"
   },
   {
    "duration": 11,
    "start_time": "2024-12-24T16:34:12.217Z"
   },
   {
    "duration": 85,
    "start_time": "2024-12-24T16:34:12.229Z"
   },
   {
    "duration": 76,
    "start_time": "2024-12-24T16:34:12.316Z"
   },
   {
    "duration": 38,
    "start_time": "2024-12-24T16:34:12.394Z"
   },
   {
    "duration": 52,
    "start_time": "2024-12-24T16:34:12.434Z"
   },
   {
    "duration": 6,
    "start_time": "2024-12-24T16:34:12.487Z"
   },
   {
    "duration": 19,
    "start_time": "2024-12-24T16:34:12.495Z"
   },
   {
    "duration": 7,
    "start_time": "2024-12-24T16:34:12.518Z"
   },
   {
    "duration": 8,
    "start_time": "2024-12-24T16:34:12.527Z"
   },
   {
    "duration": 35,
    "start_time": "2024-12-24T16:34:12.537Z"
   },
   {
    "duration": 1432,
    "start_time": "2024-12-24T16:34:12.574Z"
   },
   {
    "duration": 213,
    "start_time": "2024-12-24T16:34:14.007Z"
   },
   {
    "duration": 35,
    "start_time": "2024-12-24T16:34:14.222Z"
   },
   {
    "duration": 11,
    "start_time": "2024-12-24T16:34:14.271Z"
   },
   {
    "duration": 10,
    "start_time": "2024-12-24T16:34:14.283Z"
   },
   {
    "duration": 2,
    "start_time": "2024-12-24T16:34:14.295Z"
   },
   {
    "duration": 5,
    "start_time": "2024-12-24T16:34:14.299Z"
   },
   {
    "duration": 131,
    "start_time": "2024-12-24T16:34:14.305Z"
   },
   {
    "duration": 13,
    "start_time": "2024-12-24T16:34:14.438Z"
   },
   {
    "duration": 697,
    "start_time": "2024-12-24T16:34:14.452Z"
   },
   {
    "duration": 39,
    "start_time": "2024-12-24T16:34:15.151Z"
   },
   {
    "duration": 12,
    "start_time": "2024-12-24T16:34:15.192Z"
   },
   {
    "duration": 75,
    "start_time": "2024-12-24T16:34:15.206Z"
   },
   {
    "duration": 23,
    "start_time": "2024-12-24T16:34:15.283Z"
   },
   {
    "duration": 124,
    "start_time": "2024-12-24T16:34:15.308Z"
   },
   {
    "duration": 7,
    "start_time": "2024-12-24T16:34:15.438Z"
   },
   {
    "duration": 156,
    "start_time": "2024-12-24T16:34:15.446Z"
   },
   {
    "duration": 99,
    "start_time": "2024-12-24T16:34:15.603Z"
   },
   {
    "duration": 141,
    "start_time": "2024-12-24T16:34:15.704Z"
   },
   {
    "duration": 9,
    "start_time": "2024-12-24T16:34:15.847Z"
   },
   {
    "duration": 199,
    "start_time": "2024-12-24T16:34:15.869Z"
   },
   {
    "duration": 17,
    "start_time": "2024-12-24T16:34:16.070Z"
   },
   {
    "duration": 136,
    "start_time": "2024-12-24T16:34:16.088Z"
   },
   {
    "duration": 44,
    "start_time": "2024-12-24T16:34:16.226Z"
   },
   {
    "duration": 45,
    "start_time": "2024-12-24T16:34:16.274Z"
   },
   {
    "duration": 12,
    "start_time": "2024-12-24T16:34:16.321Z"
   },
   {
    "duration": 717,
    "start_time": "2024-12-24T16:34:16.335Z"
   },
   {
    "duration": 273,
    "start_time": "2024-12-24T16:34:17.054Z"
   },
   {
    "duration": 141,
    "start_time": "2024-12-24T16:34:17.329Z"
   },
   {
    "duration": 121,
    "start_time": "2024-12-24T16:34:17.471Z"
   },
   {
    "duration": 263,
    "start_time": "2024-12-24T16:39:44.541Z"
   },
   {
    "duration": 132,
    "start_time": "2024-12-24T16:39:56.572Z"
   },
   {
    "duration": 129,
    "start_time": "2024-12-24T16:40:12.505Z"
   },
   {
    "duration": 141,
    "start_time": "2024-12-24T16:40:29.665Z"
   },
   {
    "duration": 260,
    "start_time": "2024-12-24T16:40:45.526Z"
   },
   {
    "duration": 124,
    "start_time": "2024-12-24T16:43:12.834Z"
   },
   {
    "duration": 119,
    "start_time": "2024-12-24T16:43:17.133Z"
   },
   {
    "duration": 35,
    "start_time": "2024-12-24T16:43:17.269Z"
   },
   {
    "duration": 9,
    "start_time": "2024-12-24T16:43:17.306Z"
   },
   {
    "duration": 8,
    "start_time": "2024-12-24T16:43:17.316Z"
   },
   {
    "duration": 706,
    "start_time": "2024-12-24T16:43:17.327Z"
   },
   {
    "duration": 189,
    "start_time": "2024-12-24T16:43:18.035Z"
   },
   {
    "duration": 11,
    "start_time": "2024-12-24T16:43:18.225Z"
   },
   {
    "duration": 87,
    "start_time": "2024-12-24T16:43:18.238Z"
   },
   {
    "duration": 77,
    "start_time": "2024-12-24T16:43:18.327Z"
   },
   {
    "duration": 35,
    "start_time": "2024-12-24T16:43:18.406Z"
   },
   {
    "duration": 52,
    "start_time": "2024-12-24T16:43:18.443Z"
   },
   {
    "duration": 4,
    "start_time": "2024-12-24T16:43:18.498Z"
   },
   {
    "duration": 24,
    "start_time": "2024-12-24T16:43:18.504Z"
   },
   {
    "duration": 10,
    "start_time": "2024-12-24T16:43:18.532Z"
   },
   {
    "duration": 32,
    "start_time": "2024-12-24T16:43:18.544Z"
   },
   {
    "duration": 9,
    "start_time": "2024-12-24T16:43:18.577Z"
   },
   {
    "duration": 1423,
    "start_time": "2024-12-24T16:43:18.587Z"
   },
   {
    "duration": 211,
    "start_time": "2024-12-24T16:43:20.011Z"
   },
   {
    "duration": 37,
    "start_time": "2024-12-24T16:43:20.224Z"
   },
   {
    "duration": 10,
    "start_time": "2024-12-24T16:43:20.271Z"
   },
   {
    "duration": 11,
    "start_time": "2024-12-24T16:43:20.283Z"
   },
   {
    "duration": 3,
    "start_time": "2024-12-24T16:43:20.295Z"
   },
   {
    "duration": 6,
    "start_time": "2024-12-24T16:43:20.300Z"
   },
   {
    "duration": 130,
    "start_time": "2024-12-24T16:43:20.307Z"
   },
   {
    "duration": 12,
    "start_time": "2024-12-24T16:43:20.439Z"
   },
   {
    "duration": 685,
    "start_time": "2024-12-24T16:43:20.453Z"
   },
   {
    "duration": 39,
    "start_time": "2024-12-24T16:43:21.140Z"
   },
   {
    "duration": 11,
    "start_time": "2024-12-24T16:43:21.181Z"
   },
   {
    "duration": 76,
    "start_time": "2024-12-24T16:43:21.195Z"
   },
   {
    "duration": 23,
    "start_time": "2024-12-24T16:43:21.272Z"
   },
   {
    "duration": 118,
    "start_time": "2024-12-24T16:43:21.297Z"
   },
   {
    "duration": 5,
    "start_time": "2024-12-24T16:43:21.417Z"
   },
   {
    "duration": 175,
    "start_time": "2024-12-24T16:43:21.424Z"
   },
   {
    "duration": 113,
    "start_time": "2024-12-24T16:43:21.601Z"
   },
   {
    "duration": 134,
    "start_time": "2024-12-24T16:43:21.715Z"
   },
   {
    "duration": 19,
    "start_time": "2024-12-24T16:43:21.851Z"
   },
   {
    "duration": 194,
    "start_time": "2024-12-24T16:43:21.871Z"
   },
   {
    "duration": 16,
    "start_time": "2024-12-24T16:43:22.070Z"
   },
   {
    "duration": 135,
    "start_time": "2024-12-24T16:43:22.087Z"
   },
   {
    "duration": 35,
    "start_time": "2024-12-24T16:43:22.224Z"
   },
   {
    "duration": 45,
    "start_time": "2024-12-24T16:43:22.269Z"
   },
   {
    "duration": 4,
    "start_time": "2024-12-24T16:43:22.316Z"
   },
   {
    "duration": 702,
    "start_time": "2024-12-24T16:43:22.322Z"
   },
   {
    "duration": 279,
    "start_time": "2024-12-24T16:43:23.025Z"
   },
   {
    "duration": 142,
    "start_time": "2024-12-24T16:43:23.306Z"
   },
   {
    "duration": 124,
    "start_time": "2024-12-24T16:43:23.450Z"
   },
   {
    "duration": 505,
    "start_time": "2024-12-24T20:39:57.767Z"
   },
   {
    "duration": 64,
    "start_time": "2024-12-24T20:39:58.274Z"
   },
   {
    "duration": 14,
    "start_time": "2024-12-24T20:39:58.340Z"
   },
   {
    "duration": 12,
    "start_time": "2024-12-24T20:39:58.356Z"
   },
   {
    "duration": 816,
    "start_time": "2024-12-24T20:39:58.371Z"
   },
   {
    "duration": 219,
    "start_time": "2024-12-24T20:39:59.188Z"
   },
   {
    "duration": 11,
    "start_time": "2024-12-24T20:39:59.409Z"
   },
   {
    "duration": 115,
    "start_time": "2024-12-24T20:39:59.422Z"
   },
   {
    "duration": 94,
    "start_time": "2024-12-24T20:39:59.539Z"
   },
   {
    "duration": 46,
    "start_time": "2024-12-24T20:39:59.635Z"
   },
   {
    "duration": 59,
    "start_time": "2024-12-24T20:39:59.683Z"
   },
   {
    "duration": 9,
    "start_time": "2024-12-24T20:39:59.744Z"
   },
   {
    "duration": 19,
    "start_time": "2024-12-24T20:39:59.754Z"
   },
   {
    "duration": 8,
    "start_time": "2024-12-24T20:39:59.778Z"
   },
   {
    "duration": 9,
    "start_time": "2024-12-24T20:39:59.788Z"
   },
   {
    "duration": 35,
    "start_time": "2024-12-24T20:39:59.799Z"
   },
   {
    "duration": 1510,
    "start_time": "2024-12-24T20:39:59.836Z"
   },
   {
    "duration": 233,
    "start_time": "2024-12-24T20:40:01.348Z"
   },
   {
    "duration": 36,
    "start_time": "2024-12-24T20:40:01.583Z"
   },
   {
    "duration": 13,
    "start_time": "2024-12-24T20:40:01.630Z"
   },
   {
    "duration": 11,
    "start_time": "2024-12-24T20:40:01.644Z"
   },
   {
    "duration": 2,
    "start_time": "2024-12-24T20:40:01.657Z"
   },
   {
    "duration": 5,
    "start_time": "2024-12-24T20:40:01.660Z"
   },
   {
    "duration": 129,
    "start_time": "2024-12-24T20:40:01.667Z"
   },
   {
    "duration": 16,
    "start_time": "2024-12-24T20:40:01.798Z"
   },
   {
    "duration": 728,
    "start_time": "2024-12-24T20:40:01.816Z"
   },
   {
    "duration": 31,
    "start_time": "2024-12-24T20:40:02.546Z"
   },
   {
    "duration": 11,
    "start_time": "2024-12-24T20:40:02.578Z"
   },
   {
    "duration": 79,
    "start_time": "2024-12-24T20:40:02.592Z"
   },
   {
    "duration": 24,
    "start_time": "2024-12-24T20:40:02.674Z"
   },
   {
    "duration": 128,
    "start_time": "2024-12-24T20:40:02.700Z"
   },
   {
    "duration": 5,
    "start_time": "2024-12-24T20:40:02.830Z"
   },
   {
    "duration": 2060,
    "start_time": "2024-12-24T20:40:02.837Z"
   },
   {
    "duration": 115,
    "start_time": "2024-12-24T20:40:04.900Z"
   },
   {
    "duration": 200,
    "start_time": "2024-12-24T20:40:05.017Z"
   },
   {
    "duration": 19,
    "start_time": "2024-12-24T20:40:05.219Z"
   },
   {
    "duration": 205,
    "start_time": "2024-12-24T20:40:05.242Z"
   },
   {
    "duration": 17,
    "start_time": "2024-12-24T20:40:05.449Z"
   },
   {
    "duration": 155,
    "start_time": "2024-12-24T20:40:05.468Z"
   },
   {
    "duration": 39,
    "start_time": "2024-12-24T20:40:05.624Z"
   },
   {
    "duration": 48,
    "start_time": "2024-12-24T20:40:05.668Z"
   },
   {
    "duration": 5,
    "start_time": "2024-12-24T20:40:05.730Z"
   },
   {
    "duration": 714,
    "start_time": "2024-12-24T20:40:05.737Z"
   },
   {
    "duration": 301,
    "start_time": "2024-12-24T20:40:06.453Z"
   },
   {
    "duration": 145,
    "start_time": "2024-12-24T20:40:06.756Z"
   },
   {
    "duration": 124,
    "start_time": "2024-12-24T20:40:06.903Z"
   },
   {
    "duration": 463,
    "start_time": "2024-12-25T05:43:55.979Z"
   },
   {
    "duration": 61,
    "start_time": "2024-12-25T05:43:56.444Z"
   },
   {
    "duration": 14,
    "start_time": "2024-12-25T05:43:56.507Z"
   },
   {
    "duration": 12,
    "start_time": "2024-12-25T05:43:56.523Z"
   },
   {
    "duration": 812,
    "start_time": "2024-12-25T05:43:56.536Z"
   },
   {
    "duration": 232,
    "start_time": "2024-12-25T05:43:57.350Z"
   },
   {
    "duration": 12,
    "start_time": "2024-12-25T05:43:57.584Z"
   },
   {
    "duration": 113,
    "start_time": "2024-12-25T05:43:57.597Z"
   },
   {
    "duration": 95,
    "start_time": "2024-12-25T05:43:57.712Z"
   },
   {
    "duration": 57,
    "start_time": "2024-12-25T05:43:57.810Z"
   },
   {
    "duration": 39,
    "start_time": "2024-12-25T05:43:57.868Z"
   },
   {
    "duration": 19,
    "start_time": "2024-12-25T05:43:57.909Z"
   },
   {
    "duration": 20,
    "start_time": "2024-12-25T05:43:57.929Z"
   },
   {
    "duration": 7,
    "start_time": "2024-12-25T05:43:57.951Z"
   },
   {
    "duration": 9,
    "start_time": "2024-12-25T05:43:57.960Z"
   },
   {
    "duration": 8,
    "start_time": "2024-12-25T05:43:57.971Z"
   },
   {
    "duration": 1474,
    "start_time": "2024-12-25T05:43:57.981Z"
   },
   {
    "duration": 213,
    "start_time": "2024-12-25T05:43:59.457Z"
   },
   {
    "duration": 36,
    "start_time": "2024-12-25T05:43:59.672Z"
   },
   {
    "duration": 19,
    "start_time": "2024-12-25T05:43:59.709Z"
   },
   {
    "duration": 11,
    "start_time": "2024-12-25T05:43:59.730Z"
   },
   {
    "duration": 3,
    "start_time": "2024-12-25T05:43:59.743Z"
   },
   {
    "duration": 6,
    "start_time": "2024-12-25T05:43:59.747Z"
   },
   {
    "duration": 129,
    "start_time": "2024-12-25T05:43:59.754Z"
   },
   {
    "duration": 14,
    "start_time": "2024-12-25T05:43:59.884Z"
   },
   {
    "duration": 698,
    "start_time": "2024-12-25T05:43:59.900Z"
   },
   {
    "duration": 34,
    "start_time": "2024-12-25T05:44:00.599Z"
   },
   {
    "duration": 12,
    "start_time": "2024-12-25T05:44:00.637Z"
   },
   {
    "duration": 75,
    "start_time": "2024-12-25T05:44:00.650Z"
   },
   {
    "duration": 23,
    "start_time": "2024-12-25T05:44:00.726Z"
   },
   {
    "duration": 121,
    "start_time": "2024-12-25T05:44:00.751Z"
   },
   {
    "duration": 7,
    "start_time": "2024-12-25T05:44:00.874Z"
   },
   {
    "duration": 1982,
    "start_time": "2024-12-25T05:44:00.882Z"
   },
   {
    "duration": 100,
    "start_time": "2024-12-25T05:44:02.866Z"
   },
   {
    "duration": 180,
    "start_time": "2024-12-25T05:44:02.968Z"
   },
   {
    "duration": 10,
    "start_time": "2024-12-25T05:44:03.150Z"
   },
   {
    "duration": 239,
    "start_time": "2024-12-25T05:44:03.161Z"
   },
   {
    "duration": 24,
    "start_time": "2024-12-25T05:44:03.402Z"
   },
   {
    "duration": 138,
    "start_time": "2024-12-25T05:44:03.428Z"
   },
   {
    "duration": 38,
    "start_time": "2024-12-25T05:44:03.568Z"
   },
   {
    "duration": 56,
    "start_time": "2024-12-25T05:44:03.608Z"
   },
   {
    "duration": 6,
    "start_time": "2024-12-25T05:44:03.666Z"
   },
   {
    "duration": 723,
    "start_time": "2024-12-25T05:44:03.674Z"
   },
   {
    "duration": 274,
    "start_time": "2024-12-25T05:44:04.400Z"
   },
   {
    "duration": 135,
    "start_time": "2024-12-25T05:44:04.676Z"
   },
   {
    "duration": 119,
    "start_time": "2024-12-25T05:44:04.813Z"
   },
   {
    "duration": 575,
    "start_time": "2024-12-25T16:54:47.950Z"
   },
   {
    "duration": 62,
    "start_time": "2024-12-25T16:54:48.527Z"
   },
   {
    "duration": 13,
    "start_time": "2024-12-25T16:54:48.591Z"
   },
   {
    "duration": 14,
    "start_time": "2024-12-25T16:54:48.606Z"
   },
   {
    "duration": 961,
    "start_time": "2024-12-25T16:54:48.623Z"
   },
   {
    "duration": 260,
    "start_time": "2024-12-25T16:54:49.587Z"
   },
   {
    "duration": 12,
    "start_time": "2024-12-25T16:54:49.851Z"
   },
   {
    "duration": 121,
    "start_time": "2024-12-25T16:54:49.865Z"
   },
   {
    "duration": 96,
    "start_time": "2024-12-25T16:54:49.988Z"
   },
   {
    "duration": 56,
    "start_time": "2024-12-25T16:54:50.086Z"
   },
   {
    "duration": 40,
    "start_time": "2024-12-25T16:54:50.144Z"
   },
   {
    "duration": 5,
    "start_time": "2024-12-25T16:54:50.185Z"
   },
   {
    "duration": 34,
    "start_time": "2024-12-25T16:54:50.192Z"
   },
   {
    "duration": 7,
    "start_time": "2024-12-25T16:54:50.228Z"
   },
   {
    "duration": 9,
    "start_time": "2024-12-25T16:54:50.237Z"
   },
   {
    "duration": 8,
    "start_time": "2024-12-25T16:54:50.247Z"
   },
   {
    "duration": 1494,
    "start_time": "2024-12-25T16:54:50.257Z"
   },
   {
    "duration": 238,
    "start_time": "2024-12-25T16:54:51.753Z"
   },
   {
    "duration": 41,
    "start_time": "2024-12-25T16:54:51.993Z"
   },
   {
    "duration": 15,
    "start_time": "2024-12-25T16:54:52.036Z"
   },
   {
    "duration": 10,
    "start_time": "2024-12-25T16:54:52.053Z"
   },
   {
    "duration": 2,
    "start_time": "2024-12-25T16:54:52.064Z"
   },
   {
    "duration": 4,
    "start_time": "2024-12-25T16:54:52.068Z"
   },
   {
    "duration": 127,
    "start_time": "2024-12-25T16:54:52.074Z"
   },
   {
    "duration": 21,
    "start_time": "2024-12-25T16:54:52.203Z"
   },
   {
    "duration": 705,
    "start_time": "2024-12-25T16:54:52.226Z"
   },
   {
    "duration": 32,
    "start_time": "2024-12-25T16:54:52.933Z"
   },
   {
    "duration": 11,
    "start_time": "2024-12-25T16:54:52.969Z"
   },
   {
    "duration": 83,
    "start_time": "2024-12-25T16:54:52.982Z"
   },
   {
    "duration": 22,
    "start_time": "2024-12-25T16:54:53.066Z"
   },
   {
    "duration": 128,
    "start_time": "2024-12-25T16:54:53.090Z"
   },
   {
    "duration": 7,
    "start_time": "2024-12-25T16:54:53.220Z"
   },
   {
    "duration": 2033,
    "start_time": "2024-12-25T16:54:53.229Z"
   },
   {
    "duration": 105,
    "start_time": "2024-12-25T16:54:55.265Z"
   },
   {
    "duration": 145,
    "start_time": "2024-12-25T16:54:55.372Z"
   },
   {
    "duration": 15,
    "start_time": "2024-12-25T16:54:55.518Z"
   },
   {
    "duration": 265,
    "start_time": "2024-12-25T16:54:55.535Z"
   },
   {
    "duration": 26,
    "start_time": "2024-12-25T16:54:55.802Z"
   },
   {
    "duration": 131,
    "start_time": "2024-12-25T16:54:55.829Z"
   },
   {
    "duration": 39,
    "start_time": "2024-12-25T16:54:55.962Z"
   },
   {
    "duration": 58,
    "start_time": "2024-12-25T16:54:56.003Z"
   },
   {
    "duration": 5,
    "start_time": "2024-12-25T16:54:56.063Z"
   },
   {
    "duration": 721,
    "start_time": "2024-12-25T16:54:56.070Z"
   },
   {
    "duration": 314,
    "start_time": "2024-12-25T16:54:56.793Z"
   },
   {
    "duration": 134,
    "start_time": "2024-12-25T16:54:57.109Z"
   },
   {
    "duration": 124,
    "start_time": "2024-12-25T16:54:57.245Z"
   },
   {
    "duration": 17,
    "start_time": "2024-12-25T17:49:39.124Z"
   },
   {
    "duration": 0,
    "start_time": "2024-12-25T17:49:39.143Z"
   },
   {
    "duration": 0,
    "start_time": "2024-12-25T17:49:39.145Z"
   },
   {
    "duration": 0,
    "start_time": "2024-12-25T17:49:39.146Z"
   },
   {
    "duration": 0,
    "start_time": "2024-12-25T17:49:39.148Z"
   },
   {
    "duration": 0,
    "start_time": "2024-12-25T17:49:39.149Z"
   },
   {
    "duration": 0,
    "start_time": "2024-12-25T17:49:39.150Z"
   },
   {
    "duration": 210,
    "start_time": "2024-12-25T17:49:39.152Z"
   },
   {
    "duration": 0,
    "start_time": "2024-12-25T17:49:39.365Z"
   },
   {
    "duration": 0,
    "start_time": "2024-12-25T17:49:39.367Z"
   },
   {
    "duration": 0,
    "start_time": "2024-12-25T17:49:39.368Z"
   },
   {
    "duration": 0,
    "start_time": "2024-12-25T17:49:39.369Z"
   },
   {
    "duration": 0,
    "start_time": "2024-12-25T17:49:39.370Z"
   },
   {
    "duration": 0,
    "start_time": "2024-12-25T17:49:39.371Z"
   },
   {
    "duration": 0,
    "start_time": "2024-12-25T17:49:39.372Z"
   },
   {
    "duration": 0,
    "start_time": "2024-12-25T17:49:39.373Z"
   },
   {
    "duration": 0,
    "start_time": "2024-12-25T17:49:39.374Z"
   },
   {
    "duration": 0,
    "start_time": "2024-12-25T17:49:39.375Z"
   },
   {
    "duration": 0,
    "start_time": "2024-12-25T17:49:39.376Z"
   },
   {
    "duration": 0,
    "start_time": "2024-12-25T17:49:39.378Z"
   },
   {
    "duration": 0,
    "start_time": "2024-12-25T17:49:39.379Z"
   },
   {
    "duration": 0,
    "start_time": "2024-12-25T17:49:39.380Z"
   },
   {
    "duration": 0,
    "start_time": "2024-12-25T17:49:39.382Z"
   },
   {
    "duration": 0,
    "start_time": "2024-12-25T17:49:39.383Z"
   },
   {
    "duration": 0,
    "start_time": "2024-12-25T17:49:39.384Z"
   },
   {
    "duration": 0,
    "start_time": "2024-12-25T17:49:39.386Z"
   },
   {
    "duration": 0,
    "start_time": "2024-12-25T17:49:39.388Z"
   },
   {
    "duration": 0,
    "start_time": "2024-12-25T17:49:39.389Z"
   },
   {
    "duration": 0,
    "start_time": "2024-12-25T17:49:39.424Z"
   },
   {
    "duration": 0,
    "start_time": "2024-12-25T17:49:39.426Z"
   },
   {
    "duration": 0,
    "start_time": "2024-12-25T17:49:39.427Z"
   },
   {
    "duration": 0,
    "start_time": "2024-12-25T17:49:39.429Z"
   },
   {
    "duration": 0,
    "start_time": "2024-12-25T17:49:39.431Z"
   },
   {
    "duration": 0,
    "start_time": "2024-12-25T17:49:39.432Z"
   },
   {
    "duration": 0,
    "start_time": "2024-12-25T17:49:39.433Z"
   },
   {
    "duration": 0,
    "start_time": "2024-12-25T17:49:39.435Z"
   },
   {
    "duration": 0,
    "start_time": "2024-12-25T17:49:39.437Z"
   },
   {
    "duration": 0,
    "start_time": "2024-12-25T17:49:39.438Z"
   },
   {
    "duration": 0,
    "start_time": "2024-12-25T17:49:39.440Z"
   },
   {
    "duration": 0,
    "start_time": "2024-12-25T17:49:39.441Z"
   },
   {
    "duration": 0,
    "start_time": "2024-12-25T17:49:39.443Z"
   },
   {
    "duration": 0,
    "start_time": "2024-12-25T17:49:39.444Z"
   },
   {
    "duration": 0,
    "start_time": "2024-12-25T17:49:39.446Z"
   },
   {
    "duration": 0,
    "start_time": "2024-12-25T17:49:39.447Z"
   },
   {
    "duration": 0,
    "start_time": "2024-12-25T17:49:39.449Z"
   },
   {
    "duration": 0,
    "start_time": "2024-12-25T17:49:39.450Z"
   },
   {
    "duration": 0,
    "start_time": "2024-12-25T17:49:39.452Z"
   },
   {
    "duration": 353,
    "start_time": "2024-12-25T17:53:05.250Z"
   },
   {
    "duration": 10,
    "start_time": "2024-12-25T17:54:51.348Z"
   },
   {
    "duration": 9,
    "start_time": "2024-12-25T17:54:58.500Z"
   },
   {
    "duration": 724,
    "start_time": "2024-12-25T17:55:06.461Z"
   },
   {
    "duration": 36,
    "start_time": "2024-12-25T18:00:09.383Z"
   },
   {
    "duration": 11,
    "start_time": "2024-12-25T18:00:51.780Z"
   },
   {
    "duration": 0,
    "start_time": "2024-12-25T18:00:51.793Z"
   },
   {
    "duration": 0,
    "start_time": "2024-12-25T18:00:51.795Z"
   },
   {
    "duration": 0,
    "start_time": "2024-12-25T18:00:51.797Z"
   },
   {
    "duration": 0,
    "start_time": "2024-12-25T18:00:51.798Z"
   },
   {
    "duration": 0,
    "start_time": "2024-12-25T18:00:51.799Z"
   },
   {
    "duration": 12,
    "start_time": "2024-12-25T18:00:51.802Z"
   },
   {
    "duration": 0,
    "start_time": "2024-12-25T18:00:51.817Z"
   },
   {
    "duration": 0,
    "start_time": "2024-12-25T18:00:51.818Z"
   },
   {
    "duration": 0,
    "start_time": "2024-12-25T18:00:51.819Z"
   },
   {
    "duration": 0,
    "start_time": "2024-12-25T18:00:51.820Z"
   },
   {
    "duration": 0,
    "start_time": "2024-12-25T18:00:51.822Z"
   },
   {
    "duration": 8,
    "start_time": "2024-12-25T18:00:51.825Z"
   },
   {
    "duration": 21,
    "start_time": "2024-12-25T18:00:51.835Z"
   },
   {
    "duration": 10,
    "start_time": "2024-12-25T18:00:51.858Z"
   },
   {
    "duration": 11,
    "start_time": "2024-12-25T18:00:51.870Z"
   },
   {
    "duration": 47,
    "start_time": "2024-12-25T18:00:51.884Z"
   },
   {
    "duration": 1554,
    "start_time": "2024-12-25T18:00:51.933Z"
   },
   {
    "duration": 273,
    "start_time": "2024-12-25T18:00:53.489Z"
   },
   {
    "duration": 42,
    "start_time": "2024-12-25T18:00:53.764Z"
   },
   {
    "duration": 31,
    "start_time": "2024-12-25T18:00:53.808Z"
   },
   {
    "duration": 12,
    "start_time": "2024-12-25T18:00:53.842Z"
   },
   {
    "duration": 3,
    "start_time": "2024-12-25T18:00:53.857Z"
   },
   {
    "duration": 6,
    "start_time": "2024-12-25T18:00:53.862Z"
   },
   {
    "duration": 140,
    "start_time": "2024-12-25T18:00:53.870Z"
   },
   {
    "duration": 27,
    "start_time": "2024-12-25T18:00:54.011Z"
   },
   {
    "duration": 718,
    "start_time": "2024-12-25T18:00:54.040Z"
   },
   {
    "duration": 30,
    "start_time": "2024-12-25T18:00:54.760Z"
   },
   {
    "duration": 11,
    "start_time": "2024-12-25T18:00:54.792Z"
   },
   {
    "duration": 79,
    "start_time": "2024-12-25T18:00:54.805Z"
   },
   {
    "duration": 23,
    "start_time": "2024-12-25T18:00:54.886Z"
   },
   {
    "duration": 139,
    "start_time": "2024-12-25T18:00:54.910Z"
   },
   {
    "duration": 5,
    "start_time": "2024-12-25T18:00:55.051Z"
   },
   {
    "duration": 366,
    "start_time": "2024-12-25T18:00:55.059Z"
   },
   {
    "duration": 99,
    "start_time": "2024-12-25T18:00:55.427Z"
   },
   {
    "duration": 155,
    "start_time": "2024-12-25T18:00:55.528Z"
   },
   {
    "duration": 10,
    "start_time": "2024-12-25T18:00:55.685Z"
   },
   {
    "duration": 238,
    "start_time": "2024-12-25T18:00:55.697Z"
   },
   {
    "duration": 18,
    "start_time": "2024-12-25T18:00:55.938Z"
   },
   {
    "duration": 149,
    "start_time": "2024-12-25T18:00:55.960Z"
   },
   {
    "duration": 44,
    "start_time": "2024-12-25T18:00:56.111Z"
   },
   {
    "duration": 50,
    "start_time": "2024-12-25T18:00:56.156Z"
   },
   {
    "duration": 18,
    "start_time": "2024-12-25T18:00:56.208Z"
   },
   {
    "duration": 732,
    "start_time": "2024-12-25T18:00:56.227Z"
   },
   {
    "duration": 298,
    "start_time": "2024-12-25T18:00:56.961Z"
   },
   {
    "duration": 192,
    "start_time": "2024-12-25T18:00:57.261Z"
   },
   {
    "duration": 131,
    "start_time": "2024-12-25T18:00:57.455Z"
   },
   {
    "duration": 91,
    "start_time": "2024-12-25T18:01:28.192Z"
   },
   {
    "duration": 10,
    "start_time": "2024-12-25T18:01:38.697Z"
   },
   {
    "duration": 101,
    "start_time": "2024-12-25T18:01:53.047Z"
   },
   {
    "duration": 101,
    "start_time": "2024-12-25T18:01:57.191Z"
   },
   {
    "duration": 77,
    "start_time": "2024-12-25T18:01:58.597Z"
   },
   {
    "duration": 38,
    "start_time": "2024-12-25T18:02:00.283Z"
   },
   {
    "duration": 11,
    "start_time": "2024-12-25T18:14:50.940Z"
   },
   {
    "duration": 6,
    "start_time": "2024-12-25T18:15:00.475Z"
   },
   {
    "duration": 20,
    "start_time": "2024-12-25T18:15:05.170Z"
   },
   {
    "duration": 11,
    "start_time": "2024-12-25T18:15:07.355Z"
   },
   {
    "duration": 9,
    "start_time": "2024-12-25T18:15:45.302Z"
   },
   {
    "duration": 4,
    "start_time": "2024-12-25T18:17:02.700Z"
   },
   {
    "duration": 5,
    "start_time": "2024-12-25T18:18:24.267Z"
   },
   {
    "duration": 729,
    "start_time": "2024-12-25T18:19:06.297Z"
   },
   {
    "duration": 663,
    "start_time": "2024-12-25T18:20:15.787Z"
   },
   {
    "duration": 7,
    "start_time": "2024-12-25T18:24:54.736Z"
   },
   {
    "duration": 6,
    "start_time": "2024-12-25T18:29:18.636Z"
   },
   {
    "duration": 11,
    "start_time": "2024-12-25T18:33:02.543Z"
   },
   {
    "duration": 693,
    "start_time": "2024-12-25T18:35:19.901Z"
   },
   {
    "duration": 30,
    "start_time": "2024-12-25T18:35:33.359Z"
   },
   {
    "duration": 11,
    "start_time": "2024-12-25T18:35:36.001Z"
   },
   {
    "duration": 63,
    "start_time": "2024-12-25T18:35:51.060Z"
   },
   {
    "duration": 53,
    "start_time": "2024-12-25T18:37:49.624Z"
   },
   {
    "duration": 5,
    "start_time": "2024-12-25T18:37:51.599Z"
   },
   {
    "duration": 313,
    "start_time": "2024-12-25T18:39:17.773Z"
   },
   {
    "duration": 45,
    "start_time": "2024-12-25T18:40:55.467Z"
   },
   {
    "duration": 6,
    "start_time": "2024-12-25T18:40:58.395Z"
   },
   {
    "duration": 13,
    "start_time": "2024-12-25T18:41:33.585Z"
   },
   {
    "duration": 0,
    "start_time": "2024-12-25T18:41:33.600Z"
   },
   {
    "duration": 0,
    "start_time": "2024-12-25T18:41:33.601Z"
   },
   {
    "duration": 1,
    "start_time": "2024-12-25T18:41:33.601Z"
   },
   {
    "duration": 0,
    "start_time": "2024-12-25T18:41:33.603Z"
   },
   {
    "duration": 0,
    "start_time": "2024-12-25T18:41:33.605Z"
   },
   {
    "duration": 74,
    "start_time": "2024-12-25T18:41:33.607Z"
   },
   {
    "duration": 10,
    "start_time": "2024-12-25T18:41:33.682Z"
   },
   {
    "duration": 90,
    "start_time": "2024-12-25T18:41:33.694Z"
   },
   {
    "duration": 109,
    "start_time": "2024-12-25T18:41:33.787Z"
   },
   {
    "duration": 65,
    "start_time": "2024-12-25T18:41:33.897Z"
   },
   {
    "duration": 11,
    "start_time": "2024-12-25T18:41:33.964Z"
   },
   {
    "duration": 6,
    "start_time": "2024-12-25T18:41:33.976Z"
   },
   {
    "duration": 17,
    "start_time": "2024-12-25T18:41:33.983Z"
   },
   {
    "duration": 7,
    "start_time": "2024-12-25T18:41:34.023Z"
   },
   {
    "duration": 5,
    "start_time": "2024-12-25T18:41:34.032Z"
   },
   {
    "duration": 4,
    "start_time": "2024-12-25T18:41:34.039Z"
   },
   {
    "duration": 793,
    "start_time": "2024-12-25T18:41:34.047Z"
   },
   {
    "duration": 691,
    "start_time": "2024-12-25T18:41:34.842Z"
   },
   {
    "duration": 7,
    "start_time": "2024-12-25T18:41:35.535Z"
   },
   {
    "duration": 11,
    "start_time": "2024-12-25T18:41:35.544Z"
   },
   {
    "duration": 11,
    "start_time": "2024-12-25T18:41:35.557Z"
   },
   {
    "duration": 8,
    "start_time": "2024-12-25T18:41:35.570Z"
   },
   {
    "duration": 4,
    "start_time": "2024-12-25T18:41:35.580Z"
   },
   {
    "duration": 47,
    "start_time": "2024-12-25T18:41:35.586Z"
   },
   {
    "duration": 32,
    "start_time": "2024-12-25T18:41:35.634Z"
   },
   {
    "duration": 6,
    "start_time": "2024-12-25T18:41:35.667Z"
   },
   {
    "duration": 80,
    "start_time": "2024-12-25T18:41:35.674Z"
   },
   {
    "duration": 23,
    "start_time": "2024-12-25T18:41:35.756Z"
   },
   {
    "duration": 138,
    "start_time": "2024-12-25T18:41:35.781Z"
   },
   {
    "duration": 6,
    "start_time": "2024-12-25T18:41:35.924Z"
   },
   {
    "duration": 227,
    "start_time": "2024-12-25T18:41:35.932Z"
   },
   {
    "duration": 101,
    "start_time": "2024-12-25T18:41:36.160Z"
   },
   {
    "duration": 144,
    "start_time": "2024-12-25T18:41:36.263Z"
   },
   {
    "duration": 15,
    "start_time": "2024-12-25T18:41:36.409Z"
   },
   {
    "duration": 222,
    "start_time": "2024-12-25T18:41:36.426Z"
   },
   {
    "duration": 16,
    "start_time": "2024-12-25T18:41:36.649Z"
   },
   {
    "duration": 136,
    "start_time": "2024-12-25T18:41:36.667Z"
   },
   {
    "duration": 55,
    "start_time": "2024-12-25T18:41:36.805Z"
   },
   {
    "duration": 5,
    "start_time": "2024-12-25T18:41:36.862Z"
   },
   {
    "duration": 722,
    "start_time": "2024-12-25T18:41:36.869Z"
   },
   {
    "duration": 308,
    "start_time": "2024-12-25T18:41:37.595Z"
   },
   {
    "duration": 144,
    "start_time": "2024-12-25T18:41:37.904Z"
   },
   {
    "duration": 130,
    "start_time": "2024-12-25T18:41:38.050Z"
   },
   {
    "duration": 16,
    "start_time": "2024-12-25T18:42:58.554Z"
   },
   {
    "duration": 0,
    "start_time": "2024-12-25T18:42:58.572Z"
   },
   {
    "duration": 0,
    "start_time": "2024-12-25T18:42:58.574Z"
   },
   {
    "duration": 0,
    "start_time": "2024-12-25T18:42:58.575Z"
   },
   {
    "duration": 0,
    "start_time": "2024-12-25T18:42:58.576Z"
   },
   {
    "duration": 0,
    "start_time": "2024-12-25T18:42:58.577Z"
   },
   {
    "duration": 0,
    "start_time": "2024-12-25T18:42:58.579Z"
   },
   {
    "duration": 159,
    "start_time": "2024-12-25T18:42:58.590Z"
   },
   {
    "duration": 0,
    "start_time": "2024-12-25T18:42:58.751Z"
   },
   {
    "duration": 0,
    "start_time": "2024-12-25T18:42:58.754Z"
   },
   {
    "duration": 0,
    "start_time": "2024-12-25T18:42:58.755Z"
   },
   {
    "duration": 0,
    "start_time": "2024-12-25T18:42:58.756Z"
   },
   {
    "duration": 0,
    "start_time": "2024-12-25T18:42:58.758Z"
   },
   {
    "duration": 0,
    "start_time": "2024-12-25T18:42:58.759Z"
   },
   {
    "duration": 0,
    "start_time": "2024-12-25T18:42:58.760Z"
   },
   {
    "duration": 0,
    "start_time": "2024-12-25T18:42:58.761Z"
   },
   {
    "duration": 0,
    "start_time": "2024-12-25T18:42:58.762Z"
   },
   {
    "duration": 0,
    "start_time": "2024-12-25T18:42:58.764Z"
   },
   {
    "duration": 0,
    "start_time": "2024-12-25T18:42:58.766Z"
   },
   {
    "duration": 0,
    "start_time": "2024-12-25T18:42:58.768Z"
   },
   {
    "duration": 0,
    "start_time": "2024-12-25T18:42:58.769Z"
   },
   {
    "duration": 0,
    "start_time": "2024-12-25T18:42:58.771Z"
   },
   {
    "duration": 0,
    "start_time": "2024-12-25T18:42:58.772Z"
   },
   {
    "duration": 0,
    "start_time": "2024-12-25T18:42:58.773Z"
   },
   {
    "duration": 0,
    "start_time": "2024-12-25T18:42:58.774Z"
   },
   {
    "duration": 0,
    "start_time": "2024-12-25T18:42:58.775Z"
   },
   {
    "duration": 0,
    "start_time": "2024-12-25T18:42:58.776Z"
   },
   {
    "duration": 0,
    "start_time": "2024-12-25T18:42:58.777Z"
   },
   {
    "duration": 0,
    "start_time": "2024-12-25T18:42:58.779Z"
   },
   {
    "duration": 0,
    "start_time": "2024-12-25T18:42:58.780Z"
   },
   {
    "duration": 0,
    "start_time": "2024-12-25T18:42:58.824Z"
   },
   {
    "duration": 0,
    "start_time": "2024-12-25T18:42:58.825Z"
   },
   {
    "duration": 0,
    "start_time": "2024-12-25T18:42:58.827Z"
   },
   {
    "duration": 0,
    "start_time": "2024-12-25T18:42:58.829Z"
   },
   {
    "duration": 0,
    "start_time": "2024-12-25T18:42:58.831Z"
   },
   {
    "duration": 0,
    "start_time": "2024-12-25T18:42:58.832Z"
   },
   {
    "duration": 0,
    "start_time": "2024-12-25T18:42:58.833Z"
   },
   {
    "duration": 0,
    "start_time": "2024-12-25T18:42:58.835Z"
   },
   {
    "duration": 0,
    "start_time": "2024-12-25T18:42:58.836Z"
   },
   {
    "duration": 0,
    "start_time": "2024-12-25T18:42:58.838Z"
   },
   {
    "duration": 0,
    "start_time": "2024-12-25T18:42:58.839Z"
   },
   {
    "duration": 0,
    "start_time": "2024-12-25T18:42:58.841Z"
   },
   {
    "duration": 0,
    "start_time": "2024-12-25T18:42:58.842Z"
   },
   {
    "duration": 0,
    "start_time": "2024-12-25T18:42:58.843Z"
   },
   {
    "duration": 389,
    "start_time": "2024-12-25T18:43:16.693Z"
   },
   {
    "duration": 41,
    "start_time": "2024-12-25T18:43:22.642Z"
   },
   {
    "duration": 10,
    "start_time": "2024-12-25T18:43:27.613Z"
   },
   {
    "duration": 10,
    "start_time": "2024-12-25T18:43:32.577Z"
   },
   {
    "duration": 729,
    "start_time": "2024-12-25T18:43:39.286Z"
   },
   {
    "duration": 110,
    "start_time": "2024-12-25T18:43:48.125Z"
   },
   {
    "duration": 13,
    "start_time": "2024-12-25T18:43:55.018Z"
   },
   {
    "duration": 104,
    "start_time": "2024-12-25T18:44:06.241Z"
   },
   {
    "duration": 98,
    "start_time": "2024-12-25T18:44:08.371Z"
   },
   {
    "duration": 58,
    "start_time": "2024-12-25T18:44:09.991Z"
   },
   {
    "duration": 13,
    "start_time": "2024-12-25T18:44:19.359Z"
   },
   {
    "duration": 7,
    "start_time": "2024-12-25T18:44:23.707Z"
   },
   {
    "duration": 19,
    "start_time": "2024-12-25T18:44:25.386Z"
   },
   {
    "duration": 7,
    "start_time": "2024-12-25T18:44:33.870Z"
   },
   {
    "duration": 17,
    "start_time": "2024-12-25T19:01:10.244Z"
   },
   {
    "duration": 3,
    "start_time": "2024-12-25T19:04:38.840Z"
   },
   {
    "duration": 37,
    "start_time": "2024-12-25T19:06:34.378Z"
   },
   {
    "duration": 427,
    "start_time": "2024-12-25T19:07:28.021Z"
   },
   {
    "duration": 15,
    "start_time": "2024-12-25T19:07:54.924Z"
   },
   {
    "duration": 3,
    "start_time": "2024-12-25T19:08:40.681Z"
   },
   {
    "duration": 9,
    "start_time": "2024-12-25T19:11:17.284Z"
   },
   {
    "duration": 24,
    "start_time": "2024-12-25T19:18:59.088Z"
   },
   {
    "duration": 5,
    "start_time": "2024-12-25T19:25:24.999Z"
   },
   {
    "duration": 6,
    "start_time": "2024-12-25T19:25:34.944Z"
   },
   {
    "duration": 885,
    "start_time": "2024-12-25T19:25:42.381Z"
   },
   {
    "duration": 791,
    "start_time": "2024-12-25T19:25:48.006Z"
   },
   {
    "duration": 8,
    "start_time": "2024-12-25T19:26:02.026Z"
   },
   {
    "duration": 12,
    "start_time": "2024-12-25T19:26:27.048Z"
   },
   {
    "duration": 14,
    "start_time": "2024-12-25T19:26:35.462Z"
   },
   {
    "duration": 11,
    "start_time": "2024-12-25T19:26:41.604Z"
   },
   {
    "duration": 5,
    "start_time": "2024-12-25T19:26:55.286Z"
   },
   {
    "duration": 7,
    "start_time": "2024-12-25T19:26:59.797Z"
   },
   {
    "duration": 20,
    "start_time": "2024-12-25T19:27:10.520Z"
   },
   {
    "duration": 149,
    "start_time": "2024-12-25T19:39:29.881Z"
   },
   {
    "duration": 16,
    "start_time": "2024-12-25T19:39:36.846Z"
   },
   {
    "duration": 0,
    "start_time": "2024-12-25T19:39:36.864Z"
   },
   {
    "duration": 0,
    "start_time": "2024-12-25T19:39:36.864Z"
   },
   {
    "duration": 0,
    "start_time": "2024-12-25T19:39:36.866Z"
   },
   {
    "duration": 0,
    "start_time": "2024-12-25T19:39:36.866Z"
   },
   {
    "duration": 0,
    "start_time": "2024-12-25T19:39:36.868Z"
   },
   {
    "duration": 184,
    "start_time": "2024-12-25T19:39:36.871Z"
   },
   {
    "duration": 0,
    "start_time": "2024-12-25T19:39:37.058Z"
   },
   {
    "duration": 0,
    "start_time": "2024-12-25T19:39:37.059Z"
   },
   {
    "duration": 0,
    "start_time": "2024-12-25T19:39:37.060Z"
   },
   {
    "duration": 0,
    "start_time": "2024-12-25T19:39:37.062Z"
   },
   {
    "duration": 0,
    "start_time": "2024-12-25T19:39:37.063Z"
   },
   {
    "duration": 0,
    "start_time": "2024-12-25T19:39:37.065Z"
   },
   {
    "duration": 0,
    "start_time": "2024-12-25T19:39:37.066Z"
   },
   {
    "duration": 0,
    "start_time": "2024-12-25T19:39:37.068Z"
   },
   {
    "duration": 0,
    "start_time": "2024-12-25T19:39:37.069Z"
   },
   {
    "duration": 0,
    "start_time": "2024-12-25T19:39:37.070Z"
   },
   {
    "duration": 0,
    "start_time": "2024-12-25T19:39:37.072Z"
   },
   {
    "duration": 0,
    "start_time": "2024-12-25T19:39:37.073Z"
   },
   {
    "duration": 0,
    "start_time": "2024-12-25T19:39:37.074Z"
   },
   {
    "duration": 0,
    "start_time": "2024-12-25T19:39:37.076Z"
   },
   {
    "duration": 0,
    "start_time": "2024-12-25T19:39:37.079Z"
   },
   {
    "duration": 0,
    "start_time": "2024-12-25T19:39:37.080Z"
   },
   {
    "duration": 0,
    "start_time": "2024-12-25T19:39:37.081Z"
   },
   {
    "duration": 0,
    "start_time": "2024-12-25T19:39:37.082Z"
   },
   {
    "duration": 0,
    "start_time": "2024-12-25T19:39:37.083Z"
   },
   {
    "duration": 0,
    "start_time": "2024-12-25T19:39:37.085Z"
   },
   {
    "duration": 0,
    "start_time": "2024-12-25T19:39:37.085Z"
   },
   {
    "duration": 0,
    "start_time": "2024-12-25T19:39:37.086Z"
   },
   {
    "duration": 0,
    "start_time": "2024-12-25T19:39:37.087Z"
   },
   {
    "duration": 0,
    "start_time": "2024-12-25T19:39:37.128Z"
   },
   {
    "duration": 0,
    "start_time": "2024-12-25T19:39:37.129Z"
   },
   {
    "duration": 0,
    "start_time": "2024-12-25T19:39:37.130Z"
   },
   {
    "duration": 0,
    "start_time": "2024-12-25T19:39:37.130Z"
   },
   {
    "duration": 0,
    "start_time": "2024-12-25T19:39:37.131Z"
   },
   {
    "duration": 0,
    "start_time": "2024-12-25T19:39:37.139Z"
   },
   {
    "duration": 0,
    "start_time": "2024-12-25T19:39:37.140Z"
   },
   {
    "duration": 0,
    "start_time": "2024-12-25T19:39:37.140Z"
   },
   {
    "duration": 0,
    "start_time": "2024-12-25T19:39:37.141Z"
   },
   {
    "duration": 0,
    "start_time": "2024-12-25T19:39:37.142Z"
   },
   {
    "duration": 0,
    "start_time": "2024-12-25T19:39:37.142Z"
   },
   {
    "duration": 0,
    "start_time": "2024-12-25T19:39:37.143Z"
   },
   {
    "duration": 0,
    "start_time": "2024-12-25T19:39:37.151Z"
   },
   {
    "duration": 0,
    "start_time": "2024-12-25T19:39:37.152Z"
   },
   {
    "duration": 474,
    "start_time": "2024-12-25T19:39:51.556Z"
   },
   {
    "duration": 41,
    "start_time": "2024-12-25T19:40:00.979Z"
   },
   {
    "duration": 10,
    "start_time": "2024-12-25T19:40:06.398Z"
   },
   {
    "duration": 10,
    "start_time": "2024-12-25T19:40:11.483Z"
   },
   {
    "duration": 798,
    "start_time": "2024-12-25T19:40:16.949Z"
   },
   {
    "duration": 127,
    "start_time": "2024-12-25T19:40:25.335Z"
   },
   {
    "duration": 17,
    "start_time": "2024-12-25T19:40:34.148Z"
   },
   {
    "duration": 138,
    "start_time": "2024-12-25T19:40:40.805Z"
   },
   {
    "duration": 137,
    "start_time": "2024-12-25T19:40:45.331Z"
   },
   {
    "duration": 105,
    "start_time": "2024-12-25T19:40:46.954Z"
   },
   {
    "duration": 53,
    "start_time": "2024-12-25T19:40:54.920Z"
   },
   {
    "duration": 16,
    "start_time": "2024-12-25T19:41:03.146Z"
   },
   {
    "duration": 6,
    "start_time": "2024-12-25T19:41:04.879Z"
   },
   {
    "duration": 24,
    "start_time": "2024-12-25T19:41:06.225Z"
   },
   {
    "duration": 20,
    "start_time": "2024-12-25T19:41:07.775Z"
   },
   {
    "duration": 5,
    "start_time": "2024-12-25T19:41:18.399Z"
   },
   {
    "duration": 4,
    "start_time": "2024-12-25T19:41:28.282Z"
   },
   {
    "duration": 898,
    "start_time": "2024-12-25T19:41:41.305Z"
   },
   {
    "duration": 813,
    "start_time": "2024-12-25T19:41:44.159Z"
   },
   {
    "duration": 8,
    "start_time": "2024-12-25T19:41:57.551Z"
   },
   {
    "duration": 32,
    "start_time": "2024-12-25T19:42:05.421Z"
   },
   {
    "duration": 12,
    "start_time": "2024-12-25T19:42:13.075Z"
   },
   {
    "duration": 10,
    "start_time": "2024-12-25T19:42:20.201Z"
   },
   {
    "duration": 5,
    "start_time": "2024-12-25T19:42:27.409Z"
   },
   {
    "duration": 13,
    "start_time": "2024-12-25T19:42:45.299Z"
   },
   {
    "duration": 32,
    "start_time": "2024-12-25T19:46:41.901Z"
   },
   {
    "duration": 12,
    "start_time": "2024-12-25T19:46:45.291Z"
   },
   {
    "duration": 8,
    "start_time": "2024-12-25T19:47:26.844Z"
   },
   {
    "duration": 23,
    "start_time": "2024-12-25T19:53:08.412Z"
   },
   {
    "duration": 5,
    "start_time": "2024-12-25T19:53:29.672Z"
   },
   {
    "duration": 355,
    "start_time": "2024-12-25T19:53:47.744Z"
   },
   {
    "duration": 93,
    "start_time": "2024-12-25T19:54:59.394Z"
   },
   {
    "duration": 142,
    "start_time": "2024-12-25T19:55:08.254Z"
   },
   {
    "duration": 8,
    "start_time": "2024-12-25T19:55:17.673Z"
   },
   {
    "duration": 229,
    "start_time": "2024-12-25T19:55:33.160Z"
   },
   {
    "duration": 18,
    "start_time": "2024-12-25T19:56:04.665Z"
   },
   {
    "duration": 126,
    "start_time": "2024-12-25T19:56:10.319Z"
   },
   {
    "duration": 48,
    "start_time": "2024-12-25T19:56:23.206Z"
   },
   {
    "duration": 4,
    "start_time": "2024-12-25T19:56:34.036Z"
   },
   {
    "duration": 287,
    "start_time": "2024-12-25T19:57:02.650Z"
   },
   {
    "duration": 187,
    "start_time": "2024-12-25T19:57:11.775Z"
   },
   {
    "duration": 120,
    "start_time": "2024-12-25T19:57:20.896Z"
   },
   {
    "duration": 16,
    "start_time": "2024-12-26T05:48:39.178Z"
   },
   {
    "duration": 0,
    "start_time": "2024-12-26T05:48:39.196Z"
   },
   {
    "duration": 0,
    "start_time": "2024-12-26T05:48:39.198Z"
   },
   {
    "duration": 0,
    "start_time": "2024-12-26T05:48:39.199Z"
   },
   {
    "duration": 0,
    "start_time": "2024-12-26T05:48:39.200Z"
   },
   {
    "duration": 0,
    "start_time": "2024-12-26T05:48:39.202Z"
   },
   {
    "duration": 0,
    "start_time": "2024-12-26T05:48:39.204Z"
   },
   {
    "duration": 0,
    "start_time": "2024-12-26T05:48:39.205Z"
   },
   {
    "duration": 0,
    "start_time": "2024-12-26T05:48:39.206Z"
   },
   {
    "duration": 0,
    "start_time": "2024-12-26T05:48:39.207Z"
   },
   {
    "duration": 0,
    "start_time": "2024-12-26T05:48:39.209Z"
   },
   {
    "duration": 210,
    "start_time": "2024-12-26T05:48:39.211Z"
   },
   {
    "duration": 0,
    "start_time": "2024-12-26T05:48:39.424Z"
   },
   {
    "duration": 0,
    "start_time": "2024-12-26T05:48:39.426Z"
   },
   {
    "duration": 0,
    "start_time": "2024-12-26T05:48:39.427Z"
   },
   {
    "duration": 0,
    "start_time": "2024-12-26T05:48:39.428Z"
   },
   {
    "duration": 0,
    "start_time": "2024-12-26T05:48:39.429Z"
   },
   {
    "duration": 0,
    "start_time": "2024-12-26T05:48:39.430Z"
   },
   {
    "duration": 0,
    "start_time": "2024-12-26T05:48:39.432Z"
   },
   {
    "duration": 0,
    "start_time": "2024-12-26T05:48:39.432Z"
   },
   {
    "duration": 0,
    "start_time": "2024-12-26T05:48:39.433Z"
   },
   {
    "duration": 0,
    "start_time": "2024-12-26T05:48:39.434Z"
   },
   {
    "duration": 0,
    "start_time": "2024-12-26T05:48:39.435Z"
   },
   {
    "duration": 0,
    "start_time": "2024-12-26T05:48:39.436Z"
   },
   {
    "duration": 0,
    "start_time": "2024-12-26T05:48:39.438Z"
   },
   {
    "duration": 0,
    "start_time": "2024-12-26T05:48:39.439Z"
   },
   {
    "duration": 0,
    "start_time": "2024-12-26T05:48:39.440Z"
   },
   {
    "duration": 0,
    "start_time": "2024-12-26T05:48:39.441Z"
   },
   {
    "duration": 0,
    "start_time": "2024-12-26T05:48:39.470Z"
   },
   {
    "duration": 0,
    "start_time": "2024-12-26T05:48:39.470Z"
   },
   {
    "duration": 0,
    "start_time": "2024-12-26T05:48:39.471Z"
   },
   {
    "duration": 0,
    "start_time": "2024-12-26T05:48:39.473Z"
   },
   {
    "duration": 0,
    "start_time": "2024-12-26T05:48:39.475Z"
   },
   {
    "duration": 0,
    "start_time": "2024-12-26T05:48:39.476Z"
   },
   {
    "duration": 0,
    "start_time": "2024-12-26T05:48:39.477Z"
   },
   {
    "duration": 0,
    "start_time": "2024-12-26T05:48:39.479Z"
   },
   {
    "duration": 0,
    "start_time": "2024-12-26T05:48:39.480Z"
   },
   {
    "duration": 0,
    "start_time": "2024-12-26T05:48:39.482Z"
   },
   {
    "duration": 0,
    "start_time": "2024-12-26T05:48:39.483Z"
   },
   {
    "duration": 0,
    "start_time": "2024-12-26T05:48:39.484Z"
   },
   {
    "duration": 0,
    "start_time": "2024-12-26T05:48:39.486Z"
   },
   {
    "duration": 23,
    "start_time": "2024-12-26T05:48:39.490Z"
   },
   {
    "duration": 451,
    "start_time": "2024-12-26T05:48:59.465Z"
   },
   {
    "duration": 59,
    "start_time": "2024-12-26T05:49:07.492Z"
   },
   {
    "duration": 9,
    "start_time": "2024-12-26T05:49:18.088Z"
   },
   {
    "duration": 10,
    "start_time": "2024-12-26T05:49:24.096Z"
   },
   {
    "duration": 781,
    "start_time": "2024-12-26T05:49:29.343Z"
   },
   {
    "duration": 108,
    "start_time": "2024-12-26T05:49:38.431Z"
   },
   {
    "duration": 12,
    "start_time": "2024-12-26T05:49:44.941Z"
   },
   {
    "duration": 105,
    "start_time": "2024-12-26T05:49:50.641Z"
   },
   {
    "duration": 96,
    "start_time": "2024-12-26T05:49:52.081Z"
   },
   {
    "duration": 55,
    "start_time": "2024-12-26T05:49:53.829Z"
   },
   {
    "duration": 15,
    "start_time": "2024-12-26T05:50:01.055Z"
   },
   {
    "duration": 6,
    "start_time": "2024-12-26T05:50:06.929Z"
   },
   {
    "duration": 19,
    "start_time": "2024-12-26T05:50:08.585Z"
   },
   {
    "duration": 20,
    "start_time": "2024-12-26T05:50:10.266Z"
   },
   {
    "duration": 5,
    "start_time": "2024-12-26T05:50:17.242Z"
   },
   {
    "duration": 4,
    "start_time": "2024-12-26T05:50:24.621Z"
   },
   {
    "duration": 795,
    "start_time": "2024-12-26T05:50:35.008Z"
   },
   {
    "duration": 683,
    "start_time": "2024-12-26T05:50:37.721Z"
   },
   {
    "duration": 8,
    "start_time": "2024-12-26T05:50:43.942Z"
   },
   {
    "duration": 12,
    "start_time": "2024-12-26T05:50:49.936Z"
   },
   {
    "duration": 11,
    "start_time": "2024-12-26T05:50:56.854Z"
   },
   {
    "duration": 10,
    "start_time": "2024-12-26T05:51:02.813Z"
   },
   {
    "duration": 5,
    "start_time": "2024-12-26T05:51:10.303Z"
   },
   {
    "duration": 15,
    "start_time": "2024-12-26T05:51:17.664Z"
   },
   {
    "duration": 33,
    "start_time": "2024-12-26T05:51:25.068Z"
   },
   {
    "duration": 13,
    "start_time": "2024-12-26T05:51:26.616Z"
   },
   {
    "duration": 24,
    "start_time": "2024-12-26T05:51:37.178Z"
   },
   {
    "duration": 5,
    "start_time": "2024-12-26T05:51:44.590Z"
   },
   {
    "duration": 2017,
    "start_time": "2024-12-26T05:51:50.409Z"
   },
   {
    "duration": 95,
    "start_time": "2024-12-26T05:52:01.188Z"
   },
   {
    "duration": 136,
    "start_time": "2024-12-26T05:52:08.598Z"
   },
   {
    "duration": 9,
    "start_time": "2024-12-26T05:52:29.914Z"
   },
   {
    "duration": 221,
    "start_time": "2024-12-26T05:52:32.589Z"
   },
   {
    "duration": 16,
    "start_time": "2024-12-26T05:52:42.353Z"
   },
   {
    "duration": 124,
    "start_time": "2024-12-26T05:52:45.080Z"
   },
   {
    "duration": 48,
    "start_time": "2024-12-26T05:52:55.987Z"
   },
   {
    "duration": 6,
    "start_time": "2024-12-26T05:53:01.432Z"
   },
   {
    "duration": 281,
    "start_time": "2024-12-26T05:53:11.590Z"
   },
   {
    "duration": 131,
    "start_time": "2024-12-26T05:53:17.688Z"
   },
   {
    "duration": 114,
    "start_time": "2024-12-26T05:53:25.823Z"
   },
   {
    "duration": 155,
    "start_time": "2024-12-26T17:19:34.674Z"
   },
   {
    "duration": 453,
    "start_time": "2024-12-26T17:19:40.889Z"
   },
   {
    "duration": 59,
    "start_time": "2024-12-26T17:19:41.344Z"
   },
   {
    "duration": 11,
    "start_time": "2024-12-26T17:19:41.405Z"
   },
   {
    "duration": 11,
    "start_time": "2024-12-26T17:19:41.418Z"
   },
   {
    "duration": 818,
    "start_time": "2024-12-26T17:19:41.431Z"
   },
   {
    "duration": 100,
    "start_time": "2024-12-26T17:19:42.251Z"
   },
   {
    "duration": 12,
    "start_time": "2024-12-26T17:19:42.353Z"
   },
   {
    "duration": 118,
    "start_time": "2024-12-26T17:19:42.367Z"
   },
   {
    "duration": 121,
    "start_time": "2024-12-26T17:19:42.487Z"
   },
   {
    "duration": 64,
    "start_time": "2024-12-26T17:19:42.610Z"
   },
   {
    "duration": 14,
    "start_time": "2024-12-26T17:19:42.677Z"
   },
   {
    "duration": 6,
    "start_time": "2024-12-26T17:19:42.693Z"
   },
   {
    "duration": 40,
    "start_time": "2024-12-26T17:19:42.701Z"
   },
   {
    "duration": 20,
    "start_time": "2024-12-26T17:19:42.745Z"
   },
   {
    "duration": 4,
    "start_time": "2024-12-26T17:19:42.767Z"
   },
   {
    "duration": 5,
    "start_time": "2024-12-26T17:19:42.773Z"
   },
   {
    "duration": 851,
    "start_time": "2024-12-26T17:19:42.780Z"
   },
   {
    "duration": 720,
    "start_time": "2024-12-26T17:19:43.633Z"
   },
   {
    "duration": 8,
    "start_time": "2024-12-26T17:19:44.355Z"
   },
   {
    "duration": 13,
    "start_time": "2024-12-26T17:19:44.365Z"
   },
   {
    "duration": 11,
    "start_time": "2024-12-26T17:19:44.380Z"
   },
   {
    "duration": 39,
    "start_time": "2024-12-26T17:19:44.392Z"
   },
   {
    "duration": 6,
    "start_time": "2024-12-26T17:19:44.433Z"
   },
   {
    "duration": 4,
    "start_time": "2024-12-26T17:19:44.442Z"
   },
   {
    "duration": 15,
    "start_time": "2024-12-26T17:19:44.450Z"
   },
   {
    "duration": 33,
    "start_time": "2024-12-26T17:19:44.467Z"
   },
   {
    "duration": 41,
    "start_time": "2024-12-26T17:19:44.502Z"
   },
   {
    "duration": 2,
    "start_time": "2024-12-26T17:19:44.545Z"
   },
   {
    "duration": 23,
    "start_time": "2024-12-26T17:19:44.549Z"
   },
   {
    "duration": 6,
    "start_time": "2024-12-26T17:19:44.575Z"
   },
   {
    "duration": 2108,
    "start_time": "2024-12-26T17:19:44.583Z"
   },
   {
    "duration": 104,
    "start_time": "2024-12-26T17:19:46.693Z"
   },
   {
    "duration": 191,
    "start_time": "2024-12-26T17:19:46.799Z"
   },
   {
    "duration": 9,
    "start_time": "2024-12-26T17:19:46.992Z"
   },
   {
    "duration": 231,
    "start_time": "2024-12-26T17:19:47.003Z"
   },
   {
    "duration": 17,
    "start_time": "2024-12-26T17:19:47.236Z"
   },
   {
    "duration": 137,
    "start_time": "2024-12-26T17:19:47.255Z"
   },
   {
    "duration": 57,
    "start_time": "2024-12-26T17:19:47.393Z"
   },
   {
    "duration": 5,
    "start_time": "2024-12-26T17:19:47.452Z"
   },
   {
    "duration": 356,
    "start_time": "2024-12-26T17:19:47.459Z"
   },
   {
    "duration": 142,
    "start_time": "2024-12-26T17:19:47.819Z"
   },
   {
    "duration": 129,
    "start_time": "2024-12-26T17:19:47.963Z"
   },
   {
    "duration": 32,
    "start_time": "2024-12-26T17:41:11.330Z"
   },
   {
    "duration": 459,
    "start_time": "2024-12-27T04:34:46.443Z"
   },
   {
    "duration": 61,
    "start_time": "2024-12-27T04:34:46.905Z"
   },
   {
    "duration": 16,
    "start_time": "2024-12-27T04:34:46.968Z"
   },
   {
    "duration": 10,
    "start_time": "2024-12-27T04:34:46.986Z"
   },
   {
    "duration": 830,
    "start_time": "2024-12-27T04:34:46.997Z"
   },
   {
    "duration": 102,
    "start_time": "2024-12-27T04:34:47.828Z"
   },
   {
    "duration": 12,
    "start_time": "2024-12-27T04:34:47.931Z"
   },
   {
    "duration": 114,
    "start_time": "2024-12-27T04:34:47.945Z"
   },
   {
    "duration": 102,
    "start_time": "2024-12-27T04:34:48.061Z"
   },
   {
    "duration": 52,
    "start_time": "2024-12-27T04:34:48.171Z"
   },
   {
    "duration": 15,
    "start_time": "2024-12-27T04:34:48.225Z"
   },
   {
    "duration": 6,
    "start_time": "2024-12-27T04:34:48.242Z"
   },
   {
    "duration": 20,
    "start_time": "2024-12-27T04:34:48.270Z"
   },
   {
    "duration": 21,
    "start_time": "2024-12-27T04:34:48.292Z"
   },
   {
    "duration": 4,
    "start_time": "2024-12-27T04:34:48.315Z"
   },
   {
    "duration": 5,
    "start_time": "2024-12-27T04:34:48.321Z"
   },
   {
    "duration": 814,
    "start_time": "2024-12-27T04:34:48.328Z"
   },
   {
    "duration": 721,
    "start_time": "2024-12-27T04:34:49.144Z"
   },
   {
    "duration": 7,
    "start_time": "2024-12-27T04:34:49.870Z"
   },
   {
    "duration": 11,
    "start_time": "2024-12-27T04:34:49.878Z"
   },
   {
    "duration": 11,
    "start_time": "2024-12-27T04:34:49.891Z"
   },
   {
    "duration": 10,
    "start_time": "2024-12-27T04:34:49.903Z"
   },
   {
    "duration": 6,
    "start_time": "2024-12-27T04:34:49.914Z"
   },
   {
    "duration": 5,
    "start_time": "2024-12-27T04:34:49.922Z"
   },
   {
    "duration": 56,
    "start_time": "2024-12-27T04:34:49.928Z"
   },
   {
    "duration": 34,
    "start_time": "2024-12-27T04:34:49.986Z"
   },
   {
    "duration": 14,
    "start_time": "2024-12-27T04:34:50.022Z"
   },
   {
    "duration": 29,
    "start_time": "2024-12-27T04:34:50.040Z"
   },
   {
    "duration": 24,
    "start_time": "2024-12-27T04:34:50.071Z"
   },
   {
    "duration": 5,
    "start_time": "2024-12-27T04:34:50.096Z"
   },
   {
    "duration": 2043,
    "start_time": "2024-12-27T04:34:50.103Z"
   },
   {
    "duration": 97,
    "start_time": "2024-12-27T04:34:52.148Z"
   },
   {
    "duration": 146,
    "start_time": "2024-12-27T04:34:52.248Z"
   },
   {
    "duration": 9,
    "start_time": "2024-12-27T04:34:52.396Z"
   },
   {
    "duration": 234,
    "start_time": "2024-12-27T04:34:52.406Z"
   },
   {
    "duration": 17,
    "start_time": "2024-12-27T04:34:52.642Z"
   },
   {
    "duration": 129,
    "start_time": "2024-12-27T04:34:52.670Z"
   },
   {
    "duration": 48,
    "start_time": "2024-12-27T04:34:52.801Z"
   },
   {
    "duration": 19,
    "start_time": "2024-12-27T04:34:52.851Z"
   },
   {
    "duration": 287,
    "start_time": "2024-12-27T04:34:52.872Z"
   },
   {
    "duration": 139,
    "start_time": "2024-12-27T04:34:53.161Z"
   },
   {
    "duration": 124,
    "start_time": "2024-12-27T04:34:53.302Z"
   },
   {
    "duration": 7,
    "start_time": "2024-12-27T04:37:40.794Z"
   },
   {
    "duration": 6,
    "start_time": "2024-12-27T04:37:56.511Z"
   },
   {
    "duration": 437,
    "start_time": "2024-12-27T04:43:35.603Z"
   },
   {
    "duration": 44,
    "start_time": "2024-12-27T04:43:36.042Z"
   },
   {
    "duration": 9,
    "start_time": "2024-12-27T04:43:36.088Z"
   },
   {
    "duration": 8,
    "start_time": "2024-12-27T04:43:36.098Z"
   },
   {
    "duration": 776,
    "start_time": "2024-12-27T04:43:36.107Z"
   },
   {
    "duration": 110,
    "start_time": "2024-12-27T04:43:36.884Z"
   },
   {
    "duration": 11,
    "start_time": "2024-12-27T04:43:36.996Z"
   },
   {
    "duration": 115,
    "start_time": "2024-12-27T04:43:37.009Z"
   },
   {
    "duration": 108,
    "start_time": "2024-12-27T04:43:37.126Z"
   },
   {
    "duration": 53,
    "start_time": "2024-12-27T04:43:37.238Z"
   },
   {
    "duration": 14,
    "start_time": "2024-12-27T04:43:37.293Z"
   },
   {
    "duration": 5,
    "start_time": "2024-12-27T04:43:37.309Z"
   },
   {
    "duration": 18,
    "start_time": "2024-12-27T04:43:37.316Z"
   },
   {
    "duration": 50,
    "start_time": "2024-12-27T04:43:37.336Z"
   },
   {
    "duration": 5,
    "start_time": "2024-12-27T04:43:37.387Z"
   },
   {
    "duration": 4,
    "start_time": "2024-12-27T04:43:37.394Z"
   },
   {
    "duration": 798,
    "start_time": "2024-12-27T04:43:37.399Z"
   },
   {
    "duration": 711,
    "start_time": "2024-12-27T04:43:38.199Z"
   },
   {
    "duration": 7,
    "start_time": "2024-12-27T04:43:38.912Z"
   },
   {
    "duration": 11,
    "start_time": "2024-12-27T04:43:38.920Z"
   },
   {
    "duration": 11,
    "start_time": "2024-12-27T04:43:38.933Z"
   },
   {
    "duration": 10,
    "start_time": "2024-12-27T04:43:38.970Z"
   },
   {
    "duration": 6,
    "start_time": "2024-12-27T04:43:38.981Z"
   },
   {
    "duration": 4,
    "start_time": "2024-12-27T04:43:38.989Z"
   },
   {
    "duration": 14,
    "start_time": "2024-12-27T04:43:38.995Z"
   },
   {
    "duration": 60,
    "start_time": "2024-12-27T04:43:39.011Z"
   },
   {
    "duration": 13,
    "start_time": "2024-12-27T04:43:39.073Z"
   },
   {
    "duration": 2,
    "start_time": "2024-12-27T04:43:39.091Z"
   },
   {
    "duration": 22,
    "start_time": "2024-12-27T04:43:39.095Z"
   },
   {
    "duration": 5,
    "start_time": "2024-12-27T04:43:39.119Z"
   },
   {
    "duration": 351,
    "start_time": "2024-12-27T04:43:39.125Z"
   },
   {
    "duration": 100,
    "start_time": "2024-12-27T04:43:39.478Z"
   },
   {
    "duration": 144,
    "start_time": "2024-12-27T04:43:39.580Z"
   },
   {
    "duration": 9,
    "start_time": "2024-12-27T04:43:39.726Z"
   },
   {
    "duration": 234,
    "start_time": "2024-12-27T04:43:39.737Z"
   },
   {
    "duration": 17,
    "start_time": "2024-12-27T04:43:39.973Z"
   },
   {
    "duration": 139,
    "start_time": "2024-12-27T04:43:39.992Z"
   },
   {
    "duration": 54,
    "start_time": "2024-12-27T04:43:40.133Z"
   },
   {
    "duration": 5,
    "start_time": "2024-12-27T04:43:40.188Z"
   },
   {
    "duration": 299,
    "start_time": "2024-12-27T04:43:40.195Z"
   },
   {
    "duration": 147,
    "start_time": "2024-12-27T04:43:40.497Z"
   },
   {
    "duration": 130,
    "start_time": "2024-12-27T04:43:40.646Z"
   },
   {
    "duration": 6,
    "start_time": "2024-12-27T04:45:54.841Z"
   },
   {
    "duration": 4,
    "start_time": "2024-12-27T04:46:56.087Z"
   },
   {
    "duration": 6,
    "start_time": "2024-12-27T04:48:15.059Z"
   },
   {
    "duration": 612,
    "start_time": "2024-12-27T04:49:26.657Z"
   },
   {
    "duration": 7,
    "start_time": "2024-12-27T04:50:23.597Z"
   },
   {
    "duration": 7,
    "start_time": "2024-12-27T04:51:48.066Z"
   },
   {
    "duration": 6,
    "start_time": "2024-12-27T04:52:02.340Z"
   },
   {
    "duration": 414,
    "start_time": "2024-12-27T04:52:12.364Z"
   },
   {
    "duration": 39,
    "start_time": "2024-12-27T04:52:12.780Z"
   },
   {
    "duration": 9,
    "start_time": "2024-12-27T04:52:12.821Z"
   },
   {
    "duration": 7,
    "start_time": "2024-12-27T04:52:12.832Z"
   },
   {
    "duration": 743,
    "start_time": "2024-12-27T04:52:12.840Z"
   },
   {
    "duration": 104,
    "start_time": "2024-12-27T04:52:13.585Z"
   },
   {
    "duration": 12,
    "start_time": "2024-12-27T04:52:13.691Z"
   },
   {
    "duration": 116,
    "start_time": "2024-12-27T04:52:13.705Z"
   },
   {
    "duration": 106,
    "start_time": "2024-12-27T04:52:13.823Z"
   },
   {
    "duration": 57,
    "start_time": "2024-12-27T04:52:13.932Z"
   },
   {
    "duration": 14,
    "start_time": "2024-12-27T04:52:13.991Z"
   },
   {
    "duration": 5,
    "start_time": "2024-12-27T04:52:14.007Z"
   },
   {
    "duration": 19,
    "start_time": "2024-12-27T04:52:14.013Z"
   },
   {
    "duration": 44,
    "start_time": "2024-12-27T04:52:14.034Z"
   },
   {
    "duration": 5,
    "start_time": "2024-12-27T04:52:14.080Z"
   },
   {
    "duration": 5,
    "start_time": "2024-12-27T04:52:14.086Z"
   },
   {
    "duration": 791,
    "start_time": "2024-12-27T04:52:14.093Z"
   },
   {
    "duration": 715,
    "start_time": "2024-12-27T04:52:14.886Z"
   },
   {
    "duration": 7,
    "start_time": "2024-12-27T04:52:15.603Z"
   },
   {
    "duration": 12,
    "start_time": "2024-12-27T04:52:15.611Z"
   },
   {
    "duration": 11,
    "start_time": "2024-12-27T04:52:15.624Z"
   },
   {
    "duration": 33,
    "start_time": "2024-12-27T04:52:15.637Z"
   },
   {
    "duration": 5,
    "start_time": "2024-12-27T04:52:15.672Z"
   },
   {
    "duration": 5,
    "start_time": "2024-12-27T04:52:15.678Z"
   },
   {
    "duration": 15,
    "start_time": "2024-12-27T04:52:15.684Z"
   },
   {
    "duration": 32,
    "start_time": "2024-12-27T04:52:15.701Z"
   },
   {
    "duration": 38,
    "start_time": "2024-12-27T04:52:15.735Z"
   },
   {
    "duration": 3,
    "start_time": "2024-12-27T04:52:15.776Z"
   },
   {
    "duration": 22,
    "start_time": "2024-12-27T04:52:15.781Z"
   },
   {
    "duration": 5,
    "start_time": "2024-12-27T04:52:15.805Z"
   },
   {
    "duration": 344,
    "start_time": "2024-12-27T04:52:15.812Z"
   },
   {
    "duration": 101,
    "start_time": "2024-12-27T04:52:16.158Z"
   },
   {
    "duration": 164,
    "start_time": "2024-12-27T04:52:16.261Z"
   },
   {
    "duration": 10,
    "start_time": "2024-12-27T04:52:16.427Z"
   },
   {
    "duration": 247,
    "start_time": "2024-12-27T04:52:16.438Z"
   },
   {
    "duration": 18,
    "start_time": "2024-12-27T04:52:16.687Z"
   },
   {
    "duration": 152,
    "start_time": "2024-12-27T04:52:16.707Z"
   },
   {
    "duration": 53,
    "start_time": "2024-12-27T04:52:16.861Z"
   },
   {
    "duration": 4,
    "start_time": "2024-12-27T04:52:16.918Z"
   },
   {
    "duration": 312,
    "start_time": "2024-12-27T04:52:16.924Z"
   },
   {
    "duration": 146,
    "start_time": "2024-12-27T04:52:17.238Z"
   },
   {
    "duration": 127,
    "start_time": "2024-12-27T04:52:17.386Z"
   },
   {
    "duration": 61,
    "start_time": "2024-12-27T04:59:21.124Z"
   },
   {
    "duration": 62,
    "start_time": "2024-12-27T05:01:47.908Z"
   },
   {
    "duration": 1025,
    "start_time": "2024-12-27T05:06:52.229Z"
   },
   {
    "duration": 5,
    "start_time": "2024-12-27T05:07:04.544Z"
   },
   {
    "duration": 5,
    "start_time": "2024-12-27T05:07:32.392Z"
   },
   {
    "duration": 1101,
    "start_time": "2024-12-27T05:07:44.194Z"
   },
   {
    "duration": 1129,
    "start_time": "2024-12-27T05:08:17.628Z"
   },
   {
    "duration": 5,
    "start_time": "2024-12-27T05:08:22.827Z"
   },
   {
    "duration": 63,
    "start_time": "2024-12-27T05:28:28.595Z"
   },
   {
    "duration": 434,
    "start_time": "2024-12-27T05:29:03.624Z"
   },
   {
    "duration": 44,
    "start_time": "2024-12-27T05:29:04.061Z"
   },
   {
    "duration": 9,
    "start_time": "2024-12-27T05:29:04.107Z"
   },
   {
    "duration": 7,
    "start_time": "2024-12-27T05:29:04.118Z"
   },
   {
    "duration": 731,
    "start_time": "2024-12-27T05:29:04.126Z"
   },
   {
    "duration": 113,
    "start_time": "2024-12-27T05:29:04.859Z"
   },
   {
    "duration": 11,
    "start_time": "2024-12-27T05:29:04.975Z"
   },
   {
    "duration": 126,
    "start_time": "2024-12-27T05:29:04.989Z"
   },
   {
    "duration": 107,
    "start_time": "2024-12-27T05:29:05.117Z"
   },
   {
    "duration": 65,
    "start_time": "2024-12-27T05:29:05.228Z"
   },
   {
    "duration": 13,
    "start_time": "2024-12-27T05:29:05.295Z"
   },
   {
    "duration": 6,
    "start_time": "2024-12-27T05:29:05.310Z"
   },
   {
    "duration": 18,
    "start_time": "2024-12-27T05:29:05.318Z"
   },
   {
    "duration": 46,
    "start_time": "2024-12-27T05:29:05.337Z"
   },
   {
    "duration": 4,
    "start_time": "2024-12-27T05:29:05.385Z"
   },
   {
    "duration": 4,
    "start_time": "2024-12-27T05:29:05.391Z"
   },
   {
    "duration": 783,
    "start_time": "2024-12-27T05:29:05.397Z"
   },
   {
    "duration": 731,
    "start_time": "2024-12-27T05:29:06.182Z"
   },
   {
    "duration": 8,
    "start_time": "2024-12-27T05:29:06.914Z"
   },
   {
    "duration": 12,
    "start_time": "2024-12-27T05:29:06.923Z"
   },
   {
    "duration": 35,
    "start_time": "2024-12-27T05:29:06.936Z"
   },
   {
    "duration": 6,
    "start_time": "2024-12-27T05:29:06.973Z"
   },
   {
    "duration": 6,
    "start_time": "2024-12-27T05:29:06.981Z"
   },
   {
    "duration": 5,
    "start_time": "2024-12-27T05:29:06.988Z"
   },
   {
    "duration": 15,
    "start_time": "2024-12-27T05:29:06.995Z"
   },
   {
    "duration": 64,
    "start_time": "2024-12-27T05:29:07.012Z"
   },
   {
    "duration": 15,
    "start_time": "2024-12-27T05:29:07.077Z"
   },
   {
    "duration": 63,
    "start_time": "2024-12-27T05:29:07.095Z"
   },
   {
    "duration": 28,
    "start_time": "2024-12-27T05:29:07.170Z"
   },
   {
    "duration": 5,
    "start_time": "2024-12-27T05:29:07.199Z"
   },
   {
    "duration": 338,
    "start_time": "2024-12-27T05:29:07.206Z"
   },
   {
    "duration": 99,
    "start_time": "2024-12-27T05:29:07.546Z"
   },
   {
    "duration": 149,
    "start_time": "2024-12-27T05:29:07.648Z"
   },
   {
    "duration": 8,
    "start_time": "2024-12-27T05:29:07.801Z"
   },
   {
    "duration": 234,
    "start_time": "2024-12-27T05:29:07.810Z"
   },
   {
    "duration": 26,
    "start_time": "2024-12-27T05:29:08.045Z"
   },
   {
    "duration": 134,
    "start_time": "2024-12-27T05:29:08.072Z"
   },
   {
    "duration": 1148,
    "start_time": "2024-12-27T05:29:08.208Z"
   },
   {
    "duration": 5,
    "start_time": "2024-12-27T05:29:09.358Z"
   },
   {
    "duration": 290,
    "start_time": "2024-12-27T05:29:09.370Z"
   },
   {
    "duration": 138,
    "start_time": "2024-12-27T05:29:09.662Z"
   },
   {
    "duration": 131,
    "start_time": "2024-12-27T05:29:09.802Z"
   }
  ],
  "kernelspec": {
   "display_name": "Python 3 (ipykernel)",
   "language": "python",
   "name": "python3"
  },
  "language_info": {
   "codemirror_mode": {
    "name": "ipython",
    "version": 3
   },
   "file_extension": ".py",
   "mimetype": "text/x-python",
   "name": "python",
   "nbconvert_exporter": "python",
   "pygments_lexer": "ipython3",
   "version": "3.9.19"
  },
  "toc": {
   "base_numbering": 1,
   "nav_menu": {},
   "number_sections": true,
   "sideBar": true,
   "skip_h1_title": true,
   "title_cell": "Table of Contents",
   "title_sidebar": "Contents",
   "toc_cell": false,
   "toc_position": {},
   "toc_section_display": true,
   "toc_window_display": false
  },
  "vscode": {
   "interpreter": {
    "hash": "01a7be9ec63e704a62cefc5fe7a4756944464ee731be31632bdf42a4cb4688cf"
   }
  }
 },
 "nbformat": 4,
 "nbformat_minor": 5
}
