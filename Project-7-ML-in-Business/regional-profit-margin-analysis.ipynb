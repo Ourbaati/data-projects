{
 "cells": [
  {
   "cell_type": "markdown",
   "metadata": {},
   "source": [
    "<h1 style='text-align: center; front-size: 50px;'>Which region has the highest profit margin?</h1>"
   ]
  },
  {
   "cell_type": "markdown",
   "metadata": {},
   "source": [
    "# Introduction:\n",
    "\n",
    "**OilyGiant**, a leading mining company, is planning to establish a new oil well. To maximize profitability, a strategic data-driven approach is required to determine the most promising region for development. This analysis aims to identify the optimal region by predicting oil reserves, estimating potential profit, and assessing financial risks.\n",
    "To achieve the objective, the following steps will be undertaken:\n",
    "- Oil sample data from three different regions will be analyzed.\n",
    "- A Linear Regression model will be trained to predict the volume of oil reserves in new wells.\n",
    "- From 500 potential well locations, the top 200 wells with the highest estimated oil reserves will be selected for profit calculation.\n",
    "- The budget for developing 200 wells is $100 million.\n",
    "- Regions where the probability of financial losses exceeds 2.5% will be excluded from consideration.\n",
    "\n",
    "After filtering out high-risk regions, the region with the highest average expected profit will be chosen for well development."
   ]
  },
  {
   "cell_type": "markdown",
   "metadata": {},
   "source": [
    "# Step 1. Initialization:"
   ]
  },
  {
   "cell_type": "code",
   "execution_count": null,
   "metadata": {},
   "outputs": [],
   "source": [
    "# Loading all the libraries\n",
    "import pandas as pd\n",
    "import numpy as np\n",
    "import matplotlib.pyplot as plt\n",
    "import seaborn as sns\n",
    "from sklearn.model_selection import train_test_split\n",
    "from sklearn.linear_model import LinearRegression\n",
    "from sklearn.metrics import mean_squared_error"
   ]
  },
  {
   "cell_type": "markdown",
   "metadata": {},
   "source": [
    "# Step 2. Load data:"
   ]
  },
  {
   "cell_type": "code",
   "execution_count": null,
   "metadata": {},
   "outputs": [],
   "source": [
    "# Loading the data file:\n",
    "region_0 = pd.read_csv('/datasets/geo_data_0.csv')\n",
    "region_0.head()"
   ]
  },
  {
   "cell_type": "code",
   "execution_count": null,
   "metadata": {},
   "outputs": [],
   "source": [
    "# Loading the data file:\n",
    "region_1 = pd.read_csv('/datasets/geo_data_1.csv')\n",
    "region_1.head()"
   ]
  },
  {
   "cell_type": "code",
   "execution_count": null,
   "metadata": {},
   "outputs": [],
   "source": [
    "# Loading the data file:\n",
    "region_2 = pd.read_csv('/datasets/geo_data_2.csv')\n",
    "region_2.head()"
   ]
  },
  {
   "cell_type": "markdown",
   "metadata": {},
   "source": [
    "# Step 3. Preparing and Fixing the Data:"
   ]
  },
  {
   "cell_type": "markdown",
   "metadata": {},
   "source": [
    "### `region_0` data frame:"
   ]
  },
  {
   "cell_type": "code",
   "execution_count": null,
   "metadata": {},
   "outputs": [],
   "source": [
    "# Data overview:\n",
    "region_0.info()"
   ]
  },
  {
   "cell_type": "code",
   "execution_count": null,
   "metadata": {},
   "outputs": [],
   "source": [
    "# Checking for missing values:\n",
    "region_0.isna().sum()"
   ]
  },
  {
   "cell_type": "code",
   "execution_count": null,
   "metadata": {},
   "outputs": [],
   "source": [
    "# Checking for duplicates:\n",
    "region_0.duplicated().sum()"
   ]
  },
  {
   "cell_type": "markdown",
   "metadata": {},
   "source": [
    "### `region_1` data frame:"
   ]
  },
  {
   "cell_type": "code",
   "execution_count": null,
   "metadata": {},
   "outputs": [],
   "source": [
    "# Data overview:\n",
    "region_1.info()"
   ]
  },
  {
   "cell_type": "code",
   "execution_count": null,
   "metadata": {},
   "outputs": [],
   "source": [
    "# Checking for missing values:\n",
    "region_1.isna().sum()"
   ]
  },
  {
   "cell_type": "code",
   "execution_count": null,
   "metadata": {},
   "outputs": [],
   "source": [
    "# Checking for duplicates:\n",
    "region_1.duplicated().sum()"
   ]
  },
  {
   "cell_type": "markdown",
   "metadata": {},
   "source": [
    "### `region_2` data frame:"
   ]
  },
  {
   "cell_type": "code",
   "execution_count": null,
   "metadata": {},
   "outputs": [],
   "source": [
    "# Data overview:\n",
    "region_2.info()"
   ]
  },
  {
   "cell_type": "code",
   "execution_count": null,
   "metadata": {},
   "outputs": [],
   "source": [
    "# Checking for missing values:\n",
    "region_2.isna().sum()"
   ]
  },
  {
   "cell_type": "code",
   "execution_count": null,
   "metadata": {},
   "outputs": [],
   "source": [
    "# Checking for duplicates:\n",
    "region_2.duplicated().sum()"
   ]
  },
  {
   "cell_type": "markdown",
   "metadata": {},
   "source": [
    "# Step 4. Analyzing the data:"
   ]
  },
  {
   "cell_type": "markdown",
   "metadata": {},
   "source": [
    "## `region_0` data frame:"
   ]
  },
  {
   "cell_type": "code",
   "execution_count": null,
   "metadata": {},
   "outputs": [],
   "source": [
    "# Create a figure with 3 subplots:\n",
    "fig, (ax1, ax2, ax3) = plt.subplots(1, 3, figsize=(15, 5))\n",
    "\n",
    "# First subplot for Days Lister Vs. Condition:\n",
    "sns.histplot(data=region_0, x='f0', bins=30, ax=ax1, color='royalblue')\n",
    "ax1.set_title('Histogram of \"f0\" in Region 0', fontweight='bold')\n",
    "ax1.set_xlabel('f0', fontweight='bold')\n",
    "ax1.set_ylabel('Frequency', fontweight='bold')\n",
    "\n",
    "# Second subplot for Days Listed Vs. Odometer:\n",
    "sns.histplot(data=region_0, x='f1', bins=30, ax=ax2, color='royalblue')\n",
    "ax2.set_title('Histogram of \"f1\" in Region 0', fontweight='bold')\n",
    "ax2.set_xlabel('f1', fontweight='bold')\n",
    "ax2.set_ylabel('Frequency', fontweight='bold')\n",
    "\n",
    "# Third subplot for Days Listed Vs. Odometer:\n",
    "sns.histplot(data=region_0, x='f2', bins=30, ax=ax3, color='royalblue')\n",
    "ax3.set_title('Histogram of \"f2\" in Region 0', fontweight='bold')\n",
    "ax3.set_xlabel('f2', fontweight='bold')\n",
    "ax3.set_ylabel('Frequency', fontweight='bold')\n",
    "\n",
    "# Adjust layout to prevent overlap:\n",
    "plt.tight_layout()\n",
    "plt.show()"
   ]
  },
  {
   "cell_type": "markdown",
   "metadata": {},
   "source": [
    "The histograms for Region 0, f0 and f1 display a multimodal distribution, indicating potential subgroups or clusters within the data. This suggests that different patterns or sources may be influencing these features. While f2, follows a normal-like distribution, making it more predictable."
   ]
  },
  {
   "cell_type": "code",
   "execution_count": null,
   "metadata": {},
   "outputs": [],
   "source": [
    "# Defining features and target variable:\n",
    "X_0 = region_0[['f0', 'f1', 'f2']]\n",
    "y_0 = region_0['product']\n",
    "\n",
    "# Spliting the data into a training set and validation set at a ratio of 75:25:\n",
    "X_train_0, X_val_0, y_train_0, y_val_0 = train_test_split(X_0, y_0, test_size=0.25, random_state=42)\n",
    "\n",
    "# Checking the sizes to ensure correct splitting:\n",
    "print(f\"Training Set: {X_train_0.shape}\")\n",
    "print(f\"Validation Set: {X_val_0.shape}\")"
   ]
  },
  {
   "cell_type": "code",
   "execution_count": null,
   "metadata": {},
   "outputs": [],
   "source": [
    "# Training the model and making predictions for the validation set:\n",
    "model_0 = LinearRegression()\n",
    "model_0.fit(X_train_0, y_train_0)\n",
    "\n",
    "# Making predictions on the validation set:\n",
    "y_pred_0 = model_0.predict(X_val_0)\n",
    "\n",
    "# Displaying the first 5 predictions:\n",
    "for pred in y_pred_0[:5]:\n",
    "    print(f'Prediction: {pred: .4f}')"
   ]
  },
  {
   "cell_type": "code",
   "execution_count": null,
   "metadata": {},
   "outputs": [],
   "source": [
    "# Calculating the average actual reserves:\n",
    "avg_actual_reserves_0 = np.mean(y_val_0)\n",
    "\n",
    "# Calculating the average volume of predicted reserves:\n",
    "avg_predicted_reserves_0 = np.mean(y_pred_0)\n",
    "\n",
    "# Calculating Root Mean Squared Error (RMSE):\n",
    "rmse_0 = np.sqrt(mean_squared_error(y_val_0, y_pred_0))\n",
    "\n",
    "# Displaying test set results:\n",
    "print(f'Average Actual Reserves: {avg_actual_reserves_0:.4f}')\n",
    "print(f'Average Predicted Reserves: {avg_predicted_reserves_0: .4f}')\n",
    "print(f'Root Mean Squared Error: {rmse_0: .4f}')"
   ]
  },
  {
   "cell_type": "markdown",
   "metadata": {},
   "source": [
    "The Linear Regression model predicts for **region_0** an average oil reserve of 92.3988 units, but with an RMSE of 37.7566, indicating a moderate error margin. This suggests that while the model captures trends, its predictions can deviate significantly from actual reserves."
   ]
  },
  {
   "cell_type": "markdown",
   "metadata": {},
   "source": [
    "## `region_1` data frame:"
   ]
  },
  {
   "cell_type": "code",
   "execution_count": null,
   "metadata": {},
   "outputs": [],
   "source": [
    "# Create a figure with 3 subplots:\n",
    "fig, (ax1, ax2, ax3) = plt.subplots(1, 3, figsize=(15, 5))\n",
    "\n",
    "# First subplot for Days Lister Vs. Condition:\n",
    "sns.histplot(data=region_1, x='f0', bins=30, ax=ax1, color='royalblue')\n",
    "ax1.set_title('Histogram of \"f0\" in Region 1', fontweight='bold')\n",
    "ax1.set_xlabel('f0', fontweight='bold')\n",
    "ax1.set_ylabel('Frequency', fontweight='bold')\n",
    "\n",
    "# Second subplot for Days Listed Vs. Odometer:\n",
    "sns.histplot(data=region_1, x='f1', bins=30, ax=ax2, color='royalblue')\n",
    "ax2.set_title('Histogram of \"f1\" in Region 1', fontweight='bold')\n",
    "ax2.set_xlabel('f1', fontweight='bold')\n",
    "ax2.set_ylabel('Frequency', fontweight='bold')\n",
    "\n",
    "# Third subplot for Days Listed Vs. Odometer:\n",
    "sns.histplot(data=region_1, x='f2', bins=30, ax=ax3, color='royalblue')\n",
    "ax3.set_title('Histogram of \"f2\" in Region 1', fontweight='bold')\n",
    "ax3.set_xlabel('f2', fontweight='bold')\n",
    "ax3.set_ylabel('Frequency', fontweight='bold')\n",
    "\n",
    "# Adjust layout to prevent overlap:\n",
    "plt.tight_layout()\n",
    "plt.show()"
   ]
  },
  {
   "cell_type": "markdown",
   "metadata": {},
   "source": [
    "The histograms for Region 1 show distinct characteristics across features:\n",
    "\n",
    "- f0 appears bimodal, suggesting two different underlying distributions or clusters in the data.\n",
    "- f1 follows a normal distribution, indicating a well-centered dataset with most values around the mean.\n",
    "- f2 is discrete with distinct peaks, meaning it likely represents categorical or count-based data rather than a continuous variable."
   ]
  },
  {
   "cell_type": "code",
   "execution_count": null,
   "metadata": {},
   "outputs": [],
   "source": [
    "# Defining features and target variable:\n",
    "X_1 = region_1[['f0', 'f1', 'f2']]\n",
    "y_1 = region_1['product']\n",
    "\n",
    "# Spliting the data into a training set and validation set at a ratio of 75:25:\n",
    "X_train_1, X_val_1, y_train_1, y_val_1 = train_test_split(X_1, y_1, test_size=0.25, random_state=42)\n",
    "\n",
    "# Checking the sizes to ensure correct splitting:\n",
    "print(f\"Training Set: {X_train_1.shape}\")\n",
    "print(f\"Validation Set: {X_val_1.shape}\")"
   ]
  },
  {
   "cell_type": "code",
   "execution_count": null,
   "metadata": {},
   "outputs": [],
   "source": [
    "# Training the model and making predictions for the validation set:\n",
    "model_1 = LinearRegression()\n",
    "model_1.fit(X_train_1, y_train_1)\n",
    "\n",
    "# Making predictions on the validation set:\n",
    "y_pred_1 = model_1.predict(X_val_1)\n",
    "\n",
    "# Displaying the first 5 predictions:\n",
    "for pred in y_pred_1[:5]:\n",
    "    print(f'Prediction: {pred: .4f}')"
   ]
  },
  {
   "cell_type": "code",
   "execution_count": null,
   "metadata": {},
   "outputs": [],
   "source": [
    "# Calculating the average actual reserves:\n",
    "avg_actual_reserves_1 = np.mean(y_val_1)\n",
    "\n",
    "# Calculating the average volume of predicted reserves:\n",
    "avg_predicted_reserves_1 = np.mean(y_pred_1)\n",
    "\n",
    "# Calculating Root Mean Squared Error (RMSE):\n",
    "rmse_1 = np.sqrt(mean_squared_error(y_val_1, y_pred_1))\n",
    "\n",
    "# Displaying test set results:\n",
    "print(f'Average Actual Reserves: {avg_actual_reserves_1:.4f}')\n",
    "print(f'Average Predicted Reserves: {avg_predicted_reserves_1: .4f}')\n",
    "print(f'Root Mean Squared Error: {rmse_1: .4f}')"
   ]
  },
  {
   "cell_type": "markdown",
   "metadata": {},
   "source": [
    "For **region_1**, the model predicts an average oil reserve of 68.7129 units, with a low RMSE of 0.8903. This suggests high prediction accuracy, meaning the model's estimates are very close to actual values. The low error indicates that the model is well fitted to the data, making it reliable for selecting top performing wells"
   ]
  },
  {
   "cell_type": "markdown",
   "metadata": {},
   "source": [
    "## `region_2` data frame:"
   ]
  },
  {
   "cell_type": "code",
   "execution_count": null,
   "metadata": {},
   "outputs": [],
   "source": [
    "# Create a figure with 3 subplots:\n",
    "fig, (ax1, ax2, ax3) = plt.subplots(1, 3, figsize=(15, 5))\n",
    "\n",
    "# First subplot for Days Lister Vs. Condition:\n",
    "sns.histplot(data=region_2, x='f0', bins=30, ax=ax1, color='royalblue')\n",
    "ax1.set_title('Histogram of \"f0\" in Region 2', fontweight='bold')\n",
    "ax1.set_xlabel('f0', fontweight='bold')\n",
    "ax1.set_ylabel('Frequency', fontweight='bold')\n",
    "\n",
    "# Second subplot for Days Listed Vs. Odometer:\n",
    "sns.histplot(data=region_2, x='f1', bins=30, ax=ax2, color='royalblue')\n",
    "ax2.set_title('Histogram of \"f1\" in Region 2', fontweight='bold')\n",
    "ax2.set_xlabel('f1', fontweight='bold')\n",
    "ax2.set_ylabel('Frequency', fontweight='bold')\n",
    "\n",
    "# Third subplot for Days Listed Vs. Odometer:\n",
    "sns.histplot(data=region_2, x='f2', bins=30, ax=ax3, color='royalblue')\n",
    "ax3.set_title('Histogram of \"f2\" in Region 2', fontweight='bold')\n",
    "ax3.set_xlabel('f2', fontweight='bold')\n",
    "ax3.set_ylabel('Frequency', fontweight='bold')\n",
    "\n",
    "# Adjust layout to prevent overlap:\n",
    "plt.tight_layout()\n",
    "plt.show()"
   ]
  },
  {
   "cell_type": "markdown",
   "metadata": {},
   "source": [
    "The histograms indicate that **f0**, **f1**, and **f2** follow a normal distribution, suggesting the data is well-centered with no significant skewness or extreme outliers. The spread of values is similar across features."
   ]
  },
  {
   "cell_type": "code",
   "execution_count": null,
   "metadata": {},
   "outputs": [],
   "source": [
    "# Defining features and target variable:\n",
    "X_2 = region_2[['f0', 'f1', 'f2']]\n",
    "y_2= region_2['product']\n",
    "\n",
    "# Spliting the data into a training set and validation set at a ratio of 75:25:\n",
    "X_train_2, X_val_2, y_train_2, y_val_2 = train_test_split(X_2, y_2, test_size=0.25, random_state=42)\n",
    "\n",
    "# Checking the sizes to ensure correct splitting:\n",
    "print(f\"Training Set: {X_train_2.shape}\")\n",
    "print(f\"Validation Set: {X_val_2.shape}\")"
   ]
  },
  {
   "cell_type": "code",
   "execution_count": null,
   "metadata": {},
   "outputs": [],
   "source": [
    "# Training the model and making predictions for the validation set:\n",
    "model_2 = LinearRegression()\n",
    "model_2.fit(X_train_2, y_train_2)\n",
    "\n",
    "# Making predictions on the validation set:\n",
    "y_pred_2 = model_2.predict(X_val_2)\n",
    "\n",
    "# Displaying the first 5 predictions:\n",
    "for pred in y_pred_2[:5]:\n",
    "    print(f'Prediction: {pred: .4f}')"
   ]
  },
  {
   "cell_type": "code",
   "execution_count": null,
   "metadata": {},
   "outputs": [],
   "source": [
    "# Calculating the average actual reserves:\n",
    "avg_actual_reserves_2 = np.mean(y_val_2)\n",
    "\n",
    "# Calculating the average volume of predicted reserves:\n",
    "avg_predicted_reserves_2 = np.mean(y_pred_2)\n",
    "\n",
    "# Calculating Root Mean Squared Error (RMSE):\n",
    "rmse_2 = np.sqrt(mean_squared_error(y_val_2, y_pred_2))\n",
    "\n",
    "# Displaying test set results:\n",
    "print(f'Average Actual Reserves: {avg_actual_reserves_2:.4f}')\n",
    "print(f'Average Predicted Reserves: {avg_predicted_reserves_2: .4f}')\n",
    "print(f'Root Mean Squared Error: {rmse_2: .4f}')"
   ]
  },
  {
   "cell_type": "markdown",
   "metadata": {},
   "source": [
    "The model predicts for **region_2** an average oil reserve of 94.7710 units, with an RMSE of 40.1459, indicating a moderate error margin. This suggests that while the model captures trends, its predictions can deviate significantly from actual reserves."
   ]
  },
  {
   "cell_type": "markdown",
   "metadata": {},
   "source": [
    "# Step 5. Preparing the data for profit calculation:"
   ]
  },
  {
   "cell_type": "code",
   "execution_count": null,
   "metadata": {},
   "outputs": [],
   "source": [
    "# Storing all key values for calculations:\n",
    "BUDGET = 100000000  \n",
    "WELLS_SELECTED = 200  \n",
    "TOTAL_WELLS = 500\n",
    "REVENUE_PER_BARREL = 4.5  \n",
    "BARREL_UNIT_REVENUE = 4500"
   ]
  },
  {
   "cell_type": "code",
   "execution_count": null,
   "metadata": {},
   "outputs": [],
   "source": [
    "#  Calculating the volume of reserves sufficient for developing a new well without losses:\n",
    "cost_per_well = BUDGET / WELLS_SELECTED\n",
    "min_reserve_required = cost_per_well / BARREL_UNIT_REVENUE\n",
    "\n",
    "print(f'Development Cost per Well: {cost_per_well: .2f}')\n",
    "print(f'Minimum reserve required: {min_reserve_required: .2f} thousand barrels')"
   ]
  },
  {
   "cell_type": "markdown",
   "metadata": {},
   "source": [
    "Each well must produce at least **111.11 thousand barrels** to meet the minimum reserve required for cost recovery."
   ]
  },
  {
   "cell_type": "code",
   "execution_count": null,
   "metadata": {},
   "outputs": [],
   "source": [
    "# Calculating the average volume of reserves in each region:\n",
    "data = [region_0, region_1, region_2]\n",
    "for i, df in enumerate(data):\n",
    "    mean_reserve = df['product'].mean()\n",
    "    print(f'[region_{i}]: Mean Reserves = {mean_reserve:.2f} thousand barrels')"
   ]
  },
  {
   "cell_type": "markdown",
   "metadata": {},
   "source": [
    "The calculations show that none of the regions meet the minimum required reserves per well of 111.11 thousand barrels to cover the costs. This means that, on average, oil wells in all three regions may not be profitable."
   ]
  },
  {
   "cell_type": "code",
   "execution_count": null,
   "metadata": {},
   "outputs": [],
   "source": [
    "# Defining a function that calculate the profit from the predictions of 200 wells:\n",
    "def calculate_profit(predictions, targets, region):\n",
    "    # Converting predictions to a DataFrame:\n",
    "    df = pd.DataFrame({'prediction': predictions, 'target': targets})\n",
    "    \n",
    "    # Selecting top 200 wells:\n",
    "    top_wells = df.sort_values(by='prediction', ascending=False).head(WELLS_SELECTED)\n",
    "    \n",
    "    # Calculate revenue per barrel_unit:\n",
    "    revenue = top_wells['target'].sum() * BARREL_UNIT_REVENUE\n",
    "    \n",
    "    # Calculating development cost for the selected wells:\n",
    "    total_cost = cost_per_well * WELLS_SELECTED\n",
    "    \n",
    "    # Calculating profit:\n",
    "    profit = revenue - total_cost\n",
    "\n",
    "    return region, profit\n",
    "\n",
    "# Calculating profits for each region:\n",
    "profit_results = [\n",
    "    calculate_profit(y_pred_0, y_val_0, 'Region 0'),\n",
    "    calculate_profit(y_pred_1, y_val_1, 'Region 1'),\n",
    "    calculate_profit(y_pred_2, y_val_2, 'Region 2')\n",
    "]\n",
    "\n",
    "# Displaying the results:\n",
    "for region, profit in profit_results:\n",
    "    print(f'Region: {region}')\n",
    "    print(f'Total Profit: ${profit:,.2f}')\n",
    "    print('-' * 40)"
   ]
  },
  {
   "cell_type": "markdown",
   "metadata": {},
   "source": [
    "Based on the profit analysis, **Region 0** is the most viable choice for oil well development, generating the highest profit of **38,97M USD**. This region outperforms **Region 1 (24,87M USD)** and **Region 2 (33,78M USD)** in profitability. The top 200 wells in Region 0 produce the greatest revenue after accounting for development costs, making it the best investment for maximizing returns while ensuring cost efficiency."
   ]
  },
  {
   "cell_type": "code",
   "execution_count": null,
   "metadata": {},
   "outputs": [],
   "source": [
    "# Defining the number of BOOTSTRAP_SAMPLES:\n",
    "BOOTSTRAP_SAMPLES = 1000\n",
    "\n",
    "def bootstrap_profit(predictions, targets, region):\n",
    "    profits = []\n",
    "    for _ in range(BOOTSTRAP_SAMPLES):\n",
    "        # Randomly sample 500 wells with replacement:\n",
    "        sampled_indices = np.random.choice(len(predictions), 500, replace=True)\n",
    "        \n",
    "        # Selecting Predictions and actual values:\n",
    "        sampled_predictions = predictions[sampled_indices]\n",
    "        sampled_targets = targets.iloc[sampled_indices]\n",
    "        \n",
    "        # Calculating profit using actual targets:\n",
    "        _, profit = calculate_profit(sampled_predictions, sampled_targets, region)\n",
    "        profits.append(profit)\n",
    "\n",
    "    # Convert list to numpy array\n",
    "    profits = np.array(profits)\n",
    "\n",
    "    # Calculate mean profit and 95% confidence interval\n",
    "    mean_profit = np.mean(profits)\n",
    "    lower_bound, upper_bound = np.percentile(profits, [2.5, 97.5])\n",
    "\n",
    "    # Calculate risk percentage\n",
    "    risk = np.mean(profits < 0) * 100\n",
    "\n",
    "    return mean_profit, lower_bound, upper_bound, risk\n",
    "\n",
    "# Calculating bootstrap results for each region:\n",
    "results = {\n",
    "    'Region 0': bootstrap_profit(y_pred_0, y_val_0, 'Region_0'),\n",
    "    'Region 1': bootstrap_profit(y_pred_1, y_val_1, 'Region_1'),\n",
    "    'Region 2': bootstrap_profit(y_pred_2, y_val_2, 'Region_2')\n",
    "}\n",
    "\n",
    "# Printing results in a readable format:\n",
    "for region, (mean_profit, lower, upper, risk) in results.items():\n",
    "    print(f'\\n{region}')\n",
    "    print(f'Mean Profit: ${mean_profit:,.2f}')\n",
    "    print(f'95% CI: (${lower:,.2f}, ${upper:,.2f})')\n",
    "    print(f'Risk of Loss: {risk:.2f}%')\n",
    "    print('-' * 40)"
   ]
  },
  {
   "cell_type": "markdown",
   "metadata": {},
   "source": [
    "# Conclusion:"
   ]
  },
  {
   "cell_type": "markdown",
   "metadata": {},
   "source": [
    "The evaluation of three regions (Region 0, Region 1, and Region 2) based on profitability and risk shows that all regions have positive expected profits. However, only Region 1 meets the investment criteria of having a risk of loss below 2.5%.\n",
    "\n",
    "- **Region 0**: 4.00M USD mean profit, 95% CI (-1.37M, 9.01M), 7.7% risk of loss.\n",
    "- **Region 1**: 4.38M USD mean profit, 95% CI (696K, 8.42M), 0.7% risk of loss.\n",
    "- **Region 2**: 3.71M USD mean profit, 95% CI (-1.70M, 9.20M), 8.8% risk of loss.\n",
    "\n",
    "Since **Region 1** has the highest expected profit and the lowest risk, it is the best investment choice. Regions 0 and 2 are excluded due to their higher risk of financial loss, despite their profit potential."
   ]
  }
 ],
 "metadata": {
  "ExecuteTimeLog": [
   {
    "duration": 2694,
    "start_time": "2025-03-14T04:52:29.519Z"
   },
   {
    "duration": 883,
    "start_time": "2025-03-14T04:57:05.063Z"
   },
   {
    "duration": 598,
    "start_time": "2025-03-14T04:57:05.949Z"
   },
   {
    "duration": 0,
    "start_time": "2025-03-14T04:57:06.549Z"
   },
   {
    "duration": 0,
    "start_time": "2025-03-14T04:57:06.550Z"
   },
   {
    "duration": 4,
    "start_time": "2025-03-14T04:58:30.085Z"
   },
   {
    "duration": 66,
    "start_time": "2025-03-14T04:58:37.910Z"
   },
   {
    "duration": 60,
    "start_time": "2025-03-14T04:59:26.271Z"
   },
   {
    "duration": 65,
    "start_time": "2025-03-14T05:01:27.872Z"
   },
   {
    "duration": 4,
    "start_time": "2025-03-14T05:02:22.942Z"
   },
   {
    "duration": 138,
    "start_time": "2025-03-14T05:04:21.531Z"
   },
   {
    "duration": 64,
    "start_time": "2025-03-14T05:04:38.270Z"
   },
   {
    "duration": 914,
    "start_time": "2025-03-14T05:04:51.159Z"
   },
   {
    "duration": 596,
    "start_time": "2025-03-14T05:04:52.075Z"
   },
   {
    "duration": 0,
    "start_time": "2025-03-14T05:04:52.673Z"
   },
   {
    "duration": 0,
    "start_time": "2025-03-14T05:04:52.675Z"
   },
   {
    "duration": 0,
    "start_time": "2025-03-14T05:04:52.676Z"
   },
   {
    "duration": 64,
    "start_time": "2025-03-14T05:05:46.513Z"
   },
   {
    "duration": 15,
    "start_time": "2025-03-14T05:06:57.074Z"
   },
   {
    "duration": 4,
    "start_time": "2025-03-14T05:07:02.843Z"
   },
   {
    "duration": 4,
    "start_time": "2025-03-14T05:07:04.862Z"
   },
   {
    "duration": 107,
    "start_time": "2025-03-14T05:09:39.482Z"
   },
   {
    "duration": 915,
    "start_time": "2025-03-14T05:10:36.044Z"
   },
   {
    "duration": 108,
    "start_time": "2025-03-14T05:10:36.961Z"
   },
   {
    "duration": 106,
    "start_time": "2025-03-14T05:10:37.070Z"
   },
   {
    "duration": 83,
    "start_time": "2025-03-14T05:10:37.178Z"
   },
   {
    "duration": 287,
    "start_time": "2025-03-14T05:15:12.217Z"
   },
   {
    "duration": 12,
    "start_time": "2025-03-14T05:15:39.153Z"
   },
   {
    "duration": 8,
    "start_time": "2025-03-14T05:16:31.988Z"
   },
   {
    "duration": 28,
    "start_time": "2025-03-14T05:18:15.565Z"
   },
   {
    "duration": 36,
    "start_time": "2025-03-14T05:19:07.379Z"
   },
   {
    "duration": 14,
    "start_time": "2025-03-14T05:20:19.238Z"
   },
   {
    "duration": 9,
    "start_time": "2025-03-14T05:20:48.387Z"
   },
   {
    "duration": 37,
    "start_time": "2025-03-14T05:21:09.090Z"
   },
   {
    "duration": 14,
    "start_time": "2025-03-14T05:21:54.174Z"
   },
   {
    "duration": 8,
    "start_time": "2025-03-14T05:22:12.817Z"
   },
   {
    "duration": 34,
    "start_time": "2025-03-14T05:22:30.917Z"
   },
   {
    "duration": 938,
    "start_time": "2025-03-14T05:23:07.990Z"
   },
   {
    "duration": 89,
    "start_time": "2025-03-14T05:23:08.930Z"
   },
   {
    "duration": 91,
    "start_time": "2025-03-14T05:23:09.021Z"
   },
   {
    "duration": 87,
    "start_time": "2025-03-14T05:23:09.115Z"
   },
   {
    "duration": 13,
    "start_time": "2025-03-14T05:23:09.204Z"
   },
   {
    "duration": 9,
    "start_time": "2025-03-14T05:23:09.219Z"
   },
   {
    "duration": 34,
    "start_time": "2025-03-14T05:23:09.229Z"
   },
   {
    "duration": 12,
    "start_time": "2025-03-14T05:23:09.286Z"
   },
   {
    "duration": 8,
    "start_time": "2025-03-14T05:23:09.300Z"
   },
   {
    "duration": 34,
    "start_time": "2025-03-14T05:23:09.310Z"
   },
   {
    "duration": 12,
    "start_time": "2025-03-14T05:23:09.346Z"
   },
   {
    "duration": 34,
    "start_time": "2025-03-14T05:23:09.359Z"
   },
   {
    "duration": 39,
    "start_time": "2025-03-14T05:23:09.395Z"
   },
   {
    "duration": 34,
    "start_time": "2025-03-14T05:23:24.314Z"
   },
   {
    "duration": 33,
    "start_time": "2025-03-14T05:23:37.708Z"
   },
   {
    "duration": 955,
    "start_time": "2025-03-14T05:24:53.811Z"
   },
   {
    "duration": 90,
    "start_time": "2025-03-14T05:24:54.768Z"
   },
   {
    "duration": 90,
    "start_time": "2025-03-14T05:24:54.860Z"
   },
   {
    "duration": 84,
    "start_time": "2025-03-14T05:24:54.953Z"
   },
   {
    "duration": 12,
    "start_time": "2025-03-14T05:24:55.039Z"
   },
   {
    "duration": 9,
    "start_time": "2025-03-14T05:24:55.053Z"
   },
   {
    "duration": 51,
    "start_time": "2025-03-14T05:24:55.064Z"
   },
   {
    "duration": 11,
    "start_time": "2025-03-14T05:24:55.117Z"
   },
   {
    "duration": 8,
    "start_time": "2025-03-14T05:24:55.129Z"
   },
   {
    "duration": 51,
    "start_time": "2025-03-14T05:24:55.139Z"
   },
   {
    "duration": 11,
    "start_time": "2025-03-14T05:24:55.192Z"
   },
   {
    "duration": 8,
    "start_time": "2025-03-14T05:24:55.204Z"
   },
   {
    "duration": 33,
    "start_time": "2025-03-14T05:24:55.214Z"
   },
   {
    "duration": 3630,
    "start_time": "2025-03-14T20:28:02.760Z"
   },
   {
    "duration": 158,
    "start_time": "2025-03-14T20:28:06.393Z"
   },
   {
    "duration": 142,
    "start_time": "2025-03-14T20:28:06.556Z"
   },
   {
    "duration": 177,
    "start_time": "2025-03-14T20:28:06.700Z"
   },
   {
    "duration": 13,
    "start_time": "2025-03-14T20:28:06.880Z"
   },
   {
    "duration": 23,
    "start_time": "2025-03-14T20:28:06.895Z"
   },
   {
    "duration": 51,
    "start_time": "2025-03-14T20:28:06.923Z"
   },
   {
    "duration": 15,
    "start_time": "2025-03-14T20:28:06.976Z"
   },
   {
    "duration": 28,
    "start_time": "2025-03-14T20:28:06.993Z"
   },
   {
    "duration": 47,
    "start_time": "2025-03-14T20:28:07.028Z"
   },
   {
    "duration": 12,
    "start_time": "2025-03-14T20:28:07.077Z"
   },
   {
    "duration": 30,
    "start_time": "2025-03-14T20:28:07.091Z"
   },
   {
    "duration": 56,
    "start_time": "2025-03-14T20:28:07.123Z"
   },
   {
    "duration": 391,
    "start_time": "2025-03-14T20:43:52.571Z"
   },
   {
    "duration": 12,
    "start_time": "2025-03-14T20:51:04.081Z"
   },
   {
    "duration": 45,
    "start_time": "2025-03-14T20:55:17.589Z"
   },
   {
    "duration": 30,
    "start_time": "2025-03-14T20:58:14.985Z"
   },
   {
    "duration": 38,
    "start_time": "2025-03-14T21:03:21.307Z"
   },
   {
    "duration": 1192,
    "start_time": "2025-03-14T21:03:31.288Z"
   },
   {
    "duration": 187,
    "start_time": "2025-03-14T21:03:32.482Z"
   },
   {
    "duration": 137,
    "start_time": "2025-03-14T21:03:32.671Z"
   },
   {
    "duration": 148,
    "start_time": "2025-03-14T21:03:32.824Z"
   },
   {
    "duration": 29,
    "start_time": "2025-03-14T21:03:32.974Z"
   },
   {
    "duration": 20,
    "start_time": "2025-03-14T21:03:33.004Z"
   },
   {
    "duration": 90,
    "start_time": "2025-03-14T21:03:33.030Z"
   },
   {
    "duration": 21,
    "start_time": "2025-03-14T21:03:33.122Z"
   },
   {
    "duration": 19,
    "start_time": "2025-03-14T21:03:33.145Z"
   },
   {
    "duration": 55,
    "start_time": "2025-03-14T21:03:33.166Z"
   },
   {
    "duration": 21,
    "start_time": "2025-03-14T21:03:33.223Z"
   },
   {
    "duration": 31,
    "start_time": "2025-03-14T21:03:33.249Z"
   },
   {
    "duration": 74,
    "start_time": "2025-03-14T21:03:33.282Z"
   },
   {
    "duration": 429,
    "start_time": "2025-03-14T21:03:33.357Z"
   },
   {
    "duration": 32,
    "start_time": "2025-03-14T21:03:44.653Z"
   },
   {
    "duration": 14,
    "start_time": "2025-03-14T21:13:15.012Z"
   },
   {
    "duration": 14,
    "start_time": "2025-03-14T21:19:50.347Z"
   },
   {
    "duration": 15,
    "start_time": "2025-03-14T21:25:29.119Z"
   },
   {
    "duration": 20,
    "start_time": "2025-03-14T21:25:53.918Z"
   },
   {
    "duration": 14,
    "start_time": "2025-03-14T21:27:17.702Z"
   },
   {
    "duration": 928,
    "start_time": "2025-03-14T21:27:51.658Z"
   },
   {
    "duration": 86,
    "start_time": "2025-03-14T21:27:52.589Z"
   },
   {
    "duration": 84,
    "start_time": "2025-03-14T21:27:52.677Z"
   },
   {
    "duration": 85,
    "start_time": "2025-03-14T21:27:52.762Z"
   },
   {
    "duration": 12,
    "start_time": "2025-03-14T21:27:52.849Z"
   },
   {
    "duration": 8,
    "start_time": "2025-03-14T21:27:52.862Z"
   },
   {
    "duration": 49,
    "start_time": "2025-03-14T21:27:52.871Z"
   },
   {
    "duration": 11,
    "start_time": "2025-03-14T21:27:52.921Z"
   },
   {
    "duration": 8,
    "start_time": "2025-03-14T21:27:52.934Z"
   },
   {
    "duration": 30,
    "start_time": "2025-03-14T21:27:52.944Z"
   },
   {
    "duration": 40,
    "start_time": "2025-03-14T21:27:52.975Z"
   },
   {
    "duration": 8,
    "start_time": "2025-03-14T21:27:53.017Z"
   },
   {
    "duration": 32,
    "start_time": "2025-03-14T21:27:53.026Z"
   },
   {
    "duration": 717,
    "start_time": "2025-03-14T21:27:53.062Z"
   },
   {
    "duration": 0,
    "start_time": "2025-03-14T21:27:53.781Z"
   },
   {
    "duration": 25,
    "start_time": "2025-03-14T21:28:16.172Z"
   },
   {
    "duration": 926,
    "start_time": "2025-03-14T21:28:36.861Z"
   },
   {
    "duration": 86,
    "start_time": "2025-03-14T21:28:37.790Z"
   },
   {
    "duration": 83,
    "start_time": "2025-03-14T21:28:37.877Z"
   },
   {
    "duration": 88,
    "start_time": "2025-03-14T21:28:37.962Z"
   },
   {
    "duration": 11,
    "start_time": "2025-03-14T21:28:38.053Z"
   },
   {
    "duration": 7,
    "start_time": "2025-03-14T21:28:38.067Z"
   },
   {
    "duration": 53,
    "start_time": "2025-03-14T21:28:38.076Z"
   },
   {
    "duration": 10,
    "start_time": "2025-03-14T21:28:38.131Z"
   },
   {
    "duration": 9,
    "start_time": "2025-03-14T21:28:38.143Z"
   },
   {
    "duration": 30,
    "start_time": "2025-03-14T21:28:38.153Z"
   },
   {
    "duration": 31,
    "start_time": "2025-03-14T21:28:38.185Z"
   },
   {
    "duration": 8,
    "start_time": "2025-03-14T21:28:38.218Z"
   },
   {
    "duration": 32,
    "start_time": "2025-03-14T21:28:38.229Z"
   },
   {
    "duration": 316,
    "start_time": "2025-03-14T21:28:38.263Z"
   },
   {
    "duration": 0,
    "start_time": "2025-03-14T21:28:38.581Z"
   },
   {
    "duration": 13,
    "start_time": "2025-03-14T21:30:36.401Z"
   },
   {
    "duration": 11,
    "start_time": "2025-03-14T21:30:55.665Z"
   },
   {
    "duration": 881,
    "start_time": "2025-03-14T21:33:29.709Z"
   },
   {
    "duration": 90,
    "start_time": "2025-03-14T21:33:30.592Z"
   },
   {
    "duration": 82,
    "start_time": "2025-03-14T21:33:30.683Z"
   },
   {
    "duration": 87,
    "start_time": "2025-03-14T21:33:30.768Z"
   },
   {
    "duration": 11,
    "start_time": "2025-03-14T21:33:30.857Z"
   },
   {
    "duration": 8,
    "start_time": "2025-03-14T21:33:30.869Z"
   },
   {
    "duration": 49,
    "start_time": "2025-03-14T21:33:30.879Z"
   },
   {
    "duration": 11,
    "start_time": "2025-03-14T21:33:30.930Z"
   },
   {
    "duration": 7,
    "start_time": "2025-03-14T21:33:30.943Z"
   },
   {
    "duration": 30,
    "start_time": "2025-03-14T21:33:30.953Z"
   },
   {
    "duration": 11,
    "start_time": "2025-03-14T21:33:31.008Z"
   },
   {
    "duration": 8,
    "start_time": "2025-03-14T21:33:31.021Z"
   },
   {
    "duration": 32,
    "start_time": "2025-03-14T21:33:31.030Z"
   },
   {
    "duration": 12,
    "start_time": "2025-03-14T21:33:31.064Z"
   },
   {
    "duration": 41,
    "start_time": "2025-03-14T21:33:31.078Z"
   },
   {
    "duration": 11,
    "start_time": "2025-03-14T21:34:31.886Z"
   },
   {
    "duration": 12,
    "start_time": "2025-03-14T21:35:00.678Z"
   },
   {
    "duration": 3,
    "start_time": "2025-03-14T21:42:19.232Z"
   },
   {
    "duration": 272,
    "start_time": "2025-03-14T21:42:45.733Z"
   },
   {
    "duration": 5,
    "start_time": "2025-03-14T21:42:52.451Z"
   },
   {
    "duration": 5,
    "start_time": "2025-03-14T21:45:38.414Z"
   },
   {
    "duration": 5,
    "start_time": "2025-03-14T21:48:17.197Z"
   },
   {
    "duration": 992,
    "start_time": "2025-03-14T21:50:45.946Z"
   },
   {
    "duration": 90,
    "start_time": "2025-03-14T21:50:46.940Z"
   },
   {
    "duration": 84,
    "start_time": "2025-03-14T21:50:47.032Z"
   },
   {
    "duration": 94,
    "start_time": "2025-03-14T21:50:47.119Z"
   },
   {
    "duration": 20,
    "start_time": "2025-03-14T21:50:47.215Z"
   },
   {
    "duration": 9,
    "start_time": "2025-03-14T21:50:47.238Z"
   },
   {
    "duration": 44,
    "start_time": "2025-03-14T21:50:47.250Z"
   },
   {
    "duration": 22,
    "start_time": "2025-03-14T21:50:47.296Z"
   },
   {
    "duration": 8,
    "start_time": "2025-03-14T21:50:47.320Z"
   },
   {
    "duration": 29,
    "start_time": "2025-03-14T21:50:47.330Z"
   },
   {
    "duration": 21,
    "start_time": "2025-03-14T21:50:47.361Z"
   },
   {
    "duration": 34,
    "start_time": "2025-03-14T21:50:47.383Z"
   },
   {
    "duration": 34,
    "start_time": "2025-03-14T21:50:47.419Z"
   },
   {
    "duration": 12,
    "start_time": "2025-03-14T21:50:47.454Z"
   },
   {
    "duration": 53,
    "start_time": "2025-03-14T21:50:47.467Z"
   },
   {
    "duration": 8,
    "start_time": "2025-03-14T21:50:47.522Z"
   },
   {
    "duration": 6,
    "start_time": "2025-03-14T21:58:11.912Z"
   },
   {
    "duration": 398,
    "start_time": "2025-03-14T22:01:16.073Z"
   },
   {
    "duration": 211,
    "start_time": "2025-03-14T22:03:01.697Z"
   },
   {
    "duration": 30,
    "start_time": "2025-03-14T22:03:26.373Z"
   },
   {
    "duration": 13,
    "start_time": "2025-03-14T22:03:54.548Z"
   },
   {
    "duration": 1060,
    "start_time": "2025-03-14T22:04:36.960Z"
   },
   {
    "duration": 124,
    "start_time": "2025-03-14T22:04:38.023Z"
   },
   {
    "duration": 125,
    "start_time": "2025-03-14T22:04:38.149Z"
   },
   {
    "duration": 111,
    "start_time": "2025-03-14T22:04:38.276Z"
   },
   {
    "duration": 24,
    "start_time": "2025-03-14T22:04:38.390Z"
   },
   {
    "duration": 11,
    "start_time": "2025-03-14T22:04:38.416Z"
   },
   {
    "duration": 50,
    "start_time": "2025-03-14T22:04:38.429Z"
   },
   {
    "duration": 32,
    "start_time": "2025-03-14T22:04:38.481Z"
   },
   {
    "duration": 14,
    "start_time": "2025-03-14T22:04:38.515Z"
   },
   {
    "duration": 42,
    "start_time": "2025-03-14T22:04:38.531Z"
   },
   {
    "duration": 32,
    "start_time": "2025-03-14T22:04:38.577Z"
   },
   {
    "duration": 9,
    "start_time": "2025-03-14T22:04:38.611Z"
   },
   {
    "duration": 46,
    "start_time": "2025-03-14T22:04:38.622Z"
   },
   {
    "duration": 37,
    "start_time": "2025-03-14T22:04:38.672Z"
   },
   {
    "duration": 14,
    "start_time": "2025-03-14T22:04:38.711Z"
   },
   {
    "duration": 9,
    "start_time": "2025-03-14T22:04:38.727Z"
   },
   {
    "duration": 970,
    "start_time": "2025-03-14T22:08:15.576Z"
   },
   {
    "duration": 94,
    "start_time": "2025-03-14T22:08:16.548Z"
   },
   {
    "duration": 96,
    "start_time": "2025-03-14T22:08:16.644Z"
   },
   {
    "duration": 92,
    "start_time": "2025-03-14T22:08:16.743Z"
   },
   {
    "duration": 16,
    "start_time": "2025-03-14T22:08:16.837Z"
   },
   {
    "duration": 11,
    "start_time": "2025-03-14T22:08:16.855Z"
   },
   {
    "duration": 59,
    "start_time": "2025-03-14T22:08:16.868Z"
   },
   {
    "duration": 15,
    "start_time": "2025-03-14T22:08:16.928Z"
   },
   {
    "duration": 10,
    "start_time": "2025-03-14T22:08:16.945Z"
   },
   {
    "duration": 65,
    "start_time": "2025-03-14T22:08:16.959Z"
   },
   {
    "duration": 12,
    "start_time": "2025-03-14T22:08:17.026Z"
   },
   {
    "duration": 9,
    "start_time": "2025-03-14T22:08:17.041Z"
   },
   {
    "duration": 63,
    "start_time": "2025-03-14T22:08:17.052Z"
   },
   {
    "duration": 17,
    "start_time": "2025-03-14T22:08:17.117Z"
   },
   {
    "duration": 21,
    "start_time": "2025-03-14T22:08:17.136Z"
   },
   {
    "duration": 53,
    "start_time": "2025-03-14T22:08:17.159Z"
   },
   {
    "duration": 20,
    "start_time": "2025-03-14T22:17:44.227Z"
   },
   {
    "duration": 19,
    "start_time": "2025-03-14T22:18:08.360Z"
   },
   {
    "duration": 4,
    "start_time": "2025-03-14T22:18:42.410Z"
   },
   {
    "duration": 14,
    "start_time": "2025-03-14T22:26:38.249Z"
   },
   {
    "duration": 17,
    "start_time": "2025-03-14T22:26:58.167Z"
   },
   {
    "duration": 8,
    "start_time": "2025-03-14T22:27:17.186Z"
   },
   {
    "duration": 1091,
    "start_time": "2025-03-14T22:32:35.164Z"
   },
   {
    "duration": 128,
    "start_time": "2025-03-14T22:32:36.258Z"
   },
   {
    "duration": 124,
    "start_time": "2025-03-14T22:32:36.389Z"
   },
   {
    "duration": 122,
    "start_time": "2025-03-14T22:32:36.516Z"
   },
   {
    "duration": 15,
    "start_time": "2025-03-14T22:32:36.641Z"
   },
   {
    "duration": 16,
    "start_time": "2025-03-14T22:32:36.657Z"
   },
   {
    "duration": 60,
    "start_time": "2025-03-14T22:32:36.676Z"
   },
   {
    "duration": 14,
    "start_time": "2025-03-14T22:32:36.738Z"
   },
   {
    "duration": 10,
    "start_time": "2025-03-14T22:32:36.754Z"
   },
   {
    "duration": 58,
    "start_time": "2025-03-14T22:32:36.766Z"
   },
   {
    "duration": 13,
    "start_time": "2025-03-14T22:32:36.826Z"
   },
   {
    "duration": 9,
    "start_time": "2025-03-14T22:32:36.841Z"
   },
   {
    "duration": 63,
    "start_time": "2025-03-14T22:32:36.852Z"
   },
   {
    "duration": 16,
    "start_time": "2025-03-14T22:32:36.921Z"
   },
   {
    "duration": 19,
    "start_time": "2025-03-14T22:32:36.939Z"
   },
   {
    "duration": 8,
    "start_time": "2025-03-14T22:32:36.962Z"
   },
   {
    "duration": 51,
    "start_time": "2025-03-14T22:32:36.974Z"
   },
   {
    "duration": 14,
    "start_time": "2025-03-14T22:32:37.030Z"
   },
   {
    "duration": 7,
    "start_time": "2025-03-14T22:32:37.050Z"
   },
   {
    "duration": 19,
    "start_time": "2025-03-14T22:32:37.111Z"
   },
   {
    "duration": 34,
    "start_time": "2025-03-14T22:32:37.134Z"
   },
   {
    "duration": 39,
    "start_time": "2025-03-14T22:32:37.174Z"
   },
   {
    "duration": 2577,
    "start_time": "2025-03-15T04:07:43.686Z"
   },
   {
    "duration": 117,
    "start_time": "2025-03-15T04:07:46.266Z"
   },
   {
    "duration": 102,
    "start_time": "2025-03-15T04:07:46.384Z"
   },
   {
    "duration": 108,
    "start_time": "2025-03-15T04:07:46.487Z"
   },
   {
    "duration": 11,
    "start_time": "2025-03-15T04:07:46.598Z"
   },
   {
    "duration": 8,
    "start_time": "2025-03-15T04:07:46.612Z"
   },
   {
    "duration": 40,
    "start_time": "2025-03-15T04:07:46.621Z"
   },
   {
    "duration": 11,
    "start_time": "2025-03-15T04:07:46.663Z"
   },
   {
    "duration": 7,
    "start_time": "2025-03-15T04:07:46.676Z"
   },
   {
    "duration": 50,
    "start_time": "2025-03-15T04:07:46.685Z"
   },
   {
    "duration": 11,
    "start_time": "2025-03-15T04:07:46.738Z"
   },
   {
    "duration": 8,
    "start_time": "2025-03-15T04:07:46.751Z"
   },
   {
    "duration": 34,
    "start_time": "2025-03-15T04:07:46.761Z"
   },
   {
    "duration": 35,
    "start_time": "2025-03-15T04:07:46.798Z"
   },
   {
    "duration": 11,
    "start_time": "2025-03-15T04:07:46.835Z"
   },
   {
    "duration": 4,
    "start_time": "2025-03-15T04:07:46.848Z"
   },
   {
    "duration": 80,
    "start_time": "2025-03-15T04:07:46.854Z"
   },
   {
    "duration": 12,
    "start_time": "2025-03-15T04:07:46.936Z"
   },
   {
    "duration": 80,
    "start_time": "2025-03-15T04:07:46.950Z"
   },
   {
    "duration": 13,
    "start_time": "2025-03-15T04:07:47.033Z"
   },
   {
    "duration": 9,
    "start_time": "2025-03-15T04:07:47.047Z"
   },
   {
    "duration": 4,
    "start_time": "2025-03-15T04:07:47.058Z"
   },
   {
    "duration": 3,
    "start_time": "2025-03-15T04:07:47.132Z"
   },
   {
    "duration": 282,
    "start_time": "2025-03-15T04:36:00.937Z"
   },
   {
    "duration": 2,
    "start_time": "2025-03-15T04:36:08.501Z"
   },
   {
    "duration": 4,
    "start_time": "2025-03-15T04:36:10.935Z"
   },
   {
    "duration": 3,
    "start_time": "2025-03-15T04:36:34.823Z"
   },
   {
    "duration": 3,
    "start_time": "2025-03-15T04:36:46.130Z"
   },
   {
    "duration": 4,
    "start_time": "2025-03-15T04:36:49.927Z"
   },
   {
    "duration": 3,
    "start_time": "2025-03-15T04:39:25.763Z"
   },
   {
    "duration": 926,
    "start_time": "2025-03-15T04:41:42.978Z"
   },
   {
    "duration": 94,
    "start_time": "2025-03-15T04:41:43.907Z"
   },
   {
    "duration": 93,
    "start_time": "2025-03-15T04:41:44.003Z"
   },
   {
    "duration": 85,
    "start_time": "2025-03-15T04:41:44.098Z"
   },
   {
    "duration": 11,
    "start_time": "2025-03-15T04:41:44.186Z"
   },
   {
    "duration": 7,
    "start_time": "2025-03-15T04:41:44.199Z"
   },
   {
    "duration": 49,
    "start_time": "2025-03-15T04:41:44.208Z"
   },
   {
    "duration": 11,
    "start_time": "2025-03-15T04:41:44.258Z"
   },
   {
    "duration": 9,
    "start_time": "2025-03-15T04:41:44.270Z"
   },
   {
    "duration": 29,
    "start_time": "2025-03-15T04:41:44.280Z"
   },
   {
    "duration": 12,
    "start_time": "2025-03-15T04:41:44.331Z"
   },
   {
    "duration": 7,
    "start_time": "2025-03-15T04:41:44.344Z"
   },
   {
    "duration": 32,
    "start_time": "2025-03-15T04:41:44.353Z"
   },
   {
    "duration": 10,
    "start_time": "2025-03-15T04:41:44.388Z"
   },
   {
    "duration": 39,
    "start_time": "2025-03-15T04:41:44.400Z"
   },
   {
    "duration": 5,
    "start_time": "2025-03-15T04:41:44.440Z"
   },
   {
    "duration": 88,
    "start_time": "2025-03-15T04:41:44.446Z"
   },
   {
    "duration": 16,
    "start_time": "2025-03-15T04:41:44.536Z"
   },
   {
    "duration": 5,
    "start_time": "2025-03-15T04:41:44.553Z"
   },
   {
    "duration": 83,
    "start_time": "2025-03-15T04:41:44.559Z"
   },
   {
    "duration": 11,
    "start_time": "2025-03-15T04:41:44.643Z"
   },
   {
    "duration": 78,
    "start_time": "2025-03-15T04:41:44.656Z"
   },
   {
    "duration": 2,
    "start_time": "2025-03-15T04:41:44.736Z"
   },
   {
    "duration": 3,
    "start_time": "2025-03-15T04:41:44.740Z"
   },
   {
    "duration": 10,
    "start_time": "2025-03-15T04:48:20.235Z"
   },
   {
    "duration": 5,
    "start_time": "2025-03-15T04:48:42.992Z"
   },
   {
    "duration": 274,
    "start_time": "2025-03-15T04:55:11.303Z"
   },
   {
    "duration": 15,
    "start_time": "2025-03-15T05:02:27.259Z"
   },
   {
    "duration": 14,
    "start_time": "2025-03-15T05:02:38.901Z"
   },
   {
    "duration": 20,
    "start_time": "2025-03-15T05:03:20.411Z"
   },
   {
    "duration": 4,
    "start_time": "2025-03-15T05:07:07.988Z"
   },
   {
    "duration": 932,
    "start_time": "2025-03-15T05:15:08.474Z"
   },
   {
    "duration": 86,
    "start_time": "2025-03-15T05:15:09.407Z"
   },
   {
    "duration": 82,
    "start_time": "2025-03-15T05:15:09.495Z"
   },
   {
    "duration": 85,
    "start_time": "2025-03-15T05:15:09.579Z"
   },
   {
    "duration": 11,
    "start_time": "2025-03-15T05:15:09.667Z"
   },
   {
    "duration": 7,
    "start_time": "2025-03-15T05:15:09.679Z"
   },
   {
    "duration": 48,
    "start_time": "2025-03-15T05:15:09.688Z"
   },
   {
    "duration": 11,
    "start_time": "2025-03-15T05:15:09.738Z"
   },
   {
    "duration": 8,
    "start_time": "2025-03-15T05:15:09.750Z"
   },
   {
    "duration": 30,
    "start_time": "2025-03-15T05:15:09.761Z"
   },
   {
    "duration": 40,
    "start_time": "2025-03-15T05:15:09.793Z"
   },
   {
    "duration": 7,
    "start_time": "2025-03-15T05:15:09.835Z"
   },
   {
    "duration": 32,
    "start_time": "2025-03-15T05:15:09.843Z"
   },
   {
    "duration": 11,
    "start_time": "2025-03-15T05:15:09.877Z"
   },
   {
    "duration": 42,
    "start_time": "2025-03-15T05:15:09.889Z"
   },
   {
    "duration": 7,
    "start_time": "2025-03-15T05:15:09.933Z"
   },
   {
    "duration": 14,
    "start_time": "2025-03-15T05:15:09.941Z"
   },
   {
    "duration": 79,
    "start_time": "2025-03-15T05:15:09.957Z"
   },
   {
    "duration": 4,
    "start_time": "2025-03-15T05:15:10.037Z"
   },
   {
    "duration": 13,
    "start_time": "2025-03-15T05:15:10.043Z"
   },
   {
    "duration": 11,
    "start_time": "2025-03-15T05:15:10.131Z"
   },
   {
    "duration": 7,
    "start_time": "2025-03-15T05:15:10.144Z"
   },
   {
    "duration": 3,
    "start_time": "2025-03-15T05:15:10.153Z"
   },
   {
    "duration": 4,
    "start_time": "2025-03-15T05:15:10.157Z"
   },
   {
    "duration": 5,
    "start_time": "2025-03-15T05:15:10.236Z"
   },
   {
    "duration": 3,
    "start_time": "2025-03-15T05:16:59.588Z"
   },
   {
    "duration": 892,
    "start_time": "2025-03-15T05:22:46.212Z"
   },
   {
    "duration": 85,
    "start_time": "2025-03-15T05:22:47.106Z"
   },
   {
    "duration": 86,
    "start_time": "2025-03-15T05:22:47.193Z"
   },
   {
    "duration": 82,
    "start_time": "2025-03-15T05:22:47.281Z"
   },
   {
    "duration": 12,
    "start_time": "2025-03-15T05:22:47.365Z"
   },
   {
    "duration": 7,
    "start_time": "2025-03-15T05:22:47.379Z"
   },
   {
    "duration": 48,
    "start_time": "2025-03-15T05:22:47.387Z"
   },
   {
    "duration": 10,
    "start_time": "2025-03-15T05:22:47.439Z"
   },
   {
    "duration": 8,
    "start_time": "2025-03-15T05:22:47.450Z"
   },
   {
    "duration": 29,
    "start_time": "2025-03-15T05:22:47.460Z"
   },
   {
    "duration": 11,
    "start_time": "2025-03-15T05:22:47.491Z"
   },
   {
    "duration": 8,
    "start_time": "2025-03-15T05:22:47.531Z"
   },
   {
    "duration": 32,
    "start_time": "2025-03-15T05:22:47.540Z"
   },
   {
    "duration": 11,
    "start_time": "2025-03-15T05:22:47.575Z"
   },
   {
    "duration": 45,
    "start_time": "2025-03-15T05:22:47.587Z"
   },
   {
    "duration": 4,
    "start_time": "2025-03-15T05:22:47.634Z"
   },
   {
    "duration": 16,
    "start_time": "2025-03-15T05:22:47.639Z"
   },
   {
    "duration": 82,
    "start_time": "2025-03-15T05:22:47.657Z"
   },
   {
    "duration": 5,
    "start_time": "2025-03-15T05:22:47.741Z"
   },
   {
    "duration": 14,
    "start_time": "2025-03-15T05:22:47.748Z"
   },
   {
    "duration": 11,
    "start_time": "2025-03-15T05:22:47.832Z"
   },
   {
    "duration": 5,
    "start_time": "2025-03-15T05:22:47.845Z"
   },
   {
    "duration": 4,
    "start_time": "2025-03-15T05:22:47.851Z"
   },
   {
    "duration": 74,
    "start_time": "2025-03-15T05:22:47.857Z"
   },
   {
    "duration": 4,
    "start_time": "2025-03-15T05:22:47.934Z"
   },
   {
    "duration": 953,
    "start_time": "2025-03-15T05:28:16.944Z"
   },
   {
    "duration": 90,
    "start_time": "2025-03-15T05:28:17.899Z"
   },
   {
    "duration": 86,
    "start_time": "2025-03-15T05:28:17.991Z"
   },
   {
    "duration": 91,
    "start_time": "2025-03-15T05:28:18.080Z"
   },
   {
    "duration": 13,
    "start_time": "2025-03-15T05:28:18.173Z"
   },
   {
    "duration": 9,
    "start_time": "2025-03-15T05:28:18.187Z"
   },
   {
    "duration": 55,
    "start_time": "2025-03-15T05:28:18.197Z"
   },
   {
    "duration": 12,
    "start_time": "2025-03-15T05:28:18.253Z"
   },
   {
    "duration": 8,
    "start_time": "2025-03-15T05:28:18.266Z"
   },
   {
    "duration": 30,
    "start_time": "2025-03-15T05:28:18.278Z"
   },
   {
    "duration": 33,
    "start_time": "2025-03-15T05:28:18.309Z"
   },
   {
    "duration": 7,
    "start_time": "2025-03-15T05:28:18.344Z"
   },
   {
    "duration": 33,
    "start_time": "2025-03-15T05:28:18.353Z"
   },
   {
    "duration": 11,
    "start_time": "2025-03-15T05:28:18.388Z"
   },
   {
    "duration": 46,
    "start_time": "2025-03-15T05:28:18.400Z"
   },
   {
    "duration": 5,
    "start_time": "2025-03-15T05:28:18.447Z"
   },
   {
    "duration": 84,
    "start_time": "2025-03-15T05:28:18.453Z"
   },
   {
    "duration": 10,
    "start_time": "2025-03-15T05:28:18.538Z"
   },
   {
    "duration": 4,
    "start_time": "2025-03-15T05:28:18.550Z"
   },
   {
    "duration": 83,
    "start_time": "2025-03-15T05:28:18.556Z"
   },
   {
    "duration": 10,
    "start_time": "2025-03-15T05:28:18.641Z"
   },
   {
    "duration": 82,
    "start_time": "2025-03-15T05:28:18.655Z"
   },
   {
    "duration": 4,
    "start_time": "2025-03-15T05:28:18.741Z"
   },
   {
    "duration": 3,
    "start_time": "2025-03-15T05:28:18.750Z"
   },
   {
    "duration": 5,
    "start_time": "2025-03-15T05:28:18.755Z"
   },
   {
    "duration": 2605,
    "start_time": "2025-03-16T03:41:25.614Z"
   },
   {
    "duration": 113,
    "start_time": "2025-03-16T03:41:28.221Z"
   },
   {
    "duration": 104,
    "start_time": "2025-03-16T03:41:28.336Z"
   },
   {
    "duration": 95,
    "start_time": "2025-03-16T03:41:28.442Z"
   },
   {
    "duration": 11,
    "start_time": "2025-03-16T03:41:28.539Z"
   },
   {
    "duration": 7,
    "start_time": "2025-03-16T03:41:28.551Z"
   },
   {
    "duration": 47,
    "start_time": "2025-03-16T03:41:28.560Z"
   },
   {
    "duration": 12,
    "start_time": "2025-03-16T03:41:28.609Z"
   },
   {
    "duration": 9,
    "start_time": "2025-03-16T03:41:28.623Z"
   },
   {
    "duration": 30,
    "start_time": "2025-03-16T03:41:28.634Z"
   },
   {
    "duration": 11,
    "start_time": "2025-03-16T03:41:28.665Z"
   },
   {
    "duration": 11,
    "start_time": "2025-03-16T03:41:28.708Z"
   },
   {
    "duration": 32,
    "start_time": "2025-03-16T03:41:28.721Z"
   },
   {
    "duration": 11,
    "start_time": "2025-03-16T03:41:28.755Z"
   },
   {
    "duration": 37,
    "start_time": "2025-03-16T03:41:28.768Z"
   },
   {
    "duration": 8,
    "start_time": "2025-03-16T03:41:28.809Z"
   },
   {
    "duration": 90,
    "start_time": "2025-03-16T03:41:28.820Z"
   },
   {
    "duration": 11,
    "start_time": "2025-03-16T03:41:28.912Z"
   },
   {
    "duration": 4,
    "start_time": "2025-03-16T03:41:28.925Z"
   },
   {
    "duration": 75,
    "start_time": "2025-03-16T03:41:28.931Z"
   },
   {
    "duration": 14,
    "start_time": "2025-03-16T03:41:29.008Z"
   },
   {
    "duration": 83,
    "start_time": "2025-03-16T03:41:29.026Z"
   },
   {
    "duration": 3,
    "start_time": "2025-03-16T03:41:29.114Z"
   },
   {
    "duration": 3,
    "start_time": "2025-03-16T03:41:29.119Z"
   },
   {
    "duration": 4,
    "start_time": "2025-03-16T03:41:29.124Z"
   },
   {
    "duration": 242,
    "start_time": "2025-03-16T04:35:17.559Z"
   },
   {
    "duration": 33,
    "start_time": "2025-03-16T04:36:49.473Z"
   },
   {
    "duration": 12,
    "start_time": "2025-03-16T04:37:17.609Z"
   },
   {
    "duration": 2603,
    "start_time": "2025-03-17T16:48:45.018Z"
   },
   {
    "duration": 108,
    "start_time": "2025-03-17T16:48:47.624Z"
   },
   {
    "duration": 109,
    "start_time": "2025-03-17T16:48:47.734Z"
   },
   {
    "duration": 114,
    "start_time": "2025-03-17T16:48:47.845Z"
   },
   {
    "duration": 11,
    "start_time": "2025-03-17T16:48:47.961Z"
   },
   {
    "duration": 17,
    "start_time": "2025-03-17T16:48:47.974Z"
   },
   {
    "duration": 32,
    "start_time": "2025-03-17T16:48:47.993Z"
   },
   {
    "duration": 12,
    "start_time": "2025-03-17T16:48:48.026Z"
   },
   {
    "duration": 7,
    "start_time": "2025-03-17T16:48:48.039Z"
   },
   {
    "duration": 62,
    "start_time": "2025-03-17T16:48:48.048Z"
   },
   {
    "duration": 13,
    "start_time": "2025-03-17T16:48:48.112Z"
   },
   {
    "duration": 11,
    "start_time": "2025-03-17T16:48:48.127Z"
   },
   {
    "duration": 47,
    "start_time": "2025-03-17T16:48:48.140Z"
   },
   {
    "duration": 10,
    "start_time": "2025-03-17T16:48:48.190Z"
   },
   {
    "duration": 11,
    "start_time": "2025-03-17T16:48:48.202Z"
   },
   {
    "duration": 5,
    "start_time": "2025-03-17T16:48:48.214Z"
   },
   {
    "duration": 70,
    "start_time": "2025-03-17T16:48:48.221Z"
   },
   {
    "duration": 11,
    "start_time": "2025-03-17T16:48:48.293Z"
   },
   {
    "duration": 4,
    "start_time": "2025-03-17T16:48:48.306Z"
   },
   {
    "duration": 91,
    "start_time": "2025-03-17T16:48:48.311Z"
   },
   {
    "duration": 81,
    "start_time": "2025-03-17T16:48:48.405Z"
   },
   {
    "duration": 4,
    "start_time": "2025-03-17T16:48:48.488Z"
   },
   {
    "duration": 4,
    "start_time": "2025-03-17T16:48:48.494Z"
   },
   {
    "duration": 3,
    "start_time": "2025-03-17T16:48:48.500Z"
   },
   {
    "duration": 4,
    "start_time": "2025-03-17T16:48:48.505Z"
   },
   {
    "duration": 4,
    "start_time": "2025-03-17T16:53:14.422Z"
   },
   {
    "duration": 3,
    "start_time": "2025-03-17T16:53:45.183Z"
   },
   {
    "duration": 8,
    "start_time": "2025-03-17T16:54:11.517Z"
   },
   {
    "duration": 270,
    "start_time": "2025-03-17T16:54:23.078Z"
   },
   {
    "duration": 4,
    "start_time": "2025-03-17T16:54:42.444Z"
   },
   {
    "duration": 4,
    "start_time": "2025-03-17T16:54:54.382Z"
   },
   {
    "duration": 4,
    "start_time": "2025-03-17T16:55:15.493Z"
   },
   {
    "duration": 939,
    "start_time": "2025-03-17T16:55:56.100Z"
   },
   {
    "duration": 86,
    "start_time": "2025-03-17T16:55:57.042Z"
   },
   {
    "duration": 81,
    "start_time": "2025-03-17T16:55:57.130Z"
   },
   {
    "duration": 87,
    "start_time": "2025-03-17T16:55:57.213Z"
   },
   {
    "duration": 13,
    "start_time": "2025-03-17T16:55:57.302Z"
   },
   {
    "duration": 9,
    "start_time": "2025-03-17T16:55:57.317Z"
   },
   {
    "duration": 32,
    "start_time": "2025-03-17T16:55:57.328Z"
   },
   {
    "duration": 31,
    "start_time": "2025-03-17T16:55:57.362Z"
   },
   {
    "duration": 8,
    "start_time": "2025-03-17T16:55:57.395Z"
   },
   {
    "duration": 31,
    "start_time": "2025-03-17T16:55:57.404Z"
   },
   {
    "duration": 11,
    "start_time": "2025-03-17T16:55:57.437Z"
   },
   {
    "duration": 38,
    "start_time": "2025-03-17T16:55:57.450Z"
   },
   {
    "duration": 38,
    "start_time": "2025-03-17T16:55:57.489Z"
   },
   {
    "duration": 10,
    "start_time": "2025-03-17T16:55:57.531Z"
   },
   {
    "duration": 45,
    "start_time": "2025-03-17T16:55:57.543Z"
   },
   {
    "duration": 7,
    "start_time": "2025-03-17T16:55:57.589Z"
   },
   {
    "duration": 89,
    "start_time": "2025-03-17T16:55:57.598Z"
   },
   {
    "duration": 10,
    "start_time": "2025-03-17T16:55:57.690Z"
   },
   {
    "duration": 4,
    "start_time": "2025-03-17T16:55:57.701Z"
   },
   {
    "duration": 82,
    "start_time": "2025-03-17T16:55:57.706Z"
   },
   {
    "duration": 11,
    "start_time": "2025-03-17T16:55:57.790Z"
   },
   {
    "duration": 5,
    "start_time": "2025-03-17T16:55:57.802Z"
   },
   {
    "duration": 78,
    "start_time": "2025-03-17T16:55:57.808Z"
   },
   {
    "duration": 3,
    "start_time": "2025-03-17T16:55:57.888Z"
   },
   {
    "duration": 4,
    "start_time": "2025-03-17T16:55:57.893Z"
   },
   {
    "duration": 4,
    "start_time": "2025-03-17T16:55:57.900Z"
   },
   {
    "duration": 300,
    "start_time": "2025-03-17T17:02:42.644Z"
   },
   {
    "duration": 14,
    "start_time": "2025-03-17T17:03:47.542Z"
   },
   {
    "duration": 15,
    "start_time": "2025-03-17T17:03:53.937Z"
   },
   {
    "duration": 14,
    "start_time": "2025-03-17T17:06:10.260Z"
   },
   {
    "duration": 13,
    "start_time": "2025-03-17T17:16:22.625Z"
   },
   {
    "duration": 9,
    "start_time": "2025-03-17T17:16:51.617Z"
   },
   {
    "duration": 15,
    "start_time": "2025-03-17T17:31:41.216Z"
   },
   {
    "duration": 11,
    "start_time": "2025-03-17T17:36:44.267Z"
   },
   {
    "duration": 926,
    "start_time": "2025-03-17T17:37:47.347Z"
   },
   {
    "duration": 85,
    "start_time": "2025-03-17T17:37:48.276Z"
   },
   {
    "duration": 87,
    "start_time": "2025-03-17T17:37:48.363Z"
   },
   {
    "duration": 88,
    "start_time": "2025-03-17T17:37:48.454Z"
   },
   {
    "duration": 15,
    "start_time": "2025-03-17T17:37:48.544Z"
   },
   {
    "duration": 26,
    "start_time": "2025-03-17T17:37:48.561Z"
   },
   {
    "duration": 33,
    "start_time": "2025-03-17T17:37:48.589Z"
   },
   {
    "duration": 13,
    "start_time": "2025-03-17T17:37:48.624Z"
   },
   {
    "duration": 11,
    "start_time": "2025-03-17T17:37:48.639Z"
   },
   {
    "duration": 54,
    "start_time": "2025-03-17T17:37:48.656Z"
   },
   {
    "duration": 11,
    "start_time": "2025-03-17T17:37:48.712Z"
   },
   {
    "duration": 9,
    "start_time": "2025-03-17T17:37:48.725Z"
   },
   {
    "duration": 62,
    "start_time": "2025-03-17T17:37:48.736Z"
   },
   {
    "duration": 17,
    "start_time": "2025-03-17T17:37:48.800Z"
   },
   {
    "duration": 16,
    "start_time": "2025-03-17T17:37:48.819Z"
   },
   {
    "duration": 413,
    "start_time": "2025-03-17T17:37:48.837Z"
   },
   {
    "duration": 0,
    "start_time": "2025-03-17T17:37:49.252Z"
   },
   {
    "duration": 0,
    "start_time": "2025-03-17T17:37:49.253Z"
   },
   {
    "duration": 0,
    "start_time": "2025-03-17T17:37:49.255Z"
   },
   {
    "duration": 0,
    "start_time": "2025-03-17T17:37:49.256Z"
   },
   {
    "duration": 0,
    "start_time": "2025-03-17T17:37:49.258Z"
   },
   {
    "duration": 0,
    "start_time": "2025-03-17T17:37:49.260Z"
   },
   {
    "duration": 0,
    "start_time": "2025-03-17T17:37:49.261Z"
   },
   {
    "duration": 0,
    "start_time": "2025-03-17T17:37:49.263Z"
   },
   {
    "duration": 0,
    "start_time": "2025-03-17T17:37:49.264Z"
   },
   {
    "duration": 0,
    "start_time": "2025-03-17T17:37:49.287Z"
   },
   {
    "duration": 14,
    "start_time": "2025-03-17T17:38:27.188Z"
   },
   {
    "duration": 4,
    "start_time": "2025-03-17T17:38:39.948Z"
   },
   {
    "duration": 12,
    "start_time": "2025-03-17T17:38:52.564Z"
   },
   {
    "duration": 13,
    "start_time": "2025-03-17T17:38:55.240Z"
   },
   {
    "duration": 5,
    "start_time": "2025-03-17T17:39:13.155Z"
   },
   {
    "duration": 12,
    "start_time": "2025-03-17T17:39:21.526Z"
   },
   {
    "duration": 10,
    "start_time": "2025-03-17T17:39:23.374Z"
   },
   {
    "duration": 4,
    "start_time": "2025-03-17T17:39:37.192Z"
   },
   {
    "duration": 876,
    "start_time": "2025-03-17T17:39:47.993Z"
   },
   {
    "duration": 85,
    "start_time": "2025-03-17T17:39:48.871Z"
   },
   {
    "duration": 83,
    "start_time": "2025-03-17T17:39:48.958Z"
   },
   {
    "duration": 82,
    "start_time": "2025-03-17T17:39:49.043Z"
   },
   {
    "duration": 11,
    "start_time": "2025-03-17T17:39:49.128Z"
   },
   {
    "duration": 7,
    "start_time": "2025-03-17T17:39:49.141Z"
   },
   {
    "duration": 48,
    "start_time": "2025-03-17T17:39:49.150Z"
   },
   {
    "duration": 10,
    "start_time": "2025-03-17T17:39:49.200Z"
   },
   {
    "duration": 8,
    "start_time": "2025-03-17T17:39:49.212Z"
   },
   {
    "duration": 31,
    "start_time": "2025-03-17T17:39:49.222Z"
   },
   {
    "duration": 37,
    "start_time": "2025-03-17T17:39:49.256Z"
   },
   {
    "duration": 8,
    "start_time": "2025-03-17T17:39:49.295Z"
   },
   {
    "duration": 31,
    "start_time": "2025-03-17T17:39:49.305Z"
   },
   {
    "duration": 11,
    "start_time": "2025-03-17T17:39:49.340Z"
   },
   {
    "duration": 40,
    "start_time": "2025-03-17T17:39:49.352Z"
   },
   {
    "duration": 8,
    "start_time": "2025-03-17T17:39:49.393Z"
   },
   {
    "duration": 85,
    "start_time": "2025-03-17T17:39:49.402Z"
   },
   {
    "duration": 9,
    "start_time": "2025-03-17T17:39:49.489Z"
   },
   {
    "duration": 4,
    "start_time": "2025-03-17T17:39:49.500Z"
   },
   {
    "duration": 83,
    "start_time": "2025-03-17T17:39:49.505Z"
   },
   {
    "duration": 11,
    "start_time": "2025-03-17T17:39:49.590Z"
   },
   {
    "duration": 4,
    "start_time": "2025-03-17T17:39:49.603Z"
   },
   {
    "duration": 2,
    "start_time": "2025-03-17T17:39:49.609Z"
   },
   {
    "duration": 3,
    "start_time": "2025-03-17T17:39:49.688Z"
   },
   {
    "duration": 4,
    "start_time": "2025-03-17T17:39:49.693Z"
   },
   {
    "duration": 14,
    "start_time": "2025-03-17T17:39:49.699Z"
   },
   {
    "duration": 10,
    "start_time": "2025-03-17T17:41:24.614Z"
   },
   {
    "duration": 11,
    "start_time": "2025-03-17T17:43:25.372Z"
   },
   {
    "duration": 873,
    "start_time": "2025-03-17T17:46:41.615Z"
   },
   {
    "duration": 85,
    "start_time": "2025-03-17T17:46:42.491Z"
   },
   {
    "duration": 84,
    "start_time": "2025-03-17T17:46:42.578Z"
   },
   {
    "duration": 87,
    "start_time": "2025-03-17T17:46:42.664Z"
   },
   {
    "duration": 12,
    "start_time": "2025-03-17T17:46:42.753Z"
   },
   {
    "duration": 20,
    "start_time": "2025-03-17T17:46:42.767Z"
   },
   {
    "duration": 33,
    "start_time": "2025-03-17T17:46:42.788Z"
   },
   {
    "duration": 11,
    "start_time": "2025-03-17T17:46:42.823Z"
   },
   {
    "duration": 7,
    "start_time": "2025-03-17T17:46:42.836Z"
   },
   {
    "duration": 53,
    "start_time": "2025-03-17T17:46:42.846Z"
   },
   {
    "duration": 11,
    "start_time": "2025-03-17T17:46:42.901Z"
   },
   {
    "duration": 8,
    "start_time": "2025-03-17T17:46:42.913Z"
   },
   {
    "duration": 32,
    "start_time": "2025-03-17T17:46:42.923Z"
   },
   {
    "duration": 40,
    "start_time": "2025-03-17T17:46:42.956Z"
   },
   {
    "duration": 13,
    "start_time": "2025-03-17T17:46:42.998Z"
   },
   {
    "duration": 7,
    "start_time": "2025-03-17T17:46:43.012Z"
   },
   {
    "duration": 75,
    "start_time": "2025-03-17T17:46:43.021Z"
   },
   {
    "duration": 30,
    "start_time": "2025-03-17T17:46:43.099Z"
   },
   {
    "duration": 7,
    "start_time": "2025-03-17T17:46:43.194Z"
   },
   {
    "duration": 86,
    "start_time": "2025-03-17T17:46:43.203Z"
   },
   {
    "duration": 11,
    "start_time": "2025-03-17T17:46:43.291Z"
   },
   {
    "duration": 6,
    "start_time": "2025-03-17T17:46:43.304Z"
   },
   {
    "duration": 3,
    "start_time": "2025-03-17T17:46:43.312Z"
   },
   {
    "duration": 4,
    "start_time": "2025-03-17T17:46:43.317Z"
   },
   {
    "duration": 8,
    "start_time": "2025-03-17T17:46:43.387Z"
   },
   {
    "duration": 14,
    "start_time": "2025-03-17T17:46:43.397Z"
   },
   {
    "duration": 10,
    "start_time": "2025-03-17T17:57:04.895Z"
   },
   {
    "duration": 9,
    "start_time": "2025-03-17T17:57:23.729Z"
   },
   {
    "duration": 9,
    "start_time": "2025-03-17T18:01:28.308Z"
   },
   {
    "duration": 293,
    "start_time": "2025-03-17T18:03:28.195Z"
   },
   {
    "duration": 918,
    "start_time": "2025-03-17T18:03:42.626Z"
   },
   {
    "duration": 93,
    "start_time": "2025-03-17T18:03:43.547Z"
   },
   {
    "duration": 83,
    "start_time": "2025-03-17T18:03:43.642Z"
   },
   {
    "duration": 85,
    "start_time": "2025-03-17T18:03:43.727Z"
   },
   {
    "duration": 11,
    "start_time": "2025-03-17T18:03:43.815Z"
   },
   {
    "duration": 8,
    "start_time": "2025-03-17T18:03:43.828Z"
   },
   {
    "duration": 53,
    "start_time": "2025-03-17T18:03:43.838Z"
   },
   {
    "duration": 10,
    "start_time": "2025-03-17T18:03:43.894Z"
   },
   {
    "duration": 7,
    "start_time": "2025-03-17T18:03:43.906Z"
   },
   {
    "duration": 29,
    "start_time": "2025-03-17T18:03:43.915Z"
   },
   {
    "duration": 11,
    "start_time": "2025-03-17T18:03:43.946Z"
   },
   {
    "duration": 8,
    "start_time": "2025-03-17T18:03:43.987Z"
   },
   {
    "duration": 33,
    "start_time": "2025-03-17T18:03:43.996Z"
   },
   {
    "duration": 11,
    "start_time": "2025-03-17T18:03:44.032Z"
   },
   {
    "duration": 43,
    "start_time": "2025-03-17T18:03:44.045Z"
   },
   {
    "duration": 8,
    "start_time": "2025-03-17T18:03:44.089Z"
   },
   {
    "duration": 87,
    "start_time": "2025-03-17T18:03:44.100Z"
   },
   {
    "duration": 10,
    "start_time": "2025-03-17T18:03:44.190Z"
   },
   {
    "duration": 4,
    "start_time": "2025-03-17T18:03:44.202Z"
   },
   {
    "duration": 89,
    "start_time": "2025-03-17T18:03:44.207Z"
   },
   {
    "duration": 8,
    "start_time": "2025-03-17T18:03:44.300Z"
   },
   {
    "duration": 78,
    "start_time": "2025-03-17T18:03:44.310Z"
   },
   {
    "duration": 4,
    "start_time": "2025-03-17T18:03:44.391Z"
   },
   {
    "duration": 5,
    "start_time": "2025-03-17T18:03:44.397Z"
   },
   {
    "duration": 7,
    "start_time": "2025-03-17T18:03:44.404Z"
   },
   {
    "duration": 83,
    "start_time": "2025-03-17T18:03:44.413Z"
   },
   {
    "duration": 327,
    "start_time": "2025-03-17T18:03:44.498Z"
   },
   {
    "duration": 967,
    "start_time": "2025-03-17T18:06:20.400Z"
   },
   {
    "duration": 88,
    "start_time": "2025-03-17T18:06:21.370Z"
   },
   {
    "duration": 83,
    "start_time": "2025-03-17T18:06:21.460Z"
   },
   {
    "duration": 85,
    "start_time": "2025-03-17T18:06:21.546Z"
   },
   {
    "duration": 13,
    "start_time": "2025-03-17T18:06:21.635Z"
   },
   {
    "duration": 10,
    "start_time": "2025-03-17T18:06:21.650Z"
   },
   {
    "duration": 65,
    "start_time": "2025-03-17T18:06:21.662Z"
   },
   {
    "duration": 15,
    "start_time": "2025-03-17T18:06:21.730Z"
   },
   {
    "duration": 10,
    "start_time": "2025-03-17T18:06:21.747Z"
   },
   {
    "duration": 65,
    "start_time": "2025-03-17T18:06:21.761Z"
   },
   {
    "duration": 19,
    "start_time": "2025-03-17T18:06:21.828Z"
   },
   {
    "duration": 13,
    "start_time": "2025-03-17T18:06:21.852Z"
   },
   {
    "duration": 45,
    "start_time": "2025-03-17T18:06:21.867Z"
   },
   {
    "duration": 15,
    "start_time": "2025-03-17T18:06:21.915Z"
   },
   {
    "duration": 55,
    "start_time": "2025-03-17T18:06:21.932Z"
   },
   {
    "duration": 7,
    "start_time": "2025-03-17T18:06:21.989Z"
   },
   {
    "duration": 89,
    "start_time": "2025-03-17T18:06:21.998Z"
   },
   {
    "duration": 10,
    "start_time": "2025-03-17T18:06:22.089Z"
   },
   {
    "duration": 4,
    "start_time": "2025-03-17T18:06:22.101Z"
   },
   {
    "duration": 80,
    "start_time": "2025-03-17T18:06:22.107Z"
   },
   {
    "duration": 11,
    "start_time": "2025-03-17T18:06:22.189Z"
   },
   {
    "duration": 3,
    "start_time": "2025-03-17T18:06:22.202Z"
   },
   {
    "duration": 79,
    "start_time": "2025-03-17T18:06:22.207Z"
   },
   {
    "duration": 4,
    "start_time": "2025-03-17T18:06:22.288Z"
   },
   {
    "duration": 7,
    "start_time": "2025-03-17T18:06:22.294Z"
   },
   {
    "duration": 11,
    "start_time": "2025-03-17T18:06:22.303Z"
   },
   {
    "duration": 10,
    "start_time": "2025-03-17T18:24:13.045Z"
   },
   {
    "duration": 939,
    "start_time": "2025-03-17T18:24:25.637Z"
   },
   {
    "duration": 86,
    "start_time": "2025-03-17T18:24:26.578Z"
   },
   {
    "duration": 87,
    "start_time": "2025-03-17T18:24:26.666Z"
   },
   {
    "duration": 84,
    "start_time": "2025-03-17T18:24:26.755Z"
   },
   {
    "duration": 12,
    "start_time": "2025-03-17T18:24:26.841Z"
   },
   {
    "duration": 9,
    "start_time": "2025-03-17T18:24:26.855Z"
   },
   {
    "duration": 54,
    "start_time": "2025-03-17T18:24:26.866Z"
   },
   {
    "duration": 11,
    "start_time": "2025-03-17T18:24:26.922Z"
   },
   {
    "duration": 8,
    "start_time": "2025-03-17T18:24:26.935Z"
   },
   {
    "duration": 51,
    "start_time": "2025-03-17T18:24:26.944Z"
   },
   {
    "duration": 11,
    "start_time": "2025-03-17T18:24:26.997Z"
   },
   {
    "duration": 9,
    "start_time": "2025-03-17T18:24:27.009Z"
   },
   {
    "duration": 34,
    "start_time": "2025-03-17T18:24:27.019Z"
   },
   {
    "duration": 38,
    "start_time": "2025-03-17T18:24:27.056Z"
   },
   {
    "duration": 14,
    "start_time": "2025-03-17T18:24:27.097Z"
   },
   {
    "duration": 4,
    "start_time": "2025-03-17T18:24:27.112Z"
   },
   {
    "duration": 76,
    "start_time": "2025-03-17T18:24:27.118Z"
   },
   {
    "duration": 11,
    "start_time": "2025-03-17T18:24:27.196Z"
   },
   {
    "duration": 78,
    "start_time": "2025-03-17T18:24:27.209Z"
   },
   {
    "duration": 14,
    "start_time": "2025-03-17T18:24:27.290Z"
   },
   {
    "duration": 81,
    "start_time": "2025-03-17T18:24:27.306Z"
   },
   {
    "duration": 5,
    "start_time": "2025-03-17T18:24:27.388Z"
   },
   {
    "duration": 3,
    "start_time": "2025-03-17T18:24:27.398Z"
   },
   {
    "duration": 5,
    "start_time": "2025-03-17T18:24:27.404Z"
   },
   {
    "duration": 79,
    "start_time": "2025-03-17T18:24:27.411Z"
   },
   {
    "duration": 9,
    "start_time": "2025-03-17T18:24:27.493Z"
   },
   {
    "duration": 923,
    "start_time": "2025-03-17T18:28:35.357Z"
   },
   {
    "duration": 86,
    "start_time": "2025-03-17T18:28:36.284Z"
   },
   {
    "duration": 92,
    "start_time": "2025-03-17T18:28:36.372Z"
   },
   {
    "duration": 85,
    "start_time": "2025-03-17T18:28:36.465Z"
   },
   {
    "duration": 12,
    "start_time": "2025-03-17T18:28:36.552Z"
   },
   {
    "duration": 8,
    "start_time": "2025-03-17T18:28:36.565Z"
   },
   {
    "duration": 44,
    "start_time": "2025-03-17T18:28:36.574Z"
   },
   {
    "duration": 10,
    "start_time": "2025-03-17T18:28:36.620Z"
   },
   {
    "duration": 7,
    "start_time": "2025-03-17T18:28:36.633Z"
   },
   {
    "duration": 56,
    "start_time": "2025-03-17T18:28:36.642Z"
   },
   {
    "duration": 11,
    "start_time": "2025-03-17T18:28:36.700Z"
   },
   {
    "duration": 8,
    "start_time": "2025-03-17T18:28:36.712Z"
   },
   {
    "duration": 33,
    "start_time": "2025-03-17T18:28:36.721Z"
   },
   {
    "duration": 37,
    "start_time": "2025-03-17T18:28:36.756Z"
   },
   {
    "duration": 13,
    "start_time": "2025-03-17T18:28:36.795Z"
   },
   {
    "duration": 7,
    "start_time": "2025-03-17T18:28:36.810Z"
   },
   {
    "duration": 75,
    "start_time": "2025-03-17T18:28:36.819Z"
   },
   {
    "duration": 11,
    "start_time": "2025-03-17T18:28:36.896Z"
   },
   {
    "duration": 82,
    "start_time": "2025-03-17T18:28:36.909Z"
   },
   {
    "duration": 16,
    "start_time": "2025-03-17T18:28:36.993Z"
   },
   {
    "duration": 78,
    "start_time": "2025-03-17T18:28:37.011Z"
   },
   {
    "duration": 5,
    "start_time": "2025-03-17T18:28:37.091Z"
   },
   {
    "duration": 3,
    "start_time": "2025-03-17T18:28:37.098Z"
   },
   {
    "duration": 3,
    "start_time": "2025-03-17T18:28:37.103Z"
   },
   {
    "duration": 79,
    "start_time": "2025-03-17T18:28:37.108Z"
   },
   {
    "duration": 11,
    "start_time": "2025-03-17T18:28:37.189Z"
   },
   {
    "duration": 888,
    "start_time": "2025-03-17T18:35:59.476Z"
   },
   {
    "duration": 85,
    "start_time": "2025-03-17T18:36:00.367Z"
   },
   {
    "duration": 88,
    "start_time": "2025-03-17T18:36:00.454Z"
   },
   {
    "duration": 83,
    "start_time": "2025-03-17T18:36:00.546Z"
   },
   {
    "duration": 11,
    "start_time": "2025-03-17T18:36:00.631Z"
   },
   {
    "duration": 7,
    "start_time": "2025-03-17T18:36:00.644Z"
   },
   {
    "duration": 54,
    "start_time": "2025-03-17T18:36:00.653Z"
   },
   {
    "duration": 13,
    "start_time": "2025-03-17T18:36:00.709Z"
   },
   {
    "duration": 9,
    "start_time": "2025-03-17T18:36:00.724Z"
   },
   {
    "duration": 53,
    "start_time": "2025-03-17T18:36:00.737Z"
   },
   {
    "duration": 12,
    "start_time": "2025-03-17T18:36:00.791Z"
   },
   {
    "duration": 8,
    "start_time": "2025-03-17T18:36:00.804Z"
   },
   {
    "duration": 33,
    "start_time": "2025-03-17T18:36:00.814Z"
   },
   {
    "duration": 44,
    "start_time": "2025-03-17T18:36:00.849Z"
   },
   {
    "duration": 12,
    "start_time": "2025-03-17T18:36:00.895Z"
   },
   {
    "duration": 4,
    "start_time": "2025-03-17T18:36:00.908Z"
   },
   {
    "duration": 76,
    "start_time": "2025-03-17T18:36:00.914Z"
   },
   {
    "duration": 10,
    "start_time": "2025-03-17T18:36:00.992Z"
   },
   {
    "duration": 4,
    "start_time": "2025-03-17T18:36:01.004Z"
   },
   {
    "duration": 15,
    "start_time": "2025-03-17T18:36:01.087Z"
   },
   {
    "duration": 10,
    "start_time": "2025-03-17T18:36:01.104Z"
   },
   {
    "duration": 74,
    "start_time": "2025-03-17T18:36:01.116Z"
   },
   {
    "duration": 4,
    "start_time": "2025-03-17T18:36:01.192Z"
   },
   {
    "duration": 4,
    "start_time": "2025-03-17T18:36:01.197Z"
   },
   {
    "duration": 5,
    "start_time": "2025-03-17T18:36:01.204Z"
   },
   {
    "duration": 83,
    "start_time": "2025-03-17T18:36:01.211Z"
   },
   {
    "duration": 15,
    "start_time": "2025-03-17T18:44:19.364Z"
   },
   {
    "duration": 917,
    "start_time": "2025-03-17T18:44:29.592Z"
   },
   {
    "duration": 88,
    "start_time": "2025-03-17T18:44:30.511Z"
   },
   {
    "duration": 77,
    "start_time": "2025-03-17T18:44:30.602Z"
   },
   {
    "duration": 80,
    "start_time": "2025-03-17T18:44:30.688Z"
   },
   {
    "duration": 22,
    "start_time": "2025-03-17T18:44:30.770Z"
   },
   {
    "duration": 9,
    "start_time": "2025-03-17T18:44:30.794Z"
   },
   {
    "duration": 33,
    "start_time": "2025-03-17T18:44:30.804Z"
   },
   {
    "duration": 11,
    "start_time": "2025-03-17T18:44:30.839Z"
   },
   {
    "duration": 37,
    "start_time": "2025-03-17T18:44:30.852Z"
   },
   {
    "duration": 32,
    "start_time": "2025-03-17T18:44:30.893Z"
   },
   {
    "duration": 15,
    "start_time": "2025-03-17T18:44:30.927Z"
   },
   {
    "duration": 8,
    "start_time": "2025-03-17T18:44:30.945Z"
   },
   {
    "duration": 62,
    "start_time": "2025-03-17T18:44:30.955Z"
   },
   {
    "duration": 13,
    "start_time": "2025-03-17T18:44:31.019Z"
   },
   {
    "duration": 13,
    "start_time": "2025-03-17T18:44:31.034Z"
   },
   {
    "duration": 39,
    "start_time": "2025-03-17T18:44:31.048Z"
   },
   {
    "duration": 16,
    "start_time": "2025-03-17T18:44:31.089Z"
   },
   {
    "duration": 83,
    "start_time": "2025-03-17T18:44:31.107Z"
   },
   {
    "duration": 4,
    "start_time": "2025-03-17T18:44:31.192Z"
   },
   {
    "duration": 87,
    "start_time": "2025-03-17T18:44:31.200Z"
   },
   {
    "duration": 9,
    "start_time": "2025-03-17T18:44:31.289Z"
   },
   {
    "duration": 4,
    "start_time": "2025-03-17T18:44:31.300Z"
   },
   {
    "duration": 3,
    "start_time": "2025-03-17T18:44:31.306Z"
   },
   {
    "duration": 75,
    "start_time": "2025-03-17T18:44:31.312Z"
   },
   {
    "duration": 4,
    "start_time": "2025-03-17T18:44:31.393Z"
   },
   {
    "duration": 12,
    "start_time": "2025-03-17T18:44:31.400Z"
   },
   {
    "duration": 921,
    "start_time": "2025-03-17T19:09:11.531Z"
   },
   {
    "duration": 88,
    "start_time": "2025-03-17T19:09:12.454Z"
   },
   {
    "duration": 86,
    "start_time": "2025-03-17T19:09:12.544Z"
   },
   {
    "duration": 88,
    "start_time": "2025-03-17T19:09:12.634Z"
   },
   {
    "duration": 12,
    "start_time": "2025-03-17T19:09:12.724Z"
   },
   {
    "duration": 9,
    "start_time": "2025-03-17T19:09:12.737Z"
   },
   {
    "duration": 55,
    "start_time": "2025-03-17T19:09:12.747Z"
   },
   {
    "duration": 10,
    "start_time": "2025-03-17T19:09:12.804Z"
   },
   {
    "duration": 8,
    "start_time": "2025-03-17T19:09:12.816Z"
   },
   {
    "duration": 33,
    "start_time": "2025-03-17T19:09:12.828Z"
   },
   {
    "duration": 33,
    "start_time": "2025-03-17T19:09:12.863Z"
   },
   {
    "duration": 8,
    "start_time": "2025-03-17T19:09:12.898Z"
   },
   {
    "duration": 36,
    "start_time": "2025-03-17T19:09:12.908Z"
   },
   {
    "duration": 14,
    "start_time": "2025-03-17T19:09:12.946Z"
   },
   {
    "duration": 16,
    "start_time": "2025-03-17T19:09:12.987Z"
   },
   {
    "duration": 4,
    "start_time": "2025-03-17T19:09:13.005Z"
   },
   {
    "duration": 80,
    "start_time": "2025-03-17T19:09:13.011Z"
   },
   {
    "duration": 19,
    "start_time": "2025-03-17T19:09:13.093Z"
   },
   {
    "duration": 101,
    "start_time": "2025-03-17T19:09:13.114Z"
   },
   {
    "duration": 15,
    "start_time": "2025-03-17T19:09:13.217Z"
   },
   {
    "duration": 67,
    "start_time": "2025-03-17T19:09:13.235Z"
   },
   {
    "duration": 5,
    "start_time": "2025-03-17T19:09:13.307Z"
   },
   {
    "duration": 3,
    "start_time": "2025-03-17T19:09:13.386Z"
   },
   {
    "duration": 8,
    "start_time": "2025-03-17T19:09:13.391Z"
   },
   {
    "duration": 5,
    "start_time": "2025-03-17T19:09:13.401Z"
   },
   {
    "duration": 10,
    "start_time": "2025-03-17T19:09:13.408Z"
   },
   {
    "duration": 2556,
    "start_time": "2025-03-18T16:14:40.250Z"
   },
   {
    "duration": 106,
    "start_time": "2025-03-18T16:14:42.808Z"
   },
   {
    "duration": 102,
    "start_time": "2025-03-18T16:14:42.918Z"
   },
   {
    "duration": 108,
    "start_time": "2025-03-18T16:14:43.023Z"
   },
   {
    "duration": 12,
    "start_time": "2025-03-18T16:14:43.133Z"
   },
   {
    "duration": 12,
    "start_time": "2025-03-18T16:14:43.146Z"
   },
   {
    "duration": 56,
    "start_time": "2025-03-18T16:14:43.160Z"
   },
   {
    "duration": 12,
    "start_time": "2025-03-18T16:14:43.218Z"
   },
   {
    "duration": 8,
    "start_time": "2025-03-18T16:14:43.232Z"
   },
   {
    "duration": 53,
    "start_time": "2025-03-18T16:14:43.242Z"
   },
   {
    "duration": 12,
    "start_time": "2025-03-18T16:14:43.297Z"
   },
   {
    "duration": 8,
    "start_time": "2025-03-18T16:14:43.310Z"
   },
   {
    "duration": 31,
    "start_time": "2025-03-18T16:14:43.320Z"
   },
   {
    "duration": 33,
    "start_time": "2025-03-18T16:14:43.353Z"
   },
   {
    "duration": 13,
    "start_time": "2025-03-18T16:14:43.388Z"
   },
   {
    "duration": 5,
    "start_time": "2025-03-18T16:14:43.403Z"
   },
   {
    "duration": 78,
    "start_time": "2025-03-18T16:14:43.411Z"
   },
   {
    "duration": 15,
    "start_time": "2025-03-18T16:14:43.491Z"
   },
   {
    "duration": 78,
    "start_time": "2025-03-18T16:14:43.509Z"
   },
   {
    "duration": 15,
    "start_time": "2025-03-18T16:14:43.592Z"
   },
   {
    "duration": 9,
    "start_time": "2025-03-18T16:14:43.609Z"
   },
   {
    "duration": 4,
    "start_time": "2025-03-18T16:14:43.688Z"
   },
   {
    "duration": 9,
    "start_time": "2025-03-18T16:14:43.694Z"
   },
   {
    "duration": 2,
    "start_time": "2025-03-18T16:14:43.705Z"
   },
   {
    "duration": 78,
    "start_time": "2025-03-18T16:14:43.709Z"
   },
   {
    "duration": 12,
    "start_time": "2025-03-18T16:14:43.789Z"
   },
   {
    "duration": 248,
    "start_time": "2025-03-18T16:45:26.644Z"
   },
   {
    "duration": 72,
    "start_time": "2025-03-18T16:46:49.851Z"
   },
   {
    "duration": 76,
    "start_time": "2025-03-18T17:27:15.317Z"
   },
   {
    "duration": 2701,
    "start_time": "2025-03-19T03:26:59.594Z"
   },
   {
    "duration": 106,
    "start_time": "2025-03-19T03:27:02.298Z"
   },
   {
    "duration": 115,
    "start_time": "2025-03-19T03:27:02.406Z"
   },
   {
    "duration": 103,
    "start_time": "2025-03-19T03:27:02.524Z"
   },
   {
    "duration": 13,
    "start_time": "2025-03-19T03:27:02.628Z"
   },
   {
    "duration": 7,
    "start_time": "2025-03-19T03:27:02.643Z"
   },
   {
    "duration": 49,
    "start_time": "2025-03-19T03:27:02.652Z"
   },
   {
    "duration": 10,
    "start_time": "2025-03-19T03:27:02.703Z"
   },
   {
    "duration": 7,
    "start_time": "2025-03-19T03:27:02.715Z"
   },
   {
    "duration": 51,
    "start_time": "2025-03-19T03:27:02.725Z"
   },
   {
    "duration": 12,
    "start_time": "2025-03-19T03:27:02.777Z"
   },
   {
    "duration": 8,
    "start_time": "2025-03-19T03:27:02.790Z"
   },
   {
    "duration": 33,
    "start_time": "2025-03-19T03:27:02.799Z"
   },
   {
    "duration": 40,
    "start_time": "2025-03-19T03:27:02.835Z"
   },
   {
    "duration": 10,
    "start_time": "2025-03-19T03:27:02.877Z"
   },
   {
    "duration": 4,
    "start_time": "2025-03-19T03:27:02.889Z"
   },
   {
    "duration": 80,
    "start_time": "2025-03-19T03:27:02.895Z"
   },
   {
    "duration": 11,
    "start_time": "2025-03-19T03:27:02.977Z"
   },
   {
    "duration": 4,
    "start_time": "2025-03-19T03:27:02.990Z"
   },
   {
    "duration": 14,
    "start_time": "2025-03-19T03:27:03.072Z"
   },
   {
    "duration": 9,
    "start_time": "2025-03-19T03:27:03.088Z"
   },
   {
    "duration": 9,
    "start_time": "2025-03-19T03:27:03.171Z"
   },
   {
    "duration": 3,
    "start_time": "2025-03-19T03:27:03.182Z"
   },
   {
    "duration": 4,
    "start_time": "2025-03-19T03:27:03.187Z"
   },
   {
    "duration": 6,
    "start_time": "2025-03-19T03:27:03.193Z"
   },
   {
    "duration": 75,
    "start_time": "2025-03-19T03:27:03.201Z"
   },
   {
    "duration": 112,
    "start_time": "2025-03-19T03:27:03.277Z"
   },
   {
    "duration": 875,
    "start_time": "2025-03-19T03:33:08.643Z"
   },
   {
    "duration": 84,
    "start_time": "2025-03-19T03:33:09.521Z"
   },
   {
    "duration": 91,
    "start_time": "2025-03-19T03:33:09.607Z"
   },
   {
    "duration": 87,
    "start_time": "2025-03-19T03:33:09.701Z"
   },
   {
    "duration": 13,
    "start_time": "2025-03-19T03:33:09.790Z"
   },
   {
    "duration": 9,
    "start_time": "2025-03-19T03:33:09.804Z"
   },
   {
    "duration": 36,
    "start_time": "2025-03-19T03:33:09.815Z"
   },
   {
    "duration": 11,
    "start_time": "2025-03-19T03:33:09.871Z"
   },
   {
    "duration": 7,
    "start_time": "2025-03-19T03:33:09.884Z"
   },
   {
    "duration": 29,
    "start_time": "2025-03-19T03:33:09.895Z"
   },
   {
    "duration": 10,
    "start_time": "2025-03-19T03:33:09.926Z"
   },
   {
    "duration": 35,
    "start_time": "2025-03-19T03:33:09.938Z"
   },
   {
    "duration": 33,
    "start_time": "2025-03-19T03:33:09.975Z"
   },
   {
    "duration": 12,
    "start_time": "2025-03-19T03:33:10.011Z"
   },
   {
    "duration": 46,
    "start_time": "2025-03-19T03:33:10.025Z"
   },
   {
    "duration": 6,
    "start_time": "2025-03-19T03:33:10.073Z"
   },
   {
    "duration": 14,
    "start_time": "2025-03-19T03:33:10.081Z"
   },
   {
    "duration": 9,
    "start_time": "2025-03-19T03:33:10.171Z"
   },
   {
    "duration": 4,
    "start_time": "2025-03-19T03:33:10.182Z"
   },
   {
    "duration": 85,
    "start_time": "2025-03-19T03:33:10.188Z"
   },
   {
    "duration": 10,
    "start_time": "2025-03-19T03:33:10.276Z"
   },
   {
    "duration": 5,
    "start_time": "2025-03-19T03:33:10.288Z"
   },
   {
    "duration": 76,
    "start_time": "2025-03-19T03:33:10.295Z"
   },
   {
    "duration": 6,
    "start_time": "2025-03-19T03:33:10.373Z"
   },
   {
    "duration": 7,
    "start_time": "2025-03-19T03:33:10.381Z"
   },
   {
    "duration": 11,
    "start_time": "2025-03-19T03:33:10.389Z"
   },
   {
    "duration": 169,
    "start_time": "2025-03-19T03:33:10.401Z"
   },
   {
    "duration": 75,
    "start_time": "2025-03-19T03:41:32.419Z"
   },
   {
    "duration": 74,
    "start_time": "2025-03-19T03:48:22.356Z"
   },
   {
    "duration": 78,
    "start_time": "2025-03-19T03:48:33.396Z"
   },
   {
    "duration": 894,
    "start_time": "2025-03-19T04:00:30.486Z"
   },
   {
    "duration": 82,
    "start_time": "2025-03-19T04:00:31.383Z"
   },
   {
    "duration": 78,
    "start_time": "2025-03-19T04:00:31.467Z"
   },
   {
    "duration": 90,
    "start_time": "2025-03-19T04:00:31.547Z"
   },
   {
    "duration": 11,
    "start_time": "2025-03-19T04:00:31.638Z"
   },
   {
    "duration": 20,
    "start_time": "2025-03-19T04:00:31.651Z"
   },
   {
    "duration": 33,
    "start_time": "2025-03-19T04:00:31.672Z"
   },
   {
    "duration": 11,
    "start_time": "2025-03-19T04:00:31.707Z"
   },
   {
    "duration": 8,
    "start_time": "2025-03-19T04:00:31.720Z"
   },
   {
    "duration": 56,
    "start_time": "2025-03-19T04:00:31.732Z"
   },
   {
    "duration": 11,
    "start_time": "2025-03-19T04:00:31.790Z"
   },
   {
    "duration": 8,
    "start_time": "2025-03-19T04:00:31.802Z"
   },
   {
    "duration": 60,
    "start_time": "2025-03-19T04:00:31.812Z"
   },
   {
    "duration": 13,
    "start_time": "2025-03-19T04:00:31.873Z"
   },
   {
    "duration": 10,
    "start_time": "2025-03-19T04:00:31.888Z"
   },
   {
    "duration": 5,
    "start_time": "2025-03-19T04:00:31.899Z"
   },
   {
    "duration": 74,
    "start_time": "2025-03-19T04:00:31.906Z"
   },
   {
    "duration": 89,
    "start_time": "2025-03-19T04:00:31.984Z"
   },
   {
    "duration": 6,
    "start_time": "2025-03-19T04:00:32.078Z"
   },
   {
    "duration": 86,
    "start_time": "2025-03-19T04:00:32.089Z"
   },
   {
    "duration": 9,
    "start_time": "2025-03-19T04:00:32.177Z"
   },
   {
    "duration": 3,
    "start_time": "2025-03-19T04:00:32.188Z"
   },
   {
    "duration": 3,
    "start_time": "2025-03-19T04:00:32.192Z"
   },
   {
    "duration": 3,
    "start_time": "2025-03-19T04:00:32.197Z"
   },
   {
    "duration": 72,
    "start_time": "2025-03-19T04:00:32.201Z"
   },
   {
    "duration": 12,
    "start_time": "2025-03-19T04:00:32.275Z"
   },
   {
    "duration": 119,
    "start_time": "2025-03-19T04:02:33.856Z"
   },
   {
    "duration": 103,
    "start_time": "2025-03-19T04:04:25.380Z"
   },
   {
    "duration": 909,
    "start_time": "2025-03-19T04:19:05.940Z"
   },
   {
    "duration": 92,
    "start_time": "2025-03-19T04:19:06.851Z"
   },
   {
    "duration": 89,
    "start_time": "2025-03-19T04:19:06.944Z"
   },
   {
    "duration": 87,
    "start_time": "2025-03-19T04:19:07.035Z"
   },
   {
    "duration": 11,
    "start_time": "2025-03-19T04:19:07.124Z"
   },
   {
    "duration": 8,
    "start_time": "2025-03-19T04:19:07.137Z"
   },
   {
    "duration": 54,
    "start_time": "2025-03-19T04:19:07.147Z"
   },
   {
    "duration": 11,
    "start_time": "2025-03-19T04:19:07.203Z"
   },
   {
    "duration": 8,
    "start_time": "2025-03-19T04:19:07.216Z"
   },
   {
    "duration": 55,
    "start_time": "2025-03-19T04:19:07.228Z"
   },
   {
    "duration": 11,
    "start_time": "2025-03-19T04:19:07.285Z"
   },
   {
    "duration": 8,
    "start_time": "2025-03-19T04:19:07.297Z"
   },
   {
    "duration": 35,
    "start_time": "2025-03-19T04:19:07.307Z"
   },
   {
    "duration": 36,
    "start_time": "2025-03-19T04:19:07.344Z"
   },
   {
    "duration": 11,
    "start_time": "2025-03-19T04:19:07.381Z"
   },
   {
    "duration": 3,
    "start_time": "2025-03-19T04:19:07.394Z"
   },
   {
    "duration": 13,
    "start_time": "2025-03-19T04:19:07.399Z"
   },
   {
    "duration": 14,
    "start_time": "2025-03-19T04:19:07.471Z"
   },
   {
    "duration": 4,
    "start_time": "2025-03-19T04:19:07.488Z"
   },
   {
    "duration": 91,
    "start_time": "2025-03-19T04:19:07.494Z"
   },
   {
    "duration": 9,
    "start_time": "2025-03-19T04:19:07.587Z"
   },
   {
    "duration": 74,
    "start_time": "2025-03-19T04:19:07.597Z"
   },
   {
    "duration": 2,
    "start_time": "2025-03-19T04:19:07.673Z"
   },
   {
    "duration": 17,
    "start_time": "2025-03-19T04:19:07.678Z"
   },
   {
    "duration": 5,
    "start_time": "2025-03-19T04:19:07.697Z"
   },
   {
    "duration": 71,
    "start_time": "2025-03-19T04:19:07.704Z"
   },
   {
    "duration": 344,
    "start_time": "2025-03-19T04:20:52.381Z"
   },
   {
    "duration": 37,
    "start_time": "2025-03-19T04:22:31.582Z"
   },
   {
    "duration": 31,
    "start_time": "2025-03-19T04:23:39.722Z"
   },
   {
    "duration": 27,
    "start_time": "2025-03-19T04:24:28.178Z"
   },
   {
    "duration": 932,
    "start_time": "2025-03-19T04:25:06.784Z"
   },
   {
    "duration": 88,
    "start_time": "2025-03-19T04:25:07.719Z"
   },
   {
    "duration": 86,
    "start_time": "2025-03-19T04:25:07.812Z"
   },
   {
    "duration": 83,
    "start_time": "2025-03-19T04:25:07.901Z"
   },
   {
    "duration": 13,
    "start_time": "2025-03-19T04:25:07.986Z"
   },
   {
    "duration": 9,
    "start_time": "2025-03-19T04:25:08.000Z"
   },
   {
    "duration": 35,
    "start_time": "2025-03-19T04:25:08.011Z"
   },
   {
    "duration": 32,
    "start_time": "2025-03-19T04:25:08.048Z"
   },
   {
    "duration": 7,
    "start_time": "2025-03-19T04:25:08.083Z"
   },
   {
    "duration": 31,
    "start_time": "2025-03-19T04:25:08.092Z"
   },
   {
    "duration": 11,
    "start_time": "2025-03-19T04:25:08.124Z"
   },
   {
    "duration": 39,
    "start_time": "2025-03-19T04:25:08.136Z"
   },
   {
    "duration": 35,
    "start_time": "2025-03-19T04:25:08.176Z"
   },
   {
    "duration": 12,
    "start_time": "2025-03-19T04:25:08.213Z"
   },
   {
    "duration": 50,
    "start_time": "2025-03-19T04:25:08.226Z"
   },
   {
    "duration": 5,
    "start_time": "2025-03-19T04:25:08.278Z"
   },
   {
    "duration": 16,
    "start_time": "2025-03-19T04:25:08.284Z"
   },
   {
    "duration": 75,
    "start_time": "2025-03-19T04:25:08.301Z"
   },
   {
    "duration": 5,
    "start_time": "2025-03-19T04:25:08.378Z"
   },
   {
    "duration": 85,
    "start_time": "2025-03-19T04:25:08.385Z"
   },
   {
    "duration": 9,
    "start_time": "2025-03-19T04:25:08.472Z"
   },
   {
    "duration": 4,
    "start_time": "2025-03-19T04:25:08.482Z"
   },
   {
    "duration": 2,
    "start_time": "2025-03-19T04:25:08.487Z"
   },
   {
    "duration": 3,
    "start_time": "2025-03-19T04:25:08.491Z"
   },
   {
    "duration": 77,
    "start_time": "2025-03-19T04:25:08.496Z"
   },
   {
    "duration": 11,
    "start_time": "2025-03-19T04:25:08.575Z"
   },
   {
    "duration": 279,
    "start_time": "2025-03-19T04:25:17.724Z"
   },
   {
    "duration": 874,
    "start_time": "2025-03-19T04:26:55.007Z"
   },
   {
    "duration": 87,
    "start_time": "2025-03-19T04:26:55.883Z"
   },
   {
    "duration": 77,
    "start_time": "2025-03-19T04:26:55.972Z"
   },
   {
    "duration": 86,
    "start_time": "2025-03-19T04:26:56.051Z"
   },
   {
    "duration": 11,
    "start_time": "2025-03-19T04:26:56.139Z"
   },
   {
    "duration": 20,
    "start_time": "2025-03-19T04:26:56.151Z"
   },
   {
    "duration": 33,
    "start_time": "2025-03-19T04:26:56.173Z"
   },
   {
    "duration": 12,
    "start_time": "2025-03-19T04:26:56.209Z"
   },
   {
    "duration": 7,
    "start_time": "2025-03-19T04:26:56.223Z"
   },
   {
    "duration": 53,
    "start_time": "2025-03-19T04:26:56.234Z"
   },
   {
    "duration": 11,
    "start_time": "2025-03-19T04:26:56.289Z"
   },
   {
    "duration": 7,
    "start_time": "2025-03-19T04:26:56.302Z"
   },
   {
    "duration": 35,
    "start_time": "2025-03-19T04:26:56.311Z"
   },
   {
    "duration": 11,
    "start_time": "2025-03-19T04:26:56.370Z"
   },
   {
    "duration": 11,
    "start_time": "2025-03-19T04:26:56.383Z"
   },
   {
    "duration": 5,
    "start_time": "2025-03-19T04:26:56.395Z"
   },
   {
    "duration": 77,
    "start_time": "2025-03-19T04:26:56.401Z"
   },
   {
    "duration": 11,
    "start_time": "2025-03-19T04:26:56.480Z"
   },
   {
    "duration": 85,
    "start_time": "2025-03-19T04:26:56.492Z"
   },
   {
    "duration": 14,
    "start_time": "2025-03-19T04:26:56.586Z"
   },
   {
    "duration": 76,
    "start_time": "2025-03-19T04:26:56.602Z"
   },
   {
    "duration": 12,
    "start_time": "2025-03-19T04:26:56.683Z"
   },
   {
    "duration": 3,
    "start_time": "2025-03-19T04:26:56.697Z"
   },
   {
    "duration": 5,
    "start_time": "2025-03-19T04:26:56.771Z"
   },
   {
    "duration": 4,
    "start_time": "2025-03-19T04:26:56.778Z"
   },
   {
    "duration": 11,
    "start_time": "2025-03-19T04:26:56.784Z"
   },
   {
    "duration": 313,
    "start_time": "2025-03-19T04:26:56.796Z"
   },
   {
    "duration": 66,
    "start_time": "2025-03-19T04:31:50.186Z"
   },
   {
    "duration": 92,
    "start_time": "2025-03-19T04:56:59.948Z"
   },
   {
    "duration": 921,
    "start_time": "2025-03-19T04:57:07.403Z"
   },
   {
    "duration": 88,
    "start_time": "2025-03-19T04:57:08.326Z"
   },
   {
    "duration": 83,
    "start_time": "2025-03-19T04:57:08.416Z"
   },
   {
    "duration": 82,
    "start_time": "2025-03-19T04:57:08.502Z"
   },
   {
    "duration": 11,
    "start_time": "2025-03-19T04:57:08.586Z"
   },
   {
    "duration": 8,
    "start_time": "2025-03-19T04:57:08.598Z"
   },
   {
    "duration": 33,
    "start_time": "2025-03-19T04:57:08.607Z"
   },
   {
    "duration": 29,
    "start_time": "2025-03-19T04:57:08.641Z"
   },
   {
    "duration": 8,
    "start_time": "2025-03-19T04:57:08.672Z"
   },
   {
    "duration": 29,
    "start_time": "2025-03-19T04:57:08.683Z"
   },
   {
    "duration": 10,
    "start_time": "2025-03-19T04:57:08.714Z"
   },
   {
    "duration": 8,
    "start_time": "2025-03-19T04:57:08.726Z"
   },
   {
    "duration": 60,
    "start_time": "2025-03-19T04:57:08.735Z"
   },
   {
    "duration": 11,
    "start_time": "2025-03-19T04:57:08.797Z"
   },
   {
    "duration": 13,
    "start_time": "2025-03-19T04:57:08.810Z"
   },
   {
    "duration": 45,
    "start_time": "2025-03-19T04:57:08.826Z"
   },
   {
    "duration": 15,
    "start_time": "2025-03-19T04:57:08.872Z"
   },
   {
    "duration": 84,
    "start_time": "2025-03-19T04:57:08.889Z"
   },
   {
    "duration": 4,
    "start_time": "2025-03-19T04:57:08.975Z"
   },
   {
    "duration": 91,
    "start_time": "2025-03-19T04:57:08.980Z"
   },
   {
    "duration": 9,
    "start_time": "2025-03-19T04:57:09.073Z"
   },
   {
    "duration": 4,
    "start_time": "2025-03-19T04:57:09.083Z"
   },
   {
    "duration": 2,
    "start_time": "2025-03-19T04:57:09.090Z"
   },
   {
    "duration": 3,
    "start_time": "2025-03-19T04:57:09.095Z"
   },
   {
    "duration": 74,
    "start_time": "2025-03-19T04:57:09.100Z"
   },
   {
    "duration": 12,
    "start_time": "2025-03-19T04:57:09.176Z"
   },
   {
    "duration": 132,
    "start_time": "2025-03-19T04:57:09.189Z"
   },
   {
    "duration": 949,
    "start_time": "2025-03-19T05:01:15.528Z"
   },
   {
    "duration": 110,
    "start_time": "2025-03-19T05:01:16.484Z"
   },
   {
    "duration": 99,
    "start_time": "2025-03-19T05:01:16.597Z"
   },
   {
    "duration": 96,
    "start_time": "2025-03-19T05:01:16.699Z"
   },
   {
    "duration": 12,
    "start_time": "2025-03-19T05:01:16.797Z"
   },
   {
    "duration": 11,
    "start_time": "2025-03-19T05:01:16.810Z"
   },
   {
    "duration": 46,
    "start_time": "2025-03-19T05:01:16.826Z"
   },
   {
    "duration": 14,
    "start_time": "2025-03-19T05:01:16.876Z"
   },
   {
    "duration": 9,
    "start_time": "2025-03-19T05:01:16.892Z"
   },
   {
    "duration": 39,
    "start_time": "2025-03-19T05:01:16.905Z"
   },
   {
    "duration": 37,
    "start_time": "2025-03-19T05:01:16.946Z"
   },
   {
    "duration": 10,
    "start_time": "2025-03-19T05:01:16.985Z"
   },
   {
    "duration": 43,
    "start_time": "2025-03-19T05:01:16.997Z"
   },
   {
    "duration": 34,
    "start_time": "2025-03-19T05:01:17.042Z"
   },
   {
    "duration": 23,
    "start_time": "2025-03-19T05:01:17.079Z"
   },
   {
    "duration": 6,
    "start_time": "2025-03-19T05:01:17.104Z"
   },
   {
    "duration": 85,
    "start_time": "2025-03-19T05:01:17.111Z"
   },
   {
    "duration": 28,
    "start_time": "2025-03-19T05:01:17.201Z"
   },
   {
    "duration": 40,
    "start_time": "2025-03-19T05:01:17.231Z"
   },
   {
    "duration": 92,
    "start_time": "2025-03-19T05:01:17.277Z"
   },
   {
    "duration": 14,
    "start_time": "2025-03-19T05:01:17.378Z"
   },
   {
    "duration": 6,
    "start_time": "2025-03-19T05:01:17.395Z"
   },
   {
    "duration": 4,
    "start_time": "2025-03-19T05:01:17.404Z"
   },
   {
    "duration": 60,
    "start_time": "2025-03-19T05:01:17.410Z"
   },
   {
    "duration": 9,
    "start_time": "2025-03-19T05:01:17.474Z"
   },
   {
    "duration": 14,
    "start_time": "2025-03-19T05:01:17.485Z"
   },
   {
    "duration": 140,
    "start_time": "2025-03-19T05:01:17.501Z"
   },
   {
    "duration": 952,
    "start_time": "2025-03-19T05:15:18.804Z"
   },
   {
    "duration": 97,
    "start_time": "2025-03-19T05:15:19.758Z"
   },
   {
    "duration": 92,
    "start_time": "2025-03-19T05:15:19.856Z"
   },
   {
    "duration": 99,
    "start_time": "2025-03-19T05:15:19.951Z"
   },
   {
    "duration": 20,
    "start_time": "2025-03-19T05:15:20.052Z"
   },
   {
    "duration": 11,
    "start_time": "2025-03-19T05:15:20.074Z"
   },
   {
    "duration": 42,
    "start_time": "2025-03-19T05:15:20.087Z"
   },
   {
    "duration": 13,
    "start_time": "2025-03-19T05:15:20.131Z"
   },
   {
    "duration": 27,
    "start_time": "2025-03-19T05:15:20.146Z"
   },
   {
    "duration": 38,
    "start_time": "2025-03-19T05:15:20.178Z"
   },
   {
    "duration": 13,
    "start_time": "2025-03-19T05:15:20.217Z"
   },
   {
    "duration": 8,
    "start_time": "2025-03-19T05:15:20.231Z"
   },
   {
    "duration": 71,
    "start_time": "2025-03-19T05:15:20.241Z"
   },
   {
    "duration": 11,
    "start_time": "2025-03-19T05:15:20.314Z"
   },
   {
    "duration": 44,
    "start_time": "2025-03-19T05:15:20.327Z"
   },
   {
    "duration": 9,
    "start_time": "2025-03-19T05:15:20.373Z"
   },
   {
    "duration": 21,
    "start_time": "2025-03-19T05:15:20.384Z"
   },
   {
    "duration": 72,
    "start_time": "2025-03-19T05:15:20.407Z"
   },
   {
    "duration": 7,
    "start_time": "2025-03-19T05:15:20.484Z"
   },
   {
    "duration": 22,
    "start_time": "2025-03-19T05:15:20.495Z"
   },
   {
    "duration": 14,
    "start_time": "2025-03-19T05:15:20.570Z"
   },
   {
    "duration": 5,
    "start_time": "2025-03-19T05:15:20.587Z"
   },
   {
    "duration": 6,
    "start_time": "2025-03-19T05:15:20.594Z"
   },
   {
    "duration": 4,
    "start_time": "2025-03-19T05:15:20.601Z"
   },
   {
    "duration": 5,
    "start_time": "2025-03-19T05:15:20.607Z"
   },
   {
    "duration": 25,
    "start_time": "2025-03-19T05:15:20.671Z"
   },
   {
    "duration": 96,
    "start_time": "2025-03-19T05:15:20.698Z"
   },
   {
    "duration": 990,
    "start_time": "2025-03-19T05:18:14.803Z"
   },
   {
    "duration": 90,
    "start_time": "2025-03-19T05:18:15.800Z"
   },
   {
    "duration": 108,
    "start_time": "2025-03-19T05:18:15.894Z"
   },
   {
    "duration": 96,
    "start_time": "2025-03-19T05:18:16.003Z"
   },
   {
    "duration": 13,
    "start_time": "2025-03-19T05:18:16.104Z"
   },
   {
    "duration": 7,
    "start_time": "2025-03-19T05:18:16.119Z"
   },
   {
    "duration": 43,
    "start_time": "2025-03-19T05:18:16.128Z"
   },
   {
    "duration": 18,
    "start_time": "2025-03-19T05:18:16.178Z"
   },
   {
    "duration": 8,
    "start_time": "2025-03-19T05:18:16.202Z"
   },
   {
    "duration": 30,
    "start_time": "2025-03-19T05:18:16.212Z"
   },
   {
    "duration": 28,
    "start_time": "2025-03-19T05:18:16.244Z"
   },
   {
    "duration": 10,
    "start_time": "2025-03-19T05:18:16.274Z"
   },
   {
    "duration": 54,
    "start_time": "2025-03-19T05:18:16.286Z"
   },
   {
    "duration": 12,
    "start_time": "2025-03-19T05:18:16.346Z"
   },
   {
    "duration": 12,
    "start_time": "2025-03-19T05:18:16.359Z"
   },
   {
    "duration": 4,
    "start_time": "2025-03-19T05:18:16.372Z"
   },
   {
    "duration": 14,
    "start_time": "2025-03-19T05:18:16.378Z"
   },
   {
    "duration": 15,
    "start_time": "2025-03-19T05:18:16.394Z"
   },
   {
    "duration": 73,
    "start_time": "2025-03-19T05:18:16.411Z"
   },
   {
    "duration": 21,
    "start_time": "2025-03-19T05:18:16.488Z"
   },
   {
    "duration": 10,
    "start_time": "2025-03-19T05:18:16.511Z"
   },
   {
    "duration": 48,
    "start_time": "2025-03-19T05:18:16.525Z"
   },
   {
    "duration": 7,
    "start_time": "2025-03-19T05:18:16.574Z"
   },
   {
    "duration": 4,
    "start_time": "2025-03-19T05:18:16.583Z"
   },
   {
    "duration": 6,
    "start_time": "2025-03-19T05:18:16.589Z"
   },
   {
    "duration": 75,
    "start_time": "2025-03-19T05:18:16.597Z"
   },
   {
    "duration": 77,
    "start_time": "2025-03-19T05:18:16.676Z"
   },
   {
    "duration": 1015,
    "start_time": "2025-03-19T05:19:03.279Z"
   },
   {
    "duration": 110,
    "start_time": "2025-03-19T05:19:04.296Z"
   },
   {
    "duration": 94,
    "start_time": "2025-03-19T05:19:04.408Z"
   },
   {
    "duration": 82,
    "start_time": "2025-03-19T05:19:04.506Z"
   },
   {
    "duration": 14,
    "start_time": "2025-03-19T05:19:04.590Z"
   },
   {
    "duration": 11,
    "start_time": "2025-03-19T05:19:04.606Z"
   },
   {
    "duration": 52,
    "start_time": "2025-03-19T05:19:04.619Z"
   },
   {
    "duration": 15,
    "start_time": "2025-03-19T05:19:04.678Z"
   },
   {
    "duration": 14,
    "start_time": "2025-03-19T05:19:04.695Z"
   },
   {
    "duration": 32,
    "start_time": "2025-03-19T05:19:04.710Z"
   },
   {
    "duration": 11,
    "start_time": "2025-03-19T05:19:04.744Z"
   },
   {
    "duration": 11,
    "start_time": "2025-03-19T05:19:04.775Z"
   },
   {
    "duration": 40,
    "start_time": "2025-03-19T05:19:04.789Z"
   },
   {
    "duration": 11,
    "start_time": "2025-03-19T05:19:04.833Z"
   },
   {
    "duration": 41,
    "start_time": "2025-03-19T05:19:04.846Z"
   },
   {
    "duration": 6,
    "start_time": "2025-03-19T05:19:04.890Z"
   },
   {
    "duration": 79,
    "start_time": "2025-03-19T05:19:04.898Z"
   },
   {
    "duration": 12,
    "start_time": "2025-03-19T05:19:04.979Z"
   },
   {
    "duration": 10,
    "start_time": "2025-03-19T05:19:04.993Z"
   },
   {
    "duration": 89,
    "start_time": "2025-03-19T05:19:05.005Z"
   },
   {
    "duration": 17,
    "start_time": "2025-03-19T05:19:05.096Z"
   },
   {
    "duration": 4,
    "start_time": "2025-03-19T05:19:05.115Z"
   },
   {
    "duration": 4,
    "start_time": "2025-03-19T05:19:05.121Z"
   },
   {
    "duration": 4,
    "start_time": "2025-03-19T05:19:05.176Z"
   },
   {
    "duration": 8,
    "start_time": "2025-03-19T05:19:05.182Z"
   },
   {
    "duration": 84,
    "start_time": "2025-03-19T05:19:05.192Z"
   },
   {
    "duration": 77,
    "start_time": "2025-03-19T05:19:05.278Z"
   },
   {
    "duration": 2965,
    "start_time": "2025-03-19T17:39:03.151Z"
   },
   {
    "duration": 107,
    "start_time": "2025-03-19T17:39:06.118Z"
   },
   {
    "duration": 103,
    "start_time": "2025-03-19T17:39:06.227Z"
   },
   {
    "duration": 103,
    "start_time": "2025-03-19T17:39:06.333Z"
   },
   {
    "duration": 11,
    "start_time": "2025-03-19T17:39:06.439Z"
   },
   {
    "duration": 8,
    "start_time": "2025-03-19T17:39:06.452Z"
   },
   {
    "duration": 31,
    "start_time": "2025-03-19T17:39:06.462Z"
   },
   {
    "duration": 34,
    "start_time": "2025-03-19T17:39:06.495Z"
   },
   {
    "duration": 8,
    "start_time": "2025-03-19T17:39:06.531Z"
   },
   {
    "duration": 36,
    "start_time": "2025-03-19T17:39:06.542Z"
   },
   {
    "duration": 13,
    "start_time": "2025-03-19T17:39:06.580Z"
   },
   {
    "duration": 12,
    "start_time": "2025-03-19T17:39:06.623Z"
   },
   {
    "duration": 37,
    "start_time": "2025-03-19T17:39:06.639Z"
   },
   {
    "duration": 14,
    "start_time": "2025-03-19T17:39:06.679Z"
   },
   {
    "duration": 37,
    "start_time": "2025-03-19T17:39:06.695Z"
   },
   {
    "duration": 6,
    "start_time": "2025-03-19T17:39:06.737Z"
   },
   {
    "duration": 81,
    "start_time": "2025-03-19T17:39:06.745Z"
   },
   {
    "duration": 17,
    "start_time": "2025-03-19T17:39:06.829Z"
   },
   {
    "duration": 4,
    "start_time": "2025-03-19T17:39:06.849Z"
   },
   {
    "duration": 77,
    "start_time": "2025-03-19T17:39:06.855Z"
   },
   {
    "duration": 10,
    "start_time": "2025-03-19T17:39:06.935Z"
   },
   {
    "duration": 4,
    "start_time": "2025-03-19T17:39:06.948Z"
   },
   {
    "duration": 3,
    "start_time": "2025-03-19T17:39:06.954Z"
   },
   {
    "duration": 4,
    "start_time": "2025-03-19T17:39:07.024Z"
   },
   {
    "duration": 5,
    "start_time": "2025-03-19T17:39:07.030Z"
   },
   {
    "duration": 18,
    "start_time": "2025-03-19T17:39:07.036Z"
   },
   {
    "duration": 174,
    "start_time": "2025-03-19T17:39:07.056Z"
   },
   {
    "duration": 1096,
    "start_time": "2025-03-19T17:39:32.371Z"
   },
   {
    "duration": 91,
    "start_time": "2025-03-19T17:39:33.470Z"
   },
   {
    "duration": 96,
    "start_time": "2025-03-19T17:39:33.563Z"
   },
   {
    "duration": 85,
    "start_time": "2025-03-19T17:39:33.662Z"
   },
   {
    "duration": 12,
    "start_time": "2025-03-19T17:39:33.750Z"
   },
   {
    "duration": 8,
    "start_time": "2025-03-19T17:39:33.764Z"
   },
   {
    "duration": 31,
    "start_time": "2025-03-19T17:39:33.773Z"
   },
   {
    "duration": 35,
    "start_time": "2025-03-19T17:39:33.805Z"
   },
   {
    "duration": 10,
    "start_time": "2025-03-19T17:39:33.842Z"
   },
   {
    "duration": 37,
    "start_time": "2025-03-19T17:39:33.854Z"
   },
   {
    "duration": 11,
    "start_time": "2025-03-19T17:39:33.892Z"
   },
   {
    "duration": 9,
    "start_time": "2025-03-19T17:39:33.924Z"
   },
   {
    "duration": 37,
    "start_time": "2025-03-19T17:39:33.935Z"
   },
   {
    "duration": 13,
    "start_time": "2025-03-19T17:39:33.976Z"
   },
   {
    "duration": 51,
    "start_time": "2025-03-19T17:39:33.991Z"
   },
   {
    "duration": 7,
    "start_time": "2025-03-19T17:39:34.045Z"
   },
   {
    "duration": 72,
    "start_time": "2025-03-19T17:39:34.054Z"
   },
   {
    "duration": 13,
    "start_time": "2025-03-19T17:39:34.128Z"
   },
   {
    "duration": 4,
    "start_time": "2025-03-19T17:39:34.142Z"
   },
   {
    "duration": 83,
    "start_time": "2025-03-19T17:39:34.147Z"
   },
   {
    "duration": 10,
    "start_time": "2025-03-19T17:39:34.232Z"
   },
   {
    "duration": 4,
    "start_time": "2025-03-19T17:39:34.244Z"
   },
   {
    "duration": 3,
    "start_time": "2025-03-19T17:39:34.249Z"
   },
   {
    "duration": 73,
    "start_time": "2025-03-19T17:39:34.254Z"
   },
   {
    "duration": 5,
    "start_time": "2025-03-19T17:39:34.329Z"
   },
   {
    "duration": 15,
    "start_time": "2025-03-19T17:39:34.336Z"
   },
   {
    "duration": 135,
    "start_time": "2025-03-19T17:39:34.352Z"
   },
   {
    "duration": 75,
    "start_time": "2025-03-19T17:41:09.225Z"
   },
   {
    "duration": 3,
    "start_time": "2025-03-19T17:48:36.043Z"
   },
   {
    "duration": 341,
    "start_time": "2025-03-19T17:49:17.743Z"
   },
   {
    "duration": 1702,
    "start_time": "2025-03-19T17:52:57.345Z"
   },
   {
    "duration": 898,
    "start_time": "2025-03-19T17:53:56.256Z"
   },
   {
    "duration": 90,
    "start_time": "2025-03-19T17:53:57.156Z"
   },
   {
    "duration": 81,
    "start_time": "2025-03-19T17:53:57.248Z"
   },
   {
    "duration": 78,
    "start_time": "2025-03-19T17:53:57.332Z"
   },
   {
    "duration": 25,
    "start_time": "2025-03-19T17:53:57.412Z"
   },
   {
    "duration": 8,
    "start_time": "2025-03-19T17:53:57.438Z"
   },
   {
    "duration": 32,
    "start_time": "2025-03-19T17:53:57.447Z"
   },
   {
    "duration": 11,
    "start_time": "2025-03-19T17:53:57.481Z"
   },
   {
    "duration": 35,
    "start_time": "2025-03-19T17:53:57.493Z"
   },
   {
    "duration": 35,
    "start_time": "2025-03-19T17:53:57.533Z"
   },
   {
    "duration": 11,
    "start_time": "2025-03-19T17:53:57.570Z"
   },
   {
    "duration": 8,
    "start_time": "2025-03-19T17:53:57.582Z"
   },
   {
    "duration": 56,
    "start_time": "2025-03-19T17:53:57.592Z"
   },
   {
    "duration": 11,
    "start_time": "2025-03-19T17:53:57.650Z"
   },
   {
    "duration": 16,
    "start_time": "2025-03-19T17:53:57.662Z"
   },
   {
    "duration": 46,
    "start_time": "2025-03-19T17:53:57.679Z"
   },
   {
    "duration": 22,
    "start_time": "2025-03-19T17:53:57.726Z"
   },
   {
    "duration": 77,
    "start_time": "2025-03-19T17:53:57.750Z"
   },
   {
    "duration": 5,
    "start_time": "2025-03-19T17:53:57.828Z"
   },
   {
    "duration": 14,
    "start_time": "2025-03-19T17:53:57.835Z"
   },
   {
    "duration": 83,
    "start_time": "2025-03-19T17:53:57.851Z"
   },
   {
    "duration": 4,
    "start_time": "2025-03-19T17:53:57.939Z"
   },
   {
    "duration": 3,
    "start_time": "2025-03-19T17:53:57.945Z"
   },
   {
    "duration": 4,
    "start_time": "2025-03-19T17:53:57.949Z"
   },
   {
    "duration": 5,
    "start_time": "2025-03-19T17:53:57.955Z"
   },
   {
    "duration": 77,
    "start_time": "2025-03-19T17:53:57.963Z"
   },
   {
    "duration": 322,
    "start_time": "2025-03-19T17:53:58.041Z"
   },
   {
    "duration": 31,
    "start_time": "2025-03-19T18:02:14.608Z"
   },
   {
    "duration": 867,
    "start_time": "2025-03-19T18:02:26.451Z"
   },
   {
    "duration": 84,
    "start_time": "2025-03-19T18:02:27.320Z"
   },
   {
    "duration": 85,
    "start_time": "2025-03-19T18:02:27.406Z"
   },
   {
    "duration": 92,
    "start_time": "2025-03-19T18:02:27.494Z"
   },
   {
    "duration": 12,
    "start_time": "2025-03-19T18:02:27.587Z"
   },
   {
    "duration": 27,
    "start_time": "2025-03-19T18:02:27.601Z"
   },
   {
    "duration": 37,
    "start_time": "2025-03-19T18:02:27.630Z"
   },
   {
    "duration": 11,
    "start_time": "2025-03-19T18:02:27.670Z"
   },
   {
    "duration": 8,
    "start_time": "2025-03-19T18:02:27.682Z"
   },
   {
    "duration": 49,
    "start_time": "2025-03-19T18:02:27.693Z"
   },
   {
    "duration": 11,
    "start_time": "2025-03-19T18:02:27.744Z"
   },
   {
    "duration": 7,
    "start_time": "2025-03-19T18:02:27.756Z"
   },
   {
    "duration": 31,
    "start_time": "2025-03-19T18:02:27.765Z"
   },
   {
    "duration": 34,
    "start_time": "2025-03-19T18:02:27.798Z"
   },
   {
    "duration": 14,
    "start_time": "2025-03-19T18:02:27.834Z"
   },
   {
    "duration": 6,
    "start_time": "2025-03-19T18:02:27.851Z"
   },
   {
    "duration": 81,
    "start_time": "2025-03-19T18:02:27.859Z"
   },
   {
    "duration": 10,
    "start_time": "2025-03-19T18:02:27.941Z"
   },
   {
    "duration": 71,
    "start_time": "2025-03-19T18:02:27.953Z"
   },
   {
    "duration": 22,
    "start_time": "2025-03-19T18:02:28.026Z"
   },
   {
    "duration": 81,
    "start_time": "2025-03-19T18:02:28.051Z"
   },
   {
    "duration": 4,
    "start_time": "2025-03-19T18:02:28.134Z"
   },
   {
    "duration": 4,
    "start_time": "2025-03-19T18:02:28.140Z"
   },
   {
    "duration": 4,
    "start_time": "2025-03-19T18:02:28.146Z"
   },
   {
    "duration": 73,
    "start_time": "2025-03-19T18:02:28.152Z"
   },
   {
    "duration": 17,
    "start_time": "2025-03-19T18:02:28.227Z"
   },
   {
    "duration": 964,
    "start_time": "2025-03-19T18:02:28.245Z"
   },
   {
    "duration": 601,
    "start_time": "2025-03-19T18:05:54.723Z"
   },
   {
    "duration": 1697,
    "start_time": "2025-03-19T18:06:40.536Z"
   },
   {
    "duration": 946,
    "start_time": "2025-03-19T18:07:03.458Z"
   },
   {
    "duration": 96,
    "start_time": "2025-03-19T18:07:04.406Z"
   },
   {
    "duration": 86,
    "start_time": "2025-03-19T18:07:04.504Z"
   },
   {
    "duration": 90,
    "start_time": "2025-03-19T18:07:04.592Z"
   },
   {
    "duration": 11,
    "start_time": "2025-03-19T18:07:04.685Z"
   },
   {
    "duration": 7,
    "start_time": "2025-03-19T18:07:04.699Z"
   },
   {
    "duration": 40,
    "start_time": "2025-03-19T18:07:04.708Z"
   },
   {
    "duration": 11,
    "start_time": "2025-03-19T18:07:04.750Z"
   },
   {
    "duration": 8,
    "start_time": "2025-03-19T18:07:04.762Z"
   },
   {
    "duration": 52,
    "start_time": "2025-03-19T18:07:04.772Z"
   },
   {
    "duration": 10,
    "start_time": "2025-03-19T18:07:04.826Z"
   },
   {
    "duration": 8,
    "start_time": "2025-03-19T18:07:04.839Z"
   },
   {
    "duration": 31,
    "start_time": "2025-03-19T18:07:04.848Z"
   },
   {
    "duration": 11,
    "start_time": "2025-03-19T18:07:04.882Z"
   },
   {
    "duration": 42,
    "start_time": "2025-03-19T18:07:04.895Z"
   },
   {
    "duration": 5,
    "start_time": "2025-03-19T18:07:04.938Z"
   },
   {
    "duration": 83,
    "start_time": "2025-03-19T18:07:04.945Z"
   },
   {
    "duration": 10,
    "start_time": "2025-03-19T18:07:05.031Z"
   },
   {
    "duration": 4,
    "start_time": "2025-03-19T18:07:05.043Z"
   },
   {
    "duration": 86,
    "start_time": "2025-03-19T18:07:05.049Z"
   },
   {
    "duration": 9,
    "start_time": "2025-03-19T18:07:05.139Z"
   },
   {
    "duration": 75,
    "start_time": "2025-03-19T18:07:05.149Z"
   },
   {
    "duration": 2,
    "start_time": "2025-03-19T18:07:05.226Z"
   },
   {
    "duration": 4,
    "start_time": "2025-03-19T18:07:05.230Z"
   },
   {
    "duration": 4,
    "start_time": "2025-03-19T18:07:05.236Z"
   },
   {
    "duration": 83,
    "start_time": "2025-03-19T18:07:05.242Z"
   },
   {
    "duration": 1673,
    "start_time": "2025-03-19T18:07:05.327Z"
   },
   {
    "duration": 1681,
    "start_time": "2025-03-19T18:07:35.640Z"
   },
   {
    "duration": 1705,
    "start_time": "2025-03-19T18:08:00.987Z"
   },
   {
    "duration": 1760,
    "start_time": "2025-03-19T18:17:07.037Z"
   },
   {
    "duration": 1753,
    "start_time": "2025-03-19T18:17:27.466Z"
   },
   {
    "duration": 1660,
    "start_time": "2025-03-19T18:18:31.417Z"
   },
   {
    "duration": 1678,
    "start_time": "2025-03-19T18:18:42.181Z"
   },
   {
    "duration": 927,
    "start_time": "2025-03-19T18:31:07.187Z"
   },
   {
    "duration": 86,
    "start_time": "2025-03-19T18:31:08.116Z"
   },
   {
    "duration": 88,
    "start_time": "2025-03-19T18:31:08.204Z"
   },
   {
    "duration": 83,
    "start_time": "2025-03-19T18:31:08.295Z"
   },
   {
    "duration": 11,
    "start_time": "2025-03-19T18:31:08.380Z"
   },
   {
    "duration": 8,
    "start_time": "2025-03-19T18:31:08.393Z"
   },
   {
    "duration": 51,
    "start_time": "2025-03-19T18:31:08.402Z"
   },
   {
    "duration": 11,
    "start_time": "2025-03-19T18:31:08.455Z"
   },
   {
    "duration": 8,
    "start_time": "2025-03-19T18:31:08.468Z"
   },
   {
    "duration": 54,
    "start_time": "2025-03-19T18:31:08.480Z"
   },
   {
    "duration": 11,
    "start_time": "2025-03-19T18:31:08.536Z"
   },
   {
    "duration": 8,
    "start_time": "2025-03-19T18:31:08.548Z"
   },
   {
    "duration": 32,
    "start_time": "2025-03-19T18:31:08.558Z"
   },
   {
    "duration": 879,
    "start_time": "2025-03-19T18:31:45.120Z"
   },
   {
    "duration": 83,
    "start_time": "2025-03-19T18:31:46.001Z"
   },
   {
    "duration": 88,
    "start_time": "2025-03-19T18:31:46.086Z"
   },
   {
    "duration": 82,
    "start_time": "2025-03-19T18:31:46.176Z"
   },
   {
    "duration": 11,
    "start_time": "2025-03-19T18:31:46.260Z"
   },
   {
    "duration": 7,
    "start_time": "2025-03-19T18:31:46.273Z"
   },
   {
    "duration": 49,
    "start_time": "2025-03-19T18:31:46.281Z"
   },
   {
    "duration": 10,
    "start_time": "2025-03-19T18:31:46.332Z"
   },
   {
    "duration": 7,
    "start_time": "2025-03-19T18:31:46.344Z"
   },
   {
    "duration": 29,
    "start_time": "2025-03-19T18:31:46.355Z"
   },
   {
    "duration": 38,
    "start_time": "2025-03-19T18:31:46.386Z"
   },
   {
    "duration": 9,
    "start_time": "2025-03-19T18:31:46.427Z"
   },
   {
    "duration": 31,
    "start_time": "2025-03-19T18:31:46.437Z"
   },
   {
    "duration": 913,
    "start_time": "2025-03-19T18:33:01.184Z"
   },
   {
    "duration": 85,
    "start_time": "2025-03-19T18:33:02.100Z"
   },
   {
    "duration": 82,
    "start_time": "2025-03-19T18:33:02.187Z"
   },
   {
    "duration": 86,
    "start_time": "2025-03-19T18:33:02.272Z"
   },
   {
    "duration": 17,
    "start_time": "2025-03-19T18:33:02.360Z"
   },
   {
    "duration": 10,
    "start_time": "2025-03-19T18:33:02.379Z"
   },
   {
    "duration": 55,
    "start_time": "2025-03-19T18:33:02.391Z"
   },
   {
    "duration": 11,
    "start_time": "2025-03-19T18:33:02.448Z"
   },
   {
    "duration": 8,
    "start_time": "2025-03-19T18:33:02.460Z"
   },
   {
    "duration": 54,
    "start_time": "2025-03-19T18:33:02.471Z"
   },
   {
    "duration": 13,
    "start_time": "2025-03-19T18:33:02.527Z"
   },
   {
    "duration": 9,
    "start_time": "2025-03-19T18:33:02.542Z"
   },
   {
    "duration": 34,
    "start_time": "2025-03-19T18:33:02.553Z"
   },
   {
    "duration": 236,
    "start_time": "2025-03-19T18:33:02.589Z"
   },
   {
    "duration": 12,
    "start_time": "2025-03-19T18:33:02.827Z"
   },
   {
    "duration": 10,
    "start_time": "2025-03-19T18:33:02.841Z"
   },
   {
    "duration": 6,
    "start_time": "2025-03-19T18:33:02.855Z"
   },
   {
    "duration": 15,
    "start_time": "2025-03-19T18:33:02.923Z"
   },
   {
    "duration": 86,
    "start_time": "2025-03-19T18:33:02.941Z"
   },
   {
    "duration": 6,
    "start_time": "2025-03-19T18:33:03.031Z"
   },
   {
    "duration": 89,
    "start_time": "2025-03-19T18:33:03.042Z"
   },
   {
    "duration": 9,
    "start_time": "2025-03-19T18:33:03.133Z"
   },
   {
    "duration": 5,
    "start_time": "2025-03-19T18:33:03.144Z"
   },
   {
    "duration": 3,
    "start_time": "2025-03-19T18:33:03.151Z"
   },
   {
    "duration": 70,
    "start_time": "2025-03-19T18:33:03.156Z"
   },
   {
    "duration": 5,
    "start_time": "2025-03-19T18:33:03.229Z"
   },
   {
    "duration": 15,
    "start_time": "2025-03-19T18:33:03.236Z"
   },
   {
    "duration": 1699,
    "start_time": "2025-03-19T18:33:03.256Z"
   },
   {
    "duration": 64,
    "start_time": "2025-03-19T18:44:56.336Z"
   },
   {
    "duration": 531,
    "start_time": "2025-03-19T18:45:07.270Z"
   },
   {
    "duration": 502,
    "start_time": "2025-03-19T18:48:40.095Z"
   },
   {
    "duration": 581,
    "start_time": "2025-03-19T18:49:11.537Z"
   },
   {
    "duration": 540,
    "start_time": "2025-03-19T18:52:42.209Z"
   },
   {
    "duration": 6,
    "start_time": "2025-03-19T18:59:39.497Z"
   },
   {
    "duration": 676,
    "start_time": "2025-03-19T19:00:28.204Z"
   },
   {
    "duration": 542,
    "start_time": "2025-03-19T19:01:21.100Z"
   },
   {
    "duration": 600,
    "start_time": "2025-03-19T19:03:02.876Z"
   },
   {
    "duration": 497,
    "start_time": "2025-03-19T19:04:38.347Z"
   },
   {
    "duration": 657,
    "start_time": "2025-03-19T19:05:48.475Z"
   },
   {
    "duration": 1059,
    "start_time": "2025-03-19T19:20:32.109Z"
   },
   {
    "duration": 143,
    "start_time": "2025-03-19T19:20:33.170Z"
   },
   {
    "duration": 98,
    "start_time": "2025-03-19T19:20:33.315Z"
   },
   {
    "duration": 101,
    "start_time": "2025-03-19T19:20:33.416Z"
   },
   {
    "duration": 12,
    "start_time": "2025-03-19T19:20:33.522Z"
   },
   {
    "duration": 8,
    "start_time": "2025-03-19T19:20:33.536Z"
   },
   {
    "duration": 34,
    "start_time": "2025-03-19T19:20:33.547Z"
   },
   {
    "duration": 12,
    "start_time": "2025-03-19T19:20:33.583Z"
   },
   {
    "duration": 34,
    "start_time": "2025-03-19T19:20:33.597Z"
   },
   {
    "duration": 32,
    "start_time": "2025-03-19T19:20:33.635Z"
   },
   {
    "duration": 11,
    "start_time": "2025-03-19T19:20:33.670Z"
   },
   {
    "duration": 10,
    "start_time": "2025-03-19T19:20:33.683Z"
   },
   {
    "duration": 33,
    "start_time": "2025-03-19T19:20:33.723Z"
   },
   {
    "duration": 649,
    "start_time": "2025-03-19T19:20:33.758Z"
   },
   {
    "duration": 21,
    "start_time": "2025-03-19T19:20:34.409Z"
   },
   {
    "duration": 18,
    "start_time": "2025-03-19T19:20:34.431Z"
   },
   {
    "duration": 4,
    "start_time": "2025-03-19T19:20:34.451Z"
   },
   {
    "duration": 650,
    "start_time": "2025-03-19T19:20:34.457Z"
   },
   {
    "duration": 16,
    "start_time": "2025-03-19T19:20:35.109Z"
   },
   {
    "duration": 9,
    "start_time": "2025-03-19T19:20:35.127Z"
   },
   {
    "duration": 4,
    "start_time": "2025-03-19T19:20:35.138Z"
   },
   {
    "duration": 648,
    "start_time": "2025-03-19T19:20:35.144Z"
   },
   {
    "duration": 12,
    "start_time": "2025-03-19T19:20:35.794Z"
   },
   {
    "duration": 23,
    "start_time": "2025-03-19T19:20:35.807Z"
   },
   {
    "duration": 4,
    "start_time": "2025-03-19T19:20:35.832Z"
   },
   {
    "duration": 3,
    "start_time": "2025-03-19T19:20:35.839Z"
   },
   {
    "duration": 3,
    "start_time": "2025-03-19T19:20:35.844Z"
   },
   {
    "duration": 5,
    "start_time": "2025-03-19T19:20:35.925Z"
   },
   {
    "duration": 15,
    "start_time": "2025-03-19T19:20:35.932Z"
   },
   {
    "duration": 1779,
    "start_time": "2025-03-19T19:20:35.949Z"
   },
   {
    "duration": 1052,
    "start_time": "2025-03-19T19:24:37.175Z"
   },
   {
    "duration": 84,
    "start_time": "2025-03-19T19:24:38.230Z"
   },
   {
    "duration": 83,
    "start_time": "2025-03-19T19:24:38.316Z"
   },
   {
    "duration": 83,
    "start_time": "2025-03-19T19:24:38.402Z"
   },
   {
    "duration": 11,
    "start_time": "2025-03-19T19:24:38.486Z"
   },
   {
    "duration": 8,
    "start_time": "2025-03-19T19:24:38.498Z"
   },
   {
    "duration": 46,
    "start_time": "2025-03-19T19:24:38.507Z"
   },
   {
    "duration": 11,
    "start_time": "2025-03-19T19:24:38.554Z"
   },
   {
    "duration": 8,
    "start_time": "2025-03-19T19:24:38.567Z"
   },
   {
    "duration": 50,
    "start_time": "2025-03-19T19:24:38.578Z"
   },
   {
    "duration": 10,
    "start_time": "2025-03-19T19:24:38.630Z"
   },
   {
    "duration": 8,
    "start_time": "2025-03-19T19:24:38.641Z"
   },
   {
    "duration": 34,
    "start_time": "2025-03-19T19:24:38.650Z"
   },
   {
    "duration": 581,
    "start_time": "2025-03-19T19:24:38.686Z"
   },
   {
    "duration": 12,
    "start_time": "2025-03-19T19:24:39.269Z"
   },
   {
    "duration": 11,
    "start_time": "2025-03-19T19:24:39.282Z"
   },
   {
    "duration": 5,
    "start_time": "2025-03-19T19:24:39.323Z"
   },
   {
    "duration": 616,
    "start_time": "2025-03-19T19:24:39.329Z"
   },
   {
    "duration": 10,
    "start_time": "2025-03-19T19:24:39.948Z"
   },
   {
    "duration": 9,
    "start_time": "2025-03-19T19:24:39.960Z"
   },
   {
    "duration": 51,
    "start_time": "2025-03-19T19:24:39.973Z"
   },
   {
    "duration": 618,
    "start_time": "2025-03-19T19:24:40.025Z"
   },
   {
    "duration": 11,
    "start_time": "2025-03-19T19:24:40.644Z"
   },
   {
    "duration": 8,
    "start_time": "2025-03-19T19:24:40.657Z"
   },
   {
    "duration": 4,
    "start_time": "2025-03-19T19:24:40.667Z"
   },
   {
    "duration": 3,
    "start_time": "2025-03-19T19:24:40.672Z"
   },
   {
    "duration": 3,
    "start_time": "2025-03-19T19:24:40.724Z"
   },
   {
    "duration": 10,
    "start_time": "2025-03-19T19:24:40.732Z"
   },
   {
    "duration": 87,
    "start_time": "2025-03-19T19:24:40.745Z"
   },
   {
    "duration": 1743,
    "start_time": "2025-03-19T19:24:40.833Z"
   },
   {
    "duration": 2785,
    "start_time": "2025-03-20T02:49:46.322Z"
   },
   {
    "duration": 105,
    "start_time": "2025-03-20T02:49:49.110Z"
   },
   {
    "duration": 122,
    "start_time": "2025-03-20T02:49:49.217Z"
   },
   {
    "duration": 99,
    "start_time": "2025-03-20T02:49:49.342Z"
   },
   {
    "duration": 11,
    "start_time": "2025-03-20T02:49:49.442Z"
   },
   {
    "duration": 7,
    "start_time": "2025-03-20T02:49:49.455Z"
   },
   {
    "duration": 32,
    "start_time": "2025-03-20T02:49:49.464Z"
   },
   {
    "duration": 32,
    "start_time": "2025-03-20T02:49:49.498Z"
   },
   {
    "duration": 8,
    "start_time": "2025-03-20T02:49:49.532Z"
   },
   {
    "duration": 33,
    "start_time": "2025-03-20T02:49:49.542Z"
   },
   {
    "duration": 11,
    "start_time": "2025-03-20T02:49:49.577Z"
   },
   {
    "duration": 37,
    "start_time": "2025-03-20T02:49:49.590Z"
   },
   {
    "duration": 30,
    "start_time": "2025-03-20T02:49:49.629Z"
   },
   {
    "duration": 608,
    "start_time": "2025-03-20T02:49:49.661Z"
   },
   {
    "duration": 12,
    "start_time": "2025-03-20T02:49:50.270Z"
   },
   {
    "duration": 11,
    "start_time": "2025-03-20T02:49:50.284Z"
   },
   {
    "duration": 30,
    "start_time": "2025-03-20T02:49:50.298Z"
   },
   {
    "duration": 651,
    "start_time": "2025-03-20T02:49:50.329Z"
   },
   {
    "duration": 10,
    "start_time": "2025-03-20T02:49:50.982Z"
   },
   {
    "duration": 31,
    "start_time": "2025-03-20T02:49:50.994Z"
   },
   {
    "duration": 8,
    "start_time": "2025-03-20T02:49:51.028Z"
   },
   {
    "duration": 613,
    "start_time": "2025-03-20T02:49:51.039Z"
   },
   {
    "duration": 11,
    "start_time": "2025-03-20T02:49:51.654Z"
   },
   {
    "duration": 14,
    "start_time": "2025-03-20T02:49:51.667Z"
   },
   {
    "duration": 5,
    "start_time": "2025-03-20T02:49:51.725Z"
   },
   {
    "duration": 3,
    "start_time": "2025-03-20T02:49:51.735Z"
   },
   {
    "duration": 4,
    "start_time": "2025-03-20T02:49:51.740Z"
   },
   {
    "duration": 78,
    "start_time": "2025-03-20T02:49:51.748Z"
   },
   {
    "duration": 256,
    "start_time": "2025-03-20T02:49:51.828Z"
   },
   {
    "duration": 0,
    "start_time": "2025-03-20T02:49:52.085Z"
   },
   {
    "duration": 4,
    "start_time": "2025-03-20T03:00:51.952Z"
   },
   {
    "duration": 5,
    "start_time": "2025-03-20T03:03:03.863Z"
   },
   {
    "duration": 5,
    "start_time": "2025-03-20T03:03:21.923Z"
   },
   {
    "duration": 4,
    "start_time": "2025-03-20T03:05:12.684Z"
   },
   {
    "duration": 11,
    "start_time": "2025-03-20T03:12:39.152Z"
   },
   {
    "duration": 11,
    "start_time": "2025-03-20T03:13:28.528Z"
   },
   {
    "duration": 978,
    "start_time": "2025-03-20T03:20:31.110Z"
   },
   {
    "duration": 84,
    "start_time": "2025-03-20T03:20:32.091Z"
   },
   {
    "duration": 82,
    "start_time": "2025-03-20T03:20:32.177Z"
   },
   {
    "duration": 84,
    "start_time": "2025-03-20T03:20:32.261Z"
   },
   {
    "duration": 12,
    "start_time": "2025-03-20T03:20:32.348Z"
   },
   {
    "duration": 9,
    "start_time": "2025-03-20T03:20:32.362Z"
   },
   {
    "duration": 31,
    "start_time": "2025-03-20T03:20:32.374Z"
   },
   {
    "duration": 12,
    "start_time": "2025-03-20T03:20:32.424Z"
   },
   {
    "duration": 7,
    "start_time": "2025-03-20T03:20:32.437Z"
   },
   {
    "duration": 29,
    "start_time": "2025-03-20T03:20:32.447Z"
   },
   {
    "duration": 10,
    "start_time": "2025-03-20T03:20:32.477Z"
   },
   {
    "duration": 38,
    "start_time": "2025-03-20T03:20:32.489Z"
   },
   {
    "duration": 31,
    "start_time": "2025-03-20T03:20:32.529Z"
   },
   {
    "duration": 541,
    "start_time": "2025-03-20T03:20:32.562Z"
   },
   {
    "duration": 18,
    "start_time": "2025-03-20T03:20:33.106Z"
   },
   {
    "duration": 11,
    "start_time": "2025-03-20T03:20:33.126Z"
   },
   {
    "duration": 4,
    "start_time": "2025-03-20T03:20:33.141Z"
   },
   {
    "duration": 625,
    "start_time": "2025-03-20T03:20:33.147Z"
   },
   {
    "duration": 11,
    "start_time": "2025-03-20T03:20:33.774Z"
   },
   {
    "duration": 39,
    "start_time": "2025-03-20T03:20:33.786Z"
   },
   {
    "duration": 6,
    "start_time": "2025-03-20T03:20:33.829Z"
   },
   {
    "duration": 604,
    "start_time": "2025-03-20T03:20:33.836Z"
   },
   {
    "duration": 5,
    "start_time": "2025-03-20T03:20:34.442Z"
   },
   {
    "duration": 0,
    "start_time": "2025-03-20T03:20:34.449Z"
   },
   {
    "duration": 0,
    "start_time": "2025-03-20T03:20:34.450Z"
   },
   {
    "duration": 0,
    "start_time": "2025-03-20T03:20:34.451Z"
   },
   {
    "duration": 0,
    "start_time": "2025-03-20T03:20:34.453Z"
   },
   {
    "duration": 0,
    "start_time": "2025-03-20T03:20:34.455Z"
   },
   {
    "duration": 0,
    "start_time": "2025-03-20T03:20:34.456Z"
   },
   {
    "duration": 0,
    "start_time": "2025-03-20T03:20:34.457Z"
   },
   {
    "duration": 16,
    "start_time": "2025-03-20T03:21:03.750Z"
   },
   {
    "duration": 1094,
    "start_time": "2025-03-20T03:21:11.720Z"
   },
   {
    "duration": 87,
    "start_time": "2025-03-20T03:21:12.816Z"
   },
   {
    "duration": 120,
    "start_time": "2025-03-20T03:21:12.905Z"
   },
   {
    "duration": 98,
    "start_time": "2025-03-20T03:21:13.028Z"
   },
   {
    "duration": 11,
    "start_time": "2025-03-20T03:21:13.128Z"
   },
   {
    "duration": 9,
    "start_time": "2025-03-20T03:21:13.143Z"
   },
   {
    "duration": 41,
    "start_time": "2025-03-20T03:21:13.154Z"
   },
   {
    "duration": 33,
    "start_time": "2025-03-20T03:21:13.197Z"
   },
   {
    "duration": 8,
    "start_time": "2025-03-20T03:21:13.232Z"
   },
   {
    "duration": 30,
    "start_time": "2025-03-20T03:21:13.244Z"
   },
   {
    "duration": 14,
    "start_time": "2025-03-20T03:21:13.276Z"
   },
   {
    "duration": 35,
    "start_time": "2025-03-20T03:21:13.293Z"
   },
   {
    "duration": 33,
    "start_time": "2025-03-20T03:21:13.330Z"
   },
   {
    "duration": 598,
    "start_time": "2025-03-20T03:21:13.366Z"
   },
   {
    "duration": 17,
    "start_time": "2025-03-20T03:21:13.966Z"
   },
   {
    "duration": 14,
    "start_time": "2025-03-20T03:21:13.984Z"
   },
   {
    "duration": 25,
    "start_time": "2025-03-20T03:21:14.000Z"
   },
   {
    "duration": 655,
    "start_time": "2025-03-20T03:21:14.027Z"
   },
   {
    "duration": 13,
    "start_time": "2025-03-20T03:21:14.684Z"
   },
   {
    "duration": 28,
    "start_time": "2025-03-20T03:21:14.698Z"
   },
   {
    "duration": 9,
    "start_time": "2025-03-20T03:21:14.728Z"
   },
   {
    "duration": 634,
    "start_time": "2025-03-20T03:21:14.740Z"
   },
   {
    "duration": 13,
    "start_time": "2025-03-20T03:21:15.376Z"
   },
   {
    "duration": 34,
    "start_time": "2025-03-20T03:21:15.392Z"
   },
   {
    "duration": 6,
    "start_time": "2025-03-20T03:21:15.428Z"
   },
   {
    "duration": 3,
    "start_time": "2025-03-20T03:21:15.436Z"
   },
   {
    "duration": 5,
    "start_time": "2025-03-20T03:21:15.441Z"
   },
   {
    "duration": 75,
    "start_time": "2025-03-20T03:21:15.452Z"
   },
   {
    "duration": 322,
    "start_time": "2025-03-20T03:21:15.528Z"
   },
   {
    "duration": 0,
    "start_time": "2025-03-20T03:21:15.852Z"
   },
   {
    "duration": 16,
    "start_time": "2025-03-20T03:21:58.048Z"
   },
   {
    "duration": 1085,
    "start_time": "2025-03-20T03:22:10.421Z"
   },
   {
    "duration": 89,
    "start_time": "2025-03-20T03:22:11.508Z"
   },
   {
    "duration": 96,
    "start_time": "2025-03-20T03:22:11.599Z"
   },
   {
    "duration": 113,
    "start_time": "2025-03-20T03:22:11.698Z"
   },
   {
    "duration": 18,
    "start_time": "2025-03-20T03:22:11.813Z"
   },
   {
    "duration": 9,
    "start_time": "2025-03-20T03:22:11.833Z"
   },
   {
    "duration": 39,
    "start_time": "2025-03-20T03:22:11.843Z"
   },
   {
    "duration": 11,
    "start_time": "2025-03-20T03:22:11.884Z"
   },
   {
    "duration": 33,
    "start_time": "2025-03-20T03:22:11.897Z"
   },
   {
    "duration": 30,
    "start_time": "2025-03-20T03:22:11.934Z"
   },
   {
    "duration": 14,
    "start_time": "2025-03-20T03:22:11.967Z"
   },
   {
    "duration": 10,
    "start_time": "2025-03-20T03:22:11.982Z"
   },
   {
    "duration": 57,
    "start_time": "2025-03-20T03:22:11.994Z"
   },
   {
    "duration": 627,
    "start_time": "2025-03-20T03:22:12.054Z"
   },
   {
    "duration": 15,
    "start_time": "2025-03-20T03:22:12.684Z"
   },
   {
    "duration": 24,
    "start_time": "2025-03-20T03:22:12.701Z"
   },
   {
    "duration": 10,
    "start_time": "2025-03-20T03:22:12.727Z"
   },
   {
    "duration": 622,
    "start_time": "2025-03-20T03:22:12.738Z"
   },
   {
    "duration": 14,
    "start_time": "2025-03-20T03:22:13.362Z"
   },
   {
    "duration": 12,
    "start_time": "2025-03-20T03:22:13.378Z"
   },
   {
    "duration": 8,
    "start_time": "2025-03-20T03:22:13.423Z"
   },
   {
    "duration": 638,
    "start_time": "2025-03-20T03:22:13.434Z"
   },
   {
    "duration": 11,
    "start_time": "2025-03-20T03:22:14.076Z"
   },
   {
    "duration": 34,
    "start_time": "2025-03-20T03:22:14.089Z"
   },
   {
    "duration": 5,
    "start_time": "2025-03-20T03:22:14.125Z"
   },
   {
    "duration": 3,
    "start_time": "2025-03-20T03:22:14.131Z"
   },
   {
    "duration": 4,
    "start_time": "2025-03-20T03:22:14.136Z"
   },
   {
    "duration": 7,
    "start_time": "2025-03-20T03:22:14.146Z"
   },
   {
    "duration": 79,
    "start_time": "2025-03-20T03:22:14.155Z"
   },
   {
    "duration": 341,
    "start_time": "2025-03-20T03:22:14.235Z"
   },
   {
    "duration": 5,
    "start_time": "2025-03-20T03:27:06.978Z"
   },
   {
    "duration": 1100,
    "start_time": "2025-03-20T03:29:12.410Z"
   },
   {
    "duration": 105,
    "start_time": "2025-03-20T03:29:13.512Z"
   },
   {
    "duration": 90,
    "start_time": "2025-03-20T03:29:13.623Z"
   },
   {
    "duration": 100,
    "start_time": "2025-03-20T03:29:13.715Z"
   },
   {
    "duration": 22,
    "start_time": "2025-03-20T03:29:13.818Z"
   },
   {
    "duration": 11,
    "start_time": "2025-03-20T03:29:13.843Z"
   },
   {
    "duration": 41,
    "start_time": "2025-03-20T03:29:13.857Z"
   },
   {
    "duration": 29,
    "start_time": "2025-03-20T03:29:13.900Z"
   },
   {
    "duration": 10,
    "start_time": "2025-03-20T03:29:13.931Z"
   },
   {
    "duration": 39,
    "start_time": "2025-03-20T03:29:13.943Z"
   },
   {
    "duration": 12,
    "start_time": "2025-03-20T03:29:13.984Z"
   },
   {
    "duration": 33,
    "start_time": "2025-03-20T03:29:13.997Z"
   },
   {
    "duration": 45,
    "start_time": "2025-03-20T03:29:14.035Z"
   },
   {
    "duration": 684,
    "start_time": "2025-03-20T03:29:14.084Z"
   },
   {
    "duration": 19,
    "start_time": "2025-03-20T03:29:14.773Z"
   },
   {
    "duration": 29,
    "start_time": "2025-03-20T03:29:14.796Z"
   },
   {
    "duration": 10,
    "start_time": "2025-03-20T03:29:14.832Z"
   },
   {
    "duration": 656,
    "start_time": "2025-03-20T03:29:14.852Z"
   },
   {
    "duration": 23,
    "start_time": "2025-03-20T03:29:15.510Z"
   },
   {
    "duration": 14,
    "start_time": "2025-03-20T03:29:15.535Z"
   },
   {
    "duration": 4,
    "start_time": "2025-03-20T03:29:15.551Z"
   },
   {
    "duration": 752,
    "start_time": "2025-03-20T03:29:15.557Z"
   },
   {
    "duration": 27,
    "start_time": "2025-03-20T03:29:16.311Z"
   },
   {
    "duration": 28,
    "start_time": "2025-03-20T03:29:16.343Z"
   },
   {
    "duration": 11,
    "start_time": "2025-03-20T03:29:16.378Z"
   },
   {
    "duration": 4,
    "start_time": "2025-03-20T03:29:16.436Z"
   },
   {
    "duration": 8,
    "start_time": "2025-03-20T03:29:16.442Z"
   },
   {
    "duration": 6,
    "start_time": "2025-03-20T03:29:16.453Z"
   },
   {
    "duration": 24,
    "start_time": "2025-03-20T03:29:16.461Z"
   },
   {
    "duration": 408,
    "start_time": "2025-03-20T03:29:16.488Z"
   },
   {
    "duration": 297,
    "start_time": "2025-03-20T03:41:44.309Z"
   },
   {
    "duration": 1004,
    "start_time": "2025-03-20T03:42:09.900Z"
   },
   {
    "duration": 97,
    "start_time": "2025-03-20T03:42:10.906Z"
   },
   {
    "duration": 89,
    "start_time": "2025-03-20T03:42:11.005Z"
   },
   {
    "duration": 118,
    "start_time": "2025-03-20T03:42:11.097Z"
   },
   {
    "duration": 18,
    "start_time": "2025-03-20T03:42:11.217Z"
   },
   {
    "duration": 9,
    "start_time": "2025-03-20T03:42:11.237Z"
   },
   {
    "duration": 43,
    "start_time": "2025-03-20T03:42:11.247Z"
   },
   {
    "duration": 34,
    "start_time": "2025-03-20T03:42:11.291Z"
   },
   {
    "duration": 11,
    "start_time": "2025-03-20T03:42:11.326Z"
   },
   {
    "duration": 34,
    "start_time": "2025-03-20T03:42:11.340Z"
   },
   {
    "duration": 12,
    "start_time": "2025-03-20T03:42:11.376Z"
   },
   {
    "duration": 34,
    "start_time": "2025-03-20T03:42:11.390Z"
   },
   {
    "duration": 43,
    "start_time": "2025-03-20T03:42:11.425Z"
   },
   {
    "duration": 602,
    "start_time": "2025-03-20T03:42:11.469Z"
   },
   {
    "duration": 13,
    "start_time": "2025-03-20T03:42:12.073Z"
   },
   {
    "duration": 15,
    "start_time": "2025-03-20T03:42:12.089Z"
   },
   {
    "duration": 9,
    "start_time": "2025-03-20T03:42:12.124Z"
   },
   {
    "duration": 635,
    "start_time": "2025-03-20T03:42:12.137Z"
   },
   {
    "duration": 12,
    "start_time": "2025-03-20T03:42:12.774Z"
   },
   {
    "duration": 13,
    "start_time": "2025-03-20T03:42:12.788Z"
   },
   {
    "duration": 8,
    "start_time": "2025-03-20T03:42:12.829Z"
   },
   {
    "duration": 622,
    "start_time": "2025-03-20T03:42:12.838Z"
   },
   {
    "duration": 11,
    "start_time": "2025-03-20T03:42:13.462Z"
   },
   {
    "duration": 14,
    "start_time": "2025-03-20T03:42:13.475Z"
   },
   {
    "duration": 14,
    "start_time": "2025-03-20T03:42:13.523Z"
   },
   {
    "duration": 8,
    "start_time": "2025-03-20T03:42:13.540Z"
   },
   {
    "duration": 74,
    "start_time": "2025-03-20T03:42:13.550Z"
   },
   {
    "duration": 5,
    "start_time": "2025-03-20T03:42:13.628Z"
   },
   {
    "duration": 15,
    "start_time": "2025-03-20T03:42:13.635Z"
   },
   {
    "duration": 608,
    "start_time": "2025-03-20T03:42:13.652Z"
   },
   {
    "duration": 66,
    "start_time": "2025-03-20T03:42:55.564Z"
   },
   {
    "duration": 318,
    "start_time": "2025-03-20T03:48:15.757Z"
   },
   {
    "duration": 1011,
    "start_time": "2025-03-20T03:48:35.576Z"
   },
   {
    "duration": 90,
    "start_time": "2025-03-20T03:48:36.589Z"
   },
   {
    "duration": 83,
    "start_time": "2025-03-20T03:48:36.680Z"
   },
   {
    "duration": 83,
    "start_time": "2025-03-20T03:48:36.766Z"
   },
   {
    "duration": 12,
    "start_time": "2025-03-20T03:48:36.851Z"
   },
   {
    "duration": 8,
    "start_time": "2025-03-20T03:48:36.865Z"
   },
   {
    "duration": 58,
    "start_time": "2025-03-20T03:48:36.875Z"
   },
   {
    "duration": 15,
    "start_time": "2025-03-20T03:48:36.935Z"
   },
   {
    "duration": 12,
    "start_time": "2025-03-20T03:48:36.954Z"
   },
   {
    "duration": 32,
    "start_time": "2025-03-20T03:48:36.969Z"
   },
   {
    "duration": 26,
    "start_time": "2025-03-20T03:48:37.004Z"
   },
   {
    "duration": 9,
    "start_time": "2025-03-20T03:48:37.032Z"
   },
   {
    "duration": 41,
    "start_time": "2025-03-20T03:48:37.043Z"
   },
   {
    "duration": 599,
    "start_time": "2025-03-20T03:48:37.086Z"
   },
   {
    "duration": 15,
    "start_time": "2025-03-20T03:48:37.687Z"
   },
   {
    "duration": 31,
    "start_time": "2025-03-20T03:48:37.704Z"
   },
   {
    "duration": 5,
    "start_time": "2025-03-20T03:48:37.737Z"
   },
   {
    "duration": 658,
    "start_time": "2025-03-20T03:48:37.744Z"
   },
   {
    "duration": 22,
    "start_time": "2025-03-20T03:48:38.405Z"
   },
   {
    "duration": 25,
    "start_time": "2025-03-20T03:48:38.429Z"
   },
   {
    "duration": 4,
    "start_time": "2025-03-20T03:48:38.457Z"
   },
   {
    "duration": 632,
    "start_time": "2025-03-20T03:48:38.464Z"
   },
   {
    "duration": 11,
    "start_time": "2025-03-20T03:48:39.098Z"
   },
   {
    "duration": 23,
    "start_time": "2025-03-20T03:48:39.111Z"
   },
   {
    "duration": 5,
    "start_time": "2025-03-20T03:48:39.136Z"
   },
   {
    "duration": 2,
    "start_time": "2025-03-20T03:48:39.143Z"
   },
   {
    "duration": 4,
    "start_time": "2025-03-20T03:48:39.147Z"
   },
   {
    "duration": 4,
    "start_time": "2025-03-20T03:48:39.156Z"
   },
   {
    "duration": 66,
    "start_time": "2025-03-20T03:48:39.162Z"
   },
   {
    "duration": 654,
    "start_time": "2025-03-20T03:48:39.230Z"
   },
   {
    "duration": 64,
    "start_time": "2025-03-20T03:49:53.035Z"
   },
   {
    "duration": 96,
    "start_time": "2025-03-20T03:50:34.441Z"
   },
   {
    "duration": 69,
    "start_time": "2025-03-20T03:50:48.309Z"
   },
   {
    "duration": 1043,
    "start_time": "2025-03-20T03:51:26.025Z"
   },
   {
    "duration": 133,
    "start_time": "2025-03-20T03:51:27.071Z"
   },
   {
    "duration": 152,
    "start_time": "2025-03-20T03:51:27.206Z"
   },
   {
    "duration": 120,
    "start_time": "2025-03-20T03:51:27.362Z"
   },
   {
    "duration": 15,
    "start_time": "2025-03-20T03:51:27.484Z"
   },
   {
    "duration": 28,
    "start_time": "2025-03-20T03:51:27.500Z"
   },
   {
    "duration": 39,
    "start_time": "2025-03-20T03:51:27.530Z"
   },
   {
    "duration": 14,
    "start_time": "2025-03-20T03:51:27.571Z"
   },
   {
    "duration": 10,
    "start_time": "2025-03-20T03:51:27.587Z"
   },
   {
    "duration": 59,
    "start_time": "2025-03-20T03:51:27.600Z"
   },
   {
    "duration": 10,
    "start_time": "2025-03-20T03:51:27.661Z"
   },
   {
    "duration": 10,
    "start_time": "2025-03-20T03:51:27.673Z"
   },
   {
    "duration": 63,
    "start_time": "2025-03-20T03:51:27.687Z"
   },
   {
    "duration": 624,
    "start_time": "2025-03-20T03:51:27.751Z"
   },
   {
    "duration": 13,
    "start_time": "2025-03-20T03:51:28.377Z"
   },
   {
    "duration": 37,
    "start_time": "2025-03-20T03:51:28.392Z"
   },
   {
    "duration": 7,
    "start_time": "2025-03-20T03:51:28.431Z"
   },
   {
    "duration": 658,
    "start_time": "2025-03-20T03:51:28.440Z"
   },
   {
    "duration": 18,
    "start_time": "2025-03-20T03:51:29.100Z"
   },
   {
    "duration": 17,
    "start_time": "2025-03-20T03:51:29.120Z"
   },
   {
    "duration": 7,
    "start_time": "2025-03-20T03:51:29.138Z"
   },
   {
    "duration": 629,
    "start_time": "2025-03-20T03:51:29.146Z"
   },
   {
    "duration": 13,
    "start_time": "2025-03-20T03:51:29.778Z"
   },
   {
    "duration": 35,
    "start_time": "2025-03-20T03:51:29.793Z"
   },
   {
    "duration": 5,
    "start_time": "2025-03-20T03:51:29.830Z"
   },
   {
    "duration": 3,
    "start_time": "2025-03-20T03:51:29.837Z"
   },
   {
    "duration": 3,
    "start_time": "2025-03-20T03:51:29.842Z"
   },
   {
    "duration": 5,
    "start_time": "2025-03-20T03:51:29.849Z"
   },
   {
    "duration": 82,
    "start_time": "2025-03-20T03:51:29.856Z"
   },
   {
    "duration": 599,
    "start_time": "2025-03-20T03:51:29.940Z"
   },
   {
    "duration": 9329,
    "start_time": "2025-03-20T03:56:07.704Z"
   },
   {
    "duration": 1113,
    "start_time": "2025-03-20T03:56:43.617Z"
   },
   {
    "duration": 117,
    "start_time": "2025-03-20T03:56:44.732Z"
   },
   {
    "duration": 94,
    "start_time": "2025-03-20T03:56:44.854Z"
   },
   {
    "duration": 94,
    "start_time": "2025-03-20T03:56:44.954Z"
   },
   {
    "duration": 16,
    "start_time": "2025-03-20T03:56:45.054Z"
   },
   {
    "duration": 9,
    "start_time": "2025-03-20T03:56:45.074Z"
   },
   {
    "duration": 54,
    "start_time": "2025-03-20T03:56:45.085Z"
   },
   {
    "duration": 15,
    "start_time": "2025-03-20T03:56:45.142Z"
   },
   {
    "duration": 12,
    "start_time": "2025-03-20T03:56:45.163Z"
   },
   {
    "duration": 45,
    "start_time": "2025-03-20T03:56:45.181Z"
   },
   {
    "duration": 17,
    "start_time": "2025-03-20T03:56:45.232Z"
   },
   {
    "duration": 14,
    "start_time": "2025-03-20T03:56:45.254Z"
   },
   {
    "duration": 35,
    "start_time": "2025-03-20T03:56:45.274Z"
   },
   {
    "duration": 617,
    "start_time": "2025-03-20T03:56:45.311Z"
   },
   {
    "duration": 19,
    "start_time": "2025-03-20T03:56:45.930Z"
   },
   {
    "duration": 22,
    "start_time": "2025-03-20T03:56:45.951Z"
   },
   {
    "duration": 7,
    "start_time": "2025-03-20T03:56:45.975Z"
   },
   {
    "duration": 705,
    "start_time": "2025-03-20T03:56:45.984Z"
   },
   {
    "duration": 14,
    "start_time": "2025-03-20T03:56:46.691Z"
   },
   {
    "duration": 52,
    "start_time": "2025-03-20T03:56:46.707Z"
   },
   {
    "duration": 5,
    "start_time": "2025-03-20T03:56:46.768Z"
   },
   {
    "duration": 701,
    "start_time": "2025-03-20T03:56:46.775Z"
   },
   {
    "duration": 11,
    "start_time": "2025-03-20T03:56:47.479Z"
   },
   {
    "duration": 55,
    "start_time": "2025-03-20T03:56:47.493Z"
   },
   {
    "duration": 8,
    "start_time": "2025-03-20T03:56:47.550Z"
   },
   {
    "duration": 5,
    "start_time": "2025-03-20T03:56:47.560Z"
   },
   {
    "duration": 3,
    "start_time": "2025-03-20T03:56:47.571Z"
   },
   {
    "duration": 46,
    "start_time": "2025-03-20T03:56:47.581Z"
   },
   {
    "duration": 34,
    "start_time": "2025-03-20T03:56:47.629Z"
   },
   {
    "duration": 9594,
    "start_time": "2025-03-20T03:56:47.665Z"
   },
   {
    "duration": 8476,
    "start_time": "2025-03-20T04:11:50.460Z"
   },
   {
    "duration": 375,
    "start_time": "2025-03-20T04:18:23.143Z"
   },
   {
    "duration": 18,
    "start_time": "2025-03-20T04:18:58.362Z"
   },
   {
    "duration": 28,
    "start_time": "2025-03-20T04:19:04.400Z"
   },
   {
    "duration": 22,
    "start_time": "2025-03-20T04:19:53.683Z"
   },
   {
    "duration": 41,
    "start_time": "2025-03-20T04:20:28.628Z"
   },
   {
    "duration": 2952,
    "start_time": "2025-03-21T18:54:55.928Z"
   },
   {
    "duration": 119,
    "start_time": "2025-03-21T18:54:58.883Z"
   },
   {
    "duration": 114,
    "start_time": "2025-03-21T18:54:59.004Z"
   },
   {
    "duration": 115,
    "start_time": "2025-03-21T18:54:59.121Z"
   },
   {
    "duration": 15,
    "start_time": "2025-03-21T18:54:59.240Z"
   },
   {
    "duration": 10,
    "start_time": "2025-03-21T18:54:59.258Z"
   },
   {
    "duration": 61,
    "start_time": "2025-03-21T18:54:59.270Z"
   },
   {
    "duration": 15,
    "start_time": "2025-03-21T18:54:59.338Z"
   },
   {
    "duration": 9,
    "start_time": "2025-03-21T18:54:59.357Z"
   },
   {
    "duration": 49,
    "start_time": "2025-03-21T18:54:59.368Z"
   },
   {
    "duration": 11,
    "start_time": "2025-03-21T18:54:59.419Z"
   },
   {
    "duration": 8,
    "start_time": "2025-03-21T18:54:59.432Z"
   },
   {
    "duration": 68,
    "start_time": "2025-03-21T18:54:59.442Z"
   },
   {
    "duration": 556,
    "start_time": "2025-03-21T18:54:59.514Z"
   },
   {
    "duration": 17,
    "start_time": "2025-03-21T18:55:00.072Z"
   },
   {
    "duration": 11,
    "start_time": "2025-03-21T18:55:00.091Z"
   },
   {
    "duration": 4,
    "start_time": "2025-03-21T18:55:00.106Z"
   },
   {
    "duration": 655,
    "start_time": "2025-03-21T18:55:00.111Z"
   },
   {
    "duration": 18,
    "start_time": "2025-03-21T18:55:00.769Z"
   },
   {
    "duration": 18,
    "start_time": "2025-03-21T18:55:00.788Z"
   },
   {
    "duration": 7,
    "start_time": "2025-03-21T18:55:00.808Z"
   },
   {
    "duration": 725,
    "start_time": "2025-03-21T18:55:00.817Z"
   },
   {
    "duration": 13,
    "start_time": "2025-03-21T18:55:01.543Z"
   },
   {
    "duration": 35,
    "start_time": "2025-03-21T18:55:01.557Z"
   },
   {
    "duration": 6,
    "start_time": "2025-03-21T18:55:01.594Z"
   },
   {
    "duration": 2,
    "start_time": "2025-03-21T18:55:01.602Z"
   },
   {
    "duration": 3,
    "start_time": "2025-03-21T18:55:01.606Z"
   },
   {
    "duration": 5,
    "start_time": "2025-03-21T18:55:01.611Z"
   },
   {
    "duration": 77,
    "start_time": "2025-03-21T18:55:01.618Z"
   },
   {
    "duration": 272,
    "start_time": "2025-03-21T18:55:01.698Z"
   },
   {
    "duration": 22,
    "start_time": "2025-03-21T19:09:54.117Z"
   },
   {
    "duration": 403,
    "start_time": "2025-03-21T19:12:35.087Z"
   },
   {
    "duration": 1099,
    "start_time": "2025-03-21T19:13:16.043Z"
   },
   {
    "duration": 93,
    "start_time": "2025-03-21T19:13:17.144Z"
   },
   {
    "duration": 87,
    "start_time": "2025-03-21T19:13:17.238Z"
   },
   {
    "duration": 83,
    "start_time": "2025-03-21T19:13:17.327Z"
   },
   {
    "duration": 12,
    "start_time": "2025-03-21T19:13:17.413Z"
   },
   {
    "duration": 8,
    "start_time": "2025-03-21T19:13:17.428Z"
   },
   {
    "duration": 58,
    "start_time": "2025-03-21T19:13:17.438Z"
   },
   {
    "duration": 12,
    "start_time": "2025-03-21T19:13:17.498Z"
   },
   {
    "duration": 8,
    "start_time": "2025-03-21T19:13:17.512Z"
   },
   {
    "duration": 33,
    "start_time": "2025-03-21T19:13:17.521Z"
   },
   {
    "duration": 31,
    "start_time": "2025-03-21T19:13:17.556Z"
   },
   {
    "duration": 7,
    "start_time": "2025-03-21T19:13:17.590Z"
   },
   {
    "duration": 41,
    "start_time": "2025-03-21T19:13:17.599Z"
   },
   {
    "duration": 591,
    "start_time": "2025-03-21T19:13:17.643Z"
   },
   {
    "duration": 14,
    "start_time": "2025-03-21T19:13:18.236Z"
   },
   {
    "duration": 38,
    "start_time": "2025-03-21T19:13:18.252Z"
   },
   {
    "duration": 9,
    "start_time": "2025-03-21T19:13:18.292Z"
   },
   {
    "duration": 617,
    "start_time": "2025-03-21T19:13:18.307Z"
   },
   {
    "duration": 12,
    "start_time": "2025-03-21T19:13:18.926Z"
   },
   {
    "duration": 48,
    "start_time": "2025-03-21T19:13:18.939Z"
   },
   {
    "duration": 7,
    "start_time": "2025-03-21T19:13:18.990Z"
   },
   {
    "duration": 629,
    "start_time": "2025-03-21T19:13:18.999Z"
   },
   {
    "duration": 13,
    "start_time": "2025-03-21T19:13:19.630Z"
   },
   {
    "duration": 19,
    "start_time": "2025-03-21T19:13:19.645Z"
   },
   {
    "duration": 11,
    "start_time": "2025-03-21T19:13:19.686Z"
   },
   {
    "duration": 6,
    "start_time": "2025-03-21T19:13:19.700Z"
   },
   {
    "duration": 7,
    "start_time": "2025-03-21T19:13:19.709Z"
   },
   {
    "duration": 11,
    "start_time": "2025-03-21T19:13:19.717Z"
   },
   {
    "duration": 69,
    "start_time": "2025-03-21T19:13:19.730Z"
   },
   {
    "duration": 624,
    "start_time": "2025-03-21T19:13:19.801Z"
   },
   {
    "duration": 328,
    "start_time": "2025-03-21T19:27:40.862Z"
   },
   {
    "duration": 1100,
    "start_time": "2025-03-21T19:28:13.272Z"
   },
   {
    "duration": 101,
    "start_time": "2025-03-21T19:28:14.375Z"
   },
   {
    "duration": 87,
    "start_time": "2025-03-21T19:28:14.478Z"
   },
   {
    "duration": 87,
    "start_time": "2025-03-21T19:28:14.567Z"
   },
   {
    "duration": 15,
    "start_time": "2025-03-21T19:28:14.657Z"
   },
   {
    "duration": 9,
    "start_time": "2025-03-21T19:28:14.686Z"
   },
   {
    "duration": 36,
    "start_time": "2025-03-21T19:28:14.696Z"
   },
   {
    "duration": 12,
    "start_time": "2025-03-21T19:28:14.734Z"
   },
   {
    "duration": 8,
    "start_time": "2025-03-21T19:28:14.748Z"
   },
   {
    "duration": 56,
    "start_time": "2025-03-21T19:28:14.757Z"
   },
   {
    "duration": 13,
    "start_time": "2025-03-21T19:28:14.815Z"
   },
   {
    "duration": 9,
    "start_time": "2025-03-21T19:28:14.830Z"
   },
   {
    "duration": 64,
    "start_time": "2025-03-21T19:28:14.841Z"
   },
   {
    "duration": 607,
    "start_time": "2025-03-21T19:28:14.909Z"
   },
   {
    "duration": 17,
    "start_time": "2025-03-21T19:28:15.518Z"
   },
   {
    "duration": 12,
    "start_time": "2025-03-21T19:28:15.539Z"
   },
   {
    "duration": 6,
    "start_time": "2025-03-21T19:28:15.552Z"
   },
   {
    "duration": 675,
    "start_time": "2025-03-21T19:28:15.588Z"
   },
   {
    "duration": 21,
    "start_time": "2025-03-21T19:28:16.265Z"
   },
   {
    "duration": 40,
    "start_time": "2025-03-21T19:28:16.288Z"
   },
   {
    "duration": 55,
    "start_time": "2025-03-21T19:28:16.331Z"
   },
   {
    "duration": 670,
    "start_time": "2025-03-21T19:28:16.389Z"
   },
   {
    "duration": 15,
    "start_time": "2025-03-21T19:28:17.062Z"
   },
   {
    "duration": 24,
    "start_time": "2025-03-21T19:28:17.081Z"
   },
   {
    "duration": 10,
    "start_time": "2025-03-21T19:28:17.108Z"
   },
   {
    "duration": 5,
    "start_time": "2025-03-21T19:28:17.121Z"
   },
   {
    "duration": 58,
    "start_time": "2025-03-21T19:28:17.129Z"
   },
   {
    "duration": 6,
    "start_time": "2025-03-21T19:28:17.192Z"
   },
   {
    "duration": 14,
    "start_time": "2025-03-21T19:28:17.200Z"
   },
   {
    "duration": 794,
    "start_time": "2025-03-21T19:28:17.216Z"
   },
   {
    "duration": 43,
    "start_time": "2025-03-21T19:32:31.430Z"
   },
   {
    "duration": 1047,
    "start_time": "2025-03-21T19:32:49.524Z"
   },
   {
    "duration": 110,
    "start_time": "2025-03-21T19:32:50.574Z"
   },
   {
    "duration": 79,
    "start_time": "2025-03-21T19:32:50.688Z"
   },
   {
    "duration": 87,
    "start_time": "2025-03-21T19:32:50.769Z"
   },
   {
    "duration": 11,
    "start_time": "2025-03-21T19:32:50.859Z"
   },
   {
    "duration": 16,
    "start_time": "2025-03-21T19:32:50.872Z"
   },
   {
    "duration": 31,
    "start_time": "2025-03-21T19:32:50.890Z"
   },
   {
    "duration": 12,
    "start_time": "2025-03-21T19:32:50.923Z"
   },
   {
    "duration": 10,
    "start_time": "2025-03-21T19:32:50.937Z"
   },
   {
    "duration": 50,
    "start_time": "2025-03-21T19:32:50.949Z"
   },
   {
    "duration": 13,
    "start_time": "2025-03-21T19:32:51.001Z"
   },
   {
    "duration": 11,
    "start_time": "2025-03-21T19:32:51.018Z"
   },
   {
    "duration": 35,
    "start_time": "2025-03-21T19:32:51.032Z"
   },
   {
    "duration": 562,
    "start_time": "2025-03-21T19:32:51.071Z"
   },
   {
    "duration": 14,
    "start_time": "2025-03-21T19:32:51.635Z"
   },
   {
    "duration": 37,
    "start_time": "2025-03-21T19:32:51.650Z"
   },
   {
    "duration": 7,
    "start_time": "2025-03-21T19:32:51.689Z"
   },
   {
    "duration": 631,
    "start_time": "2025-03-21T19:32:51.700Z"
   },
   {
    "duration": 14,
    "start_time": "2025-03-21T19:32:52.333Z"
   },
   {
    "duration": 42,
    "start_time": "2025-03-21T19:32:52.349Z"
   },
   {
    "duration": 11,
    "start_time": "2025-03-21T19:32:52.392Z"
   },
   {
    "duration": 633,
    "start_time": "2025-03-21T19:32:52.406Z"
   },
   {
    "duration": 12,
    "start_time": "2025-03-21T19:32:53.041Z"
   },
   {
    "duration": 32,
    "start_time": "2025-03-21T19:32:53.055Z"
   },
   {
    "duration": 4,
    "start_time": "2025-03-21T19:32:53.089Z"
   },
   {
    "duration": 3,
    "start_time": "2025-03-21T19:32:53.095Z"
   },
   {
    "duration": 4,
    "start_time": "2025-03-21T19:32:53.100Z"
   },
   {
    "duration": 5,
    "start_time": "2025-03-21T19:32:53.105Z"
   },
   {
    "duration": 88,
    "start_time": "2025-03-21T19:32:53.112Z"
   },
   {
    "duration": 362,
    "start_time": "2025-03-21T19:32:53.203Z"
   },
   {
    "duration": 40,
    "start_time": "2025-03-21T19:36:06.034Z"
   },
   {
    "duration": 7,
    "start_time": "2025-03-21T19:36:24.236Z"
   },
   {
    "duration": 383,
    "start_time": "2025-03-21T19:36:46.076Z"
   },
   {
    "duration": 2701,
    "start_time": "2025-03-21T21:26:12.600Z"
   },
   {
    "duration": 113,
    "start_time": "2025-03-21T21:26:15.304Z"
   },
   {
    "duration": 108,
    "start_time": "2025-03-21T21:26:15.418Z"
   },
   {
    "duration": 106,
    "start_time": "2025-03-21T21:26:15.528Z"
   },
   {
    "duration": 11,
    "start_time": "2025-03-21T21:26:15.636Z"
   },
   {
    "duration": 8,
    "start_time": "2025-03-21T21:26:15.649Z"
   },
   {
    "duration": 52,
    "start_time": "2025-03-21T21:26:15.658Z"
   },
   {
    "duration": 12,
    "start_time": "2025-03-21T21:26:15.711Z"
   },
   {
    "duration": 7,
    "start_time": "2025-03-21T21:26:15.724Z"
   },
   {
    "duration": 31,
    "start_time": "2025-03-21T21:26:15.735Z"
   },
   {
    "duration": 11,
    "start_time": "2025-03-21T21:26:15.768Z"
   },
   {
    "duration": 34,
    "start_time": "2025-03-21T21:26:15.781Z"
   },
   {
    "duration": 33,
    "start_time": "2025-03-21T21:26:15.817Z"
   },
   {
    "duration": 613,
    "start_time": "2025-03-21T21:26:15.852Z"
   },
   {
    "duration": 13,
    "start_time": "2025-03-21T21:26:16.467Z"
   },
   {
    "duration": 28,
    "start_time": "2025-03-21T21:26:16.481Z"
   },
   {
    "duration": 5,
    "start_time": "2025-03-21T21:26:16.511Z"
   },
   {
    "duration": 698,
    "start_time": "2025-03-21T21:26:16.517Z"
   },
   {
    "duration": 22,
    "start_time": "2025-03-21T21:26:17.217Z"
   },
   {
    "duration": 17,
    "start_time": "2025-03-21T21:26:17.241Z"
   },
   {
    "duration": 7,
    "start_time": "2025-03-21T21:26:17.260Z"
   },
   {
    "duration": 629,
    "start_time": "2025-03-21T21:26:17.313Z"
   },
   {
    "duration": 10,
    "start_time": "2025-03-21T21:26:17.945Z"
   },
   {
    "duration": 11,
    "start_time": "2025-03-21T21:26:17.956Z"
   },
   {
    "duration": 43,
    "start_time": "2025-03-21T21:26:17.970Z"
   },
   {
    "duration": 3,
    "start_time": "2025-03-21T21:26:18.014Z"
   },
   {
    "duration": 4,
    "start_time": "2025-03-21T21:26:18.018Z"
   },
   {
    "duration": 5,
    "start_time": "2025-03-21T21:26:18.025Z"
   },
   {
    "duration": 90,
    "start_time": "2025-03-21T21:26:18.031Z"
   },
   {
    "duration": 559,
    "start_time": "2025-03-21T21:26:18.122Z"
   },
   {
    "duration": 64,
    "start_time": "2025-03-21T21:31:29.098Z"
   },
   {
    "duration": 1879,
    "start_time": "2025-03-21T21:47:00.712Z"
   },
   {
    "duration": 1866,
    "start_time": "2025-03-21T21:47:20.585Z"
   },
   {
    "duration": 1941,
    "start_time": "2025-03-21T21:47:36.070Z"
   },
   {
    "duration": 1024,
    "start_time": "2025-03-21T21:55:11.867Z"
   },
   {
    "duration": 88,
    "start_time": "2025-03-21T21:55:12.893Z"
   },
   {
    "duration": 86,
    "start_time": "2025-03-21T21:55:12.983Z"
   },
   {
    "duration": 89,
    "start_time": "2025-03-21T21:55:13.071Z"
   },
   {
    "duration": 11,
    "start_time": "2025-03-21T21:55:13.162Z"
   },
   {
    "duration": 8,
    "start_time": "2025-03-21T21:55:13.175Z"
   },
   {
    "duration": 50,
    "start_time": "2025-03-21T21:55:13.185Z"
   },
   {
    "duration": 11,
    "start_time": "2025-03-21T21:55:13.237Z"
   },
   {
    "duration": 8,
    "start_time": "2025-03-21T21:55:13.249Z"
   },
   {
    "duration": 54,
    "start_time": "2025-03-21T21:55:13.261Z"
   },
   {
    "duration": 12,
    "start_time": "2025-03-21T21:55:13.316Z"
   },
   {
    "duration": 8,
    "start_time": "2025-03-21T21:55:13.330Z"
   },
   {
    "duration": 34,
    "start_time": "2025-03-21T21:55:13.339Z"
   },
   {
    "duration": 567,
    "start_time": "2025-03-21T21:55:13.374Z"
   },
   {
    "duration": 16,
    "start_time": "2025-03-21T21:55:13.943Z"
   },
   {
    "duration": 12,
    "start_time": "2025-03-21T21:55:13.961Z"
   },
   {
    "duration": 36,
    "start_time": "2025-03-21T21:55:13.974Z"
   },
   {
    "duration": 625,
    "start_time": "2025-03-21T21:55:14.012Z"
   },
   {
    "duration": 13,
    "start_time": "2025-03-21T21:55:14.639Z"
   },
   {
    "duration": 12,
    "start_time": "2025-03-21T21:55:14.653Z"
   },
   {
    "duration": 43,
    "start_time": "2025-03-21T21:55:14.667Z"
   },
   {
    "duration": 622,
    "start_time": "2025-03-21T21:55:14.712Z"
   },
   {
    "duration": 12,
    "start_time": "2025-03-21T21:55:15.335Z"
   },
   {
    "duration": 9,
    "start_time": "2025-03-21T21:55:15.349Z"
   },
   {
    "duration": 50,
    "start_time": "2025-03-21T21:55:15.360Z"
   },
   {
    "duration": 3,
    "start_time": "2025-03-21T21:55:15.411Z"
   },
   {
    "duration": 3,
    "start_time": "2025-03-21T21:55:15.416Z"
   },
   {
    "duration": 4,
    "start_time": "2025-03-21T21:55:15.423Z"
   },
   {
    "duration": 90,
    "start_time": "2025-03-21T21:55:15.429Z"
   },
   {
    "duration": 1924,
    "start_time": "2025-03-21T21:55:15.521Z"
   }
  ],
  "kernelspec": {
   "display_name": "Python 3 (ipykernel)",
   "language": "python",
   "name": "python3"
  },
  "language_info": {
   "codemirror_mode": {
    "name": "ipython",
    "version": 3
   },
   "file_extension": ".py",
   "mimetype": "text/x-python",
   "name": "python",
   "nbconvert_exporter": "python",
   "pygments_lexer": "ipython3",
   "version": "3.9.19"
  },
  "toc": {
   "base_numbering": 1,
   "nav_menu": {},
   "number_sections": true,
   "sideBar": true,
   "skip_h1_title": true,
   "title_cell": "Table of Contents",
   "title_sidebar": "Contents",
   "toc_cell": false,
   "toc_position": {
    "height": "calc(100% - 180px)",
    "left": "10px",
    "top": "150px",
    "width": "235.6px"
   },
   "toc_section_display": true,
   "toc_window_display": true
  }
 },
 "nbformat": 4,
 "nbformat_minor": 2
}
