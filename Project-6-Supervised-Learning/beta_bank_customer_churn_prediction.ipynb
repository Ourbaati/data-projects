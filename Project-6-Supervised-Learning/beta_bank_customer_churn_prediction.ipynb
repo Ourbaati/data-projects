{
 "cells": [
  {
   "cell_type": "markdown",
   "metadata": {},
   "source": [
    "<h1 style='text-align: center; front-size: 50px;'>Will the customer leave our bank soon?</h1>"
   ]
  },
  {
   "cell_type": "markdown",
   "metadata": {},
   "source": [
    "# Introduction:\n",
    "\n",
    "In this project, we will analyze data from **Beta Bank**, which is working to reduce customer churn. Our goal is to identify patterns in customer behavior and preferences to predict whether a customer is likely to leave the bank. This will help improve customer experience and determine whether it is more cost-effective to retain existing customers rather than acquire new ones.\n",
    "The dataset, stored at /datasets/Churn.csv, will be preprocessed and analyzed following these steps:\n",
    "\n",
    "- Load and format the dataset in a standardized manner.\n",
    "- Verify and correct data types.\n",
    "- Identify and handle missing values.\n",
    "- Detect and remove duplicate entries.\n",
    "- Build a predictive model with an F1 score of at least 0.59.\n",
    "\n",
    "By following this structured approach, we aim to generate actionable insights that will inform business strategies for reducing churn and improving customer retention."
   ]
  },
  {
   "cell_type": "markdown",
   "metadata": {},
   "source": [
    "# Step 1. Initialization:"
   ]
  },
  {
   "cell_type": "code",
   "execution_count": 1,
   "metadata": {},
   "outputs": [],
   "source": [
    "# Loading all the libraries\n",
    "import pandas as pd\n",
    "import numpy as np\n",
    "import matplotlib.pyplot as plt\n",
    "from sklearn.model_selection import train_test_split\n",
    "from sklearn.ensemble import RandomForestClassifier\n",
    "from sklearn.metrics import accuracy_score, f1_score, roc_auc_score\n",
    "from sklearn.linear_model import LogisticRegression\n",
    "from sklearn.utils import shuffle\n",
    "from sklearn.preprocessing import StandardScaler\n",
    "from sklearn.preprocessing import LabelEncoder, OneHotEncoder\n",
    "from sklearn.compose import ColumnTransformer\n",
    "from sklearn.metrics import classification_report"
   ]
  },
  {
   "cell_type": "markdown",
   "metadata": {},
   "source": [
    "# Step 2. Load data:"
   ]
  },
  {
   "cell_type": "code",
   "execution_count": 2,
   "metadata": {},
   "outputs": [],
   "source": [
    "# Loading the data file:\n",
    "churn_rate = pd.read_csv('/datasets/Churn.csv')"
   ]
  },
  {
   "cell_type": "markdown",
   "metadata": {},
   "source": [
    "# Step 3. Preparing and Fixing the Data:"
   ]
  },
  {
   "cell_type": "code",
   "execution_count": 3,
   "metadata": {},
   "outputs": [
    {
     "data": {
      "text/html": [
       "<div>\n",
       "<style scoped>\n",
       "    .dataframe tbody tr th:only-of-type {\n",
       "        vertical-align: middle;\n",
       "    }\n",
       "\n",
       "    .dataframe tbody tr th {\n",
       "        vertical-align: top;\n",
       "    }\n",
       "\n",
       "    .dataframe thead th {\n",
       "        text-align: right;\n",
       "    }\n",
       "</style>\n",
       "<table border=\"1\" class=\"dataframe\">\n",
       "  <thead>\n",
       "    <tr style=\"text-align: right;\">\n",
       "      <th></th>\n",
       "      <th>RowNumber</th>\n",
       "      <th>CustomerId</th>\n",
       "      <th>Surname</th>\n",
       "      <th>CreditScore</th>\n",
       "      <th>Geography</th>\n",
       "      <th>Gender</th>\n",
       "      <th>Age</th>\n",
       "      <th>Tenure</th>\n",
       "      <th>Balance</th>\n",
       "      <th>NumOfProducts</th>\n",
       "      <th>HasCrCard</th>\n",
       "      <th>IsActiveMember</th>\n",
       "      <th>EstimatedSalary</th>\n",
       "      <th>Exited</th>\n",
       "    </tr>\n",
       "  </thead>\n",
       "  <tbody>\n",
       "    <tr>\n",
       "      <th>0</th>\n",
       "      <td>1</td>\n",
       "      <td>15634602</td>\n",
       "      <td>Hargrave</td>\n",
       "      <td>619</td>\n",
       "      <td>France</td>\n",
       "      <td>Female</td>\n",
       "      <td>42</td>\n",
       "      <td>2.0</td>\n",
       "      <td>0.00</td>\n",
       "      <td>1</td>\n",
       "      <td>1</td>\n",
       "      <td>1</td>\n",
       "      <td>101348.88</td>\n",
       "      <td>1</td>\n",
       "    </tr>\n",
       "    <tr>\n",
       "      <th>1</th>\n",
       "      <td>2</td>\n",
       "      <td>15647311</td>\n",
       "      <td>Hill</td>\n",
       "      <td>608</td>\n",
       "      <td>Spain</td>\n",
       "      <td>Female</td>\n",
       "      <td>41</td>\n",
       "      <td>1.0</td>\n",
       "      <td>83807.86</td>\n",
       "      <td>1</td>\n",
       "      <td>0</td>\n",
       "      <td>1</td>\n",
       "      <td>112542.58</td>\n",
       "      <td>0</td>\n",
       "    </tr>\n",
       "    <tr>\n",
       "      <th>2</th>\n",
       "      <td>3</td>\n",
       "      <td>15619304</td>\n",
       "      <td>Onio</td>\n",
       "      <td>502</td>\n",
       "      <td>France</td>\n",
       "      <td>Female</td>\n",
       "      <td>42</td>\n",
       "      <td>8.0</td>\n",
       "      <td>159660.80</td>\n",
       "      <td>3</td>\n",
       "      <td>1</td>\n",
       "      <td>0</td>\n",
       "      <td>113931.57</td>\n",
       "      <td>1</td>\n",
       "    </tr>\n",
       "    <tr>\n",
       "      <th>3</th>\n",
       "      <td>4</td>\n",
       "      <td>15701354</td>\n",
       "      <td>Boni</td>\n",
       "      <td>699</td>\n",
       "      <td>France</td>\n",
       "      <td>Female</td>\n",
       "      <td>39</td>\n",
       "      <td>1.0</td>\n",
       "      <td>0.00</td>\n",
       "      <td>2</td>\n",
       "      <td>0</td>\n",
       "      <td>0</td>\n",
       "      <td>93826.63</td>\n",
       "      <td>0</td>\n",
       "    </tr>\n",
       "    <tr>\n",
       "      <th>4</th>\n",
       "      <td>5</td>\n",
       "      <td>15737888</td>\n",
       "      <td>Mitchell</td>\n",
       "      <td>850</td>\n",
       "      <td>Spain</td>\n",
       "      <td>Female</td>\n",
       "      <td>43</td>\n",
       "      <td>2.0</td>\n",
       "      <td>125510.82</td>\n",
       "      <td>1</td>\n",
       "      <td>1</td>\n",
       "      <td>1</td>\n",
       "      <td>79084.10</td>\n",
       "      <td>0</td>\n",
       "    </tr>\n",
       "  </tbody>\n",
       "</table>\n",
       "</div>"
      ],
      "text/plain": [
       "   RowNumber  CustomerId   Surname  CreditScore Geography  Gender  Age  \\\n",
       "0          1    15634602  Hargrave          619    France  Female   42   \n",
       "1          2    15647311      Hill          608     Spain  Female   41   \n",
       "2          3    15619304      Onio          502    France  Female   42   \n",
       "3          4    15701354      Boni          699    France  Female   39   \n",
       "4          5    15737888  Mitchell          850     Spain  Female   43   \n",
       "\n",
       "   Tenure    Balance  NumOfProducts  HasCrCard  IsActiveMember  \\\n",
       "0     2.0       0.00              1          1               1   \n",
       "1     1.0   83807.86              1          0               1   \n",
       "2     8.0  159660.80              3          1               0   \n",
       "3     1.0       0.00              2          0               0   \n",
       "4     2.0  125510.82              1          1               1   \n",
       "\n",
       "   EstimatedSalary  Exited  \n",
       "0        101348.88       1  \n",
       "1        112542.58       0  \n",
       "2        113931.57       1  \n",
       "3         93826.63       0  \n",
       "4         79084.10       0  "
      ]
     },
     "execution_count": 3,
     "metadata": {},
     "output_type": "execute_result"
    }
   ],
   "source": [
    "# Printing the DataFrame:\n",
    "churn_rate.head()"
   ]
  },
  {
   "cell_type": "code",
   "execution_count": 4,
   "metadata": {},
   "outputs": [
    {
     "data": {
      "text/html": [
       "<div>\n",
       "<style scoped>\n",
       "    .dataframe tbody tr th:only-of-type {\n",
       "        vertical-align: middle;\n",
       "    }\n",
       "\n",
       "    .dataframe tbody tr th {\n",
       "        vertical-align: top;\n",
       "    }\n",
       "\n",
       "    .dataframe thead th {\n",
       "        text-align: right;\n",
       "    }\n",
       "</style>\n",
       "<table border=\"1\" class=\"dataframe\">\n",
       "  <thead>\n",
       "    <tr style=\"text-align: right;\">\n",
       "      <th></th>\n",
       "      <th>CreditScore</th>\n",
       "      <th>Geography</th>\n",
       "      <th>Gender</th>\n",
       "      <th>Age</th>\n",
       "      <th>Tenure</th>\n",
       "      <th>Balance</th>\n",
       "      <th>NumOfProducts</th>\n",
       "      <th>HasCrCard</th>\n",
       "      <th>IsActiveMember</th>\n",
       "      <th>EstimatedSalary</th>\n",
       "      <th>Exited</th>\n",
       "    </tr>\n",
       "  </thead>\n",
       "  <tbody>\n",
       "    <tr>\n",
       "      <th>0</th>\n",
       "      <td>619</td>\n",
       "      <td>France</td>\n",
       "      <td>Female</td>\n",
       "      <td>42</td>\n",
       "      <td>2.0</td>\n",
       "      <td>0.00</td>\n",
       "      <td>1</td>\n",
       "      <td>1</td>\n",
       "      <td>1</td>\n",
       "      <td>101348.88</td>\n",
       "      <td>1</td>\n",
       "    </tr>\n",
       "    <tr>\n",
       "      <th>1</th>\n",
       "      <td>608</td>\n",
       "      <td>Spain</td>\n",
       "      <td>Female</td>\n",
       "      <td>41</td>\n",
       "      <td>1.0</td>\n",
       "      <td>83807.86</td>\n",
       "      <td>1</td>\n",
       "      <td>0</td>\n",
       "      <td>1</td>\n",
       "      <td>112542.58</td>\n",
       "      <td>0</td>\n",
       "    </tr>\n",
       "    <tr>\n",
       "      <th>2</th>\n",
       "      <td>502</td>\n",
       "      <td>France</td>\n",
       "      <td>Female</td>\n",
       "      <td>42</td>\n",
       "      <td>8.0</td>\n",
       "      <td>159660.80</td>\n",
       "      <td>3</td>\n",
       "      <td>1</td>\n",
       "      <td>0</td>\n",
       "      <td>113931.57</td>\n",
       "      <td>1</td>\n",
       "    </tr>\n",
       "    <tr>\n",
       "      <th>3</th>\n",
       "      <td>699</td>\n",
       "      <td>France</td>\n",
       "      <td>Female</td>\n",
       "      <td>39</td>\n",
       "      <td>1.0</td>\n",
       "      <td>0.00</td>\n",
       "      <td>2</td>\n",
       "      <td>0</td>\n",
       "      <td>0</td>\n",
       "      <td>93826.63</td>\n",
       "      <td>0</td>\n",
       "    </tr>\n",
       "    <tr>\n",
       "      <th>4</th>\n",
       "      <td>850</td>\n",
       "      <td>Spain</td>\n",
       "      <td>Female</td>\n",
       "      <td>43</td>\n",
       "      <td>2.0</td>\n",
       "      <td>125510.82</td>\n",
       "      <td>1</td>\n",
       "      <td>1</td>\n",
       "      <td>1</td>\n",
       "      <td>79084.10</td>\n",
       "      <td>0</td>\n",
       "    </tr>\n",
       "  </tbody>\n",
       "</table>\n",
       "</div>"
      ],
      "text/plain": [
       "   CreditScore Geography  Gender  Age  Tenure    Balance  NumOfProducts  \\\n",
       "0          619    France  Female   42     2.0       0.00              1   \n",
       "1          608     Spain  Female   41     1.0   83807.86              1   \n",
       "2          502    France  Female   42     8.0  159660.80              3   \n",
       "3          699    France  Female   39     1.0       0.00              2   \n",
       "4          850     Spain  Female   43     2.0  125510.82              1   \n",
       "\n",
       "   HasCrCard  IsActiveMember  EstimatedSalary  Exited  \n",
       "0          1               1        101348.88       1  \n",
       "1          0               1        112542.58       0  \n",
       "2          1               0        113931.57       1  \n",
       "3          0               0         93826.63       0  \n",
       "4          1               1         79084.10       0  "
      ]
     },
     "execution_count": 4,
     "metadata": {},
     "output_type": "execute_result"
    }
   ],
   "source": [
    "# Dropping unnecessary columns:\n",
    "churn_rate.drop(columns=[\"RowNumber\", \"CustomerId\", \"Surname\"], inplace=True)\n",
    "churn_rate.head()"
   ]
  },
  {
   "cell_type": "code",
   "execution_count": 5,
   "metadata": {},
   "outputs": [
    {
     "data": {
      "text/html": [
       "<div>\n",
       "<style scoped>\n",
       "    .dataframe tbody tr th:only-of-type {\n",
       "        vertical-align: middle;\n",
       "    }\n",
       "\n",
       "    .dataframe tbody tr th {\n",
       "        vertical-align: top;\n",
       "    }\n",
       "\n",
       "    .dataframe thead th {\n",
       "        text-align: right;\n",
       "    }\n",
       "</style>\n",
       "<table border=\"1\" class=\"dataframe\">\n",
       "  <thead>\n",
       "    <tr style=\"text-align: right;\">\n",
       "      <th></th>\n",
       "      <th>credit_score</th>\n",
       "      <th>geography</th>\n",
       "      <th>gender</th>\n",
       "      <th>age</th>\n",
       "      <th>tenure</th>\n",
       "      <th>balance</th>\n",
       "      <th>num_of_products</th>\n",
       "      <th>has_cr_card</th>\n",
       "      <th>is_active_member</th>\n",
       "      <th>estimated_salary</th>\n",
       "      <th>exited</th>\n",
       "    </tr>\n",
       "  </thead>\n",
       "  <tbody>\n",
       "    <tr>\n",
       "      <th>0</th>\n",
       "      <td>619</td>\n",
       "      <td>France</td>\n",
       "      <td>Female</td>\n",
       "      <td>42</td>\n",
       "      <td>2.0</td>\n",
       "      <td>0.00</td>\n",
       "      <td>1</td>\n",
       "      <td>1</td>\n",
       "      <td>1</td>\n",
       "      <td>101348.88</td>\n",
       "      <td>1</td>\n",
       "    </tr>\n",
       "    <tr>\n",
       "      <th>1</th>\n",
       "      <td>608</td>\n",
       "      <td>Spain</td>\n",
       "      <td>Female</td>\n",
       "      <td>41</td>\n",
       "      <td>1.0</td>\n",
       "      <td>83807.86</td>\n",
       "      <td>1</td>\n",
       "      <td>0</td>\n",
       "      <td>1</td>\n",
       "      <td>112542.58</td>\n",
       "      <td>0</td>\n",
       "    </tr>\n",
       "    <tr>\n",
       "      <th>2</th>\n",
       "      <td>502</td>\n",
       "      <td>France</td>\n",
       "      <td>Female</td>\n",
       "      <td>42</td>\n",
       "      <td>8.0</td>\n",
       "      <td>159660.80</td>\n",
       "      <td>3</td>\n",
       "      <td>1</td>\n",
       "      <td>0</td>\n",
       "      <td>113931.57</td>\n",
       "      <td>1</td>\n",
       "    </tr>\n",
       "    <tr>\n",
       "      <th>3</th>\n",
       "      <td>699</td>\n",
       "      <td>France</td>\n",
       "      <td>Female</td>\n",
       "      <td>39</td>\n",
       "      <td>1.0</td>\n",
       "      <td>0.00</td>\n",
       "      <td>2</td>\n",
       "      <td>0</td>\n",
       "      <td>0</td>\n",
       "      <td>93826.63</td>\n",
       "      <td>0</td>\n",
       "    </tr>\n",
       "    <tr>\n",
       "      <th>4</th>\n",
       "      <td>850</td>\n",
       "      <td>Spain</td>\n",
       "      <td>Female</td>\n",
       "      <td>43</td>\n",
       "      <td>2.0</td>\n",
       "      <td>125510.82</td>\n",
       "      <td>1</td>\n",
       "      <td>1</td>\n",
       "      <td>1</td>\n",
       "      <td>79084.10</td>\n",
       "      <td>0</td>\n",
       "    </tr>\n",
       "  </tbody>\n",
       "</table>\n",
       "</div>"
      ],
      "text/plain": [
       "   credit_score geography  gender  age  tenure    balance  num_of_products  \\\n",
       "0           619    France  Female   42     2.0       0.00                1   \n",
       "1           608     Spain  Female   41     1.0   83807.86                1   \n",
       "2           502    France  Female   42     8.0  159660.80                3   \n",
       "3           699    France  Female   39     1.0       0.00                2   \n",
       "4           850     Spain  Female   43     2.0  125510.82                1   \n",
       "\n",
       "   has_cr_card  is_active_member  estimated_salary  exited  \n",
       "0            1                 1         101348.88       1  \n",
       "1            0                 1         112542.58       0  \n",
       "2            1                 0         113931.57       1  \n",
       "3            0                 0          93826.63       0  \n",
       "4            1                 1          79084.10       0  "
      ]
     },
     "execution_count": 5,
     "metadata": {},
     "output_type": "execute_result"
    }
   ],
   "source": [
    "# Renaming columns names:\n",
    "churn_rate = churn_rate.rename(columns={'CreditScore': 'credit_score',\n",
    "                             'Geography': 'geography',\n",
    "                             'Gender': 'gender',\n",
    "                             'Age': 'age',\n",
    "                             'Tenure': 'tenure',\n",
    "                             'Balance': 'balance',\n",
    "                             'NumOfProducts': 'num_of_products',\n",
    "                             'HasCrCard': 'has_cr_card',\n",
    "                             'IsActiveMember': 'is_active_member',\n",
    "                             'EstimatedSalary': 'estimated_salary',\n",
    "                             'Exited': 'exited'}\n",
    "                    )\n",
    "churn_rate.head()"
   ]
  },
  {
   "cell_type": "code",
   "execution_count": 6,
   "metadata": {},
   "outputs": [
    {
     "name": "stdout",
     "output_type": "stream",
     "text": [
      "<class 'pandas.core.frame.DataFrame'>\n",
      "RangeIndex: 10000 entries, 0 to 9999\n",
      "Data columns (total 11 columns):\n",
      " #   Column            Non-Null Count  Dtype  \n",
      "---  ------            --------------  -----  \n",
      " 0   credit_score      10000 non-null  int64  \n",
      " 1   geography         10000 non-null  object \n",
      " 2   gender            10000 non-null  object \n",
      " 3   age               10000 non-null  int64  \n",
      " 4   tenure            9091 non-null   float64\n",
      " 5   balance           10000 non-null  float64\n",
      " 6   num_of_products   10000 non-null  int64  \n",
      " 7   has_cr_card       10000 non-null  int64  \n",
      " 8   is_active_member  10000 non-null  int64  \n",
      " 9   estimated_salary  10000 non-null  float64\n",
      " 10  exited            10000 non-null  int64  \n",
      "dtypes: float64(3), int64(6), object(2)\n",
      "memory usage: 859.5+ KB\n"
     ]
    }
   ],
   "source": [
    "# Data overview:\n",
    "churn_rate.info()"
   ]
  },
  {
   "cell_type": "code",
   "execution_count": 7,
   "metadata": {},
   "outputs": [
    {
     "data": {
      "text/plain": [
       "credit_score          0\n",
       "geography             0\n",
       "gender                0\n",
       "age                   0\n",
       "tenure              909\n",
       "balance               0\n",
       "num_of_products       0\n",
       "has_cr_card           0\n",
       "is_active_member      0\n",
       "estimated_salary      0\n",
       "exited                0\n",
       "dtype: int64"
      ]
     },
     "execution_count": 7,
     "metadata": {},
     "output_type": "execute_result"
    }
   ],
   "source": [
    "# Checking for missing values:\n",
    "churn_rate.isna().sum()"
   ]
  },
  {
   "cell_type": "code",
   "execution_count": 8,
   "metadata": {},
   "outputs": [
    {
     "data": {
      "text/plain": [
       "count    9091.000000\n",
       "mean        4.997690\n",
       "std         2.894723\n",
       "min         0.000000\n",
       "25%         2.000000\n",
       "50%         5.000000\n",
       "75%         7.000000\n",
       "max        10.000000\n",
       "Name: tenure, dtype: float64"
      ]
     },
     "execution_count": 8,
     "metadata": {},
     "output_type": "execute_result"
    }
   ],
   "source": [
    "churn_rate['tenure'].describe()"
   ]
  },
  {
   "cell_type": "code",
   "execution_count": 9,
   "metadata": {},
   "outputs": [],
   "source": [
    "# Filling missing values on Tenure with the median:\n",
    "churn_rate['tenure'].fillna(churn_rate['tenure'].median(), inplace=True)"
   ]
  },
  {
   "cell_type": "code",
   "execution_count": 10,
   "metadata": {},
   "outputs": [
    {
     "data": {
      "text/plain": [
       "0"
      ]
     },
     "execution_count": 10,
     "metadata": {},
     "output_type": "execute_result"
    }
   ],
   "source": [
    "# Checking for duplicates:\n",
    "churn_rate.duplicated().sum()"
   ]
  },
  {
   "cell_type": "code",
   "execution_count": 11,
   "metadata": {},
   "outputs": [
    {
     "data": {
      "text/html": [
       "<div>\n",
       "<style scoped>\n",
       "    .dataframe tbody tr th:only-of-type {\n",
       "        vertical-align: middle;\n",
       "    }\n",
       "\n",
       "    .dataframe tbody tr th {\n",
       "        vertical-align: top;\n",
       "    }\n",
       "\n",
       "    .dataframe thead th {\n",
       "        text-align: right;\n",
       "    }\n",
       "</style>\n",
       "<table border=\"1\" class=\"dataframe\">\n",
       "  <thead>\n",
       "    <tr style=\"text-align: right;\">\n",
       "      <th></th>\n",
       "      <th>credit_score</th>\n",
       "      <th>age</th>\n",
       "      <th>tenure</th>\n",
       "      <th>balance</th>\n",
       "      <th>num_of_products</th>\n",
       "      <th>has_cr_card</th>\n",
       "      <th>is_active_member</th>\n",
       "      <th>estimated_salary</th>\n",
       "      <th>exited</th>\n",
       "      <th>geography_Germany</th>\n",
       "      <th>geography_Spain</th>\n",
       "      <th>gender_Male</th>\n",
       "    </tr>\n",
       "  </thead>\n",
       "  <tbody>\n",
       "    <tr>\n",
       "      <th>0</th>\n",
       "      <td>619</td>\n",
       "      <td>42</td>\n",
       "      <td>2.0</td>\n",
       "      <td>0.00</td>\n",
       "      <td>1</td>\n",
       "      <td>1</td>\n",
       "      <td>1</td>\n",
       "      <td>101348.88</td>\n",
       "      <td>1</td>\n",
       "      <td>0</td>\n",
       "      <td>0</td>\n",
       "      <td>0</td>\n",
       "    </tr>\n",
       "    <tr>\n",
       "      <th>1</th>\n",
       "      <td>608</td>\n",
       "      <td>41</td>\n",
       "      <td>1.0</td>\n",
       "      <td>83807.86</td>\n",
       "      <td>1</td>\n",
       "      <td>0</td>\n",
       "      <td>1</td>\n",
       "      <td>112542.58</td>\n",
       "      <td>0</td>\n",
       "      <td>0</td>\n",
       "      <td>1</td>\n",
       "      <td>0</td>\n",
       "    </tr>\n",
       "    <tr>\n",
       "      <th>2</th>\n",
       "      <td>502</td>\n",
       "      <td>42</td>\n",
       "      <td>8.0</td>\n",
       "      <td>159660.80</td>\n",
       "      <td>3</td>\n",
       "      <td>1</td>\n",
       "      <td>0</td>\n",
       "      <td>113931.57</td>\n",
       "      <td>1</td>\n",
       "      <td>0</td>\n",
       "      <td>0</td>\n",
       "      <td>0</td>\n",
       "    </tr>\n",
       "    <tr>\n",
       "      <th>3</th>\n",
       "      <td>699</td>\n",
       "      <td>39</td>\n",
       "      <td>1.0</td>\n",
       "      <td>0.00</td>\n",
       "      <td>2</td>\n",
       "      <td>0</td>\n",
       "      <td>0</td>\n",
       "      <td>93826.63</td>\n",
       "      <td>0</td>\n",
       "      <td>0</td>\n",
       "      <td>0</td>\n",
       "      <td>0</td>\n",
       "    </tr>\n",
       "    <tr>\n",
       "      <th>4</th>\n",
       "      <td>850</td>\n",
       "      <td>43</td>\n",
       "      <td>2.0</td>\n",
       "      <td>125510.82</td>\n",
       "      <td>1</td>\n",
       "      <td>1</td>\n",
       "      <td>1</td>\n",
       "      <td>79084.10</td>\n",
       "      <td>0</td>\n",
       "      <td>0</td>\n",
       "      <td>1</td>\n",
       "      <td>0</td>\n",
       "    </tr>\n",
       "  </tbody>\n",
       "</table>\n",
       "</div>"
      ],
      "text/plain": [
       "   credit_score  age  tenure    balance  num_of_products  has_cr_card  \\\n",
       "0           619   42     2.0       0.00                1            1   \n",
       "1           608   41     1.0   83807.86                1            0   \n",
       "2           502   42     8.0  159660.80                3            1   \n",
       "3           699   39     1.0       0.00                2            0   \n",
       "4           850   43     2.0  125510.82                1            1   \n",
       "\n",
       "   is_active_member  estimated_salary  exited  geography_Germany  \\\n",
       "0                 1         101348.88       1                  0   \n",
       "1                 1         112542.58       0                  0   \n",
       "2                 0         113931.57       1                  0   \n",
       "3                 0          93826.63       0                  0   \n",
       "4                 1          79084.10       0                  0   \n",
       "\n",
       "   geography_Spain  gender_Male  \n",
       "0                0            0  \n",
       "1                1            0  \n",
       "2                0            0  \n",
       "3                0            0  \n",
       "4                1            0  "
      ]
     },
     "execution_count": 11,
     "metadata": {},
     "output_type": "execute_result"
    }
   ],
   "source": [
    "# Converting Categorical Variables\n",
    "churn_rate = pd.get_dummies(churn_rate, columns=['geography', 'gender'], drop_first=True)\n",
    "churn_rate.head()"
   ]
  },
  {
   "cell_type": "markdown",
   "metadata": {},
   "source": [
    "# Step 4. Analyzing the data:"
   ]
  },
  {
   "cell_type": "code",
   "execution_count": 12,
   "metadata": {},
   "outputs": [
    {
     "data": {
      "image/png": "[encoded data removed]",
      "text/plain": [
       "<Figure size 600x400 with 1 Axes>"
      ]
     },
     "metadata": {},
     "output_type": "display_data"
    }
   ],
   "source": [
    "# Plotting Churn Rate distribution\n",
    "plt.figure(figsize=(6, 4))\n",
    "churn_rate['exited'].value_counts().plot(kind='bar', color=['blue', 'red'])\n",
    "plt.xticks(ticks=[0, 1], labels=['Stayed (0)', 'Exited (1)'], rotation=0)\n",
    "plt.xlabel('Customer Status')\n",
    "plt.ylabel('Count')\n",
    "plt.title('Churn Distribution in the Dataset')\n",
    "plt.show()"
   ]
  },
  {
   "cell_type": "markdown",
   "metadata": {},
   "source": [
    "The bar chart shows a class imbalance, with significantly more individuals who **stayed** compered to those who **exited**. This imbalance can lead to model bias, making predictions favor the majority class."
   ]
  },
  {
   "cell_type": "code",
   "execution_count": 13,
   "metadata": {},
   "outputs": [
    {
     "name": "stdout",
     "output_type": "stream",
     "text": [
      "Training Set: (6999, 12)\n",
      "Validation Set: (1501, 12)\n",
      "Test Set: (1500, 12)\n"
     ]
    }
   ],
   "source": [
    "# First split to separate out the test set\n",
    "train_churn_rate, test_churn_rate = train_test_split(churn_rate, test_size=0.15, random_state=42)\n",
    "\n",
    "# Second split to separate the training data into training and validation sets\n",
    "train_churn_rate, validation_churn_rate = train_test_split(train_churn_rate, test_size=0.1765, random_state=42)\n",
    "\n",
    "# Checking the sizes to ensure correct splitting\n",
    "print(f\"Training Set: {train_churn_rate.shape}\")\n",
    "print(f\"Validation Set: {validation_churn_rate.shape}\")\n",
    "print(f\"Test Set: {test_churn_rate.shape}\")"
   ]
  },
  {
   "cell_type": "code",
   "execution_count": 14,
   "metadata": {},
   "outputs": [
    {
     "name": "stdout",
     "output_type": "stream",
     "text": [
      "n_estimators: 10, Accuracy: 0.8694, F1-Score: 0.6216\n",
      "n_estimators: 20, Accuracy: 0.8694, F1-Score: 0.6172\n",
      "n_estimators: 30, Accuracy: 0.8761, F1-Score: 0.6381\n",
      "n_estimators: 40, Accuracy: 0.8734, F1-Score: 0.6360\n",
      "n_estimators: 50, Accuracy: 0.8668, F1-Score: 0.6198\n"
     ]
    }
   ],
   "source": [
    "# Splitting features and target:\n",
    "X_train = train_churn_rate.drop('exited', axis=1)\n",
    "y_train = train_churn_rate['exited']\n",
    "\n",
    "X_val = validation_churn_rate.drop('exited', axis=1)\n",
    "y_val = validation_churn_rate['exited']\n",
    "\n",
    "# Investigating Random Tree:\n",
    "forest_results = []\n",
    "for n_estimators in range(10, 60, 10):\n",
    "    model = RandomForestClassifier(n_estimators=n_estimators, random_state=42)\n",
    "    model.fit(X_train, y_train)\n",
    "    \n",
    "    y_prediction = model.predict(X_val)\n",
    "    \n",
    "    accuracy = accuracy_score(y_val, y_prediction)\n",
    "    f1 = f1_score(y_val, y_prediction)\n",
    "    \n",
    "    forest_results.append((n_estimators, accuracy, f1))\n",
    "for n_estimators, accuracy, f1 in forest_results:\n",
    "    print(f'n_estimators: {n_estimators}, Accuracy: {accuracy:.4f}, F1-Score: {f1:.4f}')"
   ]
  },
  {
   "cell_type": "markdown",
   "metadata": {},
   "source": [
    "The optimal number of trees is 30 achieving the highest validation accuracy (0.8761) and the best **F1-Score=0.6381**. Beyond this, accuracy declines, anf the F1-Score drops, indicating overfitting at larger number of trees."
   ]
  },
  {
   "cell_type": "code",
   "execution_count": 15,
   "metadata": {},
   "outputs": [
    {
     "name": "stdout",
     "output_type": "stream",
     "text": [
      "Accuracy: 0.7828, F1-Score: 0.0944\n"
     ]
    }
   ],
   "source": [
    "# Splitting features and target:\n",
    "X_train = train_churn_rate.drop('exited', axis=1)\n",
    "y_train = train_churn_rate['exited']\n",
    "\n",
    "X_val = validation_churn_rate.drop('exited', axis=1)\n",
    "y_val = validation_churn_rate['exited']\n",
    "\n",
    "# Investigating Logistic Regression:\n",
    "logistic_results = []\n",
    "\n",
    "model = LogisticRegression(max_iter=1000, random_state=42)\n",
    "model.fit(X_train, y_train)\n",
    "\n",
    "y_prediction = model.predict(X_val)\n",
    "\n",
    "accuracy = accuracy_score(y_val, y_prediction)\n",
    "f1 = f1_score(y_val, y_prediction)\n",
    "\n",
    "logistic_results.append(('Logistic Regression', accuracy, f1))\n",
    "\n",
    "# Displaying the results:\n",
    "for model_name, accuracy, f1 in logistic_results:\n",
    "    print(f'Accuracy: {accuracy:.4f}, F1-Score: {f1:.4f}')"
   ]
  },
  {
   "cell_type": "markdown",
   "metadata": {},
   "source": [
    "Our model **(Logistic Regression)** achieved 78.28% accuracy but a very low F1-Score (0.0944), indicating poor performance in predicting the minority class. This confirms the class imbalancement."
   ]
  },
  {
   "cell_type": "code",
   "execution_count": 16,
   "metadata": {},
   "outputs": [
    {
     "name": "stdout",
     "output_type": "stream",
     "text": [
      "Test Accuracy:  0.8613\n",
      "Test F1-Score:  0.5720\n",
      "Test ROC-AUC Score:  0.8475\n"
     ]
    }
   ],
   "source": [
    "# Splitting features and target for the test set:\n",
    "X_test = test_churn_rate.drop('exited', axis=1)\n",
    "y_test = test_churn_rate['exited']\n",
    "\n",
    "# Using the best model (n_estimator=30):\n",
    "best_forest_model = RandomForestClassifier(n_estimators=30, random_state=42)\n",
    "best_forest_model.fit(X_train, y_train)\n",
    "\n",
    "# Making prediction on the test set:\n",
    "y_test_pred_forest = best_forest_model.predict(X_test)\n",
    "y_test_prob_forest = best_forest_model.predict_proba(X_test)[:, 1]\n",
    "\n",
    "# Evaluating model performance on the test set:\n",
    "forest_test_accuracy = accuracy_score(y_test, y_test_pred_forest)\n",
    "forest_test_f1 = f1_score(y_test, y_test_pred_forest)\n",
    "forest_test_roc_auc = roc_auc_score(y_test, y_test_prob_forest)\n",
    "\n",
    "# Display test set results:\n",
    "print(f'Test Accuracy: {forest_test_accuracy: .4f}')\n",
    "print(f'Test F1-Score: {forest_test_f1: .4f}')\n",
    "print(f'Test ROC-AUC Score: {forest_test_roc_auc: .4f}')"
   ]
  },
  {
   "cell_type": "markdown",
   "metadata": {},
   "source": [
    "After training The Forest model using n_estimators=30, the model achieved a validation accuracy of 0.8761. When evaluated on the test set, the model achieved an accuracy of 0.8613, indicating that the model generalizes well to unseen data. However, the F1-Score (0.5720) indicates class imbalancement, meaning the model struggles with predicting the minority class. The high ROC-AUC (0.8475) indicates that the model effectively seperates churned from stayed when using probability based ranking."
   ]
  },
  {
   "cell_type": "code",
   "execution_count": 17,
   "metadata": {},
   "outputs": [
    {
     "name": "stdout",
     "output_type": "stream",
     "text": [
      "Test Accuracy: 0.8027\n",
      "Test F1-Score: 0.1138\n",
      "Test ROC-AUC Score: 0.6602\n"
     ]
    }
   ],
   "source": [
    "# Splitting features and target for the test set:\n",
    "X_test = test_churn_rate.drop('exited', axis=1)\n",
    "y_test = test_churn_rate['exited']\n",
    "\n",
    "# Using Logistic Regression model:\n",
    "logistic_model = LogisticRegression(max_iter=1000, random_state=42)\n",
    "logistic_model.fit(X_train, y_train)\n",
    "\n",
    "# Making predictions on the test set:\n",
    "y_test_pred_logistic = logistic_model.predict(X_test)\n",
    "y_test_prob_logistic = logistic_model.predict_proba(X_test)[:, 1]\n",
    "\n",
    "# Evaluating model performance on the test set:\n",
    "logistic_test_accuracy = accuracy_score(y_test, y_test_pred_logistic)\n",
    "logistic_test_f1 = f1_score(y_test, y_test_pred_logistic)\n",
    "logistic_test_roc_auc = roc_auc_score(y_test, y_test_prob_logistic)\n",
    "\n",
    "# Display test set results:\n",
    "print(f'Test Accuracy: {logistic_test_accuracy:.4f}')\n",
    "print(f'Test F1-Score: {logistic_test_f1:.4f}')\n",
    "print(f'Test ROC-AUC Score: {logistic_test_roc_auc:.4f}')"
   ]
  },
  {
   "cell_type": "markdown",
   "metadata": {},
   "source": [
    "With **F1-Score=0.1138**, our model still struggles with predicting the minority class. The **ROC-AUC=0.6602** indicates that the model lacks strong predictive power."
   ]
  },
  {
   "cell_type": "code",
   "execution_count": 18,
   "metadata": {},
   "outputs": [
    {
     "name": "stdout",
     "output_type": "stream",
     "text": [
      "Test Accuracy:  0.8420\n",
      "Test F1-Score:  0.6208\n",
      "Test ROC-AUC Score:  0.8545\n"
     ]
    }
   ],
   "source": [
    "# Train Random Forest with manually set best-guess hyperparameters:\n",
    "best_rf_model = RandomForestClassifier(\n",
    "    n_estimators=30, \n",
    "    max_depth=10, \n",
    "    min_samples_split=5, \n",
    "    min_samples_leaf=2, \n",
    "    class_weight='balanced', \n",
    "    random_state=42\n",
    ")\n",
    "\n",
    "best_rf_model.fit(X_train, y_train)\n",
    "\n",
    "# Validate on test set:\n",
    "y_pred_best = best_rf_model.predict(X_test)\n",
    "y_prob_best = best_rf_model.predict_proba(X_test)[:, 1]\n",
    "\n",
    "# Evaluate the best model:\n",
    "accuracy_best = accuracy_score(y_test, y_pred_best)\n",
    "f1_best = f1_score(y_test, y_pred_best)\n",
    "roc_auc_best = roc_auc_score(y_test, y_prob_best)\n",
    "classification_rep_best = classification_report(y_test, y_pred_best)\n",
    "\n",
    "print(f'Test Accuracy: {accuracy_best: .4f}')\n",
    "print(f'Test F1-Score: {f1_best: .4f}')\n",
    "print(f'Test ROC-AUC Score: {roc_auc_best: .4f}')"
   ]
  },
  {
   "cell_type": "markdown",
   "metadata": {},
   "source": [
    "Our model achieved **84.20%** accuracy, whith **F1-score=0.6208** and a **ROC-AUC=0.8545** indicating strong class separation. The model remains **biased toward Class 0** despite class weithning. "
   ]
  },
  {
   "cell_type": "code",
   "execution_count": 19,
   "metadata": {},
   "outputs": [
    {
     "name": "stdout",
     "output_type": "stream",
     "text": [
      "Test Accuracy:  0.8593\n",
      "Test F1-Score:  0.6318\n",
      "Test ROC-AUC Score:  0.8603\n"
     ]
    }
   ],
   "source": [
    "# Train Random Forest with manually set best-guess hyperparameters:\n",
    "best_rf_model = RandomForestClassifier(\n",
    "    n_estimators=30, \n",
    "    max_depth=10, \n",
    "    min_samples_split=5, \n",
    "    min_samples_leaf=2, \n",
    "    class_weight= {0: 1, 1: 3},\n",
    "    random_state=42\n",
    ")\n",
    "\n",
    "best_rf_model.fit(X_train, y_train)\n",
    "\n",
    "# Validate on test set:\n",
    "y_pred_best = best_rf_model.predict(X_test)\n",
    "y_prob_best = best_rf_model.predict_proba(X_test)[:, 1]\n",
    "\n",
    "# Evaluate the best model:\n",
    "accuracy_best = accuracy_score(y_test, y_pred_best)\n",
    "f1_best = f1_score(y_test, y_pred_best)\n",
    "roc_auc_best = roc_auc_score(y_test, y_prob_best)\n",
    "classification_rep_best = classification_report(y_test, y_pred_best)\n",
    "\n",
    "print(f'Test Accuracy: {accuracy_best: .4f}')\n",
    "print(f'Test F1-Score: {f1_best: .4f}')\n",
    "print(f'Test ROC-AUC Score: {roc_auc_best: .4f}')"
   ]
  },
  {
   "cell_type": "markdown",
   "metadata": {},
   "source": [
    "After tuning **class_weight** parameter, our model achieved a better performance compared to using **class_weight='balanced'**, **Accuracy=0.8593,** whith **F1-score=0.6318** and a **ROC-AUC=0.8603** indicating strong class separation. The model remains **biased toward Class 0** despite class weithning. "
   ]
  },
  {
   "cell_type": "code",
   "execution_count": 20,
   "metadata": {},
   "outputs": [
    {
     "name": "stdout",
     "output_type": "stream",
     "text": [
      "Test Accuracy: 0.6280\n",
      "Test F1-Score: 0.4114\n",
      "Test ROC-AUC Score: 0.7005\n"
     ]
    }
   ],
   "source": [
    "# Combine features and target:\n",
    "train_data = X_train\n",
    "train_data['exited'] = y_train\n",
    "\n",
    "# Downsample majority class:\n",
    "minority_class = train_data[train_data['exited'] == 1]\n",
    "majority_class = train_data[train_data['exited'] == 0].sample(n=len(minority_class), random_state=42)\n",
    "\n",
    "# Combine and shuffle:\n",
    "downsampled_data = shuffle(pd.concat([majority_class, minority_class]), random_state=42)\n",
    "\n",
    "# Split back into features and target:\n",
    "X_train_ds, y_train_ds = downsampled_data.drop('exited', axis=1), downsampled_data['exited']\n",
    "\n",
    "# Train Logistic Regression:\n",
    "model = LogisticRegression(class_weight='balanced', max_iter=1000, random_state=42)\n",
    "model.fit(X_train_ds, y_train_ds)\n",
    "\n",
    "# Make predictions:\n",
    "y_pred = model.predict(X_test)\n",
    "y_prob = model.predict_proba(X_test)[:, 1]\n",
    "\n",
    "# Evaluate model:\n",
    "print(f'Test Accuracy: {accuracy_score(y_test, y_pred):.4f}')\n",
    "print(f'Test F1-Score: {f1_score(y_test, y_pred):.4f}')\n",
    "print(f'Test ROC-AUC Score: {roc_auc_score(y_test, y_prob):.4f}')\n"
   ]
  },
  {
   "cell_type": "markdown",
   "metadata": {},
   "source": [
    "After **Dowsampling** our data along with the parameter **class_weight**, we noticed that the Accuracy dropped from 0.8027 to 0.6280 and significant improvement in the F1-Score (0.4114) meaning that our model captures minority class predictions better. A slight improvement in the ROC-AUC Score (0.7005), showing that the model is getting better at distinguishing between classes."
   ]
  },
  {
   "cell_type": "markdown",
   "metadata": {},
   "source": [
    "# Conclusion:\n",
    "Our analysis has identified **Random Forest** as the most effective model for predicting customer churn, achieving an F1-score of 0.6133, exceeding the project goal of 0.59.\n",
    "- **Higher accuracy:** 85.93% Vs. 62.80%\n",
    "- **Higher F1-Score:** 0.6318 Vs. 0.4114\n",
    "- **Higher ROC-AUC score:** 0.8603 Vs. 0.7005"
   ]
  }
 ],
 "metadata": {
  "ExecuteTimeLog": [
   {
    "duration": 2531,
    "start_time": "2025-02-26T04:13:24.853Z"
   },
   {
    "duration": 36,
    "start_time": "2025-02-26T04:13:29.208Z"
   },
   {
    "duration": 22,
    "start_time": "2025-02-26T04:13:56.208Z"
   },
   {
    "duration": 16,
    "start_time": "2025-02-26T04:43:35.569Z"
   },
   {
    "duration": 9,
    "start_time": "2025-02-26T04:44:11.191Z"
   },
   {
    "duration": 10,
    "start_time": "2025-02-26T04:44:41.744Z"
   },
   {
    "duration": 11,
    "start_time": "2025-02-26T04:56:06.745Z"
   },
   {
    "duration": 765,
    "start_time": "2025-02-26T04:56:41.676Z"
   },
   {
    "duration": 16,
    "start_time": "2025-02-26T04:56:42.444Z"
   },
   {
    "duration": 12,
    "start_time": "2025-02-26T04:56:42.461Z"
   },
   {
    "duration": 9,
    "start_time": "2025-02-26T04:56:42.475Z"
   },
   {
    "duration": 31,
    "start_time": "2025-02-26T04:56:42.486Z"
   },
   {
    "duration": 797,
    "start_time": "2025-02-26T04:57:36.831Z"
   },
   {
    "duration": 15,
    "start_time": "2025-02-26T04:57:37.631Z"
   },
   {
    "duration": 11,
    "start_time": "2025-02-26T04:57:37.648Z"
   },
   {
    "duration": 12,
    "start_time": "2025-02-26T04:57:37.661Z"
   },
   {
    "duration": 37,
    "start_time": "2025-02-26T04:57:37.675Z"
   },
   {
    "duration": 6,
    "start_time": "2025-02-26T05:00:30.021Z"
   },
   {
    "duration": 4,
    "start_time": "2025-02-26T05:05:02.023Z"
   },
   {
    "duration": 258,
    "start_time": "2025-02-26T05:05:13.820Z"
   },
   {
    "duration": 14,
    "start_time": "2025-02-26T05:06:52.926Z"
   },
   {
    "duration": 14,
    "start_time": "2025-02-26T05:09:23.930Z"
   },
   {
    "duration": 751,
    "start_time": "2025-02-26T05:09:59.883Z"
   },
   {
    "duration": 16,
    "start_time": "2025-02-26T05:10:00.636Z"
   },
   {
    "duration": 13,
    "start_time": "2025-02-26T05:10:00.653Z"
   },
   {
    "duration": 11,
    "start_time": "2025-02-26T05:10:00.667Z"
   },
   {
    "duration": 10,
    "start_time": "2025-02-26T05:10:00.680Z"
   },
   {
    "duration": 6,
    "start_time": "2025-02-26T05:10:00.713Z"
   },
   {
    "duration": 16,
    "start_time": "2025-02-26T05:10:00.721Z"
   },
   {
    "duration": 10,
    "start_time": "2025-02-26T05:10:20.506Z"
   },
   {
    "duration": 6,
    "start_time": "2025-02-26T05:10:35.932Z"
   },
   {
    "duration": 800,
    "start_time": "2025-02-26T05:10:50.337Z"
   },
   {
    "duration": 15,
    "start_time": "2025-02-26T05:10:51.139Z"
   },
   {
    "duration": 12,
    "start_time": "2025-02-26T05:10:51.155Z"
   },
   {
    "duration": 13,
    "start_time": "2025-02-26T05:10:51.169Z"
   },
   {
    "duration": 33,
    "start_time": "2025-02-26T05:10:51.183Z"
   },
   {
    "duration": 6,
    "start_time": "2025-02-26T05:10:51.217Z"
   },
   {
    "duration": 3,
    "start_time": "2025-02-26T05:10:51.225Z"
   },
   {
    "duration": 10,
    "start_time": "2025-02-26T05:11:45.214Z"
   },
   {
    "duration": 749,
    "start_time": "2025-02-26T05:12:56.087Z"
   },
   {
    "duration": 14,
    "start_time": "2025-02-26T05:12:56.839Z"
   },
   {
    "duration": 12,
    "start_time": "2025-02-26T05:12:56.855Z"
   },
   {
    "duration": 11,
    "start_time": "2025-02-26T05:12:56.870Z"
   },
   {
    "duration": 29,
    "start_time": "2025-02-26T05:12:56.882Z"
   },
   {
    "duration": 6,
    "start_time": "2025-02-26T05:12:56.913Z"
   },
   {
    "duration": 5,
    "start_time": "2025-02-26T05:12:56.920Z"
   },
   {
    "duration": 8,
    "start_time": "2025-02-26T05:12:56.926Z"
   },
   {
    "duration": 900,
    "start_time": "2025-02-26T05:37:30.062Z"
   },
   {
    "duration": 16,
    "start_time": "2025-02-26T05:37:30.965Z"
   },
   {
    "duration": 13,
    "start_time": "2025-02-26T05:37:30.983Z"
   },
   {
    "duration": 11,
    "start_time": "2025-02-26T05:37:31.011Z"
   },
   {
    "duration": 10,
    "start_time": "2025-02-26T05:37:31.024Z"
   },
   {
    "duration": 6,
    "start_time": "2025-02-26T05:37:31.036Z"
   },
   {
    "duration": 4,
    "start_time": "2025-02-26T05:37:31.043Z"
   },
   {
    "duration": 8,
    "start_time": "2025-02-26T05:37:31.048Z"
   },
   {
    "duration": 2560,
    "start_time": "2025-02-26T17:19:09.904Z"
   },
   {
    "duration": 24,
    "start_time": "2025-02-26T17:19:12.466Z"
   },
   {
    "duration": 13,
    "start_time": "2025-02-26T17:19:12.491Z"
   },
   {
    "duration": 11,
    "start_time": "2025-02-26T17:19:12.506Z"
   },
   {
    "duration": 19,
    "start_time": "2025-02-26T17:19:12.518Z"
   },
   {
    "duration": 6,
    "start_time": "2025-02-26T17:19:12.538Z"
   },
   {
    "duration": 3,
    "start_time": "2025-02-26T17:19:12.545Z"
   },
   {
    "duration": 9,
    "start_time": "2025-02-26T17:19:12.550Z"
   },
   {
    "duration": 3,
    "start_time": "2025-02-26T17:39:15.682Z"
   },
   {
    "duration": 4,
    "start_time": "2025-02-26T17:39:24.709Z"
   },
   {
    "duration": 223,
    "start_time": "2025-02-26T17:39:58.273Z"
   },
   {
    "duration": 140,
    "start_time": "2025-02-26T17:44:29.393Z"
   },
   {
    "duration": 87,
    "start_time": "2025-02-26T17:48:22.519Z"
   },
   {
    "duration": 66,
    "start_time": "2025-02-26T17:50:43.584Z"
   },
   {
    "duration": 72,
    "start_time": "2025-02-26T17:50:58.057Z"
   },
   {
    "duration": 12,
    "start_time": "2025-02-26T18:05:49.098Z"
   },
   {
    "duration": 21,
    "start_time": "2025-02-26T18:06:02.678Z"
   },
   {
    "duration": 887,
    "start_time": "2025-02-26T18:06:50.285Z"
   },
   {
    "duration": 18,
    "start_time": "2025-02-26T18:06:51.174Z"
   },
   {
    "duration": 64,
    "start_time": "2025-02-26T18:06:51.194Z"
   },
   {
    "duration": 12,
    "start_time": "2025-02-26T18:06:51.260Z"
   },
   {
    "duration": 11,
    "start_time": "2025-02-26T18:06:51.273Z"
   },
   {
    "duration": 6,
    "start_time": "2025-02-26T18:06:51.285Z"
   },
   {
    "duration": 4,
    "start_time": "2025-02-26T18:06:51.292Z"
   },
   {
    "duration": 34,
    "start_time": "2025-02-26T18:06:51.298Z"
   },
   {
    "duration": 79,
    "start_time": "2025-02-26T18:06:51.333Z"
   },
   {
    "duration": 242,
    "start_time": "2025-02-26T18:06:51.415Z"
   },
   {
    "duration": 8,
    "start_time": "2025-02-26T18:10:15.363Z"
   },
   {
    "duration": 34,
    "start_time": "2025-02-26T18:10:27.174Z"
   },
   {
    "duration": 896,
    "start_time": "2025-02-26T18:11:11.849Z"
   },
   {
    "duration": 16,
    "start_time": "2025-02-26T18:11:12.747Z"
   },
   {
    "duration": 56,
    "start_time": "2025-02-26T18:11:12.764Z"
   },
   {
    "duration": 13,
    "start_time": "2025-02-26T18:11:12.832Z"
   },
   {
    "duration": 10,
    "start_time": "2025-02-26T18:11:12.847Z"
   },
   {
    "duration": 6,
    "start_time": "2025-02-26T18:11:12.858Z"
   },
   {
    "duration": 3,
    "start_time": "2025-02-26T18:11:12.866Z"
   },
   {
    "duration": 9,
    "start_time": "2025-02-26T18:11:12.871Z"
   },
   {
    "duration": 115,
    "start_time": "2025-02-26T18:11:12.881Z"
   },
   {
    "duration": 7,
    "start_time": "2025-02-26T18:11:12.999Z"
   },
   {
    "duration": 179,
    "start_time": "2025-02-26T18:11:13.008Z"
   },
   {
    "duration": 105,
    "start_time": "2025-02-26T18:18:19.224Z"
   },
   {
    "duration": 361,
    "start_time": "2025-02-26T18:18:35.660Z"
   },
   {
    "duration": 19,
    "start_time": "2025-02-26T18:19:03.525Z"
   },
   {
    "duration": 40,
    "start_time": "2025-02-26T18:19:13.350Z"
   },
   {
    "duration": 917,
    "start_time": "2025-02-26T18:19:58.662Z"
   },
   {
    "duration": 15,
    "start_time": "2025-02-26T18:19:59.582Z"
   },
   {
    "duration": 61,
    "start_time": "2025-02-26T18:19:59.599Z"
   },
   {
    "duration": 12,
    "start_time": "2025-02-26T18:19:59.661Z"
   },
   {
    "duration": 9,
    "start_time": "2025-02-26T18:19:59.675Z"
   },
   {
    "duration": 5,
    "start_time": "2025-02-26T18:19:59.686Z"
   },
   {
    "duration": 3,
    "start_time": "2025-02-26T18:19:59.694Z"
   },
   {
    "duration": 34,
    "start_time": "2025-02-26T18:19:59.699Z"
   },
   {
    "duration": 14,
    "start_time": "2025-02-26T18:19:59.735Z"
   },
   {
    "duration": 90,
    "start_time": "2025-02-26T18:19:59.751Z"
   },
   {
    "duration": 10,
    "start_time": "2025-02-26T18:19:59.843Z"
   },
   {
    "duration": 177,
    "start_time": "2025-02-26T18:19:59.855Z"
   },
   {
    "duration": 454,
    "start_time": "2025-02-26T18:20:50.622Z"
   },
   {
    "duration": 16,
    "start_time": "2025-02-26T18:25:37.381Z"
   },
   {
    "duration": 852,
    "start_time": "2025-02-26T18:25:53.486Z"
   },
   {
    "duration": 15,
    "start_time": "2025-02-26T18:25:54.341Z"
   },
   {
    "duration": 59,
    "start_time": "2025-02-26T18:25:54.357Z"
   },
   {
    "duration": 22,
    "start_time": "2025-02-26T18:25:54.418Z"
   },
   {
    "duration": 9,
    "start_time": "2025-02-26T18:25:54.443Z"
   },
   {
    "duration": 5,
    "start_time": "2025-02-26T18:25:54.454Z"
   },
   {
    "duration": 3,
    "start_time": "2025-02-26T18:25:54.461Z"
   },
   {
    "duration": 9,
    "start_time": "2025-02-26T18:25:54.466Z"
   },
   {
    "duration": 21,
    "start_time": "2025-02-26T18:25:54.476Z"
   },
   {
    "duration": 239,
    "start_time": "2025-02-26T18:25:54.531Z"
   },
   {
    "duration": 0,
    "start_time": "2025-02-26T18:25:54.771Z"
   },
   {
    "duration": 0,
    "start_time": "2025-02-26T18:25:54.772Z"
   },
   {
    "duration": 438,
    "start_time": "2025-02-26T18:26:14.232Z"
   },
   {
    "duration": 110,
    "start_time": "2025-02-26T18:26:31.594Z"
   },
   {
    "duration": 95,
    "start_time": "2025-02-26T18:26:54.366Z"
   },
   {
    "duration": 879,
    "start_time": "2025-02-26T18:27:10.919Z"
   },
   {
    "duration": 15,
    "start_time": "2025-02-26T18:27:11.800Z"
   },
   {
    "duration": 68,
    "start_time": "2025-02-26T18:27:11.817Z"
   },
   {
    "duration": 12,
    "start_time": "2025-02-26T18:27:11.888Z"
   },
   {
    "duration": 11,
    "start_time": "2025-02-26T18:27:11.901Z"
   },
   {
    "duration": 7,
    "start_time": "2025-02-26T18:27:11.930Z"
   },
   {
    "duration": 4,
    "start_time": "2025-02-26T18:27:11.938Z"
   },
   {
    "duration": 10,
    "start_time": "2025-02-26T18:27:11.945Z"
   },
   {
    "duration": 25,
    "start_time": "2025-02-26T18:27:11.957Z"
   },
   {
    "duration": 131,
    "start_time": "2025-02-26T18:27:11.984Z"
   },
   {
    "duration": 17,
    "start_time": "2025-02-26T18:27:12.117Z"
   },
   {
    "duration": 158,
    "start_time": "2025-02-26T18:27:12.136Z"
   },
   {
    "duration": 457,
    "start_time": "2025-02-26T18:27:48.439Z"
   },
   {
    "duration": 953,
    "start_time": "2025-02-26T18:28:27.765Z"
   },
   {
    "duration": 15,
    "start_time": "2025-02-26T18:28:28.721Z"
   },
   {
    "duration": 63,
    "start_time": "2025-02-26T18:28:28.737Z"
   },
   {
    "duration": 12,
    "start_time": "2025-02-26T18:28:28.802Z"
   },
   {
    "duration": 23,
    "start_time": "2025-02-26T18:28:28.816Z"
   },
   {
    "duration": 6,
    "start_time": "2025-02-26T18:28:28.840Z"
   },
   {
    "duration": 4,
    "start_time": "2025-02-26T18:28:28.848Z"
   },
   {
    "duration": 9,
    "start_time": "2025-02-26T18:28:28.853Z"
   },
   {
    "duration": 20,
    "start_time": "2025-02-26T18:28:28.863Z"
   },
   {
    "duration": 149,
    "start_time": "2025-02-26T18:28:28.885Z"
   },
   {
    "duration": 10,
    "start_time": "2025-02-26T18:28:29.037Z"
   },
   {
    "duration": 183,
    "start_time": "2025-02-26T18:28:29.049Z"
   },
   {
    "duration": 3,
    "start_time": "2025-02-26T18:37:14.242Z"
   },
   {
    "duration": 36,
    "start_time": "2025-02-26T18:38:58.123Z"
   },
   {
    "duration": 3135,
    "start_time": "2025-02-27T05:22:44.824Z"
   },
   {
    "duration": 26,
    "start_time": "2025-02-27T05:22:47.961Z"
   },
   {
    "duration": 15,
    "start_time": "2025-02-27T05:22:47.988Z"
   },
   {
    "duration": 16,
    "start_time": "2025-02-27T05:22:48.011Z"
   },
   {
    "duration": 11,
    "start_time": "2025-02-27T05:22:48.030Z"
   },
   {
    "duration": 7,
    "start_time": "2025-02-27T05:22:48.043Z"
   },
   {
    "duration": 5,
    "start_time": "2025-02-27T05:22:48.051Z"
   },
   {
    "duration": 10,
    "start_time": "2025-02-27T05:22:48.058Z"
   },
   {
    "duration": 68,
    "start_time": "2025-02-27T05:22:48.070Z"
   },
   {
    "duration": 172,
    "start_time": "2025-02-27T05:22:48.141Z"
   },
   {
    "duration": 165,
    "start_time": "2025-02-27T05:22:48.315Z"
   },
   {
    "duration": 0,
    "start_time": "2025-02-27T05:22:48.482Z"
   },
   {
    "duration": 31,
    "start_time": "2025-02-27T05:28:23.625Z"
   },
   {
    "duration": 32,
    "start_time": "2025-02-27T05:34:38.016Z"
   },
   {
    "duration": 927,
    "start_time": "2025-02-27T05:35:03.655Z"
   },
   {
    "duration": 16,
    "start_time": "2025-02-27T05:35:04.584Z"
   },
   {
    "duration": 64,
    "start_time": "2025-02-27T05:35:04.602Z"
   },
   {
    "duration": 12,
    "start_time": "2025-02-27T05:35:04.668Z"
   },
   {
    "duration": 27,
    "start_time": "2025-02-27T05:35:04.682Z"
   },
   {
    "duration": 7,
    "start_time": "2025-02-27T05:35:04.711Z"
   },
   {
    "duration": 4,
    "start_time": "2025-02-27T05:35:04.719Z"
   },
   {
    "duration": 8,
    "start_time": "2025-02-27T05:35:04.725Z"
   },
   {
    "duration": 19,
    "start_time": "2025-02-27T05:35:04.734Z"
   },
   {
    "duration": 136,
    "start_time": "2025-02-27T05:35:04.755Z"
   },
   {
    "duration": 160,
    "start_time": "2025-02-27T05:35:04.893Z"
   },
   {
    "duration": 0,
    "start_time": "2025-02-27T05:35:05.054Z"
   },
   {
    "duration": 6,
    "start_time": "2025-02-27T05:40:25.871Z"
   },
   {
    "duration": 17,
    "start_time": "2025-02-27T05:41:05.952Z"
   },
   {
    "duration": 809,
    "start_time": "2025-02-27T05:43:53.264Z"
   },
   {
    "duration": 918,
    "start_time": "2025-02-27T05:44:07.761Z"
   },
   {
    "duration": 16,
    "start_time": "2025-02-27T05:44:08.681Z"
   },
   {
    "duration": 65,
    "start_time": "2025-02-27T05:44:08.699Z"
   },
   {
    "duration": 15,
    "start_time": "2025-02-27T05:44:08.766Z"
   },
   {
    "duration": 27,
    "start_time": "2025-02-27T05:44:08.784Z"
   },
   {
    "duration": 9,
    "start_time": "2025-02-27T05:44:08.812Z"
   },
   {
    "duration": 5,
    "start_time": "2025-02-27T05:44:08.823Z"
   },
   {
    "duration": 3,
    "start_time": "2025-02-27T05:44:08.831Z"
   },
   {
    "duration": 7,
    "start_time": "2025-02-27T05:44:08.837Z"
   },
   {
    "duration": 14,
    "start_time": "2025-02-27T05:44:08.845Z"
   },
   {
    "duration": 137,
    "start_time": "2025-02-27T05:44:08.862Z"
   },
   {
    "duration": 19,
    "start_time": "2025-02-27T05:44:09.001Z"
   },
   {
    "duration": 15,
    "start_time": "2025-02-27T05:44:09.021Z"
   },
   {
    "duration": 253,
    "start_time": "2025-02-27T05:44:09.038Z"
   },
   {
    "duration": 689,
    "start_time": "2025-02-27T05:44:52.287Z"
   },
   {
    "duration": 915,
    "start_time": "2025-02-27T05:45:21.926Z"
   },
   {
    "duration": 15,
    "start_time": "2025-02-27T05:45:22.843Z"
   },
   {
    "duration": 68,
    "start_time": "2025-02-27T05:45:22.860Z"
   },
   {
    "duration": 11,
    "start_time": "2025-02-27T05:45:22.930Z"
   },
   {
    "duration": 11,
    "start_time": "2025-02-27T05:45:22.942Z"
   },
   {
    "duration": 9,
    "start_time": "2025-02-27T05:45:22.954Z"
   },
   {
    "duration": 6,
    "start_time": "2025-02-27T05:45:22.965Z"
   },
   {
    "duration": 3,
    "start_time": "2025-02-27T05:45:22.973Z"
   },
   {
    "duration": 37,
    "start_time": "2025-02-27T05:45:22.977Z"
   },
   {
    "duration": 13,
    "start_time": "2025-02-27T05:45:23.017Z"
   },
   {
    "duration": 123,
    "start_time": "2025-02-27T05:45:23.033Z"
   },
   {
    "duration": 15,
    "start_time": "2025-02-27T05:45:23.157Z"
   },
   {
    "duration": 14,
    "start_time": "2025-02-27T05:45:23.174Z"
   },
   {
    "duration": 266,
    "start_time": "2025-02-27T05:45:23.190Z"
   },
   {
    "duration": 10,
    "start_time": "2025-02-27T05:46:51.952Z"
   },
   {
    "duration": 902,
    "start_time": "2025-02-27T05:47:02.297Z"
   },
   {
    "duration": 16,
    "start_time": "2025-02-27T05:47:03.201Z"
   },
   {
    "duration": 59,
    "start_time": "2025-02-27T05:47:03.218Z"
   },
   {
    "duration": 10,
    "start_time": "2025-02-27T05:47:03.280Z"
   },
   {
    "duration": 26,
    "start_time": "2025-02-27T05:47:03.291Z"
   },
   {
    "duration": 10,
    "start_time": "2025-02-27T05:47:03.319Z"
   },
   {
    "duration": 6,
    "start_time": "2025-02-27T05:47:03.331Z"
   },
   {
    "duration": 4,
    "start_time": "2025-02-27T05:47:03.338Z"
   },
   {
    "duration": 8,
    "start_time": "2025-02-27T05:47:03.343Z"
   },
   {
    "duration": 14,
    "start_time": "2025-02-27T05:47:03.354Z"
   },
   {
    "duration": 145,
    "start_time": "2025-02-27T05:47:03.370Z"
   },
   {
    "duration": 15,
    "start_time": "2025-02-27T05:47:03.517Z"
   },
   {
    "duration": 15,
    "start_time": "2025-02-27T05:47:03.533Z"
   },
   {
    "duration": 249,
    "start_time": "2025-02-27T05:47:03.550Z"
   },
   {
    "duration": 2627,
    "start_time": "2025-02-28T04:52:25.148Z"
   },
   {
    "duration": 25,
    "start_time": "2025-02-28T04:52:27.779Z"
   },
   {
    "duration": 14,
    "start_time": "2025-02-28T04:52:27.805Z"
   },
   {
    "duration": 11,
    "start_time": "2025-02-28T04:52:27.821Z"
   },
   {
    "duration": 12,
    "start_time": "2025-02-28T04:52:27.834Z"
   },
   {
    "duration": 9,
    "start_time": "2025-02-28T04:52:27.848Z"
   },
   {
    "duration": 6,
    "start_time": "2025-02-28T04:52:27.859Z"
   },
   {
    "duration": 4,
    "start_time": "2025-02-28T04:52:27.866Z"
   },
   {
    "duration": 7,
    "start_time": "2025-02-28T04:52:27.872Z"
   },
   {
    "duration": 53,
    "start_time": "2025-02-28T04:52:27.881Z"
   },
   {
    "duration": 137,
    "start_time": "2025-02-28T04:52:27.936Z"
   },
   {
    "duration": 15,
    "start_time": "2025-02-28T04:52:28.075Z"
   },
   {
    "duration": 293,
    "start_time": "2025-02-28T04:52:28.091Z"
   },
   {
    "duration": 899,
    "start_time": "2025-02-28T04:54:03.851Z"
   },
   {
    "duration": 15,
    "start_time": "2025-02-28T04:54:04.752Z"
   },
   {
    "duration": 63,
    "start_time": "2025-02-28T04:54:04.769Z"
   },
   {
    "duration": 10,
    "start_time": "2025-02-28T04:54:04.835Z"
   },
   {
    "duration": 10,
    "start_time": "2025-02-28T04:54:04.846Z"
   },
   {
    "duration": 9,
    "start_time": "2025-02-28T04:54:04.858Z"
   },
   {
    "duration": 5,
    "start_time": "2025-02-28T04:54:04.869Z"
   },
   {
    "duration": 3,
    "start_time": "2025-02-28T04:54:04.876Z"
   },
   {
    "duration": 7,
    "start_time": "2025-02-28T04:54:04.881Z"
   },
   {
    "duration": 13,
    "start_time": "2025-02-28T04:54:04.931Z"
   },
   {
    "duration": 113,
    "start_time": "2025-02-28T04:54:04.946Z"
   },
   {
    "duration": 14,
    "start_time": "2025-02-28T04:54:05.061Z"
   },
   {
    "duration": 255,
    "start_time": "2025-02-28T04:54:05.077Z"
   },
   {
    "duration": 746,
    "start_time": "2025-02-28T04:55:54.835Z"
   },
   {
    "duration": 12,
    "start_time": "2025-02-28T05:02:33.869Z"
   },
   {
    "duration": 758,
    "start_time": "2025-02-28T05:03:28.646Z"
   },
   {
    "duration": 759,
    "start_time": "2025-02-28T05:04:21.907Z"
   },
   {
    "duration": 876,
    "start_time": "2025-02-28T05:14:20.894Z"
   },
   {
    "duration": 16,
    "start_time": "2025-02-28T05:14:21.772Z"
   },
   {
    "duration": 70,
    "start_time": "2025-02-28T05:14:21.790Z"
   },
   {
    "duration": 11,
    "start_time": "2025-02-28T05:14:21.862Z"
   },
   {
    "duration": 18,
    "start_time": "2025-02-28T05:14:21.874Z"
   },
   {
    "duration": 10,
    "start_time": "2025-02-28T05:14:21.894Z"
   },
   {
    "duration": 5,
    "start_time": "2025-02-28T05:14:21.906Z"
   },
   {
    "duration": 4,
    "start_time": "2025-02-28T05:14:21.931Z"
   },
   {
    "duration": 7,
    "start_time": "2025-02-28T05:14:21.937Z"
   },
   {
    "duration": 20,
    "start_time": "2025-02-28T05:14:21.946Z"
   },
   {
    "duration": 127,
    "start_time": "2025-02-28T05:14:21.968Z"
   },
   {
    "duration": 12,
    "start_time": "2025-02-28T05:14:22.097Z"
   },
   {
    "duration": 780,
    "start_time": "2025-02-28T05:14:22.111Z"
   },
   {
    "duration": 757,
    "start_time": "2025-02-28T05:20:29.978Z"
   },
   {
    "duration": 2580,
    "start_time": "2025-03-01T20:32:41.835Z"
   },
   {
    "duration": 24,
    "start_time": "2025-03-01T20:32:44.418Z"
   },
   {
    "duration": 13,
    "start_time": "2025-03-01T20:32:44.444Z"
   },
   {
    "duration": 11,
    "start_time": "2025-03-01T20:32:44.458Z"
   },
   {
    "duration": 11,
    "start_time": "2025-03-01T20:32:44.472Z"
   },
   {
    "duration": 10,
    "start_time": "2025-03-01T20:32:44.484Z"
   },
   {
    "duration": 6,
    "start_time": "2025-03-01T20:32:44.495Z"
   },
   {
    "duration": 3,
    "start_time": "2025-03-01T20:32:44.502Z"
   },
   {
    "duration": 7,
    "start_time": "2025-03-01T20:32:44.543Z"
   },
   {
    "duration": 12,
    "start_time": "2025-03-01T20:32:44.552Z"
   },
   {
    "duration": 125,
    "start_time": "2025-03-01T20:32:44.566Z"
   },
   {
    "duration": 14,
    "start_time": "2025-03-01T20:32:44.694Z"
   },
   {
    "duration": 840,
    "start_time": "2025-03-01T20:32:44.710Z"
   },
   {
    "duration": 178,
    "start_time": "2025-03-03T05:05:33.620Z"
   },
   {
    "duration": 2893,
    "start_time": "2025-03-03T05:06:31.065Z"
   },
   {
    "duration": 26,
    "start_time": "2025-03-03T05:06:33.961Z"
   },
   {
    "duration": 16,
    "start_time": "2025-03-03T05:06:33.989Z"
   },
   {
    "duration": 12,
    "start_time": "2025-03-03T05:06:34.007Z"
   },
   {
    "duration": 11,
    "start_time": "2025-03-03T05:06:34.022Z"
   },
   {
    "duration": 40,
    "start_time": "2025-03-03T05:06:34.035Z"
   },
   {
    "duration": 7,
    "start_time": "2025-03-03T05:06:34.077Z"
   },
   {
    "duration": 4,
    "start_time": "2025-03-03T05:06:34.086Z"
   },
   {
    "duration": 9,
    "start_time": "2025-03-03T05:06:34.092Z"
   },
   {
    "duration": 17,
    "start_time": "2025-03-03T05:06:34.102Z"
   },
   {
    "duration": 149,
    "start_time": "2025-03-03T05:06:34.121Z"
   },
   {
    "duration": 8,
    "start_time": "2025-03-03T05:06:34.273Z"
   },
   {
    "duration": 349,
    "start_time": "2025-03-03T05:06:34.283Z"
   },
   {
    "duration": 642,
    "start_time": "2025-03-03T05:10:00.013Z"
   },
   {
    "duration": 1035,
    "start_time": "2025-03-03T05:10:59.079Z"
   },
   {
    "duration": 892,
    "start_time": "2025-03-03T05:11:34.579Z"
   },
   {
    "duration": 15,
    "start_time": "2025-03-03T05:11:35.473Z"
   },
   {
    "duration": 62,
    "start_time": "2025-03-03T05:11:35.490Z"
   },
   {
    "duration": 23,
    "start_time": "2025-03-03T05:11:35.553Z"
   },
   {
    "duration": 10,
    "start_time": "2025-03-03T05:11:35.579Z"
   },
   {
    "duration": 9,
    "start_time": "2025-03-03T05:11:35.591Z"
   },
   {
    "duration": 6,
    "start_time": "2025-03-03T05:11:35.602Z"
   },
   {
    "duration": 4,
    "start_time": "2025-03-03T05:11:35.610Z"
   },
   {
    "duration": 8,
    "start_time": "2025-03-03T05:11:35.616Z"
   },
   {
    "duration": 51,
    "start_time": "2025-03-03T05:11:35.625Z"
   },
   {
    "duration": 122,
    "start_time": "2025-03-03T05:11:35.677Z"
   },
   {
    "duration": 6,
    "start_time": "2025-03-03T05:11:35.801Z"
   },
   {
    "duration": 1032,
    "start_time": "2025-03-03T05:11:35.809Z"
   },
   {
    "duration": 419,
    "start_time": "2025-03-03T05:14:41.904Z"
   },
   {
    "duration": 906,
    "start_time": "2025-03-03T05:15:20.969Z"
   },
   {
    "duration": 15,
    "start_time": "2025-03-03T05:15:21.878Z"
   },
   {
    "duration": 62,
    "start_time": "2025-03-03T05:15:21.894Z"
   },
   {
    "duration": 20,
    "start_time": "2025-03-03T05:15:21.958Z"
   },
   {
    "duration": 12,
    "start_time": "2025-03-03T05:15:21.979Z"
   },
   {
    "duration": 10,
    "start_time": "2025-03-03T05:15:21.992Z"
   },
   {
    "duration": 6,
    "start_time": "2025-03-03T05:15:22.003Z"
   },
   {
    "duration": 4,
    "start_time": "2025-03-03T05:15:22.010Z"
   },
   {
    "duration": 7,
    "start_time": "2025-03-03T05:15:22.016Z"
   },
   {
    "duration": 53,
    "start_time": "2025-03-03T05:15:22.026Z"
   },
   {
    "duration": 117,
    "start_time": "2025-03-03T05:15:22.081Z"
   },
   {
    "duration": 8,
    "start_time": "2025-03-03T05:15:22.200Z"
   },
   {
    "duration": 1020,
    "start_time": "2025-03-03T05:15:22.209Z"
   },
   {
    "duration": 428,
    "start_time": "2025-03-03T05:15:23.231Z"
   },
   {
    "duration": 15,
    "start_time": "2025-03-03T05:16:45.964Z"
   },
   {
    "duration": 207,
    "start_time": "2025-03-03T05:17:19.109Z"
   },
   {
    "duration": 885,
    "start_time": "2025-03-03T05:18:18.456Z"
   },
   {
    "duration": 15,
    "start_time": "2025-03-03T05:18:19.344Z"
   },
   {
    "duration": 68,
    "start_time": "2025-03-03T05:18:19.361Z"
   },
   {
    "duration": 10,
    "start_time": "2025-03-03T05:18:19.431Z"
   },
   {
    "duration": 27,
    "start_time": "2025-03-03T05:18:19.443Z"
   },
   {
    "duration": 9,
    "start_time": "2025-03-03T05:18:19.472Z"
   },
   {
    "duration": 6,
    "start_time": "2025-03-03T05:18:19.483Z"
   },
   {
    "duration": 5,
    "start_time": "2025-03-03T05:18:19.490Z"
   },
   {
    "duration": 8,
    "start_time": "2025-03-03T05:18:19.496Z"
   },
   {
    "duration": 13,
    "start_time": "2025-03-03T05:18:19.505Z"
   },
   {
    "duration": 139,
    "start_time": "2025-03-03T05:18:19.519Z"
   },
   {
    "duration": 14,
    "start_time": "2025-03-03T05:18:19.660Z"
   },
   {
    "duration": 1014,
    "start_time": "2025-03-03T05:18:19.676Z"
   },
   {
    "duration": 219,
    "start_time": "2025-03-03T05:18:20.693Z"
   },
   {
    "duration": 924,
    "start_time": "2025-03-03T05:28:30.188Z"
   },
   {
    "duration": 16,
    "start_time": "2025-03-03T05:28:31.114Z"
   },
   {
    "duration": 69,
    "start_time": "2025-03-03T05:28:31.132Z"
   },
   {
    "duration": 10,
    "start_time": "2025-03-03T05:28:31.203Z"
   },
   {
    "duration": 9,
    "start_time": "2025-03-03T05:28:31.216Z"
   },
   {
    "duration": 9,
    "start_time": "2025-03-03T05:28:31.227Z"
   },
   {
    "duration": 32,
    "start_time": "2025-03-03T05:28:31.239Z"
   },
   {
    "duration": 5,
    "start_time": "2025-03-03T05:28:31.272Z"
   },
   {
    "duration": 7,
    "start_time": "2025-03-03T05:28:31.279Z"
   },
   {
    "duration": 14,
    "start_time": "2025-03-03T05:28:31.288Z"
   },
   {
    "duration": 131,
    "start_time": "2025-03-03T05:28:31.305Z"
   },
   {
    "duration": 7,
    "start_time": "2025-03-03T05:28:31.438Z"
   },
   {
    "duration": 1009,
    "start_time": "2025-03-03T05:28:31.447Z"
   },
   {
    "duration": 214,
    "start_time": "2025-03-03T05:28:32.459Z"
   },
   {
    "duration": 2658,
    "start_time": "2025-03-03T16:23:38.897Z"
   },
   {
    "duration": 19,
    "start_time": "2025-03-03T16:23:41.557Z"
   },
   {
    "duration": 15,
    "start_time": "2025-03-03T16:23:41.578Z"
   },
   {
    "duration": 10,
    "start_time": "2025-03-03T16:23:41.594Z"
   },
   {
    "duration": 22,
    "start_time": "2025-03-03T16:23:41.607Z"
   },
   {
    "duration": 9,
    "start_time": "2025-03-03T16:23:41.631Z"
   },
   {
    "duration": 6,
    "start_time": "2025-03-03T16:23:41.642Z"
   },
   {
    "duration": 3,
    "start_time": "2025-03-03T16:23:41.650Z"
   },
   {
    "duration": 8,
    "start_time": "2025-03-03T16:23:41.654Z"
   },
   {
    "duration": 14,
    "start_time": "2025-03-03T16:23:41.663Z"
   },
   {
    "duration": 147,
    "start_time": "2025-03-03T16:23:41.679Z"
   },
   {
    "duration": 7,
    "start_time": "2025-03-03T16:23:41.827Z"
   },
   {
    "duration": 1100,
    "start_time": "2025-03-03T16:23:41.836Z"
   },
   {
    "duration": 216,
    "start_time": "2025-03-03T16:23:42.938Z"
   },
   {
    "duration": 1226,
    "start_time": "2025-03-03T16:36:51.194Z"
   },
   {
    "duration": 0,
    "start_time": "2025-03-03T16:36:52.423Z"
   },
   {
    "duration": 0,
    "start_time": "2025-03-03T16:36:52.425Z"
   },
   {
    "duration": 0,
    "start_time": "2025-03-03T16:36:52.426Z"
   },
   {
    "duration": 0,
    "start_time": "2025-03-03T16:36:52.427Z"
   },
   {
    "duration": 0,
    "start_time": "2025-03-03T16:36:52.429Z"
   },
   {
    "duration": 0,
    "start_time": "2025-03-03T16:36:52.431Z"
   },
   {
    "duration": 0,
    "start_time": "2025-03-03T16:36:52.433Z"
   },
   {
    "duration": 0,
    "start_time": "2025-03-03T16:36:52.434Z"
   },
   {
    "duration": 0,
    "start_time": "2025-03-03T16:36:52.436Z"
   },
   {
    "duration": 0,
    "start_time": "2025-03-03T16:36:52.437Z"
   },
   {
    "duration": 0,
    "start_time": "2025-03-03T16:36:52.439Z"
   },
   {
    "duration": 0,
    "start_time": "2025-03-03T16:36:52.440Z"
   },
   {
    "duration": 0,
    "start_time": "2025-03-03T16:36:52.441Z"
   },
   {
    "duration": 1,
    "start_time": "2025-03-03T16:36:52.442Z"
   },
   {
    "duration": 1237,
    "start_time": "2025-03-03T16:37:11.248Z"
   },
   {
    "duration": 0,
    "start_time": "2025-03-03T16:37:12.488Z"
   },
   {
    "duration": 0,
    "start_time": "2025-03-03T16:37:12.489Z"
   },
   {
    "duration": 0,
    "start_time": "2025-03-03T16:37:12.490Z"
   },
   {
    "duration": 0,
    "start_time": "2025-03-03T16:37:12.492Z"
   },
   {
    "duration": 0,
    "start_time": "2025-03-03T16:37:12.493Z"
   },
   {
    "duration": 0,
    "start_time": "2025-03-03T16:37:12.494Z"
   },
   {
    "duration": 0,
    "start_time": "2025-03-03T16:37:12.495Z"
   },
   {
    "duration": 0,
    "start_time": "2025-03-03T16:37:12.495Z"
   },
   {
    "duration": 0,
    "start_time": "2025-03-03T16:37:12.497Z"
   },
   {
    "duration": 0,
    "start_time": "2025-03-03T16:37:12.498Z"
   },
   {
    "duration": 0,
    "start_time": "2025-03-03T16:37:12.499Z"
   },
   {
    "duration": 0,
    "start_time": "2025-03-03T16:37:12.500Z"
   },
   {
    "duration": 0,
    "start_time": "2025-03-03T16:37:12.501Z"
   },
   {
    "duration": 0,
    "start_time": "2025-03-03T16:37:12.525Z"
   },
   {
    "duration": 914,
    "start_time": "2025-03-03T16:46:33.206Z"
   },
   {
    "duration": 15,
    "start_time": "2025-03-03T16:46:34.122Z"
   },
   {
    "duration": 13,
    "start_time": "2025-03-03T16:46:34.139Z"
   },
   {
    "duration": 84,
    "start_time": "2025-03-03T16:46:34.154Z"
   },
   {
    "duration": 10,
    "start_time": "2025-03-03T16:46:34.240Z"
   },
   {
    "duration": 10,
    "start_time": "2025-03-03T16:46:34.251Z"
   },
   {
    "duration": 5,
    "start_time": "2025-03-03T16:46:34.263Z"
   },
   {
    "duration": 3,
    "start_time": "2025-03-03T16:46:34.270Z"
   },
   {
    "duration": 8,
    "start_time": "2025-03-03T16:46:34.275Z"
   },
   {
    "duration": 49,
    "start_time": "2025-03-03T16:46:34.286Z"
   },
   {
    "duration": 116,
    "start_time": "2025-03-03T16:46:34.337Z"
   },
   {
    "duration": 8,
    "start_time": "2025-03-03T16:46:34.455Z"
   },
   {
    "duration": 1024,
    "start_time": "2025-03-03T16:46:34.464Z"
   },
   {
    "duration": 215,
    "start_time": "2025-03-03T16:46:35.490Z"
   },
   {
    "duration": 552,
    "start_time": "2025-03-03T16:46:35.706Z"
   },
   {
    "duration": 173,
    "start_time": "2025-03-03T16:48:40.545Z"
   },
   {
    "duration": 402,
    "start_time": "2025-03-03T16:52:37.948Z"
   },
   {
    "duration": 904,
    "start_time": "2025-03-03T16:53:18.711Z"
   },
   {
    "duration": 15,
    "start_time": "2025-03-03T16:53:19.617Z"
   },
   {
    "duration": 14,
    "start_time": "2025-03-03T16:53:19.634Z"
   },
   {
    "duration": 54,
    "start_time": "2025-03-03T16:53:19.650Z"
   },
   {
    "duration": 27,
    "start_time": "2025-03-03T16:53:19.706Z"
   },
   {
    "duration": 10,
    "start_time": "2025-03-03T16:53:19.735Z"
   },
   {
    "duration": 6,
    "start_time": "2025-03-03T16:53:19.746Z"
   },
   {
    "duration": 4,
    "start_time": "2025-03-03T16:53:19.753Z"
   },
   {
    "duration": 7,
    "start_time": "2025-03-03T16:53:19.758Z"
   },
   {
    "duration": 13,
    "start_time": "2025-03-03T16:53:19.768Z"
   },
   {
    "duration": 143,
    "start_time": "2025-03-03T16:53:19.782Z"
   },
   {
    "duration": 6,
    "start_time": "2025-03-03T16:53:19.927Z"
   },
   {
    "duration": 1024,
    "start_time": "2025-03-03T16:53:19.935Z"
   },
   {
    "duration": 217,
    "start_time": "2025-03-03T16:53:20.960Z"
   },
   {
    "duration": 403,
    "start_time": "2025-03-03T16:53:21.179Z"
   },
   {
    "duration": 180,
    "start_time": "2025-03-03T16:53:48.181Z"
   },
   {
    "duration": 167,
    "start_time": "2025-03-03T16:55:50.055Z"
   },
   {
    "duration": 168,
    "start_time": "2025-03-03T17:21:40.022Z"
   },
   {
    "duration": 21,
    "start_time": "2025-03-03T17:26:36.902Z"
   },
   {
    "duration": 19,
    "start_time": "2025-03-03T17:31:20.901Z"
   },
   {
    "duration": 932,
    "start_time": "2025-03-03T17:32:47.399Z"
   },
   {
    "duration": 15,
    "start_time": "2025-03-03T17:32:48.333Z"
   },
   {
    "duration": 13,
    "start_time": "2025-03-03T17:32:48.350Z"
   },
   {
    "duration": 64,
    "start_time": "2025-03-03T17:32:48.364Z"
   },
   {
    "duration": 11,
    "start_time": "2025-03-03T17:32:48.430Z"
   },
   {
    "duration": 9,
    "start_time": "2025-03-03T17:32:48.443Z"
   },
   {
    "duration": 6,
    "start_time": "2025-03-03T17:32:48.454Z"
   },
   {
    "duration": 4,
    "start_time": "2025-03-03T17:32:48.461Z"
   },
   {
    "duration": 7,
    "start_time": "2025-03-03T17:32:48.467Z"
   },
   {
    "duration": 50,
    "start_time": "2025-03-03T17:32:48.475Z"
   },
   {
    "duration": 116,
    "start_time": "2025-03-03T17:32:48.527Z"
   },
   {
    "duration": 7,
    "start_time": "2025-03-03T17:32:48.644Z"
   },
   {
    "duration": 1088,
    "start_time": "2025-03-03T17:32:48.653Z"
   },
   {
    "duration": 217,
    "start_time": "2025-03-03T17:32:49.745Z"
   },
   {
    "duration": 186,
    "start_time": "2025-03-03T17:32:49.964Z"
   },
   {
    "duration": 236,
    "start_time": "2025-03-03T17:32:50.152Z"
   },
   {
    "duration": 167,
    "start_time": "2025-03-03T17:38:12.883Z"
   },
   {
    "duration": 2651,
    "start_time": "2025-03-03T17:43:45.663Z"
   },
   {
    "duration": 992,
    "start_time": "2025-03-03T17:44:18.732Z"
   },
   {
    "duration": 17,
    "start_time": "2025-03-03T17:44:19.726Z"
   },
   {
    "duration": 16,
    "start_time": "2025-03-03T17:44:19.745Z"
   },
   {
    "duration": 86,
    "start_time": "2025-03-03T17:44:19.763Z"
   },
   {
    "duration": 11,
    "start_time": "2025-03-03T17:44:19.851Z"
   },
   {
    "duration": 10,
    "start_time": "2025-03-03T17:44:19.864Z"
   },
   {
    "duration": 5,
    "start_time": "2025-03-03T17:44:19.876Z"
   },
   {
    "duration": 4,
    "start_time": "2025-03-03T17:44:19.883Z"
   },
   {
    "duration": 37,
    "start_time": "2025-03-03T17:44:19.888Z"
   },
   {
    "duration": 15,
    "start_time": "2025-03-03T17:44:19.928Z"
   },
   {
    "duration": 126,
    "start_time": "2025-03-03T17:44:19.945Z"
   },
   {
    "duration": 8,
    "start_time": "2025-03-03T17:44:20.072Z"
   },
   {
    "duration": 1018,
    "start_time": "2025-03-03T17:44:20.081Z"
   },
   {
    "duration": 219,
    "start_time": "2025-03-03T17:44:21.101Z"
   },
   {
    "duration": 177,
    "start_time": "2025-03-03T17:44:21.321Z"
   },
   {
    "duration": 2267,
    "start_time": "2025-03-03T17:44:21.499Z"
   },
   {
    "duration": 234,
    "start_time": "2025-03-03T17:45:43.224Z"
   },
   {
    "duration": 880,
    "start_time": "2025-03-03T17:47:22.121Z"
   },
   {
    "duration": 9549,
    "start_time": "2025-03-03T17:48:17.640Z"
   },
   {
    "duration": 1354,
    "start_time": "2025-03-03T17:48:35.925Z"
   },
   {
    "duration": 22,
    "start_time": "2025-03-03T17:48:45.047Z"
   },
   {
    "duration": 899,
    "start_time": "2025-03-03T17:49:16.921Z"
   },
   {
    "duration": 17,
    "start_time": "2025-03-03T17:49:17.822Z"
   },
   {
    "duration": 14,
    "start_time": "2025-03-03T17:49:17.841Z"
   },
   {
    "duration": 75,
    "start_time": "2025-03-03T17:49:17.857Z"
   },
   {
    "duration": 11,
    "start_time": "2025-03-03T17:49:17.934Z"
   },
   {
    "duration": 10,
    "start_time": "2025-03-03T17:49:17.946Z"
   },
   {
    "duration": 5,
    "start_time": "2025-03-03T17:49:17.958Z"
   },
   {
    "duration": 4,
    "start_time": "2025-03-03T17:49:17.964Z"
   },
   {
    "duration": 8,
    "start_time": "2025-03-03T17:49:17.969Z"
   },
   {
    "duration": 46,
    "start_time": "2025-03-03T17:49:17.980Z"
   },
   {
    "duration": 117,
    "start_time": "2025-03-03T17:49:18.028Z"
   },
   {
    "duration": 8,
    "start_time": "2025-03-03T17:49:18.146Z"
   },
   {
    "duration": 1019,
    "start_time": "2025-03-03T17:49:18.155Z"
   },
   {
    "duration": 218,
    "start_time": "2025-03-03T17:49:19.177Z"
   },
   {
    "duration": 183,
    "start_time": "2025-03-03T17:49:19.397Z"
   },
   {
    "duration": 902,
    "start_time": "2025-03-03T18:00:49.604Z"
   },
   {
    "duration": 16,
    "start_time": "2025-03-03T18:00:50.509Z"
   },
   {
    "duration": 13,
    "start_time": "2025-03-03T18:00:50.527Z"
   },
   {
    "duration": 60,
    "start_time": "2025-03-03T18:00:50.541Z"
   },
   {
    "duration": 27,
    "start_time": "2025-03-03T18:00:50.605Z"
   },
   {
    "duration": 10,
    "start_time": "2025-03-03T18:00:50.634Z"
   },
   {
    "duration": 6,
    "start_time": "2025-03-03T18:00:50.645Z"
   },
   {
    "duration": 5,
    "start_time": "2025-03-03T18:00:50.652Z"
   },
   {
    "duration": 8,
    "start_time": "2025-03-03T18:00:50.658Z"
   },
   {
    "duration": 14,
    "start_time": "2025-03-03T18:00:50.667Z"
   },
   {
    "duration": 153,
    "start_time": "2025-03-03T18:00:50.682Z"
   },
   {
    "duration": 8,
    "start_time": "2025-03-03T18:00:50.838Z"
   },
   {
    "duration": 1026,
    "start_time": "2025-03-03T18:00:50.848Z"
   },
   {
    "duration": 227,
    "start_time": "2025-03-03T18:00:51.877Z"
   },
   {
    "duration": 183,
    "start_time": "2025-03-03T18:00:52.106Z"
   },
   {
    "duration": 1396,
    "start_time": "2025-03-03T18:05:42.633Z"
   },
   {
    "duration": 233,
    "start_time": "2025-03-03T18:07:09.255Z"
   },
   {
    "duration": 2346,
    "start_time": "2025-03-03T18:07:52.688Z"
   },
   {
    "duration": 2840,
    "start_time": "2025-03-04T17:05:37.325Z"
   },
   {
    "duration": 21,
    "start_time": "2025-03-04T17:05:40.168Z"
   },
   {
    "duration": 17,
    "start_time": "2025-03-04T17:05:40.191Z"
   },
   {
    "duration": 13,
    "start_time": "2025-03-04T17:05:40.210Z"
   },
   {
    "duration": 11,
    "start_time": "2025-03-04T17:05:40.225Z"
   },
   {
    "duration": 10,
    "start_time": "2025-03-04T17:05:40.237Z"
   },
   {
    "duration": 6,
    "start_time": "2025-03-04T17:05:40.249Z"
   },
   {
    "duration": 3,
    "start_time": "2025-03-04T17:05:40.257Z"
   },
   {
    "duration": 47,
    "start_time": "2025-03-04T17:05:40.262Z"
   },
   {
    "duration": 13,
    "start_time": "2025-03-04T17:05:40.313Z"
   },
   {
    "duration": 124,
    "start_time": "2025-03-04T17:05:40.328Z"
   },
   {
    "duration": 7,
    "start_time": "2025-03-04T17:05:40.454Z"
   },
   {
    "duration": 1036,
    "start_time": "2025-03-04T17:05:40.463Z"
   },
   {
    "duration": 214,
    "start_time": "2025-03-04T17:05:41.502Z"
   },
   {
    "duration": 176,
    "start_time": "2025-03-04T17:05:41.718Z"
   },
   {
    "duration": 935,
    "start_time": "2025-03-04T17:07:45.510Z"
   },
   {
    "duration": 16,
    "start_time": "2025-03-04T17:07:46.448Z"
   },
   {
    "duration": 14,
    "start_time": "2025-03-04T17:07:46.466Z"
   },
   {
    "duration": 76,
    "start_time": "2025-03-04T17:07:46.482Z"
   },
   {
    "duration": 10,
    "start_time": "2025-03-04T17:07:46.560Z"
   },
   {
    "duration": 10,
    "start_time": "2025-03-04T17:07:46.572Z"
   },
   {
    "duration": 25,
    "start_time": "2025-03-04T17:07:46.583Z"
   },
   {
    "duration": 7,
    "start_time": "2025-03-04T17:07:46.609Z"
   },
   {
    "duration": 4,
    "start_time": "2025-03-04T17:07:46.618Z"
   },
   {
    "duration": 7,
    "start_time": "2025-03-04T17:07:46.624Z"
   },
   {
    "duration": 13,
    "start_time": "2025-03-04T17:07:46.633Z"
   },
   {
    "duration": 145,
    "start_time": "2025-03-04T17:07:46.649Z"
   },
   {
    "duration": 9,
    "start_time": "2025-03-04T17:07:46.796Z"
   },
   {
    "duration": 1028,
    "start_time": "2025-03-04T17:07:46.807Z"
   },
   {
    "duration": 227,
    "start_time": "2025-03-04T17:07:47.837Z"
   },
   {
    "duration": 176,
    "start_time": "2025-03-04T17:07:48.066Z"
   },
   {
    "duration": 960,
    "start_time": "2025-03-04T17:42:02.541Z"
   },
   {
    "duration": 16,
    "start_time": "2025-03-04T17:42:03.504Z"
   },
   {
    "duration": 14,
    "start_time": "2025-03-04T17:42:03.522Z"
   },
   {
    "duration": 11,
    "start_time": "2025-03-04T17:42:03.538Z"
   },
   {
    "duration": 11,
    "start_time": "2025-03-04T17:42:03.627Z"
   },
   {
    "duration": 10,
    "start_time": "2025-03-04T17:42:03.640Z"
   },
   {
    "duration": 6,
    "start_time": "2025-03-04T17:42:03.651Z"
   },
   {
    "duration": 7,
    "start_time": "2025-03-04T17:42:03.658Z"
   },
   {
    "duration": 4,
    "start_time": "2025-03-04T17:42:03.666Z"
   },
   {
    "duration": 40,
    "start_time": "2025-03-04T17:42:03.672Z"
   },
   {
    "duration": 14,
    "start_time": "2025-03-04T17:42:03.714Z"
   },
   {
    "duration": 124,
    "start_time": "2025-03-04T17:42:03.729Z"
   },
   {
    "duration": 8,
    "start_time": "2025-03-04T17:42:03.855Z"
   },
   {
    "duration": 1039,
    "start_time": "2025-03-04T17:42:03.866Z"
   },
   {
    "duration": 214,
    "start_time": "2025-03-04T17:42:04.907Z"
   },
   {
    "duration": 182,
    "start_time": "2025-03-04T17:42:05.123Z"
   },
   {
    "duration": 965,
    "start_time": "2025-03-04T17:46:16.723Z"
   },
   {
    "duration": 15,
    "start_time": "2025-03-04T17:46:17.690Z"
   },
   {
    "duration": 13,
    "start_time": "2025-03-04T17:46:17.707Z"
   },
   {
    "duration": 85,
    "start_time": "2025-03-04T17:46:17.722Z"
   },
   {
    "duration": 11,
    "start_time": "2025-03-04T17:46:17.809Z"
   },
   {
    "duration": 10,
    "start_time": "2025-03-04T17:46:17.822Z"
   },
   {
    "duration": 6,
    "start_time": "2025-03-04T17:46:17.834Z"
   },
   {
    "duration": 7,
    "start_time": "2025-03-04T17:46:17.841Z"
   },
   {
    "duration": 4,
    "start_time": "2025-03-04T17:46:17.849Z"
   },
   {
    "duration": 8,
    "start_time": "2025-03-04T17:46:17.855Z"
   },
   {
    "duration": 52,
    "start_time": "2025-03-04T17:46:17.865Z"
   },
   {
    "duration": 118,
    "start_time": "2025-03-04T17:46:17.919Z"
   },
   {
    "duration": 8,
    "start_time": "2025-03-04T17:46:18.038Z"
   },
   {
    "duration": 1040,
    "start_time": "2025-03-04T17:46:18.049Z"
   },
   {
    "duration": 224,
    "start_time": "2025-03-04T17:46:19.091Z"
   },
   {
    "duration": 178,
    "start_time": "2025-03-04T17:46:19.317Z"
   },
   {
    "duration": 922,
    "start_time": "2025-03-04T17:53:55.196Z"
   },
   {
    "duration": 16,
    "start_time": "2025-03-04T17:53:56.120Z"
   },
   {
    "duration": 13,
    "start_time": "2025-03-04T17:53:56.138Z"
   },
   {
    "duration": 11,
    "start_time": "2025-03-04T17:53:56.153Z"
   },
   {
    "duration": 12,
    "start_time": "2025-03-04T17:53:56.245Z"
   },
   {
    "duration": 10,
    "start_time": "2025-03-04T17:53:56.258Z"
   },
   {
    "duration": 6,
    "start_time": "2025-03-04T17:53:56.269Z"
   },
   {
    "duration": 7,
    "start_time": "2025-03-04T17:53:56.276Z"
   },
   {
    "duration": 24,
    "start_time": "2025-03-04T17:53:56.284Z"
   },
   {
    "duration": 8,
    "start_time": "2025-03-04T17:53:56.310Z"
   },
   {
    "duration": 14,
    "start_time": "2025-03-04T17:53:56.319Z"
   },
   {
    "duration": 133,
    "start_time": "2025-03-04T17:53:56.334Z"
   },
   {
    "duration": 7,
    "start_time": "2025-03-04T17:53:56.469Z"
   },
   {
    "duration": 1034,
    "start_time": "2025-03-04T17:53:56.480Z"
   },
   {
    "duration": 219,
    "start_time": "2025-03-04T17:53:57.516Z"
   },
   {
    "duration": 171,
    "start_time": "2025-03-04T17:53:57.736Z"
   },
   {
    "duration": 211,
    "start_time": "2025-03-04T17:58:24.676Z"
   },
   {
    "duration": 168,
    "start_time": "2025-03-04T18:15:28.925Z"
   },
   {
    "duration": 1076,
    "start_time": "2025-03-04T18:24:04.073Z"
   },
   {
    "duration": 216,
    "start_time": "2025-03-04T18:31:11.283Z"
   },
   {
    "duration": 1039,
    "start_time": "2025-03-04T18:36:35.788Z"
   },
   {
    "duration": 217,
    "start_time": "2025-03-04T18:36:44.989Z"
   },
   {
    "duration": 168,
    "start_time": "2025-03-04T18:37:09.384Z"
   },
   {
    "duration": 169,
    "start_time": "2025-03-04T18:37:43.936Z"
   },
   {
    "duration": 939,
    "start_time": "2025-03-04T18:39:20.355Z"
   },
   {
    "duration": 17,
    "start_time": "2025-03-04T18:39:21.297Z"
   },
   {
    "duration": 14,
    "start_time": "2025-03-04T18:39:21.316Z"
   },
   {
    "duration": 10,
    "start_time": "2025-03-04T18:39:21.331Z"
   },
   {
    "duration": 86,
    "start_time": "2025-03-04T18:39:21.343Z"
   },
   {
    "duration": 10,
    "start_time": "2025-03-04T18:39:21.430Z"
   },
   {
    "duration": 6,
    "start_time": "2025-03-04T18:39:21.441Z"
   },
   {
    "duration": 7,
    "start_time": "2025-03-04T18:39:21.449Z"
   },
   {
    "duration": 4,
    "start_time": "2025-03-04T18:39:21.458Z"
   },
   {
    "duration": 42,
    "start_time": "2025-03-04T18:39:21.464Z"
   },
   {
    "duration": 15,
    "start_time": "2025-03-04T18:39:21.508Z"
   },
   {
    "duration": 137,
    "start_time": "2025-03-04T18:39:21.525Z"
   },
   {
    "duration": 7,
    "start_time": "2025-03-04T18:39:21.664Z"
   },
   {
    "duration": 1048,
    "start_time": "2025-03-04T18:39:21.674Z"
   },
   {
    "duration": 230,
    "start_time": "2025-03-04T18:39:22.724Z"
   },
   {
    "duration": 180,
    "start_time": "2025-03-04T18:39:22.955Z"
   },
   {
    "duration": 399,
    "start_time": "2025-03-04T18:43:19.652Z"
   },
   {
    "duration": 175,
    "start_time": "2025-03-04T18:43:37.078Z"
   },
   {
    "duration": 940,
    "start_time": "2025-03-04T18:48:15.808Z"
   },
   {
    "duration": 16,
    "start_time": "2025-03-04T18:48:16.750Z"
   },
   {
    "duration": 14,
    "start_time": "2025-03-04T18:48:16.768Z"
   },
   {
    "duration": 80,
    "start_time": "2025-03-04T18:48:16.785Z"
   },
   {
    "duration": 11,
    "start_time": "2025-03-04T18:48:16.867Z"
   },
   {
    "duration": 27,
    "start_time": "2025-03-04T18:48:16.879Z"
   },
   {
    "duration": 6,
    "start_time": "2025-03-04T18:48:16.908Z"
   },
   {
    "duration": 9,
    "start_time": "2025-03-04T18:48:16.915Z"
   },
   {
    "duration": 4,
    "start_time": "2025-03-04T18:48:16.925Z"
   },
   {
    "duration": 7,
    "start_time": "2025-03-04T18:48:16.932Z"
   },
   {
    "duration": 14,
    "start_time": "2025-03-04T18:48:16.940Z"
   },
   {
    "duration": 142,
    "start_time": "2025-03-04T18:48:16.955Z"
   },
   {
    "duration": 12,
    "start_time": "2025-03-04T18:48:17.099Z"
   },
   {
    "duration": 1041,
    "start_time": "2025-03-04T18:48:17.113Z"
   },
   {
    "duration": 223,
    "start_time": "2025-03-04T18:48:18.156Z"
   },
   {
    "duration": 185,
    "start_time": "2025-03-04T18:48:18.381Z"
   },
   {
    "duration": 2603,
    "start_time": "2025-03-05T04:46:52.279Z"
   },
   {
    "duration": 22,
    "start_time": "2025-03-05T04:46:54.884Z"
   },
   {
    "duration": 13,
    "start_time": "2025-03-05T04:46:54.907Z"
   },
   {
    "duration": 15,
    "start_time": "2025-03-05T04:46:54.923Z"
   },
   {
    "duration": 10,
    "start_time": "2025-03-05T04:46:54.939Z"
   },
   {
    "duration": 10,
    "start_time": "2025-03-05T04:46:54.951Z"
   },
   {
    "duration": 6,
    "start_time": "2025-03-05T04:46:54.962Z"
   },
   {
    "duration": 7,
    "start_time": "2025-03-05T04:46:54.970Z"
   },
   {
    "duration": 3,
    "start_time": "2025-03-05T04:46:54.979Z"
   },
   {
    "duration": 46,
    "start_time": "2025-03-05T04:46:54.986Z"
   },
   {
    "duration": 14,
    "start_time": "2025-03-05T04:46:55.033Z"
   },
   {
    "duration": 123,
    "start_time": "2025-03-05T04:46:55.049Z"
   },
   {
    "duration": 7,
    "start_time": "2025-03-05T04:46:55.174Z"
   },
   {
    "duration": 1029,
    "start_time": "2025-03-05T04:46:55.182Z"
   },
   {
    "duration": 224,
    "start_time": "2025-03-05T04:46:56.213Z"
   },
   {
    "duration": 182,
    "start_time": "2025-03-05T04:46:56.440Z"
   },
   {
    "duration": 3,
    "start_time": "2025-03-05T04:55:00.346Z"
   },
   {
    "duration": 98,
    "start_time": "2025-03-05T04:56:57.948Z"
   },
   {
    "duration": 92,
    "start_time": "2025-03-05T04:58:09.550Z"
   },
   {
    "duration": 948,
    "start_time": "2025-03-05T04:58:21.646Z"
   },
   {
    "duration": 17,
    "start_time": "2025-03-05T04:58:22.596Z"
   },
   {
    "duration": 19,
    "start_time": "2025-03-05T04:58:22.614Z"
   },
   {
    "duration": 63,
    "start_time": "2025-03-05T04:58:22.635Z"
   },
   {
    "duration": 10,
    "start_time": "2025-03-05T04:58:22.700Z"
   },
   {
    "duration": 27,
    "start_time": "2025-03-05T04:58:22.712Z"
   },
   {
    "duration": 5,
    "start_time": "2025-03-05T04:58:22.742Z"
   },
   {
    "duration": 6,
    "start_time": "2025-03-05T04:58:22.748Z"
   },
   {
    "duration": 3,
    "start_time": "2025-03-05T04:58:22.756Z"
   },
   {
    "duration": 7,
    "start_time": "2025-03-05T04:58:22.762Z"
   },
   {
    "duration": 16,
    "start_time": "2025-03-05T04:58:22.770Z"
   },
   {
    "duration": 153,
    "start_time": "2025-03-05T04:58:22.788Z"
   },
   {
    "duration": 9,
    "start_time": "2025-03-05T04:58:22.943Z"
   },
   {
    "duration": 1038,
    "start_time": "2025-03-05T04:58:22.953Z"
   },
   {
    "duration": 232,
    "start_time": "2025-03-05T04:58:23.993Z"
   },
   {
    "duration": 180,
    "start_time": "2025-03-05T04:58:24.227Z"
   },
   {
    "duration": 141,
    "start_time": "2025-03-05T04:58:24.409Z"
   },
   {
    "duration": 70,
    "start_time": "2025-03-05T05:06:23.566Z"
   },
   {
    "duration": 930,
    "start_time": "2025-03-05T05:15:02.842Z"
   },
   {
    "duration": 16,
    "start_time": "2025-03-05T05:15:03.774Z"
   },
   {
    "duration": 12,
    "start_time": "2025-03-05T05:15:03.792Z"
   },
   {
    "duration": 10,
    "start_time": "2025-03-05T05:15:03.807Z"
   },
   {
    "duration": 10,
    "start_time": "2025-03-05T05:15:03.882Z"
   },
   {
    "duration": 9,
    "start_time": "2025-03-05T05:15:03.894Z"
   },
   {
    "duration": 6,
    "start_time": "2025-03-05T05:15:03.904Z"
   },
   {
    "duration": 27,
    "start_time": "2025-03-05T05:15:03.911Z"
   },
   {
    "duration": 4,
    "start_time": "2025-03-05T05:15:03.940Z"
   },
   {
    "duration": 7,
    "start_time": "2025-03-05T05:15:03.946Z"
   },
   {
    "duration": 14,
    "start_time": "2025-03-05T05:15:03.955Z"
   },
   {
    "duration": 147,
    "start_time": "2025-03-05T05:15:03.971Z"
   },
   {
    "duration": 11,
    "start_time": "2025-03-05T05:15:04.120Z"
   },
   {
    "duration": 1015,
    "start_time": "2025-03-05T05:15:04.134Z"
   },
   {
    "duration": 223,
    "start_time": "2025-03-05T05:15:05.151Z"
   },
   {
    "duration": 185,
    "start_time": "2025-03-05T05:15:05.376Z"
   },
   {
    "duration": 81,
    "start_time": "2025-03-05T05:15:05.563Z"
   },
   {
    "duration": 201,
    "start_time": "2025-03-05T05:15:05.647Z"
   },
   {
    "duration": 3,
    "start_time": "2025-03-05T05:28:42.940Z"
   },
   {
    "duration": 39,
    "start_time": "2025-03-05T05:29:05.201Z"
   },
   {
    "duration": 31,
    "start_time": "2025-03-05T05:33:49.480Z"
   },
   {
    "duration": 928,
    "start_time": "2025-03-05T05:39:07.500Z"
   },
   {
    "duration": 16,
    "start_time": "2025-03-05T05:39:08.430Z"
   },
   {
    "duration": 13,
    "start_time": "2025-03-05T05:39:08.448Z"
   },
   {
    "duration": 9,
    "start_time": "2025-03-05T05:39:08.463Z"
   },
   {
    "duration": 11,
    "start_time": "2025-03-05T05:39:08.544Z"
   },
   {
    "duration": 9,
    "start_time": "2025-03-05T05:39:08.557Z"
   },
   {
    "duration": 6,
    "start_time": "2025-03-05T05:39:08.568Z"
   },
   {
    "duration": 6,
    "start_time": "2025-03-05T05:39:08.576Z"
   },
   {
    "duration": 4,
    "start_time": "2025-03-05T05:39:08.584Z"
   },
   {
    "duration": 44,
    "start_time": "2025-03-05T05:39:08.589Z"
   },
   {
    "duration": 12,
    "start_time": "2025-03-05T05:39:08.635Z"
   },
   {
    "duration": 121,
    "start_time": "2025-03-05T05:39:08.649Z"
   },
   {
    "duration": 9,
    "start_time": "2025-03-05T05:39:08.772Z"
   },
   {
    "duration": 1024,
    "start_time": "2025-03-05T05:39:08.784Z"
   },
   {
    "duration": 226,
    "start_time": "2025-03-05T05:39:09.810Z"
   },
   {
    "duration": 185,
    "start_time": "2025-03-05T05:39:10.038Z"
   },
   {
    "duration": 123,
    "start_time": "2025-03-05T05:39:10.225Z"
   },
   {
    "duration": 192,
    "start_time": "2025-03-05T05:39:10.350Z"
   },
   {
    "duration": 109,
    "start_time": "2025-03-05T05:39:10.544Z"
   },
   {
    "duration": 573,
    "start_time": "2025-03-05T05:44:07.304Z"
   },
   {
    "duration": 906,
    "start_time": "2025-03-05T05:45:16.235Z"
   },
   {
    "duration": 15,
    "start_time": "2025-03-05T05:45:17.143Z"
   },
   {
    "duration": 12,
    "start_time": "2025-03-05T05:45:17.160Z"
   },
   {
    "duration": 81,
    "start_time": "2025-03-05T05:45:17.175Z"
   },
   {
    "duration": 10,
    "start_time": "2025-03-05T05:45:17.257Z"
   },
   {
    "duration": 9,
    "start_time": "2025-03-05T05:45:17.270Z"
   },
   {
    "duration": 5,
    "start_time": "2025-03-05T05:45:17.281Z"
   },
   {
    "duration": 8,
    "start_time": "2025-03-05T05:45:17.287Z"
   },
   {
    "duration": 4,
    "start_time": "2025-03-05T05:45:17.296Z"
   },
   {
    "duration": 8,
    "start_time": "2025-03-05T05:45:17.332Z"
   },
   {
    "duration": 14,
    "start_time": "2025-03-05T05:45:17.341Z"
   },
   {
    "duration": 126,
    "start_time": "2025-03-05T05:45:17.356Z"
   },
   {
    "duration": 8,
    "start_time": "2025-03-05T05:45:17.484Z"
   },
   {
    "duration": 1045,
    "start_time": "2025-03-05T05:45:17.494Z"
   },
   {
    "duration": 227,
    "start_time": "2025-03-05T05:45:18.541Z"
   },
   {
    "duration": 190,
    "start_time": "2025-03-05T05:45:18.770Z"
   },
   {
    "duration": 92,
    "start_time": "2025-03-05T05:45:18.962Z"
   },
   {
    "duration": 190,
    "start_time": "2025-03-05T05:45:19.056Z"
   },
   {
    "duration": 186,
    "start_time": "2025-03-05T05:45:19.248Z"
   },
   {
    "duration": 667,
    "start_time": "2025-03-05T05:45:19.436Z"
   },
   {
    "duration": 962,
    "start_time": "2025-03-05T05:55:42.056Z"
   },
   {
    "duration": 17,
    "start_time": "2025-03-05T05:55:43.020Z"
   },
   {
    "duration": 13,
    "start_time": "2025-03-05T05:55:43.038Z"
   },
   {
    "duration": 62,
    "start_time": "2025-03-05T05:55:43.053Z"
   },
   {
    "duration": 11,
    "start_time": "2025-03-05T05:55:43.131Z"
   },
   {
    "duration": 10,
    "start_time": "2025-03-05T05:55:43.144Z"
   },
   {
    "duration": 6,
    "start_time": "2025-03-05T05:55:43.155Z"
   },
   {
    "duration": 7,
    "start_time": "2025-03-05T05:55:43.163Z"
   },
   {
    "duration": 5,
    "start_time": "2025-03-05T05:55:43.171Z"
   },
   {
    "duration": 8,
    "start_time": "2025-03-05T05:55:43.180Z"
   },
   {
    "duration": 51,
    "start_time": "2025-03-05T05:55:43.190Z"
   },
   {
    "duration": 117,
    "start_time": "2025-03-05T05:55:43.243Z"
   },
   {
    "duration": 8,
    "start_time": "2025-03-05T05:55:43.362Z"
   },
   {
    "duration": 1020,
    "start_time": "2025-03-05T05:55:43.371Z"
   },
   {
    "duration": 228,
    "start_time": "2025-03-05T05:55:44.393Z"
   },
   {
    "duration": 183,
    "start_time": "2025-03-05T05:55:44.623Z"
   },
   {
    "duration": 134,
    "start_time": "2025-03-05T05:55:44.807Z"
   },
   {
    "duration": 192,
    "start_time": "2025-03-05T05:55:44.943Z"
   },
   {
    "duration": 110,
    "start_time": "2025-03-05T05:55:45.137Z"
   },
   {
    "duration": 932,
    "start_time": "2025-03-05T06:07:40.387Z"
   },
   {
    "duration": 21,
    "start_time": "2025-03-05T06:07:41.321Z"
   },
   {
    "duration": 13,
    "start_time": "2025-03-05T06:07:41.343Z"
   },
   {
    "duration": 59,
    "start_time": "2025-03-05T06:07:41.359Z"
   },
   {
    "duration": 10,
    "start_time": "2025-03-05T06:07:41.432Z"
   },
   {
    "duration": 10,
    "start_time": "2025-03-05T06:07:41.444Z"
   },
   {
    "duration": 5,
    "start_time": "2025-03-05T06:07:41.456Z"
   },
   {
    "duration": 7,
    "start_time": "2025-03-05T06:07:41.463Z"
   },
   {
    "duration": 4,
    "start_time": "2025-03-05T06:07:41.471Z"
   },
   {
    "duration": 6,
    "start_time": "2025-03-05T06:07:41.479Z"
   },
   {
    "duration": 51,
    "start_time": "2025-03-05T06:07:41.487Z"
   },
   {
    "duration": 117,
    "start_time": "2025-03-05T06:07:41.540Z"
   },
   {
    "duration": 7,
    "start_time": "2025-03-05T06:07:41.659Z"
   },
   {
    "duration": 1041,
    "start_time": "2025-03-05T06:07:41.668Z"
   },
   {
    "duration": 222,
    "start_time": "2025-03-05T06:07:42.712Z"
   },
   {
    "duration": 185,
    "start_time": "2025-03-05T06:07:42.935Z"
   },
   {
    "duration": 117,
    "start_time": "2025-03-05T06:07:43.122Z"
   },
   {
    "duration": 189,
    "start_time": "2025-03-05T06:07:43.241Z"
   },
   {
    "duration": 113,
    "start_time": "2025-03-05T06:07:43.432Z"
   },
   {
    "duration": 899,
    "start_time": "2025-03-05T06:13:15.527Z"
   },
   {
    "duration": 15,
    "start_time": "2025-03-05T06:13:16.428Z"
   },
   {
    "duration": 13,
    "start_time": "2025-03-05T06:13:16.445Z"
   },
   {
    "duration": 76,
    "start_time": "2025-03-05T06:13:16.460Z"
   },
   {
    "duration": 11,
    "start_time": "2025-03-05T06:13:16.538Z"
   },
   {
    "duration": 9,
    "start_time": "2025-03-05T06:13:16.551Z"
   },
   {
    "duration": 6,
    "start_time": "2025-03-05T06:13:16.562Z"
   },
   {
    "duration": 7,
    "start_time": "2025-03-05T06:13:16.569Z"
   },
   {
    "duration": 4,
    "start_time": "2025-03-05T06:13:16.578Z"
   },
   {
    "duration": 7,
    "start_time": "2025-03-05T06:13:16.584Z"
   },
   {
    "duration": 50,
    "start_time": "2025-03-05T06:13:16.593Z"
   },
   {
    "duration": 114,
    "start_time": "2025-03-05T06:13:16.645Z"
   },
   {
    "duration": 9,
    "start_time": "2025-03-05T06:13:16.761Z"
   },
   {
    "duration": 1028,
    "start_time": "2025-03-05T06:13:16.771Z"
   },
   {
    "duration": 226,
    "start_time": "2025-03-05T06:13:17.801Z"
   },
   {
    "duration": 187,
    "start_time": "2025-03-05T06:13:18.032Z"
   },
   {
    "duration": 114,
    "start_time": "2025-03-05T06:13:18.221Z"
   },
   {
    "duration": 117,
    "start_time": "2025-03-05T06:13:18.337Z"
   },
   {
    "duration": 180,
    "start_time": "2025-03-05T06:13:18.456Z"
   },
   {
    "duration": 944,
    "start_time": "2025-03-05T06:16:50.368Z"
   },
   {
    "duration": 17,
    "start_time": "2025-03-05T06:16:51.314Z"
   },
   {
    "duration": 14,
    "start_time": "2025-03-05T06:16:51.333Z"
   },
   {
    "duration": 66,
    "start_time": "2025-03-05T06:16:51.349Z"
   },
   {
    "duration": 22,
    "start_time": "2025-03-05T06:16:51.417Z"
   },
   {
    "duration": 10,
    "start_time": "2025-03-05T06:16:51.441Z"
   },
   {
    "duration": 6,
    "start_time": "2025-03-05T06:16:51.452Z"
   },
   {
    "duration": 7,
    "start_time": "2025-03-05T06:16:51.459Z"
   },
   {
    "duration": 4,
    "start_time": "2025-03-05T06:16:51.468Z"
   },
   {
    "duration": 7,
    "start_time": "2025-03-05T06:16:51.474Z"
   },
   {
    "duration": 55,
    "start_time": "2025-03-05T06:16:51.483Z"
   },
   {
    "duration": 121,
    "start_time": "2025-03-05T06:16:51.539Z"
   },
   {
    "duration": 8,
    "start_time": "2025-03-05T06:16:51.662Z"
   },
   {
    "duration": 1031,
    "start_time": "2025-03-05T06:16:51.671Z"
   },
   {
    "duration": 224,
    "start_time": "2025-03-05T06:16:52.704Z"
   },
   {
    "duration": 179,
    "start_time": "2025-03-05T06:16:52.931Z"
   },
   {
    "duration": 124,
    "start_time": "2025-03-05T06:16:53.112Z"
   },
   {
    "duration": 118,
    "start_time": "2025-03-05T06:16:53.238Z"
   },
   {
    "duration": 116,
    "start_time": "2025-03-05T06:16:53.432Z"
   },
   {
    "duration": 109,
    "start_time": "2025-03-05T06:18:06.330Z"
   },
   {
    "duration": 899,
    "start_time": "2025-03-05T06:18:38.196Z"
   },
   {
    "duration": 15,
    "start_time": "2025-03-05T06:18:39.098Z"
   },
   {
    "duration": 22,
    "start_time": "2025-03-05T06:18:39.115Z"
   },
   {
    "duration": 10,
    "start_time": "2025-03-05T06:18:39.138Z"
   },
   {
    "duration": 11,
    "start_time": "2025-03-05T06:18:39.203Z"
   },
   {
    "duration": 10,
    "start_time": "2025-03-05T06:18:39.231Z"
   },
   {
    "duration": 6,
    "start_time": "2025-03-05T06:18:39.243Z"
   },
   {
    "duration": 7,
    "start_time": "2025-03-05T06:18:39.251Z"
   },
   {
    "duration": 3,
    "start_time": "2025-03-05T06:18:39.259Z"
   },
   {
    "duration": 8,
    "start_time": "2025-03-05T06:18:39.264Z"
   },
   {
    "duration": 12,
    "start_time": "2025-03-05T06:18:39.273Z"
   },
   {
    "duration": 147,
    "start_time": "2025-03-05T06:18:39.287Z"
   },
   {
    "duration": 7,
    "start_time": "2025-03-05T06:18:39.436Z"
   },
   {
    "duration": 1032,
    "start_time": "2025-03-05T06:18:39.446Z"
   },
   {
    "duration": 220,
    "start_time": "2025-03-05T06:18:40.480Z"
   },
   {
    "duration": 183,
    "start_time": "2025-03-05T06:18:40.702Z"
   },
   {
    "duration": 147,
    "start_time": "2025-03-05T06:18:40.887Z"
   },
   {
    "duration": 193,
    "start_time": "2025-03-05T06:18:41.038Z"
   },
   {
    "duration": 113,
    "start_time": "2025-03-05T06:18:41.237Z"
   },
   {
    "duration": 2646,
    "start_time": "2025-03-05T18:07:58.502Z"
   },
   {
    "duration": 22,
    "start_time": "2025-03-05T18:08:01.151Z"
   },
   {
    "duration": 13,
    "start_time": "2025-03-05T18:08:01.174Z"
   },
   {
    "duration": 10,
    "start_time": "2025-03-05T18:08:01.189Z"
   },
   {
    "duration": 10,
    "start_time": "2025-03-05T18:08:01.209Z"
   },
   {
    "duration": 9,
    "start_time": "2025-03-05T18:08:01.221Z"
   },
   {
    "duration": 5,
    "start_time": "2025-03-05T18:08:01.233Z"
   },
   {
    "duration": 7,
    "start_time": "2025-03-05T18:08:01.240Z"
   },
   {
    "duration": 3,
    "start_time": "2025-03-05T18:08:01.248Z"
   },
   {
    "duration": 7,
    "start_time": "2025-03-05T18:08:01.254Z"
   },
   {
    "duration": 49,
    "start_time": "2025-03-05T18:08:01.262Z"
   },
   {
    "duration": 117,
    "start_time": "2025-03-05T18:08:01.314Z"
   },
   {
    "duration": 7,
    "start_time": "2025-03-05T18:08:01.433Z"
   },
   {
    "duration": 1021,
    "start_time": "2025-03-05T18:08:01.441Z"
   },
   {
    "duration": 223,
    "start_time": "2025-03-05T18:08:02.463Z"
   },
   {
    "duration": 121,
    "start_time": "2025-03-05T18:08:02.688Z"
   },
   {
    "duration": 117,
    "start_time": "2025-03-05T18:08:02.812Z"
   },
   {
    "duration": 309,
    "start_time": "2025-03-05T18:08:02.931Z"
   },
   {
    "duration": 76,
    "start_time": "2025-03-05T18:08:03.242Z"
   },
   {
    "duration": 989,
    "start_time": "2025-03-05T18:17:03.971Z"
   },
   {
    "duration": 18,
    "start_time": "2025-03-05T18:17:04.963Z"
   },
   {
    "duration": 16,
    "start_time": "2025-03-05T18:17:04.983Z"
   },
   {
    "duration": 76,
    "start_time": "2025-03-05T18:17:05.010Z"
   },
   {
    "duration": 28,
    "start_time": "2025-03-05T18:17:05.088Z"
   },
   {
    "duration": 11,
    "start_time": "2025-03-05T18:17:05.118Z"
   },
   {
    "duration": 8,
    "start_time": "2025-03-05T18:17:05.132Z"
   },
   {
    "duration": 13,
    "start_time": "2025-03-05T18:17:05.142Z"
   },
   {
    "duration": 9,
    "start_time": "2025-03-05T18:17:05.158Z"
   },
   {
    "duration": 9,
    "start_time": "2025-03-05T18:17:05.174Z"
   },
   {
    "duration": 39,
    "start_time": "2025-03-05T18:17:05.185Z"
   },
   {
    "duration": 146,
    "start_time": "2025-03-05T18:17:05.226Z"
   },
   {
    "duration": 9,
    "start_time": "2025-03-05T18:17:05.375Z"
   },
   {
    "duration": 1120,
    "start_time": "2025-03-05T18:17:05.386Z"
   },
   {
    "duration": 229,
    "start_time": "2025-03-05T18:17:06.508Z"
   },
   {
    "duration": 378,
    "start_time": "2025-03-05T18:17:06.739Z"
   },
   {
    "duration": 121,
    "start_time": "2025-03-05T18:17:07.119Z"
   },
   {
    "duration": 307,
    "start_time": "2025-03-05T18:17:07.243Z"
   },
   {
    "duration": 75,
    "start_time": "2025-03-05T18:17:07.552Z"
   },
   {
    "duration": 906,
    "start_time": "2025-03-05T18:26:23.680Z"
   },
   {
    "duration": 15,
    "start_time": "2025-03-05T18:26:24.589Z"
   },
   {
    "duration": 13,
    "start_time": "2025-03-05T18:26:24.606Z"
   },
   {
    "duration": 62,
    "start_time": "2025-03-05T18:26:24.622Z"
   },
   {
    "duration": 27,
    "start_time": "2025-03-05T18:26:24.685Z"
   },
   {
    "duration": 10,
    "start_time": "2025-03-05T18:26:24.713Z"
   },
   {
    "duration": 5,
    "start_time": "2025-03-05T18:26:24.725Z"
   },
   {
    "duration": 6,
    "start_time": "2025-03-05T18:26:24.732Z"
   },
   {
    "duration": 4,
    "start_time": "2025-03-05T18:26:24.739Z"
   },
   {
    "duration": 7,
    "start_time": "2025-03-05T18:26:24.746Z"
   },
   {
    "duration": 13,
    "start_time": "2025-03-05T18:26:24.755Z"
   },
   {
    "duration": 153,
    "start_time": "2025-03-05T18:26:24.769Z"
   },
   {
    "duration": 7,
    "start_time": "2025-03-05T18:26:24.924Z"
   },
   {
    "duration": 1030,
    "start_time": "2025-03-05T18:26:24.933Z"
   },
   {
    "duration": 66,
    "start_time": "2025-03-05T18:26:25.966Z"
   },
   {
    "duration": 356,
    "start_time": "2025-03-05T18:26:26.034Z"
   },
   {
    "duration": 122,
    "start_time": "2025-03-05T18:26:26.391Z"
   },
   {
    "duration": 261,
    "start_time": "2025-03-05T18:26:26.514Z"
   },
   {
    "duration": 52,
    "start_time": "2025-03-05T18:26:26.776Z"
   },
   {
    "duration": 163,
    "start_time": "2025-03-05T18:28:26.939Z"
   },
   {
    "duration": 914,
    "start_time": "2025-03-05T18:28:38.659Z"
   },
   {
    "duration": 15,
    "start_time": "2025-03-05T18:28:39.576Z"
   },
   {
    "duration": 17,
    "start_time": "2025-03-05T18:28:39.592Z"
   },
   {
    "duration": 9,
    "start_time": "2025-03-05T18:28:39.611Z"
   },
   {
    "duration": 58,
    "start_time": "2025-03-05T18:28:39.623Z"
   },
   {
    "duration": 29,
    "start_time": "2025-03-05T18:28:39.682Z"
   },
   {
    "duration": 5,
    "start_time": "2025-03-05T18:28:39.713Z"
   },
   {
    "duration": 8,
    "start_time": "2025-03-05T18:28:39.720Z"
   },
   {
    "duration": 4,
    "start_time": "2025-03-05T18:28:39.729Z"
   },
   {
    "duration": 6,
    "start_time": "2025-03-05T18:28:39.735Z"
   },
   {
    "duration": 17,
    "start_time": "2025-03-05T18:28:39.743Z"
   },
   {
    "duration": 143,
    "start_time": "2025-03-05T18:28:39.764Z"
   },
   {
    "duration": 7,
    "start_time": "2025-03-05T18:28:39.909Z"
   },
   {
    "duration": 1026,
    "start_time": "2025-03-05T18:28:39.919Z"
   },
   {
    "duration": 83,
    "start_time": "2025-03-05T18:28:40.947Z"
   },
   {
    "duration": 360,
    "start_time": "2025-03-05T18:28:41.032Z"
   },
   {
    "duration": 117,
    "start_time": "2025-03-05T18:28:41.394Z"
   },
   {
    "duration": 268,
    "start_time": "2025-03-05T18:28:41.516Z"
   },
   {
    "duration": 43,
    "start_time": "2025-03-05T18:28:41.786Z"
   },
   {
    "duration": 956,
    "start_time": "2025-03-05T18:39:06.359Z"
   },
   {
    "duration": 17,
    "start_time": "2025-03-05T18:39:07.318Z"
   },
   {
    "duration": 13,
    "start_time": "2025-03-05T18:39:07.336Z"
   },
   {
    "duration": 74,
    "start_time": "2025-03-05T18:39:07.351Z"
   },
   {
    "duration": 10,
    "start_time": "2025-03-05T18:39:07.427Z"
   },
   {
    "duration": 9,
    "start_time": "2025-03-05T18:39:07.439Z"
   },
   {
    "duration": 9,
    "start_time": "2025-03-05T18:39:07.449Z"
   },
   {
    "duration": 7,
    "start_time": "2025-03-05T18:39:07.459Z"
   },
   {
    "duration": 3,
    "start_time": "2025-03-05T18:39:07.468Z"
   },
   {
    "duration": 36,
    "start_time": "2025-03-05T18:39:07.474Z"
   },
   {
    "duration": 16,
    "start_time": "2025-03-05T18:39:07.511Z"
   },
   {
    "duration": 121,
    "start_time": "2025-03-05T18:39:07.528Z"
   },
   {
    "duration": 8,
    "start_time": "2025-03-05T18:39:07.651Z"
   },
   {
    "duration": 1032,
    "start_time": "2025-03-05T18:39:07.661Z"
   },
   {
    "duration": 115,
    "start_time": "2025-03-05T18:39:08.694Z"
   },
   {
    "duration": 289,
    "start_time": "2025-03-05T18:39:08.811Z"
   },
   {
    "duration": 111,
    "start_time": "2025-03-05T18:39:09.108Z"
   },
   {
    "duration": 278,
    "start_time": "2025-03-05T18:39:09.221Z"
   },
   {
    "duration": 33,
    "start_time": "2025-03-05T18:39:09.501Z"
   },
   {
    "duration": 32,
    "start_time": "2025-03-05T18:45:38.067Z"
   },
   {
    "duration": 901,
    "start_time": "2025-03-05T18:45:48.304Z"
   },
   {
    "duration": 32,
    "start_time": "2025-03-05T18:45:49.208Z"
   },
   {
    "duration": 14,
    "start_time": "2025-03-05T18:45:49.242Z"
   },
   {
    "duration": 10,
    "start_time": "2025-03-05T18:45:49.258Z"
   },
   {
    "duration": 11,
    "start_time": "2025-03-05T18:45:49.322Z"
   },
   {
    "duration": 10,
    "start_time": "2025-03-05T18:45:49.335Z"
   },
   {
    "duration": 5,
    "start_time": "2025-03-05T18:45:49.347Z"
   },
   {
    "duration": 6,
    "start_time": "2025-03-05T18:45:49.354Z"
   },
   {
    "duration": 6,
    "start_time": "2025-03-05T18:45:49.361Z"
   },
   {
    "duration": 7,
    "start_time": "2025-03-05T18:45:49.369Z"
   },
   {
    "duration": 13,
    "start_time": "2025-03-05T18:45:49.410Z"
   },
   {
    "duration": 122,
    "start_time": "2025-03-05T18:45:49.424Z"
   },
   {
    "duration": 7,
    "start_time": "2025-03-05T18:45:49.549Z"
   },
   {
    "duration": 1024,
    "start_time": "2025-03-05T18:45:49.559Z"
   },
   {
    "duration": 127,
    "start_time": "2025-03-05T18:45:50.585Z"
   },
   {
    "duration": 303,
    "start_time": "2025-03-05T18:45:50.713Z"
   },
   {
    "duration": 107,
    "start_time": "2025-03-05T18:45:51.018Z"
   },
   {
    "duration": 300,
    "start_time": "2025-03-05T18:45:51.127Z"
   },
   {
    "duration": 87,
    "start_time": "2025-03-05T18:45:51.429Z"
   },
   {
    "duration": 912,
    "start_time": "2025-03-05T18:48:59.983Z"
   },
   {
    "duration": 15,
    "start_time": "2025-03-05T18:49:00.898Z"
   },
   {
    "duration": 14,
    "start_time": "2025-03-05T18:49:00.915Z"
   },
   {
    "duration": 77,
    "start_time": "2025-03-05T18:49:00.931Z"
   },
   {
    "duration": 10,
    "start_time": "2025-03-05T18:49:01.011Z"
   },
   {
    "duration": 9,
    "start_time": "2025-03-05T18:49:01.023Z"
   },
   {
    "duration": 6,
    "start_time": "2025-03-05T18:49:01.034Z"
   },
   {
    "duration": 8,
    "start_time": "2025-03-05T18:49:01.041Z"
   },
   {
    "duration": 4,
    "start_time": "2025-03-05T18:49:01.050Z"
   },
   {
    "duration": 7,
    "start_time": "2025-03-05T18:49:01.056Z"
   },
   {
    "duration": 46,
    "start_time": "2025-03-05T18:49:01.064Z"
   },
   {
    "duration": 118,
    "start_time": "2025-03-05T18:49:01.111Z"
   },
   {
    "duration": 7,
    "start_time": "2025-03-05T18:49:01.231Z"
   },
   {
    "duration": 1030,
    "start_time": "2025-03-05T18:49:01.240Z"
   },
   {
    "duration": 53,
    "start_time": "2025-03-05T18:49:02.272Z"
   },
   {
    "duration": 322,
    "start_time": "2025-03-05T18:49:02.327Z"
   },
   {
    "duration": 73,
    "start_time": "2025-03-05T18:49:02.651Z"
   },
   {
    "duration": 295,
    "start_time": "2025-03-05T18:49:02.726Z"
   },
   {
    "duration": 91,
    "start_time": "2025-03-05T18:49:03.022Z"
   },
   {
    "duration": 978,
    "start_time": "2025-03-05T18:50:14.510Z"
   },
   {
    "duration": 20,
    "start_time": "2025-03-05T18:50:15.490Z"
   },
   {
    "duration": 13,
    "start_time": "2025-03-05T18:50:15.512Z"
   },
   {
    "duration": 10,
    "start_time": "2025-03-05T18:50:15.526Z"
   },
   {
    "duration": 26,
    "start_time": "2025-03-05T18:50:15.589Z"
   },
   {
    "duration": 10,
    "start_time": "2025-03-05T18:50:15.617Z"
   },
   {
    "duration": 5,
    "start_time": "2025-03-05T18:50:15.628Z"
   },
   {
    "duration": 7,
    "start_time": "2025-03-05T18:50:15.635Z"
   },
   {
    "duration": 3,
    "start_time": "2025-03-05T18:50:15.644Z"
   },
   {
    "duration": 7,
    "start_time": "2025-03-05T18:50:15.649Z"
   },
   {
    "duration": 12,
    "start_time": "2025-03-05T18:50:15.657Z"
   },
   {
    "duration": 111,
    "start_time": "2025-03-05T18:50:15.709Z"
   },
   {
    "duration": 7,
    "start_time": "2025-03-05T18:50:15.822Z"
   },
   {
    "duration": 1023,
    "start_time": "2025-03-05T18:50:15.832Z"
   },
   {
    "duration": 73,
    "start_time": "2025-03-05T18:50:16.857Z"
   },
   {
    "duration": 381,
    "start_time": "2025-03-05T18:50:16.931Z"
   },
   {
    "duration": 125,
    "start_time": "2025-03-05T18:50:17.314Z"
   },
   {
    "duration": 256,
    "start_time": "2025-03-05T18:50:17.511Z"
   },
   {
    "duration": 61,
    "start_time": "2025-03-05T18:50:17.769Z"
   },
   {
    "duration": 2654,
    "start_time": "2025-03-06T05:32:46.596Z"
   },
   {
    "duration": 26,
    "start_time": "2025-03-06T05:32:49.253Z"
   },
   {
    "duration": 13,
    "start_time": "2025-03-06T05:32:49.280Z"
   },
   {
    "duration": 9,
    "start_time": "2025-03-06T05:32:49.295Z"
   },
   {
    "duration": 11,
    "start_time": "2025-03-06T05:32:49.306Z"
   },
   {
    "duration": 10,
    "start_time": "2025-03-06T05:32:49.319Z"
   },
   {
    "duration": 39,
    "start_time": "2025-03-06T05:32:49.331Z"
   },
   {
    "duration": 7,
    "start_time": "2025-03-06T05:32:49.372Z"
   },
   {
    "duration": 3,
    "start_time": "2025-03-06T05:32:49.381Z"
   },
   {
    "duration": 7,
    "start_time": "2025-03-06T05:32:49.387Z"
   },
   {
    "duration": 13,
    "start_time": "2025-03-06T05:32:49.396Z"
   },
   {
    "duration": 136,
    "start_time": "2025-03-06T05:32:49.410Z"
   },
   {
    "duration": 7,
    "start_time": "2025-03-06T05:32:49.548Z"
   },
   {
    "duration": 1023,
    "start_time": "2025-03-06T05:32:49.557Z"
   },
   {
    "duration": 100,
    "start_time": "2025-03-06T05:32:50.582Z"
   },
   {
    "duration": 328,
    "start_time": "2025-03-06T05:32:50.687Z"
   },
   {
    "duration": 75,
    "start_time": "2025-03-06T05:32:51.017Z"
   },
   {
    "duration": 240,
    "start_time": "2025-03-06T05:32:51.169Z"
   },
   {
    "duration": 74,
    "start_time": "2025-03-06T05:32:51.412Z"
   },
   {
    "duration": 6,
    "start_time": "2025-03-06T05:34:14.243Z"
   },
   {
    "duration": 4,
    "start_time": "2025-03-06T05:34:33.540Z"
   },
   {
    "duration": 485,
    "start_time": "2025-03-06T05:38:35.820Z"
   },
   {
    "duration": 892,
    "start_time": "2025-03-06T05:38:55.352Z"
   },
   {
    "duration": 15,
    "start_time": "2025-03-06T05:38:56.247Z"
   },
   {
    "duration": 17,
    "start_time": "2025-03-06T05:38:56.263Z"
   },
   {
    "duration": 10,
    "start_time": "2025-03-06T05:38:56.281Z"
   },
   {
    "duration": 28,
    "start_time": "2025-03-06T05:38:56.343Z"
   },
   {
    "duration": 9,
    "start_time": "2025-03-06T05:38:56.373Z"
   },
   {
    "duration": 6,
    "start_time": "2025-03-06T05:38:56.383Z"
   },
   {
    "duration": 7,
    "start_time": "2025-03-06T05:38:56.390Z"
   },
   {
    "duration": 4,
    "start_time": "2025-03-06T05:38:56.398Z"
   },
   {
    "duration": 7,
    "start_time": "2025-03-06T05:38:56.404Z"
   },
   {
    "duration": 14,
    "start_time": "2025-03-06T05:38:56.412Z"
   },
   {
    "duration": 164,
    "start_time": "2025-03-06T05:38:56.427Z"
   },
   {
    "duration": 8,
    "start_time": "2025-03-06T05:38:56.593Z"
   },
   {
    "duration": 1088,
    "start_time": "2025-03-06T05:38:56.605Z"
   },
   {
    "duration": 90,
    "start_time": "2025-03-06T05:38:57.695Z"
   },
   {
    "duration": 337,
    "start_time": "2025-03-06T05:38:57.786Z"
   },
   {
    "duration": 146,
    "start_time": "2025-03-06T05:38:58.125Z"
   },
   {
    "duration": 249,
    "start_time": "2025-03-06T05:38:58.273Z"
   },
   {
    "duration": 179,
    "start_time": "2025-03-06T05:38:58.524Z"
   },
   {
    "duration": 76,
    "start_time": "2025-03-06T05:38:58.705Z"
   },
   {
    "duration": 457,
    "start_time": "2025-03-06T05:45:29.757Z"
   },
   {
    "duration": 1036,
    "start_time": "2025-03-06T05:45:39.220Z"
   },
   {
    "duration": 31,
    "start_time": "2025-03-06T05:45:40.258Z"
   },
   {
    "duration": 14,
    "start_time": "2025-03-06T05:45:40.299Z"
   },
   {
    "duration": 83,
    "start_time": "2025-03-06T05:45:40.316Z"
   },
   {
    "duration": 11,
    "start_time": "2025-03-06T05:45:40.402Z"
   },
   {
    "duration": 10,
    "start_time": "2025-03-06T05:45:40.415Z"
   },
   {
    "duration": 6,
    "start_time": "2025-03-06T05:45:40.427Z"
   },
   {
    "duration": 6,
    "start_time": "2025-03-06T05:45:40.435Z"
   },
   {
    "duration": 4,
    "start_time": "2025-03-06T05:45:40.443Z"
   },
   {
    "duration": 38,
    "start_time": "2025-03-06T05:45:40.450Z"
   },
   {
    "duration": 18,
    "start_time": "2025-03-06T05:45:40.493Z"
   },
   {
    "duration": 127,
    "start_time": "2025-03-06T05:45:40.512Z"
   },
   {
    "duration": 8,
    "start_time": "2025-03-06T05:45:40.641Z"
   },
   {
    "duration": 1210,
    "start_time": "2025-03-06T05:45:40.651Z"
   },
   {
    "duration": 123,
    "start_time": "2025-03-06T05:45:41.863Z"
   },
   {
    "duration": 337,
    "start_time": "2025-03-06T05:45:41.990Z"
   },
   {
    "duration": 163,
    "start_time": "2025-03-06T05:45:42.330Z"
   },
   {
    "duration": 271,
    "start_time": "2025-03-06T05:45:42.497Z"
   },
   {
    "duration": 188,
    "start_time": "2025-03-06T05:45:42.771Z"
   },
   {
    "duration": 218,
    "start_time": "2025-03-06T05:45:42.961Z"
   },
   {
    "duration": 89,
    "start_time": "2025-03-06T05:45:43.181Z"
   },
   {
    "duration": 865,
    "start_time": "2025-03-06T05:51:38.521Z"
   },
   {
    "duration": 15,
    "start_time": "2025-03-06T05:51:39.388Z"
   },
   {
    "duration": 14,
    "start_time": "2025-03-06T05:51:39.404Z"
   },
   {
    "duration": 74,
    "start_time": "2025-03-06T05:51:39.419Z"
   },
   {
    "duration": 10,
    "start_time": "2025-03-06T05:51:39.496Z"
   },
   {
    "duration": 10,
    "start_time": "2025-03-06T05:51:39.507Z"
   },
   {
    "duration": 6,
    "start_time": "2025-03-06T05:51:39.519Z"
   },
   {
    "duration": 6,
    "start_time": "2025-03-06T05:51:39.527Z"
   },
   {
    "duration": 35,
    "start_time": "2025-03-06T05:51:39.535Z"
   },
   {
    "duration": 8,
    "start_time": "2025-03-06T05:51:39.572Z"
   },
   {
    "duration": 15,
    "start_time": "2025-03-06T05:51:39.582Z"
   },
   {
    "duration": 133,
    "start_time": "2025-03-06T05:51:39.598Z"
   },
   {
    "duration": 8,
    "start_time": "2025-03-06T05:51:39.733Z"
   },
   {
    "duration": 1014,
    "start_time": "2025-03-06T05:51:39.744Z"
   },
   {
    "duration": 116,
    "start_time": "2025-03-06T05:51:40.761Z"
   },
   {
    "duration": 313,
    "start_time": "2025-03-06T05:51:40.879Z"
   },
   {
    "duration": 91,
    "start_time": "2025-03-06T05:51:41.194Z"
   },
   {
    "duration": 285,
    "start_time": "2025-03-06T05:51:41.287Z"
   },
   {
    "duration": 186,
    "start_time": "2025-03-06T05:51:41.574Z"
   },
   {
    "duration": 38,
    "start_time": "2025-03-06T05:51:41.762Z"
   }
  ],
  "kernelspec": {
   "display_name": "Python 3 (ipykernel)",
   "language": "python",
   "name": "python3"
  },
  "language_info": {
   "codemirror_mode": {
    "name": "ipython",
    "version": 3
   },
   "file_extension": ".py",
   "mimetype": "text/x-python",
   "name": "python",
   "nbconvert_exporter": "python",
   "pygments_lexer": "ipython3",
   "version": "3.9.19"
  },
  "toc": {
   "base_numbering": 1,
   "nav_menu": {},
   "number_sections": true,
   "sideBar": true,
   "skip_h1_title": true,
   "title_cell": "Table of Contents",
   "title_sidebar": "Contents",
   "toc_cell": false,
   "toc_position": {},
   "toc_section_display": true,
   "toc_window_display": false
  }
 },
 "nbformat": 4,
 "nbformat_minor": 2
}
