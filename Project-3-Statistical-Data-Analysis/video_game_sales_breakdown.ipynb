{
 "cells": [
  {
   "cell_type": "markdown",
   "metadata": {},
   "source": [
    "<h1 style='text-align: center; front-size: 50px;'>Patterns Behind Best-Selling Games</h1>"
   ]
  },
  {
   "cell_type": "markdown",
   "metadata": {},
   "source": [
    "# Introduction:\n",
    "\n",
    "In this project, we will work with data from the online store 'Ice', which sells video games all over the world. User and expert reviews, genres, platforms (e.g. Xbox or PlayStation), and historical data on game sales are available from open source. Our mission is to clean up the data and prepare a report that gives insight into identifying patterns that determine whether a game succeeds or not. This will allow us to spot potential big winners and plan advertising campaigns.The dataset is stored in a single file (/datasets/games.csv). During data preprocessing, we will:\n",
    "\n",
    "- Load and display the dataset in a standardized format.\n",
    "- Verify and correct data types.\n",
    "- Identify and handle missing values.\n",
    "- Detect and remove duplicate entries.\n",
    "- Create visualizations to clearly communicate insights from the data.\n",
    "\n",
    "By following this process, we aim to produce a detailed report that provides actionable insights for business strategy."
   ]
  },
  {
   "cell_type": "markdown",
   "metadata": {},
   "source": [
    "# Step 1. Initialization:"
   ]
  },
  {
   "cell_type": "code",
   "execution_count": null,
   "metadata": {},
   "outputs": [],
   "source": [
    "# Loading all the libraries\n",
    "import pandas as pd\n",
    "import numpy as np\n",
    "import seaborn as sns\n",
    "import math\n",
    "import matplotlib.pyplot as plt\n",
    "import scipy.stats as stats"
   ]
  },
  {
   "cell_type": "markdown",
   "metadata": {},
   "source": [
    "# Step 2. Load data:"
   ]
  },
  {
   "cell_type": "code",
   "execution_count": null,
   "metadata": {
    "scrolled": true
   },
   "outputs": [],
   "source": [
    "video_games = pd.read_csv('/datasets/games.csv')\n",
    "video_games.head()"
   ]
  },
  {
   "cell_type": "markdown",
   "metadata": {},
   "source": [
    "# Step 3. Preparing and Fixing the Data:"
   ]
  },
  {
   "cell_type": "code",
   "execution_count": null,
   "metadata": {},
   "outputs": [],
   "source": [
    "# Renaming columns names:\n",
    "video_games = video_games.rename(columns={'Name': 'name',\n",
    "                                         'Platform': 'platform',\n",
    "                                         'Year_of_Release': 'year_of_release',\n",
    "                                         'Genre': 'genre',\n",
    "                                         'NA_sales': 'na_sales',\n",
    "                                         'EU_sales': 'eu_sales',\n",
    "                                         'JP_sales': 'jp_sales',\n",
    "                                         'Other_sales': 'other_sales',\n",
    "                                         'Critic_Score': 'critic_score',\n",
    "                                         'User_Score': 'user_score',\n",
    "                                         'Rating': 'rating'}\n",
    "                                )\n",
    "video_games.head()"
   ]
  },
  {
   "cell_type": "code",
   "execution_count": null,
   "metadata": {},
   "outputs": [],
   "source": [
    "# Data overview:\n",
    "video_games.info()"
   ]
  },
  {
   "cell_type": "code",
   "execution_count": null,
   "metadata": {},
   "outputs": [],
   "source": [
    "# Checking for missing values:\n",
    "video_games.isna().sum()"
   ]
  },
  {
   "cell_type": "code",
   "execution_count": null,
   "metadata": {},
   "outputs": [],
   "source": [
    "# Checking for duplicates:\n",
    "video_games.duplicated().sum()"
   ]
  },
  {
   "cell_type": "code",
   "execution_count": null,
   "metadata": {},
   "outputs": [],
   "source": [
    "# Dropping rows where 'name', 'year_of_release', 'genre' is missing:\n",
    "video_games.dropna(subset=['name', 'year_of_release', 'genre'], inplace=True)"
   ]
  },
  {
   "cell_type": "code",
   "execution_count": null,
   "metadata": {},
   "outputs": [],
   "source": [
    "# Converting 'year_of_release' into datetime:\n",
    "video_games['year_of_release'] = pd.to_datetime(video_games['year_of_release'], format='%Y').dt.year\n",
    "video_games.head(10)"
   ]
  },
  {
   "cell_type": "code",
   "execution_count": null,
   "metadata": {},
   "outputs": [],
   "source": [
    "# Replacing 'tbd' by 'None':\n",
    "video_games['user_score'] = video_games['user_score'].replace('tbd', None)\n",
    "video_games.head()"
   ]
  },
  {
   "cell_type": "code",
   "execution_count": null,
   "metadata": {},
   "outputs": [],
   "source": [
    "# Converting 'user_score' into Numerical:\n",
    "video_games['user_score'] = video_games['user_score'].astype(float)"
   ]
  },
  {
   "cell_type": "code",
   "execution_count": null,
   "metadata": {},
   "outputs": [],
   "source": [
    "# Filling missing values in 'rating' using 'Unknown':\n",
    "video_games['rating'] = video_games['rating'].fillna('Unknown')\n",
    "video_games.head(10)"
   ]
  },
  {
   "cell_type": "code",
   "execution_count": null,
   "metadata": {},
   "outputs": [],
   "source": [
    "# Double checking for missing values:\n",
    "video_games.isna().sum()"
   ]
  },
  {
   "cell_type": "code",
   "execution_count": null,
   "metadata": {},
   "outputs": [],
   "source": [
    "# Calculating the total sales for each game:\n",
    "video_games['total_sales'] = video_games[['na_sales', 'eu_sales', 'jp_sales', 'other_sales']].sum(axis=1)\n",
    "video_games.sample(n=5)"
   ]
  },
  {
   "cell_type": "markdown",
   "metadata": {},
   "source": [
    "# Step 4. Analyzing the data:"
   ]
  },
  {
   "cell_type": "code",
   "execution_count": null,
   "metadata": {},
   "outputs": [],
   "source": [
    "# Number of games released in different years:\n",
    "yearly_game_counts = video_games['year_of_release'].value_counts().sort_index()\n",
    "yearly_game_counts.head()"
   ]
  },
  {
   "cell_type": "code",
   "execution_count": null,
   "metadata": {},
   "outputs": [],
   "source": [
    "yearly_game_counts.describe()"
   ]
  },
  {
   "cell_type": "code",
   "execution_count": null,
   "metadata": {},
   "outputs": [],
   "source": [
    "# Creating a Line Chart: \n",
    "plt.figure(figsize=(8, 4))\n",
    "plt.plot(yearly_game_counts)\n",
    "plt.title('Number of Games Released Yearly')\n",
    "plt.xlabel('Year of Release')\n",
    "plt.ylabel('Number of Games')\n",
    "plt.show()"
   ]
  },
  {
   "cell_type": "markdown",
   "metadata": {},
   "source": [
    "The dataset covers 37 years, with an average of 452 games released per year, though this varies significantly **(standard deviation: 469.66)**. Game releases range from 9 (Min) to 1,696 (Max) per year, peaking around **2005 - 2011** before declining.  With 25% of years having fewer than 36 games and 25% having 762 or more. The median is 338 games per year, indicating limited data in earlier years, a rapid expansion starting in **1995** and a peak followed by decline in recent years."
   ]
  },
  {
   "cell_type": "code",
   "execution_count": null,
   "metadata": {},
   "outputs": [],
   "source": [
    "# Grouping 'platform' by 'total sales':\n",
    "platform_sales = video_games.groupby(['year_of_release', 'platform'])['total_sales'].sum().reset_index()\n",
    "platform_sales.sample(n=5)"
   ]
  },
  {
   "cell_type": "code",
   "execution_count": null,
   "metadata": {},
   "outputs": [],
   "source": [
    "# Sorting 'platform_sales' by total sales and select the top 10:\n",
    "top_10_platforms = platform_sales.sort_values(by='total_sales', ascending=False).reset_index(drop=True).head(10)\n",
    "top_10_platforms"
   ]
  },
  {
   "cell_type": "code",
   "execution_count": null,
   "metadata": {},
   "outputs": [],
   "source": [
    "# Sorting 'platform_sales' by total sales and select the bottom 10:\n",
    "bottom_10_platforms = platform_sales.sort_values(by='total_sales', ascending=False).reset_index(drop=True).tail(10)\n",
    "bottom_10_platforms"
   ]
  },
  {
   "cell_type": "code",
   "execution_count": null,
   "metadata": {},
   "outputs": [],
   "source": [
    "# Create a figure with 2 subplots\n",
    "fig, (ax1, ax2) = plt.subplots(1, 2, figsize=(18, 6))\n",
    "\n",
    "# First subplot for 'top_10_platforms': \n",
    "sns.barplot(data=top_10_platforms, x='year_of_release', y='total_sales', hue='platform', ax=ax1)\n",
    "ax1.set_xlabel('Year of Release')\n",
    "ax1.set_ylabel('Total Sales')\n",
    "ax1.set_title('Top 10 Platforms by Total Sales')\n",
    "ax1.tick_params(axis='x', rotation=45)\n",
    "\n",
    "# Second subplot for 'bottom_10_platforms':\n",
    "sns.barplot(data=bottom_10_platforms, x='year_of_release', y='total_sales', hue='platform', ax=ax2)\n",
    "ax2.set_title('Bottom 10 Platforms by Total Sales')\n",
    "ax2.set_xlabel('Year of Release')\n",
    "ax2.set_ylabel('Total Sales')\n",
    "ax2.tick_params(axis='x', rotation=45)\n",
    "\n",
    "\n",
    "# Adjusting layout to prevent overlap:\n",
    "plt.tight_layout()\n",
    "plt.show()"
   ]
  },
  {
   "cell_type": "markdown",
   "metadata": {},
   "source": [
    "The graphs above shows a significant gap between the top and bottom platforms in total sales. The **PS2** dominates the top 10, followed by **The Xbox 360, PS3, Wii**, showcasing the success of brands like Sony, Microsoft and Nintendo. Most top performing platforms were released between 1998 and 2010. On the other hand, devices like **3DO, GG, PCFX**, many of which were released between 1985 and 1995, struggled with much lower sales."
   ]
  },
  {
   "cell_type": "code",
   "execution_count": null,
   "metadata": {},
   "outputs": [],
   "source": [
    "# Displaying data from 2013 and up:\n",
    "video_games_from_2013 = video_games[video_games['year_of_release'] >= 2013].reset_index(drop=True)\n",
    "video_games_from_2013.sample(n=5)"
   ]
  },
  {
   "cell_type": "code",
   "execution_count": null,
   "metadata": {},
   "outputs": [],
   "source": [
    "# Calculating the 'total sales_2013' for each game:\n",
    "video_games_from_2013['total_sales_2013'] = video_games_from_2013[['na_sales', 'eu_sales', 'jp_sales', 'other_sales']].sum(axis=1)\n",
    "video_games_from_2013.head()"
   ]
  },
  {
   "cell_type": "code",
   "execution_count": null,
   "metadata": {},
   "outputs": [],
   "source": [
    "# Grouping 'platform' by 'total sales' in the 'video_games_from_2013':\n",
    "platform_sales_2013 = video_games_from_2013.groupby(['year_of_release', 'platform'])['total_sales_2013'].sum().reset_index()\n",
    "platform_sales_2013.head()"
   ]
  },
  {
   "cell_type": "code",
   "execution_count": null,
   "metadata": {},
   "outputs": [],
   "source": [
    "# Sorting 'platform_sales_2013' by 'total_sales_2013' and select the top 5:\n",
    "top_5_platforms = platform_sales_2013.sort_values(by='total_sales_2013', ascending=False).reset_index(drop=True).head()\n",
    "top_5_platforms"
   ]
  },
  {
   "cell_type": "code",
   "execution_count": null,
   "metadata": {},
   "outputs": [],
   "source": [
    "# Sorting 'platform_sales_2013' by 'total_sales_2013' and select the bottom 5:\n",
    "bottom_5_platforms = platform_sales_2013.sort_values(by='total_sales_2013', ascending=False).reset_index(drop=True).tail()\n",
    "bottom_5_platforms"
   ]
  },
  {
   "cell_type": "markdown",
   "metadata": {},
   "source": [
    "From 2013 and up, **The Xbox 360, PS3, PS4** dominated total sales, highlighting their strong market impact and long-lasting popularity. In contrast, platforms like **PS2**, **PSP** and **Wii** saw a significant decline in sales, indicating the end of their lifecycle. "
   ]
  },
  {
   "cell_type": "code",
   "execution_count": null,
   "metadata": {},
   "outputs": [],
   "source": [
    "# Createing the box plot:\n",
    "plt.figure(figsize=(12, 6))\n",
    "sns.boxplot(x='platform', y='total_sales_2013', data=video_games_from_2013)\n",
    "plt.title('Global Sales of 2013 and up by Platform')\n",
    "plt.xlabel('Platform')\n",
    "plt.ylabel('Total Sales')\n",
    "plt.xticks(rotation=45)\n",
    "plt.tight_layout()\n",
    "plt.ylim(0,3)\n",
    "plt.show()"
   ]
  },
  {
   "cell_type": "code",
   "execution_count": null,
   "metadata": {},
   "outputs": [],
   "source": [
    "# Calculating the Average of 'total_sales_2013':\n",
    "average_sales_by_platform = video_games_from_2013.groupby('platform')['total_sales_2013'].mean().sort_values(ascending=False)\n",
    "average_sales_by_platform"
   ]
  },
  {
   "cell_type": "markdown",
   "metadata": {},
   "source": [
    "From 2013 onward, **Xbox 360, PS4, XOne** dominated global sales, with higher average sales compared to other platforms. These platforms had a wide range of game performances, indicating strong popularity.\n",
    "\n",
    "In contrast, platforms like **PSP, DS, PSV** had much lower sales, showing they were no longer major players in the market during this period. Platforms like **PC** had consistent but lower sales compared to the top platforms.\n",
    "\n",
    "Overall, the top platforms significantly outperformed others, making them key drivers of the gaming industry after 2013."
   ]
  },
  {
   "cell_type": "code",
   "execution_count": null,
   "metadata": {},
   "outputs": [],
   "source": [
    "# Filtering data by the chosen platform:\n",
    "platform_data = video_games_from_2013[video_games_from_2013['platform'] == 'X360']\n",
    "platform_data.head()"
   ]
  },
  {
   "cell_type": "code",
   "execution_count": null,
   "metadata": {},
   "outputs": [],
   "source": [
    "# Create a figure with 2 subplots:\n",
    "fig, (ax1, ax2) = plt.subplots(1, 2, figsize=(16, 6))\n",
    "\n",
    "# First Scatter plot for user scores vs. 'total sales_2010':\n",
    "sns.scatterplot(x='user_score', y='total_sales_2013', data=platform_data, ax=ax1)\n",
    "ax1.set_title('User Scores vs. Sales for (X360)')\n",
    "ax1.set_xlabel('User Score')\n",
    "ax1.set_ylabel('Total Sales')\n",
    "\n",
    "# Second Scatter plot for Critic Scores vs. 'total sales_2010':\n",
    "sns.scatterplot(x='critic_score', y='total_sales_2013', data=platform_data, ax=ax2)\n",
    "ax2.set_title('Critic Scores vs. Sales for (X360)')\n",
    "ax2.set_xlabel('Critic Score')\n",
    "ax2.set_ylabel('Total Sales')\n",
    "\n",
    "# Adjust layout to prevent overlap:\n",
    "plt.tight_layout()\n",
    "plt.show()"
   ]
  },
  {
   "cell_type": "code",
   "execution_count": null,
   "metadata": {},
   "outputs": [],
   "source": [
    "# Calculating correlation between User Score and Total Sales:\n",
    "user_score_corr = platform_data['user_score'].corr(platform_data['total_sales_2013'])\n",
    "f\"Correlation (User Score Vs. Total Sales) for 'X360':{user_score_corr:.2f}\""
   ]
  },
  {
   "cell_type": "code",
   "execution_count": null,
   "metadata": {},
   "outputs": [],
   "source": [
    "# Calculating correlation between Critic Score and Total Sales:\n",
    "critic_score_corr = platform_data['critic_score'].corr(platform_data['total_sales_2013'])\n",
    "f\"Correlation (Critic Score Vs. Total Sales) for 'X360':{critic_score_corr:.2f}\""
   ]
  },
  {
   "cell_type": "markdown",
   "metadata": {},
   "source": [
    "The analysis shows that **User Score** have almost no impact on game sales for X360 (correlation: -0.01), while **Critic Score** show a weak positive influence (correlation: 0.35). This indicates that critic reviews may slightly influence sales."
   ]
  },
  {
   "cell_type": "code",
   "execution_count": null,
   "metadata": {},
   "outputs": [],
   "source": [
    "# Identifing Unique Names on X360:\n",
    "x360_game = platform_data['name'].unique()\n",
    "len(x360_game)"
   ]
  },
  {
   "cell_type": "code",
   "execution_count": null,
   "metadata": {},
   "outputs": [],
   "source": [
    "# Filtering data across all platforms:\n",
    "same_game = video_games_from_2013[video_games_from_2013['name'].isin(x360_game)]\n",
    "same_game.head()"
   ]
  },
  {
   "cell_type": "code",
   "execution_count": null,
   "metadata": {},
   "outputs": [],
   "source": [
    "# Grouping by Names and platform to compare Sales:\n",
    "comparison_sales = same_game.groupby(['name', 'platform'])['total_sales_2013'].sum().reset_index()\n",
    "comparison_sales.head(10)"
   ]
  },
  {
   "cell_type": "markdown",
   "metadata": {},
   "source": [
    "After filtering data across all platforms, **X360** appears to have higher sales for multi-platform games compared to other platforms. Meanwhile, **PS** has moderate sales for the same titles. \n"
   ]
  },
  {
   "cell_type": "code",
   "execution_count": null,
   "metadata": {},
   "outputs": [],
   "source": [
    "# Grouping data by Genre and Totale Sales:\n",
    "genre_sales = video_games_from_2013.groupby('genre')['total_sales_2013'].sum().sort_values(ascending=False)\n",
    "genre_sales"
   ]
  },
  {
   "cell_type": "code",
   "execution_count": null,
   "metadata": {},
   "outputs": [],
   "source": [
    "plt.figure(figsize=(8, 4))\n",
    "genre_sales.plot(kind='bar', color='blue')\n",
    "plt.title('Total Sales by Genre')\n",
    "plt.xlabel('Genre')\n",
    "plt.ylabel('Total Sales')\n",
    "plt.xticks(rotation=45)\n",
    "plt.tight_layout()\n",
    "plt.show()"
   ]
  },
  {
   "cell_type": "code",
   "execution_count": null,
   "metadata": {},
   "outputs": [],
   "source": [
    "# Createing the box plot:\n",
    "plt.figure(figsize=(12, 6))\n",
    "sns.boxplot(x='genre', y='total_sales_2013', data=video_games_from_2013)\n",
    "plt.title('Total Sales of 2013 and up by Genre')\n",
    "plt.xlabel('Genre')\n",
    "plt.ylabel('Total Sales')\n",
    "plt.xticks(rotation=45)\n",
    "plt.tight_layout()\n",
    "plt.ylim(0,3)\n",
    "plt.show()"
   ]
  },
  {
   "cell_type": "markdown",
   "metadata": {},
   "source": [
    "The graph above, shows that **Action, Shooter, Sports** genres have the highest total sales, making them the most popular and profitable. Genres like **Role-Playing, Racing** have moderate sales, while **Strategy, Puzzle** have the lowest sales."
   ]
  },
  {
   "cell_type": "markdown",
   "metadata": {},
   "source": [
    "# Step 5. Creating a user profile for each region:"
   ]
  },
  {
   "cell_type": "code",
   "execution_count": null,
   "metadata": {},
   "outputs": [],
   "source": [
    "# Grouping Sales by Platform and Region:\n",
    "region_platform_sales = video_games_from_2013.groupby('platform')[['na_sales', 'eu_sales', 'jp_sales', 'other_sales']].sum()\n",
    "region_platform_sales"
   ]
  },
  {
   "cell_type": "code",
   "execution_count": null,
   "metadata": {},
   "outputs": [],
   "source": [
    "# Determining Top 5 Platforms in NA region:\n",
    "top_na_platforms = region_platform_sales['na_sales'].sort_values(ascending=False).head()\n",
    "top_na_platforms"
   ]
  },
  {
   "cell_type": "code",
   "execution_count": null,
   "metadata": {},
   "outputs": [],
   "source": [
    "# Creating a Bar Plot NA Region:\n",
    "plt.figure(figsize=(8,4))\n",
    "top_na_platforms.plot(kind='bar', color='blue')\n",
    "plt.title('Top 5 Platforms in NA region')\n",
    "plt.xlabel('Platforms')\n",
    "plt.ylabel('Sales')\n",
    "plt.xticks(rotation=45)\n",
    "plt.show()"
   ]
  },
  {
   "cell_type": "markdown",
   "metadata": {},
   "source": [
    "**North American gamers** favored **XOne** and **PS4**, suggesting support and popularity during the chossen period (2013 and up). "
   ]
  },
  {
   "cell_type": "code",
   "execution_count": null,
   "metadata": {},
   "outputs": [],
   "source": [
    "# Determining Top 5 Platforms in EU region:\n",
    "top_eu_platforms = region_platform_sales['eu_sales'].sort_values(ascending=False).head()\n",
    "top_eu_platforms"
   ]
  },
  {
   "cell_type": "code",
   "execution_count": null,
   "metadata": {},
   "outputs": [],
   "source": [
    "# Creating a Bar Plot EU Region:\n",
    "plt.figure(figsize=(8,4))\n",
    "top_eu_platforms.plot(kind='bar', color='green')\n",
    "plt.title('Top 5 Platforms in EU region')\n",
    "plt.xlabel('Platforms')\n",
    "plt.ylabel('Sales')\n",
    "plt.xticks(rotation=45)\n",
    "plt.show()"
   ]
  },
  {
   "cell_type": "markdown",
   "metadata": {},
   "source": [
    "**PS4** leads in **Europe**, showing its strong dominance."
   ]
  },
  {
   "cell_type": "code",
   "execution_count": null,
   "metadata": {},
   "outputs": [],
   "source": [
    "# Determining Top 5 Platforms in JP region:\n",
    "top_jp_platforms = region_platform_sales['jp_sales'].sort_values(ascending=False).head()\n",
    "top_jp_platforms"
   ]
  },
  {
   "cell_type": "code",
   "execution_count": null,
   "metadata": {},
   "outputs": [],
   "source": [
    "# Creating a Bar Plot JP Region:\n",
    "plt.figure(figsize=(8,4))\n",
    "top_jp_platforms.plot(kind='bar', color='pink')\n",
    "plt.title('Top 5 Platforms in JP region')\n",
    "plt.xlabel('Platforms')\n",
    "plt.ylabel('Sales')\n",
    "plt.xticks(rotation=45)\n",
    "plt.show()"
   ]
  },
  {
   "cell_type": "markdown",
   "metadata": {},
   "source": [
    "**Japan** has a unique gaming market whre handheld platforms like **3DS, PSV** dominate. This reflects a preference for portable gaming devices."
   ]
  },
  {
   "cell_type": "code",
   "execution_count": null,
   "metadata": {},
   "outputs": [],
   "source": [
    "# Determining Top 5 Platforms in Other regions:\n",
    "top_other_platforms = region_platform_sales['other_sales'].sort_values(ascending=False).head()\n",
    "top_other_platforms"
   ]
  },
  {
   "cell_type": "code",
   "execution_count": null,
   "metadata": {},
   "outputs": [],
   "source": [
    "# Creating a Bar Plot Other Regions:\n",
    "plt.figure(figsize=(8,4))\n",
    "top_other_platforms.plot(kind='bar', color='orange')\n",
    "plt.title('Top 5 Platforms in Other regions')\n",
    "plt.xlabel('Platforms')\n",
    "plt.ylabel('Sales')\n",
    "plt.xticks(rotation=45)\n",
    "plt.show()"
   ]
  },
  {
   "cell_type": "markdown",
   "metadata": {},
   "source": [
    "In **Other Regions** we can notice a dominance of **PS4, PS3, XOne**, which highlights a preference for home consoles."
   ]
  },
  {
   "cell_type": "code",
   "execution_count": null,
   "metadata": {},
   "outputs": [],
   "source": [
    "# Grouping by Genre and calculating total sales for each region:\n",
    "region_genre_sales = video_games_from_2013.groupby('genre')[['na_sales', 'eu_sales', 'jp_sales', 'other_sales']].sum()\n",
    "region_genre_sales"
   ]
  },
  {
   "cell_type": "code",
   "execution_count": null,
   "metadata": {},
   "outputs": [],
   "source": [
    "# Determining Top 5 Genres in NA region:\n",
    "top_na_genres = region_genre_sales['na_sales'].sort_values(ascending=False).head()\n",
    "top_na_genres"
   ]
  },
  {
   "cell_type": "code",
   "execution_count": null,
   "metadata": {},
   "outputs": [],
   "source": [
    "# Creating a Bar Plot NA Region:\n",
    "plt.figure(figsize=(8,4))\n",
    "top_na_genres.plot(kind='bar', color='blue')\n",
    "plt.title('Top 5 Genres in NA region')\n",
    "plt.xlabel('Genre')\n",
    "plt.ylabel('Sales')\n",
    "plt.xticks(rotation=45)\n",
    "plt.show()"
   ]
  },
  {
   "cell_type": "markdown",
   "metadata": {},
   "source": [
    "**North America** has a strong preference for **Action** and **Shooter** genres, which dominate the market. **Sports** games are also highly popular."
   ]
  },
  {
   "cell_type": "code",
   "execution_count": null,
   "metadata": {},
   "outputs": [],
   "source": [
    "# Determining Top 5 Genres in EU region:\n",
    "top_eu_genres = region_genre_sales['eu_sales'].sort_values(ascending=False).head()\n",
    "top_eu_genres"
   ]
  },
  {
   "cell_type": "code",
   "execution_count": null,
   "metadata": {},
   "outputs": [],
   "source": [
    "# Creating a Bar Plot EU Region:\n",
    "plt.figure(figsize=(8,4))\n",
    "top_eu_genres.plot(kind='bar', color='green')\n",
    "plt.title('Top 5 Genres in EU region')\n",
    "plt.xlabel('Genre')\n",
    "plt.ylabel('Sales')\n",
    "plt.xticks(rotation=45)\n",
    "plt.show()"
   ]
  },
  {
   "cell_type": "markdown",
   "metadata": {},
   "source": [
    "Similar to North America, **Europe** has a strong preference for **Action** and **Shooter** whith **Sports** games also performing well."
   ]
  },
  {
   "cell_type": "code",
   "execution_count": null,
   "metadata": {},
   "outputs": [],
   "source": [
    "# Determining Top 5 Genres in JP region:\n",
    "top_jp_genres = region_genre_sales['jp_sales'].sort_values(ascending=False).head()\n",
    "top_jp_genres"
   ]
  },
  {
   "cell_type": "code",
   "execution_count": null,
   "metadata": {},
   "outputs": [],
   "source": [
    "# Creating a Bar Plot JP Region:\n",
    "plt.figure(figsize=(8,4))\n",
    "top_jp_genres.plot(kind='bar', color='pink')\n",
    "plt.title('Top 5 Genres in JP region')\n",
    "plt.xlabel('Genre')\n",
    "plt.ylabel('Sales')\n",
    "plt.xticks(rotation=45)\n",
    "plt.show()"
   ]
  },
  {
   "cell_type": "markdown",
   "metadata": {},
   "source": [
    "The **Japanese** market prefers **Role-Playing** games significantly over other genres. **Action** games also perform well."
   ]
  },
  {
   "cell_type": "code",
   "execution_count": null,
   "metadata": {},
   "outputs": [],
   "source": [
    "# Determining Top 5 Genres in Other regions:\n",
    "top_other_genres = region_genre_sales['other_sales'].sort_values(ascending=False).head()\n",
    "top_other_genres"
   ]
  },
  {
   "cell_type": "code",
   "execution_count": null,
   "metadata": {},
   "outputs": [],
   "source": [
    "# Creating a Bar Plot Other Regions:\n",
    "plt.figure(figsize=(8,4))\n",
    "top_other_genres.plot(kind='bar', color='orange')\n",
    "plt.title('Top 5 Genres in Other regions')\n",
    "plt.xlabel('Genre')\n",
    "plt.ylabel('Sales')\n",
    "plt.xticks(rotation=45)\n",
    "plt.show()"
   ]
  },
  {
   "cell_type": "markdown",
   "metadata": {},
   "source": [
    "**Action** and **Shooter** continue to dominate, with **Sports** games also contributing significantly."
   ]
  },
  {
   "cell_type": "code",
   "execution_count": null,
   "metadata": {},
   "outputs": [],
   "source": [
    "# Grouping Sales by ESRB Rating for each region:\n",
    "region_rating_sales = video_games_from_2013.groupby('rating')[['na_sales', 'eu_sales', 'jp_sales', 'other_sales']].sum()\n",
    "region_rating_sales"
   ]
  },
  {
   "cell_type": "code",
   "execution_count": null,
   "metadata": {},
   "outputs": [],
   "source": [
    "# The impact of ESRB Rating in NA region:\n",
    "na_esrb = region_rating_sales['na_sales'].sort_values(ascending=False)\n",
    "na_esrb"
   ]
  },
  {
   "cell_type": "code",
   "execution_count": null,
   "metadata": {},
   "outputs": [],
   "source": [
    "# Creating a Bar Plot NA Region:\n",
    "plt.figure(figsize=(8,4))\n",
    "na_esrb.plot(kind='bar', color='blue')\n",
    "plt.title('Game Slaes by ESBR Rating in NA')\n",
    "plt.xlabel('ESBR Rating')\n",
    "plt.ylabel('Sales')\n",
    "plt.xticks(rotation=45)\n",
    "plt.show()"
   ]
  },
  {
   "cell_type": "markdown",
   "metadata": {},
   "source": [
    "Games rated **M** dominat sales, highlighting a preference for mature content, followed by games that thier rating is **Unknown** (maybe missing data). While **E**, **E10+** and **T** perform moderatly."
   ]
  },
  {
   "cell_type": "code",
   "execution_count": null,
   "metadata": {},
   "outputs": [],
   "source": [
    "# The impact of ESRB Rating in EU region:\n",
    "eu_esrb = region_rating_sales['eu_sales'].sort_values(ascending=False)\n",
    "eu_esrb"
   ]
  },
  {
   "cell_type": "code",
   "execution_count": null,
   "metadata": {},
   "outputs": [],
   "source": [
    "# Creating a Bar Plot EU Region:\n",
    "plt.figure(figsize=(8,4))\n",
    "eu_esrb.plot(kind='bar', color='green')\n",
    "plt.title('Game Slaes by ESBR Rating in EU')\n",
    "plt.xlabel('ESBR Rating')\n",
    "plt.ylabel('Sales')\n",
    "plt.xticks(rotation=45)\n",
    "plt.show()"
   ]
  },
  {
   "cell_type": "markdown",
   "metadata": {},
   "source": [
    "**M** and **E** rated games lead sales highlighting a strong preference for mature games. **T** and **E10+** contribute less."
   ]
  },
  {
   "cell_type": "code",
   "execution_count": null,
   "metadata": {},
   "outputs": [],
   "source": [
    "# The impact of ESRB Rating in JP region:\n",
    "jp_esrb = region_rating_sales['jp_sales'].sort_values(ascending=False)\n",
    "jp_esrb"
   ]
  },
  {
   "cell_type": "code",
   "execution_count": null,
   "metadata": {},
   "outputs": [],
   "source": [
    "# Creating a Bar Plot JP Region:\n",
    "plt.figure(figsize=(8,4))\n",
    "jp_esrb.plot(kind='bar', color='pink')\n",
    "plt.title('Game Slaes by ESBR Rating in JP')\n",
    "plt.xlabel('ESBR Rating')\n",
    "plt.ylabel('Sales')\n",
    "plt.xticks(rotation=45)\n",
    "plt.show()"
   ]
  },
  {
   "cell_type": "markdown",
   "metadata": {},
   "source": [
    "The majority of game sales in **Japan** lack ESRB rating, indicating missing data or differences in rating systems. Other then that **T** and **E** rated games are dominant."
   ]
  },
  {
   "cell_type": "code",
   "execution_count": null,
   "metadata": {},
   "outputs": [],
   "source": [
    "# The impact of ESRB Rating in Other regions:\n",
    "other_esrb = region_rating_sales['other_sales'].sort_values(ascending=False)\n",
    "other_esrb"
   ]
  },
  {
   "cell_type": "code",
   "execution_count": null,
   "metadata": {},
   "outputs": [],
   "source": [
    "# Creating a Bar Plot Other Regions:\n",
    "plt.figure(figsize=(8,4))\n",
    "other_esrb.plot(kind='bar', color='orange')\n",
    "plt.title('Game Slaes by ESBR Rating in Other Regions')\n",
    "plt.xlabel('ESBR Rating')\n",
    "plt.ylabel('Sales')\n",
    "plt.xticks(rotation=45)\n",
    "plt.show()"
   ]
  },
  {
   "cell_type": "markdown",
   "metadata": {},
   "source": [
    "The **M** rated games dominate sales in **Other Regions** indicating a greater demand for mature content. However, the high **Unknown** rating indicates incomplete data or a different rating systems."
   ]
  },
  {
   "cell_type": "markdown",
   "metadata": {},
   "source": [
    "# Step 5. Testing the hypotheses:"
   ]
  },
  {
   "cell_type": "markdown",
   "metadata": {},
   "source": [
    "#Test the hypotheses:\n",
    "\n",
    "- Null Hypothesis (H_0): Average user ratings of the Xbox One and PC platforms are the same.\n",
    "\n",
    "- Alternative Hypothesis (H_1): Average user ratings of the Xbox One and PC platforms are different. "
   ]
  },
  {
   "cell_type": "code",
   "execution_count": null,
   "metadata": {},
   "outputs": [],
   "source": [
    "# Extracting user ratings for each platform:\n",
    "xbox_one_ratings = video_games_from_2013[video_games_from_2013['platform'] == 'XOne']['user_score'].dropna()\n",
    "pc_ratings = video_games_from_2013[video_games_from_2013['platform'] == 'PC']['user_score'].dropna()\n",
    "\n",
    "# Conducting the t-test:\n",
    "t_stat, p_value = stats.ttest_ind(xbox_one_ratings, pc_ratings, equal_var=False)\n",
    "\n",
    "# Printing the results:\n",
    "print(f\"T-statistic: {t_stat}, P-value: {p_value}\")\n",
    "\n",
    "# Interpretation:\n",
    "if p_value < 0.05:\n",
    "    print(\"Reject the null hypothesis: Average user ratings differ between Xbox One and PC.\")\n",
    "else:\n",
    "    print(\"Fail to reject the null hypothesis: No significant difference in average user ratings.\")\n",
    "\n"
   ]
  },
  {
   "cell_type": "markdown",
   "metadata": {},
   "source": [
    "#Test the hypotheses:\n",
    "\n",
    "- Null Hypothesis (H_0): Average user ratings for the Action and Sports genres are the same.\n",
    "\n",
    "- Alternative Hypothesis (H_1): Average user ratings for the Action and Sports genres are different."
   ]
  },
  {
   "cell_type": "code",
   "execution_count": null,
   "metadata": {},
   "outputs": [],
   "source": [
    "# Extracting user ratings for each genre:\n",
    "action_ratings = video_games_from_2013[video_games_from_2013['genre'] == 'Action']['user_score'].dropna()\n",
    "sports_ratings = video_games_from_2013[video_games_from_2013['genre'] == 'Sports']['user_score'].dropna()\n",
    "\n",
    "# Conducting the t-test:\n",
    "t_stat, p_value = stats.ttest_ind(action_ratings, sports_ratings, equal_var=False)\n",
    "\n",
    "# Printing the results:\n",
    "print(f\"T-statistic: {t_stat}, P-value: {p_value}\")\n",
    "\n",
    "# Interpretation:\n",
    "alpha = 0.05\n",
    "if p_value < alpha:\n",
    "    print(\"Reject the null hypothesis: Average user ratings differ between Action and Sports genres.\")\n",
    "else:\n",
    "    print(\"Fail to reject the null hypothesis: No significant difference in average user ratings.\")"
   ]
  },
  {
   "cell_type": "markdown",
   "metadata": {},
   "source": [
    "# General Conclusion:"
   ]
  },
  {
   "cell_type": "markdown",
   "metadata": {},
   "source": [
    "The dataset highlights significant trends in the gaming industry over 37 years, showcasing variability in game releases and sales performance across platforms and genres. The number of games released per year fluctuates widely, with a median of **338 games**, reflecting both peaks in production and years with limited activity.\n",
    "\n",
    "Platform performance varied significantly, with **PS2**, **Xbox 360**, **PS3**, and **Wii** dominating total sales, especially between **1998** and **2013**. **Post-2013**, **Xbox One**, **PS4** led the market, while older platforms like **PS2** and **PSP** experienced sharp declines. Handheld platforms like **3DO**, and **PCFX** struggled to achieve meaningful sales, underscoring the dominance of major brands like **Sony**, **Microsoft**, and **Nintendo**.\n",
    "\n",
    "Sales trends also show that in all regions **Action**, **Shooter**, and **Sports** genres were the most profitable, while **Strategy** and **Puzzle** genres had the lowest sales. Critic Reviews have a weak positive impact on sales **(correlation: 0.35)**, while User Scores have almost no influence **(correlation: -0.01)**. Across all regions, platforms like **PS** demonstrated higher sales for multi-platform games compared to **XOne**, which showed moderate performance.\n",
    "\n",
    "Games rated **E** and **M** dominate sales across regions, reflecting a balance between broad audience appeal and mature content demand. **T** and **E10+** contribute moderately. However, the high **Unknown** rating indicates incomplete data or a different rating systems."
   ]
  }
 ],
 "metadata": {
  "ExecuteTimeLog": [
   {
    "duration": 2556,
    "start_time": "2025-01-22T16:00:56.706Z"
   },
   {
    "duration": 49,
    "start_time": "2025-01-22T16:00:59.264Z"
   },
   {
    "duration": 31,
    "start_time": "2025-01-22T16:01:15.835Z"
   },
   {
    "duration": 33,
    "start_time": "2025-01-22T16:05:57.949Z"
   },
   {
    "duration": 829,
    "start_time": "2025-01-22T16:08:58.073Z"
   },
   {
    "duration": 40,
    "start_time": "2025-01-22T16:08:58.905Z"
   },
   {
    "duration": 865,
    "start_time": "2025-01-22T16:11:18.786Z"
   },
   {
    "duration": 36,
    "start_time": "2025-01-22T16:11:19.654Z"
   },
   {
    "duration": 801,
    "start_time": "2025-01-22T16:21:43.022Z"
   },
   {
    "duration": 34,
    "start_time": "2025-01-22T16:21:43.826Z"
   },
   {
    "duration": 807,
    "start_time": "2025-01-22T16:22:49.631Z"
   },
   {
    "duration": 34,
    "start_time": "2025-01-22T16:22:50.440Z"
   },
   {
    "duration": 790,
    "start_time": "2025-01-22T16:23:22.335Z"
   },
   {
    "duration": 33,
    "start_time": "2025-01-22T16:23:23.126Z"
   },
   {
    "duration": 767,
    "start_time": "2025-01-22T16:23:46.803Z"
   },
   {
    "duration": 32,
    "start_time": "2025-01-22T16:23:47.572Z"
   },
   {
    "duration": 746,
    "start_time": "2025-01-22T16:24:11.687Z"
   },
   {
    "duration": 32,
    "start_time": "2025-01-22T16:24:12.435Z"
   },
   {
    "duration": 12,
    "start_time": "2025-01-22T16:35:42.411Z"
   },
   {
    "duration": 13,
    "start_time": "2025-01-22T16:36:20.548Z"
   },
   {
    "duration": 819,
    "start_time": "2025-01-22T16:38:56.018Z"
   },
   {
    "duration": 35,
    "start_time": "2025-01-22T16:38:56.840Z"
   },
   {
    "duration": 11,
    "start_time": "2025-01-22T16:38:56.876Z"
   },
   {
    "duration": 12,
    "start_time": "2025-01-22T16:40:51.334Z"
   },
   {
    "duration": 769,
    "start_time": "2025-01-22T16:48:18.039Z"
   },
   {
    "duration": 47,
    "start_time": "2025-01-22T16:49:04.254Z"
   },
   {
    "duration": 47,
    "start_time": "2025-01-22T16:49:11.312Z"
   },
   {
    "duration": 15,
    "start_time": "2025-01-22T16:49:49.650Z"
   },
   {
    "duration": 47,
    "start_time": "2025-01-22T16:50:01.266Z"
   },
   {
    "duration": 10,
    "start_time": "2025-01-22T16:55:58.972Z"
   },
   {
    "duration": 5,
    "start_time": "2025-01-22T16:57:18.606Z"
   },
   {
    "duration": 6,
    "start_time": "2025-01-22T17:00:17.834Z"
   },
   {
    "duration": 7,
    "start_time": "2025-01-22T17:01:51.340Z"
   },
   {
    "duration": 5,
    "start_time": "2025-01-22T17:04:19.166Z"
   },
   {
    "duration": 6,
    "start_time": "2025-01-22T17:04:34.114Z"
   },
   {
    "duration": 6,
    "start_time": "2025-01-22T17:05:32.298Z"
   },
   {
    "duration": 4,
    "start_time": "2025-01-22T17:09:33.019Z"
   },
   {
    "duration": 4,
    "start_time": "2025-01-22T17:11:15.262Z"
   },
   {
    "duration": 815,
    "start_time": "2025-01-22T18:53:55.861Z"
   },
   {
    "duration": 36,
    "start_time": "2025-01-22T18:53:56.678Z"
   },
   {
    "duration": 11,
    "start_time": "2025-01-22T18:53:56.716Z"
   },
   {
    "duration": 11,
    "start_time": "2025-01-22T18:53:56.729Z"
   },
   {
    "duration": 8,
    "start_time": "2025-01-22T18:53:56.741Z"
   },
   {
    "duration": 11,
    "start_time": "2025-01-22T18:53:56.751Z"
   },
   {
    "duration": 13,
    "start_time": "2025-01-22T18:53:56.763Z"
   },
   {
    "duration": 829,
    "start_time": "2025-01-22T18:53:56.777Z"
   },
   {
    "duration": 156,
    "start_time": "2025-01-23T04:09:09.178Z"
   },
   {
    "duration": 2578,
    "start_time": "2025-01-23T04:09:24.282Z"
   },
   {
    "duration": 43,
    "start_time": "2025-01-23T04:09:26.863Z"
   },
   {
    "duration": 14,
    "start_time": "2025-01-23T04:09:26.908Z"
   },
   {
    "duration": 19,
    "start_time": "2025-01-23T04:09:26.924Z"
   },
   {
    "duration": 7,
    "start_time": "2025-01-23T04:09:26.946Z"
   },
   {
    "duration": 12,
    "start_time": "2025-01-23T04:09:26.954Z"
   },
   {
    "duration": 13,
    "start_time": "2025-01-23T04:09:26.968Z"
   },
   {
    "duration": 828,
    "start_time": "2025-01-23T04:09:26.982Z"
   },
   {
    "duration": 25,
    "start_time": "2025-01-23T04:10:02.075Z"
   },
   {
    "duration": 12,
    "start_time": "2025-01-23T04:10:51.322Z"
   },
   {
    "duration": 5,
    "start_time": "2025-01-23T04:16:54.605Z"
   },
   {
    "duration": 12,
    "start_time": "2025-01-23T04:19:26.160Z"
   },
   {
    "duration": 4,
    "start_time": "2025-01-23T04:19:35.765Z"
   },
   {
    "duration": 3,
    "start_time": "2025-01-23T04:20:16.396Z"
   },
   {
    "duration": 13,
    "start_time": "2025-01-23T04:23:20.285Z"
   },
   {
    "duration": 12,
    "start_time": "2025-01-23T04:23:50.744Z"
   },
   {
    "duration": 14,
    "start_time": "2025-01-23T04:25:33.832Z"
   },
   {
    "duration": 17,
    "start_time": "2025-01-23T04:25:48.417Z"
   },
   {
    "duration": 133,
    "start_time": "2025-01-23T04:26:44.749Z"
   },
   {
    "duration": 839,
    "start_time": "2025-01-23T04:27:43.870Z"
   },
   {
    "duration": 34,
    "start_time": "2025-01-23T04:27:44.712Z"
   },
   {
    "duration": 13,
    "start_time": "2025-01-23T04:27:44.748Z"
   },
   {
    "duration": 11,
    "start_time": "2025-01-23T04:27:44.762Z"
   },
   {
    "duration": 7,
    "start_time": "2025-01-23T04:27:44.775Z"
   },
   {
    "duration": 12,
    "start_time": "2025-01-23T04:27:44.784Z"
   },
   {
    "duration": 4,
    "start_time": "2025-01-23T04:27:44.797Z"
   },
   {
    "duration": 41,
    "start_time": "2025-01-23T04:27:44.803Z"
   },
   {
    "duration": 17,
    "start_time": "2025-01-23T04:27:44.846Z"
   },
   {
    "duration": 3,
    "start_time": "2025-01-23T04:27:44.864Z"
   },
   {
    "duration": 13,
    "start_time": "2025-01-23T04:28:10.593Z"
   },
   {
    "duration": 792,
    "start_time": "2025-01-23T04:28:35.971Z"
   },
   {
    "duration": 34,
    "start_time": "2025-01-23T04:28:36.765Z"
   },
   {
    "duration": 12,
    "start_time": "2025-01-23T04:28:36.801Z"
   },
   {
    "duration": 29,
    "start_time": "2025-01-23T04:28:36.814Z"
   },
   {
    "duration": 8,
    "start_time": "2025-01-23T04:28:36.845Z"
   },
   {
    "duration": 13,
    "start_time": "2025-01-23T04:28:36.855Z"
   },
   {
    "duration": 4,
    "start_time": "2025-01-23T04:28:36.870Z"
   },
   {
    "duration": 3,
    "start_time": "2025-01-23T04:28:36.876Z"
   },
   {
    "duration": 16,
    "start_time": "2025-01-23T04:28:36.881Z"
   },
   {
    "duration": 4,
    "start_time": "2025-01-23T04:28:36.898Z"
   },
   {
    "duration": 11,
    "start_time": "2025-01-23T04:29:08.721Z"
   },
   {
    "duration": 757,
    "start_time": "2025-01-23T04:29:26.425Z"
   },
   {
    "duration": 33,
    "start_time": "2025-01-23T04:29:27.185Z"
   },
   {
    "duration": 23,
    "start_time": "2025-01-23T04:29:27.220Z"
   },
   {
    "duration": 11,
    "start_time": "2025-01-23T04:29:27.245Z"
   },
   {
    "duration": 6,
    "start_time": "2025-01-23T04:29:27.258Z"
   },
   {
    "duration": 12,
    "start_time": "2025-01-23T04:29:27.266Z"
   },
   {
    "duration": 4,
    "start_time": "2025-01-23T04:29:27.279Z"
   },
   {
    "duration": 4,
    "start_time": "2025-01-23T04:29:27.285Z"
   },
   {
    "duration": 16,
    "start_time": "2025-01-23T04:29:27.290Z"
   },
   {
    "duration": 11,
    "start_time": "2025-01-23T04:29:27.344Z"
   },
   {
    "duration": 16,
    "start_time": "2025-01-23T04:30:27.693Z"
   },
   {
    "duration": 11,
    "start_time": "2025-01-23T04:30:33.524Z"
   },
   {
    "duration": 2,
    "start_time": "2025-01-23T04:38:04.219Z"
   },
   {
    "duration": 15,
    "start_time": "2025-01-23T04:38:05.836Z"
   },
   {
    "duration": 11,
    "start_time": "2025-01-23T04:38:11.516Z"
   },
   {
    "duration": 814,
    "start_time": "2025-01-23T04:38:19.452Z"
   },
   {
    "duration": 33,
    "start_time": "2025-01-23T04:38:20.268Z"
   },
   {
    "duration": 12,
    "start_time": "2025-01-23T04:38:20.303Z"
   },
   {
    "duration": 31,
    "start_time": "2025-01-23T04:38:20.316Z"
   },
   {
    "duration": 7,
    "start_time": "2025-01-23T04:38:20.349Z"
   },
   {
    "duration": 11,
    "start_time": "2025-01-23T04:38:20.358Z"
   },
   {
    "duration": 5,
    "start_time": "2025-01-23T04:38:20.370Z"
   },
   {
    "duration": 4,
    "start_time": "2025-01-23T04:38:20.376Z"
   },
   {
    "duration": 3,
    "start_time": "2025-01-23T04:38:20.381Z"
   },
   {
    "duration": 15,
    "start_time": "2025-01-23T04:38:20.386Z"
   },
   {
    "duration": 44,
    "start_time": "2025-01-23T04:38:20.403Z"
   },
   {
    "duration": 17,
    "start_time": "2025-01-23T04:38:40.621Z"
   },
   {
    "duration": 10,
    "start_time": "2025-01-23T04:38:47.860Z"
   },
   {
    "duration": 22,
    "start_time": "2025-01-23T04:39:43.512Z"
   },
   {
    "duration": 21,
    "start_time": "2025-01-23T04:39:46.991Z"
   },
   {
    "duration": 67,
    "start_time": "2025-01-23T04:40:23.323Z"
   },
   {
    "duration": 19,
    "start_time": "2025-01-23T04:40:40.610Z"
   },
   {
    "duration": 787,
    "start_time": "2025-01-23T04:43:21.169Z"
   },
   {
    "duration": 32,
    "start_time": "2025-01-23T04:43:21.959Z"
   },
   {
    "duration": 12,
    "start_time": "2025-01-23T04:43:21.995Z"
   },
   {
    "duration": 11,
    "start_time": "2025-01-23T04:43:22.009Z"
   },
   {
    "duration": 6,
    "start_time": "2025-01-23T04:43:22.043Z"
   },
   {
    "duration": 13,
    "start_time": "2025-01-23T04:43:22.051Z"
   },
   {
    "duration": 4,
    "start_time": "2025-01-23T04:43:22.065Z"
   },
   {
    "duration": 3,
    "start_time": "2025-01-23T04:43:22.071Z"
   },
   {
    "duration": 13,
    "start_time": "2025-01-23T04:43:22.075Z"
   },
   {
    "duration": 13,
    "start_time": "2025-01-23T04:54:14.774Z"
   },
   {
    "duration": 3,
    "start_time": "2025-01-23T05:01:56.989Z"
   },
   {
    "duration": 22,
    "start_time": "2025-01-23T05:02:19.516Z"
   },
   {
    "duration": 259,
    "start_time": "2025-01-23T05:04:24.480Z"
   },
   {
    "duration": 23,
    "start_time": "2025-01-23T05:06:03.133Z"
   },
   {
    "duration": 10,
    "start_time": "2025-01-23T05:07:33.718Z"
   },
   {
    "duration": 11,
    "start_time": "2025-01-23T05:07:44.879Z"
   },
   {
    "duration": 4,
    "start_time": "2025-01-23T05:15:08.144Z"
   },
   {
    "duration": 550,
    "start_time": "2025-01-23T05:17:20.169Z"
   },
   {
    "duration": 742,
    "start_time": "2025-01-23T05:18:43.718Z"
   },
   {
    "duration": 34,
    "start_time": "2025-01-23T05:18:44.462Z"
   },
   {
    "duration": 12,
    "start_time": "2025-01-23T05:18:44.497Z"
   },
   {
    "duration": 11,
    "start_time": "2025-01-23T05:18:44.510Z"
   },
   {
    "duration": 7,
    "start_time": "2025-01-23T05:18:44.543Z"
   },
   {
    "duration": 12,
    "start_time": "2025-01-23T05:18:44.551Z"
   },
   {
    "duration": 5,
    "start_time": "2025-01-23T05:18:44.564Z"
   },
   {
    "duration": 5,
    "start_time": "2025-01-23T05:18:44.570Z"
   },
   {
    "duration": 12,
    "start_time": "2025-01-23T05:18:44.577Z"
   },
   {
    "duration": 7,
    "start_time": "2025-01-23T05:18:44.591Z"
   },
   {
    "duration": 48,
    "start_time": "2025-01-23T05:18:44.600Z"
   },
   {
    "duration": 4,
    "start_time": "2025-01-23T05:18:44.649Z"
   },
   {
    "duration": 775,
    "start_time": "2025-01-23T05:18:44.656Z"
   },
   {
    "duration": 5,
    "start_time": "2025-01-23T05:21:45.182Z"
   },
   {
    "duration": 12,
    "start_time": "2025-01-23T05:21:46.942Z"
   },
   {
    "duration": 778,
    "start_time": "2025-01-23T05:22:07.887Z"
   },
   {
    "duration": 35,
    "start_time": "2025-01-23T05:22:08.667Z"
   },
   {
    "duration": 12,
    "start_time": "2025-01-23T05:22:08.705Z"
   },
   {
    "duration": 25,
    "start_time": "2025-01-23T05:22:08.718Z"
   },
   {
    "duration": 7,
    "start_time": "2025-01-23T05:22:08.746Z"
   },
   {
    "duration": 12,
    "start_time": "2025-01-23T05:22:08.754Z"
   },
   {
    "duration": 5,
    "start_time": "2025-01-23T05:22:08.767Z"
   },
   {
    "duration": 3,
    "start_time": "2025-01-23T05:22:08.773Z"
   },
   {
    "duration": 12,
    "start_time": "2025-01-23T05:22:08.777Z"
   },
   {
    "duration": 7,
    "start_time": "2025-01-23T05:22:08.790Z"
   },
   {
    "duration": 48,
    "start_time": "2025-01-23T05:22:08.799Z"
   },
   {
    "duration": 5,
    "start_time": "2025-01-23T05:22:08.849Z"
   },
   {
    "duration": 4,
    "start_time": "2025-01-23T05:22:08.855Z"
   },
   {
    "duration": 12,
    "start_time": "2025-01-23T05:22:08.862Z"
   },
   {
    "duration": 25,
    "start_time": "2025-01-23T05:25:18.741Z"
   },
   {
    "duration": 13,
    "start_time": "2025-01-23T05:25:41.874Z"
   },
   {
    "duration": 256,
    "start_time": "2025-01-23T05:26:11.762Z"
   },
   {
    "duration": 12,
    "start_time": "2025-01-23T05:26:19.293Z"
   },
   {
    "duration": 728,
    "start_time": "2025-01-23T05:26:36.327Z"
   },
   {
    "duration": 35,
    "start_time": "2025-01-23T05:26:37.057Z"
   },
   {
    "duration": 11,
    "start_time": "2025-01-23T05:26:37.094Z"
   },
   {
    "duration": 11,
    "start_time": "2025-01-23T05:26:37.106Z"
   },
   {
    "duration": 25,
    "start_time": "2025-01-23T05:26:37.120Z"
   },
   {
    "duration": 11,
    "start_time": "2025-01-23T05:26:37.146Z"
   },
   {
    "duration": 4,
    "start_time": "2025-01-23T05:26:37.159Z"
   },
   {
    "duration": 12,
    "start_time": "2025-01-23T05:26:37.164Z"
   },
   {
    "duration": 11,
    "start_time": "2025-01-23T05:26:37.177Z"
   },
   {
    "duration": 6,
    "start_time": "2025-01-23T05:26:37.190Z"
   },
   {
    "duration": 46,
    "start_time": "2025-01-23T05:26:37.198Z"
   },
   {
    "duration": 4,
    "start_time": "2025-01-23T05:26:37.246Z"
   },
   {
    "duration": 5,
    "start_time": "2025-01-23T05:26:37.252Z"
   },
   {
    "duration": 13,
    "start_time": "2025-01-23T05:26:37.262Z"
   },
   {
    "duration": 13,
    "start_time": "2025-01-23T05:26:37.277Z"
   },
   {
    "duration": 11,
    "start_time": "2025-01-23T05:26:54.788Z"
   },
   {
    "duration": 8,
    "start_time": "2025-01-23T05:27:34.833Z"
   },
   {
    "duration": 17,
    "start_time": "2025-01-23T05:33:30.213Z"
   },
   {
    "duration": 12,
    "start_time": "2025-01-23T05:37:00.778Z"
   },
   {
    "duration": 796,
    "start_time": "2025-01-23T05:37:59.931Z"
   },
   {
    "duration": 44,
    "start_time": "2025-01-23T05:38:00.729Z"
   },
   {
    "duration": 11,
    "start_time": "2025-01-23T05:38:00.775Z"
   },
   {
    "duration": 11,
    "start_time": "2025-01-23T05:38:00.787Z"
   },
   {
    "duration": 6,
    "start_time": "2025-01-23T05:38:00.801Z"
   },
   {
    "duration": 34,
    "start_time": "2025-01-23T05:38:00.809Z"
   },
   {
    "duration": 6,
    "start_time": "2025-01-23T05:38:00.844Z"
   },
   {
    "duration": 13,
    "start_time": "2025-01-23T05:38:00.852Z"
   },
   {
    "duration": 13,
    "start_time": "2025-01-23T05:38:00.866Z"
   },
   {
    "duration": 7,
    "start_time": "2025-01-23T05:38:00.880Z"
   },
   {
    "duration": 12,
    "start_time": "2025-01-23T05:38:00.889Z"
   },
   {
    "duration": 4,
    "start_time": "2025-01-23T05:38:00.903Z"
   },
   {
    "duration": 6,
    "start_time": "2025-01-23T05:38:00.944Z"
   },
   {
    "duration": 13,
    "start_time": "2025-01-23T05:38:00.953Z"
   },
   {
    "duration": 13,
    "start_time": "2025-01-23T05:38:00.968Z"
   },
   {
    "duration": 7,
    "start_time": "2025-01-23T05:38:00.982Z"
   },
   {
    "duration": 12,
    "start_time": "2025-01-23T05:38:00.991Z"
   },
   {
    "duration": 782,
    "start_time": "2025-01-23T05:38:25.889Z"
   },
   {
    "duration": 33,
    "start_time": "2025-01-23T05:38:26.674Z"
   },
   {
    "duration": 11,
    "start_time": "2025-01-23T05:38:26.709Z"
   },
   {
    "duration": 27,
    "start_time": "2025-01-23T05:38:26.722Z"
   },
   {
    "duration": 7,
    "start_time": "2025-01-23T05:38:26.752Z"
   },
   {
    "duration": 11,
    "start_time": "2025-01-23T05:38:26.761Z"
   },
   {
    "duration": 4,
    "start_time": "2025-01-23T05:38:26.774Z"
   },
   {
    "duration": 11,
    "start_time": "2025-01-23T05:38:26.780Z"
   },
   {
    "duration": 11,
    "start_time": "2025-01-23T05:38:26.794Z"
   },
   {
    "duration": 40,
    "start_time": "2025-01-23T05:38:26.807Z"
   },
   {
    "duration": 13,
    "start_time": "2025-01-23T05:38:26.849Z"
   },
   {
    "duration": 4,
    "start_time": "2025-01-23T05:38:26.863Z"
   },
   {
    "duration": 4,
    "start_time": "2025-01-23T05:38:26.869Z"
   },
   {
    "duration": 12,
    "start_time": "2025-01-23T05:38:26.877Z"
   },
   {
    "duration": 11,
    "start_time": "2025-01-23T05:38:26.891Z"
   },
   {
    "duration": 41,
    "start_time": "2025-01-23T05:38:26.904Z"
   },
   {
    "duration": 14,
    "start_time": "2025-01-23T05:38:26.946Z"
   },
   {
    "duration": 250,
    "start_time": "2025-01-23T05:41:07.428Z"
   },
   {
    "duration": 412,
    "start_time": "2025-01-23T05:41:15.027Z"
   },
   {
    "duration": 5,
    "start_time": "2025-01-23T05:41:32.273Z"
   },
   {
    "duration": 6,
    "start_time": "2025-01-23T05:44:14.970Z"
   },
   {
    "duration": 6,
    "start_time": "2025-01-23T05:47:09.458Z"
   },
   {
    "duration": 7,
    "start_time": "2025-01-23T05:47:39.817Z"
   },
   {
    "duration": 12,
    "start_time": "2025-01-23T05:50:47.846Z"
   },
   {
    "duration": 770,
    "start_time": "2025-01-23T05:51:07.598Z"
   },
   {
    "duration": 34,
    "start_time": "2025-01-23T05:51:08.370Z"
   },
   {
    "duration": 11,
    "start_time": "2025-01-23T05:51:08.405Z"
   },
   {
    "duration": 28,
    "start_time": "2025-01-23T05:51:08.419Z"
   },
   {
    "duration": 8,
    "start_time": "2025-01-23T05:51:08.448Z"
   },
   {
    "duration": 12,
    "start_time": "2025-01-23T05:51:08.458Z"
   },
   {
    "duration": 5,
    "start_time": "2025-01-23T05:51:08.471Z"
   },
   {
    "duration": 12,
    "start_time": "2025-01-23T05:51:08.477Z"
   },
   {
    "duration": 13,
    "start_time": "2025-01-23T05:51:08.490Z"
   },
   {
    "duration": 40,
    "start_time": "2025-01-23T05:51:08.506Z"
   },
   {
    "duration": 13,
    "start_time": "2025-01-23T05:51:08.549Z"
   },
   {
    "duration": 4,
    "start_time": "2025-01-23T05:51:08.564Z"
   },
   {
    "duration": 6,
    "start_time": "2025-01-23T05:51:08.570Z"
   },
   {
    "duration": 17,
    "start_time": "2025-01-23T05:51:08.578Z"
   },
   {
    "duration": 12,
    "start_time": "2025-01-23T05:51:08.596Z"
   },
   {
    "duration": 35,
    "start_time": "2025-01-23T05:51:08.610Z"
   },
   {
    "duration": 16,
    "start_time": "2025-01-23T05:51:08.646Z"
   },
   {
    "duration": 6,
    "start_time": "2025-01-23T05:51:08.664Z"
   },
   {
    "duration": 285,
    "start_time": "2025-01-23T05:51:08.672Z"
   },
   {
    "duration": 6,
    "start_time": "2025-01-23T05:51:29.547Z"
   },
   {
    "duration": 8,
    "start_time": "2025-01-23T05:51:47.847Z"
   },
   {
    "duration": 796,
    "start_time": "2025-01-23T06:02:55.463Z"
   },
   {
    "duration": 35,
    "start_time": "2025-01-23T06:02:56.261Z"
   },
   {
    "duration": 12,
    "start_time": "2025-01-23T06:02:56.298Z"
   },
   {
    "duration": 31,
    "start_time": "2025-01-23T06:02:56.312Z"
   },
   {
    "duration": 10,
    "start_time": "2025-01-23T06:02:56.346Z"
   },
   {
    "duration": 17,
    "start_time": "2025-01-23T06:02:56.357Z"
   },
   {
    "duration": 5,
    "start_time": "2025-01-23T06:02:56.375Z"
   },
   {
    "duration": 18,
    "start_time": "2025-01-23T06:02:56.382Z"
   },
   {
    "duration": 15,
    "start_time": "2025-01-23T06:02:56.402Z"
   },
   {
    "duration": 28,
    "start_time": "2025-01-23T06:02:56.418Z"
   },
   {
    "duration": 12,
    "start_time": "2025-01-23T06:02:56.449Z"
   },
   {
    "duration": 5,
    "start_time": "2025-01-23T06:02:56.463Z"
   },
   {
    "duration": 5,
    "start_time": "2025-01-23T06:02:56.469Z"
   },
   {
    "duration": 13,
    "start_time": "2025-01-23T06:02:56.478Z"
   },
   {
    "duration": 12,
    "start_time": "2025-01-23T06:02:56.493Z"
   },
   {
    "duration": 36,
    "start_time": "2025-01-23T06:02:56.507Z"
   },
   {
    "duration": 13,
    "start_time": "2025-01-23T06:02:56.545Z"
   },
   {
    "duration": 5,
    "start_time": "2025-01-23T06:02:56.559Z"
   },
   {
    "duration": 10,
    "start_time": "2025-01-23T06:02:56.566Z"
   },
   {
    "duration": 2641,
    "start_time": "2025-01-23T17:20:14.901Z"
   },
   {
    "duration": 48,
    "start_time": "2025-01-23T17:20:17.544Z"
   },
   {
    "duration": 12,
    "start_time": "2025-01-23T17:20:17.594Z"
   },
   {
    "duration": 12,
    "start_time": "2025-01-23T17:20:17.607Z"
   },
   {
    "duration": 7,
    "start_time": "2025-01-23T17:20:17.631Z"
   },
   {
    "duration": 14,
    "start_time": "2025-01-23T17:20:17.640Z"
   },
   {
    "duration": 15,
    "start_time": "2025-01-23T17:20:17.656Z"
   },
   {
    "duration": 15,
    "start_time": "2025-01-23T17:20:17.674Z"
   },
   {
    "duration": 14,
    "start_time": "2025-01-23T17:20:17.691Z"
   },
   {
    "duration": 9,
    "start_time": "2025-01-23T17:20:17.732Z"
   },
   {
    "duration": 11,
    "start_time": "2025-01-23T17:20:17.743Z"
   },
   {
    "duration": 4,
    "start_time": "2025-01-23T17:20:17.756Z"
   },
   {
    "duration": 6,
    "start_time": "2025-01-23T17:20:17.761Z"
   },
   {
    "duration": 14,
    "start_time": "2025-01-23T17:20:17.770Z"
   },
   {
    "duration": 12,
    "start_time": "2025-01-23T17:20:17.786Z"
   },
   {
    "duration": 10,
    "start_time": "2025-01-23T17:20:17.832Z"
   },
   {
    "duration": 15,
    "start_time": "2025-01-23T17:20:17.843Z"
   },
   {
    "duration": 6,
    "start_time": "2025-01-23T17:20:17.859Z"
   },
   {
    "duration": 6,
    "start_time": "2025-01-23T17:20:17.866Z"
   },
   {
    "duration": 216,
    "start_time": "2025-01-23T17:21:26.706Z"
   },
   {
    "duration": 15,
    "start_time": "2025-01-23T17:21:49.796Z"
   },
   {
    "duration": 13,
    "start_time": "2025-01-23T17:22:21.931Z"
   },
   {
    "duration": 19,
    "start_time": "2025-01-23T17:27:38.493Z"
   },
   {
    "duration": 16,
    "start_time": "2025-01-23T17:27:51.796Z"
   },
   {
    "duration": 4,
    "start_time": "2025-01-23T17:34:14.161Z"
   },
   {
    "duration": 4,
    "start_time": "2025-01-23T17:34:25.523Z"
   },
   {
    "duration": 14,
    "start_time": "2025-01-23T17:36:28.783Z"
   },
   {
    "duration": 10,
    "start_time": "2025-01-23T17:44:33.236Z"
   },
   {
    "duration": 15,
    "start_time": "2025-01-23T17:47:11.883Z"
   },
   {
    "duration": 14,
    "start_time": "2025-01-23T17:47:25.735Z"
   },
   {
    "duration": 13,
    "start_time": "2025-01-23T17:48:00.182Z"
   },
   {
    "duration": 10,
    "start_time": "2025-01-23T17:52:49.052Z"
   },
   {
    "duration": 7,
    "start_time": "2025-01-23T17:54:40.451Z"
   },
   {
    "duration": 10,
    "start_time": "2025-01-23T18:01:47.440Z"
   },
   {
    "duration": 8,
    "start_time": "2025-01-23T18:02:03.815Z"
   },
   {
    "duration": 8,
    "start_time": "2025-01-23T18:02:26.172Z"
   },
   {
    "duration": 843,
    "start_time": "2025-01-23T18:03:28.726Z"
   },
   {
    "duration": 36,
    "start_time": "2025-01-23T18:03:29.571Z"
   },
   {
    "duration": 12,
    "start_time": "2025-01-23T18:03:29.609Z"
   },
   {
    "duration": 11,
    "start_time": "2025-01-23T18:03:29.632Z"
   },
   {
    "duration": 8,
    "start_time": "2025-01-23T18:03:29.645Z"
   },
   {
    "duration": 11,
    "start_time": "2025-01-23T18:03:29.655Z"
   },
   {
    "duration": 5,
    "start_time": "2025-01-23T18:03:29.668Z"
   },
   {
    "duration": 12,
    "start_time": "2025-01-23T18:03:29.675Z"
   },
   {
    "duration": 49,
    "start_time": "2025-01-23T18:03:29.689Z"
   },
   {
    "duration": 9,
    "start_time": "2025-01-23T18:03:29.742Z"
   },
   {
    "duration": 12,
    "start_time": "2025-01-23T18:03:29.753Z"
   },
   {
    "duration": 7,
    "start_time": "2025-01-23T18:03:29.767Z"
   },
   {
    "duration": 5,
    "start_time": "2025-01-23T18:03:29.777Z"
   },
   {
    "duration": 13,
    "start_time": "2025-01-23T18:03:29.783Z"
   },
   {
    "duration": 44,
    "start_time": "2025-01-23T18:03:29.798Z"
   },
   {
    "duration": 7,
    "start_time": "2025-01-23T18:03:29.843Z"
   },
   {
    "duration": 15,
    "start_time": "2025-01-23T18:03:29.852Z"
   },
   {
    "duration": 6,
    "start_time": "2025-01-23T18:03:29.868Z"
   },
   {
    "duration": 7,
    "start_time": "2025-01-23T18:03:29.875Z"
   },
   {
    "duration": 310,
    "start_time": "2025-01-23T18:03:29.883Z"
   },
   {
    "duration": 0,
    "start_time": "2025-01-23T18:03:30.195Z"
   },
   {
    "duration": 831,
    "start_time": "2025-01-23T18:05:02.420Z"
   },
   {
    "duration": 34,
    "start_time": "2025-01-23T18:05:03.253Z"
   },
   {
    "duration": 12,
    "start_time": "2025-01-23T18:05:03.289Z"
   },
   {
    "duration": 28,
    "start_time": "2025-01-23T18:05:03.303Z"
   },
   {
    "duration": 8,
    "start_time": "2025-01-23T18:05:03.334Z"
   },
   {
    "duration": 11,
    "start_time": "2025-01-23T18:05:03.345Z"
   },
   {
    "duration": 5,
    "start_time": "2025-01-23T18:05:03.358Z"
   },
   {
    "duration": 15,
    "start_time": "2025-01-23T18:05:03.364Z"
   },
   {
    "duration": 13,
    "start_time": "2025-01-23T18:05:03.380Z"
   },
   {
    "duration": 37,
    "start_time": "2025-01-23T18:05:03.394Z"
   },
   {
    "duration": 12,
    "start_time": "2025-01-23T18:05:03.433Z"
   },
   {
    "duration": 5,
    "start_time": "2025-01-23T18:05:03.446Z"
   },
   {
    "duration": 3,
    "start_time": "2025-01-23T18:05:03.453Z"
   },
   {
    "duration": 12,
    "start_time": "2025-01-23T18:05:03.459Z"
   },
   {
    "duration": 13,
    "start_time": "2025-01-23T18:05:03.473Z"
   },
   {
    "duration": 6,
    "start_time": "2025-01-23T18:05:03.488Z"
   },
   {
    "duration": 15,
    "start_time": "2025-01-23T18:05:03.530Z"
   },
   {
    "duration": 5,
    "start_time": "2025-01-23T18:05:03.547Z"
   },
   {
    "duration": 6,
    "start_time": "2025-01-23T18:05:03.553Z"
   },
   {
    "duration": 8,
    "start_time": "2025-01-23T18:05:03.561Z"
   },
   {
    "duration": 7,
    "start_time": "2025-01-23T18:05:03.571Z"
   },
   {
    "duration": 7,
    "start_time": "2025-01-23T18:09:58.399Z"
   },
   {
    "duration": 11,
    "start_time": "2025-01-23T18:11:28.620Z"
   },
   {
    "duration": 10,
    "start_time": "2025-01-23T18:11:28.819Z"
   },
   {
    "duration": 9,
    "start_time": "2025-01-23T18:11:41.241Z"
   },
   {
    "duration": 9,
    "start_time": "2025-01-23T18:13:49.282Z"
   },
   {
    "duration": 7,
    "start_time": "2025-01-23T18:13:54.329Z"
   },
   {
    "duration": 6,
    "start_time": "2025-01-23T18:16:42.211Z"
   },
   {
    "duration": 8,
    "start_time": "2025-01-23T18:17:24.828Z"
   },
   {
    "duration": 7,
    "start_time": "2025-01-23T18:17:48.005Z"
   },
   {
    "duration": 311,
    "start_time": "2025-01-23T18:27:39.401Z"
   },
   {
    "duration": 229,
    "start_time": "2025-01-23T18:31:09.762Z"
   },
   {
    "duration": 284,
    "start_time": "2025-01-23T18:32:28.183Z"
   },
   {
    "duration": 269,
    "start_time": "2025-01-23T18:33:04.304Z"
   },
   {
    "duration": 263,
    "start_time": "2025-01-23T18:33:14.503Z"
   },
   {
    "duration": 175,
    "start_time": "2025-01-23T18:38:45.390Z"
   },
   {
    "duration": 236,
    "start_time": "2025-01-23T18:40:07.966Z"
   },
   {
    "duration": 231,
    "start_time": "2025-01-23T18:41:39.897Z"
   },
   {
    "duration": 493,
    "start_time": "2025-01-23T18:42:23.085Z"
   },
   {
    "duration": 243,
    "start_time": "2025-01-23T18:43:13.199Z"
   },
   {
    "duration": 387,
    "start_time": "2025-01-23T18:44:18.315Z"
   },
   {
    "duration": 502,
    "start_time": "2025-01-23T18:50:09.758Z"
   },
   {
    "duration": 380,
    "start_time": "2025-01-23T18:51:32.617Z"
   },
   {
    "duration": 414,
    "start_time": "2025-01-23T18:52:50.800Z"
   },
   {
    "duration": 411,
    "start_time": "2025-01-23T18:53:29.980Z"
   },
   {
    "duration": 881,
    "start_time": "2025-01-23T18:53:48.241Z"
   },
   {
    "duration": 37,
    "start_time": "2025-01-23T18:53:49.124Z"
   },
   {
    "duration": 13,
    "start_time": "2025-01-23T18:53:49.166Z"
   },
   {
    "duration": 12,
    "start_time": "2025-01-23T18:53:49.184Z"
   },
   {
    "duration": 8,
    "start_time": "2025-01-23T18:53:49.198Z"
   },
   {
    "duration": 13,
    "start_time": "2025-01-23T18:53:49.232Z"
   },
   {
    "duration": 5,
    "start_time": "2025-01-23T18:53:49.246Z"
   },
   {
    "duration": 16,
    "start_time": "2025-01-23T18:53:49.252Z"
   },
   {
    "duration": 14,
    "start_time": "2025-01-23T18:53:49.271Z"
   },
   {
    "duration": 8,
    "start_time": "2025-01-23T18:53:49.287Z"
   },
   {
    "duration": 45,
    "start_time": "2025-01-23T18:53:49.297Z"
   },
   {
    "duration": 4,
    "start_time": "2025-01-23T18:53:49.344Z"
   },
   {
    "duration": 6,
    "start_time": "2025-01-23T18:53:49.350Z"
   },
   {
    "duration": 19,
    "start_time": "2025-01-23T18:53:49.358Z"
   },
   {
    "duration": 21,
    "start_time": "2025-01-23T18:53:49.379Z"
   },
   {
    "duration": 33,
    "start_time": "2025-01-23T18:53:49.402Z"
   },
   {
    "duration": 19,
    "start_time": "2025-01-23T18:53:49.438Z"
   },
   {
    "duration": 6,
    "start_time": "2025-01-23T18:53:49.461Z"
   },
   {
    "duration": 9,
    "start_time": "2025-01-23T18:53:49.469Z"
   },
   {
    "duration": 10,
    "start_time": "2025-01-23T18:53:49.480Z"
   },
   {
    "duration": 10,
    "start_time": "2025-01-23T18:53:49.492Z"
   },
   {
    "duration": 36,
    "start_time": "2025-01-23T18:53:49.503Z"
   },
   {
    "duration": 471,
    "start_time": "2025-01-23T18:53:49.541Z"
   },
   {
    "duration": 772,
    "start_time": "2025-01-23T19:04:44.690Z"
   },
   {
    "duration": 35,
    "start_time": "2025-01-23T19:04:45.464Z"
   },
   {
    "duration": 13,
    "start_time": "2025-01-23T19:04:45.500Z"
   },
   {
    "duration": 11,
    "start_time": "2025-01-23T19:04:45.531Z"
   },
   {
    "duration": 8,
    "start_time": "2025-01-23T19:04:45.543Z"
   },
   {
    "duration": 13,
    "start_time": "2025-01-23T19:04:45.552Z"
   },
   {
    "duration": 4,
    "start_time": "2025-01-23T19:04:45.567Z"
   },
   {
    "duration": 12,
    "start_time": "2025-01-23T19:04:45.572Z"
   },
   {
    "duration": 46,
    "start_time": "2025-01-23T19:04:45.586Z"
   },
   {
    "duration": 7,
    "start_time": "2025-01-23T19:04:45.635Z"
   },
   {
    "duration": 12,
    "start_time": "2025-01-23T19:04:45.644Z"
   },
   {
    "duration": 4,
    "start_time": "2025-01-23T19:04:45.657Z"
   },
   {
    "duration": 5,
    "start_time": "2025-01-23T19:04:45.663Z"
   },
   {
    "duration": 13,
    "start_time": "2025-01-23T19:04:45.669Z"
   },
   {
    "duration": 13,
    "start_time": "2025-01-23T19:04:45.683Z"
   },
   {
    "duration": 38,
    "start_time": "2025-01-23T19:04:45.698Z"
   },
   {
    "duration": 12,
    "start_time": "2025-01-23T19:04:45.738Z"
   },
   {
    "duration": 6,
    "start_time": "2025-01-23T19:04:45.752Z"
   },
   {
    "duration": 7,
    "start_time": "2025-01-23T19:04:45.759Z"
   },
   {
    "duration": 8,
    "start_time": "2025-01-23T19:04:45.768Z"
   },
   {
    "duration": 7,
    "start_time": "2025-01-23T19:04:45.779Z"
   },
   {
    "duration": 44,
    "start_time": "2025-01-23T19:04:45.788Z"
   },
   {
    "duration": 420,
    "start_time": "2025-01-23T19:04:45.834Z"
   },
   {
    "duration": 3016,
    "start_time": "2025-01-24T04:20:33.970Z"
   },
   {
    "duration": 77,
    "start_time": "2025-01-24T04:20:36.988Z"
   },
   {
    "duration": 30,
    "start_time": "2025-01-24T04:20:37.067Z"
   },
   {
    "duration": 19,
    "start_time": "2025-01-24T04:20:37.102Z"
   },
   {
    "duration": 9,
    "start_time": "2025-01-24T04:20:37.123Z"
   },
   {
    "duration": 17,
    "start_time": "2025-01-24T04:20:37.134Z"
   },
   {
    "duration": 5,
    "start_time": "2025-01-24T04:20:37.153Z"
   },
   {
    "duration": 43,
    "start_time": "2025-01-24T04:20:37.160Z"
   },
   {
    "duration": 23,
    "start_time": "2025-01-24T04:20:37.206Z"
   },
   {
    "duration": 11,
    "start_time": "2025-01-24T04:20:37.236Z"
   },
   {
    "duration": 14,
    "start_time": "2025-01-24T04:20:37.250Z"
   },
   {
    "duration": 4,
    "start_time": "2025-01-24T04:20:37.266Z"
   },
   {
    "duration": 21,
    "start_time": "2025-01-24T04:20:37.272Z"
   },
   {
    "duration": 17,
    "start_time": "2025-01-24T04:20:37.302Z"
   },
   {
    "duration": 17,
    "start_time": "2025-01-24T04:20:37.320Z"
   },
   {
    "duration": 8,
    "start_time": "2025-01-24T04:20:37.339Z"
   },
   {
    "duration": 23,
    "start_time": "2025-01-24T04:20:37.351Z"
   },
   {
    "duration": 14,
    "start_time": "2025-01-24T04:20:37.375Z"
   },
   {
    "duration": 24,
    "start_time": "2025-01-24T04:20:37.390Z"
   },
   {
    "duration": 11,
    "start_time": "2025-01-24T04:20:37.416Z"
   },
   {
    "duration": 8,
    "start_time": "2025-01-24T04:20:37.428Z"
   },
   {
    "duration": 7,
    "start_time": "2025-01-24T04:20:37.438Z"
   },
   {
    "duration": 473,
    "start_time": "2025-01-24T04:20:37.447Z"
   },
   {
    "duration": 13,
    "start_time": "2025-01-24T04:21:42.031Z"
   },
   {
    "duration": 12,
    "start_time": "2025-01-24T04:21:57.795Z"
   },
   {
    "duration": 9,
    "start_time": "2025-01-24T04:22:26.459Z"
   },
   {
    "duration": 434,
    "start_time": "2025-01-24T04:23:01.282Z"
   },
   {
    "duration": 662,
    "start_time": "2025-01-24T04:24:12.836Z"
   },
   {
    "duration": 200,
    "start_time": "2025-01-24T04:25:08.340Z"
   },
   {
    "duration": 240,
    "start_time": "2025-01-24T04:27:34.957Z"
   },
   {
    "duration": 292,
    "start_time": "2025-01-24T04:28:29.271Z"
   },
   {
    "duration": 201,
    "start_time": "2025-01-24T04:29:29.158Z"
   },
   {
    "duration": 299,
    "start_time": "2025-01-24T04:33:15.774Z"
   },
   {
    "duration": 1177,
    "start_time": "2025-01-24T04:34:13.453Z"
   },
   {
    "duration": 1238,
    "start_time": "2025-01-24T04:36:26.716Z"
   },
   {
    "duration": 1326,
    "start_time": "2025-01-24T04:41:34.255Z"
   },
   {
    "duration": 1181,
    "start_time": "2025-01-24T04:43:24.556Z"
   },
   {
    "duration": 1153,
    "start_time": "2025-01-24T04:51:33.818Z"
   },
   {
    "duration": 631,
    "start_time": "2025-01-24T04:51:59.526Z"
   },
   {
    "duration": 1164,
    "start_time": "2025-01-24T04:53:46.836Z"
   },
   {
    "duration": 1082,
    "start_time": "2025-01-24T04:54:37.621Z"
   },
   {
    "duration": 1116,
    "start_time": "2025-01-24T04:55:07.049Z"
   },
   {
    "duration": 1187,
    "start_time": "2025-01-24T04:55:39.476Z"
   },
   {
    "duration": 1077,
    "start_time": "2025-01-24T04:55:56.814Z"
   },
   {
    "duration": 1207,
    "start_time": "2025-01-24T04:56:23.205Z"
   },
   {
    "duration": 1064,
    "start_time": "2025-01-24T04:56:55.099Z"
   },
   {
    "duration": 828,
    "start_time": "2025-01-24T04:57:22.613Z"
   },
   {
    "duration": 54,
    "start_time": "2025-01-24T04:57:23.443Z"
   },
   {
    "duration": 13,
    "start_time": "2025-01-24T04:57:23.499Z"
   },
   {
    "duration": 11,
    "start_time": "2025-01-24T04:57:23.513Z"
   },
   {
    "duration": 7,
    "start_time": "2025-01-24T04:57:23.527Z"
   },
   {
    "duration": 13,
    "start_time": "2025-01-24T04:57:23.535Z"
   },
   {
    "duration": 5,
    "start_time": "2025-01-24T04:57:23.550Z"
   },
   {
    "duration": 17,
    "start_time": "2025-01-24T04:57:23.582Z"
   },
   {
    "duration": 12,
    "start_time": "2025-01-24T04:57:23.601Z"
   },
   {
    "duration": 7,
    "start_time": "2025-01-24T04:57:23.614Z"
   },
   {
    "duration": 12,
    "start_time": "2025-01-24T04:57:23.622Z"
   },
   {
    "duration": 5,
    "start_time": "2025-01-24T04:57:23.635Z"
   },
   {
    "duration": 4,
    "start_time": "2025-01-24T04:57:23.641Z"
   },
   {
    "duration": 50,
    "start_time": "2025-01-24T04:57:23.648Z"
   },
   {
    "duration": 13,
    "start_time": "2025-01-24T04:57:23.699Z"
   },
   {
    "duration": 8,
    "start_time": "2025-01-24T04:57:23.713Z"
   },
   {
    "duration": 14,
    "start_time": "2025-01-24T04:57:23.722Z"
   },
   {
    "duration": 6,
    "start_time": "2025-01-24T04:57:23.737Z"
   },
   {
    "duration": 6,
    "start_time": "2025-01-24T04:57:23.744Z"
   },
   {
    "duration": 42,
    "start_time": "2025-01-24T04:57:23.751Z"
   },
   {
    "duration": 10,
    "start_time": "2025-01-24T04:57:23.794Z"
   },
   {
    "duration": 7,
    "start_time": "2025-01-24T04:57:23.807Z"
   },
   {
    "duration": 1182,
    "start_time": "2025-01-24T04:57:23.816Z"
   },
   {
    "duration": 699,
    "start_time": "2025-01-24T05:12:37.550Z"
   },
   {
    "duration": 18,
    "start_time": "2025-01-24T05:12:49.060Z"
   },
   {
    "duration": 18,
    "start_time": "2025-01-24T05:13:22.625Z"
   },
   {
    "duration": 18,
    "start_time": "2025-01-24T05:13:34.741Z"
   },
   {
    "duration": 4,
    "start_time": "2025-01-24T05:14:06.941Z"
   },
   {
    "duration": 4,
    "start_time": "2025-01-24T05:14:10.129Z"
   },
   {
    "duration": 4,
    "start_time": "2025-01-24T05:14:44.157Z"
   },
   {
    "duration": 4,
    "start_time": "2025-01-24T05:16:02.057Z"
   },
   {
    "duration": 801,
    "start_time": "2025-01-24T05:16:09.588Z"
   },
   {
    "duration": 39,
    "start_time": "2025-01-24T05:16:10.391Z"
   },
   {
    "duration": 11,
    "start_time": "2025-01-24T05:16:10.432Z"
   },
   {
    "duration": 12,
    "start_time": "2025-01-24T05:16:10.445Z"
   },
   {
    "duration": 25,
    "start_time": "2025-01-24T05:16:10.473Z"
   },
   {
    "duration": 12,
    "start_time": "2025-01-24T05:16:10.499Z"
   },
   {
    "duration": 4,
    "start_time": "2025-01-24T05:16:10.513Z"
   },
   {
    "duration": 12,
    "start_time": "2025-01-24T05:16:10.519Z"
   },
   {
    "duration": 15,
    "start_time": "2025-01-24T05:16:10.533Z"
   },
   {
    "duration": 9,
    "start_time": "2025-01-24T05:16:10.549Z"
   },
   {
    "duration": 38,
    "start_time": "2025-01-24T05:16:10.560Z"
   },
   {
    "duration": 5,
    "start_time": "2025-01-24T05:16:10.600Z"
   },
   {
    "duration": 4,
    "start_time": "2025-01-24T05:16:10.607Z"
   },
   {
    "duration": 12,
    "start_time": "2025-01-24T05:16:10.614Z"
   },
   {
    "duration": 14,
    "start_time": "2025-01-24T05:16:10.627Z"
   },
   {
    "duration": 7,
    "start_time": "2025-01-24T05:16:10.643Z"
   },
   {
    "duration": 42,
    "start_time": "2025-01-24T05:16:10.651Z"
   },
   {
    "duration": 10,
    "start_time": "2025-01-24T05:16:10.694Z"
   },
   {
    "duration": 7,
    "start_time": "2025-01-24T05:16:10.705Z"
   },
   {
    "duration": 10,
    "start_time": "2025-01-24T05:16:10.713Z"
   },
   {
    "duration": 8,
    "start_time": "2025-01-24T05:16:10.725Z"
   },
   {
    "duration": 8,
    "start_time": "2025-01-24T05:16:10.734Z"
   },
   {
    "duration": 1190,
    "start_time": "2025-01-24T05:16:10.744Z"
   },
   {
    "duration": 4,
    "start_time": "2025-01-24T05:16:11.937Z"
   },
   {
    "duration": 18,
    "start_time": "2025-01-24T05:16:24.428Z"
   },
   {
    "duration": 15,
    "start_time": "2025-01-24T05:16:52.328Z"
   },
   {
    "duration": 11,
    "start_time": "2025-01-24T05:22:25.902Z"
   },
   {
    "duration": 19,
    "start_time": "2025-01-24T05:24:38.846Z"
   },
   {
    "duration": 10,
    "start_time": "2025-01-24T05:26:05.229Z"
   },
   {
    "duration": 13,
    "start_time": "2025-01-24T05:26:38.552Z"
   },
   {
    "duration": 11,
    "start_time": "2025-01-24T05:26:57.096Z"
   },
   {
    "duration": 7,
    "start_time": "2025-01-24T05:29:06.814Z"
   },
   {
    "duration": 8,
    "start_time": "2025-01-24T05:30:51.227Z"
   },
   {
    "duration": 7,
    "start_time": "2025-01-24T05:31:07.501Z"
   },
   {
    "duration": 793,
    "start_time": "2025-01-24T05:37:53.154Z"
   },
   {
    "duration": 51,
    "start_time": "2025-01-24T05:37:53.949Z"
   },
   {
    "duration": 13,
    "start_time": "2025-01-24T05:37:54.001Z"
   },
   {
    "duration": 11,
    "start_time": "2025-01-24T05:37:54.017Z"
   },
   {
    "duration": 7,
    "start_time": "2025-01-24T05:37:54.030Z"
   },
   {
    "duration": 33,
    "start_time": "2025-01-24T05:37:54.040Z"
   },
   {
    "duration": 5,
    "start_time": "2025-01-24T05:37:54.074Z"
   },
   {
    "duration": 14,
    "start_time": "2025-01-24T05:37:54.080Z"
   },
   {
    "duration": 17,
    "start_time": "2025-01-24T05:37:54.095Z"
   },
   {
    "duration": 8,
    "start_time": "2025-01-24T05:37:54.114Z"
   },
   {
    "duration": 13,
    "start_time": "2025-01-24T05:37:54.124Z"
   },
   {
    "duration": 4,
    "start_time": "2025-01-24T05:37:54.170Z"
   },
   {
    "duration": 5,
    "start_time": "2025-01-24T05:37:54.175Z"
   },
   {
    "duration": 13,
    "start_time": "2025-01-24T05:37:54.181Z"
   },
   {
    "duration": 13,
    "start_time": "2025-01-24T05:37:54.196Z"
   },
   {
    "duration": 7,
    "start_time": "2025-01-24T05:37:54.211Z"
   },
   {
    "duration": 13,
    "start_time": "2025-01-24T05:37:54.221Z"
   },
   {
    "duration": 36,
    "start_time": "2025-01-24T05:37:54.236Z"
   },
   {
    "duration": 6,
    "start_time": "2025-01-24T05:37:54.274Z"
   },
   {
    "duration": 11,
    "start_time": "2025-01-24T05:37:54.282Z"
   },
   {
    "duration": 8,
    "start_time": "2025-01-24T05:37:54.296Z"
   },
   {
    "duration": 8,
    "start_time": "2025-01-24T05:37:54.305Z"
   },
   {
    "duration": 1164,
    "start_time": "2025-01-24T05:37:54.315Z"
   },
   {
    "duration": 15,
    "start_time": "2025-01-24T05:37:55.481Z"
   },
   {
    "duration": 14,
    "start_time": "2025-01-24T05:37:55.498Z"
   },
   {
    "duration": 10,
    "start_time": "2025-01-24T05:37:55.514Z"
   },
   {
    "duration": 9,
    "start_time": "2025-01-24T05:37:55.526Z"
   },
   {
    "duration": 10,
    "start_time": "2025-01-24T05:37:55.540Z"
   },
   {
    "duration": 20,
    "start_time": "2025-01-24T05:44:44.712Z"
   },
   {
    "duration": 238,
    "start_time": "2025-01-24T05:48:47.386Z"
   },
   {
    "duration": 205,
    "start_time": "2025-01-24T05:49:29.474Z"
   },
   {
    "duration": 185,
    "start_time": "2025-01-24T05:49:42.821Z"
   },
   {
    "duration": 183,
    "start_time": "2025-01-24T05:49:56.570Z"
   },
   {
    "duration": 420,
    "start_time": "2025-01-24T05:52:43.801Z"
   },
   {
    "duration": 339,
    "start_time": "2025-01-24T05:55:00.022Z"
   },
   {
    "duration": 620,
    "start_time": "2025-01-24T05:57:19.994Z"
   },
   {
    "duration": 349,
    "start_time": "2025-01-24T05:58:26.435Z"
   },
   {
    "duration": 379,
    "start_time": "2025-01-24T06:08:13.539Z"
   },
   {
    "duration": 6,
    "start_time": "2025-01-24T06:08:50.567Z"
   },
   {
    "duration": 759,
    "start_time": "2025-01-24T06:09:05.333Z"
   },
   {
    "duration": 36,
    "start_time": "2025-01-24T06:09:06.094Z"
   },
   {
    "duration": 12,
    "start_time": "2025-01-24T06:09:06.132Z"
   },
   {
    "duration": 28,
    "start_time": "2025-01-24T06:09:06.147Z"
   },
   {
    "duration": 8,
    "start_time": "2025-01-24T06:09:06.177Z"
   },
   {
    "duration": 13,
    "start_time": "2025-01-24T06:09:06.186Z"
   },
   {
    "duration": 5,
    "start_time": "2025-01-24T06:09:06.200Z"
   },
   {
    "duration": 13,
    "start_time": "2025-01-24T06:09:06.206Z"
   },
   {
    "duration": 12,
    "start_time": "2025-01-24T06:09:06.221Z"
   },
   {
    "duration": 8,
    "start_time": "2025-01-24T06:09:06.269Z"
   },
   {
    "duration": 12,
    "start_time": "2025-01-24T06:09:06.278Z"
   },
   {
    "duration": 4,
    "start_time": "2025-01-24T06:09:06.291Z"
   },
   {
    "duration": 5,
    "start_time": "2025-01-24T06:09:06.297Z"
   },
   {
    "duration": 12,
    "start_time": "2025-01-24T06:09:06.304Z"
   },
   {
    "duration": 16,
    "start_time": "2025-01-24T06:09:06.318Z"
   },
   {
    "duration": 37,
    "start_time": "2025-01-24T06:09:06.337Z"
   },
   {
    "duration": 14,
    "start_time": "2025-01-24T06:09:06.375Z"
   },
   {
    "duration": 5,
    "start_time": "2025-01-24T06:09:06.391Z"
   },
   {
    "duration": 6,
    "start_time": "2025-01-24T06:09:06.397Z"
   },
   {
    "duration": 9,
    "start_time": "2025-01-24T06:09:06.405Z"
   },
   {
    "duration": 7,
    "start_time": "2025-01-24T06:09:06.416Z"
   },
   {
    "duration": 6,
    "start_time": "2025-01-24T06:09:06.425Z"
   },
   {
    "duration": 1138,
    "start_time": "2025-01-24T06:09:06.470Z"
   },
   {
    "duration": 13,
    "start_time": "2025-01-24T06:09:07.610Z"
   },
   {
    "duration": 12,
    "start_time": "2025-01-24T06:09:07.625Z"
   },
   {
    "duration": 10,
    "start_time": "2025-01-24T06:09:07.639Z"
   },
   {
    "duration": 7,
    "start_time": "2025-01-24T06:09:07.650Z"
   },
   {
    "duration": 8,
    "start_time": "2025-01-24T06:09:07.671Z"
   },
   {
    "duration": 351,
    "start_time": "2025-01-24T06:09:07.680Z"
   },
   {
    "duration": 6,
    "start_time": "2025-01-24T06:09:08.033Z"
   },
   {
    "duration": 6,
    "start_time": "2025-01-24T06:11:19.044Z"
   },
   {
    "duration": 6,
    "start_time": "2025-01-24T06:11:38.373Z"
   },
   {
    "duration": 6,
    "start_time": "2025-01-24T06:11:52.556Z"
   },
   {
    "duration": 6,
    "start_time": "2025-01-24T06:14:55.193Z"
   },
   {
    "duration": 6,
    "start_time": "2025-01-24T06:20:10.729Z"
   },
   {
    "duration": 561,
    "start_time": "2025-01-24T06:21:48.405Z"
   },
   {
    "duration": 6,
    "start_time": "2025-01-24T06:22:01.091Z"
   },
   {
    "duration": 6,
    "start_time": "2025-01-24T06:22:20.037Z"
   },
   {
    "duration": 6,
    "start_time": "2025-01-24T06:22:33.562Z"
   },
   {
    "duration": 932,
    "start_time": "2025-01-24T06:23:26.753Z"
   },
   {
    "duration": 53,
    "start_time": "2025-01-24T06:23:27.687Z"
   },
   {
    "duration": 16,
    "start_time": "2025-01-24T06:23:27.743Z"
   },
   {
    "duration": 13,
    "start_time": "2025-01-24T06:23:27.772Z"
   },
   {
    "duration": 9,
    "start_time": "2025-01-24T06:23:27.787Z"
   },
   {
    "duration": 15,
    "start_time": "2025-01-24T06:23:27.798Z"
   },
   {
    "duration": 6,
    "start_time": "2025-01-24T06:23:27.815Z"
   },
   {
    "duration": 15,
    "start_time": "2025-01-24T06:23:27.822Z"
   },
   {
    "duration": 41,
    "start_time": "2025-01-24T06:23:27.839Z"
   },
   {
    "duration": 8,
    "start_time": "2025-01-24T06:23:27.883Z"
   },
   {
    "duration": 12,
    "start_time": "2025-01-24T06:23:27.893Z"
   },
   {
    "duration": 5,
    "start_time": "2025-01-24T06:23:27.907Z"
   },
   {
    "duration": 5,
    "start_time": "2025-01-24T06:23:27.915Z"
   },
   {
    "duration": 13,
    "start_time": "2025-01-24T06:23:27.922Z"
   },
   {
    "duration": 13,
    "start_time": "2025-01-24T06:23:27.971Z"
   },
   {
    "duration": 8,
    "start_time": "2025-01-24T06:23:27.987Z"
   },
   {
    "duration": 15,
    "start_time": "2025-01-24T06:23:27.997Z"
   },
   {
    "duration": 6,
    "start_time": "2025-01-24T06:23:28.014Z"
   },
   {
    "duration": 6,
    "start_time": "2025-01-24T06:23:28.022Z"
   },
   {
    "duration": 46,
    "start_time": "2025-01-24T06:23:28.030Z"
   },
   {
    "duration": 7,
    "start_time": "2025-01-24T06:23:28.078Z"
   },
   {
    "duration": 8,
    "start_time": "2025-01-24T06:23:28.087Z"
   },
   {
    "duration": 1089,
    "start_time": "2025-01-24T06:23:28.097Z"
   },
   {
    "duration": 12,
    "start_time": "2025-01-24T06:23:29.188Z"
   },
   {
    "duration": 14,
    "start_time": "2025-01-24T06:23:29.202Z"
   },
   {
    "duration": 9,
    "start_time": "2025-01-24T06:23:29.217Z"
   },
   {
    "duration": 6,
    "start_time": "2025-01-24T06:23:29.228Z"
   },
   {
    "duration": 6,
    "start_time": "2025-01-24T06:23:29.239Z"
   },
   {
    "duration": 318,
    "start_time": "2025-01-24T06:23:29.269Z"
   },
   {
    "duration": 7,
    "start_time": "2025-01-24T06:23:29.589Z"
   },
   {
    "duration": 801,
    "start_time": "2025-01-24T06:24:23.101Z"
   },
   {
    "duration": 35,
    "start_time": "2025-01-24T06:24:23.903Z"
   },
   {
    "duration": 12,
    "start_time": "2025-01-24T06:24:23.939Z"
   },
   {
    "duration": 23,
    "start_time": "2025-01-24T06:24:23.953Z"
   },
   {
    "duration": 7,
    "start_time": "2025-01-24T06:24:23.977Z"
   },
   {
    "duration": 12,
    "start_time": "2025-01-24T06:24:23.986Z"
   },
   {
    "duration": 5,
    "start_time": "2025-01-24T06:24:23.999Z"
   },
   {
    "duration": 12,
    "start_time": "2025-01-24T06:24:24.006Z"
   },
   {
    "duration": 13,
    "start_time": "2025-01-24T06:24:24.019Z"
   },
   {
    "duration": 9,
    "start_time": "2025-01-24T06:24:24.069Z"
   },
   {
    "duration": 12,
    "start_time": "2025-01-24T06:24:24.080Z"
   },
   {
    "duration": 4,
    "start_time": "2025-01-24T06:24:24.094Z"
   },
   {
    "duration": 5,
    "start_time": "2025-01-24T06:24:24.100Z"
   },
   {
    "duration": 13,
    "start_time": "2025-01-24T06:24:24.107Z"
   },
   {
    "duration": 13,
    "start_time": "2025-01-24T06:24:24.121Z"
   },
   {
    "duration": 39,
    "start_time": "2025-01-24T06:24:24.135Z"
   },
   {
    "duration": 13,
    "start_time": "2025-01-24T06:24:24.175Z"
   },
   {
    "duration": 5,
    "start_time": "2025-01-24T06:24:24.189Z"
   },
   {
    "duration": 6,
    "start_time": "2025-01-24T06:24:24.196Z"
   },
   {
    "duration": 10,
    "start_time": "2025-01-24T06:24:24.203Z"
   },
   {
    "duration": 7,
    "start_time": "2025-01-24T06:24:24.215Z"
   },
   {
    "duration": 48,
    "start_time": "2025-01-24T06:24:24.224Z"
   },
   {
    "duration": 1230,
    "start_time": "2025-01-24T06:24:24.274Z"
   },
   {
    "duration": 19,
    "start_time": "2025-01-24T06:24:25.506Z"
   },
   {
    "duration": 17,
    "start_time": "2025-01-24T06:24:25.527Z"
   },
   {
    "duration": 12,
    "start_time": "2025-01-24T06:24:25.546Z"
   },
   {
    "duration": 17,
    "start_time": "2025-01-24T06:24:25.559Z"
   },
   {
    "duration": 9,
    "start_time": "2025-01-24T06:24:25.580Z"
   },
   {
    "duration": 399,
    "start_time": "2025-01-24T06:24:25.590Z"
   },
   {
    "duration": 6,
    "start_time": "2025-01-24T06:24:25.991Z"
   },
   {
    "duration": 765,
    "start_time": "2025-01-24T06:24:55.024Z"
   },
   {
    "duration": 33,
    "start_time": "2025-01-24T06:24:55.792Z"
   },
   {
    "duration": 11,
    "start_time": "2025-01-24T06:24:55.827Z"
   },
   {
    "duration": 10,
    "start_time": "2025-01-24T06:24:55.840Z"
   },
   {
    "duration": 23,
    "start_time": "2025-01-24T06:24:55.852Z"
   },
   {
    "duration": 12,
    "start_time": "2025-01-24T06:24:55.877Z"
   },
   {
    "duration": 5,
    "start_time": "2025-01-24T06:24:55.890Z"
   },
   {
    "duration": 13,
    "start_time": "2025-01-24T06:24:55.896Z"
   },
   {
    "duration": 13,
    "start_time": "2025-01-24T06:24:55.910Z"
   },
   {
    "duration": 7,
    "start_time": "2025-01-24T06:24:55.927Z"
   },
   {
    "duration": 14,
    "start_time": "2025-01-24T06:24:55.969Z"
   },
   {
    "duration": 4,
    "start_time": "2025-01-24T06:24:55.985Z"
   },
   {
    "duration": 5,
    "start_time": "2025-01-24T06:24:55.991Z"
   },
   {
    "duration": 12,
    "start_time": "2025-01-24T06:24:55.997Z"
   },
   {
    "duration": 12,
    "start_time": "2025-01-24T06:24:56.011Z"
   },
   {
    "duration": 7,
    "start_time": "2025-01-24T06:24:56.024Z"
   },
   {
    "duration": 49,
    "start_time": "2025-01-24T06:24:56.032Z"
   },
   {
    "duration": 6,
    "start_time": "2025-01-24T06:24:56.083Z"
   },
   {
    "duration": 7,
    "start_time": "2025-01-24T06:24:56.090Z"
   },
   {
    "duration": 10,
    "start_time": "2025-01-24T06:24:56.098Z"
   },
   {
    "duration": 6,
    "start_time": "2025-01-24T06:24:56.109Z"
   },
   {
    "duration": 8,
    "start_time": "2025-01-24T06:24:56.117Z"
   },
   {
    "duration": 1151,
    "start_time": "2025-01-24T06:24:56.127Z"
   },
   {
    "duration": 14,
    "start_time": "2025-01-24T06:24:57.280Z"
   },
   {
    "duration": 12,
    "start_time": "2025-01-24T06:24:57.300Z"
   },
   {
    "duration": 9,
    "start_time": "2025-01-24T06:24:57.314Z"
   },
   {
    "duration": 7,
    "start_time": "2025-01-24T06:24:57.324Z"
   },
   {
    "duration": 8,
    "start_time": "2025-01-24T06:24:57.334Z"
   },
   {
    "duration": 334,
    "start_time": "2025-01-24T06:24:57.343Z"
   },
   {
    "duration": 7,
    "start_time": "2025-01-24T06:24:57.679Z"
   },
   {
    "duration": 2544,
    "start_time": "2025-01-24T15:57:48.924Z"
   },
   {
    "duration": 47,
    "start_time": "2025-01-24T15:57:51.471Z"
   },
   {
    "duration": 11,
    "start_time": "2025-01-24T15:57:51.520Z"
   },
   {
    "duration": 11,
    "start_time": "2025-01-24T15:57:51.533Z"
   },
   {
    "duration": 7,
    "start_time": "2025-01-24T15:57:51.546Z"
   },
   {
    "duration": 11,
    "start_time": "2025-01-24T15:57:51.555Z"
   },
   {
    "duration": 21,
    "start_time": "2025-01-24T15:57:51.567Z"
   },
   {
    "duration": 12,
    "start_time": "2025-01-24T15:57:51.591Z"
   },
   {
    "duration": 12,
    "start_time": "2025-01-24T15:57:51.604Z"
   },
   {
    "duration": 7,
    "start_time": "2025-01-24T15:57:51.618Z"
   },
   {
    "duration": 11,
    "start_time": "2025-01-24T15:57:51.626Z"
   },
   {
    "duration": 4,
    "start_time": "2025-01-24T15:57:51.638Z"
   },
   {
    "duration": 42,
    "start_time": "2025-01-24T15:57:51.644Z"
   },
   {
    "duration": 12,
    "start_time": "2025-01-24T15:57:51.690Z"
   },
   {
    "duration": 14,
    "start_time": "2025-01-24T15:57:51.703Z"
   },
   {
    "duration": 8,
    "start_time": "2025-01-24T15:57:51.719Z"
   },
   {
    "duration": 13,
    "start_time": "2025-01-24T15:57:51.728Z"
   },
   {
    "duration": 5,
    "start_time": "2025-01-24T15:57:51.743Z"
   },
   {
    "duration": 40,
    "start_time": "2025-01-24T15:57:51.750Z"
   },
   {
    "duration": 9,
    "start_time": "2025-01-24T15:57:51.792Z"
   },
   {
    "duration": 7,
    "start_time": "2025-01-24T15:57:51.803Z"
   },
   {
    "duration": 7,
    "start_time": "2025-01-24T15:57:51.811Z"
   },
   {
    "duration": 1082,
    "start_time": "2025-01-24T15:57:51.821Z"
   },
   {
    "duration": 13,
    "start_time": "2025-01-24T15:57:52.905Z"
   },
   {
    "duration": 12,
    "start_time": "2025-01-24T15:57:52.920Z"
   },
   {
    "duration": 10,
    "start_time": "2025-01-24T15:57:52.934Z"
   },
   {
    "duration": 7,
    "start_time": "2025-01-24T15:57:52.945Z"
   },
   {
    "duration": 7,
    "start_time": "2025-01-24T15:57:52.954Z"
   },
   {
    "duration": 434,
    "start_time": "2025-01-24T15:57:52.963Z"
   },
   {
    "duration": 6,
    "start_time": "2025-01-24T15:57:53.399Z"
   },
   {
    "duration": 217,
    "start_time": "2025-01-24T16:04:21.579Z"
   },
   {
    "duration": 18,
    "start_time": "2025-01-24T16:05:07.649Z"
   },
   {
    "duration": 13,
    "start_time": "2025-01-24T16:05:35.700Z"
   },
   {
    "duration": 8,
    "start_time": "2025-01-24T16:13:37.778Z"
   },
   {
    "duration": 5,
    "start_time": "2025-01-24T16:14:20.256Z"
   },
   {
    "duration": 5,
    "start_time": "2025-01-24T16:14:37.118Z"
   },
   {
    "duration": 344,
    "start_time": "2025-01-24T16:15:12.322Z"
   },
   {
    "duration": 343,
    "start_time": "2025-01-24T16:17:16.538Z"
   },
   {
    "duration": 6,
    "start_time": "2025-01-24T16:18:54.932Z"
   },
   {
    "duration": 344,
    "start_time": "2025-01-24T16:19:41.419Z"
   },
   {
    "duration": 360,
    "start_time": "2025-01-24T16:27:35.073Z"
   },
   {
    "duration": 340,
    "start_time": "2025-01-24T16:31:02.201Z"
   },
   {
    "duration": 17,
    "start_time": "2025-01-24T16:35:13.702Z"
   },
   {
    "duration": 15,
    "start_time": "2025-01-24T16:35:42.318Z"
   },
   {
    "duration": 24,
    "start_time": "2025-01-24T16:36:45.355Z"
   },
   {
    "duration": 6,
    "start_time": "2025-01-24T16:37:19.306Z"
   },
   {
    "duration": 6,
    "start_time": "2025-01-24T16:37:49.099Z"
   },
   {
    "duration": 6,
    "start_time": "2025-01-24T16:37:55.040Z"
   },
   {
    "duration": 5,
    "start_time": "2025-01-24T16:40:47.943Z"
   },
   {
    "duration": 5,
    "start_time": "2025-01-24T16:41:08.827Z"
   },
   {
    "duration": 5,
    "start_time": "2025-01-24T16:43:22.770Z"
   },
   {
    "duration": 4,
    "start_time": "2025-01-24T16:46:45.217Z"
   },
   {
    "duration": 5,
    "start_time": "2025-01-24T16:46:57.201Z"
   },
   {
    "duration": 807,
    "start_time": "2025-01-24T16:57:07.537Z"
   },
   {
    "duration": 35,
    "start_time": "2025-01-24T16:57:08.346Z"
   },
   {
    "duration": 12,
    "start_time": "2025-01-24T16:57:08.387Z"
   },
   {
    "duration": 11,
    "start_time": "2025-01-24T16:57:08.402Z"
   },
   {
    "duration": 7,
    "start_time": "2025-01-24T16:57:08.415Z"
   },
   {
    "duration": 12,
    "start_time": "2025-01-24T16:57:08.425Z"
   },
   {
    "duration": 5,
    "start_time": "2025-01-24T16:57:08.439Z"
   },
   {
    "duration": 50,
    "start_time": "2025-01-24T16:57:08.446Z"
   },
   {
    "duration": 13,
    "start_time": "2025-01-24T16:57:08.498Z"
   },
   {
    "duration": 7,
    "start_time": "2025-01-24T16:57:08.514Z"
   },
   {
    "duration": 12,
    "start_time": "2025-01-24T16:57:08.523Z"
   },
   {
    "duration": 4,
    "start_time": "2025-01-24T16:57:08.537Z"
   },
   {
    "duration": 4,
    "start_time": "2025-01-24T16:57:08.544Z"
   },
   {
    "duration": 45,
    "start_time": "2025-01-24T16:57:08.550Z"
   },
   {
    "duration": 12,
    "start_time": "2025-01-24T16:57:08.597Z"
   },
   {
    "duration": 7,
    "start_time": "2025-01-24T16:57:08.610Z"
   },
   {
    "duration": 14,
    "start_time": "2025-01-24T16:57:08.619Z"
   },
   {
    "duration": 5,
    "start_time": "2025-01-24T16:57:08.634Z"
   },
   {
    "duration": 6,
    "start_time": "2025-01-24T16:57:08.641Z"
   },
   {
    "duration": 47,
    "start_time": "2025-01-24T16:57:08.648Z"
   },
   {
    "duration": 7,
    "start_time": "2025-01-24T16:57:08.697Z"
   },
   {
    "duration": 7,
    "start_time": "2025-01-24T16:57:08.706Z"
   },
   {
    "duration": 1117,
    "start_time": "2025-01-24T16:57:08.714Z"
   },
   {
    "duration": 12,
    "start_time": "2025-01-24T16:57:09.833Z"
   },
   {
    "duration": 12,
    "start_time": "2025-01-24T16:57:09.847Z"
   },
   {
    "duration": 9,
    "start_time": "2025-01-24T16:57:09.861Z"
   },
   {
    "duration": 15,
    "start_time": "2025-01-24T16:57:09.873Z"
   },
   {
    "duration": 6,
    "start_time": "2025-01-24T16:57:09.891Z"
   },
   {
    "duration": 358,
    "start_time": "2025-01-24T16:57:09.898Z"
   },
   {
    "duration": 7,
    "start_time": "2025-01-24T16:57:10.258Z"
   },
   {
    "duration": 26,
    "start_time": "2025-01-24T16:57:10.268Z"
   },
   {
    "duration": 360,
    "start_time": "2025-01-24T16:57:10.296Z"
   },
   {
    "duration": 6,
    "start_time": "2025-01-24T16:57:10.658Z"
   },
   {
    "duration": 20,
    "start_time": "2025-01-24T16:57:10.666Z"
   },
   {
    "duration": 6,
    "start_time": "2025-01-24T17:02:12.062Z"
   },
   {
    "duration": 4,
    "start_time": "2025-01-24T17:04:03.194Z"
   },
   {
    "duration": 4,
    "start_time": "2025-01-24T17:07:30.455Z"
   },
   {
    "duration": 216,
    "start_time": "2025-01-24T17:07:37.642Z"
   },
   {
    "duration": 230,
    "start_time": "2025-01-24T17:08:14.436Z"
   },
   {
    "duration": 15,
    "start_time": "2025-01-24T17:13:16.734Z"
   },
   {
    "duration": 25,
    "start_time": "2025-01-24T17:14:09.721Z"
   },
   {
    "duration": 14,
    "start_time": "2025-01-24T17:14:40.326Z"
   },
   {
    "duration": 17,
    "start_time": "2025-01-24T17:15:30.492Z"
   },
   {
    "duration": 14,
    "start_time": "2025-01-24T17:15:55.810Z"
   },
   {
    "duration": 13,
    "start_time": "2025-01-24T17:18:07.994Z"
   },
   {
    "duration": 10,
    "start_time": "2025-01-24T17:18:45.541Z"
   },
   {
    "duration": 12,
    "start_time": "2025-01-24T17:20:57.553Z"
   },
   {
    "duration": 10,
    "start_time": "2025-01-24T17:21:43.200Z"
   },
   {
    "duration": 811,
    "start_time": "2025-01-24T17:28:48.718Z"
   },
   {
    "duration": 36,
    "start_time": "2025-01-24T17:28:49.531Z"
   },
   {
    "duration": 25,
    "start_time": "2025-01-24T17:28:49.569Z"
   },
   {
    "duration": 11,
    "start_time": "2025-01-24T17:28:49.597Z"
   },
   {
    "duration": 7,
    "start_time": "2025-01-24T17:28:49.610Z"
   },
   {
    "duration": 12,
    "start_time": "2025-01-24T17:28:49.619Z"
   },
   {
    "duration": 4,
    "start_time": "2025-01-24T17:28:49.632Z"
   },
   {
    "duration": 12,
    "start_time": "2025-01-24T17:28:49.638Z"
   },
   {
    "duration": 14,
    "start_time": "2025-01-24T17:28:49.686Z"
   },
   {
    "duration": 7,
    "start_time": "2025-01-24T17:28:49.703Z"
   },
   {
    "duration": 12,
    "start_time": "2025-01-24T17:28:49.712Z"
   },
   {
    "duration": 5,
    "start_time": "2025-01-24T17:28:49.726Z"
   },
   {
    "duration": 4,
    "start_time": "2025-01-24T17:28:49.733Z"
   },
   {
    "duration": 13,
    "start_time": "2025-01-24T17:28:49.739Z"
   },
   {
    "duration": 13,
    "start_time": "2025-01-24T17:28:49.787Z"
   },
   {
    "duration": 7,
    "start_time": "2025-01-24T17:28:49.802Z"
   },
   {
    "duration": 14,
    "start_time": "2025-01-24T17:28:49.811Z"
   },
   {
    "duration": 6,
    "start_time": "2025-01-24T17:28:49.826Z"
   },
   {
    "duration": 6,
    "start_time": "2025-01-24T17:28:49.833Z"
   },
   {
    "duration": 47,
    "start_time": "2025-01-24T17:28:49.841Z"
   },
   {
    "duration": 8,
    "start_time": "2025-01-24T17:28:49.890Z"
   },
   {
    "duration": 8,
    "start_time": "2025-01-24T17:28:49.899Z"
   },
   {
    "duration": 1143,
    "start_time": "2025-01-24T17:28:49.908Z"
   },
   {
    "duration": 14,
    "start_time": "2025-01-24T17:28:51.052Z"
   },
   {
    "duration": 13,
    "start_time": "2025-01-24T17:28:51.068Z"
   },
   {
    "duration": 9,
    "start_time": "2025-01-24T17:28:51.086Z"
   },
   {
    "duration": 7,
    "start_time": "2025-01-24T17:28:51.098Z"
   },
   {
    "duration": 7,
    "start_time": "2025-01-24T17:28:51.108Z"
   },
   {
    "duration": 349,
    "start_time": "2025-01-24T17:28:51.116Z"
   },
   {
    "duration": 6,
    "start_time": "2025-01-24T17:28:51.467Z"
   },
   {
    "duration": 13,
    "start_time": "2025-01-24T17:28:51.487Z"
   },
   {
    "duration": 357,
    "start_time": "2025-01-24T17:28:51.502Z"
   },
   {
    "duration": 5,
    "start_time": "2025-01-24T17:28:51.862Z"
   },
   {
    "duration": 17,
    "start_time": "2025-01-24T17:28:51.868Z"
   },
   {
    "duration": 5,
    "start_time": "2025-01-24T17:28:51.888Z"
   },
   {
    "duration": 13,
    "start_time": "2025-01-24T17:28:51.894Z"
   },
   {
    "duration": 10,
    "start_time": "2025-01-24T17:28:51.908Z"
   },
   {
    "duration": 11,
    "start_time": "2025-01-24T17:37:36.760Z"
   },
   {
    "duration": 567,
    "start_time": "2025-01-24T17:42:05.335Z"
   },
   {
    "duration": 6,
    "start_time": "2025-01-24T17:42:14.432Z"
   },
   {
    "duration": 275,
    "start_time": "2025-01-24T17:44:02.471Z"
   },
   {
    "duration": 240,
    "start_time": "2025-01-24T17:46:26.092Z"
   },
   {
    "duration": 226,
    "start_time": "2025-01-24T17:49:07.333Z"
   },
   {
    "duration": 197,
    "start_time": "2025-01-24T17:49:31.046Z"
   },
   {
    "duration": 246,
    "start_time": "2025-01-24T17:50:28.499Z"
   },
   {
    "duration": 808,
    "start_time": "2025-01-24T17:56:22.301Z"
   },
   {
    "duration": 41,
    "start_time": "2025-01-24T17:56:23.110Z"
   },
   {
    "duration": 17,
    "start_time": "2025-01-24T17:56:23.154Z"
   },
   {
    "duration": 24,
    "start_time": "2025-01-24T17:56:23.174Z"
   },
   {
    "duration": 8,
    "start_time": "2025-01-24T17:56:23.200Z"
   },
   {
    "duration": 11,
    "start_time": "2025-01-24T17:56:23.210Z"
   },
   {
    "duration": 4,
    "start_time": "2025-01-24T17:56:23.223Z"
   },
   {
    "duration": 12,
    "start_time": "2025-01-24T17:56:23.229Z"
   },
   {
    "duration": 12,
    "start_time": "2025-01-24T17:56:23.242Z"
   },
   {
    "duration": 8,
    "start_time": "2025-01-24T17:56:23.289Z"
   },
   {
    "duration": 13,
    "start_time": "2025-01-24T17:56:23.298Z"
   },
   {
    "duration": 4,
    "start_time": "2025-01-24T17:56:23.313Z"
   },
   {
    "duration": 4,
    "start_time": "2025-01-24T17:56:23.319Z"
   },
   {
    "duration": 13,
    "start_time": "2025-01-24T17:56:23.325Z"
   },
   {
    "duration": 48,
    "start_time": "2025-01-24T17:56:23.339Z"
   },
   {
    "duration": 9,
    "start_time": "2025-01-24T17:56:23.389Z"
   },
   {
    "duration": 13,
    "start_time": "2025-01-24T17:56:23.400Z"
   },
   {
    "duration": 5,
    "start_time": "2025-01-24T17:56:23.414Z"
   },
   {
    "duration": 6,
    "start_time": "2025-01-24T17:56:23.420Z"
   },
   {
    "duration": 10,
    "start_time": "2025-01-24T17:56:23.428Z"
   },
   {
    "duration": 7,
    "start_time": "2025-01-24T17:56:23.439Z"
   },
   {
    "duration": 9,
    "start_time": "2025-01-24T17:56:23.488Z"
   },
   {
    "duration": 1112,
    "start_time": "2025-01-24T17:56:23.499Z"
   },
   {
    "duration": 12,
    "start_time": "2025-01-24T17:56:24.614Z"
   },
   {
    "duration": 12,
    "start_time": "2025-01-24T17:56:24.628Z"
   },
   {
    "duration": 9,
    "start_time": "2025-01-24T17:56:24.642Z"
   },
   {
    "duration": 7,
    "start_time": "2025-01-24T17:56:24.652Z"
   },
   {
    "duration": 6,
    "start_time": "2025-01-24T17:56:24.663Z"
   },
   {
    "duration": 329,
    "start_time": "2025-01-24T17:56:24.670Z"
   },
   {
    "duration": 7,
    "start_time": "2025-01-24T17:56:25.001Z"
   },
   {
    "duration": 17,
    "start_time": "2025-01-24T17:56:25.010Z"
   },
   {
    "duration": 393,
    "start_time": "2025-01-24T17:56:25.029Z"
   },
   {
    "duration": 4,
    "start_time": "2025-01-24T17:56:25.424Z"
   },
   {
    "duration": 5,
    "start_time": "2025-01-24T17:56:25.430Z"
   },
   {
    "duration": 4,
    "start_time": "2025-01-24T17:56:25.436Z"
   },
   {
    "duration": 13,
    "start_time": "2025-01-24T17:56:25.441Z"
   },
   {
    "duration": 36,
    "start_time": "2025-01-24T17:56:25.457Z"
   },
   {
    "duration": 6,
    "start_time": "2025-01-24T17:56:25.495Z"
   },
   {
    "duration": 229,
    "start_time": "2025-01-24T17:56:25.503Z"
   },
   {
    "duration": 795,
    "start_time": "2025-01-24T17:58:08.317Z"
   },
   {
    "duration": 34,
    "start_time": "2025-01-24T17:58:09.115Z"
   },
   {
    "duration": 12,
    "start_time": "2025-01-24T17:58:09.151Z"
   },
   {
    "duration": 28,
    "start_time": "2025-01-24T17:58:09.165Z"
   },
   {
    "duration": 7,
    "start_time": "2025-01-24T17:58:09.195Z"
   },
   {
    "duration": 12,
    "start_time": "2025-01-24T17:58:09.204Z"
   },
   {
    "duration": 4,
    "start_time": "2025-01-24T17:58:09.218Z"
   },
   {
    "duration": 14,
    "start_time": "2025-01-24T17:58:09.224Z"
   },
   {
    "duration": 47,
    "start_time": "2025-01-24T17:58:09.240Z"
   },
   {
    "duration": 8,
    "start_time": "2025-01-24T17:58:09.291Z"
   },
   {
    "duration": 12,
    "start_time": "2025-01-24T17:58:09.300Z"
   },
   {
    "duration": 4,
    "start_time": "2025-01-24T17:58:09.314Z"
   },
   {
    "duration": 4,
    "start_time": "2025-01-24T17:58:09.320Z"
   },
   {
    "duration": 12,
    "start_time": "2025-01-24T17:58:09.326Z"
   },
   {
    "duration": 47,
    "start_time": "2025-01-24T17:58:09.340Z"
   },
   {
    "duration": 8,
    "start_time": "2025-01-24T17:58:09.389Z"
   },
   {
    "duration": 14,
    "start_time": "2025-01-24T17:58:09.399Z"
   },
   {
    "duration": 6,
    "start_time": "2025-01-24T17:58:09.415Z"
   },
   {
    "duration": 7,
    "start_time": "2025-01-24T17:58:09.422Z"
   },
   {
    "duration": 13,
    "start_time": "2025-01-24T17:58:09.431Z"
   },
   {
    "duration": 42,
    "start_time": "2025-01-24T17:58:09.446Z"
   },
   {
    "duration": 9,
    "start_time": "2025-01-24T17:58:09.490Z"
   },
   {
    "duration": 1119,
    "start_time": "2025-01-24T17:58:09.500Z"
   },
   {
    "duration": 13,
    "start_time": "2025-01-24T17:58:10.621Z"
   },
   {
    "duration": 13,
    "start_time": "2025-01-24T17:58:10.635Z"
   },
   {
    "duration": 9,
    "start_time": "2025-01-24T17:58:10.649Z"
   },
   {
    "duration": 7,
    "start_time": "2025-01-24T17:58:10.660Z"
   },
   {
    "duration": 18,
    "start_time": "2025-01-24T17:58:10.671Z"
   },
   {
    "duration": 354,
    "start_time": "2025-01-24T17:58:10.691Z"
   },
   {
    "duration": 8,
    "start_time": "2025-01-24T17:58:11.047Z"
   },
   {
    "duration": 31,
    "start_time": "2025-01-24T17:58:11.057Z"
   },
   {
    "duration": 364,
    "start_time": "2025-01-24T17:58:11.090Z"
   },
   {
    "duration": 6,
    "start_time": "2025-01-24T17:58:11.456Z"
   },
   {
    "duration": 4,
    "start_time": "2025-01-24T17:58:11.464Z"
   },
   {
    "duration": 19,
    "start_time": "2025-01-24T17:58:11.470Z"
   },
   {
    "duration": 14,
    "start_time": "2025-01-24T17:58:11.491Z"
   },
   {
    "duration": 11,
    "start_time": "2025-01-24T17:58:11.506Z"
   },
   {
    "duration": 6,
    "start_time": "2025-01-24T17:58:11.519Z"
   },
   {
    "duration": 300,
    "start_time": "2025-01-24T17:58:11.527Z"
   },
   {
    "duration": 799,
    "start_time": "2025-01-24T18:10:43.666Z"
   },
   {
    "duration": 40,
    "start_time": "2025-01-24T18:10:44.468Z"
   },
   {
    "duration": 10,
    "start_time": "2025-01-24T18:10:44.510Z"
   },
   {
    "duration": 10,
    "start_time": "2025-01-24T18:10:44.523Z"
   },
   {
    "duration": 8,
    "start_time": "2025-01-24T18:10:44.535Z"
   },
   {
    "duration": 11,
    "start_time": "2025-01-24T18:10:44.544Z"
   },
   {
    "duration": 32,
    "start_time": "2025-01-24T18:10:44.557Z"
   },
   {
    "duration": 14,
    "start_time": "2025-01-24T18:10:44.591Z"
   },
   {
    "duration": 12,
    "start_time": "2025-01-24T18:10:44.608Z"
   },
   {
    "duration": 6,
    "start_time": "2025-01-24T18:10:44.623Z"
   },
   {
    "duration": 12,
    "start_time": "2025-01-24T18:10:44.631Z"
   },
   {
    "duration": 4,
    "start_time": "2025-01-24T18:10:44.644Z"
   },
   {
    "duration": 37,
    "start_time": "2025-01-24T18:10:44.650Z"
   },
   {
    "duration": 12,
    "start_time": "2025-01-24T18:10:44.688Z"
   },
   {
    "duration": 12,
    "start_time": "2025-01-24T18:10:44.701Z"
   },
   {
    "duration": 7,
    "start_time": "2025-01-24T18:10:44.715Z"
   },
   {
    "duration": 13,
    "start_time": "2025-01-24T18:10:44.723Z"
   },
   {
    "duration": 5,
    "start_time": "2025-01-24T18:10:44.738Z"
   },
   {
    "duration": 45,
    "start_time": "2025-01-24T18:10:44.745Z"
   },
   {
    "duration": 10,
    "start_time": "2025-01-24T18:10:44.791Z"
   },
   {
    "duration": 7,
    "start_time": "2025-01-24T18:10:44.802Z"
   },
   {
    "duration": 6,
    "start_time": "2025-01-24T18:10:44.811Z"
   },
   {
    "duration": 1132,
    "start_time": "2025-01-24T18:10:44.819Z"
   },
   {
    "duration": 13,
    "start_time": "2025-01-24T18:10:45.953Z"
   },
   {
    "duration": 12,
    "start_time": "2025-01-24T18:10:45.967Z"
   },
   {
    "duration": 11,
    "start_time": "2025-01-24T18:10:45.980Z"
   },
   {
    "duration": 6,
    "start_time": "2025-01-24T18:10:45.993Z"
   },
   {
    "duration": 6,
    "start_time": "2025-01-24T18:10:46.003Z"
   },
   {
    "duration": 368,
    "start_time": "2025-01-24T18:10:46.011Z"
   },
   {
    "duration": 7,
    "start_time": "2025-01-24T18:10:46.387Z"
   },
   {
    "duration": 12,
    "start_time": "2025-01-24T18:10:46.395Z"
   },
   {
    "duration": 362,
    "start_time": "2025-01-24T18:10:46.409Z"
   },
   {
    "duration": 5,
    "start_time": "2025-01-24T18:10:46.772Z"
   },
   {
    "duration": 6,
    "start_time": "2025-01-24T18:10:46.786Z"
   },
   {
    "duration": 4,
    "start_time": "2025-01-24T18:10:46.793Z"
   },
   {
    "duration": 13,
    "start_time": "2025-01-24T18:10:46.798Z"
   },
   {
    "duration": 11,
    "start_time": "2025-01-24T18:10:46.812Z"
   },
   {
    "duration": 5,
    "start_time": "2025-01-24T18:10:46.824Z"
   },
   {
    "duration": 285,
    "start_time": "2025-01-24T18:10:46.831Z"
   },
   {
    "duration": 767,
    "start_time": "2025-01-24T18:14:17.658Z"
   },
   {
    "duration": 33,
    "start_time": "2025-01-24T18:14:18.427Z"
   },
   {
    "duration": 11,
    "start_time": "2025-01-24T18:14:18.463Z"
   },
   {
    "duration": 11,
    "start_time": "2025-01-24T18:14:18.487Z"
   },
   {
    "duration": 7,
    "start_time": "2025-01-24T18:14:18.500Z"
   },
   {
    "duration": 12,
    "start_time": "2025-01-24T18:14:18.508Z"
   },
   {
    "duration": 5,
    "start_time": "2025-01-24T18:14:18.522Z"
   },
   {
    "duration": 12,
    "start_time": "2025-01-24T18:14:18.530Z"
   },
   {
    "duration": 45,
    "start_time": "2025-01-24T18:14:18.543Z"
   },
   {
    "duration": 8,
    "start_time": "2025-01-24T18:14:18.590Z"
   },
   {
    "duration": 12,
    "start_time": "2025-01-24T18:14:18.600Z"
   },
   {
    "duration": 4,
    "start_time": "2025-01-24T18:14:18.613Z"
   },
   {
    "duration": 5,
    "start_time": "2025-01-24T18:14:18.619Z"
   },
   {
    "duration": 13,
    "start_time": "2025-01-24T18:14:18.628Z"
   },
   {
    "duration": 51,
    "start_time": "2025-01-24T18:14:18.642Z"
   },
   {
    "duration": 7,
    "start_time": "2025-01-24T18:14:18.695Z"
   },
   {
    "duration": 14,
    "start_time": "2025-01-24T18:14:18.704Z"
   },
   {
    "duration": 5,
    "start_time": "2025-01-24T18:14:18.720Z"
   },
   {
    "duration": 7,
    "start_time": "2025-01-24T18:14:18.726Z"
   },
   {
    "duration": 10,
    "start_time": "2025-01-24T18:14:18.735Z"
   },
   {
    "duration": 44,
    "start_time": "2025-01-24T18:14:18.747Z"
   },
   {
    "duration": 7,
    "start_time": "2025-01-24T18:14:18.792Z"
   },
   {
    "duration": 1114,
    "start_time": "2025-01-24T18:14:18.801Z"
   },
   {
    "duration": 14,
    "start_time": "2025-01-24T18:14:19.917Z"
   },
   {
    "duration": 13,
    "start_time": "2025-01-24T18:14:19.933Z"
   },
   {
    "duration": 9,
    "start_time": "2025-01-24T18:14:19.948Z"
   },
   {
    "duration": 7,
    "start_time": "2025-01-24T18:14:19.958Z"
   },
   {
    "duration": 21,
    "start_time": "2025-01-24T18:14:19.967Z"
   },
   {
    "duration": 346,
    "start_time": "2025-01-24T18:14:19.990Z"
   },
   {
    "duration": 6,
    "start_time": "2025-01-24T18:14:20.338Z"
   },
   {
    "duration": 12,
    "start_time": "2025-01-24T18:14:20.346Z"
   },
   {
    "duration": 379,
    "start_time": "2025-01-24T18:14:20.359Z"
   },
   {
    "duration": 5,
    "start_time": "2025-01-24T18:14:20.740Z"
   },
   {
    "duration": 4,
    "start_time": "2025-01-24T18:14:20.746Z"
   },
   {
    "duration": 4,
    "start_time": "2025-01-24T18:14:20.752Z"
   },
   {
    "duration": 39,
    "start_time": "2025-01-24T18:14:20.758Z"
   },
   {
    "duration": 13,
    "start_time": "2025-01-24T18:14:20.798Z"
   },
   {
    "duration": 7,
    "start_time": "2025-01-24T18:14:20.814Z"
   },
   {
    "duration": 222,
    "start_time": "2025-01-24T18:14:20.823Z"
   },
   {
    "duration": 767,
    "start_time": "2025-01-24T18:14:49.946Z"
   },
   {
    "duration": 34,
    "start_time": "2025-01-24T18:14:50.715Z"
   },
   {
    "duration": 12,
    "start_time": "2025-01-24T18:14:50.751Z"
   },
   {
    "duration": 23,
    "start_time": "2025-01-24T18:14:50.765Z"
   },
   {
    "duration": 7,
    "start_time": "2025-01-24T18:14:50.790Z"
   },
   {
    "duration": 11,
    "start_time": "2025-01-24T18:14:50.800Z"
   },
   {
    "duration": 5,
    "start_time": "2025-01-24T18:14:50.813Z"
   },
   {
    "duration": 12,
    "start_time": "2025-01-24T18:14:50.819Z"
   },
   {
    "duration": 12,
    "start_time": "2025-01-24T18:14:50.834Z"
   },
   {
    "duration": 43,
    "start_time": "2025-01-24T18:14:50.848Z"
   },
   {
    "duration": 12,
    "start_time": "2025-01-24T18:14:50.892Z"
   },
   {
    "duration": 5,
    "start_time": "2025-01-24T18:14:50.905Z"
   },
   {
    "duration": 4,
    "start_time": "2025-01-24T18:14:50.911Z"
   },
   {
    "duration": 13,
    "start_time": "2025-01-24T18:14:50.917Z"
   },
   {
    "duration": 12,
    "start_time": "2025-01-24T18:14:50.931Z"
   },
   {
    "duration": 6,
    "start_time": "2025-01-24T18:14:50.945Z"
   },
   {
    "duration": 46,
    "start_time": "2025-01-24T18:14:50.952Z"
   },
   {
    "duration": 6,
    "start_time": "2025-01-24T18:14:50.999Z"
   },
   {
    "duration": 7,
    "start_time": "2025-01-24T18:14:51.006Z"
   },
   {
    "duration": 11,
    "start_time": "2025-01-24T18:14:51.014Z"
   },
   {
    "duration": 7,
    "start_time": "2025-01-24T18:14:51.027Z"
   },
   {
    "duration": 7,
    "start_time": "2025-01-24T18:14:51.035Z"
   },
   {
    "duration": 1101,
    "start_time": "2025-01-24T18:14:51.086Z"
   },
   {
    "duration": 14,
    "start_time": "2025-01-24T18:14:52.188Z"
   },
   {
    "duration": 13,
    "start_time": "2025-01-24T18:14:52.203Z"
   },
   {
    "duration": 9,
    "start_time": "2025-01-24T18:14:52.217Z"
   },
   {
    "duration": 7,
    "start_time": "2025-01-24T18:14:52.227Z"
   },
   {
    "duration": 6,
    "start_time": "2025-01-24T18:14:52.238Z"
   },
   {
    "duration": 352,
    "start_time": "2025-01-24T18:14:52.246Z"
   },
   {
    "duration": 7,
    "start_time": "2025-01-24T18:14:52.601Z"
   },
   {
    "duration": 15,
    "start_time": "2025-01-24T18:14:52.610Z"
   },
   {
    "duration": 398,
    "start_time": "2025-01-24T18:14:52.627Z"
   },
   {
    "duration": 4,
    "start_time": "2025-01-24T18:14:53.027Z"
   },
   {
    "duration": 4,
    "start_time": "2025-01-24T18:14:53.033Z"
   },
   {
    "duration": 4,
    "start_time": "2025-01-24T18:14:53.039Z"
   },
   {
    "duration": 13,
    "start_time": "2025-01-24T18:14:53.044Z"
   },
   {
    "duration": 37,
    "start_time": "2025-01-24T18:14:53.058Z"
   },
   {
    "duration": 5,
    "start_time": "2025-01-24T18:14:53.096Z"
   },
   {
    "duration": 247,
    "start_time": "2025-01-24T18:14:53.103Z"
   },
   {
    "duration": 767,
    "start_time": "2025-01-24T18:17:29.441Z"
   },
   {
    "duration": 34,
    "start_time": "2025-01-24T18:17:30.210Z"
   },
   {
    "duration": 12,
    "start_time": "2025-01-24T18:17:30.246Z"
   },
   {
    "duration": 10,
    "start_time": "2025-01-24T18:17:30.261Z"
   },
   {
    "duration": 20,
    "start_time": "2025-01-24T18:17:30.272Z"
   },
   {
    "duration": 12,
    "start_time": "2025-01-24T18:17:30.294Z"
   },
   {
    "duration": 4,
    "start_time": "2025-01-24T18:17:30.307Z"
   },
   {
    "duration": 13,
    "start_time": "2025-01-24T18:17:30.313Z"
   },
   {
    "duration": 12,
    "start_time": "2025-01-24T18:17:30.327Z"
   },
   {
    "duration": 47,
    "start_time": "2025-01-24T18:17:30.343Z"
   },
   {
    "duration": 13,
    "start_time": "2025-01-24T18:17:30.391Z"
   },
   {
    "duration": 5,
    "start_time": "2025-01-24T18:17:30.406Z"
   },
   {
    "duration": 4,
    "start_time": "2025-01-24T18:17:30.412Z"
   },
   {
    "duration": 12,
    "start_time": "2025-01-24T18:17:30.418Z"
   },
   {
    "duration": 15,
    "start_time": "2025-01-24T18:17:30.431Z"
   },
   {
    "duration": 38,
    "start_time": "2025-01-24T18:17:30.449Z"
   },
   {
    "duration": 14,
    "start_time": "2025-01-24T18:17:30.489Z"
   },
   {
    "duration": 5,
    "start_time": "2025-01-24T18:17:30.504Z"
   },
   {
    "duration": 6,
    "start_time": "2025-01-24T18:17:30.511Z"
   },
   {
    "duration": 10,
    "start_time": "2025-01-24T18:17:30.519Z"
   },
   {
    "duration": 7,
    "start_time": "2025-01-24T18:17:30.530Z"
   },
   {
    "duration": 7,
    "start_time": "2025-01-24T18:17:30.539Z"
   },
   {
    "duration": 1149,
    "start_time": "2025-01-24T18:17:30.547Z"
   },
   {
    "duration": 13,
    "start_time": "2025-01-24T18:17:31.697Z"
   },
   {
    "duration": 13,
    "start_time": "2025-01-24T18:17:31.711Z"
   },
   {
    "duration": 10,
    "start_time": "2025-01-24T18:17:31.726Z"
   },
   {
    "duration": 7,
    "start_time": "2025-01-24T18:17:31.737Z"
   },
   {
    "duration": 7,
    "start_time": "2025-01-24T18:17:31.749Z"
   },
   {
    "duration": 355,
    "start_time": "2025-01-24T18:17:31.757Z"
   },
   {
    "duration": 7,
    "start_time": "2025-01-24T18:17:32.113Z"
   },
   {
    "duration": 12,
    "start_time": "2025-01-24T18:17:32.122Z"
   },
   {
    "duration": 398,
    "start_time": "2025-01-24T18:17:32.136Z"
   },
   {
    "duration": 4,
    "start_time": "2025-01-24T18:17:32.536Z"
   },
   {
    "duration": 4,
    "start_time": "2025-01-24T18:17:32.541Z"
   },
   {
    "duration": 4,
    "start_time": "2025-01-24T18:17:32.546Z"
   },
   {
    "duration": 35,
    "start_time": "2025-01-24T18:17:32.552Z"
   },
   {
    "duration": 11,
    "start_time": "2025-01-24T18:17:32.589Z"
   },
   {
    "duration": 6,
    "start_time": "2025-01-24T18:17:32.601Z"
   },
   {
    "duration": 232,
    "start_time": "2025-01-24T18:17:32.608Z"
   },
   {
    "duration": 786,
    "start_time": "2025-01-24T18:19:11.372Z"
   },
   {
    "duration": 39,
    "start_time": "2025-01-24T18:19:12.161Z"
   },
   {
    "duration": 12,
    "start_time": "2025-01-24T18:19:12.202Z"
   },
   {
    "duration": 11,
    "start_time": "2025-01-24T18:19:12.216Z"
   },
   {
    "duration": 7,
    "start_time": "2025-01-24T18:19:12.230Z"
   },
   {
    "duration": 13,
    "start_time": "2025-01-24T18:19:12.239Z"
   },
   {
    "duration": 36,
    "start_time": "2025-01-24T18:19:12.253Z"
   },
   {
    "duration": 12,
    "start_time": "2025-01-24T18:19:12.291Z"
   },
   {
    "duration": 13,
    "start_time": "2025-01-24T18:19:12.305Z"
   },
   {
    "duration": 7,
    "start_time": "2025-01-24T18:19:12.319Z"
   },
   {
    "duration": 11,
    "start_time": "2025-01-24T18:19:12.328Z"
   },
   {
    "duration": 5,
    "start_time": "2025-01-24T18:19:12.341Z"
   },
   {
    "duration": 4,
    "start_time": "2025-01-24T18:19:12.386Z"
   },
   {
    "duration": 12,
    "start_time": "2025-01-24T18:19:12.395Z"
   },
   {
    "duration": 13,
    "start_time": "2025-01-24T18:19:12.409Z"
   },
   {
    "duration": 7,
    "start_time": "2025-01-24T18:19:12.423Z"
   },
   {
    "duration": 14,
    "start_time": "2025-01-24T18:19:12.432Z"
   },
   {
    "duration": 38,
    "start_time": "2025-01-24T18:19:12.448Z"
   },
   {
    "duration": 7,
    "start_time": "2025-01-24T18:19:12.488Z"
   },
   {
    "duration": 10,
    "start_time": "2025-01-24T18:19:12.497Z"
   },
   {
    "duration": 7,
    "start_time": "2025-01-24T18:19:12.509Z"
   },
   {
    "duration": 8,
    "start_time": "2025-01-24T18:19:12.517Z"
   },
   {
    "duration": 1176,
    "start_time": "2025-01-24T18:19:12.527Z"
   },
   {
    "duration": 12,
    "start_time": "2025-01-24T18:19:13.705Z"
   },
   {
    "duration": 12,
    "start_time": "2025-01-24T18:19:13.719Z"
   },
   {
    "duration": 9,
    "start_time": "2025-01-24T18:19:13.733Z"
   },
   {
    "duration": 6,
    "start_time": "2025-01-24T18:19:13.743Z"
   },
   {
    "duration": 7,
    "start_time": "2025-01-24T18:19:13.751Z"
   },
   {
    "duration": 341,
    "start_time": "2025-01-24T18:19:13.760Z"
   },
   {
    "duration": 6,
    "start_time": "2025-01-24T18:19:14.102Z"
   },
   {
    "duration": 13,
    "start_time": "2025-01-24T18:19:14.110Z"
   },
   {
    "duration": 404,
    "start_time": "2025-01-24T18:19:14.125Z"
   },
   {
    "duration": 5,
    "start_time": "2025-01-24T18:19:14.530Z"
   },
   {
    "duration": 4,
    "start_time": "2025-01-24T18:19:14.537Z"
   },
   {
    "duration": 4,
    "start_time": "2025-01-24T18:19:14.543Z"
   },
   {
    "duration": 39,
    "start_time": "2025-01-24T18:19:14.548Z"
   },
   {
    "duration": 11,
    "start_time": "2025-01-24T18:19:14.589Z"
   },
   {
    "duration": 6,
    "start_time": "2025-01-24T18:19:14.601Z"
   },
   {
    "duration": 232,
    "start_time": "2025-01-24T18:19:14.609Z"
   },
   {
    "duration": 805,
    "start_time": "2025-01-24T18:19:43.628Z"
   },
   {
    "duration": 35,
    "start_time": "2025-01-24T18:19:44.435Z"
   },
   {
    "duration": 20,
    "start_time": "2025-01-24T18:19:44.472Z"
   },
   {
    "duration": 11,
    "start_time": "2025-01-24T18:19:44.494Z"
   },
   {
    "duration": 7,
    "start_time": "2025-01-24T18:19:44.508Z"
   },
   {
    "duration": 11,
    "start_time": "2025-01-24T18:19:44.516Z"
   },
   {
    "duration": 4,
    "start_time": "2025-01-24T18:19:44.530Z"
   },
   {
    "duration": 11,
    "start_time": "2025-01-24T18:19:44.536Z"
   },
   {
    "duration": 46,
    "start_time": "2025-01-24T18:19:44.550Z"
   },
   {
    "duration": 7,
    "start_time": "2025-01-24T18:19:44.598Z"
   },
   {
    "duration": 11,
    "start_time": "2025-01-24T18:19:44.607Z"
   },
   {
    "duration": 4,
    "start_time": "2025-01-24T18:19:44.620Z"
   },
   {
    "duration": 4,
    "start_time": "2025-01-24T18:19:44.625Z"
   },
   {
    "duration": 12,
    "start_time": "2025-01-24T18:19:44.634Z"
   },
   {
    "duration": 45,
    "start_time": "2025-01-24T18:19:44.647Z"
   },
   {
    "duration": 6,
    "start_time": "2025-01-24T18:19:44.694Z"
   },
   {
    "duration": 13,
    "start_time": "2025-01-24T18:19:44.702Z"
   },
   {
    "duration": 6,
    "start_time": "2025-01-24T18:19:44.716Z"
   },
   {
    "duration": 5,
    "start_time": "2025-01-24T18:19:44.724Z"
   },
   {
    "duration": 9,
    "start_time": "2025-01-24T18:19:44.731Z"
   },
   {
    "duration": 7,
    "start_time": "2025-01-24T18:19:44.742Z"
   },
   {
    "duration": 42,
    "start_time": "2025-01-24T18:19:44.750Z"
   },
   {
    "duration": 1085,
    "start_time": "2025-01-24T18:19:44.794Z"
   },
   {
    "duration": 13,
    "start_time": "2025-01-24T18:19:45.881Z"
   },
   {
    "duration": 17,
    "start_time": "2025-01-24T18:19:45.896Z"
   },
   {
    "duration": 10,
    "start_time": "2025-01-24T18:19:45.914Z"
   },
   {
    "duration": 7,
    "start_time": "2025-01-24T18:19:45.926Z"
   },
   {
    "duration": 8,
    "start_time": "2025-01-24T18:19:45.935Z"
   },
   {
    "duration": 347,
    "start_time": "2025-01-24T18:19:45.944Z"
   },
   {
    "duration": 6,
    "start_time": "2025-01-24T18:19:46.293Z"
   },
   {
    "duration": 12,
    "start_time": "2025-01-24T18:19:46.301Z"
   },
   {
    "duration": 385,
    "start_time": "2025-01-24T18:19:46.315Z"
   },
   {
    "duration": 5,
    "start_time": "2025-01-24T18:19:46.702Z"
   },
   {
    "duration": 4,
    "start_time": "2025-01-24T18:19:46.708Z"
   },
   {
    "duration": 5,
    "start_time": "2025-01-24T18:19:46.714Z"
   },
   {
    "duration": 13,
    "start_time": "2025-01-24T18:19:46.721Z"
   },
   {
    "duration": 10,
    "start_time": "2025-01-24T18:19:46.735Z"
   },
   {
    "duration": 43,
    "start_time": "2025-01-24T18:19:46.747Z"
   },
   {
    "duration": 250,
    "start_time": "2025-01-24T18:19:46.792Z"
   },
   {
    "duration": 789,
    "start_time": "2025-01-24T18:20:07.328Z"
   },
   {
    "duration": 37,
    "start_time": "2025-01-24T18:20:08.120Z"
   },
   {
    "duration": 11,
    "start_time": "2025-01-24T18:20:08.159Z"
   },
   {
    "duration": 24,
    "start_time": "2025-01-24T18:20:08.172Z"
   },
   {
    "duration": 7,
    "start_time": "2025-01-24T18:20:08.199Z"
   },
   {
    "duration": 11,
    "start_time": "2025-01-24T18:20:08.208Z"
   },
   {
    "duration": 6,
    "start_time": "2025-01-24T18:20:08.221Z"
   },
   {
    "duration": 17,
    "start_time": "2025-01-24T18:20:08.229Z"
   },
   {
    "duration": 47,
    "start_time": "2025-01-24T18:20:08.247Z"
   },
   {
    "duration": 7,
    "start_time": "2025-01-24T18:20:08.297Z"
   },
   {
    "duration": 11,
    "start_time": "2025-01-24T18:20:08.306Z"
   },
   {
    "duration": 4,
    "start_time": "2025-01-24T18:20:08.319Z"
   },
   {
    "duration": 3,
    "start_time": "2025-01-24T18:20:08.325Z"
   },
   {
    "duration": 11,
    "start_time": "2025-01-24T18:20:08.333Z"
   },
   {
    "duration": 49,
    "start_time": "2025-01-24T18:20:08.346Z"
   },
   {
    "duration": 7,
    "start_time": "2025-01-24T18:20:08.396Z"
   },
   {
    "duration": 12,
    "start_time": "2025-01-24T18:20:08.405Z"
   },
   {
    "duration": 5,
    "start_time": "2025-01-24T18:20:08.419Z"
   },
   {
    "duration": 6,
    "start_time": "2025-01-24T18:20:08.425Z"
   },
   {
    "duration": 8,
    "start_time": "2025-01-24T18:20:08.433Z"
   },
   {
    "duration": 7,
    "start_time": "2025-01-24T18:20:08.443Z"
   },
   {
    "duration": 42,
    "start_time": "2025-01-24T18:20:08.451Z"
   },
   {
    "duration": 1088,
    "start_time": "2025-01-24T18:20:08.495Z"
   },
   {
    "duration": 13,
    "start_time": "2025-01-24T18:20:09.585Z"
   },
   {
    "duration": 13,
    "start_time": "2025-01-24T18:20:09.599Z"
   },
   {
    "duration": 8,
    "start_time": "2025-01-24T18:20:09.614Z"
   },
   {
    "duration": 7,
    "start_time": "2025-01-24T18:20:09.623Z"
   },
   {
    "duration": 7,
    "start_time": "2025-01-24T18:20:09.631Z"
   },
   {
    "duration": 348,
    "start_time": "2025-01-24T18:20:09.640Z"
   },
   {
    "duration": 6,
    "start_time": "2025-01-24T18:20:09.990Z"
   },
   {
    "duration": 12,
    "start_time": "2025-01-24T18:20:09.998Z"
   },
   {
    "duration": 412,
    "start_time": "2025-01-24T18:20:10.012Z"
   },
   {
    "duration": 5,
    "start_time": "2025-01-24T18:20:10.425Z"
   },
   {
    "duration": 5,
    "start_time": "2025-01-24T18:20:10.432Z"
   },
   {
    "duration": 4,
    "start_time": "2025-01-24T18:20:10.438Z"
   },
   {
    "duration": 13,
    "start_time": "2025-01-24T18:20:10.444Z"
   },
   {
    "duration": 10,
    "start_time": "2025-01-24T18:20:10.486Z"
   },
   {
    "duration": 6,
    "start_time": "2025-01-24T18:20:10.498Z"
   },
   {
    "duration": 236,
    "start_time": "2025-01-24T18:20:10.506Z"
   },
   {
    "duration": 775,
    "start_time": "2025-01-24T18:24:31.033Z"
   },
   {
    "duration": 34,
    "start_time": "2025-01-24T18:24:31.809Z"
   },
   {
    "duration": 12,
    "start_time": "2025-01-24T18:24:31.844Z"
   },
   {
    "duration": 29,
    "start_time": "2025-01-24T18:24:31.858Z"
   },
   {
    "duration": 7,
    "start_time": "2025-01-24T18:24:31.888Z"
   },
   {
    "duration": 11,
    "start_time": "2025-01-24T18:24:31.897Z"
   },
   {
    "duration": 4,
    "start_time": "2025-01-24T18:24:31.909Z"
   },
   {
    "duration": 13,
    "start_time": "2025-01-24T18:24:31.915Z"
   },
   {
    "duration": 12,
    "start_time": "2025-01-24T18:24:31.930Z"
   },
   {
    "duration": 7,
    "start_time": "2025-01-24T18:24:31.945Z"
   },
   {
    "duration": 13,
    "start_time": "2025-01-24T18:24:31.987Z"
   },
   {
    "duration": 5,
    "start_time": "2025-01-24T18:24:32.001Z"
   },
   {
    "duration": 5,
    "start_time": "2025-01-24T18:24:32.007Z"
   },
   {
    "duration": 12,
    "start_time": "2025-01-24T18:24:32.013Z"
   },
   {
    "duration": 12,
    "start_time": "2025-01-24T18:24:32.026Z"
   },
   {
    "duration": 7,
    "start_time": "2025-01-24T18:24:32.040Z"
   },
   {
    "duration": 50,
    "start_time": "2025-01-24T18:24:32.048Z"
   },
   {
    "duration": 5,
    "start_time": "2025-01-24T18:24:32.100Z"
   },
   {
    "duration": 5,
    "start_time": "2025-01-24T18:24:32.107Z"
   },
   {
    "duration": 10,
    "start_time": "2025-01-24T18:24:32.114Z"
   },
   {
    "duration": 6,
    "start_time": "2025-01-24T18:24:32.125Z"
   },
   {
    "duration": 7,
    "start_time": "2025-01-24T18:24:32.134Z"
   },
   {
    "duration": 1176,
    "start_time": "2025-01-24T18:24:32.143Z"
   },
   {
    "duration": 13,
    "start_time": "2025-01-24T18:24:33.320Z"
   },
   {
    "duration": 13,
    "start_time": "2025-01-24T18:24:33.335Z"
   },
   {
    "duration": 9,
    "start_time": "2025-01-24T18:24:33.349Z"
   },
   {
    "duration": 7,
    "start_time": "2025-01-24T18:24:33.360Z"
   },
   {
    "duration": 15,
    "start_time": "2025-01-24T18:24:33.371Z"
   },
   {
    "duration": 342,
    "start_time": "2025-01-24T18:24:33.388Z"
   },
   {
    "duration": 6,
    "start_time": "2025-01-24T18:24:33.732Z"
   },
   {
    "duration": 13,
    "start_time": "2025-01-24T18:24:33.740Z"
   },
   {
    "duration": 404,
    "start_time": "2025-01-24T18:24:33.754Z"
   },
   {
    "duration": 5,
    "start_time": "2025-01-24T18:24:34.159Z"
   },
   {
    "duration": 5,
    "start_time": "2025-01-24T18:24:34.166Z"
   },
   {
    "duration": 17,
    "start_time": "2025-01-24T18:24:34.172Z"
   },
   {
    "duration": 13,
    "start_time": "2025-01-24T18:24:34.190Z"
   },
   {
    "duration": 11,
    "start_time": "2025-01-24T18:24:34.204Z"
   },
   {
    "duration": 6,
    "start_time": "2025-01-24T18:24:34.216Z"
   },
   {
    "duration": 266,
    "start_time": "2025-01-24T18:24:34.223Z"
   },
   {
    "duration": 777,
    "start_time": "2025-01-24T18:27:44.229Z"
   },
   {
    "duration": 35,
    "start_time": "2025-01-24T18:27:45.008Z"
   },
   {
    "duration": 12,
    "start_time": "2025-01-24T18:27:45.045Z"
   },
   {
    "duration": 28,
    "start_time": "2025-01-24T18:27:45.059Z"
   },
   {
    "duration": 9,
    "start_time": "2025-01-24T18:27:45.089Z"
   },
   {
    "duration": 13,
    "start_time": "2025-01-24T18:27:45.100Z"
   },
   {
    "duration": 5,
    "start_time": "2025-01-24T18:27:45.115Z"
   },
   {
    "duration": 13,
    "start_time": "2025-01-24T18:27:45.122Z"
   },
   {
    "duration": 14,
    "start_time": "2025-01-24T18:27:45.137Z"
   },
   {
    "duration": 7,
    "start_time": "2025-01-24T18:27:45.189Z"
   },
   {
    "duration": 12,
    "start_time": "2025-01-24T18:27:45.197Z"
   },
   {
    "duration": 4,
    "start_time": "2025-01-24T18:27:45.210Z"
   },
   {
    "duration": 5,
    "start_time": "2025-01-24T18:27:45.215Z"
   },
   {
    "duration": 12,
    "start_time": "2025-01-24T18:27:45.222Z"
   },
   {
    "duration": 13,
    "start_time": "2025-01-24T18:27:45.235Z"
   },
   {
    "duration": 43,
    "start_time": "2025-01-24T18:27:45.249Z"
   },
   {
    "duration": 13,
    "start_time": "2025-01-24T18:27:45.293Z"
   },
   {
    "duration": 5,
    "start_time": "2025-01-24T18:27:45.308Z"
   },
   {
    "duration": 6,
    "start_time": "2025-01-24T18:27:45.314Z"
   },
   {
    "duration": 9,
    "start_time": "2025-01-24T18:27:45.322Z"
   },
   {
    "duration": 7,
    "start_time": "2025-01-24T18:27:45.332Z"
   },
   {
    "duration": 7,
    "start_time": "2025-01-24T18:27:45.341Z"
   },
   {
    "duration": 1096,
    "start_time": "2025-01-24T18:27:45.387Z"
   },
   {
    "duration": 12,
    "start_time": "2025-01-24T18:27:46.485Z"
   },
   {
    "duration": 12,
    "start_time": "2025-01-24T18:27:46.499Z"
   },
   {
    "duration": 9,
    "start_time": "2025-01-24T18:27:46.513Z"
   },
   {
    "duration": 6,
    "start_time": "2025-01-24T18:27:46.523Z"
   },
   {
    "duration": 7,
    "start_time": "2025-01-24T18:27:46.534Z"
   },
   {
    "duration": 335,
    "start_time": "2025-01-24T18:27:46.543Z"
   },
   {
    "duration": 6,
    "start_time": "2025-01-24T18:27:46.886Z"
   },
   {
    "duration": 13,
    "start_time": "2025-01-24T18:27:46.894Z"
   },
   {
    "duration": 373,
    "start_time": "2025-01-24T18:27:46.909Z"
   },
   {
    "duration": 5,
    "start_time": "2025-01-24T18:27:47.284Z"
   },
   {
    "duration": 5,
    "start_time": "2025-01-24T18:27:47.290Z"
   },
   {
    "duration": 3,
    "start_time": "2025-01-24T18:27:47.298Z"
   },
   {
    "duration": 14,
    "start_time": "2025-01-24T18:27:47.302Z"
   },
   {
    "duration": 10,
    "start_time": "2025-01-24T18:27:47.318Z"
   },
   {
    "duration": 6,
    "start_time": "2025-01-24T18:27:47.330Z"
   },
   {
    "duration": 283,
    "start_time": "2025-01-24T18:27:47.337Z"
   },
   {
    "duration": 2731,
    "start_time": "2025-01-25T04:01:56.242Z"
   },
   {
    "duration": 46,
    "start_time": "2025-01-25T04:01:58.975Z"
   },
   {
    "duration": 13,
    "start_time": "2025-01-25T04:01:59.023Z"
   },
   {
    "duration": 11,
    "start_time": "2025-01-25T04:01:59.040Z"
   },
   {
    "duration": 8,
    "start_time": "2025-01-25T04:01:59.053Z"
   },
   {
    "duration": 15,
    "start_time": "2025-01-25T04:01:59.062Z"
   },
   {
    "duration": 5,
    "start_time": "2025-01-25T04:01:59.110Z"
   },
   {
    "duration": 12,
    "start_time": "2025-01-25T04:01:59.118Z"
   },
   {
    "duration": 13,
    "start_time": "2025-01-25T04:01:59.131Z"
   },
   {
    "duration": 7,
    "start_time": "2025-01-25T04:01:59.149Z"
   },
   {
    "duration": 13,
    "start_time": "2025-01-25T04:01:59.157Z"
   },
   {
    "duration": 40,
    "start_time": "2025-01-25T04:01:59.172Z"
   },
   {
    "duration": 5,
    "start_time": "2025-01-25T04:01:59.214Z"
   },
   {
    "duration": 13,
    "start_time": "2025-01-25T04:01:59.220Z"
   },
   {
    "duration": 13,
    "start_time": "2025-01-25T04:01:59.235Z"
   },
   {
    "duration": 7,
    "start_time": "2025-01-25T04:01:59.249Z"
   },
   {
    "duration": 14,
    "start_time": "2025-01-25T04:01:59.258Z"
   },
   {
    "duration": 6,
    "start_time": "2025-01-25T04:01:59.310Z"
   },
   {
    "duration": 7,
    "start_time": "2025-01-25T04:01:59.318Z"
   },
   {
    "duration": 12,
    "start_time": "2025-01-25T04:01:59.326Z"
   },
   {
    "duration": 10,
    "start_time": "2025-01-25T04:01:59.341Z"
   },
   {
    "duration": 9,
    "start_time": "2025-01-25T04:01:59.352Z"
   },
   {
    "duration": 1151,
    "start_time": "2025-01-25T04:01:59.362Z"
   },
   {
    "duration": 14,
    "start_time": "2025-01-25T04:02:00.515Z"
   },
   {
    "duration": 13,
    "start_time": "2025-01-25T04:02:00.531Z"
   },
   {
    "duration": 9,
    "start_time": "2025-01-25T04:02:00.546Z"
   },
   {
    "duration": 7,
    "start_time": "2025-01-25T04:02:00.557Z"
   },
   {
    "duration": 6,
    "start_time": "2025-01-25T04:02:00.569Z"
   },
   {
    "duration": 439,
    "start_time": "2025-01-25T04:02:00.577Z"
   },
   {
    "duration": 6,
    "start_time": "2025-01-25T04:02:01.018Z"
   },
   {
    "duration": 13,
    "start_time": "2025-01-25T04:02:01.026Z"
   },
   {
    "duration": 426,
    "start_time": "2025-01-25T04:02:01.041Z"
   },
   {
    "duration": 5,
    "start_time": "2025-01-25T04:02:01.470Z"
   },
   {
    "duration": 4,
    "start_time": "2025-01-25T04:02:01.477Z"
   },
   {
    "duration": 4,
    "start_time": "2025-01-25T04:02:01.483Z"
   },
   {
    "duration": 15,
    "start_time": "2025-01-25T04:02:01.512Z"
   },
   {
    "duration": 12,
    "start_time": "2025-01-25T04:02:01.529Z"
   },
   {
    "duration": 8,
    "start_time": "2025-01-25T04:02:01.543Z"
   },
   {
    "duration": 298,
    "start_time": "2025-01-25T04:02:01.552Z"
   },
   {
    "duration": 628,
    "start_time": "2025-01-25T04:14:59.182Z"
   },
   {
    "duration": 5,
    "start_time": "2025-01-25T04:15:35.589Z"
   },
   {
    "duration": 13,
    "start_time": "2025-01-25T04:22:10.357Z"
   },
   {
    "duration": 18,
    "start_time": "2025-01-25T04:23:38.946Z"
   },
   {
    "duration": 12,
    "start_time": "2025-01-25T04:24:20.145Z"
   },
   {
    "duration": 5,
    "start_time": "2025-01-25T04:28:03.820Z"
   },
   {
    "duration": 7,
    "start_time": "2025-01-25T04:28:22.692Z"
   },
   {
    "duration": 15,
    "start_time": "2025-01-25T04:32:09.687Z"
   },
   {
    "duration": 12,
    "start_time": "2025-01-25T04:32:33.531Z"
   },
   {
    "duration": 8,
    "start_time": "2025-01-25T04:34:40.223Z"
   },
   {
    "duration": 8,
    "start_time": "2025-01-25T04:41:20.003Z"
   },
   {
    "duration": 6,
    "start_time": "2025-01-25T04:42:28.191Z"
   },
   {
    "duration": 5,
    "start_time": "2025-01-25T04:43:18.508Z"
   },
   {
    "duration": 6,
    "start_time": "2025-01-25T04:44:01.159Z"
   },
   {
    "duration": 5,
    "start_time": "2025-01-25T04:45:24.878Z"
   },
   {
    "duration": 861,
    "start_time": "2025-01-25T05:07:43.278Z"
   },
   {
    "duration": 38,
    "start_time": "2025-01-25T05:07:44.141Z"
   },
   {
    "duration": 12,
    "start_time": "2025-01-25T05:07:44.181Z"
   },
   {
    "duration": 23,
    "start_time": "2025-01-25T05:07:44.195Z"
   },
   {
    "duration": 8,
    "start_time": "2025-01-25T05:07:44.220Z"
   },
   {
    "duration": 13,
    "start_time": "2025-01-25T05:07:44.229Z"
   },
   {
    "duration": 5,
    "start_time": "2025-01-25T05:07:44.243Z"
   },
   {
    "duration": 12,
    "start_time": "2025-01-25T05:07:44.249Z"
   },
   {
    "duration": 47,
    "start_time": "2025-01-25T05:07:44.263Z"
   },
   {
    "duration": 9,
    "start_time": "2025-01-25T05:07:44.314Z"
   },
   {
    "duration": 12,
    "start_time": "2025-01-25T05:07:44.325Z"
   },
   {
    "duration": 4,
    "start_time": "2025-01-25T05:07:44.339Z"
   },
   {
    "duration": 4,
    "start_time": "2025-01-25T05:07:44.344Z"
   },
   {
    "duration": 13,
    "start_time": "2025-01-25T05:07:44.349Z"
   },
   {
    "duration": 45,
    "start_time": "2025-01-25T05:07:44.365Z"
   },
   {
    "duration": 7,
    "start_time": "2025-01-25T05:07:44.412Z"
   },
   {
    "duration": 14,
    "start_time": "2025-01-25T05:07:44.421Z"
   },
   {
    "duration": 5,
    "start_time": "2025-01-25T05:07:44.437Z"
   },
   {
    "duration": 6,
    "start_time": "2025-01-25T05:07:44.444Z"
   },
   {
    "duration": 9,
    "start_time": "2025-01-25T05:07:44.452Z"
   },
   {
    "duration": 7,
    "start_time": "2025-01-25T05:07:44.463Z"
   },
   {
    "duration": 45,
    "start_time": "2025-01-25T05:07:44.471Z"
   },
   {
    "duration": 1199,
    "start_time": "2025-01-25T05:07:44.518Z"
   },
   {
    "duration": 13,
    "start_time": "2025-01-25T05:07:45.720Z"
   },
   {
    "duration": 13,
    "start_time": "2025-01-25T05:07:45.735Z"
   },
   {
    "duration": 10,
    "start_time": "2025-01-25T05:07:45.749Z"
   },
   {
    "duration": 8,
    "start_time": "2025-01-25T05:07:45.760Z"
   },
   {
    "duration": 10,
    "start_time": "2025-01-25T05:07:45.773Z"
   },
   {
    "duration": 363,
    "start_time": "2025-01-25T05:07:45.784Z"
   },
   {
    "duration": 7,
    "start_time": "2025-01-25T05:07:46.149Z"
   },
   {
    "duration": 13,
    "start_time": "2025-01-25T05:07:46.157Z"
   },
   {
    "duration": 399,
    "start_time": "2025-01-25T05:07:46.172Z"
   },
   {
    "duration": 5,
    "start_time": "2025-01-25T05:07:46.573Z"
   },
   {
    "duration": 4,
    "start_time": "2025-01-25T05:07:46.580Z"
   },
   {
    "duration": 4,
    "start_time": "2025-01-25T05:07:46.586Z"
   },
   {
    "duration": 29,
    "start_time": "2025-01-25T05:07:46.592Z"
   },
   {
    "duration": 10,
    "start_time": "2025-01-25T05:07:46.624Z"
   },
   {
    "duration": 6,
    "start_time": "2025-01-25T05:07:46.635Z"
   },
   {
    "duration": 269,
    "start_time": "2025-01-25T05:07:46.643Z"
   },
   {
    "duration": 11,
    "start_time": "2025-01-25T05:07:46.914Z"
   },
   {
    "duration": 7,
    "start_time": "2025-01-25T05:07:46.927Z"
   },
   {
    "duration": 5,
    "start_time": "2025-01-25T05:07:46.936Z"
   },
   {
    "duration": 5,
    "start_time": "2025-01-25T05:07:46.943Z"
   },
   {
    "duration": 5,
    "start_time": "2025-01-25T05:07:46.949Z"
   },
   {
    "duration": 228,
    "start_time": "2025-01-25T05:15:24.105Z"
   },
   {
    "duration": 15,
    "start_time": "2025-01-25T05:17:48.802Z"
   },
   {
    "duration": 859,
    "start_time": "2025-01-25T05:18:22.639Z"
   },
   {
    "duration": 41,
    "start_time": "2025-01-25T05:18:23.501Z"
   },
   {
    "duration": 13,
    "start_time": "2025-01-25T05:18:23.545Z"
   },
   {
    "duration": 12,
    "start_time": "2025-01-25T05:18:23.560Z"
   },
   {
    "duration": 6,
    "start_time": "2025-01-25T05:18:23.574Z"
   },
   {
    "duration": 37,
    "start_time": "2025-01-25T05:18:23.582Z"
   },
   {
    "duration": 5,
    "start_time": "2025-01-25T05:18:23.621Z"
   },
   {
    "duration": 13,
    "start_time": "2025-01-25T05:18:23.627Z"
   },
   {
    "duration": 12,
    "start_time": "2025-01-25T05:18:23.641Z"
   },
   {
    "duration": 8,
    "start_time": "2025-01-25T05:18:23.657Z"
   },
   {
    "duration": 44,
    "start_time": "2025-01-25T05:18:23.666Z"
   },
   {
    "duration": 4,
    "start_time": "2025-01-25T05:18:23.712Z"
   },
   {
    "duration": 5,
    "start_time": "2025-01-25T05:18:23.718Z"
   },
   {
    "duration": 14,
    "start_time": "2025-01-25T05:18:23.724Z"
   },
   {
    "duration": 13,
    "start_time": "2025-01-25T05:18:23.739Z"
   },
   {
    "duration": 7,
    "start_time": "2025-01-25T05:18:23.754Z"
   },
   {
    "duration": 52,
    "start_time": "2025-01-25T05:18:23.762Z"
   },
   {
    "duration": 6,
    "start_time": "2025-01-25T05:18:23.816Z"
   },
   {
    "duration": 6,
    "start_time": "2025-01-25T05:18:23.824Z"
   },
   {
    "duration": 10,
    "start_time": "2025-01-25T05:18:23.831Z"
   },
   {
    "duration": 7,
    "start_time": "2025-01-25T05:18:23.843Z"
   },
   {
    "duration": 7,
    "start_time": "2025-01-25T05:18:23.852Z"
   },
   {
    "duration": 1153,
    "start_time": "2025-01-25T05:18:23.860Z"
   },
   {
    "duration": 13,
    "start_time": "2025-01-25T05:18:25.015Z"
   },
   {
    "duration": 13,
    "start_time": "2025-01-25T05:18:25.030Z"
   },
   {
    "duration": 9,
    "start_time": "2025-01-25T05:18:25.045Z"
   },
   {
    "duration": 6,
    "start_time": "2025-01-25T05:18:25.056Z"
   },
   {
    "duration": 7,
    "start_time": "2025-01-25T05:18:25.067Z"
   },
   {
    "duration": 368,
    "start_time": "2025-01-25T05:18:25.075Z"
   },
   {
    "duration": 8,
    "start_time": "2025-01-25T05:18:25.445Z"
   },
   {
    "duration": 13,
    "start_time": "2025-01-25T05:18:25.455Z"
   },
   {
    "duration": 399,
    "start_time": "2025-01-25T05:18:25.470Z"
   },
   {
    "duration": 5,
    "start_time": "2025-01-25T05:18:25.871Z"
   },
   {
    "duration": 5,
    "start_time": "2025-01-25T05:18:25.878Z"
   },
   {
    "duration": 4,
    "start_time": "2025-01-25T05:18:25.885Z"
   },
   {
    "duration": 15,
    "start_time": "2025-01-25T05:18:25.909Z"
   },
   {
    "duration": 12,
    "start_time": "2025-01-25T05:18:25.925Z"
   },
   {
    "duration": 6,
    "start_time": "2025-01-25T05:18:25.940Z"
   },
   {
    "duration": 296,
    "start_time": "2025-01-25T05:18:25.947Z"
   },
   {
    "duration": 12,
    "start_time": "2025-01-25T05:18:26.245Z"
   },
   {
    "duration": 5,
    "start_time": "2025-01-25T05:18:26.258Z"
   },
   {
    "duration": 5,
    "start_time": "2025-01-25T05:18:26.265Z"
   },
   {
    "duration": 5,
    "start_time": "2025-01-25T05:18:26.271Z"
   },
   {
    "duration": 35,
    "start_time": "2025-01-25T05:18:26.278Z"
   },
   {
    "duration": 226,
    "start_time": "2025-01-25T05:18:26.316Z"
   },
   {
    "duration": 14,
    "start_time": "2025-01-25T05:21:49.331Z"
   },
   {
    "duration": 851,
    "start_time": "2025-01-25T05:24:33.185Z"
   },
   {
    "duration": 36,
    "start_time": "2025-01-25T05:24:34.038Z"
   },
   {
    "duration": 11,
    "start_time": "2025-01-25T05:24:34.076Z"
   },
   {
    "duration": 23,
    "start_time": "2025-01-25T05:24:34.089Z"
   },
   {
    "duration": 7,
    "start_time": "2025-01-25T05:24:34.114Z"
   },
   {
    "duration": 11,
    "start_time": "2025-01-25T05:24:34.123Z"
   },
   {
    "duration": 4,
    "start_time": "2025-01-25T05:24:34.136Z"
   },
   {
    "duration": 11,
    "start_time": "2025-01-25T05:24:34.142Z"
   },
   {
    "duration": 12,
    "start_time": "2025-01-25T05:24:34.154Z"
   },
   {
    "duration": 43,
    "start_time": "2025-01-25T05:24:34.170Z"
   },
   {
    "duration": 12,
    "start_time": "2025-01-25T05:24:34.214Z"
   },
   {
    "duration": 4,
    "start_time": "2025-01-25T05:24:34.228Z"
   },
   {
    "duration": 4,
    "start_time": "2025-01-25T05:24:34.234Z"
   },
   {
    "duration": 11,
    "start_time": "2025-01-25T05:24:34.240Z"
   },
   {
    "duration": 13,
    "start_time": "2025-01-25T05:24:34.254Z"
   },
   {
    "duration": 40,
    "start_time": "2025-01-25T05:24:34.269Z"
   },
   {
    "duration": 13,
    "start_time": "2025-01-25T05:24:34.310Z"
   },
   {
    "duration": 6,
    "start_time": "2025-01-25T05:24:34.325Z"
   },
   {
    "duration": 6,
    "start_time": "2025-01-25T05:24:34.332Z"
   },
   {
    "duration": 11,
    "start_time": "2025-01-25T05:24:34.339Z"
   },
   {
    "duration": 7,
    "start_time": "2025-01-25T05:24:34.351Z"
   },
   {
    "duration": 7,
    "start_time": "2025-01-25T05:24:34.360Z"
   },
   {
    "duration": 1157,
    "start_time": "2025-01-25T05:24:34.369Z"
   },
   {
    "duration": 14,
    "start_time": "2025-01-25T05:24:35.528Z"
   },
   {
    "duration": 13,
    "start_time": "2025-01-25T05:24:35.544Z"
   },
   {
    "duration": 9,
    "start_time": "2025-01-25T05:24:35.559Z"
   },
   {
    "duration": 7,
    "start_time": "2025-01-25T05:24:35.570Z"
   },
   {
    "duration": 7,
    "start_time": "2025-01-25T05:24:35.582Z"
   },
   {
    "duration": 351,
    "start_time": "2025-01-25T05:24:35.591Z"
   },
   {
    "duration": 7,
    "start_time": "2025-01-25T05:24:35.944Z"
   },
   {
    "duration": 13,
    "start_time": "2025-01-25T05:24:35.952Z"
   },
   {
    "duration": 390,
    "start_time": "2025-01-25T05:24:35.967Z"
   },
   {
    "duration": 6,
    "start_time": "2025-01-25T05:24:36.358Z"
   },
   {
    "duration": 5,
    "start_time": "2025-01-25T05:24:36.365Z"
   },
   {
    "duration": 4,
    "start_time": "2025-01-25T05:24:36.372Z"
   },
   {
    "duration": 35,
    "start_time": "2025-01-25T05:24:36.378Z"
   },
   {
    "duration": 12,
    "start_time": "2025-01-25T05:24:36.414Z"
   },
   {
    "duration": 6,
    "start_time": "2025-01-25T05:24:36.427Z"
   },
   {
    "duration": 238,
    "start_time": "2025-01-25T05:24:36.435Z"
   },
   {
    "duration": 33,
    "start_time": "2025-01-25T05:24:36.675Z"
   },
   {
    "duration": 6,
    "start_time": "2025-01-25T05:24:36.710Z"
   },
   {
    "duration": 6,
    "start_time": "2025-01-25T05:24:36.718Z"
   },
   {
    "duration": 6,
    "start_time": "2025-01-25T05:24:36.725Z"
   },
   {
    "duration": 5,
    "start_time": "2025-01-25T05:24:36.732Z"
   },
   {
    "duration": 237,
    "start_time": "2025-01-25T05:29:11.791Z"
   },
   {
    "duration": 865,
    "start_time": "2025-01-25T05:31:29.002Z"
   },
   {
    "duration": 42,
    "start_time": "2025-01-25T05:31:29.869Z"
   },
   {
    "duration": 12,
    "start_time": "2025-01-25T05:31:29.912Z"
   },
   {
    "duration": 11,
    "start_time": "2025-01-25T05:31:29.926Z"
   },
   {
    "duration": 6,
    "start_time": "2025-01-25T05:31:29.940Z"
   },
   {
    "duration": 12,
    "start_time": "2025-01-25T05:31:29.948Z"
   },
   {
    "duration": 5,
    "start_time": "2025-01-25T05:31:29.961Z"
   },
   {
    "duration": 50,
    "start_time": "2025-01-25T05:31:29.968Z"
   },
   {
    "duration": 14,
    "start_time": "2025-01-25T05:31:30.021Z"
   },
   {
    "duration": 8,
    "start_time": "2025-01-25T05:31:30.037Z"
   },
   {
    "duration": 12,
    "start_time": "2025-01-25T05:31:30.047Z"
   },
   {
    "duration": 5,
    "start_time": "2025-01-25T05:31:30.061Z"
   },
   {
    "duration": 6,
    "start_time": "2025-01-25T05:31:30.068Z"
   },
   {
    "duration": 14,
    "start_time": "2025-01-25T05:31:30.110Z"
   },
   {
    "duration": 13,
    "start_time": "2025-01-25T05:31:30.125Z"
   },
   {
    "duration": 6,
    "start_time": "2025-01-25T05:31:30.140Z"
   },
   {
    "duration": 13,
    "start_time": "2025-01-25T05:31:30.148Z"
   },
   {
    "duration": 7,
    "start_time": "2025-01-25T05:31:30.163Z"
   },
   {
    "duration": 38,
    "start_time": "2025-01-25T05:31:30.173Z"
   },
   {
    "duration": 11,
    "start_time": "2025-01-25T05:31:30.213Z"
   },
   {
    "duration": 8,
    "start_time": "2025-01-25T05:31:30.226Z"
   },
   {
    "duration": 8,
    "start_time": "2025-01-25T05:31:30.236Z"
   },
   {
    "duration": 1191,
    "start_time": "2025-01-25T05:31:30.247Z"
   },
   {
    "duration": 14,
    "start_time": "2025-01-25T05:31:31.440Z"
   },
   {
    "duration": 14,
    "start_time": "2025-01-25T05:31:31.455Z"
   },
   {
    "duration": 10,
    "start_time": "2025-01-25T05:31:31.470Z"
   },
   {
    "duration": 7,
    "start_time": "2025-01-25T05:31:31.481Z"
   },
   {
    "duration": 7,
    "start_time": "2025-01-25T05:31:31.490Z"
   },
   {
    "duration": 328,
    "start_time": "2025-01-25T05:31:31.499Z"
   },
   {
    "duration": 7,
    "start_time": "2025-01-25T05:31:31.830Z"
   },
   {
    "duration": 13,
    "start_time": "2025-01-25T05:31:31.838Z"
   },
   {
    "duration": 408,
    "start_time": "2025-01-25T05:31:31.853Z"
   },
   {
    "duration": 5,
    "start_time": "2025-01-25T05:31:32.263Z"
   },
   {
    "duration": 5,
    "start_time": "2025-01-25T05:31:32.270Z"
   },
   {
    "duration": 243,
    "start_time": "2025-01-25T05:31:32.277Z"
   },
   {
    "duration": 0,
    "start_time": "2025-01-25T05:31:32.522Z"
   },
   {
    "duration": 0,
    "start_time": "2025-01-25T05:31:32.524Z"
   },
   {
    "duration": 0,
    "start_time": "2025-01-25T05:31:32.525Z"
   },
   {
    "duration": 0,
    "start_time": "2025-01-25T05:31:32.526Z"
   },
   {
    "duration": 0,
    "start_time": "2025-01-25T05:31:32.527Z"
   },
   {
    "duration": 0,
    "start_time": "2025-01-25T05:31:32.528Z"
   },
   {
    "duration": 0,
    "start_time": "2025-01-25T05:31:32.529Z"
   },
   {
    "duration": 0,
    "start_time": "2025-01-25T05:31:32.530Z"
   },
   {
    "duration": 0,
    "start_time": "2025-01-25T05:31:32.531Z"
   },
   {
    "duration": 0,
    "start_time": "2025-01-25T05:31:32.532Z"
   },
   {
    "duration": 4,
    "start_time": "2025-01-25T05:31:55.853Z"
   },
   {
    "duration": 17,
    "start_time": "2025-01-25T05:31:58.695Z"
   },
   {
    "duration": 13,
    "start_time": "2025-01-25T05:32:17.551Z"
   },
   {
    "duration": 834,
    "start_time": "2025-01-25T05:32:32.575Z"
   },
   {
    "duration": 34,
    "start_time": "2025-01-25T05:32:33.411Z"
   },
   {
    "duration": 11,
    "start_time": "2025-01-25T05:32:33.449Z"
   },
   {
    "duration": 11,
    "start_time": "2025-01-25T05:32:33.463Z"
   },
   {
    "duration": 34,
    "start_time": "2025-01-25T05:32:33.475Z"
   },
   {
    "duration": 11,
    "start_time": "2025-01-25T05:32:33.511Z"
   },
   {
    "duration": 4,
    "start_time": "2025-01-25T05:32:33.524Z"
   },
   {
    "duration": 11,
    "start_time": "2025-01-25T05:32:33.530Z"
   },
   {
    "duration": 12,
    "start_time": "2025-01-25T05:32:33.544Z"
   },
   {
    "duration": 7,
    "start_time": "2025-01-25T05:32:33.557Z"
   },
   {
    "duration": 44,
    "start_time": "2025-01-25T05:32:33.565Z"
   },
   {
    "duration": 5,
    "start_time": "2025-01-25T05:32:33.611Z"
   },
   {
    "duration": 4,
    "start_time": "2025-01-25T05:32:33.620Z"
   },
   {
    "duration": 12,
    "start_time": "2025-01-25T05:32:33.625Z"
   },
   {
    "duration": 12,
    "start_time": "2025-01-25T05:32:33.639Z"
   },
   {
    "duration": 7,
    "start_time": "2025-01-25T05:32:33.652Z"
   },
   {
    "duration": 13,
    "start_time": "2025-01-25T05:32:33.661Z"
   },
   {
    "duration": 36,
    "start_time": "2025-01-25T05:32:33.676Z"
   },
   {
    "duration": 5,
    "start_time": "2025-01-25T05:32:33.714Z"
   },
   {
    "duration": 9,
    "start_time": "2025-01-25T05:32:33.721Z"
   },
   {
    "duration": 8,
    "start_time": "2025-01-25T05:32:33.732Z"
   },
   {
    "duration": 7,
    "start_time": "2025-01-25T05:32:33.741Z"
   },
   {
    "duration": 1169,
    "start_time": "2025-01-25T05:32:33.750Z"
   },
   {
    "duration": 13,
    "start_time": "2025-01-25T05:32:34.921Z"
   },
   {
    "duration": 13,
    "start_time": "2025-01-25T05:32:34.936Z"
   },
   {
    "duration": 9,
    "start_time": "2025-01-25T05:32:34.950Z"
   },
   {
    "duration": 8,
    "start_time": "2025-01-25T05:32:34.960Z"
   },
   {
    "duration": 7,
    "start_time": "2025-01-25T05:32:34.969Z"
   },
   {
    "duration": 346,
    "start_time": "2025-01-25T05:32:34.978Z"
   },
   {
    "duration": 7,
    "start_time": "2025-01-25T05:32:35.326Z"
   },
   {
    "duration": 13,
    "start_time": "2025-01-25T05:32:35.334Z"
   },
   {
    "duration": 399,
    "start_time": "2025-01-25T05:32:35.349Z"
   },
   {
    "duration": 5,
    "start_time": "2025-01-25T05:32:35.750Z"
   },
   {
    "duration": 5,
    "start_time": "2025-01-25T05:32:35.757Z"
   },
   {
    "duration": 5,
    "start_time": "2025-01-25T05:32:35.763Z"
   },
   {
    "duration": 14,
    "start_time": "2025-01-25T05:32:35.770Z"
   },
   {
    "duration": 14,
    "start_time": "2025-01-25T05:32:35.809Z"
   },
   {
    "duration": 8,
    "start_time": "2025-01-25T05:32:35.825Z"
   },
   {
    "duration": 237,
    "start_time": "2025-01-25T05:32:35.834Z"
   },
   {
    "duration": 12,
    "start_time": "2025-01-25T05:32:36.076Z"
   },
   {
    "duration": 5,
    "start_time": "2025-01-25T05:32:36.110Z"
   },
   {
    "duration": 5,
    "start_time": "2025-01-25T05:32:36.117Z"
   },
   {
    "duration": 5,
    "start_time": "2025-01-25T05:32:36.124Z"
   },
   {
    "duration": 5,
    "start_time": "2025-01-25T05:32:36.131Z"
   },
   {
    "duration": 260,
    "start_time": "2025-01-25T05:32:36.137Z"
   },
   {
    "duration": 13,
    "start_time": "2025-01-25T05:40:31.757Z"
   },
   {
    "duration": 6,
    "start_time": "2025-01-25T05:44:05.610Z"
   },
   {
    "duration": 12,
    "start_time": "2025-01-25T05:46:00.838Z"
   },
   {
    "duration": 12,
    "start_time": "2025-01-25T05:46:25.370Z"
   },
   {
    "duration": 5,
    "start_time": "2025-01-25T05:46:32.930Z"
   },
   {
    "duration": 6,
    "start_time": "2025-01-25T05:48:47.497Z"
   },
   {
    "duration": 5,
    "start_time": "2025-01-25T05:49:10.758Z"
   },
   {
    "duration": 5,
    "start_time": "2025-01-25T05:50:21.705Z"
   },
   {
    "duration": 6,
    "start_time": "2025-01-25T05:51:01.170Z"
   },
   {
    "duration": 6,
    "start_time": "2025-01-25T05:51:42.056Z"
   },
   {
    "duration": 877,
    "start_time": "2025-01-25T05:53:21.863Z"
   },
   {
    "duration": 36,
    "start_time": "2025-01-25T05:53:22.743Z"
   },
   {
    "duration": 12,
    "start_time": "2025-01-25T05:53:22.781Z"
   },
   {
    "duration": 12,
    "start_time": "2025-01-25T05:53:22.809Z"
   },
   {
    "duration": 7,
    "start_time": "2025-01-25T05:53:22.824Z"
   },
   {
    "duration": 12,
    "start_time": "2025-01-25T05:53:22.833Z"
   },
   {
    "duration": 4,
    "start_time": "2025-01-25T05:53:22.847Z"
   },
   {
    "duration": 14,
    "start_time": "2025-01-25T05:53:22.853Z"
   },
   {
    "duration": 51,
    "start_time": "2025-01-25T05:53:22.868Z"
   },
   {
    "duration": 7,
    "start_time": "2025-01-25T05:53:22.921Z"
   },
   {
    "duration": 12,
    "start_time": "2025-01-25T05:53:22.930Z"
   },
   {
    "duration": 4,
    "start_time": "2025-01-25T05:53:22.944Z"
   },
   {
    "duration": 5,
    "start_time": "2025-01-25T05:53:22.950Z"
   },
   {
    "duration": 12,
    "start_time": "2025-01-25T05:53:22.959Z"
   },
   {
    "duration": 46,
    "start_time": "2025-01-25T05:53:22.973Z"
   },
   {
    "duration": 10,
    "start_time": "2025-01-25T05:53:23.021Z"
   },
   {
    "duration": 18,
    "start_time": "2025-01-25T05:53:23.032Z"
   },
   {
    "duration": 5,
    "start_time": "2025-01-25T05:53:23.052Z"
   },
   {
    "duration": 6,
    "start_time": "2025-01-25T05:53:23.059Z"
   },
   {
    "duration": 44,
    "start_time": "2025-01-25T05:53:23.066Z"
   },
   {
    "duration": 9,
    "start_time": "2025-01-25T05:53:23.112Z"
   },
   {
    "duration": 7,
    "start_time": "2025-01-25T05:53:23.123Z"
   },
   {
    "duration": 1193,
    "start_time": "2025-01-25T05:53:23.132Z"
   },
   {
    "duration": 15,
    "start_time": "2025-01-25T05:53:24.327Z"
   },
   {
    "duration": 13,
    "start_time": "2025-01-25T05:53:24.344Z"
   },
   {
    "duration": 9,
    "start_time": "2025-01-25T05:53:24.360Z"
   },
   {
    "duration": 7,
    "start_time": "2025-01-25T05:53:24.371Z"
   },
   {
    "duration": 30,
    "start_time": "2025-01-25T05:53:24.380Z"
   },
   {
    "duration": 357,
    "start_time": "2025-01-25T05:53:24.412Z"
   },
   {
    "duration": 8,
    "start_time": "2025-01-25T05:53:24.772Z"
   },
   {
    "duration": 27,
    "start_time": "2025-01-25T05:53:24.783Z"
   },
   {
    "duration": 363,
    "start_time": "2025-01-25T05:53:24.813Z"
   },
   {
    "duration": 5,
    "start_time": "2025-01-25T05:53:25.178Z"
   },
   {
    "duration": 4,
    "start_time": "2025-01-25T05:53:25.185Z"
   },
   {
    "duration": 20,
    "start_time": "2025-01-25T05:53:25.191Z"
   },
   {
    "duration": 13,
    "start_time": "2025-01-25T05:53:25.213Z"
   },
   {
    "duration": 11,
    "start_time": "2025-01-25T05:53:25.228Z"
   },
   {
    "duration": 6,
    "start_time": "2025-01-25T05:53:25.241Z"
   },
   {
    "duration": 289,
    "start_time": "2025-01-25T05:53:25.249Z"
   },
   {
    "duration": 11,
    "start_time": "2025-01-25T05:53:25.540Z"
   },
   {
    "duration": 4,
    "start_time": "2025-01-25T05:53:25.557Z"
   },
   {
    "duration": 7,
    "start_time": "2025-01-25T05:53:25.563Z"
   },
   {
    "duration": 5,
    "start_time": "2025-01-25T05:53:25.572Z"
   },
   {
    "duration": 34,
    "start_time": "2025-01-25T05:53:25.579Z"
   },
   {
    "duration": 10,
    "start_time": "2025-01-25T05:53:25.615Z"
   },
   {
    "duration": 5,
    "start_time": "2025-01-25T05:53:25.627Z"
   },
   {
    "duration": 4,
    "start_time": "2025-01-25T05:53:25.634Z"
   },
   {
    "duration": 5,
    "start_time": "2025-01-25T05:53:25.640Z"
   },
   {
    "duration": 5,
    "start_time": "2025-01-25T05:53:25.646Z"
   },
   {
    "duration": 852,
    "start_time": "2025-01-25T06:08:31.228Z"
   },
   {
    "duration": 40,
    "start_time": "2025-01-25T06:08:32.082Z"
   },
   {
    "duration": 12,
    "start_time": "2025-01-25T06:08:32.123Z"
   },
   {
    "duration": 11,
    "start_time": "2025-01-25T06:08:32.137Z"
   },
   {
    "duration": 7,
    "start_time": "2025-01-25T06:08:32.151Z"
   },
   {
    "duration": 12,
    "start_time": "2025-01-25T06:08:32.160Z"
   },
   {
    "duration": 35,
    "start_time": "2025-01-25T06:08:32.174Z"
   },
   {
    "duration": 12,
    "start_time": "2025-01-25T06:08:32.210Z"
   },
   {
    "duration": 13,
    "start_time": "2025-01-25T06:08:32.223Z"
   },
   {
    "duration": 7,
    "start_time": "2025-01-25T06:08:32.238Z"
   },
   {
    "duration": 11,
    "start_time": "2025-01-25T06:08:32.247Z"
   },
   {
    "duration": 4,
    "start_time": "2025-01-25T06:08:32.260Z"
   },
   {
    "duration": 4,
    "start_time": "2025-01-25T06:08:32.266Z"
   },
   {
    "duration": 13,
    "start_time": "2025-01-25T06:08:32.308Z"
   },
   {
    "duration": 13,
    "start_time": "2025-01-25T06:08:32.323Z"
   },
   {
    "duration": 7,
    "start_time": "2025-01-25T06:08:32.338Z"
   },
   {
    "duration": 13,
    "start_time": "2025-01-25T06:08:32.347Z"
   },
   {
    "duration": 5,
    "start_time": "2025-01-25T06:08:32.362Z"
   },
   {
    "duration": 6,
    "start_time": "2025-01-25T06:08:32.369Z"
   },
   {
    "duration": 12,
    "start_time": "2025-01-25T06:08:32.408Z"
   },
   {
    "duration": 7,
    "start_time": "2025-01-25T06:08:32.422Z"
   },
   {
    "duration": 7,
    "start_time": "2025-01-25T06:08:32.431Z"
   },
   {
    "duration": 1137,
    "start_time": "2025-01-25T06:08:32.440Z"
   },
   {
    "duration": 14,
    "start_time": "2025-01-25T06:08:33.580Z"
   },
   {
    "duration": 15,
    "start_time": "2025-01-25T06:08:33.595Z"
   },
   {
    "duration": 10,
    "start_time": "2025-01-25T06:08:33.612Z"
   },
   {
    "duration": 7,
    "start_time": "2025-01-25T06:08:33.623Z"
   },
   {
    "duration": 7,
    "start_time": "2025-01-25T06:08:33.633Z"
   },
   {
    "duration": 358,
    "start_time": "2025-01-25T06:08:33.642Z"
   },
   {
    "duration": 8,
    "start_time": "2025-01-25T06:08:34.008Z"
   },
   {
    "duration": 13,
    "start_time": "2025-01-25T06:08:34.018Z"
   },
   {
    "duration": 412,
    "start_time": "2025-01-25T06:08:34.032Z"
   },
   {
    "duration": 5,
    "start_time": "2025-01-25T06:08:34.446Z"
   },
   {
    "duration": 5,
    "start_time": "2025-01-25T06:08:34.453Z"
   },
   {
    "duration": 5,
    "start_time": "2025-01-25T06:08:34.459Z"
   },
   {
    "duration": 13,
    "start_time": "2025-01-25T06:08:34.465Z"
   },
   {
    "duration": 40,
    "start_time": "2025-01-25T06:08:34.480Z"
   },
   {
    "duration": 6,
    "start_time": "2025-01-25T06:08:34.521Z"
   },
   {
    "duration": 237,
    "start_time": "2025-01-25T06:08:34.529Z"
   },
   {
    "duration": 11,
    "start_time": "2025-01-25T06:08:34.768Z"
   },
   {
    "duration": 23,
    "start_time": "2025-01-25T06:08:34.785Z"
   },
   {
    "duration": 5,
    "start_time": "2025-01-25T06:08:34.810Z"
   },
   {
    "duration": 5,
    "start_time": "2025-01-25T06:08:34.817Z"
   },
   {
    "duration": 5,
    "start_time": "2025-01-25T06:08:34.825Z"
   },
   {
    "duration": 11,
    "start_time": "2025-01-25T06:08:34.831Z"
   },
   {
    "duration": 5,
    "start_time": "2025-01-25T06:08:34.844Z"
   },
   {
    "duration": 4,
    "start_time": "2025-01-25T06:08:34.851Z"
   },
   {
    "duration": 5,
    "start_time": "2025-01-25T06:08:34.857Z"
   },
   {
    "duration": 50,
    "start_time": "2025-01-25T06:08:34.863Z"
   },
   {
    "duration": 2514,
    "start_time": "2025-01-25T18:04:16.749Z"
   },
   {
    "duration": 44,
    "start_time": "2025-01-25T18:04:19.265Z"
   },
   {
    "duration": 11,
    "start_time": "2025-01-25T18:04:19.312Z"
   },
   {
    "duration": 19,
    "start_time": "2025-01-25T18:04:19.325Z"
   },
   {
    "duration": 7,
    "start_time": "2025-01-25T18:04:19.346Z"
   },
   {
    "duration": 12,
    "start_time": "2025-01-25T18:04:19.355Z"
   },
   {
    "duration": 4,
    "start_time": "2025-01-25T18:04:19.369Z"
   },
   {
    "duration": 12,
    "start_time": "2025-01-25T18:04:19.374Z"
   },
   {
    "duration": 14,
    "start_time": "2025-01-25T18:04:19.388Z"
   },
   {
    "duration": 45,
    "start_time": "2025-01-25T18:04:19.404Z"
   },
   {
    "duration": 12,
    "start_time": "2025-01-25T18:04:19.451Z"
   },
   {
    "duration": 4,
    "start_time": "2025-01-25T18:04:19.465Z"
   },
   {
    "duration": 4,
    "start_time": "2025-01-25T18:04:19.473Z"
   },
   {
    "duration": 12,
    "start_time": "2025-01-25T18:04:19.479Z"
   },
   {
    "duration": 12,
    "start_time": "2025-01-25T18:04:19.492Z"
   },
   {
    "duration": 42,
    "start_time": "2025-01-25T18:04:19.506Z"
   },
   {
    "duration": 13,
    "start_time": "2025-01-25T18:04:19.549Z"
   },
   {
    "duration": 7,
    "start_time": "2025-01-25T18:04:19.563Z"
   },
   {
    "duration": 6,
    "start_time": "2025-01-25T18:04:19.571Z"
   },
   {
    "duration": 11,
    "start_time": "2025-01-25T18:04:19.578Z"
   },
   {
    "duration": 7,
    "start_time": "2025-01-25T18:04:19.590Z"
   },
   {
    "duration": 46,
    "start_time": "2025-01-25T18:04:19.598Z"
   },
   {
    "duration": 1169,
    "start_time": "2025-01-25T18:04:19.646Z"
   },
   {
    "duration": 15,
    "start_time": "2025-01-25T18:04:20.817Z"
   },
   {
    "duration": 16,
    "start_time": "2025-01-25T18:04:20.834Z"
   },
   {
    "duration": 12,
    "start_time": "2025-01-25T18:04:20.852Z"
   },
   {
    "duration": 7,
    "start_time": "2025-01-25T18:04:20.866Z"
   },
   {
    "duration": 86,
    "start_time": "2025-01-25T18:04:20.875Z"
   },
   {
    "duration": 380,
    "start_time": "2025-01-25T18:04:20.963Z"
   },
   {
    "duration": 6,
    "start_time": "2025-01-25T18:04:21.345Z"
   },
   {
    "duration": 13,
    "start_time": "2025-01-25T18:04:21.353Z"
   },
   {
    "duration": 379,
    "start_time": "2025-01-25T18:04:21.367Z"
   },
   {
    "duration": 5,
    "start_time": "2025-01-25T18:04:21.748Z"
   },
   {
    "duration": 5,
    "start_time": "2025-01-25T18:04:21.754Z"
   },
   {
    "duration": 4,
    "start_time": "2025-01-25T18:04:21.760Z"
   },
   {
    "duration": 12,
    "start_time": "2025-01-25T18:04:21.766Z"
   },
   {
    "duration": 10,
    "start_time": "2025-01-25T18:04:21.780Z"
   },
   {
    "duration": 5,
    "start_time": "2025-01-25T18:04:21.792Z"
   },
   {
    "duration": 293,
    "start_time": "2025-01-25T18:04:21.799Z"
   },
   {
    "duration": 11,
    "start_time": "2025-01-25T18:04:22.097Z"
   },
   {
    "duration": 5,
    "start_time": "2025-01-25T18:04:22.109Z"
   },
   {
    "duration": 5,
    "start_time": "2025-01-25T18:04:22.115Z"
   },
   {
    "duration": 27,
    "start_time": "2025-01-25T18:04:22.121Z"
   },
   {
    "duration": 5,
    "start_time": "2025-01-25T18:04:22.150Z"
   },
   {
    "duration": 12,
    "start_time": "2025-01-25T18:04:22.157Z"
   },
   {
    "duration": 5,
    "start_time": "2025-01-25T18:04:22.170Z"
   },
   {
    "duration": 5,
    "start_time": "2025-01-25T18:04:22.176Z"
   },
   {
    "duration": 5,
    "start_time": "2025-01-25T18:04:22.183Z"
   },
   {
    "duration": 6,
    "start_time": "2025-01-25T18:04:22.189Z"
   },
   {
    "duration": 9,
    "start_time": "2025-01-25T18:12:50.462Z"
   },
   {
    "duration": 237,
    "start_time": "2025-01-25T18:14:10.501Z"
   },
   {
    "duration": 12,
    "start_time": "2025-01-25T18:14:34.446Z"
   },
   {
    "duration": 4,
    "start_time": "2025-01-25T18:21:08.730Z"
   },
   {
    "duration": 7,
    "start_time": "2025-01-25T18:21:59.348Z"
   },
   {
    "duration": 6,
    "start_time": "2025-01-25T18:22:27.321Z"
   },
   {
    "duration": 7,
    "start_time": "2025-01-25T18:22:33.847Z"
   },
   {
    "duration": 6,
    "start_time": "2025-01-25T18:23:31.135Z"
   },
   {
    "duration": 5,
    "start_time": "2025-01-25T18:24:14.706Z"
   },
   {
    "duration": 756,
    "start_time": "2025-01-25T18:39:24.516Z"
   },
   {
    "duration": 33,
    "start_time": "2025-01-25T18:39:25.275Z"
   },
   {
    "duration": 12,
    "start_time": "2025-01-25T18:39:25.309Z"
   },
   {
    "duration": 24,
    "start_time": "2025-01-25T18:39:25.323Z"
   },
   {
    "duration": 8,
    "start_time": "2025-01-25T18:39:25.348Z"
   },
   {
    "duration": 12,
    "start_time": "2025-01-25T18:39:25.357Z"
   },
   {
    "duration": 5,
    "start_time": "2025-01-25T18:39:25.371Z"
   },
   {
    "duration": 12,
    "start_time": "2025-01-25T18:39:25.377Z"
   },
   {
    "duration": 13,
    "start_time": "2025-01-25T18:39:25.392Z"
   },
   {
    "duration": 7,
    "start_time": "2025-01-25T18:39:25.442Z"
   },
   {
    "duration": 11,
    "start_time": "2025-01-25T18:39:25.450Z"
   },
   {
    "duration": 4,
    "start_time": "2025-01-25T18:39:25.463Z"
   },
   {
    "duration": 4,
    "start_time": "2025-01-25T18:39:25.468Z"
   },
   {
    "duration": 13,
    "start_time": "2025-01-25T18:39:25.473Z"
   },
   {
    "duration": 12,
    "start_time": "2025-01-25T18:39:25.487Z"
   },
   {
    "duration": 7,
    "start_time": "2025-01-25T18:39:25.501Z"
   },
   {
    "duration": 13,
    "start_time": "2025-01-25T18:39:25.542Z"
   },
   {
    "duration": 5,
    "start_time": "2025-01-25T18:39:25.557Z"
   },
   {
    "duration": 6,
    "start_time": "2025-01-25T18:39:25.563Z"
   },
   {
    "duration": 11,
    "start_time": "2025-01-25T18:39:25.570Z"
   },
   {
    "duration": 8,
    "start_time": "2025-01-25T18:39:25.582Z"
   },
   {
    "duration": 7,
    "start_time": "2025-01-25T18:39:25.591Z"
   },
   {
    "duration": 1136,
    "start_time": "2025-01-25T18:39:25.599Z"
   },
   {
    "duration": 13,
    "start_time": "2025-01-25T18:39:26.737Z"
   },
   {
    "duration": 12,
    "start_time": "2025-01-25T18:39:26.752Z"
   },
   {
    "duration": 8,
    "start_time": "2025-01-25T18:39:26.766Z"
   },
   {
    "duration": 8,
    "start_time": "2025-01-25T18:39:26.775Z"
   },
   {
    "duration": 7,
    "start_time": "2025-01-25T18:39:26.787Z"
   },
   {
    "duration": 341,
    "start_time": "2025-01-25T18:39:26.795Z"
   },
   {
    "duration": 6,
    "start_time": "2025-01-25T18:39:27.143Z"
   },
   {
    "duration": 12,
    "start_time": "2025-01-25T18:39:27.152Z"
   },
   {
    "duration": 386,
    "start_time": "2025-01-25T18:39:27.166Z"
   },
   {
    "duration": 4,
    "start_time": "2025-01-25T18:39:27.555Z"
   },
   {
    "duration": 4,
    "start_time": "2025-01-25T18:39:27.561Z"
   },
   {
    "duration": 5,
    "start_time": "2025-01-25T18:39:27.566Z"
   },
   {
    "duration": 12,
    "start_time": "2025-01-25T18:39:27.573Z"
   },
   {
    "duration": 10,
    "start_time": "2025-01-25T18:39:27.587Z"
   },
   {
    "duration": 5,
    "start_time": "2025-01-25T18:39:27.598Z"
   },
   {
    "duration": 286,
    "start_time": "2025-01-25T18:39:27.604Z"
   },
   {
    "duration": 12,
    "start_time": "2025-01-25T18:39:27.892Z"
   },
   {
    "duration": 4,
    "start_time": "2025-01-25T18:39:27.906Z"
   },
   {
    "duration": 5,
    "start_time": "2025-01-25T18:39:27.911Z"
   },
   {
    "duration": 29,
    "start_time": "2025-01-25T18:39:27.917Z"
   },
   {
    "duration": 6,
    "start_time": "2025-01-25T18:39:27.948Z"
   },
   {
    "duration": 11,
    "start_time": "2025-01-25T18:39:27.956Z"
   },
   {
    "duration": 5,
    "start_time": "2025-01-25T18:39:27.968Z"
   },
   {
    "duration": 5,
    "start_time": "2025-01-25T18:39:27.974Z"
   },
   {
    "duration": 4,
    "start_time": "2025-01-25T18:39:27.981Z"
   },
   {
    "duration": 5,
    "start_time": "2025-01-25T18:39:27.986Z"
   },
   {
    "duration": 51,
    "start_time": "2025-01-25T18:39:27.993Z"
   },
   {
    "duration": 4,
    "start_time": "2025-01-25T18:39:28.045Z"
   },
   {
    "duration": 5,
    "start_time": "2025-01-25T18:39:28.051Z"
   },
   {
    "duration": 5,
    "start_time": "2025-01-25T18:39:28.058Z"
   },
   {
    "duration": 4,
    "start_time": "2025-01-25T18:39:28.065Z"
   },
   {
    "duration": 783,
    "start_time": "2025-01-25T18:40:31.698Z"
   },
   {
    "duration": 32,
    "start_time": "2025-01-25T18:40:32.483Z"
   },
   {
    "duration": 11,
    "start_time": "2025-01-25T18:40:32.518Z"
   },
   {
    "duration": 10,
    "start_time": "2025-01-25T18:40:32.543Z"
   },
   {
    "duration": 6,
    "start_time": "2025-01-25T18:40:32.555Z"
   },
   {
    "duration": 12,
    "start_time": "2025-01-25T18:40:32.563Z"
   },
   {
    "duration": 4,
    "start_time": "2025-01-25T18:40:32.577Z"
   },
   {
    "duration": 11,
    "start_time": "2025-01-25T18:40:32.583Z"
   },
   {
    "duration": 13,
    "start_time": "2025-01-25T18:40:32.596Z"
   },
   {
    "duration": 7,
    "start_time": "2025-01-25T18:40:32.645Z"
   },
   {
    "duration": 13,
    "start_time": "2025-01-25T18:40:32.654Z"
   },
   {
    "duration": 6,
    "start_time": "2025-01-25T18:40:32.669Z"
   },
   {
    "duration": 5,
    "start_time": "2025-01-25T18:40:32.677Z"
   },
   {
    "duration": 12,
    "start_time": "2025-01-25T18:40:32.684Z"
   },
   {
    "duration": 13,
    "start_time": "2025-01-25T18:40:32.698Z"
   },
   {
    "duration": 8,
    "start_time": "2025-01-25T18:40:32.744Z"
   },
   {
    "duration": 14,
    "start_time": "2025-01-25T18:40:32.753Z"
   },
   {
    "duration": 5,
    "start_time": "2025-01-25T18:40:32.768Z"
   },
   {
    "duration": 6,
    "start_time": "2025-01-25T18:40:32.775Z"
   },
   {
    "duration": 10,
    "start_time": "2025-01-25T18:40:32.783Z"
   },
   {
    "duration": 7,
    "start_time": "2025-01-25T18:40:32.795Z"
   },
   {
    "duration": 46,
    "start_time": "2025-01-25T18:40:32.803Z"
   },
   {
    "duration": 1132,
    "start_time": "2025-01-25T18:40:32.851Z"
   },
   {
    "duration": 12,
    "start_time": "2025-01-25T18:40:33.986Z"
   },
   {
    "duration": 13,
    "start_time": "2025-01-25T18:40:34.000Z"
   },
   {
    "duration": 8,
    "start_time": "2025-01-25T18:40:34.015Z"
   },
   {
    "duration": 6,
    "start_time": "2025-01-25T18:40:34.025Z"
   },
   {
    "duration": 7,
    "start_time": "2025-01-25T18:40:34.046Z"
   },
   {
    "duration": 345,
    "start_time": "2025-01-25T18:40:34.055Z"
   },
   {
    "duration": 7,
    "start_time": "2025-01-25T18:40:34.402Z"
   },
   {
    "duration": 13,
    "start_time": "2025-01-25T18:40:34.410Z"
   },
   {
    "duration": 374,
    "start_time": "2025-01-25T18:40:34.425Z"
   },
   {
    "duration": 6,
    "start_time": "2025-01-25T18:40:34.801Z"
   },
   {
    "duration": 5,
    "start_time": "2025-01-25T18:40:34.809Z"
   },
   {
    "duration": 27,
    "start_time": "2025-01-25T18:40:34.816Z"
   },
   {
    "duration": 14,
    "start_time": "2025-01-25T18:40:34.845Z"
   },
   {
    "duration": 13,
    "start_time": "2025-01-25T18:40:34.863Z"
   },
   {
    "duration": 6,
    "start_time": "2025-01-25T18:40:34.878Z"
   },
   {
    "duration": 264,
    "start_time": "2025-01-25T18:40:34.886Z"
   },
   {
    "duration": 12,
    "start_time": "2025-01-25T18:40:35.152Z"
   },
   {
    "duration": 5,
    "start_time": "2025-01-25T18:40:35.165Z"
   },
   {
    "duration": 5,
    "start_time": "2025-01-25T18:40:35.174Z"
   },
   {
    "duration": 10,
    "start_time": "2025-01-25T18:40:35.181Z"
   },
   {
    "duration": 6,
    "start_time": "2025-01-25T18:40:35.193Z"
   },
   {
    "duration": 43,
    "start_time": "2025-01-25T18:40:35.201Z"
   },
   {
    "duration": 5,
    "start_time": "2025-01-25T18:40:35.245Z"
   },
   {
    "duration": 6,
    "start_time": "2025-01-25T18:40:35.252Z"
   },
   {
    "duration": 5,
    "start_time": "2025-01-25T18:40:35.260Z"
   },
   {
    "duration": 4,
    "start_time": "2025-01-25T18:40:35.267Z"
   },
   {
    "duration": 9,
    "start_time": "2025-01-25T18:40:35.273Z"
   },
   {
    "duration": 4,
    "start_time": "2025-01-25T18:40:35.283Z"
   },
   {
    "duration": 5,
    "start_time": "2025-01-25T18:40:35.289Z"
   },
   {
    "duration": 47,
    "start_time": "2025-01-25T18:40:35.295Z"
   },
   {
    "duration": 4,
    "start_time": "2025-01-25T18:40:35.344Z"
   },
   {
    "duration": 763,
    "start_time": "2025-01-25T18:42:09.303Z"
   },
   {
    "duration": 33,
    "start_time": "2025-01-25T18:42:10.068Z"
   },
   {
    "duration": 11,
    "start_time": "2025-01-25T18:42:10.103Z"
   },
   {
    "duration": 27,
    "start_time": "2025-01-25T18:42:10.116Z"
   },
   {
    "duration": 7,
    "start_time": "2025-01-25T18:42:10.145Z"
   },
   {
    "duration": 11,
    "start_time": "2025-01-25T18:42:10.154Z"
   },
   {
    "duration": 5,
    "start_time": "2025-01-25T18:42:10.167Z"
   },
   {
    "duration": 12,
    "start_time": "2025-01-25T18:42:10.173Z"
   },
   {
    "duration": 12,
    "start_time": "2025-01-25T18:42:10.187Z"
   },
   {
    "duration": 7,
    "start_time": "2025-01-25T18:42:10.202Z"
   },
   {
    "duration": 44,
    "start_time": "2025-01-25T18:42:10.210Z"
   },
   {
    "duration": 5,
    "start_time": "2025-01-25T18:42:10.256Z"
   },
   {
    "duration": 5,
    "start_time": "2025-01-25T18:42:10.263Z"
   },
   {
    "duration": 11,
    "start_time": "2025-01-25T18:42:10.269Z"
   },
   {
    "duration": 12,
    "start_time": "2025-01-25T18:42:10.282Z"
   },
   {
    "duration": 7,
    "start_time": "2025-01-25T18:42:10.297Z"
   },
   {
    "duration": 46,
    "start_time": "2025-01-25T18:42:10.306Z"
   },
   {
    "duration": 5,
    "start_time": "2025-01-25T18:42:10.354Z"
   },
   {
    "duration": 6,
    "start_time": "2025-01-25T18:42:10.361Z"
   },
   {
    "duration": 14,
    "start_time": "2025-01-25T18:42:10.368Z"
   },
   {
    "duration": 11,
    "start_time": "2025-01-25T18:42:10.384Z"
   },
   {
    "duration": 11,
    "start_time": "2025-01-25T18:42:10.397Z"
   },
   {
    "duration": 1125,
    "start_time": "2025-01-25T18:42:10.442Z"
   },
   {
    "duration": 13,
    "start_time": "2025-01-25T18:42:11.569Z"
   },
   {
    "duration": 12,
    "start_time": "2025-01-25T18:42:11.585Z"
   },
   {
    "duration": 9,
    "start_time": "2025-01-25T18:42:11.598Z"
   },
   {
    "duration": 6,
    "start_time": "2025-01-25T18:42:11.609Z"
   },
   {
    "duration": 23,
    "start_time": "2025-01-25T18:42:11.619Z"
   },
   {
    "duration": 323,
    "start_time": "2025-01-25T18:42:11.644Z"
   },
   {
    "duration": 7,
    "start_time": "2025-01-25T18:42:11.970Z"
   },
   {
    "duration": 13,
    "start_time": "2025-01-25T18:42:11.978Z"
   },
   {
    "duration": 400,
    "start_time": "2025-01-25T18:42:11.992Z"
   },
   {
    "duration": 4,
    "start_time": "2025-01-25T18:42:12.394Z"
   },
   {
    "duration": 4,
    "start_time": "2025-01-25T18:42:12.399Z"
   },
   {
    "duration": 4,
    "start_time": "2025-01-25T18:42:12.404Z"
   },
   {
    "duration": 33,
    "start_time": "2025-01-25T18:42:12.410Z"
   },
   {
    "duration": 11,
    "start_time": "2025-01-25T18:42:12.445Z"
   },
   {
    "duration": 7,
    "start_time": "2025-01-25T18:42:12.457Z"
   },
   {
    "duration": 234,
    "start_time": "2025-01-25T18:42:12.465Z"
   },
   {
    "duration": 11,
    "start_time": "2025-01-25T18:42:12.701Z"
   },
   {
    "duration": 5,
    "start_time": "2025-01-25T18:42:12.714Z"
   },
   {
    "duration": 26,
    "start_time": "2025-01-25T18:42:12.720Z"
   },
   {
    "duration": 5,
    "start_time": "2025-01-25T18:42:12.747Z"
   },
   {
    "duration": 5,
    "start_time": "2025-01-25T18:42:12.753Z"
   },
   {
    "duration": 10,
    "start_time": "2025-01-25T18:42:12.760Z"
   },
   {
    "duration": 5,
    "start_time": "2025-01-25T18:42:12.771Z"
   },
   {
    "duration": 5,
    "start_time": "2025-01-25T18:42:12.777Z"
   },
   {
    "duration": 4,
    "start_time": "2025-01-25T18:42:12.784Z"
   },
   {
    "duration": 5,
    "start_time": "2025-01-25T18:42:12.790Z"
   },
   {
    "duration": 52,
    "start_time": "2025-01-25T18:42:12.796Z"
   },
   {
    "duration": 4,
    "start_time": "2025-01-25T18:42:12.850Z"
   },
   {
    "duration": 5,
    "start_time": "2025-01-25T18:42:12.856Z"
   },
   {
    "duration": 6,
    "start_time": "2025-01-25T18:42:12.863Z"
   },
   {
    "duration": 5,
    "start_time": "2025-01-25T18:42:12.871Z"
   },
   {
    "duration": 612,
    "start_time": "2025-01-25T18:54:26.673Z"
   },
   {
    "duration": 6,
    "start_time": "2025-01-25T18:54:43.163Z"
   },
   {
    "duration": 6,
    "start_time": "2025-01-25T18:55:08.776Z"
   },
   {
    "duration": 6,
    "start_time": "2025-01-25T18:55:29.351Z"
   },
   {
    "duration": 7,
    "start_time": "2025-01-25T19:01:16.364Z"
   },
   {
    "duration": 17,
    "start_time": "2025-01-25T19:01:32.112Z"
   },
   {
    "duration": 6,
    "start_time": "2025-01-25T19:01:51.967Z"
   },
   {
    "duration": 797,
    "start_time": "2025-01-25T19:02:35.558Z"
   },
   {
    "duration": 33,
    "start_time": "2025-01-25T19:02:36.357Z"
   },
   {
    "duration": 11,
    "start_time": "2025-01-25T19:02:36.392Z"
   },
   {
    "duration": 10,
    "start_time": "2025-01-25T19:02:36.405Z"
   },
   {
    "duration": 27,
    "start_time": "2025-01-25T19:02:36.416Z"
   },
   {
    "duration": 12,
    "start_time": "2025-01-25T19:02:36.444Z"
   },
   {
    "duration": 5,
    "start_time": "2025-01-25T19:02:36.457Z"
   },
   {
    "duration": 12,
    "start_time": "2025-01-25T19:02:36.463Z"
   },
   {
    "duration": 12,
    "start_time": "2025-01-25T19:02:36.476Z"
   },
   {
    "duration": 6,
    "start_time": "2025-01-25T19:02:36.491Z"
   },
   {
    "duration": 45,
    "start_time": "2025-01-25T19:02:36.499Z"
   },
   {
    "duration": 4,
    "start_time": "2025-01-25T19:02:36.546Z"
   },
   {
    "duration": 4,
    "start_time": "2025-01-25T19:02:36.551Z"
   },
   {
    "duration": 12,
    "start_time": "2025-01-25T19:02:36.557Z"
   },
   {
    "duration": 13,
    "start_time": "2025-01-25T19:02:36.570Z"
   },
   {
    "duration": 6,
    "start_time": "2025-01-25T19:02:36.585Z"
   },
   {
    "duration": 13,
    "start_time": "2025-01-25T19:02:36.593Z"
   },
   {
    "duration": 39,
    "start_time": "2025-01-25T19:02:36.607Z"
   },
   {
    "duration": 6,
    "start_time": "2025-01-25T19:02:36.647Z"
   },
   {
    "duration": 11,
    "start_time": "2025-01-25T19:02:36.654Z"
   },
   {
    "duration": 7,
    "start_time": "2025-01-25T19:02:36.666Z"
   },
   {
    "duration": 7,
    "start_time": "2025-01-25T19:02:36.675Z"
   },
   {
    "duration": 1128,
    "start_time": "2025-01-25T19:02:36.683Z"
   },
   {
    "duration": 13,
    "start_time": "2025-01-25T19:02:37.813Z"
   },
   {
    "duration": 13,
    "start_time": "2025-01-25T19:02:37.827Z"
   },
   {
    "duration": 9,
    "start_time": "2025-01-25T19:02:37.843Z"
   },
   {
    "duration": 6,
    "start_time": "2025-01-25T19:02:37.853Z"
   },
   {
    "duration": 8,
    "start_time": "2025-01-25T19:02:37.864Z"
   },
   {
    "duration": 371,
    "start_time": "2025-01-25T19:02:37.874Z"
   },
   {
    "duration": 6,
    "start_time": "2025-01-25T19:02:38.247Z"
   },
   {
    "duration": 15,
    "start_time": "2025-01-25T19:02:38.255Z"
   },
   {
    "duration": 391,
    "start_time": "2025-01-25T19:02:38.272Z"
   },
   {
    "duration": 4,
    "start_time": "2025-01-25T19:02:38.665Z"
   },
   {
    "duration": 4,
    "start_time": "2025-01-25T19:02:38.671Z"
   },
   {
    "duration": 4,
    "start_time": "2025-01-25T19:02:38.676Z"
   },
   {
    "duration": 12,
    "start_time": "2025-01-25T19:02:38.681Z"
   },
   {
    "duration": 11,
    "start_time": "2025-01-25T19:02:38.695Z"
   },
   {
    "duration": 39,
    "start_time": "2025-01-25T19:02:38.707Z"
   },
   {
    "duration": 250,
    "start_time": "2025-01-25T19:02:38.747Z"
   },
   {
    "duration": 11,
    "start_time": "2025-01-25T19:02:39.001Z"
   },
   {
    "duration": 5,
    "start_time": "2025-01-25T19:02:39.014Z"
   },
   {
    "duration": 23,
    "start_time": "2025-01-25T19:02:39.020Z"
   },
   {
    "duration": 4,
    "start_time": "2025-01-25T19:02:39.045Z"
   },
   {
    "duration": 4,
    "start_time": "2025-01-25T19:02:39.051Z"
   },
   {
    "duration": 11,
    "start_time": "2025-01-25T19:02:39.057Z"
   },
   {
    "duration": 4,
    "start_time": "2025-01-25T19:02:39.069Z"
   },
   {
    "duration": 5,
    "start_time": "2025-01-25T19:02:39.075Z"
   },
   {
    "duration": 5,
    "start_time": "2025-01-25T19:02:39.082Z"
   },
   {
    "duration": 5,
    "start_time": "2025-01-25T19:02:39.089Z"
   },
   {
    "duration": 50,
    "start_time": "2025-01-25T19:02:39.096Z"
   },
   {
    "duration": 4,
    "start_time": "2025-01-25T19:02:39.148Z"
   },
   {
    "duration": 6,
    "start_time": "2025-01-25T19:02:39.154Z"
   },
   {
    "duration": 4,
    "start_time": "2025-01-25T19:02:39.161Z"
   },
   {
    "duration": 4,
    "start_time": "2025-01-25T19:02:39.167Z"
   },
   {
    "duration": 6,
    "start_time": "2025-01-25T19:02:39.172Z"
   },
   {
    "duration": 6,
    "start_time": "2025-01-25T19:09:18.788Z"
   },
   {
    "duration": 7,
    "start_time": "2025-01-25T19:10:51.620Z"
   },
   {
    "duration": 821,
    "start_time": "2025-01-25T19:16:43.334Z"
   },
   {
    "duration": 34,
    "start_time": "2025-01-25T19:16:44.158Z"
   },
   {
    "duration": 11,
    "start_time": "2025-01-25T19:16:44.196Z"
   },
   {
    "duration": 11,
    "start_time": "2025-01-25T19:16:44.209Z"
   },
   {
    "duration": 8,
    "start_time": "2025-01-25T19:16:44.242Z"
   },
   {
    "duration": 11,
    "start_time": "2025-01-25T19:16:44.251Z"
   },
   {
    "duration": 4,
    "start_time": "2025-01-25T19:16:44.265Z"
   },
   {
    "duration": 11,
    "start_time": "2025-01-25T19:16:44.271Z"
   },
   {
    "duration": 12,
    "start_time": "2025-01-25T19:16:44.284Z"
   },
   {
    "duration": 7,
    "start_time": "2025-01-25T19:16:44.298Z"
   },
   {
    "duration": 44,
    "start_time": "2025-01-25T19:16:44.307Z"
   },
   {
    "duration": 4,
    "start_time": "2025-01-25T19:16:44.353Z"
   },
   {
    "duration": 3,
    "start_time": "2025-01-25T19:16:44.361Z"
   },
   {
    "duration": 12,
    "start_time": "2025-01-25T19:16:44.366Z"
   },
   {
    "duration": 13,
    "start_time": "2025-01-25T19:16:44.379Z"
   },
   {
    "duration": 7,
    "start_time": "2025-01-25T19:16:44.393Z"
   },
   {
    "duration": 50,
    "start_time": "2025-01-25T19:16:44.402Z"
   },
   {
    "duration": 6,
    "start_time": "2025-01-25T19:16:44.455Z"
   },
   {
    "duration": 6,
    "start_time": "2025-01-25T19:16:44.462Z"
   },
   {
    "duration": 11,
    "start_time": "2025-01-25T19:16:44.469Z"
   },
   {
    "duration": 7,
    "start_time": "2025-01-25T19:16:44.481Z"
   },
   {
    "duration": 8,
    "start_time": "2025-01-25T19:16:44.489Z"
   },
   {
    "duration": 1153,
    "start_time": "2025-01-25T19:16:44.498Z"
   },
   {
    "duration": 13,
    "start_time": "2025-01-25T19:16:45.653Z"
   },
   {
    "duration": 12,
    "start_time": "2025-01-25T19:16:45.668Z"
   },
   {
    "duration": 9,
    "start_time": "2025-01-25T19:16:45.681Z"
   },
   {
    "duration": 6,
    "start_time": "2025-01-25T19:16:45.692Z"
   },
   {
    "duration": 7,
    "start_time": "2025-01-25T19:16:45.700Z"
   },
   {
    "duration": 340,
    "start_time": "2025-01-25T19:16:45.709Z"
   },
   {
    "duration": 6,
    "start_time": "2025-01-25T19:16:46.052Z"
   },
   {
    "duration": 14,
    "start_time": "2025-01-25T19:16:46.059Z"
   },
   {
    "duration": 417,
    "start_time": "2025-01-25T19:16:46.075Z"
   },
   {
    "duration": 5,
    "start_time": "2025-01-25T19:16:46.494Z"
   },
   {
    "duration": 4,
    "start_time": "2025-01-25T19:16:46.500Z"
   },
   {
    "duration": 4,
    "start_time": "2025-01-25T19:16:46.506Z"
   },
   {
    "duration": 37,
    "start_time": "2025-01-25T19:16:46.512Z"
   },
   {
    "duration": 11,
    "start_time": "2025-01-25T19:16:46.551Z"
   },
   {
    "duration": 6,
    "start_time": "2025-01-25T19:16:46.563Z"
   },
   {
    "duration": 246,
    "start_time": "2025-01-25T19:16:46.570Z"
   },
   {
    "duration": 24,
    "start_time": "2025-01-25T19:16:46.820Z"
   },
   {
    "duration": 4,
    "start_time": "2025-01-25T19:16:46.845Z"
   },
   {
    "duration": 7,
    "start_time": "2025-01-25T19:16:46.852Z"
   },
   {
    "duration": 4,
    "start_time": "2025-01-25T19:16:46.861Z"
   },
   {
    "duration": 4,
    "start_time": "2025-01-25T19:16:46.867Z"
   },
   {
    "duration": 10,
    "start_time": "2025-01-25T19:16:46.873Z"
   },
   {
    "duration": 4,
    "start_time": "2025-01-25T19:16:46.885Z"
   },
   {
    "duration": 5,
    "start_time": "2025-01-25T19:16:46.890Z"
   },
   {
    "duration": 5,
    "start_time": "2025-01-25T19:16:46.896Z"
   },
   {
    "duration": 7,
    "start_time": "2025-01-25T19:16:46.942Z"
   },
   {
    "duration": 10,
    "start_time": "2025-01-25T19:16:46.950Z"
   },
   {
    "duration": 5,
    "start_time": "2025-01-25T19:16:46.961Z"
   },
   {
    "duration": 4,
    "start_time": "2025-01-25T19:16:46.968Z"
   },
   {
    "duration": 5,
    "start_time": "2025-01-25T19:16:46.973Z"
   },
   {
    "duration": 4,
    "start_time": "2025-01-25T19:16:46.979Z"
   },
   {
    "duration": 7,
    "start_time": "2025-01-25T19:16:46.985Z"
   },
   {
    "duration": 6,
    "start_time": "2025-01-25T19:16:46.995Z"
   },
   {
    "duration": 764,
    "start_time": "2025-01-25T19:41:31.112Z"
   },
   {
    "duration": 35,
    "start_time": "2025-01-25T19:41:31.879Z"
   },
   {
    "duration": 11,
    "start_time": "2025-01-25T19:41:31.916Z"
   },
   {
    "duration": 23,
    "start_time": "2025-01-25T19:41:31.929Z"
   },
   {
    "duration": 8,
    "start_time": "2025-01-25T19:41:31.954Z"
   },
   {
    "duration": 17,
    "start_time": "2025-01-25T19:41:31.964Z"
   },
   {
    "duration": 6,
    "start_time": "2025-01-25T19:41:31.983Z"
   },
   {
    "duration": 11,
    "start_time": "2025-01-25T19:41:31.991Z"
   },
   {
    "duration": 41,
    "start_time": "2025-01-25T19:41:32.004Z"
   },
   {
    "duration": 6,
    "start_time": "2025-01-25T19:41:32.047Z"
   },
   {
    "duration": 12,
    "start_time": "2025-01-25T19:41:32.055Z"
   },
   {
    "duration": 4,
    "start_time": "2025-01-25T19:41:32.068Z"
   },
   {
    "duration": 4,
    "start_time": "2025-01-25T19:41:32.074Z"
   },
   {
    "duration": 11,
    "start_time": "2025-01-25T19:41:32.082Z"
   },
   {
    "duration": 11,
    "start_time": "2025-01-25T19:41:32.095Z"
   },
   {
    "duration": 40,
    "start_time": "2025-01-25T19:41:32.108Z"
   },
   {
    "duration": 13,
    "start_time": "2025-01-25T19:41:32.149Z"
   },
   {
    "duration": 6,
    "start_time": "2025-01-25T19:41:32.164Z"
   },
   {
    "duration": 6,
    "start_time": "2025-01-25T19:41:32.172Z"
   },
   {
    "duration": 10,
    "start_time": "2025-01-25T19:41:32.179Z"
   },
   {
    "duration": 7,
    "start_time": "2025-01-25T19:41:32.191Z"
   },
   {
    "duration": 6,
    "start_time": "2025-01-25T19:41:32.199Z"
   },
   {
    "duration": 1112,
    "start_time": "2025-01-25T19:41:32.243Z"
   },
   {
    "duration": 13,
    "start_time": "2025-01-25T19:41:33.357Z"
   },
   {
    "duration": 12,
    "start_time": "2025-01-25T19:41:33.371Z"
   },
   {
    "duration": 9,
    "start_time": "2025-01-25T19:41:33.385Z"
   },
   {
    "duration": 6,
    "start_time": "2025-01-25T19:41:33.396Z"
   },
   {
    "duration": 6,
    "start_time": "2025-01-25T19:41:33.404Z"
   },
   {
    "duration": 337,
    "start_time": "2025-01-25T19:41:33.412Z"
   },
   {
    "duration": 6,
    "start_time": "2025-01-25T19:41:33.751Z"
   },
   {
    "duration": 13,
    "start_time": "2025-01-25T19:41:33.759Z"
   },
   {
    "duration": 395,
    "start_time": "2025-01-25T19:41:33.773Z"
   },
   {
    "duration": 5,
    "start_time": "2025-01-25T19:41:34.170Z"
   },
   {
    "duration": 4,
    "start_time": "2025-01-25T19:41:34.176Z"
   },
   {
    "duration": 4,
    "start_time": "2025-01-25T19:41:34.181Z"
   },
   {
    "duration": 12,
    "start_time": "2025-01-25T19:41:34.187Z"
   },
   {
    "duration": 11,
    "start_time": "2025-01-25T19:41:34.200Z"
   },
   {
    "duration": 5,
    "start_time": "2025-01-25T19:41:34.243Z"
   },
   {
    "duration": 246,
    "start_time": "2025-01-25T19:41:34.249Z"
   },
   {
    "duration": 11,
    "start_time": "2025-01-25T19:41:34.497Z"
   },
   {
    "duration": 4,
    "start_time": "2025-01-25T19:41:34.513Z"
   },
   {
    "duration": 25,
    "start_time": "2025-01-25T19:41:34.519Z"
   },
   {
    "duration": 5,
    "start_time": "2025-01-25T19:41:34.545Z"
   },
   {
    "duration": 4,
    "start_time": "2025-01-25T19:41:34.552Z"
   },
   {
    "duration": 11,
    "start_time": "2025-01-25T19:41:34.558Z"
   },
   {
    "duration": 5,
    "start_time": "2025-01-25T19:41:34.570Z"
   },
   {
    "duration": 6,
    "start_time": "2025-01-25T19:41:34.577Z"
   },
   {
    "duration": 6,
    "start_time": "2025-01-25T19:41:34.584Z"
   },
   {
    "duration": 5,
    "start_time": "2025-01-25T19:41:34.591Z"
   },
   {
    "duration": 54,
    "start_time": "2025-01-25T19:41:34.597Z"
   },
   {
    "duration": 4,
    "start_time": "2025-01-25T19:41:34.653Z"
   },
   {
    "duration": 5,
    "start_time": "2025-01-25T19:41:34.658Z"
   },
   {
    "duration": 4,
    "start_time": "2025-01-25T19:41:34.665Z"
   },
   {
    "duration": 5,
    "start_time": "2025-01-25T19:41:34.671Z"
   },
   {
    "duration": 7,
    "start_time": "2025-01-25T19:41:34.677Z"
   },
   {
    "duration": 6,
    "start_time": "2025-01-25T19:41:34.686Z"
   },
   {
    "duration": 837,
    "start_time": "2025-01-25T19:49:19.837Z"
   },
   {
    "duration": 34,
    "start_time": "2025-01-25T19:49:20.676Z"
   },
   {
    "duration": 12,
    "start_time": "2025-01-25T19:49:20.712Z"
   },
   {
    "duration": 30,
    "start_time": "2025-01-25T19:49:20.725Z"
   },
   {
    "duration": 9,
    "start_time": "2025-01-25T19:49:20.757Z"
   },
   {
    "duration": 12,
    "start_time": "2025-01-25T19:49:20.767Z"
   },
   {
    "duration": 4,
    "start_time": "2025-01-25T19:49:20.781Z"
   },
   {
    "duration": 12,
    "start_time": "2025-01-25T19:49:20.786Z"
   },
   {
    "duration": 45,
    "start_time": "2025-01-25T19:49:20.799Z"
   },
   {
    "duration": 9,
    "start_time": "2025-01-25T19:49:20.846Z"
   },
   {
    "duration": 14,
    "start_time": "2025-01-25T19:49:20.857Z"
   },
   {
    "duration": 4,
    "start_time": "2025-01-25T19:49:20.872Z"
   },
   {
    "duration": 5,
    "start_time": "2025-01-25T19:49:20.877Z"
   },
   {
    "duration": 11,
    "start_time": "2025-01-25T19:49:20.886Z"
   },
   {
    "duration": 43,
    "start_time": "2025-01-25T19:49:20.900Z"
   },
   {
    "duration": 10,
    "start_time": "2025-01-25T19:49:20.945Z"
   },
   {
    "duration": 14,
    "start_time": "2025-01-25T19:49:20.956Z"
   },
   {
    "duration": 4,
    "start_time": "2025-01-25T19:49:20.972Z"
   },
   {
    "duration": 5,
    "start_time": "2025-01-25T19:49:20.978Z"
   },
   {
    "duration": 9,
    "start_time": "2025-01-25T19:49:20.985Z"
   },
   {
    "duration": 7,
    "start_time": "2025-01-25T19:49:20.995Z"
   },
   {
    "duration": 45,
    "start_time": "2025-01-25T19:49:21.004Z"
   },
   {
    "duration": 1091,
    "start_time": "2025-01-25T19:49:21.052Z"
   },
   {
    "duration": 12,
    "start_time": "2025-01-25T19:49:22.145Z"
   },
   {
    "duration": 12,
    "start_time": "2025-01-25T19:49:22.159Z"
   },
   {
    "duration": 8,
    "start_time": "2025-01-25T19:49:22.173Z"
   },
   {
    "duration": 6,
    "start_time": "2025-01-25T19:49:22.183Z"
   },
   {
    "duration": 7,
    "start_time": "2025-01-25T19:49:22.190Z"
   },
   {
    "duration": 355,
    "start_time": "2025-01-25T19:49:22.198Z"
   },
   {
    "duration": 9,
    "start_time": "2025-01-25T19:49:22.556Z"
   },
   {
    "duration": 22,
    "start_time": "2025-01-25T19:49:22.567Z"
   },
   {
    "duration": 407,
    "start_time": "2025-01-25T19:49:22.592Z"
   },
   {
    "duration": 5,
    "start_time": "2025-01-25T19:49:23.001Z"
   },
   {
    "duration": 6,
    "start_time": "2025-01-25T19:49:23.007Z"
   },
   {
    "duration": 5,
    "start_time": "2025-01-25T19:49:23.014Z"
   },
   {
    "duration": 32,
    "start_time": "2025-01-25T19:49:23.020Z"
   },
   {
    "duration": 11,
    "start_time": "2025-01-25T19:49:23.053Z"
   },
   {
    "duration": 6,
    "start_time": "2025-01-25T19:49:23.066Z"
   },
   {
    "duration": 235,
    "start_time": "2025-01-25T19:49:23.074Z"
   },
   {
    "duration": 39,
    "start_time": "2025-01-25T19:49:23.311Z"
   },
   {
    "duration": 4,
    "start_time": "2025-01-25T19:49:23.355Z"
   },
   {
    "duration": 5,
    "start_time": "2025-01-25T19:49:23.361Z"
   },
   {
    "duration": 5,
    "start_time": "2025-01-25T19:49:23.367Z"
   },
   {
    "duration": 5,
    "start_time": "2025-01-25T19:49:23.373Z"
   },
   {
    "duration": 9,
    "start_time": "2025-01-25T19:49:23.379Z"
   },
   {
    "duration": 4,
    "start_time": "2025-01-25T19:49:23.390Z"
   },
   {
    "duration": 48,
    "start_time": "2025-01-25T19:49:23.396Z"
   },
   {
    "duration": 5,
    "start_time": "2025-01-25T19:49:23.446Z"
   },
   {
    "duration": 5,
    "start_time": "2025-01-25T19:49:23.452Z"
   },
   {
    "duration": 10,
    "start_time": "2025-01-25T19:49:23.459Z"
   },
   {
    "duration": 5,
    "start_time": "2025-01-25T19:49:23.470Z"
   },
   {
    "duration": 5,
    "start_time": "2025-01-25T19:49:23.476Z"
   },
   {
    "duration": 4,
    "start_time": "2025-01-25T19:49:23.483Z"
   },
   {
    "duration": 4,
    "start_time": "2025-01-25T19:49:23.489Z"
   },
   {
    "duration": 48,
    "start_time": "2025-01-25T19:49:23.495Z"
   },
   {
    "duration": 7,
    "start_time": "2025-01-25T19:49:23.544Z"
   },
   {
    "duration": 2662,
    "start_time": "2025-01-25T20:34:46.657Z"
   },
   {
    "duration": 45,
    "start_time": "2025-01-25T20:34:49.321Z"
   },
   {
    "duration": 14,
    "start_time": "2025-01-25T20:34:49.367Z"
   },
   {
    "duration": 10,
    "start_time": "2025-01-25T20:34:49.383Z"
   },
   {
    "duration": 8,
    "start_time": "2025-01-25T20:34:49.396Z"
   },
   {
    "duration": 28,
    "start_time": "2025-01-25T20:34:49.406Z"
   },
   {
    "duration": 5,
    "start_time": "2025-01-25T20:34:49.436Z"
   },
   {
    "duration": 12,
    "start_time": "2025-01-25T20:34:49.443Z"
   },
   {
    "duration": 12,
    "start_time": "2025-01-25T20:34:49.457Z"
   },
   {
    "duration": 7,
    "start_time": "2025-01-25T20:34:49.471Z"
   },
   {
    "duration": 11,
    "start_time": "2025-01-25T20:34:49.480Z"
   },
   {
    "duration": 4,
    "start_time": "2025-01-25T20:34:49.492Z"
   },
   {
    "duration": 4,
    "start_time": "2025-01-25T20:34:49.532Z"
   },
   {
    "duration": 12,
    "start_time": "2025-01-25T20:34:49.540Z"
   },
   {
    "duration": 11,
    "start_time": "2025-01-25T20:34:49.554Z"
   },
   {
    "duration": 7,
    "start_time": "2025-01-25T20:34:49.568Z"
   },
   {
    "duration": 14,
    "start_time": "2025-01-25T20:34:49.577Z"
   },
   {
    "duration": 43,
    "start_time": "2025-01-25T20:34:49.593Z"
   },
   {
    "duration": 6,
    "start_time": "2025-01-25T20:34:49.638Z"
   },
   {
    "duration": 10,
    "start_time": "2025-01-25T20:34:49.646Z"
   },
   {
    "duration": 8,
    "start_time": "2025-01-25T20:34:49.657Z"
   },
   {
    "duration": 7,
    "start_time": "2025-01-25T20:34:49.666Z"
   },
   {
    "duration": 1157,
    "start_time": "2025-01-25T20:34:49.675Z"
   },
   {
    "duration": 16,
    "start_time": "2025-01-25T20:34:50.834Z"
   },
   {
    "duration": 16,
    "start_time": "2025-01-25T20:34:50.852Z"
   },
   {
    "duration": 10,
    "start_time": "2025-01-25T20:34:50.871Z"
   },
   {
    "duration": 8,
    "start_time": "2025-01-25T20:34:50.884Z"
   },
   {
    "duration": 8,
    "start_time": "2025-01-25T20:34:50.894Z"
   },
   {
    "duration": 360,
    "start_time": "2025-01-25T20:34:50.932Z"
   },
   {
    "duration": 6,
    "start_time": "2025-01-25T20:34:51.293Z"
   },
   {
    "duration": 12,
    "start_time": "2025-01-25T20:34:51.301Z"
   },
   {
    "duration": 367,
    "start_time": "2025-01-25T20:34:51.315Z"
   },
   {
    "duration": 4,
    "start_time": "2025-01-25T20:34:51.684Z"
   },
   {
    "duration": 5,
    "start_time": "2025-01-25T20:34:51.690Z"
   },
   {
    "duration": 4,
    "start_time": "2025-01-25T20:34:51.697Z"
   },
   {
    "duration": 37,
    "start_time": "2025-01-25T20:34:51.703Z"
   },
   {
    "duration": 12,
    "start_time": "2025-01-25T20:34:51.743Z"
   },
   {
    "duration": 7,
    "start_time": "2025-01-25T20:34:51.757Z"
   },
   {
    "duration": 279,
    "start_time": "2025-01-25T20:34:51.766Z"
   },
   {
    "duration": 11,
    "start_time": "2025-01-25T20:34:52.047Z"
   },
   {
    "duration": 5,
    "start_time": "2025-01-25T20:34:52.063Z"
   },
   {
    "duration": 4,
    "start_time": "2025-01-25T20:34:52.070Z"
   },
   {
    "duration": 5,
    "start_time": "2025-01-25T20:34:52.076Z"
   },
   {
    "duration": 5,
    "start_time": "2025-01-25T20:34:52.083Z"
   },
   {
    "duration": 44,
    "start_time": "2025-01-25T20:34:52.090Z"
   },
   {
    "duration": 5,
    "start_time": "2025-01-25T20:34:52.136Z"
   },
   {
    "duration": 5,
    "start_time": "2025-01-25T20:34:52.142Z"
   },
   {
    "duration": 5,
    "start_time": "2025-01-25T20:34:52.149Z"
   },
   {
    "duration": 5,
    "start_time": "2025-01-25T20:34:52.155Z"
   },
   {
    "duration": 10,
    "start_time": "2025-01-25T20:34:52.162Z"
   },
   {
    "duration": 5,
    "start_time": "2025-01-25T20:34:52.174Z"
   },
   {
    "duration": 5,
    "start_time": "2025-01-25T20:34:52.181Z"
   },
   {
    "duration": 45,
    "start_time": "2025-01-25T20:34:52.188Z"
   },
   {
    "duration": 4,
    "start_time": "2025-01-25T20:34:52.236Z"
   },
   {
    "duration": 7,
    "start_time": "2025-01-25T20:34:52.242Z"
   },
   {
    "duration": 6,
    "start_time": "2025-01-25T20:34:52.250Z"
   },
   {
    "duration": 817,
    "start_time": "2025-01-25T20:57:26.969Z"
   },
   {
    "duration": 43,
    "start_time": "2025-01-25T20:57:27.788Z"
   },
   {
    "duration": 15,
    "start_time": "2025-01-25T20:57:27.833Z"
   },
   {
    "duration": 12,
    "start_time": "2025-01-25T20:57:27.851Z"
   },
   {
    "duration": 7,
    "start_time": "2025-01-25T20:57:27.864Z"
   },
   {
    "duration": 12,
    "start_time": "2025-01-25T20:57:27.873Z"
   },
   {
    "duration": 5,
    "start_time": "2025-01-25T20:57:27.887Z"
   },
   {
    "duration": 52,
    "start_time": "2025-01-25T20:57:27.894Z"
   },
   {
    "duration": 14,
    "start_time": "2025-01-25T20:57:27.948Z"
   },
   {
    "duration": 8,
    "start_time": "2025-01-25T20:57:27.966Z"
   },
   {
    "duration": 13,
    "start_time": "2025-01-25T20:57:27.975Z"
   },
   {
    "duration": 4,
    "start_time": "2025-01-25T20:57:27.990Z"
   },
   {
    "duration": 37,
    "start_time": "2025-01-25T20:57:27.996Z"
   },
   {
    "duration": 15,
    "start_time": "2025-01-25T20:57:28.035Z"
   },
   {
    "duration": 13,
    "start_time": "2025-01-25T20:57:28.052Z"
   },
   {
    "duration": 7,
    "start_time": "2025-01-25T20:57:28.067Z"
   },
   {
    "duration": 14,
    "start_time": "2025-01-25T20:57:28.076Z"
   },
   {
    "duration": 6,
    "start_time": "2025-01-25T20:57:28.091Z"
   },
   {
    "duration": 11,
    "start_time": "2025-01-25T20:57:28.132Z"
   },
   {
    "duration": 11,
    "start_time": "2025-01-25T20:57:28.144Z"
   },
   {
    "duration": 7,
    "start_time": "2025-01-25T20:57:28.156Z"
   },
   {
    "duration": 8,
    "start_time": "2025-01-25T20:57:28.165Z"
   },
   {
    "duration": 1197,
    "start_time": "2025-01-25T20:57:28.175Z"
   },
   {
    "duration": 13,
    "start_time": "2025-01-25T20:57:29.374Z"
   },
   {
    "duration": 13,
    "start_time": "2025-01-25T20:57:29.389Z"
   },
   {
    "duration": 10,
    "start_time": "2025-01-25T20:57:29.404Z"
   },
   {
    "duration": 19,
    "start_time": "2025-01-25T20:57:29.418Z"
   },
   {
    "duration": 7,
    "start_time": "2025-01-25T20:57:29.442Z"
   },
   {
    "duration": 373,
    "start_time": "2025-01-25T20:57:29.451Z"
   },
   {
    "duration": 7,
    "start_time": "2025-01-25T20:57:29.831Z"
   },
   {
    "duration": 15,
    "start_time": "2025-01-25T20:57:29.840Z"
   },
   {
    "duration": 408,
    "start_time": "2025-01-25T20:57:29.857Z"
   },
   {
    "duration": 4,
    "start_time": "2025-01-25T20:57:30.267Z"
   },
   {
    "duration": 4,
    "start_time": "2025-01-25T20:57:30.273Z"
   },
   {
    "duration": 4,
    "start_time": "2025-01-25T20:57:30.279Z"
   },
   {
    "duration": 12,
    "start_time": "2025-01-25T20:57:30.285Z"
   },
   {
    "duration": 44,
    "start_time": "2025-01-25T20:57:30.298Z"
   },
   {
    "duration": 6,
    "start_time": "2025-01-25T20:57:30.343Z"
   },
   {
    "duration": 240,
    "start_time": "2025-01-25T20:57:30.350Z"
   },
   {
    "duration": 12,
    "start_time": "2025-01-25T20:57:30.592Z"
   },
   {
    "duration": 5,
    "start_time": "2025-01-25T20:57:30.606Z"
   },
   {
    "duration": 5,
    "start_time": "2025-01-25T20:57:30.632Z"
   },
   {
    "duration": 4,
    "start_time": "2025-01-25T20:57:30.639Z"
   },
   {
    "duration": 5,
    "start_time": "2025-01-25T20:57:30.645Z"
   },
   {
    "duration": 11,
    "start_time": "2025-01-25T20:57:30.652Z"
   },
   {
    "duration": 4,
    "start_time": "2025-01-25T20:57:30.665Z"
   },
   {
    "duration": 6,
    "start_time": "2025-01-25T20:57:30.671Z"
   },
   {
    "duration": 5,
    "start_time": "2025-01-25T20:57:30.679Z"
   },
   {
    "duration": 46,
    "start_time": "2025-01-25T20:57:30.686Z"
   },
   {
    "duration": 10,
    "start_time": "2025-01-25T20:57:30.734Z"
   },
   {
    "duration": 4,
    "start_time": "2025-01-25T20:57:30.746Z"
   },
   {
    "duration": 6,
    "start_time": "2025-01-25T20:57:30.752Z"
   },
   {
    "duration": 5,
    "start_time": "2025-01-25T20:57:30.760Z"
   },
   {
    "duration": 4,
    "start_time": "2025-01-25T20:57:30.767Z"
   },
   {
    "duration": 7,
    "start_time": "2025-01-25T20:57:30.774Z"
   },
   {
    "duration": 6,
    "start_time": "2025-01-25T20:57:30.783Z"
   },
   {
    "duration": 4,
    "start_time": "2025-01-25T21:00:23.388Z"
   },
   {
    "duration": 4,
    "start_time": "2025-01-25T21:09:43.470Z"
   },
   {
    "duration": 841,
    "start_time": "2025-01-25T21:09:54.697Z"
   },
   {
    "duration": 35,
    "start_time": "2025-01-25T21:09:55.540Z"
   },
   {
    "duration": 13,
    "start_time": "2025-01-25T21:09:55.577Z"
   },
   {
    "duration": 11,
    "start_time": "2025-01-25T21:09:55.593Z"
   },
   {
    "duration": 32,
    "start_time": "2025-01-25T21:09:55.606Z"
   },
   {
    "duration": 13,
    "start_time": "2025-01-25T21:09:55.639Z"
   },
   {
    "duration": 4,
    "start_time": "2025-01-25T21:09:55.654Z"
   },
   {
    "duration": 13,
    "start_time": "2025-01-25T21:09:55.659Z"
   },
   {
    "duration": 13,
    "start_time": "2025-01-25T21:09:55.674Z"
   },
   {
    "duration": 8,
    "start_time": "2025-01-25T21:09:55.689Z"
   },
   {
    "duration": 42,
    "start_time": "2025-01-25T21:09:55.699Z"
   },
   {
    "duration": 4,
    "start_time": "2025-01-25T21:09:55.743Z"
   },
   {
    "duration": 4,
    "start_time": "2025-01-25T21:09:55.749Z"
   },
   {
    "duration": 14,
    "start_time": "2025-01-25T21:09:55.755Z"
   },
   {
    "duration": 14,
    "start_time": "2025-01-25T21:09:55.770Z"
   },
   {
    "duration": 7,
    "start_time": "2025-01-25T21:09:55.786Z"
   },
   {
    "duration": 5,
    "start_time": "2025-01-25T21:09:55.832Z"
   },
   {
    "duration": 14,
    "start_time": "2025-01-25T21:09:55.839Z"
   },
   {
    "duration": 5,
    "start_time": "2025-01-25T21:09:55.855Z"
   },
   {
    "duration": 6,
    "start_time": "2025-01-25T21:09:55.862Z"
   },
   {
    "duration": 11,
    "start_time": "2025-01-25T21:09:55.870Z"
   },
   {
    "duration": 8,
    "start_time": "2025-01-25T21:09:55.883Z"
   },
   {
    "duration": 10,
    "start_time": "2025-01-25T21:09:55.932Z"
   },
   {
    "duration": 1202,
    "start_time": "2025-01-25T21:09:55.944Z"
   },
   {
    "duration": 19,
    "start_time": "2025-01-25T21:09:57.148Z"
   },
   {
    "duration": 13,
    "start_time": "2025-01-25T21:09:57.170Z"
   },
   {
    "duration": 12,
    "start_time": "2025-01-25T21:09:57.185Z"
   },
   {
    "duration": 9,
    "start_time": "2025-01-25T21:09:57.203Z"
   },
   {
    "duration": 22,
    "start_time": "2025-01-25T21:09:57.214Z"
   },
   {
    "duration": 392,
    "start_time": "2025-01-25T21:09:57.238Z"
   },
   {
    "duration": 6,
    "start_time": "2025-01-25T21:09:57.632Z"
   },
   {
    "duration": 16,
    "start_time": "2025-01-25T21:09:57.640Z"
   },
   {
    "duration": 434,
    "start_time": "2025-01-25T21:09:57.659Z"
   },
   {
    "duration": 5,
    "start_time": "2025-01-25T21:09:58.095Z"
   },
   {
    "duration": 4,
    "start_time": "2025-01-25T21:09:58.101Z"
   },
   {
    "duration": 5,
    "start_time": "2025-01-25T21:09:58.107Z"
   },
   {
    "duration": 34,
    "start_time": "2025-01-25T21:09:58.113Z"
   },
   {
    "duration": 11,
    "start_time": "2025-01-25T21:09:58.149Z"
   },
   {
    "duration": 7,
    "start_time": "2025-01-25T21:09:58.162Z"
   },
   {
    "duration": 276,
    "start_time": "2025-01-25T21:09:58.170Z"
   },
   {
    "duration": 11,
    "start_time": "2025-01-25T21:09:58.448Z"
   },
   {
    "duration": 6,
    "start_time": "2025-01-25T21:09:58.462Z"
   },
   {
    "duration": 5,
    "start_time": "2025-01-25T21:09:58.469Z"
   },
   {
    "duration": 5,
    "start_time": "2025-01-25T21:09:58.476Z"
   },
   {
    "duration": 5,
    "start_time": "2025-01-25T21:09:58.483Z"
   },
   {
    "duration": 45,
    "start_time": "2025-01-25T21:09:58.489Z"
   },
   {
    "duration": 5,
    "start_time": "2025-01-25T21:09:58.536Z"
   },
   {
    "duration": 5,
    "start_time": "2025-01-25T21:09:58.543Z"
   },
   {
    "duration": 4,
    "start_time": "2025-01-25T21:09:58.550Z"
   },
   {
    "duration": 5,
    "start_time": "2025-01-25T21:09:58.556Z"
   },
   {
    "duration": 9,
    "start_time": "2025-01-25T21:09:58.563Z"
   },
   {
    "duration": 5,
    "start_time": "2025-01-25T21:09:58.574Z"
   },
   {
    "duration": 6,
    "start_time": "2025-01-25T21:09:58.580Z"
   },
   {
    "duration": 44,
    "start_time": "2025-01-25T21:09:58.587Z"
   },
   {
    "duration": 5,
    "start_time": "2025-01-25T21:09:58.633Z"
   },
   {
    "duration": 6,
    "start_time": "2025-01-25T21:09:58.640Z"
   },
   {
    "duration": 6,
    "start_time": "2025-01-25T21:09:58.648Z"
   },
   {
    "duration": 204,
    "start_time": "2025-01-26T02:35:46.299Z"
   },
   {
    "duration": 2791,
    "start_time": "2025-01-26T02:35:59.468Z"
   },
   {
    "duration": 54,
    "start_time": "2025-01-26T02:36:02.261Z"
   },
   {
    "duration": 15,
    "start_time": "2025-01-26T02:36:02.316Z"
   },
   {
    "duration": 12,
    "start_time": "2025-01-26T02:36:02.333Z"
   },
   {
    "duration": 8,
    "start_time": "2025-01-26T02:36:02.347Z"
   },
   {
    "duration": 17,
    "start_time": "2025-01-26T02:36:02.357Z"
   },
   {
    "duration": 7,
    "start_time": "2025-01-26T02:36:02.375Z"
   },
   {
    "duration": 14,
    "start_time": "2025-01-26T02:36:02.384Z"
   },
   {
    "duration": 48,
    "start_time": "2025-01-26T02:36:02.399Z"
   },
   {
    "duration": 9,
    "start_time": "2025-01-26T02:36:02.451Z"
   },
   {
    "duration": 16,
    "start_time": "2025-01-26T02:36:02.462Z"
   },
   {
    "duration": 6,
    "start_time": "2025-01-26T02:36:02.480Z"
   },
   {
    "duration": 5,
    "start_time": "2025-01-26T02:36:02.488Z"
   },
   {
    "duration": 47,
    "start_time": "2025-01-26T02:36:02.495Z"
   },
   {
    "duration": 14,
    "start_time": "2025-01-26T02:36:02.544Z"
   },
   {
    "duration": 9,
    "start_time": "2025-01-26T02:36:02.560Z"
   },
   {
    "duration": 18,
    "start_time": "2025-01-26T02:36:02.571Z"
   },
   {
    "duration": 5,
    "start_time": "2025-01-26T02:36:02.591Z"
   },
   {
    "duration": 37,
    "start_time": "2025-01-26T02:36:02.598Z"
   },
   {
    "duration": 10,
    "start_time": "2025-01-26T02:36:02.637Z"
   },
   {
    "duration": 9,
    "start_time": "2025-01-26T02:36:02.649Z"
   },
   {
    "duration": 9,
    "start_time": "2025-01-26T02:36:02.661Z"
   },
   {
    "duration": 1140,
    "start_time": "2025-01-26T02:36:02.671Z"
   },
   {
    "duration": 13,
    "start_time": "2025-01-26T02:36:03.813Z"
   },
   {
    "duration": 17,
    "start_time": "2025-01-26T02:36:03.828Z"
   },
   {
    "duration": 9,
    "start_time": "2025-01-26T02:36:03.847Z"
   },
   {
    "duration": 7,
    "start_time": "2025-01-26T02:36:03.857Z"
   },
   {
    "duration": 11,
    "start_time": "2025-01-26T02:36:03.869Z"
   },
   {
    "duration": 377,
    "start_time": "2025-01-26T02:36:03.881Z"
   },
   {
    "duration": 6,
    "start_time": "2025-01-26T02:36:04.261Z"
   },
   {
    "duration": 15,
    "start_time": "2025-01-26T02:36:04.270Z"
   },
   {
    "duration": 506,
    "start_time": "2025-01-26T02:36:04.289Z"
   },
   {
    "duration": 7,
    "start_time": "2025-01-26T02:36:04.798Z"
   },
   {
    "duration": 5,
    "start_time": "2025-01-26T02:36:04.809Z"
   },
   {
    "duration": 17,
    "start_time": "2025-01-26T02:36:04.816Z"
   },
   {
    "duration": 14,
    "start_time": "2025-01-26T02:36:04.835Z"
   },
   {
    "duration": 11,
    "start_time": "2025-01-26T02:36:04.851Z"
   },
   {
    "duration": 7,
    "start_time": "2025-01-26T02:36:04.864Z"
   },
   {
    "duration": 303,
    "start_time": "2025-01-26T02:36:04.873Z"
   },
   {
    "duration": 10,
    "start_time": "2025-01-26T02:36:05.178Z"
   },
   {
    "duration": 5,
    "start_time": "2025-01-26T02:36:05.190Z"
   },
   {
    "duration": 5,
    "start_time": "2025-01-26T02:36:05.197Z"
   },
   {
    "duration": 7,
    "start_time": "2025-01-26T02:36:05.233Z"
   },
   {
    "duration": 6,
    "start_time": "2025-01-26T02:36:05.244Z"
   },
   {
    "duration": 20,
    "start_time": "2025-01-26T02:36:05.253Z"
   },
   {
    "duration": 5,
    "start_time": "2025-01-26T02:36:05.275Z"
   },
   {
    "duration": 5,
    "start_time": "2025-01-26T02:36:05.282Z"
   },
   {
    "duration": 5,
    "start_time": "2025-01-26T02:36:05.288Z"
   },
   {
    "duration": 38,
    "start_time": "2025-01-26T02:36:05.295Z"
   },
   {
    "duration": 10,
    "start_time": "2025-01-26T02:36:05.335Z"
   },
   {
    "duration": 9,
    "start_time": "2025-01-26T02:36:05.347Z"
   },
   {
    "duration": 5,
    "start_time": "2025-01-26T02:36:05.357Z"
   },
   {
    "duration": 5,
    "start_time": "2025-01-26T02:36:05.364Z"
   },
   {
    "duration": 4,
    "start_time": "2025-01-26T02:36:05.371Z"
   },
   {
    "duration": 8,
    "start_time": "2025-01-26T02:36:05.377Z"
   },
   {
    "duration": 45,
    "start_time": "2025-01-26T02:36:05.387Z"
   },
   {
    "duration": 13,
    "start_time": "2025-01-26T02:37:02.402Z"
   },
   {
    "duration": 13,
    "start_time": "2025-01-26T02:37:21.591Z"
   },
   {
    "duration": 327,
    "start_time": "2025-01-26T02:37:54.571Z"
   },
   {
    "duration": 10,
    "start_time": "2025-01-26T02:38:04.344Z"
   },
   {
    "duration": 7,
    "start_time": "2025-01-26T02:38:24.103Z"
   },
   {
    "duration": 7,
    "start_time": "2025-01-26T02:38:43.024Z"
   },
   {
    "duration": 249,
    "start_time": "2025-01-26T02:38:59.241Z"
   },
   {
    "duration": 390,
    "start_time": "2025-01-26T02:39:13.923Z"
   },
   {
    "duration": 393,
    "start_time": "2025-01-26T02:40:23.952Z"
   },
   {
    "duration": 386,
    "start_time": "2025-01-26T02:40:47.879Z"
   },
   {
    "duration": 344,
    "start_time": "2025-01-26T02:41:04.540Z"
   },
   {
    "duration": 7,
    "start_time": "2025-01-26T02:41:28.706Z"
   },
   {
    "duration": 13,
    "start_time": "2025-01-26T02:41:54.380Z"
   },
   {
    "duration": 404,
    "start_time": "2025-01-26T02:42:18.980Z"
   },
   {
    "duration": 5,
    "start_time": "2025-01-26T02:42:39.903Z"
   },
   {
    "duration": 5,
    "start_time": "2025-01-26T02:42:48.935Z"
   },
   {
    "duration": 6,
    "start_time": "2025-01-26T02:43:00.543Z"
   },
   {
    "duration": 5,
    "start_time": "2025-01-26T02:43:10.701Z"
   },
   {
    "duration": 13,
    "start_time": "2025-01-26T02:43:31.322Z"
   },
   {
    "duration": 13,
    "start_time": "2025-01-26T02:43:48.201Z"
   },
   {
    "duration": 8,
    "start_time": "2025-01-26T02:44:22.035Z"
   },
   {
    "duration": 236,
    "start_time": "2025-01-26T02:44:38.240Z"
   },
   {
    "duration": 13,
    "start_time": "2025-01-26T02:45:08.072Z"
   },
   {
    "duration": 8,
    "start_time": "2025-01-26T02:45:20.384Z"
   },
   {
    "duration": 6,
    "start_time": "2025-01-26T02:45:44.955Z"
   },
   {
    "duration": 5,
    "start_time": "2025-01-26T02:45:54.977Z"
   },
   {
    "duration": 6,
    "start_time": "2025-01-26T02:46:06.991Z"
   },
   {
    "duration": 16,
    "start_time": "2025-01-26T02:46:29.988Z"
   },
   {
    "duration": 7,
    "start_time": "2025-01-26T02:46:39.375Z"
   },
   {
    "duration": 9,
    "start_time": "2025-01-26T02:46:49.386Z"
   },
   {
    "duration": 5,
    "start_time": "2025-01-26T02:46:56.183Z"
   },
   {
    "duration": 6,
    "start_time": "2025-01-26T02:47:05.133Z"
   },
   {
    "duration": 14,
    "start_time": "2025-01-26T02:47:16.654Z"
   },
   {
    "duration": 5,
    "start_time": "2025-01-26T02:47:24.901Z"
   },
   {
    "duration": 5,
    "start_time": "2025-01-26T02:47:54.857Z"
   },
   {
    "duration": 5,
    "start_time": "2025-01-26T02:48:03.150Z"
   },
   {
    "duration": 5,
    "start_time": "2025-01-26T02:48:05.675Z"
   },
   {
    "duration": 5,
    "start_time": "2025-01-26T02:48:13.626Z"
   },
   {
    "duration": 9,
    "start_time": "2025-01-26T02:48:43.988Z"
   },
   {
    "duration": 6,
    "start_time": "2025-01-26T02:50:11.045Z"
   },
   {
    "duration": 821,
    "start_time": "2025-01-26T02:50:46.565Z"
   },
   {
    "duration": 34,
    "start_time": "2025-01-26T02:50:47.388Z"
   },
   {
    "duration": 12,
    "start_time": "2025-01-26T02:50:47.431Z"
   },
   {
    "duration": 12,
    "start_time": "2025-01-26T02:50:47.445Z"
   },
   {
    "duration": 7,
    "start_time": "2025-01-26T02:50:47.459Z"
   },
   {
    "duration": 12,
    "start_time": "2025-01-26T02:50:47.469Z"
   },
   {
    "duration": 4,
    "start_time": "2025-01-26T02:50:47.483Z"
   },
   {
    "duration": 45,
    "start_time": "2025-01-26T02:50:47.489Z"
   },
   {
    "duration": 14,
    "start_time": "2025-01-26T02:50:47.536Z"
   },
   {
    "duration": 9,
    "start_time": "2025-01-26T02:50:47.554Z"
   },
   {
    "duration": 15,
    "start_time": "2025-01-26T02:50:47.566Z"
   },
   {
    "duration": 7,
    "start_time": "2025-01-26T02:50:47.583Z"
   },
   {
    "duration": 6,
    "start_time": "2025-01-26T02:50:47.592Z"
   },
   {
    "duration": 43,
    "start_time": "2025-01-26T02:50:47.600Z"
   },
   {
    "duration": 23,
    "start_time": "2025-01-26T02:50:47.645Z"
   },
   {
    "duration": 12,
    "start_time": "2025-01-26T02:50:47.670Z"
   },
   {
    "duration": 14,
    "start_time": "2025-01-26T02:50:47.685Z"
   },
   {
    "duration": 5,
    "start_time": "2025-01-26T02:50:47.700Z"
   },
   {
    "duration": 7,
    "start_time": "2025-01-26T02:50:47.731Z"
   },
   {
    "duration": 10,
    "start_time": "2025-01-26T02:50:47.740Z"
   },
   {
    "duration": 8,
    "start_time": "2025-01-26T02:50:47.751Z"
   },
   {
    "duration": 8,
    "start_time": "2025-01-26T02:50:47.760Z"
   },
   {
    "duration": 1183,
    "start_time": "2025-01-26T02:50:47.770Z"
   },
   {
    "duration": 14,
    "start_time": "2025-01-26T02:50:48.955Z"
   },
   {
    "duration": 218,
    "start_time": "2025-01-26T02:50:48.971Z"
   },
   {
    "duration": 0,
    "start_time": "2025-01-26T02:50:49.192Z"
   },
   {
    "duration": 0,
    "start_time": "2025-01-26T02:50:49.193Z"
   },
   {
    "duration": 0,
    "start_time": "2025-01-26T02:50:49.194Z"
   },
   {
    "duration": 0,
    "start_time": "2025-01-26T02:50:49.195Z"
   },
   {
    "duration": 0,
    "start_time": "2025-01-26T02:50:49.196Z"
   },
   {
    "duration": 0,
    "start_time": "2025-01-26T02:50:49.197Z"
   },
   {
    "duration": 0,
    "start_time": "2025-01-26T02:50:49.198Z"
   },
   {
    "duration": 0,
    "start_time": "2025-01-26T02:50:49.199Z"
   },
   {
    "duration": 0,
    "start_time": "2025-01-26T02:50:49.200Z"
   },
   {
    "duration": 0,
    "start_time": "2025-01-26T02:50:49.201Z"
   },
   {
    "duration": 0,
    "start_time": "2025-01-26T02:50:49.202Z"
   },
   {
    "duration": 0,
    "start_time": "2025-01-26T02:50:49.203Z"
   },
   {
    "duration": 0,
    "start_time": "2025-01-26T02:50:49.204Z"
   },
   {
    "duration": 0,
    "start_time": "2025-01-26T02:50:49.205Z"
   },
   {
    "duration": 0,
    "start_time": "2025-01-26T02:50:49.207Z"
   },
   {
    "duration": 0,
    "start_time": "2025-01-26T02:50:49.232Z"
   },
   {
    "duration": 0,
    "start_time": "2025-01-26T02:50:49.233Z"
   },
   {
    "duration": 0,
    "start_time": "2025-01-26T02:50:49.235Z"
   },
   {
    "duration": 0,
    "start_time": "2025-01-26T02:50:49.236Z"
   },
   {
    "duration": 0,
    "start_time": "2025-01-26T02:50:49.236Z"
   },
   {
    "duration": 0,
    "start_time": "2025-01-26T02:50:49.237Z"
   },
   {
    "duration": 0,
    "start_time": "2025-01-26T02:50:49.239Z"
   },
   {
    "duration": 0,
    "start_time": "2025-01-26T02:50:49.239Z"
   },
   {
    "duration": 0,
    "start_time": "2025-01-26T02:50:49.240Z"
   },
   {
    "duration": 0,
    "start_time": "2025-01-26T02:50:49.241Z"
   },
   {
    "duration": 0,
    "start_time": "2025-01-26T02:50:49.242Z"
   },
   {
    "duration": 0,
    "start_time": "2025-01-26T02:50:49.243Z"
   },
   {
    "duration": 0,
    "start_time": "2025-01-26T02:50:49.244Z"
   },
   {
    "duration": 0,
    "start_time": "2025-01-26T02:50:49.245Z"
   },
   {
    "duration": 0,
    "start_time": "2025-01-26T02:50:49.247Z"
   },
   {
    "duration": 0,
    "start_time": "2025-01-26T02:50:49.248Z"
   },
   {
    "duration": 16,
    "start_time": "2025-01-26T02:51:16.910Z"
   },
   {
    "duration": 21,
    "start_time": "2025-01-26T02:51:33.857Z"
   },
   {
    "duration": 5,
    "start_time": "2025-01-26T02:51:52.599Z"
   },
   {
    "duration": 7,
    "start_time": "2025-01-26T02:52:03.644Z"
   },
   {
    "duration": 7,
    "start_time": "2025-01-26T02:54:04.542Z"
   },
   {
    "duration": 9,
    "start_time": "2025-01-26T02:55:04.987Z"
   },
   {
    "duration": 7,
    "start_time": "2025-01-26T02:56:24.373Z"
   },
   {
    "duration": 6,
    "start_time": "2025-01-26T02:56:39.483Z"
   },
   {
    "duration": 863,
    "start_time": "2025-01-26T02:57:07.603Z"
   },
   {
    "duration": 35,
    "start_time": "2025-01-26T02:57:08.469Z"
   },
   {
    "duration": 13,
    "start_time": "2025-01-26T02:57:08.506Z"
   },
   {
    "duration": 21,
    "start_time": "2025-01-26T02:57:08.520Z"
   },
   {
    "duration": 9,
    "start_time": "2025-01-26T02:57:08.543Z"
   },
   {
    "duration": 13,
    "start_time": "2025-01-26T02:57:08.554Z"
   },
   {
    "duration": 5,
    "start_time": "2025-01-26T02:57:08.568Z"
   },
   {
    "duration": 13,
    "start_time": "2025-01-26T02:57:08.574Z"
   },
   {
    "duration": 45,
    "start_time": "2025-01-26T02:57:08.588Z"
   },
   {
    "duration": 7,
    "start_time": "2025-01-26T02:57:08.637Z"
   },
   {
    "duration": 12,
    "start_time": "2025-01-26T02:57:08.646Z"
   },
   {
    "duration": 4,
    "start_time": "2025-01-26T02:57:08.660Z"
   },
   {
    "duration": 4,
    "start_time": "2025-01-26T02:57:08.665Z"
   },
   {
    "duration": 14,
    "start_time": "2025-01-26T02:57:08.671Z"
   },
   {
    "duration": 50,
    "start_time": "2025-01-26T02:57:08.686Z"
   },
   {
    "duration": 7,
    "start_time": "2025-01-26T02:57:08.739Z"
   },
   {
    "duration": 14,
    "start_time": "2025-01-26T02:57:08.747Z"
   },
   {
    "duration": 5,
    "start_time": "2025-01-26T02:57:08.763Z"
   },
   {
    "duration": 7,
    "start_time": "2025-01-26T02:57:08.770Z"
   },
   {
    "duration": 12,
    "start_time": "2025-01-26T02:57:08.778Z"
   },
   {
    "duration": 7,
    "start_time": "2025-01-26T02:57:08.791Z"
   },
   {
    "duration": 6,
    "start_time": "2025-01-26T02:57:08.831Z"
   },
   {
    "duration": 1116,
    "start_time": "2025-01-26T02:57:08.839Z"
   },
   {
    "duration": 13,
    "start_time": "2025-01-26T02:57:09.957Z"
   },
   {
    "duration": 219,
    "start_time": "2025-01-26T02:57:09.971Z"
   },
   {
    "duration": 0,
    "start_time": "2025-01-26T02:57:10.192Z"
   },
   {
    "duration": 0,
    "start_time": "2025-01-26T02:57:10.193Z"
   },
   {
    "duration": 0,
    "start_time": "2025-01-26T02:57:10.194Z"
   },
   {
    "duration": 0,
    "start_time": "2025-01-26T02:57:10.195Z"
   },
   {
    "duration": 0,
    "start_time": "2025-01-26T02:57:10.196Z"
   },
   {
    "duration": 0,
    "start_time": "2025-01-26T02:57:10.197Z"
   },
   {
    "duration": 0,
    "start_time": "2025-01-26T02:57:10.198Z"
   },
   {
    "duration": 0,
    "start_time": "2025-01-26T02:57:10.199Z"
   },
   {
    "duration": 0,
    "start_time": "2025-01-26T02:57:10.201Z"
   },
   {
    "duration": 0,
    "start_time": "2025-01-26T02:57:10.202Z"
   },
   {
    "duration": 0,
    "start_time": "2025-01-26T02:57:10.204Z"
   },
   {
    "duration": 0,
    "start_time": "2025-01-26T02:57:10.205Z"
   },
   {
    "duration": 0,
    "start_time": "2025-01-26T02:57:10.233Z"
   },
   {
    "duration": 0,
    "start_time": "2025-01-26T02:57:10.234Z"
   },
   {
    "duration": 0,
    "start_time": "2025-01-26T02:57:10.236Z"
   },
   {
    "duration": 0,
    "start_time": "2025-01-26T02:57:10.237Z"
   },
   {
    "duration": 1,
    "start_time": "2025-01-26T02:57:10.238Z"
   },
   {
    "duration": 0,
    "start_time": "2025-01-26T02:57:10.240Z"
   },
   {
    "duration": 0,
    "start_time": "2025-01-26T02:57:10.241Z"
   },
   {
    "duration": 0,
    "start_time": "2025-01-26T02:57:10.242Z"
   },
   {
    "duration": 0,
    "start_time": "2025-01-26T02:57:10.243Z"
   },
   {
    "duration": 0,
    "start_time": "2025-01-26T02:57:10.244Z"
   },
   {
    "duration": 0,
    "start_time": "2025-01-26T02:57:10.246Z"
   },
   {
    "duration": 0,
    "start_time": "2025-01-26T02:57:10.247Z"
   },
   {
    "duration": 0,
    "start_time": "2025-01-26T02:57:10.249Z"
   },
   {
    "duration": 0,
    "start_time": "2025-01-26T02:57:10.252Z"
   },
   {
    "duration": 0,
    "start_time": "2025-01-26T02:57:10.253Z"
   },
   {
    "duration": 0,
    "start_time": "2025-01-26T02:57:10.255Z"
   },
   {
    "duration": 0,
    "start_time": "2025-01-26T02:57:10.257Z"
   },
   {
    "duration": 0,
    "start_time": "2025-01-26T02:57:10.258Z"
   },
   {
    "duration": 0,
    "start_time": "2025-01-26T02:57:10.260Z"
   },
   {
    "duration": 7,
    "start_time": "2025-01-26T02:57:22.374Z"
   },
   {
    "duration": 9,
    "start_time": "2025-01-26T02:57:30.257Z"
   },
   {
    "duration": 14,
    "start_time": "2025-01-26T02:57:39.170Z"
   },
   {
    "duration": 10,
    "start_time": "2025-01-26T03:01:53.878Z"
   },
   {
    "duration": 13,
    "start_time": "2025-01-26T03:01:55.643Z"
   },
   {
    "duration": 238,
    "start_time": "2025-01-26T03:02:49.880Z"
   },
   {
    "duration": 8,
    "start_time": "2025-01-26T03:03:02.353Z"
   },
   {
    "duration": 3,
    "start_time": "2025-01-26T03:04:45.478Z"
   },
   {
    "duration": 23,
    "start_time": "2025-01-26T03:07:27.642Z"
   },
   {
    "duration": 14,
    "start_time": "2025-01-26T03:07:46.656Z"
   },
   {
    "duration": 14,
    "start_time": "2025-01-26T03:08:37.331Z"
   },
   {
    "duration": 15,
    "start_time": "2025-01-26T03:08:58.043Z"
   },
   {
    "duration": 14,
    "start_time": "2025-01-26T03:12:21.709Z"
   },
   {
    "duration": 857,
    "start_time": "2025-01-26T03:13:52.890Z"
   },
   {
    "duration": 35,
    "start_time": "2025-01-26T03:13:53.749Z"
   },
   {
    "duration": 12,
    "start_time": "2025-01-26T03:13:53.786Z"
   },
   {
    "duration": 32,
    "start_time": "2025-01-26T03:13:53.800Z"
   },
   {
    "duration": 8,
    "start_time": "2025-01-26T03:13:53.834Z"
   },
   {
    "duration": 11,
    "start_time": "2025-01-26T03:13:53.844Z"
   },
   {
    "duration": 14,
    "start_time": "2025-01-26T03:13:53.857Z"
   },
   {
    "duration": 7,
    "start_time": "2025-01-26T03:13:53.873Z"
   },
   {
    "duration": 850,
    "start_time": "2025-01-26T03:13:53.882Z"
   },
   {
    "duration": 0,
    "start_time": "2025-01-26T03:13:54.736Z"
   },
   {
    "duration": 0,
    "start_time": "2025-01-26T03:13:54.737Z"
   },
   {
    "duration": 0,
    "start_time": "2025-01-26T03:13:54.738Z"
   },
   {
    "duration": 0,
    "start_time": "2025-01-26T03:13:54.740Z"
   },
   {
    "duration": 0,
    "start_time": "2025-01-26T03:13:54.741Z"
   },
   {
    "duration": 0,
    "start_time": "2025-01-26T03:13:54.742Z"
   },
   {
    "duration": 0,
    "start_time": "2025-01-26T03:13:54.744Z"
   },
   {
    "duration": 0,
    "start_time": "2025-01-26T03:13:54.745Z"
   },
   {
    "duration": 0,
    "start_time": "2025-01-26T03:13:54.747Z"
   },
   {
    "duration": 0,
    "start_time": "2025-01-26T03:13:54.748Z"
   },
   {
    "duration": 0,
    "start_time": "2025-01-26T03:13:54.750Z"
   },
   {
    "duration": 0,
    "start_time": "2025-01-26T03:13:54.751Z"
   },
   {
    "duration": 0,
    "start_time": "2025-01-26T03:13:54.753Z"
   },
   {
    "duration": 0,
    "start_time": "2025-01-26T03:13:54.754Z"
   },
   {
    "duration": 0,
    "start_time": "2025-01-26T03:13:54.755Z"
   },
   {
    "duration": 0,
    "start_time": "2025-01-26T03:13:54.757Z"
   },
   {
    "duration": 0,
    "start_time": "2025-01-26T03:13:54.758Z"
   },
   {
    "duration": 0,
    "start_time": "2025-01-26T03:13:54.759Z"
   },
   {
    "duration": 0,
    "start_time": "2025-01-26T03:13:54.761Z"
   },
   {
    "duration": 0,
    "start_time": "2025-01-26T03:13:54.762Z"
   },
   {
    "duration": 0,
    "start_time": "2025-01-26T03:13:54.764Z"
   },
   {
    "duration": 0,
    "start_time": "2025-01-26T03:13:54.765Z"
   },
   {
    "duration": 0,
    "start_time": "2025-01-26T03:13:54.766Z"
   },
   {
    "duration": 0,
    "start_time": "2025-01-26T03:13:54.768Z"
   },
   {
    "duration": 0,
    "start_time": "2025-01-26T03:13:54.769Z"
   },
   {
    "duration": 0,
    "start_time": "2025-01-26T03:13:54.771Z"
   },
   {
    "duration": 0,
    "start_time": "2025-01-26T03:13:54.830Z"
   },
   {
    "duration": 0,
    "start_time": "2025-01-26T03:13:54.832Z"
   },
   {
    "duration": 0,
    "start_time": "2025-01-26T03:13:54.833Z"
   },
   {
    "duration": 0,
    "start_time": "2025-01-26T03:13:54.834Z"
   },
   {
    "duration": 0,
    "start_time": "2025-01-26T03:13:54.835Z"
   },
   {
    "duration": 0,
    "start_time": "2025-01-26T03:13:54.836Z"
   },
   {
    "duration": 0,
    "start_time": "2025-01-26T03:13:54.837Z"
   },
   {
    "duration": 0,
    "start_time": "2025-01-26T03:13:54.838Z"
   },
   {
    "duration": 0,
    "start_time": "2025-01-26T03:13:54.839Z"
   },
   {
    "duration": 0,
    "start_time": "2025-01-26T03:13:54.841Z"
   },
   {
    "duration": 0,
    "start_time": "2025-01-26T03:13:54.843Z"
   },
   {
    "duration": 0,
    "start_time": "2025-01-26T03:13:54.844Z"
   },
   {
    "duration": 0,
    "start_time": "2025-01-26T03:13:54.845Z"
   },
   {
    "duration": 0,
    "start_time": "2025-01-26T03:13:54.847Z"
   },
   {
    "duration": 0,
    "start_time": "2025-01-26T03:13:54.848Z"
   },
   {
    "duration": 0,
    "start_time": "2025-01-26T03:13:54.849Z"
   },
   {
    "duration": 14,
    "start_time": "2025-01-26T03:16:09.786Z"
   },
   {
    "duration": 13,
    "start_time": "2025-01-26T03:22:19.375Z"
   },
   {
    "duration": 4,
    "start_time": "2025-01-26T03:22:45.362Z"
   },
   {
    "duration": 836,
    "start_time": "2025-01-26T03:22:56.506Z"
   },
   {
    "duration": 35,
    "start_time": "2025-01-26T03:22:57.344Z"
   },
   {
    "duration": 12,
    "start_time": "2025-01-26T03:22:57.381Z"
   },
   {
    "duration": 10,
    "start_time": "2025-01-26T03:22:57.395Z"
   },
   {
    "duration": 28,
    "start_time": "2025-01-26T03:22:57.407Z"
   },
   {
    "duration": 13,
    "start_time": "2025-01-26T03:22:57.436Z"
   },
   {
    "duration": 14,
    "start_time": "2025-01-26T03:22:57.451Z"
   },
   {
    "duration": 7,
    "start_time": "2025-01-26T03:22:57.467Z"
   },
   {
    "duration": 11,
    "start_time": "2025-01-26T03:22:57.476Z"
   },
   {
    "duration": 4,
    "start_time": "2025-01-26T03:22:57.490Z"
   },
   {
    "duration": 48,
    "start_time": "2025-01-26T03:22:57.495Z"
   },
   {
    "duration": 7,
    "start_time": "2025-01-26T03:22:57.545Z"
   },
   {
    "duration": 14,
    "start_time": "2025-01-26T03:22:57.553Z"
   },
   {
    "duration": 6,
    "start_time": "2025-01-26T03:22:57.569Z"
   },
   {
    "duration": 6,
    "start_time": "2025-01-26T03:22:57.577Z"
   },
   {
    "duration": 12,
    "start_time": "2025-01-26T03:22:57.584Z"
   },
   {
    "duration": 40,
    "start_time": "2025-01-26T03:22:57.598Z"
   },
   {
    "duration": 10,
    "start_time": "2025-01-26T03:22:57.639Z"
   },
   {
    "duration": 1232,
    "start_time": "2025-01-26T03:22:57.651Z"
   },
   {
    "duration": 13,
    "start_time": "2025-01-26T03:22:58.885Z"
   },
   {
    "duration": 223,
    "start_time": "2025-01-26T03:22:58.899Z"
   },
   {
    "duration": 0,
    "start_time": "2025-01-26T03:22:59.125Z"
   },
   {
    "duration": 0,
    "start_time": "2025-01-26T03:22:59.127Z"
   },
   {
    "duration": 0,
    "start_time": "2025-01-26T03:22:59.131Z"
   },
   {
    "duration": 0,
    "start_time": "2025-01-26T03:22:59.132Z"
   },
   {
    "duration": 0,
    "start_time": "2025-01-26T03:22:59.134Z"
   },
   {
    "duration": 0,
    "start_time": "2025-01-26T03:22:59.135Z"
   },
   {
    "duration": 0,
    "start_time": "2025-01-26T03:22:59.137Z"
   },
   {
    "duration": 0,
    "start_time": "2025-01-26T03:22:59.138Z"
   },
   {
    "duration": 0,
    "start_time": "2025-01-26T03:22:59.140Z"
   },
   {
    "duration": 0,
    "start_time": "2025-01-26T03:22:59.141Z"
   },
   {
    "duration": 0,
    "start_time": "2025-01-26T03:22:59.143Z"
   },
   {
    "duration": 0,
    "start_time": "2025-01-26T03:22:59.144Z"
   },
   {
    "duration": 0,
    "start_time": "2025-01-26T03:22:59.146Z"
   },
   {
    "duration": 0,
    "start_time": "2025-01-26T03:22:59.147Z"
   },
   {
    "duration": 0,
    "start_time": "2025-01-26T03:22:59.149Z"
   },
   {
    "duration": 0,
    "start_time": "2025-01-26T03:22:59.151Z"
   },
   {
    "duration": 0,
    "start_time": "2025-01-26T03:22:59.152Z"
   },
   {
    "duration": 0,
    "start_time": "2025-01-26T03:22:59.153Z"
   },
   {
    "duration": 0,
    "start_time": "2025-01-26T03:22:59.155Z"
   },
   {
    "duration": 0,
    "start_time": "2025-01-26T03:22:59.156Z"
   },
   {
    "duration": 0,
    "start_time": "2025-01-26T03:22:59.157Z"
   },
   {
    "duration": 0,
    "start_time": "2025-01-26T03:22:59.158Z"
   },
   {
    "duration": 0,
    "start_time": "2025-01-26T03:22:59.160Z"
   },
   {
    "duration": 0,
    "start_time": "2025-01-26T03:22:59.161Z"
   },
   {
    "duration": 0,
    "start_time": "2025-01-26T03:22:59.163Z"
   },
   {
    "duration": 0,
    "start_time": "2025-01-26T03:22:59.164Z"
   },
   {
    "duration": 0,
    "start_time": "2025-01-26T03:22:59.165Z"
   },
   {
    "duration": 0,
    "start_time": "2025-01-26T03:22:59.166Z"
   },
   {
    "duration": 0,
    "start_time": "2025-01-26T03:22:59.167Z"
   },
   {
    "duration": 0,
    "start_time": "2025-01-26T03:22:59.168Z"
   },
   {
    "duration": 0,
    "start_time": "2025-01-26T03:22:59.169Z"
   },
   {
    "duration": 3,
    "start_time": "2025-01-26T03:23:54.332Z"
   },
   {
    "duration": 12,
    "start_time": "2025-01-26T03:23:56.909Z"
   },
   {
    "duration": 849,
    "start_time": "2025-01-26T03:24:19.471Z"
   },
   {
    "duration": 41,
    "start_time": "2025-01-26T03:24:20.322Z"
   },
   {
    "duration": 12,
    "start_time": "2025-01-26T03:24:20.364Z"
   },
   {
    "duration": 11,
    "start_time": "2025-01-26T03:24:20.377Z"
   },
   {
    "duration": 7,
    "start_time": "2025-01-26T03:24:20.391Z"
   },
   {
    "duration": 38,
    "start_time": "2025-01-26T03:24:20.400Z"
   },
   {
    "duration": 14,
    "start_time": "2025-01-26T03:24:20.439Z"
   },
   {
    "duration": 8,
    "start_time": "2025-01-26T03:24:20.455Z"
   },
   {
    "duration": 13,
    "start_time": "2025-01-26T03:24:20.464Z"
   },
   {
    "duration": 4,
    "start_time": "2025-01-26T03:24:20.478Z"
   },
   {
    "duration": 10,
    "start_time": "2025-01-26T03:24:20.483Z"
   },
   {
    "duration": 41,
    "start_time": "2025-01-26T03:24:20.495Z"
   },
   {
    "duration": 7,
    "start_time": "2025-01-26T03:24:20.537Z"
   },
   {
    "duration": 14,
    "start_time": "2025-01-26T03:24:20.548Z"
   },
   {
    "duration": 6,
    "start_time": "2025-01-26T03:24:20.563Z"
   },
   {
    "duration": 7,
    "start_time": "2025-01-26T03:24:20.570Z"
   },
   {
    "duration": 11,
    "start_time": "2025-01-26T03:24:20.578Z"
   },
   {
    "duration": 42,
    "start_time": "2025-01-26T03:24:20.590Z"
   },
   {
    "duration": 7,
    "start_time": "2025-01-26T03:24:20.633Z"
   },
   {
    "duration": 1165,
    "start_time": "2025-01-26T03:24:20.642Z"
   },
   {
    "duration": 13,
    "start_time": "2025-01-26T03:24:21.809Z"
   },
   {
    "duration": 224,
    "start_time": "2025-01-26T03:24:21.823Z"
   },
   {
    "duration": 0,
    "start_time": "2025-01-26T03:24:22.049Z"
   },
   {
    "duration": 0,
    "start_time": "2025-01-26T03:24:22.051Z"
   },
   {
    "duration": 0,
    "start_time": "2025-01-26T03:24:22.052Z"
   },
   {
    "duration": 0,
    "start_time": "2025-01-26T03:24:22.054Z"
   },
   {
    "duration": 1,
    "start_time": "2025-01-26T03:24:22.054Z"
   },
   {
    "duration": 0,
    "start_time": "2025-01-26T03:24:22.056Z"
   },
   {
    "duration": 0,
    "start_time": "2025-01-26T03:24:22.057Z"
   },
   {
    "duration": 0,
    "start_time": "2025-01-26T03:24:22.058Z"
   },
   {
    "duration": 0,
    "start_time": "2025-01-26T03:24:22.059Z"
   },
   {
    "duration": 0,
    "start_time": "2025-01-26T03:24:22.059Z"
   },
   {
    "duration": 0,
    "start_time": "2025-01-26T03:24:22.061Z"
   },
   {
    "duration": 0,
    "start_time": "2025-01-26T03:24:22.061Z"
   },
   {
    "duration": 0,
    "start_time": "2025-01-26T03:24:22.063Z"
   },
   {
    "duration": 0,
    "start_time": "2025-01-26T03:24:22.064Z"
   },
   {
    "duration": 0,
    "start_time": "2025-01-26T03:24:22.065Z"
   },
   {
    "duration": 0,
    "start_time": "2025-01-26T03:24:22.066Z"
   },
   {
    "duration": 0,
    "start_time": "2025-01-26T03:24:22.067Z"
   },
   {
    "duration": 0,
    "start_time": "2025-01-26T03:24:22.068Z"
   },
   {
    "duration": 0,
    "start_time": "2025-01-26T03:24:22.069Z"
   },
   {
    "duration": 0,
    "start_time": "2025-01-26T03:24:22.070Z"
   },
   {
    "duration": 0,
    "start_time": "2025-01-26T03:24:22.072Z"
   },
   {
    "duration": 0,
    "start_time": "2025-01-26T03:24:22.075Z"
   },
   {
    "duration": 0,
    "start_time": "2025-01-26T03:24:22.076Z"
   },
   {
    "duration": 0,
    "start_time": "2025-01-26T03:24:22.077Z"
   },
   {
    "duration": 0,
    "start_time": "2025-01-26T03:24:22.079Z"
   },
   {
    "duration": 0,
    "start_time": "2025-01-26T03:24:22.080Z"
   },
   {
    "duration": 0,
    "start_time": "2025-01-26T03:24:22.081Z"
   },
   {
    "duration": 0,
    "start_time": "2025-01-26T03:24:22.130Z"
   },
   {
    "duration": 0,
    "start_time": "2025-01-26T03:24:22.132Z"
   },
   {
    "duration": 0,
    "start_time": "2025-01-26T03:24:22.133Z"
   },
   {
    "duration": 0,
    "start_time": "2025-01-26T03:24:22.134Z"
   },
   {
    "duration": 1024,
    "start_time": "2025-01-26T03:25:38.111Z"
   },
   {
    "duration": 39,
    "start_time": "2025-01-26T03:25:39.138Z"
   },
   {
    "duration": 53,
    "start_time": "2025-01-26T03:25:39.179Z"
   },
   {
    "duration": 15,
    "start_time": "2025-01-26T03:25:39.235Z"
   },
   {
    "duration": 7,
    "start_time": "2025-01-26T03:25:39.251Z"
   },
   {
    "duration": 11,
    "start_time": "2025-01-26T03:25:39.260Z"
   },
   {
    "duration": 14,
    "start_time": "2025-01-26T03:25:39.273Z"
   },
   {
    "duration": 11,
    "start_time": "2025-01-26T03:25:39.289Z"
   },
   {
    "duration": 40,
    "start_time": "2025-01-26T03:25:39.302Z"
   },
   {
    "duration": 4,
    "start_time": "2025-01-26T03:25:39.345Z"
   },
   {
    "duration": 14,
    "start_time": "2025-01-26T03:25:39.352Z"
   },
   {
    "duration": 8,
    "start_time": "2025-01-26T03:25:39.367Z"
   },
   {
    "duration": 15,
    "start_time": "2025-01-26T03:25:39.377Z"
   },
   {
    "duration": 5,
    "start_time": "2025-01-26T03:25:39.393Z"
   },
   {
    "duration": 6,
    "start_time": "2025-01-26T03:25:39.431Z"
   },
   {
    "duration": 10,
    "start_time": "2025-01-26T03:25:39.438Z"
   },
   {
    "duration": 7,
    "start_time": "2025-01-26T03:25:39.450Z"
   },
   {
    "duration": 8,
    "start_time": "2025-01-26T03:25:39.459Z"
   },
   {
    "duration": 1227,
    "start_time": "2025-01-26T03:25:39.468Z"
   },
   {
    "duration": 14,
    "start_time": "2025-01-26T03:25:40.697Z"
   },
   {
    "duration": 214,
    "start_time": "2025-01-26T03:25:40.713Z"
   },
   {
    "duration": 0,
    "start_time": "2025-01-26T03:25:40.931Z"
   },
   {
    "duration": 0,
    "start_time": "2025-01-26T03:25:40.932Z"
   },
   {
    "duration": 0,
    "start_time": "2025-01-26T03:25:40.934Z"
   },
   {
    "duration": 0,
    "start_time": "2025-01-26T03:25:40.935Z"
   },
   {
    "duration": 0,
    "start_time": "2025-01-26T03:25:40.936Z"
   },
   {
    "duration": 0,
    "start_time": "2025-01-26T03:25:40.937Z"
   },
   {
    "duration": 0,
    "start_time": "2025-01-26T03:25:40.939Z"
   },
   {
    "duration": 0,
    "start_time": "2025-01-26T03:25:40.940Z"
   },
   {
    "duration": 0,
    "start_time": "2025-01-26T03:25:40.942Z"
   },
   {
    "duration": 0,
    "start_time": "2025-01-26T03:25:40.943Z"
   },
   {
    "duration": 0,
    "start_time": "2025-01-26T03:25:40.945Z"
   },
   {
    "duration": 0,
    "start_time": "2025-01-26T03:25:40.946Z"
   },
   {
    "duration": 0,
    "start_time": "2025-01-26T03:25:40.947Z"
   },
   {
    "duration": 0,
    "start_time": "2025-01-26T03:25:40.949Z"
   },
   {
    "duration": 0,
    "start_time": "2025-01-26T03:25:40.950Z"
   },
   {
    "duration": 0,
    "start_time": "2025-01-26T03:25:40.951Z"
   },
   {
    "duration": 0,
    "start_time": "2025-01-26T03:25:40.952Z"
   },
   {
    "duration": 0,
    "start_time": "2025-01-26T03:25:40.953Z"
   },
   {
    "duration": 0,
    "start_time": "2025-01-26T03:25:40.954Z"
   },
   {
    "duration": 0,
    "start_time": "2025-01-26T03:25:40.955Z"
   },
   {
    "duration": 0,
    "start_time": "2025-01-26T03:25:40.956Z"
   },
   {
    "duration": 0,
    "start_time": "2025-01-26T03:25:40.957Z"
   },
   {
    "duration": 0,
    "start_time": "2025-01-26T03:25:40.958Z"
   },
   {
    "duration": 0,
    "start_time": "2025-01-26T03:25:40.959Z"
   },
   {
    "duration": 0,
    "start_time": "2025-01-26T03:25:40.960Z"
   },
   {
    "duration": 0,
    "start_time": "2025-01-26T03:25:40.964Z"
   },
   {
    "duration": 0,
    "start_time": "2025-01-26T03:25:40.965Z"
   },
   {
    "duration": 0,
    "start_time": "2025-01-26T03:25:40.965Z"
   },
   {
    "duration": 1,
    "start_time": "2025-01-26T03:25:40.966Z"
   },
   {
    "duration": 0,
    "start_time": "2025-01-26T03:25:40.968Z"
   },
   {
    "duration": 0,
    "start_time": "2025-01-26T03:25:40.969Z"
   },
   {
    "duration": 836,
    "start_time": "2025-01-26T03:27:42.244Z"
   },
   {
    "duration": 34,
    "start_time": "2025-01-26T03:27:43.082Z"
   },
   {
    "duration": 20,
    "start_time": "2025-01-26T03:27:43.118Z"
   },
   {
    "duration": 11,
    "start_time": "2025-01-26T03:27:43.139Z"
   },
   {
    "duration": 7,
    "start_time": "2025-01-26T03:27:43.152Z"
   },
   {
    "duration": 12,
    "start_time": "2025-01-26T03:27:43.160Z"
   },
   {
    "duration": 17,
    "start_time": "2025-01-26T03:27:43.175Z"
   },
   {
    "duration": 9,
    "start_time": "2025-01-26T03:27:43.193Z"
   },
   {
    "duration": 12,
    "start_time": "2025-01-26T03:27:43.232Z"
   },
   {
    "duration": 5,
    "start_time": "2025-01-26T03:27:43.246Z"
   },
   {
    "duration": 13,
    "start_time": "2025-01-26T03:27:43.253Z"
   },
   {
    "duration": 8,
    "start_time": "2025-01-26T03:27:43.268Z"
   },
   {
    "duration": 14,
    "start_time": "2025-01-26T03:27:43.277Z"
   },
   {
    "duration": 40,
    "start_time": "2025-01-26T03:27:43.295Z"
   },
   {
    "duration": 6,
    "start_time": "2025-01-26T03:27:43.336Z"
   },
   {
    "duration": 10,
    "start_time": "2025-01-26T03:27:43.343Z"
   },
   {
    "duration": 8,
    "start_time": "2025-01-26T03:27:43.354Z"
   },
   {
    "duration": 8,
    "start_time": "2025-01-26T03:27:43.364Z"
   },
   {
    "duration": 1230,
    "start_time": "2025-01-26T03:27:43.373Z"
   },
   {
    "duration": 13,
    "start_time": "2025-01-26T03:27:44.605Z"
   },
   {
    "duration": 13,
    "start_time": "2025-01-26T03:27:44.620Z"
   },
   {
    "duration": 9,
    "start_time": "2025-01-26T03:27:44.635Z"
   },
   {
    "duration": 8,
    "start_time": "2025-01-26T03:27:44.646Z"
   },
   {
    "duration": 7,
    "start_time": "2025-01-26T03:27:44.656Z"
   },
   {
    "duration": 361,
    "start_time": "2025-01-26T03:27:44.665Z"
   },
   {
    "duration": 6,
    "start_time": "2025-01-26T03:27:45.032Z"
   },
   {
    "duration": 14,
    "start_time": "2025-01-26T03:27:45.040Z"
   },
   {
    "duration": 420,
    "start_time": "2025-01-26T03:27:45.056Z"
   },
   {
    "duration": 4,
    "start_time": "2025-01-26T03:27:45.478Z"
   },
   {
    "duration": 5,
    "start_time": "2025-01-26T03:27:45.484Z"
   },
   {
    "duration": 4,
    "start_time": "2025-01-26T03:27:45.490Z"
   },
   {
    "duration": 37,
    "start_time": "2025-01-26T03:27:45.495Z"
   },
   {
    "duration": 10,
    "start_time": "2025-01-26T03:27:45.534Z"
   },
   {
    "duration": 6,
    "start_time": "2025-01-26T03:27:45.546Z"
   },
   {
    "duration": 234,
    "start_time": "2025-01-26T03:27:45.554Z"
   },
   {
    "duration": 10,
    "start_time": "2025-01-26T03:27:45.790Z"
   },
   {
    "duration": 5,
    "start_time": "2025-01-26T03:27:45.802Z"
   },
   {
    "duration": 25,
    "start_time": "2025-01-26T03:27:45.809Z"
   },
   {
    "duration": 5,
    "start_time": "2025-01-26T03:27:45.835Z"
   },
   {
    "duration": 4,
    "start_time": "2025-01-26T03:27:45.842Z"
   },
   {
    "duration": 10,
    "start_time": "2025-01-26T03:27:45.850Z"
   },
   {
    "duration": 5,
    "start_time": "2025-01-26T03:27:45.861Z"
   },
   {
    "duration": 6,
    "start_time": "2025-01-26T03:27:45.867Z"
   },
   {
    "duration": 5,
    "start_time": "2025-01-26T03:27:45.874Z"
   },
   {
    "duration": 4,
    "start_time": "2025-01-26T03:27:45.881Z"
   },
   {
    "duration": 50,
    "start_time": "2025-01-26T03:27:45.887Z"
   },
   {
    "duration": 5,
    "start_time": "2025-01-26T03:27:45.939Z"
   },
   {
    "duration": 4,
    "start_time": "2025-01-26T03:27:45.945Z"
   },
   {
    "duration": 5,
    "start_time": "2025-01-26T03:27:45.951Z"
   },
   {
    "duration": 5,
    "start_time": "2025-01-26T03:27:45.958Z"
   },
   {
    "duration": 6,
    "start_time": "2025-01-26T03:27:45.964Z"
   },
   {
    "duration": 6,
    "start_time": "2025-01-26T03:27:45.971Z"
   },
   {
    "duration": 129,
    "start_time": "2025-01-26T03:35:10.049Z"
   },
   {
    "duration": 117,
    "start_time": "2025-01-26T03:35:36.332Z"
   },
   {
    "duration": 113,
    "start_time": "2025-01-26T03:37:16.522Z"
   },
   {
    "duration": 6,
    "start_time": "2025-01-26T03:38:44.251Z"
   },
   {
    "duration": 7,
    "start_time": "2025-01-26T03:38:46.651Z"
   },
   {
    "duration": 821,
    "start_time": "2025-01-26T03:52:34.530Z"
   },
   {
    "duration": 36,
    "start_time": "2025-01-26T03:52:35.353Z"
   },
   {
    "duration": 12,
    "start_time": "2025-01-26T03:52:35.391Z"
   },
   {
    "duration": 27,
    "start_time": "2025-01-26T03:52:35.406Z"
   },
   {
    "duration": 8,
    "start_time": "2025-01-26T03:52:35.435Z"
   },
   {
    "duration": 12,
    "start_time": "2025-01-26T03:52:35.444Z"
   },
   {
    "duration": 14,
    "start_time": "2025-01-26T03:52:35.458Z"
   },
   {
    "duration": 8,
    "start_time": "2025-01-26T03:52:35.474Z"
   },
   {
    "duration": 12,
    "start_time": "2025-01-26T03:52:35.484Z"
   },
   {
    "duration": 34,
    "start_time": "2025-01-26T03:52:35.499Z"
   },
   {
    "duration": 15,
    "start_time": "2025-01-26T03:52:35.534Z"
   },
   {
    "duration": 7,
    "start_time": "2025-01-26T03:52:35.551Z"
   },
   {
    "duration": 16,
    "start_time": "2025-01-26T03:52:35.559Z"
   },
   {
    "duration": 6,
    "start_time": "2025-01-26T03:52:35.576Z"
   },
   {
    "duration": 5,
    "start_time": "2025-01-26T03:52:35.584Z"
   },
   {
    "duration": 175,
    "start_time": "2025-01-26T03:52:35.591Z"
   },
   {
    "duration": 12,
    "start_time": "2025-01-26T03:52:35.767Z"
   },
   {
    "duration": 7,
    "start_time": "2025-01-26T03:52:35.781Z"
   },
   {
    "duration": 8,
    "start_time": "2025-01-26T03:52:35.790Z"
   },
   {
    "duration": 1201,
    "start_time": "2025-01-26T03:52:35.799Z"
   },
   {
    "duration": 13,
    "start_time": "2025-01-26T03:52:37.002Z"
   },
   {
    "duration": 12,
    "start_time": "2025-01-26T03:52:37.017Z"
   },
   {
    "duration": 8,
    "start_time": "2025-01-26T03:52:37.031Z"
   },
   {
    "duration": 7,
    "start_time": "2025-01-26T03:52:37.041Z"
   },
   {
    "duration": 7,
    "start_time": "2025-01-26T03:52:37.050Z"
   },
   {
    "duration": 372,
    "start_time": "2025-01-26T03:52:37.059Z"
   },
   {
    "duration": 6,
    "start_time": "2025-01-26T03:52:37.433Z"
   },
   {
    "duration": 12,
    "start_time": "2025-01-26T03:52:37.443Z"
   },
   {
    "duration": 431,
    "start_time": "2025-01-26T03:52:37.456Z"
   },
   {
    "duration": 5,
    "start_time": "2025-01-26T03:52:37.889Z"
   },
   {
    "duration": 4,
    "start_time": "2025-01-26T03:52:37.895Z"
   },
   {
    "duration": 4,
    "start_time": "2025-01-26T03:52:37.901Z"
   },
   {
    "duration": 31,
    "start_time": "2025-01-26T03:52:37.906Z"
   },
   {
    "duration": 13,
    "start_time": "2025-01-26T03:52:37.939Z"
   },
   {
    "duration": 8,
    "start_time": "2025-01-26T03:52:37.954Z"
   },
   {
    "duration": 245,
    "start_time": "2025-01-26T03:52:37.963Z"
   },
   {
    "duration": 32,
    "start_time": "2025-01-26T03:52:38.209Z"
   },
   {
    "duration": 5,
    "start_time": "2025-01-26T03:52:38.242Z"
   },
   {
    "duration": 5,
    "start_time": "2025-01-26T03:52:38.249Z"
   },
   {
    "duration": 6,
    "start_time": "2025-01-26T03:52:38.255Z"
   },
   {
    "duration": 4,
    "start_time": "2025-01-26T03:52:38.262Z"
   },
   {
    "duration": 13,
    "start_time": "2025-01-26T03:52:38.268Z"
   },
   {
    "duration": 5,
    "start_time": "2025-01-26T03:52:38.282Z"
   },
   {
    "duration": 45,
    "start_time": "2025-01-26T03:52:38.288Z"
   },
   {
    "duration": 6,
    "start_time": "2025-01-26T03:52:38.334Z"
   },
   {
    "duration": 6,
    "start_time": "2025-01-26T03:52:38.341Z"
   },
   {
    "duration": 10,
    "start_time": "2025-01-26T03:52:38.348Z"
   },
   {
    "duration": 4,
    "start_time": "2025-01-26T03:52:38.360Z"
   },
   {
    "duration": 5,
    "start_time": "2025-01-26T03:52:38.366Z"
   },
   {
    "duration": 5,
    "start_time": "2025-01-26T03:52:38.372Z"
   },
   {
    "duration": 5,
    "start_time": "2025-01-26T03:52:38.378Z"
   },
   {
    "duration": 47,
    "start_time": "2025-01-26T03:52:38.384Z"
   },
   {
    "duration": 7,
    "start_time": "2025-01-26T03:52:38.433Z"
   },
   {
    "duration": 308,
    "start_time": "2025-01-26T04:41:39.308Z"
   },
   {
    "duration": 59,
    "start_time": "2025-01-26T04:43:07.208Z"
   },
   {
    "duration": 174,
    "start_time": "2025-01-26T04:45:33.583Z"
   },
   {
    "duration": 60,
    "start_time": "2025-01-26T04:45:48.638Z"
   },
   {
    "duration": 18,
    "start_time": "2025-01-26T04:46:36.828Z"
   },
   {
    "duration": 60,
    "start_time": "2025-01-26T04:46:45.789Z"
   },
   {
    "duration": 16,
    "start_time": "2025-01-26T04:47:15.311Z"
   },
   {
    "duration": 108,
    "start_time": "2025-01-26T04:48:29.542Z"
   },
   {
    "duration": 118,
    "start_time": "2025-01-26T04:50:25.521Z"
   },
   {
    "duration": 99,
    "start_time": "2025-01-26T04:51:36.893Z"
   },
   {
    "duration": 100,
    "start_time": "2025-01-26T04:52:28.782Z"
   },
   {
    "duration": 101,
    "start_time": "2025-01-26T04:52:38.457Z"
   },
   {
    "duration": 167,
    "start_time": "2025-01-26T04:53:49.876Z"
   },
   {
    "duration": 102,
    "start_time": "2025-01-26T04:56:22.561Z"
   },
   {
    "duration": 99,
    "start_time": "2025-01-26T04:57:25.762Z"
   },
   {
    "duration": 99,
    "start_time": "2025-01-26T04:58:25.720Z"
   },
   {
    "duration": 107,
    "start_time": "2025-01-26T04:59:21.833Z"
   },
   {
    "duration": 95,
    "start_time": "2025-01-26T05:01:12.072Z"
   },
   {
    "duration": 97,
    "start_time": "2025-01-26T05:02:16.428Z"
   },
   {
    "duration": 110,
    "start_time": "2025-01-26T05:03:19.759Z"
   },
   {
    "duration": 97,
    "start_time": "2025-01-26T05:04:15.070Z"
   },
   {
    "duration": 357,
    "start_time": "2025-01-26T05:07:30.494Z"
   },
   {
    "duration": 358,
    "start_time": "2025-01-26T05:07:48.241Z"
   },
   {
    "duration": 382,
    "start_time": "2025-01-26T05:08:11.061Z"
   },
   {
    "duration": 476,
    "start_time": "2025-01-26T05:08:20.755Z"
   },
   {
    "duration": 105,
    "start_time": "2025-01-26T05:10:38.810Z"
   },
   {
    "duration": 106,
    "start_time": "2025-01-26T05:11:06.496Z"
   },
   {
    "duration": 100,
    "start_time": "2025-01-26T05:11:44.933Z"
   },
   {
    "duration": 106,
    "start_time": "2025-01-26T05:12:16.093Z"
   },
   {
    "duration": 105,
    "start_time": "2025-01-26T05:13:42.705Z"
   },
   {
    "duration": 101,
    "start_time": "2025-01-26T05:14:19.867Z"
   },
   {
    "duration": 106,
    "start_time": "2025-01-26T05:15:34.703Z"
   },
   {
    "duration": 104,
    "start_time": "2025-01-26T05:16:09.885Z"
   },
   {
    "duration": 103,
    "start_time": "2025-01-26T05:16:48.313Z"
   },
   {
    "duration": 106,
    "start_time": "2025-01-26T05:17:15.448Z"
   },
   {
    "duration": 101,
    "start_time": "2025-01-26T05:18:09.274Z"
   },
   {
    "duration": 109,
    "start_time": "2025-01-26T05:18:37.145Z"
   },
   {
    "duration": 109,
    "start_time": "2025-01-26T05:19:14.529Z"
   },
   {
    "duration": 95,
    "start_time": "2025-01-26T05:19:48.986Z"
   },
   {
    "duration": 6,
    "start_time": "2025-01-26T05:20:40.475Z"
   },
   {
    "duration": 7,
    "start_time": "2025-01-26T05:21:06.820Z"
   },
   {
    "duration": 7,
    "start_time": "2025-01-26T05:34:11.197Z"
   },
   {
    "duration": 15,
    "start_time": "2025-01-26T05:34:13.069Z"
   },
   {
    "duration": 857,
    "start_time": "2025-01-26T05:34:25.214Z"
   },
   {
    "duration": 38,
    "start_time": "2025-01-26T05:34:26.074Z"
   },
   {
    "duration": 20,
    "start_time": "2025-01-26T05:34:26.114Z"
   },
   {
    "duration": 13,
    "start_time": "2025-01-26T05:34:26.136Z"
   },
   {
    "duration": 7,
    "start_time": "2025-01-26T05:34:26.151Z"
   },
   {
    "duration": 15,
    "start_time": "2025-01-26T05:34:26.160Z"
   },
   {
    "duration": 8,
    "start_time": "2025-01-26T05:34:26.177Z"
   },
   {
    "duration": 15,
    "start_time": "2025-01-26T05:34:26.186Z"
   },
   {
    "duration": 11,
    "start_time": "2025-01-26T05:34:26.231Z"
   },
   {
    "duration": 4,
    "start_time": "2025-01-26T05:34:26.246Z"
   },
   {
    "duration": 13,
    "start_time": "2025-01-26T05:34:26.251Z"
   },
   {
    "duration": 6,
    "start_time": "2025-01-26T05:34:26.266Z"
   },
   {
    "duration": 13,
    "start_time": "2025-01-26T05:34:26.274Z"
   },
   {
    "duration": 6,
    "start_time": "2025-01-26T05:34:26.288Z"
   },
   {
    "duration": 37,
    "start_time": "2025-01-26T05:34:26.295Z"
   },
   {
    "duration": 132,
    "start_time": "2025-01-26T05:34:26.333Z"
   },
   {
    "duration": 11,
    "start_time": "2025-01-26T05:34:26.467Z"
   },
   {
    "duration": 6,
    "start_time": "2025-01-26T05:34:26.480Z"
   },
   {
    "duration": 8,
    "start_time": "2025-01-26T05:34:26.487Z"
   },
   {
    "duration": 1232,
    "start_time": "2025-01-26T05:34:26.496Z"
   },
   {
    "duration": 14,
    "start_time": "2025-01-26T05:34:27.729Z"
   },
   {
    "duration": 13,
    "start_time": "2025-01-26T05:34:27.745Z"
   },
   {
    "duration": 8,
    "start_time": "2025-01-26T05:34:27.760Z"
   },
   {
    "duration": 8,
    "start_time": "2025-01-26T05:34:27.770Z"
   },
   {
    "duration": 7,
    "start_time": "2025-01-26T05:34:27.780Z"
   },
   {
    "duration": 362,
    "start_time": "2025-01-26T05:34:27.788Z"
   },
   {
    "duration": 7,
    "start_time": "2025-01-26T05:34:28.152Z"
   },
   {
    "duration": 16,
    "start_time": "2025-01-26T05:34:28.165Z"
   },
   {
    "duration": 410,
    "start_time": "2025-01-26T05:34:28.183Z"
   },
   {
    "duration": 4,
    "start_time": "2025-01-26T05:34:28.595Z"
   },
   {
    "duration": 4,
    "start_time": "2025-01-26T05:34:28.601Z"
   },
   {
    "duration": 4,
    "start_time": "2025-01-26T05:34:28.607Z"
   },
   {
    "duration": 13,
    "start_time": "2025-01-26T05:34:28.631Z"
   },
   {
    "duration": 9,
    "start_time": "2025-01-26T05:34:28.646Z"
   },
   {
    "duration": 6,
    "start_time": "2025-01-26T05:34:28.657Z"
   },
   {
    "duration": 239,
    "start_time": "2025-01-26T05:34:28.664Z"
   },
   {
    "duration": 335,
    "start_time": "2025-01-26T05:34:28.932Z"
   },
   {
    "duration": 10,
    "start_time": "2025-01-26T05:34:29.269Z"
   },
   {
    "duration": 6,
    "start_time": "2025-01-26T05:34:29.281Z"
   },
   {
    "duration": 118,
    "start_time": "2025-01-26T05:34:29.288Z"
   },
   {
    "duration": 6,
    "start_time": "2025-01-26T05:34:29.407Z"
   },
   {
    "duration": 190,
    "start_time": "2025-01-26T05:34:29.414Z"
   },
   {
    "duration": 5,
    "start_time": "2025-01-26T05:34:29.606Z"
   },
   {
    "duration": 112,
    "start_time": "2025-01-26T05:34:29.613Z"
   },
   {
    "duration": 5,
    "start_time": "2025-01-26T05:34:29.731Z"
   },
   {
    "duration": 108,
    "start_time": "2025-01-26T05:34:29.738Z"
   },
   {
    "duration": 10,
    "start_time": "2025-01-26T05:34:29.848Z"
   },
   {
    "duration": 5,
    "start_time": "2025-01-26T05:34:29.859Z"
   },
   {
    "duration": 126,
    "start_time": "2025-01-26T05:34:29.865Z"
   },
   {
    "duration": 6,
    "start_time": "2025-01-26T05:34:29.993Z"
   },
   {
    "duration": 118,
    "start_time": "2025-01-26T05:34:30.000Z"
   },
   {
    "duration": 6,
    "start_time": "2025-01-26T05:34:30.119Z"
   },
   {
    "duration": 109,
    "start_time": "2025-01-26T05:34:30.132Z"
   },
   {
    "duration": 8,
    "start_time": "2025-01-26T05:34:30.244Z"
   },
   {
    "duration": 129,
    "start_time": "2025-01-26T05:34:30.254Z"
   },
   {
    "duration": 10,
    "start_time": "2025-01-26T05:34:30.385Z"
   },
   {
    "duration": 6,
    "start_time": "2025-01-26T05:34:30.397Z"
   },
   {
    "duration": 128,
    "start_time": "2025-01-26T05:34:30.405Z"
   },
   {
    "duration": 5,
    "start_time": "2025-01-26T05:34:30.535Z"
   },
   {
    "duration": 116,
    "start_time": "2025-01-26T05:34:30.541Z"
   },
   {
    "duration": 5,
    "start_time": "2025-01-26T05:34:30.658Z"
   },
   {
    "duration": 122,
    "start_time": "2025-01-26T05:34:30.665Z"
   },
   {
    "duration": 5,
    "start_time": "2025-01-26T05:34:30.788Z"
   },
   {
    "duration": 110,
    "start_time": "2025-01-26T05:34:30.795Z"
   },
   {
    "duration": 7,
    "start_time": "2025-01-26T05:34:30.906Z"
   },
   {
    "duration": 19,
    "start_time": "2025-01-26T05:34:30.914Z"
   }
  ],
  "kernelspec": {
   "display_name": "Python 3 (ipykernel)",
   "language": "python",
   "name": "python3"
  },
  "language_info": {
   "codemirror_mode": {
    "name": "ipython",
    "version": 3
   },
   "file_extension": ".py",
   "mimetype": "text/x-python",
   "name": "python",
   "nbconvert_exporter": "python",
   "pygments_lexer": "ipython3",
   "version": "3.9.19"
  },
  "toc": {
   "base_numbering": 1,
   "nav_menu": {},
   "number_sections": true,
   "sideBar": true,
   "skip_h1_title": true,
   "title_cell": "Table of Contents",
   "title_sidebar": "Contents",
   "toc_cell": false,
   "toc_position": {},
   "toc_section_display": true,
   "toc_window_display": false
  }
 },
 "nbformat": 4,
 "nbformat_minor": 2
}
