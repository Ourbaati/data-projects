{
 "cells": [
  {
   "cell_type": "markdown",
   "metadata": {},
   "source": [
    "<h1 style='text-align: center; front-size: 50px;'>Does the weather impact the duration of rides?</h1>"
   ]
  },
  {
   "cell_type": "markdown",
   "metadata": {},
   "source": [
    "# Introduction:\n",
    "\n",
    "In this project, we will work with data from **'Zuber'**, a new ride-sharing company that's launching in Chicago. Our mission is to find patterns in the available information and try to understand passenger preferences and the impact of external factors on rides. We'll analyze data from competitors and test a hypothesis about the impact of weather on ride frequency. This will allow us to improve customer experiance and optimize scheduling and routing.The dataset is stored in two files (project_sql_result_01.csv), (project_sql_result_04.csv). During data preprocessing, we will:\n",
    "\n",
    "- Load and display the dataset in a standardized format.\n",
    "- Verify and correct data types.\n",
    "- Identify and handle missing values.\n",
    "- Detect and remove duplicate entries.\n",
    "- Identify the top 10 neighborhoods in terms of drop-offs.\n",
    "- Create visualizations to clearly communicate insights from the data.\n",
    "\n",
    "By following this process, we aim to produce a detailed report that provides actionable insights for business strategy."
   ]
  },
  {
   "cell_type": "markdown",
   "metadata": {},
   "source": [
    "# Step 1. Initialization:"
   ]
  },
  {
   "cell_type": "code",
   "execution_count": null,
   "metadata": {},
   "outputs": [],
   "source": [
    "# Loading all the libraries\n",
    "import pandas as pd\n",
    "import numpy as np\n",
    "import seaborn as sns\n",
    "import math\n",
    "import matplotlib.pyplot as plt\n",
    "import scipy.stats as stats"
   ]
  },
  {
   "cell_type": "markdown",
   "metadata": {},
   "source": [
    "# Step 2. Load data:"
   ]
  },
  {
   "cell_type": "code",
   "execution_count": null,
   "metadata": {},
   "outputs": [],
   "source": [
    "# Loading the data files into different DataFrames:\n",
    "company_name_trips = pd.read_csv('/datasets/project_sql_result_01.csv')\n",
    "dropoff_avg_trip = pd.read_csv('/datasets/project_sql_result_04.csv')\n",
    "weather_duration = pd.read_csv('/datasets/project_sql_result_07.csv')"
   ]
  },
  {
   "cell_type": "markdown",
   "metadata": {},
   "source": [
    "# Step 3. Preparing and Fixing the Data:"
   ]
  },
  {
   "cell_type": "markdown",
   "metadata": {},
   "source": [
    "### Company_name_trips:"
   ]
  },
  {
   "cell_type": "code",
   "execution_count": null,
   "metadata": {},
   "outputs": [],
   "source": [
    "# Printing the DataFrame:\n",
    "company_name_trips.head()"
   ]
  },
  {
   "cell_type": "code",
   "execution_count": null,
   "metadata": {},
   "outputs": [],
   "source": [
    "# Data overview:\n",
    "company_name_trips.info()"
   ]
  },
  {
   "cell_type": "code",
   "execution_count": null,
   "metadata": {},
   "outputs": [],
   "source": [
    "# Checking for missing values:\n",
    "company_name_trips.isna().sum()"
   ]
  },
  {
   "cell_type": "code",
   "execution_count": null,
   "metadata": {},
   "outputs": [],
   "source": [
    "# Checking for duplicates:\n",
    "company_name_trips.duplicated().sum()"
   ]
  },
  {
   "cell_type": "markdown",
   "metadata": {},
   "source": [
    "### Dropoff_avg_trip:"
   ]
  },
  {
   "cell_type": "code",
   "execution_count": null,
   "metadata": {},
   "outputs": [],
   "source": [
    "# Printing the DataFrame:\n",
    "dropoff_avg_trip.head()"
   ]
  },
  {
   "cell_type": "code",
   "execution_count": null,
   "metadata": {},
   "outputs": [],
   "source": [
    "# Data overview:\n",
    "dropoff_avg_trip.info()"
   ]
  },
  {
   "cell_type": "code",
   "execution_count": null,
   "metadata": {},
   "outputs": [],
   "source": [
    "# Converting 'average_trips' into Integer:\n",
    "dropoff_avg_trip['average_trips'] = dropoff_avg_trip['average_trips'].astype(int)"
   ]
  },
  {
   "cell_type": "code",
   "execution_count": null,
   "metadata": {},
   "outputs": [],
   "source": [
    "# Checking for missing values:\n",
    "dropoff_avg_trip.isna().sum()"
   ]
  },
  {
   "cell_type": "code",
   "execution_count": null,
   "metadata": {},
   "outputs": [],
   "source": [
    "# Checking for duplicates:\n",
    "dropoff_avg_trip.duplicated().sum()"
   ]
  },
  {
   "cell_type": "markdown",
   "metadata": {},
   "source": [
    "### Weather_duration:"
   ]
  },
  {
   "cell_type": "code",
   "execution_count": null,
   "metadata": {},
   "outputs": [],
   "source": [
    "# Printing the DataFrame:\n",
    "weather_duration.head()"
   ]
  },
  {
   "cell_type": "code",
   "execution_count": null,
   "metadata": {},
   "outputs": [],
   "source": [
    "# Data overview:\n",
    "weather_duration.info()"
   ]
  },
  {
   "cell_type": "code",
   "execution_count": null,
   "metadata": {},
   "outputs": [],
   "source": [
    "# Checking for missing values:\n",
    "weather_duration.isna().sum()"
   ]
  },
  {
   "cell_type": "code",
   "execution_count": null,
   "metadata": {},
   "outputs": [],
   "source": [
    "# Converting 'start_ts' into datetime:\n",
    "weather_duration['start_ts'] = pd.to_datetime(weather_duration['start_ts'])"
   ]
  },
  {
   "cell_type": "markdown",
   "metadata": {},
   "source": [
    "# Step 4. Analyzing the data:"
   ]
  },
  {
   "cell_type": "code",
   "execution_count": null,
   "metadata": {},
   "outputs": [],
   "source": [
    "# Identifying the top 10 neighborhoods in terms of drop-offs:\n",
    "top_10_neighborhoods = dropoff_avg_trip.sort_values(by='average_trips', ascending=False).reset_index(drop=True).head(10)\n",
    "top_10_neighborhoods"
   ]
  },
  {
   "cell_type": "code",
   "execution_count": null,
   "metadata": {},
   "outputs": [],
   "source": [
    "# Barplot showing Top 10 Neighborhoods by Average Trips:\n",
    "plt.figure(figsize=(10, 6))\n",
    "sns.barplot(data=top_10_neighborhoods, x='dropoff_location_name', y='average_trips', palette='Blues_r')\n",
    "plt.title('Top 10 Neighborhoods by Average Trips')\n",
    "plt.xlabel('Neighborhoods')\n",
    "plt.ylabel('Average Trips')\n",
    "plt.xticks(rotation=45, ha='right')\n",
    "plt.show()"
   ]
  },
  {
   "cell_type": "markdown",
   "metadata": {},
   "source": [
    "The graph shows that **The Loop** has the highest average trips, making it the primary transportation destination, followed by **River North** and **Streeterville**, likely due to entertainment activities. **O'Hare Airport** ranks high, indicating strong demand for airport transfers, while trip volume gradually declines across the rest of the destinations.  "
   ]
  },
  {
   "cell_type": "code",
   "execution_count": null,
   "metadata": {},
   "outputs": [],
   "source": [
    "# Identifying the top 10 companies in terms of number of trips:\n",
    "top_10_companies = company_name_trips.sort_values(by='trips_amount', ascending=False).reset_index(drop=True).head(10)\n",
    "top_10_companies"
   ]
  },
  {
   "cell_type": "code",
   "execution_count": null,
   "metadata": {},
   "outputs": [],
   "source": [
    "# Barplot showing Top 10 Companies by Number of Trips:\n",
    "plt.figure(figsize=(10, 6))\n",
    "sns.barplot(data=top_10_companies, x='company_name', y='trips_amount', palette='Greens_r')\n",
    "plt.title('Top 10 Companies by Number of Trips')\n",
    "plt.xlabel('Companies')\n",
    "plt.ylabel('Number of Trips')\n",
    "plt.xticks(rotation=45, ha='right')\n",
    "plt.show()"
   ]
  },
  {
   "cell_type": "markdown",
   "metadata": {},
   "source": [
    "The graph shows that **Flash Cab** dominates the transportion market, handling far more trips than its competitors. The remaining companies have a gradual decline in trips volume. This indicates that the smaller companies can work on improving thier services or pricing to gain market share. Additionally, analyzing factors like customer satisfaction, or geographic coverage could explain why **Flash Cab** outperforms the others. "
   ]
  },
  {
   "cell_type": "markdown",
   "metadata": {},
   "source": [
    "# Step 5. Testing the hypotheses:\n"
   ]
  },
  {
   "cell_type": "code",
   "execution_count": null,
   "metadata": {},
   "outputs": [],
   "source": [
    "# Createing the box plot:\n",
    "plt.figure(figsize=(8,5))\n",
    "sns.boxplot(x='weather_conditions', y='duration_seconds', data=weather_duration)\n",
    "plt.xlabel('Weather Condition')\n",
    "plt.ylabel('Duration in Seconds')\n",
    "plt.title('Boxplot of Ride Duration')\n",
    "plt.show()"
   ]
  },
  {
   "cell_type": "markdown",
   "metadata": {},
   "source": [
    "The Boxplot shows that rides durations tend to be longer in **Bad Weather**, with a higher median and greater variability, likely due to slower driving speeds and reduced visibility. However, **Good Weather** also shows more extreme ride durations, possibly due to increased demand and hifgher traffic volume. "
   ]
  },
  {
   "cell_type": "markdown",
   "metadata": {},
   "source": [
    "#Test the hypotheses:\n",
    "\n",
    "- Null Hypothesis (H_0): Average duration of rides from the Loop to O'Hare International Airport doesn't changes on rainy Saturdays.\n",
    "\n",
    "- Alternative Hypothesis (H_1): Average duration of rides from the Loop to O'Hare International Airport changes on rainy Saturdays."
   ]
  },
  {
   "cell_type": "code",
   "execution_count": null,
   "metadata": {},
   "outputs": [],
   "source": [
    "# Extracting Good and Bad weather condition from the dataset:\n",
    "bad_saturdays = weather_duration[weather_duration['weather_conditions'] == 'Bad']['duration_seconds']\n",
    "good_saturdays = weather_duration[weather_duration['weather_conditions'] == 'Good']['duration_seconds']\n",
    "\n",
    "# Conducting the t-test:\n",
    "t_stat, p_value = stats.ttest_ind(bad_saturdays, good_saturdays, equal_var=False)\n",
    "\n",
    "# Printing the results:\n",
    "print(f\"T-statistic: {t_stat}, P-value: {p_value}\")\n",
    "\n",
    "# Interpretation:\n",
    "if p_value < 0.05:\n",
    "    print(\"Reject the null hypothesis: Average duration of rides changes on rainy Saturdays.\")\n",
    "else:\n",
    "    print(\"Fail to reject the null hypothesis: No significant difference in average duration of rides on rainy Saturdays.\")"
   ]
  },
  {
   "cell_type": "markdown",
   "metadata": {},
   "source": [
    "Our analysis found a statistically significant difference in ride duration on rainy Saturdays (p-value ~ 0). This means that the rain significantly impacts travel time, likely due to factors such as traffic and slower driving speeds. For service optimization, it's recommended to dispatch drivers accordenlly, and consider dynamic pricing during rainy conditions."
   ]
  }
 ],
 "metadata": {
  "ExecuteTimeLog": [
   {
    "duration": 2609,
    "start_time": "2025-02-03T18:02:08.532Z"
   },
   {
    "duration": 840,
    "start_time": "2025-02-03T18:02:38.832Z"
   },
   {
    "duration": 616,
    "start_time": "2025-02-03T18:06:30.230Z"
   },
   {
    "duration": 1046,
    "start_time": "2025-02-03T18:07:03.027Z"
   },
   {
    "duration": 633,
    "start_time": "2025-02-03T18:07:04.076Z"
   },
   {
    "duration": 0,
    "start_time": "2025-02-03T18:07:04.711Z"
   },
   {
    "duration": 85,
    "start_time": "2025-02-03T18:07:17.005Z"
   },
   {
    "duration": 8,
    "start_time": "2025-02-03T18:07:47.120Z"
   },
   {
    "duration": 7,
    "start_time": "2025-02-03T18:07:50.980Z"
   },
   {
    "duration": 11,
    "start_time": "2025-02-03T18:07:52.760Z"
   },
   {
    "duration": 7,
    "start_time": "2025-02-03T18:08:56.694Z"
   },
   {
    "duration": 9,
    "start_time": "2025-02-03T18:09:22.031Z"
   },
   {
    "duration": 10,
    "start_time": "2025-02-03T18:12:38.073Z"
   },
   {
    "duration": 8,
    "start_time": "2025-02-03T18:12:47.028Z"
   },
   {
    "duration": 770,
    "start_time": "2025-02-03T18:14:13.189Z"
   },
   {
    "duration": 9,
    "start_time": "2025-02-03T18:14:13.961Z"
   },
   {
    "duration": 8,
    "start_time": "2025-02-03T18:17:15.716Z"
   },
   {
    "duration": 9,
    "start_time": "2025-02-03T18:18:44.341Z"
   },
   {
    "duration": 5,
    "start_time": "2025-02-03T18:19:58.684Z"
   },
   {
    "duration": 287,
    "start_time": "2025-02-03T18:20:37.396Z"
   },
   {
    "duration": 13,
    "start_time": "2025-02-03T18:20:52.582Z"
   },
   {
    "duration": 5,
    "start_time": "2025-02-03T18:21:06.980Z"
   },
   {
    "duration": 6,
    "start_time": "2025-02-03T18:24:19.064Z"
   },
   {
    "duration": 8,
    "start_time": "2025-02-03T18:25:09.517Z"
   },
   {
    "duration": 5,
    "start_time": "2025-02-03T18:26:10.347Z"
   },
   {
    "duration": 4,
    "start_time": "2025-02-03T18:26:33.718Z"
   },
   {
    "duration": 764,
    "start_time": "2025-02-03T18:26:53.709Z"
   },
   {
    "duration": 9,
    "start_time": "2025-02-03T18:26:54.475Z"
   },
   {
    "duration": 8,
    "start_time": "2025-02-03T18:26:54.486Z"
   },
   {
    "duration": 8,
    "start_time": "2025-02-03T18:26:54.496Z"
   },
   {
    "duration": 24,
    "start_time": "2025-02-03T18:26:54.507Z"
   },
   {
    "duration": 5,
    "start_time": "2025-02-03T18:26:54.532Z"
   },
   {
    "duration": 7,
    "start_time": "2025-02-03T18:26:54.538Z"
   },
   {
    "duration": 16,
    "start_time": "2025-02-03T18:26:54.546Z"
   },
   {
    "duration": 6,
    "start_time": "2025-02-03T18:26:54.564Z"
   },
   {
    "duration": 4,
    "start_time": "2025-02-03T18:26:54.572Z"
   },
   {
    "duration": 7,
    "start_time": "2025-02-03T18:37:44.291Z"
   },
   {
    "duration": 230,
    "start_time": "2025-02-03T18:40:51.158Z"
   },
   {
    "duration": 255,
    "start_time": "2025-02-03T18:42:10.133Z"
   },
   {
    "duration": 313,
    "start_time": "2025-02-03T18:42:30.950Z"
   },
   {
    "duration": 270,
    "start_time": "2025-02-03T18:42:45.409Z"
   },
   {
    "duration": 207,
    "start_time": "2025-02-03T18:45:46.982Z"
   },
   {
    "duration": 201,
    "start_time": "2025-02-03T18:46:04.094Z"
   },
   {
    "duration": 215,
    "start_time": "2025-02-03T18:46:46.352Z"
   },
   {
    "duration": 205,
    "start_time": "2025-02-03T18:47:12.483Z"
   },
   {
    "duration": 6,
    "start_time": "2025-02-03T18:48:39.660Z"
   },
   {
    "duration": 217,
    "start_time": "2025-02-03T18:48:47.680Z"
   },
   {
    "duration": 787,
    "start_time": "2025-02-03T18:50:55.177Z"
   },
   {
    "duration": 10,
    "start_time": "2025-02-03T18:50:55.966Z"
   },
   {
    "duration": 8,
    "start_time": "2025-02-03T18:50:55.977Z"
   },
   {
    "duration": 8,
    "start_time": "2025-02-03T18:50:55.987Z"
   },
   {
    "duration": 5,
    "start_time": "2025-02-03T18:50:55.996Z"
   },
   {
    "duration": 5,
    "start_time": "2025-02-03T18:50:56.002Z"
   },
   {
    "duration": 7,
    "start_time": "2025-02-03T18:50:56.031Z"
   },
   {
    "duration": 8,
    "start_time": "2025-02-03T18:50:56.039Z"
   },
   {
    "duration": 5,
    "start_time": "2025-02-03T18:50:56.048Z"
   },
   {
    "duration": 4,
    "start_time": "2025-02-03T18:50:56.055Z"
   },
   {
    "duration": 7,
    "start_time": "2025-02-03T18:50:56.060Z"
   },
   {
    "duration": 299,
    "start_time": "2025-02-03T18:50:56.068Z"
   },
   {
    "duration": 147,
    "start_time": "2025-02-03T18:54:18.976Z"
   },
   {
    "duration": 208,
    "start_time": "2025-02-03T18:56:04.638Z"
   },
   {
    "duration": 151,
    "start_time": "2025-02-03T18:58:00.794Z"
   },
   {
    "duration": 154,
    "start_time": "2025-02-03T18:58:46.585Z"
   },
   {
    "duration": 152,
    "start_time": "2025-02-03T18:59:52.986Z"
   },
   {
    "duration": 151,
    "start_time": "2025-02-03T19:00:06.938Z"
   },
   {
    "duration": 791,
    "start_time": "2025-02-03T19:02:33.301Z"
   },
   {
    "duration": 9,
    "start_time": "2025-02-03T19:02:34.095Z"
   },
   {
    "duration": 8,
    "start_time": "2025-02-03T19:02:34.106Z"
   },
   {
    "duration": 21,
    "start_time": "2025-02-03T19:02:34.116Z"
   },
   {
    "duration": 5,
    "start_time": "2025-02-03T19:02:34.140Z"
   },
   {
    "duration": 5,
    "start_time": "2025-02-03T19:02:34.146Z"
   },
   {
    "duration": 6,
    "start_time": "2025-02-03T19:02:34.152Z"
   },
   {
    "duration": 7,
    "start_time": "2025-02-03T19:02:34.160Z"
   },
   {
    "duration": 5,
    "start_time": "2025-02-03T19:02:34.169Z"
   },
   {
    "duration": 5,
    "start_time": "2025-02-03T19:02:34.176Z"
   },
   {
    "duration": 49,
    "start_time": "2025-02-03T19:02:34.182Z"
   },
   {
    "duration": 189,
    "start_time": "2025-02-03T19:02:34.234Z"
   },
   {
    "duration": 1168,
    "start_time": "2025-02-03T19:15:37.203Z"
   },
   {
    "duration": 128,
    "start_time": "2025-02-03T19:18:14.399Z"
   },
   {
    "duration": 6,
    "start_time": "2025-02-03T19:18:47.496Z"
   },
   {
    "duration": 177,
    "start_time": "2025-02-03T19:19:11.438Z"
   },
   {
    "duration": 174,
    "start_time": "2025-02-03T19:19:45.063Z"
   },
   {
    "duration": 175,
    "start_time": "2025-02-03T19:21:23.680Z"
   },
   {
    "duration": 182,
    "start_time": "2025-02-03T19:22:01.841Z"
   },
   {
    "duration": 150,
    "start_time": "2025-02-03T19:22:35.169Z"
   },
   {
    "duration": 832,
    "start_time": "2025-02-03T19:33:50.025Z"
   },
   {
    "duration": 10,
    "start_time": "2025-02-03T19:33:50.859Z"
   },
   {
    "duration": 9,
    "start_time": "2025-02-03T19:33:50.871Z"
   },
   {
    "duration": 8,
    "start_time": "2025-02-03T19:33:50.882Z"
   },
   {
    "duration": 4,
    "start_time": "2025-02-03T19:33:50.893Z"
   },
   {
    "duration": 4,
    "start_time": "2025-02-03T19:33:50.899Z"
   },
   {
    "duration": 30,
    "start_time": "2025-02-03T19:33:50.905Z"
   },
   {
    "duration": 8,
    "start_time": "2025-02-03T19:33:50.937Z"
   },
   {
    "duration": 6,
    "start_time": "2025-02-03T19:33:50.947Z"
   },
   {
    "duration": 5,
    "start_time": "2025-02-03T19:33:50.954Z"
   },
   {
    "duration": 8,
    "start_time": "2025-02-03T19:33:50.961Z"
   },
   {
    "duration": 207,
    "start_time": "2025-02-03T19:33:50.970Z"
   },
   {
    "duration": 7,
    "start_time": "2025-02-03T19:33:51.179Z"
   },
   {
    "duration": 223,
    "start_time": "2025-02-03T19:33:51.189Z"
   },
   {
    "duration": 2563,
    "start_time": "2025-02-04T04:30:24.068Z"
   },
   {
    "duration": 12,
    "start_time": "2025-02-04T04:30:26.635Z"
   },
   {
    "duration": 8,
    "start_time": "2025-02-04T04:30:26.649Z"
   },
   {
    "duration": 8,
    "start_time": "2025-02-04T04:30:26.660Z"
   },
   {
    "duration": 5,
    "start_time": "2025-02-04T04:30:26.670Z"
   },
   {
    "duration": 29,
    "start_time": "2025-02-04T04:30:26.677Z"
   },
   {
    "duration": 6,
    "start_time": "2025-02-04T04:30:26.708Z"
   },
   {
    "duration": 8,
    "start_time": "2025-02-04T04:30:26.716Z"
   },
   {
    "duration": 4,
    "start_time": "2025-02-04T04:30:26.727Z"
   },
   {
    "duration": 5,
    "start_time": "2025-02-04T04:30:26.733Z"
   },
   {
    "duration": 6,
    "start_time": "2025-02-04T04:30:26.740Z"
   },
   {
    "duration": 200,
    "start_time": "2025-02-04T04:30:26.748Z"
   },
   {
    "duration": 8,
    "start_time": "2025-02-04T04:30:26.950Z"
   },
   {
    "duration": 202,
    "start_time": "2025-02-04T04:30:26.959Z"
   },
   {
    "duration": 778,
    "start_time": "2025-02-04T04:39:15.260Z"
   },
   {
    "duration": 12,
    "start_time": "2025-02-04T04:39:16.040Z"
   },
   {
    "duration": 8,
    "start_time": "2025-02-04T04:39:16.053Z"
   },
   {
    "duration": 8,
    "start_time": "2025-02-04T04:39:16.064Z"
   },
   {
    "duration": 5,
    "start_time": "2025-02-04T04:39:16.073Z"
   },
   {
    "duration": 27,
    "start_time": "2025-02-04T04:39:16.079Z"
   },
   {
    "duration": 5,
    "start_time": "2025-02-04T04:39:16.108Z"
   },
   {
    "duration": 8,
    "start_time": "2025-02-04T04:39:16.115Z"
   },
   {
    "duration": 5,
    "start_time": "2025-02-04T04:39:16.124Z"
   },
   {
    "duration": 5,
    "start_time": "2025-02-04T04:39:16.132Z"
   },
   {
    "duration": 6,
    "start_time": "2025-02-04T04:39:16.139Z"
   },
   {
    "duration": 196,
    "start_time": "2025-02-04T04:39:16.146Z"
   },
   {
    "duration": 7,
    "start_time": "2025-02-04T04:39:16.344Z"
   },
   {
    "duration": 205,
    "start_time": "2025-02-04T04:39:16.353Z"
   },
   {
    "duration": 6,
    "start_time": "2025-02-04T04:44:18.060Z"
   },
   {
    "duration": 14,
    "start_time": "2025-02-04T04:44:31.824Z"
   },
   {
    "duration": 9,
    "start_time": "2025-02-04T04:45:23.648Z"
   },
   {
    "duration": 11,
    "start_time": "2025-02-04T04:47:08.432Z"
   },
   {
    "duration": 9,
    "start_time": "2025-02-04T04:47:35.454Z"
   },
   {
    "duration": 9,
    "start_time": "2025-02-04T04:47:48.080Z"
   },
   {
    "duration": 8,
    "start_time": "2025-02-04T04:48:20.532Z"
   },
   {
    "duration": 5,
    "start_time": "2025-02-04T04:49:24.997Z"
   },
   {
    "duration": 5,
    "start_time": "2025-02-04T04:50:00.929Z"
   },
   {
    "duration": 10,
    "start_time": "2025-02-04T04:53:39.173Z"
   },
   {
    "duration": 10,
    "start_time": "2025-02-04T04:54:01.798Z"
   },
   {
    "duration": 10,
    "start_time": "2025-02-04T04:54:36.257Z"
   },
   {
    "duration": 8,
    "start_time": "2025-02-04T04:54:50.144Z"
   },
   {
    "duration": 9,
    "start_time": "2025-02-04T05:00:21.395Z"
   },
   {
    "duration": 10,
    "start_time": "2025-02-04T05:00:40.527Z"
   },
   {
    "duration": 65,
    "start_time": "2025-02-04T05:05:38.198Z"
   },
   {
    "duration": 5,
    "start_time": "2025-02-04T05:06:05.131Z"
   },
   {
    "duration": 3,
    "start_time": "2025-02-04T05:06:12.990Z"
   },
   {
    "duration": 5,
    "start_time": "2025-02-04T05:08:50.185Z"
   },
   {
    "duration": 4,
    "start_time": "2025-02-04T05:09:32.081Z"
   },
   {
    "duration": 5,
    "start_time": "2025-02-04T05:10:22.435Z"
   },
   {
    "duration": 4,
    "start_time": "2025-02-04T05:10:40.673Z"
   },
   {
    "duration": 4,
    "start_time": "2025-02-04T05:10:42.264Z"
   },
   {
    "duration": 6,
    "start_time": "2025-02-04T05:10:43.539Z"
   },
   {
    "duration": 812,
    "start_time": "2025-02-04T05:10:59.721Z"
   },
   {
    "duration": 13,
    "start_time": "2025-02-04T05:11:00.535Z"
   },
   {
    "duration": 8,
    "start_time": "2025-02-04T05:11:00.549Z"
   },
   {
    "duration": 8,
    "start_time": "2025-02-04T05:11:00.559Z"
   },
   {
    "duration": 4,
    "start_time": "2025-02-04T05:11:00.569Z"
   },
   {
    "duration": 4,
    "start_time": "2025-02-04T05:11:00.574Z"
   },
   {
    "duration": 5,
    "start_time": "2025-02-04T05:11:00.580Z"
   },
   {
    "duration": 9,
    "start_time": "2025-02-04T05:11:00.605Z"
   },
   {
    "duration": 8,
    "start_time": "2025-02-04T05:11:00.615Z"
   },
   {
    "duration": 10,
    "start_time": "2025-02-04T05:11:00.626Z"
   },
   {
    "duration": 6,
    "start_time": "2025-02-04T05:11:00.637Z"
   },
   {
    "duration": 7,
    "start_time": "2025-02-04T05:11:00.645Z"
   },
   {
    "duration": 4,
    "start_time": "2025-02-04T05:11:00.654Z"
   },
   {
    "duration": 4,
    "start_time": "2025-02-04T05:11:00.659Z"
   },
   {
    "duration": 3,
    "start_time": "2025-02-04T05:11:00.665Z"
   },
   {
    "duration": 5,
    "start_time": "2025-02-04T05:11:00.670Z"
   },
   {
    "duration": 48,
    "start_time": "2025-02-04T05:11:00.676Z"
   },
   {
    "duration": 7,
    "start_time": "2025-02-04T05:11:00.726Z"
   },
   {
    "duration": 178,
    "start_time": "2025-02-04T05:11:00.734Z"
   },
   {
    "duration": 10,
    "start_time": "2025-02-04T05:11:00.914Z"
   },
   {
    "duration": 221,
    "start_time": "2025-02-04T05:11:00.925Z"
   },
   {
    "duration": 11,
    "start_time": "2025-02-04T05:11:45.950Z"
   },
   {
    "duration": 9,
    "start_time": "2025-02-04T05:12:38.873Z"
   },
   {
    "duration": 27,
    "start_time": "2025-02-04T05:15:09.205Z"
   },
   {
    "duration": 75,
    "start_time": "2025-02-04T05:17:18.757Z"
   },
   {
    "duration": 13,
    "start_time": "2025-02-04T05:21:02.641Z"
   },
   {
    "duration": 12,
    "start_time": "2025-02-04T05:22:46.675Z"
   },
   {
    "duration": 8,
    "start_time": "2025-02-04T05:22:56.249Z"
   },
   {
    "duration": 14,
    "start_time": "2025-02-04T05:23:08.002Z"
   },
   {
    "duration": 851,
    "start_time": "2025-02-04T05:23:22.089Z"
   },
   {
    "duration": 14,
    "start_time": "2025-02-04T05:23:22.943Z"
   },
   {
    "duration": 8,
    "start_time": "2025-02-04T05:23:22.958Z"
   },
   {
    "duration": 9,
    "start_time": "2025-02-04T05:23:22.967Z"
   },
   {
    "duration": 5,
    "start_time": "2025-02-04T05:23:22.977Z"
   },
   {
    "duration": 4,
    "start_time": "2025-02-04T05:23:22.984Z"
   },
   {
    "duration": 6,
    "start_time": "2025-02-04T05:23:23.008Z"
   },
   {
    "duration": 13,
    "start_time": "2025-02-04T05:23:23.015Z"
   },
   {
    "duration": 6,
    "start_time": "2025-02-04T05:23:23.033Z"
   },
   {
    "duration": 6,
    "start_time": "2025-02-04T05:23:23.044Z"
   },
   {
    "duration": 6,
    "start_time": "2025-02-04T05:23:23.052Z"
   },
   {
    "duration": 8,
    "start_time": "2025-02-04T05:23:23.059Z"
   },
   {
    "duration": 5,
    "start_time": "2025-02-04T05:23:23.068Z"
   },
   {
    "duration": 4,
    "start_time": "2025-02-04T05:23:23.075Z"
   },
   {
    "duration": 10,
    "start_time": "2025-02-04T05:23:23.129Z"
   },
   {
    "duration": 8,
    "start_time": "2025-02-04T05:23:23.140Z"
   },
   {
    "duration": 14,
    "start_time": "2025-02-04T05:23:23.150Z"
   },
   {
    "duration": 5,
    "start_time": "2025-02-04T05:23:23.165Z"
   },
   {
    "duration": 8,
    "start_time": "2025-02-04T05:23:23.172Z"
   },
   {
    "duration": 7,
    "start_time": "2025-02-04T05:23:23.181Z"
   },
   {
    "duration": 186,
    "start_time": "2025-02-04T05:23:23.190Z"
   },
   {
    "duration": 7,
    "start_time": "2025-02-04T05:23:23.379Z"
   },
   {
    "duration": 229,
    "start_time": "2025-02-04T05:23:23.387Z"
   },
   {
    "duration": 5,
    "start_time": "2025-02-04T05:30:07.578Z"
   },
   {
    "duration": 774,
    "start_time": "2025-02-04T05:30:39.885Z"
   },
   {
    "duration": 12,
    "start_time": "2025-02-04T05:30:40.661Z"
   },
   {
    "duration": 9,
    "start_time": "2025-02-04T05:30:40.675Z"
   },
   {
    "duration": 26,
    "start_time": "2025-02-04T05:30:40.687Z"
   },
   {
    "duration": 5,
    "start_time": "2025-02-04T05:30:40.729Z"
   },
   {
    "duration": 5,
    "start_time": "2025-02-04T05:30:40.736Z"
   },
   {
    "duration": 5,
    "start_time": "2025-02-04T05:30:40.743Z"
   },
   {
    "duration": 8,
    "start_time": "2025-02-04T05:30:40.750Z"
   },
   {
    "duration": 5,
    "start_time": "2025-02-04T05:30:40.759Z"
   },
   {
    "duration": 4,
    "start_time": "2025-02-04T05:30:40.767Z"
   },
   {
    "duration": 6,
    "start_time": "2025-02-04T05:30:40.773Z"
   },
   {
    "duration": 48,
    "start_time": "2025-02-04T05:30:40.780Z"
   },
   {
    "duration": 5,
    "start_time": "2025-02-04T05:30:40.831Z"
   },
   {
    "duration": 5,
    "start_time": "2025-02-04T05:30:40.837Z"
   },
   {
    "duration": 8,
    "start_time": "2025-02-04T05:30:40.844Z"
   },
   {
    "duration": 8,
    "start_time": "2025-02-04T05:30:40.853Z"
   },
   {
    "duration": 8,
    "start_time": "2025-02-04T05:30:40.862Z"
   },
   {
    "duration": 6,
    "start_time": "2025-02-04T05:30:40.872Z"
   },
   {
    "duration": 203,
    "start_time": "2025-02-04T05:30:40.880Z"
   },
   {
    "duration": 7,
    "start_time": "2025-02-04T05:30:41.085Z"
   },
   {
    "duration": 234,
    "start_time": "2025-02-04T05:30:41.095Z"
   },
   {
    "duration": 9,
    "start_time": "2025-02-04T05:34:54.162Z"
   },
   {
    "duration": 10,
    "start_time": "2025-02-04T05:35:40.126Z"
   },
   {
    "duration": 608,
    "start_time": "2025-02-04T05:59:54.134Z"
   },
   {
    "duration": 840,
    "start_time": "2025-02-04T06:00:31.896Z"
   },
   {
    "duration": 17,
    "start_time": "2025-02-04T06:00:32.738Z"
   },
   {
    "duration": 8,
    "start_time": "2025-02-04T06:00:32.757Z"
   },
   {
    "duration": 8,
    "start_time": "2025-02-04T06:00:32.766Z"
   },
   {
    "duration": 5,
    "start_time": "2025-02-04T06:00:32.776Z"
   },
   {
    "duration": 5,
    "start_time": "2025-02-04T06:00:32.782Z"
   },
   {
    "duration": 41,
    "start_time": "2025-02-04T06:00:32.788Z"
   },
   {
    "duration": 12,
    "start_time": "2025-02-04T06:00:32.834Z"
   },
   {
    "duration": 6,
    "start_time": "2025-02-04T06:00:32.847Z"
   },
   {
    "duration": 5,
    "start_time": "2025-02-04T06:00:32.854Z"
   },
   {
    "duration": 6,
    "start_time": "2025-02-04T06:00:32.860Z"
   },
   {
    "duration": 8,
    "start_time": "2025-02-04T06:00:32.868Z"
   },
   {
    "duration": 5,
    "start_time": "2025-02-04T06:00:32.877Z"
   },
   {
    "duration": 4,
    "start_time": "2025-02-04T06:00:32.885Z"
   },
   {
    "duration": 43,
    "start_time": "2025-02-04T06:00:32.890Z"
   },
   {
    "duration": 179,
    "start_time": "2025-02-04T06:00:32.935Z"
   },
   {
    "duration": 15,
    "start_time": "2025-02-04T06:00:33.121Z"
   },
   {
    "duration": 206,
    "start_time": "2025-02-04T06:00:33.139Z"
   },
   {
    "duration": 581,
    "start_time": "2025-02-04T06:00:33.347Z"
   },
   {
    "duration": 798,
    "start_time": "2025-02-04T06:11:47.504Z"
   },
   {
    "duration": 36,
    "start_time": "2025-02-04T06:11:48.305Z"
   },
   {
    "duration": 7,
    "start_time": "2025-02-04T06:11:48.343Z"
   },
   {
    "duration": 8,
    "start_time": "2025-02-04T06:11:48.352Z"
   },
   {
    "duration": 4,
    "start_time": "2025-02-04T06:11:48.363Z"
   },
   {
    "duration": 4,
    "start_time": "2025-02-04T06:11:48.368Z"
   },
   {
    "duration": 6,
    "start_time": "2025-02-04T06:11:48.374Z"
   },
   {
    "duration": 8,
    "start_time": "2025-02-04T06:11:48.381Z"
   },
   {
    "duration": 38,
    "start_time": "2025-02-04T06:11:48.390Z"
   },
   {
    "duration": 4,
    "start_time": "2025-02-04T06:11:48.429Z"
   },
   {
    "duration": 8,
    "start_time": "2025-02-04T06:11:48.435Z"
   },
   {
    "duration": 8,
    "start_time": "2025-02-04T06:11:48.444Z"
   },
   {
    "duration": 5,
    "start_time": "2025-02-04T06:11:48.453Z"
   },
   {
    "duration": 4,
    "start_time": "2025-02-04T06:11:48.461Z"
   },
   {
    "duration": 7,
    "start_time": "2025-02-04T06:11:48.466Z"
   },
   {
    "duration": 217,
    "start_time": "2025-02-04T06:11:48.475Z"
   },
   {
    "duration": 6,
    "start_time": "2025-02-04T06:11:48.694Z"
   },
   {
    "duration": 229,
    "start_time": "2025-02-04T06:11:48.701Z"
   },
   {
    "duration": 601,
    "start_time": "2025-02-04T06:11:48.932Z"
   },
   {
    "duration": 7,
    "start_time": "2025-02-04T06:15:03.829Z"
   },
   {
    "duration": 811,
    "start_time": "2025-02-04T06:16:00.988Z"
   },
   {
    "duration": 40,
    "start_time": "2025-02-04T06:16:01.801Z"
   },
   {
    "duration": 8,
    "start_time": "2025-02-04T06:16:01.847Z"
   },
   {
    "duration": 7,
    "start_time": "2025-02-04T06:16:01.857Z"
   },
   {
    "duration": 4,
    "start_time": "2025-02-04T06:16:01.866Z"
   },
   {
    "duration": 4,
    "start_time": "2025-02-04T06:16:01.872Z"
   },
   {
    "duration": 6,
    "start_time": "2025-02-04T06:16:01.878Z"
   },
   {
    "duration": 7,
    "start_time": "2025-02-04T06:16:01.886Z"
   },
   {
    "duration": 21,
    "start_time": "2025-02-04T06:16:01.909Z"
   },
   {
    "duration": 4,
    "start_time": "2025-02-04T06:16:01.932Z"
   },
   {
    "duration": 6,
    "start_time": "2025-02-04T06:16:01.937Z"
   },
   {
    "duration": 7,
    "start_time": "2025-02-04T06:16:01.945Z"
   },
   {
    "duration": 4,
    "start_time": "2025-02-04T06:16:01.954Z"
   },
   {
    "duration": 4,
    "start_time": "2025-02-04T06:16:01.959Z"
   },
   {
    "duration": 6,
    "start_time": "2025-02-04T06:16:01.966Z"
   },
   {
    "duration": 191,
    "start_time": "2025-02-04T06:16:01.973Z"
   },
   {
    "duration": 7,
    "start_time": "2025-02-04T06:16:02.166Z"
   },
   {
    "duration": 219,
    "start_time": "2025-02-04T06:16:02.175Z"
   },
   {
    "duration": 6,
    "start_time": "2025-02-04T06:16:02.396Z"
   },
   {
    "duration": 782,
    "start_time": "2025-02-04T06:35:14.453Z"
   },
   {
    "duration": 16,
    "start_time": "2025-02-04T06:35:15.237Z"
   },
   {
    "duration": 8,
    "start_time": "2025-02-04T06:35:15.255Z"
   },
   {
    "duration": 7,
    "start_time": "2025-02-04T06:35:15.266Z"
   },
   {
    "duration": 5,
    "start_time": "2025-02-04T06:35:15.275Z"
   },
   {
    "duration": 43,
    "start_time": "2025-02-04T06:35:15.281Z"
   },
   {
    "duration": 6,
    "start_time": "2025-02-04T06:35:15.333Z"
   },
   {
    "duration": 8,
    "start_time": "2025-02-04T06:35:15.341Z"
   },
   {
    "duration": 5,
    "start_time": "2025-02-04T06:35:15.350Z"
   },
   {
    "duration": 4,
    "start_time": "2025-02-04T06:35:15.358Z"
   },
   {
    "duration": 6,
    "start_time": "2025-02-04T06:35:15.364Z"
   },
   {
    "duration": 8,
    "start_time": "2025-02-04T06:35:15.371Z"
   },
   {
    "duration": 5,
    "start_time": "2025-02-04T06:35:15.380Z"
   },
   {
    "duration": 37,
    "start_time": "2025-02-04T06:35:15.387Z"
   },
   {
    "duration": 7,
    "start_time": "2025-02-04T06:35:15.428Z"
   },
   {
    "duration": 180,
    "start_time": "2025-02-04T06:35:15.436Z"
   },
   {
    "duration": 11,
    "start_time": "2025-02-04T06:35:15.618Z"
   },
   {
    "duration": 201,
    "start_time": "2025-02-04T06:35:15.632Z"
   },
   {
    "duration": 7,
    "start_time": "2025-02-04T06:35:15.835Z"
   },
   {
    "duration": 811,
    "start_time": "2025-02-04T06:36:58.626Z"
   },
   {
    "duration": 11,
    "start_time": "2025-02-04T06:36:59.439Z"
   },
   {
    "duration": 8,
    "start_time": "2025-02-04T06:36:59.452Z"
   },
   {
    "duration": 9,
    "start_time": "2025-02-04T06:36:59.462Z"
   },
   {
    "duration": 4,
    "start_time": "2025-02-04T06:36:59.473Z"
   },
   {
    "duration": 4,
    "start_time": "2025-02-04T06:36:59.478Z"
   },
   {
    "duration": 40,
    "start_time": "2025-02-04T06:36:59.484Z"
   },
   {
    "duration": 8,
    "start_time": "2025-02-04T06:36:59.530Z"
   },
   {
    "duration": 5,
    "start_time": "2025-02-04T06:36:59.541Z"
   },
   {
    "duration": 3,
    "start_time": "2025-02-04T06:36:59.549Z"
   },
   {
    "duration": 6,
    "start_time": "2025-02-04T06:36:59.554Z"
   },
   {
    "duration": 8,
    "start_time": "2025-02-04T06:36:59.562Z"
   },
   {
    "duration": 4,
    "start_time": "2025-02-04T06:36:59.572Z"
   },
   {
    "duration": 51,
    "start_time": "2025-02-04T06:36:59.578Z"
   },
   {
    "duration": 7,
    "start_time": "2025-02-04T06:36:59.631Z"
   },
   {
    "duration": 193,
    "start_time": "2025-02-04T06:36:59.640Z"
   },
   {
    "duration": 7,
    "start_time": "2025-02-04T06:36:59.835Z"
   },
   {
    "duration": 210,
    "start_time": "2025-02-04T06:36:59.843Z"
   },
   {
    "duration": 7,
    "start_time": "2025-02-04T06:37:00.055Z"
   },
   {
    "duration": 783,
    "start_time": "2025-02-04T09:23:11.689Z"
   },
   {
    "duration": 11,
    "start_time": "2025-02-04T09:23:12.474Z"
   },
   {
    "duration": 9,
    "start_time": "2025-02-04T09:23:12.487Z"
   },
   {
    "duration": 15,
    "start_time": "2025-02-04T09:23:12.505Z"
   },
   {
    "duration": 5,
    "start_time": "2025-02-04T09:23:12.523Z"
   },
   {
    "duration": 5,
    "start_time": "2025-02-04T09:23:12.530Z"
   },
   {
    "duration": 6,
    "start_time": "2025-02-04T09:23:12.536Z"
   },
   {
    "duration": 8,
    "start_time": "2025-02-04T09:23:12.543Z"
   },
   {
    "duration": 5,
    "start_time": "2025-02-04T09:23:12.553Z"
   },
   {
    "duration": 4,
    "start_time": "2025-02-04T09:23:12.559Z"
   },
   {
    "duration": 6,
    "start_time": "2025-02-04T09:23:12.565Z"
   },
   {
    "duration": 10,
    "start_time": "2025-02-04T09:23:12.605Z"
   },
   {
    "duration": 9,
    "start_time": "2025-02-04T09:23:12.617Z"
   },
   {
    "duration": 11,
    "start_time": "2025-02-04T09:23:12.629Z"
   },
   {
    "duration": 7,
    "start_time": "2025-02-04T09:23:12.642Z"
   },
   {
    "duration": 186,
    "start_time": "2025-02-04T09:23:12.651Z"
   },
   {
    "duration": 7,
    "start_time": "2025-02-04T09:23:12.839Z"
   },
   {
    "duration": 195,
    "start_time": "2025-02-04T09:23:12.847Z"
   },
   {
    "duration": 6,
    "start_time": "2025-02-04T09:23:13.044Z"
   },
   {
    "duration": 2528,
    "start_time": "2025-02-04T15:06:33.671Z"
   },
   {
    "duration": 18,
    "start_time": "2025-02-04T15:06:36.202Z"
   },
   {
    "duration": 7,
    "start_time": "2025-02-04T15:06:36.222Z"
   },
   {
    "duration": 8,
    "start_time": "2025-02-04T15:06:36.231Z"
   },
   {
    "duration": 5,
    "start_time": "2025-02-04T15:06:36.241Z"
   },
   {
    "duration": 4,
    "start_time": "2025-02-04T15:06:36.247Z"
   },
   {
    "duration": 5,
    "start_time": "2025-02-04T15:06:36.253Z"
   },
   {
    "duration": 7,
    "start_time": "2025-02-04T15:06:36.260Z"
   },
   {
    "duration": 4,
    "start_time": "2025-02-04T15:06:36.269Z"
   },
   {
    "duration": 4,
    "start_time": "2025-02-04T15:06:36.276Z"
   },
   {
    "duration": 6,
    "start_time": "2025-02-04T15:06:36.281Z"
   },
   {
    "duration": 49,
    "start_time": "2025-02-04T15:06:36.288Z"
   },
   {
    "duration": 5,
    "start_time": "2025-02-04T15:06:36.338Z"
   },
   {
    "duration": 3,
    "start_time": "2025-02-04T15:06:36.346Z"
   },
   {
    "duration": 7,
    "start_time": "2025-02-04T15:06:36.351Z"
   },
   {
    "duration": 184,
    "start_time": "2025-02-04T15:06:36.360Z"
   },
   {
    "duration": 6,
    "start_time": "2025-02-04T15:06:36.546Z"
   },
   {
    "duration": 214,
    "start_time": "2025-02-04T15:06:36.554Z"
   },
   {
    "duration": 7,
    "start_time": "2025-02-04T15:06:36.770Z"
   },
   {
    "duration": 3,
    "start_time": "2025-02-04T15:10:17.582Z"
   },
   {
    "duration": 10,
    "start_time": "2025-02-04T15:10:29.823Z"
   },
   {
    "duration": 279,
    "start_time": "2025-02-04T15:10:37.491Z"
   },
   {
    "duration": 9,
    "start_time": "2025-02-04T15:11:03.150Z"
   },
   {
    "duration": 798,
    "start_time": "2025-02-04T15:11:37.803Z"
   },
   {
    "duration": 11,
    "start_time": "2025-02-04T15:11:38.603Z"
   },
   {
    "duration": 7,
    "start_time": "2025-02-04T15:11:38.615Z"
   },
   {
    "duration": 9,
    "start_time": "2025-02-04T15:11:38.632Z"
   },
   {
    "duration": 6,
    "start_time": "2025-02-04T15:11:38.642Z"
   },
   {
    "duration": 3,
    "start_time": "2025-02-04T15:11:38.650Z"
   },
   {
    "duration": 5,
    "start_time": "2025-02-04T15:11:38.655Z"
   },
   {
    "duration": 7,
    "start_time": "2025-02-04T15:11:38.662Z"
   },
   {
    "duration": 8,
    "start_time": "2025-02-04T15:11:38.671Z"
   },
   {
    "duration": 5,
    "start_time": "2025-02-04T15:11:38.682Z"
   },
   {
    "duration": 47,
    "start_time": "2025-02-04T15:11:38.689Z"
   },
   {
    "duration": 10,
    "start_time": "2025-02-04T15:11:38.739Z"
   },
   {
    "duration": 9,
    "start_time": "2025-02-04T15:11:38.751Z"
   },
   {
    "duration": 6,
    "start_time": "2025-02-04T15:11:38.761Z"
   },
   {
    "duration": 5,
    "start_time": "2025-02-04T15:11:38.769Z"
   },
   {
    "duration": 8,
    "start_time": "2025-02-04T15:11:38.777Z"
   },
   {
    "duration": 200,
    "start_time": "2025-02-04T15:11:38.787Z"
   },
   {
    "duration": 9,
    "start_time": "2025-02-04T15:11:38.989Z"
   },
   {
    "duration": 205,
    "start_time": "2025-02-04T15:11:38.999Z"
   },
   {
    "duration": 6,
    "start_time": "2025-02-04T15:11:39.206Z"
   },
   {
    "duration": 141,
    "start_time": "2025-02-04T15:18:05.869Z"
   },
   {
    "duration": 75,
    "start_time": "2025-02-04T15:18:59.748Z"
   },
   {
    "duration": 214,
    "start_time": "2025-02-04T15:25:13.416Z"
   },
   {
    "duration": 80,
    "start_time": "2025-02-04T15:26:09.128Z"
   },
   {
    "duration": 107,
    "start_time": "2025-02-04T15:26:26.555Z"
   },
   {
    "duration": 238,
    "start_time": "2025-02-04T15:30:54.657Z"
   },
   {
    "duration": 102,
    "start_time": "2025-02-04T15:33:19.580Z"
   },
   {
    "duration": 813,
    "start_time": "2025-02-04T15:34:13.141Z"
   },
   {
    "duration": 11,
    "start_time": "2025-02-04T15:34:13.956Z"
   },
   {
    "duration": 7,
    "start_time": "2025-02-04T15:34:13.969Z"
   },
   {
    "duration": 8,
    "start_time": "2025-02-04T15:34:13.979Z"
   },
   {
    "duration": 5,
    "start_time": "2025-02-04T15:34:13.989Z"
   },
   {
    "duration": 4,
    "start_time": "2025-02-04T15:34:13.995Z"
   },
   {
    "duration": 31,
    "start_time": "2025-02-04T15:34:14.001Z"
   },
   {
    "duration": 8,
    "start_time": "2025-02-04T15:34:14.034Z"
   },
   {
    "duration": 3,
    "start_time": "2025-02-04T15:34:14.044Z"
   },
   {
    "duration": 4,
    "start_time": "2025-02-04T15:34:14.050Z"
   },
   {
    "duration": 5,
    "start_time": "2025-02-04T15:34:14.055Z"
   },
   {
    "duration": 6,
    "start_time": "2025-02-04T15:34:14.061Z"
   },
   {
    "duration": 7,
    "start_time": "2025-02-04T15:34:14.069Z"
   },
   {
    "duration": 5,
    "start_time": "2025-02-04T15:34:14.078Z"
   },
   {
    "duration": 46,
    "start_time": "2025-02-04T15:34:14.085Z"
   },
   {
    "duration": 9,
    "start_time": "2025-02-04T15:34:14.133Z"
   },
   {
    "duration": 183,
    "start_time": "2025-02-04T15:34:14.144Z"
   },
   {
    "duration": 7,
    "start_time": "2025-02-04T15:34:14.331Z"
   },
   {
    "duration": 211,
    "start_time": "2025-02-04T15:34:14.340Z"
   },
   {
    "duration": 153,
    "start_time": "2025-02-04T15:34:14.553Z"
   },
   {
    "duration": 6,
    "start_time": "2025-02-04T15:34:14.708Z"
   },
   {
    "duration": 79,
    "start_time": "2025-02-04T15:35:26.000Z"
   },
   {
    "duration": 103,
    "start_time": "2025-02-04T15:40:37.026Z"
   },
   {
    "duration": 771,
    "start_time": "2025-02-04T15:50:33.722Z"
   },
   {
    "duration": 10,
    "start_time": "2025-02-04T15:50:34.495Z"
   },
   {
    "duration": 9,
    "start_time": "2025-02-04T15:50:34.506Z"
   },
   {
    "duration": 16,
    "start_time": "2025-02-04T15:50:34.517Z"
   },
   {
    "duration": 6,
    "start_time": "2025-02-04T15:50:34.535Z"
   },
   {
    "duration": 15,
    "start_time": "2025-02-04T15:50:34.542Z"
   },
   {
    "duration": 6,
    "start_time": "2025-02-04T15:50:34.559Z"
   },
   {
    "duration": 8,
    "start_time": "2025-02-04T15:50:34.566Z"
   },
   {
    "duration": 3,
    "start_time": "2025-02-04T15:50:34.576Z"
   },
   {
    "duration": 5,
    "start_time": "2025-02-04T15:50:34.581Z"
   },
   {
    "duration": 4,
    "start_time": "2025-02-04T15:50:34.587Z"
   },
   {
    "duration": 37,
    "start_time": "2025-02-04T15:50:34.594Z"
   },
   {
    "duration": 9,
    "start_time": "2025-02-04T15:50:34.632Z"
   },
   {
    "duration": 4,
    "start_time": "2025-02-04T15:50:34.643Z"
   },
   {
    "duration": 4,
    "start_time": "2025-02-04T15:50:34.649Z"
   },
   {
    "duration": 8,
    "start_time": "2025-02-04T15:50:34.654Z"
   },
   {
    "duration": 184,
    "start_time": "2025-02-04T15:50:34.663Z"
   },
   {
    "duration": 7,
    "start_time": "2025-02-04T15:50:34.849Z"
   },
   {
    "duration": 218,
    "start_time": "2025-02-04T15:50:34.857Z"
   },
   {
    "duration": 167,
    "start_time": "2025-02-04T15:50:35.078Z"
   },
   {
    "duration": 6,
    "start_time": "2025-02-04T15:50:35.247Z"
   },
   {
    "duration": 851,
    "start_time": "2025-02-04T16:07:33.089Z"
   },
   {
    "duration": 12,
    "start_time": "2025-02-04T16:07:33.943Z"
   },
   {
    "duration": 7,
    "start_time": "2025-02-04T16:07:33.957Z"
   },
   {
    "duration": 9,
    "start_time": "2025-02-04T16:07:33.967Z"
   },
   {
    "duration": 5,
    "start_time": "2025-02-04T16:07:33.978Z"
   },
   {
    "duration": 4,
    "start_time": "2025-02-04T16:07:33.985Z"
   },
   {
    "duration": 6,
    "start_time": "2025-02-04T16:07:33.991Z"
   },
   {
    "duration": 40,
    "start_time": "2025-02-04T16:07:33.998Z"
   },
   {
    "duration": 3,
    "start_time": "2025-02-04T16:07:34.040Z"
   },
   {
    "duration": 4,
    "start_time": "2025-02-04T16:07:34.046Z"
   },
   {
    "duration": 4,
    "start_time": "2025-02-04T16:07:34.052Z"
   },
   {
    "duration": 6,
    "start_time": "2025-02-04T16:07:34.058Z"
   },
   {
    "duration": 8,
    "start_time": "2025-02-04T16:07:34.065Z"
   },
   {
    "duration": 5,
    "start_time": "2025-02-04T16:07:34.077Z"
   },
   {
    "duration": 4,
    "start_time": "2025-02-04T16:07:34.083Z"
   },
   {
    "duration": 48,
    "start_time": "2025-02-04T16:07:34.088Z"
   },
   {
    "duration": 179,
    "start_time": "2025-02-04T16:07:34.138Z"
   },
   {
    "duration": 14,
    "start_time": "2025-02-04T16:07:34.319Z"
   },
   {
    "duration": 199,
    "start_time": "2025-02-04T16:07:34.334Z"
   },
   {
    "duration": 158,
    "start_time": "2025-02-04T16:07:34.535Z"
   },
   {
    "duration": 6,
    "start_time": "2025-02-04T16:07:34.695Z"
   },
   {
    "duration": 2886,
    "start_time": "2025-02-04T17:16:28.506Z"
   },
   {
    "duration": 27,
    "start_time": "2025-02-04T17:16:31.394Z"
   },
   {
    "duration": 10,
    "start_time": "2025-02-04T17:16:31.423Z"
   },
   {
    "duration": 8,
    "start_time": "2025-02-04T17:16:31.435Z"
   },
   {
    "duration": 5,
    "start_time": "2025-02-04T17:16:31.447Z"
   },
   {
    "duration": 5,
    "start_time": "2025-02-04T17:16:31.453Z"
   },
   {
    "duration": 8,
    "start_time": "2025-02-04T17:16:31.460Z"
   },
   {
    "duration": 8,
    "start_time": "2025-02-04T17:16:31.469Z"
   },
   {
    "duration": 28,
    "start_time": "2025-02-04T17:16:31.479Z"
   },
   {
    "duration": 7,
    "start_time": "2025-02-04T17:16:31.510Z"
   },
   {
    "duration": 5,
    "start_time": "2025-02-04T17:16:31.519Z"
   },
   {
    "duration": 9,
    "start_time": "2025-02-04T17:16:31.526Z"
   },
   {
    "duration": 11,
    "start_time": "2025-02-04T17:16:31.537Z"
   },
   {
    "duration": 7,
    "start_time": "2025-02-04T17:16:31.552Z"
   },
   {
    "duration": 44,
    "start_time": "2025-02-04T17:16:31.561Z"
   },
   {
    "duration": 8,
    "start_time": "2025-02-04T17:16:31.607Z"
   },
   {
    "duration": 188,
    "start_time": "2025-02-04T17:16:31.617Z"
   },
   {
    "duration": 9,
    "start_time": "2025-02-04T17:16:31.807Z"
   },
   {
    "duration": 288,
    "start_time": "2025-02-04T17:16:31.818Z"
   },
   {
    "duration": 130,
    "start_time": "2025-02-04T17:16:32.108Z"
   },
   {
    "duration": 8,
    "start_time": "2025-02-04T17:16:32.240Z"
   },
   {
    "duration": 2566,
    "start_time": "2025-03-22T21:34:23.895Z"
   },
   {
    "duration": 21,
    "start_time": "2025-03-22T21:34:26.463Z"
   },
   {
    "duration": 9,
    "start_time": "2025-03-22T21:34:26.485Z"
   },
   {
    "duration": 10,
    "start_time": "2025-03-22T21:34:26.495Z"
   },
   {
    "duration": 6,
    "start_time": "2025-03-22T21:34:26.509Z"
   },
   {
    "duration": 5,
    "start_time": "2025-03-22T21:34:26.517Z"
   },
   {
    "duration": 10,
    "start_time": "2025-03-22T21:34:26.524Z"
   },
   {
    "duration": 9,
    "start_time": "2025-03-22T21:34:26.535Z"
   },
   {
    "duration": 26,
    "start_time": "2025-03-22T21:34:26.546Z"
   },
   {
    "duration": 8,
    "start_time": "2025-03-22T21:34:26.574Z"
   },
   {
    "duration": 5,
    "start_time": "2025-03-22T21:34:26.584Z"
   },
   {
    "duration": 8,
    "start_time": "2025-03-22T21:34:26.591Z"
   },
   {
    "duration": 12,
    "start_time": "2025-03-22T21:34:26.601Z"
   },
   {
    "duration": 6,
    "start_time": "2025-03-22T21:34:26.617Z"
   },
   {
    "duration": 4,
    "start_time": "2025-03-22T21:34:26.625Z"
   },
   {
    "duration": 53,
    "start_time": "2025-03-22T21:34:26.631Z"
   },
   {
    "duration": 250,
    "start_time": "2025-03-22T21:34:26.688Z"
   },
   {
    "duration": 7,
    "start_time": "2025-03-22T21:34:26.940Z"
   },
   {
    "duration": 242,
    "start_time": "2025-03-22T21:34:26.949Z"
   },
   {
    "duration": 121,
    "start_time": "2025-03-22T21:34:27.193Z"
   },
   {
    "duration": 6,
    "start_time": "2025-03-22T21:34:27.316Z"
   }
  ],
  "kernelspec": {
   "display_name": "Python 3 (ipykernel)",
   "language": "python",
   "name": "python3"
  },
  "language_info": {
   "codemirror_mode": {
    "name": "ipython",
    "version": 3
   },
   "file_extension": ".py",
   "mimetype": "text/x-python",
   "name": "python",
   "nbconvert_exporter": "python",
   "pygments_lexer": "ipython3",
   "version": "3.9.19"
  },
  "toc": {
   "base_numbering": 1,
   "nav_menu": {},
   "number_sections": true,
   "sideBar": true,
   "skip_h1_title": true,
   "title_cell": "Table of Contents",
   "title_sidebar": "Contents",
   "toc_cell": false,
   "toc_position": {},
   "toc_section_display": true,
   "toc_window_display": false
  }
 },
 "nbformat": 4,
 "nbformat_minor": 2
}
