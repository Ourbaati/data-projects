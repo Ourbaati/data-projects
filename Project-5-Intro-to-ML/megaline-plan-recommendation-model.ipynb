{
 "cells": [
  {
   "cell_type": "markdown",
   "metadata": {},
   "source": [
    "<h1 style='text-align: center; front-size: 50px;'>Which Plan is The Best Fit?</h1>"
   ]
  },
  {
   "cell_type": "markdown",
   "metadata": {},
   "source": [
    "# Introduction:\n",
    "\n",
    "In this project, we will work with data from the Mobile carrier Megaline, which offers its clients different prepaid plans. Our mission is to develop a model that would analyze subscribers' behavior and recommend one of Megaline's newer plans: Smart or Ultra. In this project, the threshold for accuracy is 0.75, this will allow us to spot potential big winners and plan advertising campaigns.The dataset is stored in a single file (/datasets/users_behavior.csv). During our model development, we will:\n",
    "\n",
    "- Load and display the dataset in a standardized format.\n",
    "- Split the source data into a training set, a validation set, and a test set.\n",
    "- Investigate the quality of different models by changing hyperparameters.\n",
    "- Check the quality of the model using the test set.\n",
    "- Sanity check the model.\n",
    "\n",
    "By following this process, we aim to produce a detailed report that provides actionable insights for business strategy."
   ]
  },
  {
   "cell_type": "code",
   "execution_count": null,
   "metadata": {},
   "outputs": [],
   "source": [
    "# Loading all the libraries\n",
    "import pandas as pd\n",
    "from sklearn.model_selection import train_test_split\n",
    "from sklearn.tree import DecisionTreeClassifier\n",
    "from sklearn.ensemble import RandomForestClassifier\n",
    "from sklearn.metrics import accuracy_score"
   ]
  },
  {
   "cell_type": "code",
   "execution_count": null,
   "metadata": {
    "scrolled": true
   },
   "outputs": [],
   "source": [
    "# Load the dataset\n",
    "data = pd.read_csv('/datasets/users_behavior.csv')\n",
    "data.head()"
   ]
  },
  {
   "cell_type": "code",
   "execution_count": null,
   "metadata": {},
   "outputs": [],
   "source": [
    "# First split to separate out the test set\n",
    "train_data, test_data = train_test_split(data, test_size=0.15, random_state=42)\n",
    "\n",
    "# Second split to separate the training data into training and validation sets\n",
    "train_data, validation_data = train_test_split(train_data, test_size=0.1765, random_state=42)\n",
    "\n",
    "# Checking the sizes to ensure correct splitting\n",
    "print(f\"Training Set: {train_data.shape}\")\n",
    "print(f\"Validation Set: {validation_data.shape}\")\n",
    "print(f\"Test Set: {test_data.shape}\")"
   ]
  },
  {
   "cell_type": "code",
   "execution_count": null,
   "metadata": {},
   "outputs": [],
   "source": [
    "# Splitting features and target\n",
    "X_train = train_data.drop('is_ultra', axis=1)\n",
    "y_train = train_data['is_ultra']\n",
    "\n",
    "X_val = validation_data.drop('is_ultra', axis=1)\n",
    "y_val = validation_data['is_ultra']\n",
    "\n",
    "# Investigating a Decision Tree Classifier\n",
    "for depth in range(1, 6):\n",
    "    model = DecisionTreeClassifier(max_depth=depth, random_state=42)\n",
    "    model.fit(X_train, y_train)\n",
    "    predictions = model.predict(X_val)\n",
    "    accuracy = accuracy_score(y_val, predictions)\n",
    "    print(f'Max Depth: {depth}, Validation Accuracy: {accuracy:.4f}')"
   ]
  },
  {
   "cell_type": "markdown",
   "metadata": {},
   "source": [
    "The optimal DecisionTree depth is 3, achieving the highest validation accuracy (0.7578). Beyond this, accuracy declines, indicating overfitting at greater depths. "
   ]
  },
  {
   "cell_type": "code",
   "execution_count": null,
   "metadata": {},
   "outputs": [],
   "source": [
    "# Investigating Random Tree:\n",
    "forest_results = []\n",
    "for n_estimators in range(10, 60, 10):\n",
    "    model = RandomForestClassifier(n_estimators=n_estimators, random_state=42)\n",
    "    model.fit(X_train, y_train)\n",
    "    y_prediction = model.predict(X_val)\n",
    "    accuracy = accuracy_score(y_val, y_prediction)\n",
    "    forest_results.append((n_estimators, accuracy))\n",
    "for n_estimators, accuracy in forest_results:\n",
    "    print(f'n_estimators: {n_estimators}, Accuracy: {accuracy:.4f}')"
   ]
  },
  {
   "cell_type": "markdown",
   "metadata": {},
   "source": [
    "The optimal number of trees is 40 achieving the highest validation accuracy (0.7950). Beyond this, accuracy declines, indicating overfitting at larger number of trees."
   ]
  },
  {
   "cell_type": "code",
   "execution_count": null,
   "metadata": {},
   "outputs": [],
   "source": [
    "# Splitting features and target for the test set:\n",
    "X_test = test_data.drop('is_ultra', axis=1)\n",
    "y_test = test_data['is_ultra']\n",
    "\n",
    "# Using the best model (max_depth=3):\n",
    "best_tree_model = DecisionTreeClassifier(max_depth=3, random_state=42)\n",
    "best_tree_model.fit(X_train, y_train)\n",
    "\n",
    "# Making prediction on the test set:\n",
    "test_prediction = best_tree_model.predict(X_test)\n",
    "\n",
    "# Evaluating model performance on the test set:\n",
    "test_accuracy = accuracy_score(y_test, test_prediction)\n",
    "\n",
    "print(f'Test Accuracy: {test_accuracy: .4f}')"
   ]
  },
  {
   "cell_type": "markdown",
   "metadata": {},
   "source": [
    "The DecisionTree model with max_depth=3 performs well, achieving a test accuracy of 0.7909, which is higher than the validation accuracy. This indicates good generalization with no severe overfiting."
   ]
  },
  {
   "cell_type": "code",
   "execution_count": null,
   "metadata": {},
   "outputs": [],
   "source": [
    "# Using the best model (n_estimator=40):\n",
    "\n",
    "best_forest_model = RandomForestClassifier(n_estimators=40, random_state=42)\n",
    "best_forest_model.fit(X_train, y_train)\n",
    "\n",
    "# Making prediction on the test set:\n",
    "y_test_pred_forest = best_forest_model.predict(X_test)\n",
    "\n",
    "# Evaluating model performance on the test set:\n",
    "forest_test_accuracy = accuracy_score(y_test, y_test_pred_forest)\n",
    "\n",
    "# Display test set results\n",
    "print(f'Test Accuracy: {forest_test_accuracy: .4f}')"
   ]
  },
  {
   "cell_type": "markdown",
   "metadata": {},
   "source": [
    "The RandomTree model with n_estimator=40 performs well, achieving a test accuracy of 0.8054, which is higher than the validation accuracy. This indicates good generalization with no severe overfiting."
   ]
  },
  {
   "cell_type": "code",
   "execution_count": null,
   "metadata": {},
   "outputs": [],
   "source": [
    "# Sanity Check the Model:\n",
    "train_prediction = best_forest_model.predict(X_train)\n",
    "train_accuracy = accuracy_score(y_train, train_prediction)\n",
    "\n",
    "print(f'Train Accuracy: {train_accuracy:.4f}')\n",
    "print(f'Validation Accuracy: {test_accuracy:.4f}')"
   ]
  },
  {
   "cell_type": "markdown",
   "metadata": {},
   "source": [
    "# Conclusion:"
   ]
  },
  {
   "cell_type": "markdown",
   "metadata": {},
   "source": [
    "Our machine learning model **(Random Forest)** successfully predicts which plan a user should switch to with an accuracy above 0.75, exceeding the required threshold. The model is optimized to distinguish between Smart and Ultra plans based on customer usage patterns, making it a valuable asset for both customer service teams and marketing strategies."
   ]
  }
 ],
 "metadata": {
  "ExecuteTimeLog": [
   {
    "duration": 2757,
    "start_time": "2025-02-12T16:44:26.789Z"
   },
   {
    "duration": 35,
    "start_time": "2025-02-12T16:44:35.399Z"
   },
   {
    "duration": 13,
    "start_time": "2025-02-12T16:45:18.554Z"
   },
   {
    "duration": 9,
    "start_time": "2025-02-12T16:45:31.581Z"
   },
   {
    "duration": 5,
    "start_time": "2025-02-12T16:46:11.210Z"
   },
   {
    "duration": 6,
    "start_time": "2025-02-12T16:46:33.753Z"
   },
   {
    "duration": 387,
    "start_time": "2025-02-17T17:41:45.745Z"
   },
   {
    "duration": 812,
    "start_time": "2025-02-17T17:41:47.722Z"
   },
   {
    "duration": 84,
    "start_time": "2025-02-17T17:42:01.382Z"
   },
   {
    "duration": 38,
    "start_time": "2025-02-17T17:42:07.613Z"
   },
   {
    "duration": 532,
    "start_time": "2025-02-17T17:44:35.666Z"
   },
   {
    "duration": 20,
    "start_time": "2025-02-17T17:44:37.435Z"
   },
   {
    "duration": 11,
    "start_time": "2025-02-17T17:44:42.656Z"
   },
   {
    "duration": 146,
    "start_time": "2025-02-17T17:46:25.722Z"
   },
   {
    "duration": 16,
    "start_time": "2025-02-17T17:46:27.029Z"
   },
   {
    "duration": 8,
    "start_time": "2025-02-17T17:46:31.971Z"
   },
   {
    "duration": 751,
    "start_time": "2025-02-18T17:33:16.816Z"
   },
   {
    "duration": 19,
    "start_time": "2025-02-18T17:33:17.570Z"
   },
   {
    "duration": 5,
    "start_time": "2025-02-18T17:33:17.591Z"
   },
   {
    "duration": 955,
    "start_time": "2025-02-18T17:33:17.598Z"
   },
   {
    "duration": 28,
    "start_time": "2025-02-18T17:34:37.972Z"
   },
   {
    "duration": 16,
    "start_time": "2025-02-18T18:16:03.501Z"
   },
   {
    "duration": 21,
    "start_time": "2025-02-18T18:16:24.426Z"
   },
   {
    "duration": 10,
    "start_time": "2025-02-18T18:16:44.209Z"
   },
   {
    "duration": 805,
    "start_time": "2025-02-18T18:17:00.662Z"
   },
   {
    "duration": 16,
    "start_time": "2025-02-18T18:17:01.469Z"
   },
   {
    "duration": 6,
    "start_time": "2025-02-18T18:17:01.487Z"
   },
   {
    "duration": 28,
    "start_time": "2025-02-18T18:17:01.495Z"
   },
   {
    "duration": 10,
    "start_time": "2025-02-18T18:17:01.542Z"
   },
   {
    "duration": 811,
    "start_time": "2025-02-19T04:49:22.328Z"
   },
   {
    "duration": 26,
    "start_time": "2025-02-19T04:49:23.141Z"
   },
   {
    "duration": 6,
    "start_time": "2025-02-19T04:49:23.169Z"
   },
   {
    "duration": 35,
    "start_time": "2025-02-19T04:49:23.176Z"
   },
   {
    "duration": 10,
    "start_time": "2025-02-19T04:49:23.214Z"
   },
   {
    "duration": 817,
    "start_time": "2025-02-19T04:50:14.724Z"
   },
   {
    "duration": 20,
    "start_time": "2025-02-19T04:50:15.546Z"
   },
   {
    "duration": 7,
    "start_time": "2025-02-19T04:50:15.568Z"
   },
   {
    "duration": 43,
    "start_time": "2025-02-19T04:50:15.577Z"
   },
   {
    "duration": 11,
    "start_time": "2025-02-19T04:50:15.621Z"
   },
   {
    "duration": 217,
    "start_time": "2025-02-19T05:01:35.779Z"
   },
   {
    "duration": 5,
    "start_time": "2025-02-19T05:02:27.200Z"
   },
   {
    "duration": 807,
    "start_time": "2025-02-19T05:09:14.133Z"
   },
   {
    "duration": 17,
    "start_time": "2025-02-19T05:09:14.942Z"
   },
   {
    "duration": 7,
    "start_time": "2025-02-19T05:09:14.960Z"
   },
   {
    "duration": 43,
    "start_time": "2025-02-19T05:09:14.969Z"
   },
   {
    "duration": 12,
    "start_time": "2025-02-19T05:09:15.014Z"
   },
   {
    "duration": 5,
    "start_time": "2025-02-19T05:09:15.028Z"
   },
   {
    "duration": 771,
    "start_time": "2025-02-20T04:32:03.695Z"
   },
   {
    "duration": 25,
    "start_time": "2025-02-20T04:32:04.469Z"
   },
   {
    "duration": 6,
    "start_time": "2025-02-20T04:32:04.496Z"
   },
   {
    "duration": 33,
    "start_time": "2025-02-20T04:32:04.505Z"
   },
   {
    "duration": 10,
    "start_time": "2025-02-20T04:32:04.540Z"
   },
   {
    "duration": 5,
    "start_time": "2025-02-20T04:32:04.552Z"
   },
   {
    "duration": 792,
    "start_time": "2025-02-20T04:50:46.665Z"
   },
   {
    "duration": 17,
    "start_time": "2025-02-20T04:50:47.459Z"
   },
   {
    "duration": 6,
    "start_time": "2025-02-20T04:50:47.477Z"
   },
   {
    "duration": 26,
    "start_time": "2025-02-20T04:50:47.485Z"
   },
   {
    "duration": 263,
    "start_time": "2025-02-20T04:50:47.513Z"
   },
   {
    "duration": 0,
    "start_time": "2025-02-20T04:50:47.777Z"
   },
   {
    "duration": 0,
    "start_time": "2025-02-20T04:50:47.778Z"
   },
   {
    "duration": 363,
    "start_time": "2025-02-20T04:52:49.803Z"
   },
   {
    "duration": 2074,
    "start_time": "2025-02-20T05:05:52.678Z"
   },
   {
    "duration": 779,
    "start_time": "2025-02-20T05:08:20.369Z"
   },
   {
    "duration": 21,
    "start_time": "2025-02-20T05:08:21.151Z"
   },
   {
    "duration": 8,
    "start_time": "2025-02-20T05:08:21.173Z"
   },
   {
    "duration": 34,
    "start_time": "2025-02-20T05:08:21.182Z"
   },
   {
    "duration": 2088,
    "start_time": "2025-02-20T05:08:21.231Z"
   },
   {
    "duration": 10,
    "start_time": "2025-02-20T05:08:23.323Z"
   },
   {
    "duration": 6,
    "start_time": "2025-02-20T05:08:23.335Z"
   },
   {
    "duration": 1409,
    "start_time": "2025-02-20T05:10:51.175Z"
   },
   {
    "duration": 1428,
    "start_time": "2025-02-20T05:14:19.348Z"
   },
   {
    "duration": 1408,
    "start_time": "2025-02-20T05:14:43.840Z"
   },
   {
    "duration": 1408,
    "start_time": "2025-02-20T05:15:08.418Z"
   },
   {
    "duration": 2047,
    "start_time": "2025-02-20T05:16:17.114Z"
   },
   {
    "duration": 764,
    "start_time": "2025-02-20T05:34:00.592Z"
   },
   {
    "duration": 16,
    "start_time": "2025-02-20T05:34:01.358Z"
   },
   {
    "duration": 7,
    "start_time": "2025-02-20T05:34:01.375Z"
   },
   {
    "duration": 26,
    "start_time": "2025-02-20T05:34:01.385Z"
   },
   {
    "duration": 2074,
    "start_time": "2025-02-20T05:34:01.413Z"
   },
   {
    "duration": 10,
    "start_time": "2025-02-20T05:34:03.489Z"
   },
   {
    "duration": 5,
    "start_time": "2025-02-20T05:34:03.500Z"
   },
   {
    "duration": 816,
    "start_time": "2025-02-20T05:39:06.042Z"
   },
   {
    "duration": 16,
    "start_time": "2025-02-20T05:39:06.860Z"
   },
   {
    "duration": 7,
    "start_time": "2025-02-20T05:39:06.878Z"
   },
   {
    "duration": 27,
    "start_time": "2025-02-20T05:39:06.886Z"
   },
   {
    "duration": 10,
    "start_time": "2025-02-20T05:39:06.932Z"
   },
   {
    "duration": 6,
    "start_time": "2025-02-20T05:39:06.945Z"
   },
   {
    "duration": 743,
    "start_time": "2025-02-20T05:49:23.207Z"
   },
   {
    "duration": 18,
    "start_time": "2025-02-20T05:49:23.953Z"
   },
   {
    "duration": 7,
    "start_time": "2025-02-20T05:49:23.972Z"
   },
   {
    "duration": 27,
    "start_time": "2025-02-20T05:49:23.981Z"
   },
   {
    "duration": 25,
    "start_time": "2025-02-20T05:49:24.011Z"
   },
   {
    "duration": 5,
    "start_time": "2025-02-20T05:49:24.038Z"
   },
   {
    "duration": 823,
    "start_time": "2025-02-21T18:04:43.040Z"
   },
   {
    "duration": 21,
    "start_time": "2025-02-21T18:04:43.865Z"
   },
   {
    "duration": 6,
    "start_time": "2025-02-21T18:04:43.888Z"
   },
   {
    "duration": 38,
    "start_time": "2025-02-21T18:04:43.896Z"
   },
   {
    "duration": 9,
    "start_time": "2025-02-21T18:04:43.937Z"
   },
   {
    "duration": 279,
    "start_time": "2025-02-21T18:04:43.948Z"
   },
   {
    "duration": 0,
    "start_time": "2025-02-21T18:04:44.229Z"
   },
   {
    "duration": 55,
    "start_time": "2025-02-21T18:05:50.290Z"
   },
   {
    "duration": 43,
    "start_time": "2025-02-21T18:06:28.569Z"
   },
   {
    "duration": 42,
    "start_time": "2025-02-21T18:06:31.170Z"
   },
   {
    "duration": 6191,
    "start_time": "2025-02-21T18:07:25.347Z"
   },
   {
    "duration": 6,
    "start_time": "2025-02-21T18:11:42.354Z"
   },
   {
    "duration": 6349,
    "start_time": "2025-02-21T18:12:23.633Z"
   },
   {
    "duration": 45,
    "start_time": "2025-02-21T18:13:09.816Z"
   },
   {
    "duration": 7539,
    "start_time": "2025-02-21T18:13:31.808Z"
   },
   {
    "duration": 541,
    "start_time": "2025-02-21T18:14:06.113Z"
   },
   {
    "duration": 817,
    "start_time": "2025-02-21T18:23:34.735Z"
   },
   {
    "duration": 18,
    "start_time": "2025-02-21T18:23:35.555Z"
   },
   {
    "duration": 6,
    "start_time": "2025-02-21T18:23:35.575Z"
   },
   {
    "duration": 42,
    "start_time": "2025-02-21T18:23:35.584Z"
   },
   {
    "duration": 551,
    "start_time": "2025-02-21T18:23:35.629Z"
   },
   {
    "duration": 10,
    "start_time": "2025-02-21T18:23:36.182Z"
   },
   {
    "duration": 16,
    "start_time": "2025-02-21T18:23:36.194Z"
   },
   {
    "duration": 546,
    "start_time": "2025-02-21T18:27:56.602Z"
   },
   {
    "duration": 795,
    "start_time": "2025-02-21T18:28:18.254Z"
   },
   {
    "duration": 17,
    "start_time": "2025-02-21T18:28:19.051Z"
   },
   {
    "duration": 6,
    "start_time": "2025-02-21T18:28:19.070Z"
   },
   {
    "duration": 46,
    "start_time": "2025-02-21T18:28:19.078Z"
   },
   {
    "duration": 557,
    "start_time": "2025-02-21T18:28:19.126Z"
   },
   {
    "duration": 10,
    "start_time": "2025-02-21T18:28:19.685Z"
   },
   {
    "duration": 14,
    "start_time": "2025-02-21T18:28:19.697Z"
   },
   {
    "duration": 829,
    "start_time": "2025-02-21T19:19:36.588Z"
   },
   {
    "duration": 20,
    "start_time": "2025-02-21T19:19:37.419Z"
   },
   {
    "duration": 6,
    "start_time": "2025-02-21T19:19:37.441Z"
   },
   {
    "duration": 37,
    "start_time": "2025-02-21T19:19:37.449Z"
   },
   {
    "duration": 555,
    "start_time": "2025-02-21T19:19:37.488Z"
   },
   {
    "duration": 9,
    "start_time": "2025-02-21T19:19:38.045Z"
   },
   {
    "duration": 244,
    "start_time": "2025-02-21T19:19:38.056Z"
   },
   {
    "duration": 0,
    "start_time": "2025-02-21T19:19:38.302Z"
   },
   {
    "duration": 147,
    "start_time": "2025-02-21T19:24:24.178Z"
   },
   {
    "duration": 19,
    "start_time": "2025-02-21T19:27:41.319Z"
   },
   {
    "duration": 797,
    "start_time": "2025-02-21T19:29:10.807Z"
   },
   {
    "duration": 16,
    "start_time": "2025-02-21T19:29:11.606Z"
   },
   {
    "duration": 5,
    "start_time": "2025-02-21T19:29:11.625Z"
   },
   {
    "duration": 28,
    "start_time": "2025-02-21T19:29:11.633Z"
   },
   {
    "duration": 573,
    "start_time": "2025-02-21T19:29:11.663Z"
   },
   {
    "duration": 10,
    "start_time": "2025-02-21T19:29:12.238Z"
   },
   {
    "duration": 166,
    "start_time": "2025-02-21T19:29:12.249Z"
   },
   {
    "duration": 15,
    "start_time": "2025-02-21T19:29:12.416Z"
   },
   {
    "duration": 10,
    "start_time": "2025-02-21T19:30:23.028Z"
   },
   {
    "duration": 759,
    "start_time": "2025-02-21T19:31:03.948Z"
   },
   {
    "duration": 16,
    "start_time": "2025-02-21T19:31:04.710Z"
   },
   {
    "duration": 6,
    "start_time": "2025-02-21T19:31:04.727Z"
   },
   {
    "duration": 26,
    "start_time": "2025-02-21T19:31:04.736Z"
   },
   {
    "duration": 568,
    "start_time": "2025-02-21T19:31:04.764Z"
   },
   {
    "duration": 232,
    "start_time": "2025-02-21T19:31:05.334Z"
   },
   {
    "duration": 0,
    "start_time": "2025-02-21T19:31:05.568Z"
   },
   {
    "duration": 0,
    "start_time": "2025-02-21T19:31:05.570Z"
   },
   {
    "duration": 10,
    "start_time": "2025-02-21T19:31:30.590Z"
   },
   {
    "duration": 761,
    "start_time": "2025-02-21T19:31:37.545Z"
   },
   {
    "duration": 16,
    "start_time": "2025-02-21T19:31:38.310Z"
   },
   {
    "duration": 6,
    "start_time": "2025-02-21T19:31:38.327Z"
   },
   {
    "duration": 28,
    "start_time": "2025-02-21T19:31:38.335Z"
   },
   {
    "duration": 566,
    "start_time": "2025-02-21T19:31:38.365Z"
   },
   {
    "duration": 9,
    "start_time": "2025-02-21T19:31:38.933Z"
   },
   {
    "duration": 161,
    "start_time": "2025-02-21T19:31:38.944Z"
   },
   {
    "duration": 15,
    "start_time": "2025-02-21T19:31:39.107Z"
   }
  ],
  "kernelspec": {
   "display_name": "Python 3 (ipykernel)",
   "language": "python",
   "name": "python3"
  },
  "language_info": {
   "codemirror_mode": {
    "name": "ipython",
    "version": 3
   },
   "file_extension": ".py",
   "mimetype": "text/x-python",
   "name": "python",
   "nbconvert_exporter": "python",
   "pygments_lexer": "ipython3",
   "version": "3.9.19"
  },
  "toc": {
   "base_numbering": 1,
   "nav_menu": {},
   "number_sections": true,
   "sideBar": true,
   "skip_h1_title": true,
   "title_cell": "Table of Contents",
   "title_sidebar": "Contents",
   "toc_cell": false,
   "toc_position": {
    "height": "calc(100% - 180px)",
    "left": "10px",
    "top": "150px",
    "width": "212.6px"
   },
   "toc_section_display": true,
   "toc_window_display": true
  }
 },
 "nbformat": 4,
 "nbformat_minor": 2
}
